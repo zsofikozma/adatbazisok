{
    "metadata": {
        "kernelspec": {
            "name": "SQL",
            "display_name": "SQL",
            "language": "sql"
        },
        "language_info": {
            "name": "sql",
            "version": ""
        }
    },
    "nbformat_minor": 2,
    "nbformat": 4,
    "cells": [
        {
            "cell_type": "code",
            "source": [
                "hihihi"
            ],
            "metadata": {
                "azdata_cell_guid": "d2c091af-d419-4a9a-abf7-3594473bf569",
                "language": "sql"
            },
            "outputs": [],
            "execution_count": null
        }
    ]
}