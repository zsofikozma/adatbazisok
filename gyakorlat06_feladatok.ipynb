{
    "metadata": {
        "kernelspec": {
            "name": "SQL",
            "display_name": "SQL",
            "language": "sql"
        },
        "language_info": {
            "name": "sql",
            "version": ""
        }
    },
    "nbformat_minor": 2,
    "nbformat": 4,
    "cells": [
        {
            "cell_type": "markdown",
            "source": [
                "1. <span style=\"background-color: rgb(255, 255, 255); color: rgb(0, 0, 0); font-family: &quot;Open Sans&quot;, sans-serif; font-size: 14.44px;\">Készítsünk sorszámozott listát a szálláshelyek adatairól!&nbsp;</span> \n",
                "\n",
                "a. A lista legyen a szálláshely típusa szerint, azon belül hely szerint, majd a neve szerint növekvően rendezve! \n",
                "\n",
                "b. A számozás típusonként kezdődjön újra!"
            ],
            "metadata": {
                "azdata_cell_guid": "363cd270-6577-449b-9c89-d4b7c7972d52"
            },
            "attachments": {}
        },
        {
            "cell_type": "code",
            "source": [
                "SELECT *,\r\n",
                "       ROW_NUMBER() OVER(PARTITION BY tipus ORDER BY tipus, hely, szallas_nev)\r\n",
                "FROM szallashely"
            ],
            "metadata": {
                "azdata_cell_guid": "6ab9f633-a3b5-48c9-a1dc-4fb8235ae85b",
                "language": "sql"
            },
            "outputs": [
                {
                    "output_type": "display_data",
                    "data": {
                        "text/html": "(21 rows affected)"
                    },
                    "metadata": {}
                },
                {
                    "output_type": "display_data",
                    "data": {
                        "text/html": "Total execution time: 00:00:00.045"
                    },
                    "metadata": {}
                },
                {
                    "output_type": "execute_result",
                    "metadata": {},
                    "execution_count": 1,
                    "data": {
                        "application/vnd.dataresource+json": {
                            "schema": {
                                "fields": [
                                    {
                                        "name": "SZALLAS_ID"
                                    },
                                    {
                                        "name": "SZALLAS_NEV"
                                    },
                                    {
                                        "name": "HELY"
                                    },
                                    {
                                        "name": "CSILLAGOK_SZAMA"
                                    },
                                    {
                                        "name": "TIPUS"
                                    },
                                    {
                                        "name": "ROGZITETTE"
                                    },
                                    {
                                        "name": "ROGZ_IDO"
                                    },
                                    {
                                        "name": "CIM"
                                    },
                                    {
                                        "name": "(No column name)"
                                    }
                                ]
                            },
                            "data": [
                                {
                                    "SZALLAS_ID": "7",
                                    "SZALLAS_NEV": "Szieszta Apartmanház",
                                    "HELY": "Balaton-dél",
                                    "CSILLAGOK_SZAMA": "0",
                                    "TIPUS": "Apartman",
                                    "ROGZITETTE": "Mari",
                                    "ROGZ_IDO": "2016-03-11",
                                    "CIM": "8630 Balatonboglár, Dózsa György utca 108",
                                    "(No column name)": "1"
                                },
                                {
                                    "SZALLAS_ID": "18",
                                    "SZALLAS_NEV": "Fortuna Apartman",
                                    "HELY": "Dél-Somogy",
                                    "CSILLAGOK_SZAMA": "0",
                                    "TIPUS": "Apartman",
                                    "ROGZITETTE": "Béla",
                                    "ROGZ_IDO": "2016-04-07",
                                    "CIM": "7570 Barcs, Kossuth u. 13.",
                                    "(No column name)": "2"
                                },
                                {
                                    "SZALLAS_ID": "3",
                                    "SZALLAS_NEV": "Fortuna Apartman",
                                    "HELY": "Hajdúbihar megye",
                                    "CSILLAGOK_SZAMA": "0",
                                    "TIPUS": "Apartman",
                                    "ROGZITETTE": "Sára",
                                    "ROGZ_IDO": "2016-03-06",
                                    "CIM": "4200 Hajdúszoboszló, Wesselényi utca 56.",
                                    "(No column name)": "3"
                                },
                                {
                                    "SZALLAS_ID": "20",
                                    "SZALLAS_NEV": "Kollégium",
                                    "HELY": "Budapest",
                                    "CSILLAGOK_SZAMA": "0",
                                    "TIPUS": "Diákszálló",
                                    "ROGZITETTE": "Sára",
                                    "ROGZ_IDO": "2016-04-07",
                                    "CIM": "1146 Budapest, Ajtósi Dürer sor 23.",
                                    "(No column name)": "1"
                                },
                                {
                                    "SZALLAS_ID": "8",
                                    "SZALLAS_NEV": "Hotel Három Hattyú",
                                    "HELY": "Balaton-dél",
                                    "CSILLAGOK_SZAMA": "4",
                                    "TIPUS": "Hotel",
                                    "ROGZITETTE": "Béla",
                                    "ROGZ_IDO": "2016-03-13",
                                    "CIM": "8623 Balatonföldvár, Rákóczi Ferenc út 45.",
                                    "(No column name)": "1"
                                },
                                {
                                    "SZALLAS_ID": "6",
                                    "SZALLAS_NEV": "Kentaur Hotel",
                                    "HELY": "Balaton-dél",
                                    "CSILLAGOK_SZAMA": "3",
                                    "TIPUS": "Hotel",
                                    "ROGZITETTE": "Béla",
                                    "ROGZ_IDO": "2016-03-08",
                                    "CIM": "8600 Siófok (Széplak), Akácfa utca 1",
                                    "(No column name)": "2"
                                },
                                {
                                    "SZALLAS_ID": "12",
                                    "SZALLAS_NEV": "Gold Hotel",
                                    "HELY": "Budapest",
                                    "CSILLAGOK_SZAMA": "3",
                                    "TIPUS": "Hotel",
                                    "ROGZITETTE": "Béla",
                                    "ROGZ_IDO": "2016-03-24",
                                    "CIM": "1016 Budapest, Hegyalja út 12",
                                    "(No column name)": "3"
                                },
                                {
                                    "SZALLAS_ID": "10",
                                    "SZALLAS_NEV": "Lagúna Hotel",
                                    "HELY": "Budapest",
                                    "CSILLAGOK_SZAMA": "4",
                                    "TIPUS": "Hotel",
                                    "ROGZITETTE": "Sára",
                                    "ROGZ_IDO": "2016-03-20",
                                    "CIM": "1097 Budapest, Albert Flórián út 3",
                                    "(No column name)": "4"
                                },
                                {
                                    "SZALLAS_ID": "16",
                                    "SZALLAS_NEV": "Bagoly Hotel",
                                    "HELY": "Pest megye",
                                    "CSILLAGOK_SZAMA": "3",
                                    "TIPUS": "Hotel",
                                    "ROGZITETTE": "Mari",
                                    "ROGZ_IDO": "2016-04-01",
                                    "CIM": "2230 Gyömrő, Bergszász u. 5.",
                                    "(No column name)": "5"
                                },
                                {
                                    "SZALLAS_ID": "17",
                                    "SZALLAS_NEV": "Szarvas Hotel",
                                    "HELY": "Tolna megye",
                                    "CSILLAGOK_SZAMA": "4",
                                    "TIPUS": "Hotel",
                                    "ROGZITETTE": "Béla",
                                    "ROGZ_IDO": "2016-04-04",
                                    "CIM": "7121 Szálka, Petőfi Sándor u.",
                                    "(No column name)": "6"
                                },
                                {
                                    "SZALLAS_ID": "9",
                                    "SZALLAS_NEV": "Jáde panzió",
                                    "HELY": "Balaton-dél",
                                    "CSILLAGOK_SZAMA": "3",
                                    "TIPUS": "panzió",
                                    "ROGZITETTE": "Mari",
                                    "ROGZ_IDO": "2016-03-16",
                                    "CIM": "8624 Balatonföldvár, Kiss u.2.",
                                    "(No column name)": "1"
                                },
                                {
                                    "SZALLAS_ID": "15",
                                    "SZALLAS_NEV": "Tímárház Panzió",
                                    "HELY": "Balaton-dél",
                                    "CSILLAGOK_SZAMA": "3",
                                    "TIPUS": "panzió",
                                    "ROGZITETTE": "Béla",
                                    "ROGZ_IDO": "2016-03-29",
                                    "CIM": "8600 Siófok, Virág utca 1",
                                    "(No column name)": "2"
                                },
                                {
                                    "SZALLAS_ID": "5",
                                    "SZALLAS_NEV": "Fortuna Panzió",
                                    "HELY": "Békés megye",
                                    "CSILLAGOK_SZAMA": "3",
                                    "TIPUS": "panzió",
                                    "ROGZITETTE": "Sára",
                                    "ROGZ_IDO": "2016-03-08",
                                    "CIM": "5900 Orosháza, Gyopárosfürdő Tópart utca 3.",
                                    "(No column name)": "3"
                                },
                                {
                                    "SZALLAS_ID": "4",
                                    "SZALLAS_NEV": "Fortuna panzió",
                                    "HELY": "Budapest",
                                    "CSILLAGOK_SZAMA": "3",
                                    "TIPUS": "panzió",
                                    "ROGZITETTE": "Béla",
                                    "ROGZ_IDO": "2016-03-07",
                                    "CIM": "1019 Budapest XIV. Cinkotai út 86.",
                                    "(No column name)": "4"
                                },
                                {
                                    "SZALLAS_ID": "13",
                                    "SZALLAS_NEV": "Riviéra Panzió",
                                    "HELY": "Csongrád megye",
                                    "CSILLAGOK_SZAMA": "3",
                                    "TIPUS": "panzió",
                                    "ROGZITETTE": "Sára",
                                    "ROGZ_IDO": "2016-03-27",
                                    "CIM": "6722 Szeged, Petőfi Sándor út 3.",
                                    "(No column name)": "5"
                                },
                                {
                                    "SZALLAS_ID": "2",
                                    "SZALLAS_NEV": "Családi Ház",
                                    "HELY": "Balaton-dél",
                                    "CSILLAGOK_SZAMA": "0",
                                    "TIPUS": "vendégház",
                                    "ROGZITETTE": "Béla",
                                    "ROGZ_IDO": "2016-03-02",
                                    "CIM": "8630 Balatonboglár, József Attila utca 25",
                                    "(No column name)": "1"
                                },
                                {
                                    "SZALLAS_ID": "1",
                                    "SZALLAS_NEV": "Sába-Ház",
                                    "HELY": "Balaton-dél",
                                    "CSILLAGOK_SZAMA": "0",
                                    "TIPUS": "vendégház",
                                    "ROGZITETTE": "Béla",
                                    "ROGZ_IDO": "2016-02-28",
                                    "CIM": "8630 Balatonboglár, Radnóti Miklós utca 8",
                                    "(No column name)": "2"
                                },
                                {
                                    "SZALLAS_ID": "11",
                                    "SZALLAS_NEV": "Partiszél Vendégház",
                                    "HELY": "Balaton-észak",
                                    "CSILLAGOK_SZAMA": "0",
                                    "TIPUS": "vendégház",
                                    "ROGZITETTE": "Béla",
                                    "ROGZ_IDO": "2016-03-22",
                                    "CIM": "8220 Balatonalmádi Neptun u. 23.",
                                    "(No column name)": "3"
                                },
                                {
                                    "SZALLAS_ID": "14",
                                    "SZALLAS_NEV": "Nyárfás Vendégház",
                                    "HELY": "Csongrád megye",
                                    "CSILLAGOK_SZAMA": "0",
                                    "TIPUS": "vendégház",
                                    "ROGZITETTE": "Béla",
                                    "ROGZ_IDO": "2016-03-27",
                                    "CIM": "6723 Szeged, Nagy u. 12.",
                                    "(No column name)": "4"
                                },
                                {
                                    "SZALLAS_ID": "21",
                                    "SZALLAS_NEV": "Müller Vendégház",
                                    "HELY": "Dél-Somogy",
                                    "CSILLAGOK_SZAMA": "0",
                                    "TIPUS": "vendégház",
                                    "ROGZITETTE": "Béla",
                                    "ROGZ_IDO": "2016-04-07",
                                    "CIM": "7570 Barcs, Magyar u. 10.",
                                    "(No column name)": "5"
                                },
                                {
                                    "SZALLAS_ID": "19",
                                    "SZALLAS_NEV": "Nyárfás Vendégház",
                                    "HELY": "Dél-Somogy",
                                    "CSILLAGOK_SZAMA": "0",
                                    "TIPUS": "vendégház",
                                    "ROGZITETTE": "Sára",
                                    "ROGZ_IDO": "2016-04-07",
                                    "CIM": "7570 Barcs, Bajcsy-Zs. u. 53",
                                    "(No column name)": "6"
                                }
                            ]
                        },
                        "text/html": [
                            "<table>",
                            "<tr><th>SZALLAS_ID</th><th>SZALLAS_NEV</th><th>HELY</th><th>CSILLAGOK_SZAMA</th><th>TIPUS</th><th>ROGZITETTE</th><th>ROGZ_IDO</th><th>CIM</th><th>(No column name)</th></tr>",
                            "<tr><td>7</td><td>Szieszta Apartmanház</td><td>Balaton-dél</td><td>0</td><td>Apartman</td><td>Mari</td><td>2016-03-11</td><td>8630 Balatonboglár, Dózsa György utca 108</td><td>1</td></tr>",
                            "<tr><td>18</td><td>Fortuna Apartman</td><td>Dél-Somogy</td><td>0</td><td>Apartman</td><td>Béla</td><td>2016-04-07</td><td>7570 Barcs, Kossuth u. 13.</td><td>2</td></tr>",
                            "<tr><td>3</td><td>Fortuna Apartman</td><td>Hajdúbihar megye</td><td>0</td><td>Apartman</td><td>Sára</td><td>2016-03-06</td><td>4200 Hajdúszoboszló, Wesselényi utca 56.</td><td>3</td></tr>",
                            "<tr><td>20</td><td>Kollégium</td><td>Budapest</td><td>0</td><td>Diákszálló</td><td>Sára</td><td>2016-04-07</td><td>1146 Budapest, Ajtósi Dürer sor 23.</td><td>1</td></tr>",
                            "<tr><td>8</td><td>Hotel Három Hattyú</td><td>Balaton-dél</td><td>4</td><td>Hotel</td><td>Béla</td><td>2016-03-13</td><td>8623 Balatonföldvár, Rákóczi Ferenc út 45.</td><td>1</td></tr>",
                            "<tr><td>6</td><td>Kentaur Hotel</td><td>Balaton-dél</td><td>3</td><td>Hotel</td><td>Béla</td><td>2016-03-08</td><td>8600 Siófok (Széplak), Akácfa utca 1</td><td>2</td></tr>",
                            "<tr><td>12</td><td>Gold Hotel</td><td>Budapest</td><td>3</td><td>Hotel</td><td>Béla</td><td>2016-03-24</td><td>1016 Budapest, Hegyalja út 12</td><td>3</td></tr>",
                            "<tr><td>10</td><td>Lagúna Hotel</td><td>Budapest</td><td>4</td><td>Hotel</td><td>Sára</td><td>2016-03-20</td><td>1097 Budapest, Albert Flórián út 3</td><td>4</td></tr>",
                            "<tr><td>16</td><td>Bagoly Hotel</td><td>Pest megye</td><td>3</td><td>Hotel</td><td>Mari</td><td>2016-04-01</td><td>2230 Gyömrő, Bergszász u. 5.</td><td>5</td></tr>",
                            "<tr><td>17</td><td>Szarvas Hotel</td><td>Tolna megye</td><td>4</td><td>Hotel</td><td>Béla</td><td>2016-04-04</td><td>7121 Szálka, Petőfi Sándor u.</td><td>6</td></tr>",
                            "<tr><td>9</td><td>Jáde panzió</td><td>Balaton-dél</td><td>3</td><td>panzió</td><td>Mari</td><td>2016-03-16</td><td>8624 Balatonföldvár, Kiss u.2.</td><td>1</td></tr>",
                            "<tr><td>15</td><td>Tímárház Panzió</td><td>Balaton-dél</td><td>3</td><td>panzió</td><td>Béla</td><td>2016-03-29</td><td>8600 Siófok, Virág utca 1</td><td>2</td></tr>",
                            "<tr><td>5</td><td>Fortuna Panzió</td><td>Békés megye</td><td>3</td><td>panzió</td><td>Sára</td><td>2016-03-08</td><td>5900 Orosháza, Gyopárosfürdő Tópart utca 3.</td><td>3</td></tr>",
                            "<tr><td>4</td><td>Fortuna panzió</td><td>Budapest</td><td>3</td><td>panzió</td><td>Béla</td><td>2016-03-07</td><td>1019 Budapest XIV. Cinkotai út 86.</td><td>4</td></tr>",
                            "<tr><td>13</td><td>Riviéra Panzió</td><td>Csongrád megye</td><td>3</td><td>panzió</td><td>Sára</td><td>2016-03-27</td><td>6722 Szeged, Petőfi Sándor út 3.</td><td>5</td></tr>",
                            "<tr><td>2</td><td>Családi Ház</td><td>Balaton-dél</td><td>0</td><td>vendégház</td><td>Béla</td><td>2016-03-02</td><td>8630 Balatonboglár, József Attila utca 25</td><td>1</td></tr>",
                            "<tr><td>1</td><td>Sába-Ház</td><td>Balaton-dél</td><td>0</td><td>vendégház</td><td>Béla</td><td>2016-02-28</td><td>8630 Balatonboglár, Radnóti Miklós utca 8</td><td>2</td></tr>",
                            "<tr><td>11</td><td>Partiszél Vendégház</td><td>Balaton-észak</td><td>0</td><td>vendégház</td><td>Béla</td><td>2016-03-22</td><td>8220 Balatonalmádi Neptun u. 23.</td><td>3</td></tr>",
                            "<tr><td>14</td><td>Nyárfás Vendégház</td><td>Csongrád megye</td><td>0</td><td>vendégház</td><td>Béla</td><td>2016-03-27</td><td>6723 Szeged, Nagy u. 12.</td><td>4</td></tr>",
                            "<tr><td>21</td><td>Müller Vendégház</td><td>Dél-Somogy</td><td>0</td><td>vendégház</td><td>Béla</td><td>2016-04-07</td><td>7570 Barcs, Magyar u. 10.</td><td>5</td></tr>",
                            "<tr><td>19</td><td>Nyárfás Vendégház</td><td>Dél-Somogy</td><td>0</td><td>vendégház</td><td>Sára</td><td>2016-04-07</td><td>7570 Barcs, Bajcsy-Zs. u. 53</td><td>6</td></tr>",
                            "</table>"
                        ]
                    }
                }
            ],
            "execution_count": 1
        },
        {
            "cell_type": "markdown",
            "source": [
                "2. <span style=\"background-color: rgb(255, 255, 255); color: rgb(0, 0, 0); font-family: &quot;Open Sans&quot;, sans-serif; font-size: 14.44px;\">Készítsünk lekérdezést, amely a foglalások adatait jeleníti meg!&nbsp;</span> \n",
                "\n",
                "a. A lista tartalmazzon két új oszlopot, amelyek az adott ügyfél legrövidebb, illetve leghosszabb foglalásának hosszát (a foglalt napok számát) mutatják meg! \n",
                "\n",
                "b. Az oszlopokat nevezzük el értelemszerűen!"
            ],
            "metadata": {
                "azdata_cell_guid": "ea75c103-911f-41a3-a32c-3d40fb3e4e4a"
            },
            "attachments": {}
        },
        {
            "cell_type": "code",
            "source": [
                "SELECT szh.SZALLAS_ID,\r\n",
                "       szh.SZALLAS_NEV,\r\n",
                "       YEAR(f.METTOL),\r\n",
                "       COUNT(f.FOGLALAS_PK) OVER(PARTITION BY szh.SZALLAS_ID, YEAR(f.METTOL)) AS 'Foglalások száma',\r\n",
                "       COUNT(f.FOGLALAS_PK) OVER(PARTITION BY szh.SZALLAS_ID, YEAR(f.METTOL) \r\n",
                "                                 ORDER BY f.METTOL RANGE BETWEEN UNBOUNDED PRECEDING AND CURRENT ROW) AS 'Eddigi foglalások száma'\r\n",
                "FROM Szallashely szh\r\n",
                "     JOIN Szoba sz ON szh.SZALLAS_ID = sz.SZALLAS_FK\r\n",
                "     JOIN Foglalas f ON sz.SZOBA_ID = f.SZOBA_FK"
            ],
            "metadata": {
                "azdata_cell_guid": "222b9618-a8e8-42b4-a8e8-d002257122b7",
                "language": "sql"
            },
            "outputs": [
                {
                    "output_type": "display_data",
                    "data": {
                        "text/html": "(1027 rows affected)"
                    },
                    "metadata": {}
                },
                {
                    "output_type": "display_data",
                    "data": {
                        "text/html": "Total execution time: 00:00:00.050"
                    },
                    "metadata": {}
                },
                {
                    "output_type": "execute_result",
                    "metadata": {},
                    "execution_count": 4,
                    "data": {
                        "application/vnd.dataresource+json": {
                            "schema": {
                                "fields": [
                                    {
                                        "name": "SZALLAS_ID"
                                    },
                                    {
                                        "name": "SZALLAS_NEV"
                                    },
                                    {
                                        "name": "(No column name)"
                                    },
                                    {
                                        "name": "Foglalások száma"
                                    },
                                    {
                                        "name": "Eddigi foglalások száma"
                                    }
                                ]
                            },
                            "data": [
                                {
                                    "SZALLAS_ID": "1",
                                    "SZALLAS_NEV": "Sába-Ház",
                                    "(No column name)": "2016",
                                    "Foglalások száma": "63",
                                    "Eddigi foglalások száma": "2"
                                },
                                {
                                    "SZALLAS_ID": "1",
                                    "SZALLAS_NEV": "Sába-Ház",
                                    "(No column name)": "2016",
                                    "Foglalások száma": "63",
                                    "Eddigi foglalások száma": "2"
                                },
                                {
                                    "SZALLAS_ID": "1",
                                    "SZALLAS_NEV": "Sába-Ház",
                                    "(No column name)": "2016",
                                    "Foglalások száma": "63",
                                    "Eddigi foglalások száma": "3"
                                },
                                {
                                    "SZALLAS_ID": "1",
                                    "SZALLAS_NEV": "Sába-Ház",
                                    "(No column name)": "2016",
                                    "Foglalások száma": "63",
                                    "Eddigi foglalások száma": "4"
                                },
                                {
                                    "SZALLAS_ID": "1",
                                    "SZALLAS_NEV": "Sába-Ház",
                                    "(No column name)": "2016",
                                    "Foglalások száma": "63",
                                    "Eddigi foglalások száma": "5"
                                },
                                {
                                    "SZALLAS_ID": "1",
                                    "SZALLAS_NEV": "Sába-Ház",
                                    "(No column name)": "2016",
                                    "Foglalások száma": "63",
                                    "Eddigi foglalások száma": "6"
                                },
                                {
                                    "SZALLAS_ID": "1",
                                    "SZALLAS_NEV": "Sába-Ház",
                                    "(No column name)": "2016",
                                    "Foglalások száma": "63",
                                    "Eddigi foglalások száma": "7"
                                },
                                {
                                    "SZALLAS_ID": "1",
                                    "SZALLAS_NEV": "Sába-Ház",
                                    "(No column name)": "2016",
                                    "Foglalások száma": "63",
                                    "Eddigi foglalások száma": "8"
                                },
                                {
                                    "SZALLAS_ID": "1",
                                    "SZALLAS_NEV": "Sába-Ház",
                                    "(No column name)": "2016",
                                    "Foglalások száma": "63",
                                    "Eddigi foglalások száma": "9"
                                },
                                {
                                    "SZALLAS_ID": "1",
                                    "SZALLAS_NEV": "Sába-Ház",
                                    "(No column name)": "2016",
                                    "Foglalások száma": "63",
                                    "Eddigi foglalások száma": "11"
                                },
                                {
                                    "SZALLAS_ID": "1",
                                    "SZALLAS_NEV": "Sába-Ház",
                                    "(No column name)": "2016",
                                    "Foglalások száma": "63",
                                    "Eddigi foglalások száma": "11"
                                },
                                {
                                    "SZALLAS_ID": "1",
                                    "SZALLAS_NEV": "Sába-Ház",
                                    "(No column name)": "2016",
                                    "Foglalások száma": "63",
                                    "Eddigi foglalások száma": "12"
                                },
                                {
                                    "SZALLAS_ID": "1",
                                    "SZALLAS_NEV": "Sába-Ház",
                                    "(No column name)": "2016",
                                    "Foglalások száma": "63",
                                    "Eddigi foglalások száma": "15"
                                },
                                {
                                    "SZALLAS_ID": "1",
                                    "SZALLAS_NEV": "Sába-Ház",
                                    "(No column name)": "2016",
                                    "Foglalások száma": "63",
                                    "Eddigi foglalások száma": "15"
                                },
                                {
                                    "SZALLAS_ID": "1",
                                    "SZALLAS_NEV": "Sába-Ház",
                                    "(No column name)": "2016",
                                    "Foglalások száma": "63",
                                    "Eddigi foglalások száma": "15"
                                },
                                {
                                    "SZALLAS_ID": "1",
                                    "SZALLAS_NEV": "Sába-Ház",
                                    "(No column name)": "2016",
                                    "Foglalások száma": "63",
                                    "Eddigi foglalások száma": "16"
                                },
                                {
                                    "SZALLAS_ID": "1",
                                    "SZALLAS_NEV": "Sába-Ház",
                                    "(No column name)": "2016",
                                    "Foglalások száma": "63",
                                    "Eddigi foglalások száma": "17"
                                },
                                {
                                    "SZALLAS_ID": "1",
                                    "SZALLAS_NEV": "Sába-Ház",
                                    "(No column name)": "2016",
                                    "Foglalások száma": "63",
                                    "Eddigi foglalások száma": "18"
                                },
                                {
                                    "SZALLAS_ID": "1",
                                    "SZALLAS_NEV": "Sába-Ház",
                                    "(No column name)": "2016",
                                    "Foglalások száma": "63",
                                    "Eddigi foglalások száma": "19"
                                },
                                {
                                    "SZALLAS_ID": "1",
                                    "SZALLAS_NEV": "Sába-Ház",
                                    "(No column name)": "2016",
                                    "Foglalások száma": "63",
                                    "Eddigi foglalások száma": "20"
                                },
                                {
                                    "SZALLAS_ID": "1",
                                    "SZALLAS_NEV": "Sába-Ház",
                                    "(No column name)": "2016",
                                    "Foglalások száma": "63",
                                    "Eddigi foglalások száma": "21"
                                },
                                {
                                    "SZALLAS_ID": "1",
                                    "SZALLAS_NEV": "Sába-Ház",
                                    "(No column name)": "2016",
                                    "Foglalások száma": "63",
                                    "Eddigi foglalások száma": "22"
                                },
                                {
                                    "SZALLAS_ID": "1",
                                    "SZALLAS_NEV": "Sába-Ház",
                                    "(No column name)": "2016",
                                    "Foglalások száma": "63",
                                    "Eddigi foglalások száma": "24"
                                },
                                {
                                    "SZALLAS_ID": "1",
                                    "SZALLAS_NEV": "Sába-Ház",
                                    "(No column name)": "2016",
                                    "Foglalások száma": "63",
                                    "Eddigi foglalások száma": "24"
                                },
                                {
                                    "SZALLAS_ID": "1",
                                    "SZALLAS_NEV": "Sába-Ház",
                                    "(No column name)": "2016",
                                    "Foglalások száma": "63",
                                    "Eddigi foglalások száma": "25"
                                },
                                {
                                    "SZALLAS_ID": "1",
                                    "SZALLAS_NEV": "Sába-Ház",
                                    "(No column name)": "2016",
                                    "Foglalások száma": "63",
                                    "Eddigi foglalások száma": "26"
                                },
                                {
                                    "SZALLAS_ID": "1",
                                    "SZALLAS_NEV": "Sába-Ház",
                                    "(No column name)": "2016",
                                    "Foglalások száma": "63",
                                    "Eddigi foglalások száma": "27"
                                },
                                {
                                    "SZALLAS_ID": "1",
                                    "SZALLAS_NEV": "Sába-Ház",
                                    "(No column name)": "2016",
                                    "Foglalások száma": "63",
                                    "Eddigi foglalások száma": "28"
                                },
                                {
                                    "SZALLAS_ID": "1",
                                    "SZALLAS_NEV": "Sába-Ház",
                                    "(No column name)": "2016",
                                    "Foglalások száma": "63",
                                    "Eddigi foglalások száma": "30"
                                },
                                {
                                    "SZALLAS_ID": "1",
                                    "SZALLAS_NEV": "Sába-Ház",
                                    "(No column name)": "2016",
                                    "Foglalások száma": "63",
                                    "Eddigi foglalások száma": "30"
                                },
                                {
                                    "SZALLAS_ID": "1",
                                    "SZALLAS_NEV": "Sába-Ház",
                                    "(No column name)": "2016",
                                    "Foglalások száma": "63",
                                    "Eddigi foglalások száma": "31"
                                },
                                {
                                    "SZALLAS_ID": "1",
                                    "SZALLAS_NEV": "Sába-Ház",
                                    "(No column name)": "2016",
                                    "Foglalások száma": "63",
                                    "Eddigi foglalások száma": "32"
                                },
                                {
                                    "SZALLAS_ID": "1",
                                    "SZALLAS_NEV": "Sába-Ház",
                                    "(No column name)": "2016",
                                    "Foglalások száma": "63",
                                    "Eddigi foglalások száma": "33"
                                },
                                {
                                    "SZALLAS_ID": "1",
                                    "SZALLAS_NEV": "Sába-Ház",
                                    "(No column name)": "2016",
                                    "Foglalások száma": "63",
                                    "Eddigi foglalások száma": "34"
                                },
                                {
                                    "SZALLAS_ID": "1",
                                    "SZALLAS_NEV": "Sába-Ház",
                                    "(No column name)": "2016",
                                    "Foglalások száma": "63",
                                    "Eddigi foglalások száma": "35"
                                },
                                {
                                    "SZALLAS_ID": "1",
                                    "SZALLAS_NEV": "Sába-Ház",
                                    "(No column name)": "2016",
                                    "Foglalások száma": "63",
                                    "Eddigi foglalások száma": "36"
                                },
                                {
                                    "SZALLAS_ID": "1",
                                    "SZALLAS_NEV": "Sába-Ház",
                                    "(No column name)": "2016",
                                    "Foglalások száma": "63",
                                    "Eddigi foglalások száma": "37"
                                },
                                {
                                    "SZALLAS_ID": "1",
                                    "SZALLAS_NEV": "Sába-Ház",
                                    "(No column name)": "2016",
                                    "Foglalások száma": "63",
                                    "Eddigi foglalások száma": "38"
                                },
                                {
                                    "SZALLAS_ID": "1",
                                    "SZALLAS_NEV": "Sába-Ház",
                                    "(No column name)": "2016",
                                    "Foglalások száma": "63",
                                    "Eddigi foglalások száma": "39"
                                },
                                {
                                    "SZALLAS_ID": "1",
                                    "SZALLAS_NEV": "Sába-Ház",
                                    "(No column name)": "2016",
                                    "Foglalások száma": "63",
                                    "Eddigi foglalások száma": "40"
                                },
                                {
                                    "SZALLAS_ID": "1",
                                    "SZALLAS_NEV": "Sába-Ház",
                                    "(No column name)": "2016",
                                    "Foglalások száma": "63",
                                    "Eddigi foglalások száma": "42"
                                },
                                {
                                    "SZALLAS_ID": "1",
                                    "SZALLAS_NEV": "Sába-Ház",
                                    "(No column name)": "2016",
                                    "Foglalások száma": "63",
                                    "Eddigi foglalások száma": "42"
                                },
                                {
                                    "SZALLAS_ID": "1",
                                    "SZALLAS_NEV": "Sába-Ház",
                                    "(No column name)": "2016",
                                    "Foglalások száma": "63",
                                    "Eddigi foglalások száma": "43"
                                },
                                {
                                    "SZALLAS_ID": "1",
                                    "SZALLAS_NEV": "Sába-Ház",
                                    "(No column name)": "2016",
                                    "Foglalások száma": "63",
                                    "Eddigi foglalások száma": "44"
                                },
                                {
                                    "SZALLAS_ID": "1",
                                    "SZALLAS_NEV": "Sába-Ház",
                                    "(No column name)": "2016",
                                    "Foglalások száma": "63",
                                    "Eddigi foglalások száma": "46"
                                },
                                {
                                    "SZALLAS_ID": "1",
                                    "SZALLAS_NEV": "Sába-Ház",
                                    "(No column name)": "2016",
                                    "Foglalások száma": "63",
                                    "Eddigi foglalások száma": "46"
                                },
                                {
                                    "SZALLAS_ID": "1",
                                    "SZALLAS_NEV": "Sába-Ház",
                                    "(No column name)": "2016",
                                    "Foglalások száma": "63",
                                    "Eddigi foglalások száma": "48"
                                },
                                {
                                    "SZALLAS_ID": "1",
                                    "SZALLAS_NEV": "Sába-Ház",
                                    "(No column name)": "2016",
                                    "Foglalások száma": "63",
                                    "Eddigi foglalások száma": "48"
                                },
                                {
                                    "SZALLAS_ID": "1",
                                    "SZALLAS_NEV": "Sába-Ház",
                                    "(No column name)": "2016",
                                    "Foglalások száma": "63",
                                    "Eddigi foglalások száma": "49"
                                },
                                {
                                    "SZALLAS_ID": "1",
                                    "SZALLAS_NEV": "Sába-Ház",
                                    "(No column name)": "2016",
                                    "Foglalások száma": "63",
                                    "Eddigi foglalások száma": "51"
                                },
                                {
                                    "SZALLAS_ID": "1",
                                    "SZALLAS_NEV": "Sába-Ház",
                                    "(No column name)": "2016",
                                    "Foglalások száma": "63",
                                    "Eddigi foglalások száma": "51"
                                },
                                {
                                    "SZALLAS_ID": "1",
                                    "SZALLAS_NEV": "Sába-Ház",
                                    "(No column name)": "2016",
                                    "Foglalások száma": "63",
                                    "Eddigi foglalások száma": "52"
                                },
                                {
                                    "SZALLAS_ID": "1",
                                    "SZALLAS_NEV": "Sába-Ház",
                                    "(No column name)": "2016",
                                    "Foglalások száma": "63",
                                    "Eddigi foglalások száma": "53"
                                },
                                {
                                    "SZALLAS_ID": "1",
                                    "SZALLAS_NEV": "Sába-Ház",
                                    "(No column name)": "2016",
                                    "Foglalások száma": "63",
                                    "Eddigi foglalások száma": "54"
                                },
                                {
                                    "SZALLAS_ID": "1",
                                    "SZALLAS_NEV": "Sába-Ház",
                                    "(No column name)": "2016",
                                    "Foglalások száma": "63",
                                    "Eddigi foglalások száma": "55"
                                },
                                {
                                    "SZALLAS_ID": "1",
                                    "SZALLAS_NEV": "Sába-Ház",
                                    "(No column name)": "2016",
                                    "Foglalások száma": "63",
                                    "Eddigi foglalások száma": "56"
                                },
                                {
                                    "SZALLAS_ID": "1",
                                    "SZALLAS_NEV": "Sába-Ház",
                                    "(No column name)": "2016",
                                    "Foglalások száma": "63",
                                    "Eddigi foglalások száma": "57"
                                },
                                {
                                    "SZALLAS_ID": "1",
                                    "SZALLAS_NEV": "Sába-Ház",
                                    "(No column name)": "2016",
                                    "Foglalások száma": "63",
                                    "Eddigi foglalások száma": "59"
                                },
                                {
                                    "SZALLAS_ID": "1",
                                    "SZALLAS_NEV": "Sába-Ház",
                                    "(No column name)": "2016",
                                    "Foglalások száma": "63",
                                    "Eddigi foglalások száma": "59"
                                },
                                {
                                    "SZALLAS_ID": "1",
                                    "SZALLAS_NEV": "Sába-Ház",
                                    "(No column name)": "2016",
                                    "Foglalások száma": "63",
                                    "Eddigi foglalások száma": "60"
                                },
                                {
                                    "SZALLAS_ID": "1",
                                    "SZALLAS_NEV": "Sába-Ház",
                                    "(No column name)": "2016",
                                    "Foglalások száma": "63",
                                    "Eddigi foglalások száma": "61"
                                },
                                {
                                    "SZALLAS_ID": "1",
                                    "SZALLAS_NEV": "Sába-Ház",
                                    "(No column name)": "2016",
                                    "Foglalások száma": "63",
                                    "Eddigi foglalások száma": "62"
                                },
                                {
                                    "SZALLAS_ID": "1",
                                    "SZALLAS_NEV": "Sába-Ház",
                                    "(No column name)": "2016",
                                    "Foglalások száma": "63",
                                    "Eddigi foglalások száma": "63"
                                },
                                {
                                    "SZALLAS_ID": "1",
                                    "SZALLAS_NEV": "Sába-Ház",
                                    "(No column name)": "2017",
                                    "Foglalások száma": "7",
                                    "Eddigi foglalások száma": "1"
                                },
                                {
                                    "SZALLAS_ID": "1",
                                    "SZALLAS_NEV": "Sába-Ház",
                                    "(No column name)": "2017",
                                    "Foglalások száma": "7",
                                    "Eddigi foglalások száma": "2"
                                },
                                {
                                    "SZALLAS_ID": "1",
                                    "SZALLAS_NEV": "Sába-Ház",
                                    "(No column name)": "2017",
                                    "Foglalások száma": "7",
                                    "Eddigi foglalások száma": "3"
                                },
                                {
                                    "SZALLAS_ID": "1",
                                    "SZALLAS_NEV": "Sába-Ház",
                                    "(No column name)": "2017",
                                    "Foglalások száma": "7",
                                    "Eddigi foglalások száma": "4"
                                },
                                {
                                    "SZALLAS_ID": "1",
                                    "SZALLAS_NEV": "Sába-Ház",
                                    "(No column name)": "2017",
                                    "Foglalások száma": "7",
                                    "Eddigi foglalások száma": "5"
                                },
                                {
                                    "SZALLAS_ID": "1",
                                    "SZALLAS_NEV": "Sába-Ház",
                                    "(No column name)": "2017",
                                    "Foglalások száma": "7",
                                    "Eddigi foglalások száma": "7"
                                },
                                {
                                    "SZALLAS_ID": "1",
                                    "SZALLAS_NEV": "Sába-Ház",
                                    "(No column name)": "2017",
                                    "Foglalások száma": "7",
                                    "Eddigi foglalások száma": "7"
                                },
                                {
                                    "SZALLAS_ID": "2",
                                    "SZALLAS_NEV": "Családi Ház",
                                    "(No column name)": "2016",
                                    "Foglalások száma": "13",
                                    "Eddigi foglalások száma": "1"
                                },
                                {
                                    "SZALLAS_ID": "2",
                                    "SZALLAS_NEV": "Családi Ház",
                                    "(No column name)": "2016",
                                    "Foglalások száma": "13",
                                    "Eddigi foglalások száma": "2"
                                },
                                {
                                    "SZALLAS_ID": "2",
                                    "SZALLAS_NEV": "Családi Ház",
                                    "(No column name)": "2016",
                                    "Foglalások száma": "13",
                                    "Eddigi foglalások száma": "3"
                                },
                                {
                                    "SZALLAS_ID": "2",
                                    "SZALLAS_NEV": "Családi Ház",
                                    "(No column name)": "2016",
                                    "Foglalások száma": "13",
                                    "Eddigi foglalások száma": "4"
                                },
                                {
                                    "SZALLAS_ID": "2",
                                    "SZALLAS_NEV": "Családi Ház",
                                    "(No column name)": "2016",
                                    "Foglalások száma": "13",
                                    "Eddigi foglalások száma": "5"
                                },
                                {
                                    "SZALLAS_ID": "2",
                                    "SZALLAS_NEV": "Családi Ház",
                                    "(No column name)": "2016",
                                    "Foglalások száma": "13",
                                    "Eddigi foglalások száma": "6"
                                },
                                {
                                    "SZALLAS_ID": "2",
                                    "SZALLAS_NEV": "Családi Ház",
                                    "(No column name)": "2016",
                                    "Foglalások száma": "13",
                                    "Eddigi foglalások száma": "7"
                                },
                                {
                                    "SZALLAS_ID": "2",
                                    "SZALLAS_NEV": "Családi Ház",
                                    "(No column name)": "2016",
                                    "Foglalások száma": "13",
                                    "Eddigi foglalások száma": "8"
                                },
                                {
                                    "SZALLAS_ID": "2",
                                    "SZALLAS_NEV": "Családi Ház",
                                    "(No column name)": "2016",
                                    "Foglalások száma": "13",
                                    "Eddigi foglalások száma": "9"
                                },
                                {
                                    "SZALLAS_ID": "2",
                                    "SZALLAS_NEV": "Családi Ház",
                                    "(No column name)": "2016",
                                    "Foglalások száma": "13",
                                    "Eddigi foglalások száma": "10"
                                },
                                {
                                    "SZALLAS_ID": "2",
                                    "SZALLAS_NEV": "Családi Ház",
                                    "(No column name)": "2016",
                                    "Foglalások száma": "13",
                                    "Eddigi foglalások száma": "11"
                                },
                                {
                                    "SZALLAS_ID": "2",
                                    "SZALLAS_NEV": "Családi Ház",
                                    "(No column name)": "2016",
                                    "Foglalások száma": "13",
                                    "Eddigi foglalások száma": "12"
                                },
                                {
                                    "SZALLAS_ID": "2",
                                    "SZALLAS_NEV": "Családi Ház",
                                    "(No column name)": "2016",
                                    "Foglalások száma": "13",
                                    "Eddigi foglalások száma": "13"
                                },
                                {
                                    "SZALLAS_ID": "2",
                                    "SZALLAS_NEV": "Családi Ház",
                                    "(No column name)": "2017",
                                    "Foglalások száma": "5",
                                    "Eddigi foglalások száma": "1"
                                },
                                {
                                    "SZALLAS_ID": "2",
                                    "SZALLAS_NEV": "Családi Ház",
                                    "(No column name)": "2017",
                                    "Foglalások száma": "5",
                                    "Eddigi foglalások száma": "2"
                                },
                                {
                                    "SZALLAS_ID": "2",
                                    "SZALLAS_NEV": "Családi Ház",
                                    "(No column name)": "2017",
                                    "Foglalások száma": "5",
                                    "Eddigi foglalások száma": "3"
                                },
                                {
                                    "SZALLAS_ID": "2",
                                    "SZALLAS_NEV": "Családi Ház",
                                    "(No column name)": "2017",
                                    "Foglalások száma": "5",
                                    "Eddigi foglalások száma": "4"
                                },
                                {
                                    "SZALLAS_ID": "2",
                                    "SZALLAS_NEV": "Családi Ház",
                                    "(No column name)": "2017",
                                    "Foglalások száma": "5",
                                    "Eddigi foglalások száma": "5"
                                },
                                {
                                    "SZALLAS_ID": "3",
                                    "SZALLAS_NEV": "Fortuna Apartman",
                                    "(No column name)": "2016",
                                    "Foglalások száma": "35",
                                    "Eddigi foglalások száma": "1"
                                },
                                {
                                    "SZALLAS_ID": "3",
                                    "SZALLAS_NEV": "Fortuna Apartman",
                                    "(No column name)": "2016",
                                    "Foglalások száma": "35",
                                    "Eddigi foglalások száma": "2"
                                },
                                {
                                    "SZALLAS_ID": "3",
                                    "SZALLAS_NEV": "Fortuna Apartman",
                                    "(No column name)": "2016",
                                    "Foglalások száma": "35",
                                    "Eddigi foglalások száma": "3"
                                },
                                {
                                    "SZALLAS_ID": "3",
                                    "SZALLAS_NEV": "Fortuna Apartman",
                                    "(No column name)": "2016",
                                    "Foglalások száma": "35",
                                    "Eddigi foglalások száma": "4"
                                },
                                {
                                    "SZALLAS_ID": "3",
                                    "SZALLAS_NEV": "Fortuna Apartman",
                                    "(No column name)": "2016",
                                    "Foglalások száma": "35",
                                    "Eddigi foglalások száma": "5"
                                },
                                {
                                    "SZALLAS_ID": "3",
                                    "SZALLAS_NEV": "Fortuna Apartman",
                                    "(No column name)": "2016",
                                    "Foglalások száma": "35",
                                    "Eddigi foglalások száma": "6"
                                },
                                {
                                    "SZALLAS_ID": "3",
                                    "SZALLAS_NEV": "Fortuna Apartman",
                                    "(No column name)": "2016",
                                    "Foglalások száma": "35",
                                    "Eddigi foglalások száma": "7"
                                },
                                {
                                    "SZALLAS_ID": "3",
                                    "SZALLAS_NEV": "Fortuna Apartman",
                                    "(No column name)": "2016",
                                    "Foglalások száma": "35",
                                    "Eddigi foglalások száma": "8"
                                },
                                {
                                    "SZALLAS_ID": "3",
                                    "SZALLAS_NEV": "Fortuna Apartman",
                                    "(No column name)": "2016",
                                    "Foglalások száma": "35",
                                    "Eddigi foglalások száma": "10"
                                },
                                {
                                    "SZALLAS_ID": "3",
                                    "SZALLAS_NEV": "Fortuna Apartman",
                                    "(No column name)": "2016",
                                    "Foglalások száma": "35",
                                    "Eddigi foglalások száma": "10"
                                },
                                {
                                    "SZALLAS_ID": "3",
                                    "SZALLAS_NEV": "Fortuna Apartman",
                                    "(No column name)": "2016",
                                    "Foglalások száma": "35",
                                    "Eddigi foglalások száma": "11"
                                },
                                {
                                    "SZALLAS_ID": "3",
                                    "SZALLAS_NEV": "Fortuna Apartman",
                                    "(No column name)": "2016",
                                    "Foglalások száma": "35",
                                    "Eddigi foglalások száma": "12"
                                },
                                {
                                    "SZALLAS_ID": "3",
                                    "SZALLAS_NEV": "Fortuna Apartman",
                                    "(No column name)": "2016",
                                    "Foglalások száma": "35",
                                    "Eddigi foglalások száma": "13"
                                },
                                {
                                    "SZALLAS_ID": "3",
                                    "SZALLAS_NEV": "Fortuna Apartman",
                                    "(No column name)": "2016",
                                    "Foglalások száma": "35",
                                    "Eddigi foglalások száma": "14"
                                },
                                {
                                    "SZALLAS_ID": "3",
                                    "SZALLAS_NEV": "Fortuna Apartman",
                                    "(No column name)": "2016",
                                    "Foglalások száma": "35",
                                    "Eddigi foglalások száma": "15"
                                },
                                {
                                    "SZALLAS_ID": "3",
                                    "SZALLAS_NEV": "Fortuna Apartman",
                                    "(No column name)": "2016",
                                    "Foglalások száma": "35",
                                    "Eddigi foglalások száma": "16"
                                },
                                {
                                    "SZALLAS_ID": "3",
                                    "SZALLAS_NEV": "Fortuna Apartman",
                                    "(No column name)": "2016",
                                    "Foglalások száma": "35",
                                    "Eddigi foglalások száma": "17"
                                },
                                {
                                    "SZALLAS_ID": "3",
                                    "SZALLAS_NEV": "Fortuna Apartman",
                                    "(No column name)": "2016",
                                    "Foglalások száma": "35",
                                    "Eddigi foglalások száma": "18"
                                },
                                {
                                    "SZALLAS_ID": "3",
                                    "SZALLAS_NEV": "Fortuna Apartman",
                                    "(No column name)": "2016",
                                    "Foglalások száma": "35",
                                    "Eddigi foglalások száma": "19"
                                },
                                {
                                    "SZALLAS_ID": "3",
                                    "SZALLAS_NEV": "Fortuna Apartman",
                                    "(No column name)": "2016",
                                    "Foglalások száma": "35",
                                    "Eddigi foglalások száma": "20"
                                },
                                {
                                    "SZALLAS_ID": "3",
                                    "SZALLAS_NEV": "Fortuna Apartman",
                                    "(No column name)": "2016",
                                    "Foglalások száma": "35",
                                    "Eddigi foglalások száma": "21"
                                },
                                {
                                    "SZALLAS_ID": "3",
                                    "SZALLAS_NEV": "Fortuna Apartman",
                                    "(No column name)": "2016",
                                    "Foglalások száma": "35",
                                    "Eddigi foglalások száma": "22"
                                },
                                {
                                    "SZALLAS_ID": "3",
                                    "SZALLAS_NEV": "Fortuna Apartman",
                                    "(No column name)": "2016",
                                    "Foglalások száma": "35",
                                    "Eddigi foglalások száma": "24"
                                },
                                {
                                    "SZALLAS_ID": "3",
                                    "SZALLAS_NEV": "Fortuna Apartman",
                                    "(No column name)": "2016",
                                    "Foglalások száma": "35",
                                    "Eddigi foglalások száma": "24"
                                },
                                {
                                    "SZALLAS_ID": "3",
                                    "SZALLAS_NEV": "Fortuna Apartman",
                                    "(No column name)": "2016",
                                    "Foglalások száma": "35",
                                    "Eddigi foglalások száma": "25"
                                },
                                {
                                    "SZALLAS_ID": "3",
                                    "SZALLAS_NEV": "Fortuna Apartman",
                                    "(No column name)": "2016",
                                    "Foglalások száma": "35",
                                    "Eddigi foglalások száma": "26"
                                },
                                {
                                    "SZALLAS_ID": "3",
                                    "SZALLAS_NEV": "Fortuna Apartman",
                                    "(No column name)": "2016",
                                    "Foglalások száma": "35",
                                    "Eddigi foglalások száma": "27"
                                },
                                {
                                    "SZALLAS_ID": "3",
                                    "SZALLAS_NEV": "Fortuna Apartman",
                                    "(No column name)": "2016",
                                    "Foglalások száma": "35",
                                    "Eddigi foglalások száma": "28"
                                },
                                {
                                    "SZALLAS_ID": "3",
                                    "SZALLAS_NEV": "Fortuna Apartman",
                                    "(No column name)": "2016",
                                    "Foglalások száma": "35",
                                    "Eddigi foglalások száma": "30"
                                },
                                {
                                    "SZALLAS_ID": "3",
                                    "SZALLAS_NEV": "Fortuna Apartman",
                                    "(No column name)": "2016",
                                    "Foglalások száma": "35",
                                    "Eddigi foglalások száma": "30"
                                },
                                {
                                    "SZALLAS_ID": "3",
                                    "SZALLAS_NEV": "Fortuna Apartman",
                                    "(No column name)": "2016",
                                    "Foglalások száma": "35",
                                    "Eddigi foglalások száma": "31"
                                },
                                {
                                    "SZALLAS_ID": "3",
                                    "SZALLAS_NEV": "Fortuna Apartman",
                                    "(No column name)": "2016",
                                    "Foglalások száma": "35",
                                    "Eddigi foglalások száma": "32"
                                },
                                {
                                    "SZALLAS_ID": "3",
                                    "SZALLAS_NEV": "Fortuna Apartman",
                                    "(No column name)": "2016",
                                    "Foglalások száma": "35",
                                    "Eddigi foglalások száma": "33"
                                },
                                {
                                    "SZALLAS_ID": "3",
                                    "SZALLAS_NEV": "Fortuna Apartman",
                                    "(No column name)": "2016",
                                    "Foglalások száma": "35",
                                    "Eddigi foglalások száma": "34"
                                },
                                {
                                    "SZALLAS_ID": "3",
                                    "SZALLAS_NEV": "Fortuna Apartman",
                                    "(No column name)": "2016",
                                    "Foglalások száma": "35",
                                    "Eddigi foglalások száma": "35"
                                },
                                {
                                    "SZALLAS_ID": "3",
                                    "SZALLAS_NEV": "Fortuna Apartman",
                                    "(No column name)": "2017",
                                    "Foglalások száma": "4",
                                    "Eddigi foglalások száma": "1"
                                },
                                {
                                    "SZALLAS_ID": "3",
                                    "SZALLAS_NEV": "Fortuna Apartman",
                                    "(No column name)": "2017",
                                    "Foglalások száma": "4",
                                    "Eddigi foglalások száma": "2"
                                },
                                {
                                    "SZALLAS_ID": "3",
                                    "SZALLAS_NEV": "Fortuna Apartman",
                                    "(No column name)": "2017",
                                    "Foglalások száma": "4",
                                    "Eddigi foglalások száma": "3"
                                },
                                {
                                    "SZALLAS_ID": "3",
                                    "SZALLAS_NEV": "Fortuna Apartman",
                                    "(No column name)": "2017",
                                    "Foglalások száma": "4",
                                    "Eddigi foglalások száma": "4"
                                },
                                {
                                    "SZALLAS_ID": "4",
                                    "SZALLAS_NEV": "Fortuna panzió",
                                    "(No column name)": "2016",
                                    "Foglalások száma": "61",
                                    "Eddigi foglalások száma": "1"
                                },
                                {
                                    "SZALLAS_ID": "4",
                                    "SZALLAS_NEV": "Fortuna panzió",
                                    "(No column name)": "2016",
                                    "Foglalások száma": "61",
                                    "Eddigi foglalások száma": "2"
                                },
                                {
                                    "SZALLAS_ID": "4",
                                    "SZALLAS_NEV": "Fortuna panzió",
                                    "(No column name)": "2016",
                                    "Foglalások száma": "61",
                                    "Eddigi foglalások száma": "4"
                                },
                                {
                                    "SZALLAS_ID": "4",
                                    "SZALLAS_NEV": "Fortuna panzió",
                                    "(No column name)": "2016",
                                    "Foglalások száma": "61",
                                    "Eddigi foglalások száma": "4"
                                },
                                {
                                    "SZALLAS_ID": "4",
                                    "SZALLAS_NEV": "Fortuna panzió",
                                    "(No column name)": "2016",
                                    "Foglalások száma": "61",
                                    "Eddigi foglalások száma": "5"
                                },
                                {
                                    "SZALLAS_ID": "4",
                                    "SZALLAS_NEV": "Fortuna panzió",
                                    "(No column name)": "2016",
                                    "Foglalások száma": "61",
                                    "Eddigi foglalások száma": "7"
                                },
                                {
                                    "SZALLAS_ID": "4",
                                    "SZALLAS_NEV": "Fortuna panzió",
                                    "(No column name)": "2016",
                                    "Foglalások száma": "61",
                                    "Eddigi foglalások száma": "7"
                                },
                                {
                                    "SZALLAS_ID": "4",
                                    "SZALLAS_NEV": "Fortuna panzió",
                                    "(No column name)": "2016",
                                    "Foglalások száma": "61",
                                    "Eddigi foglalások száma": "8"
                                },
                                {
                                    "SZALLAS_ID": "4",
                                    "SZALLAS_NEV": "Fortuna panzió",
                                    "(No column name)": "2016",
                                    "Foglalások száma": "61",
                                    "Eddigi foglalások száma": "9"
                                },
                                {
                                    "SZALLAS_ID": "4",
                                    "SZALLAS_NEV": "Fortuna panzió",
                                    "(No column name)": "2016",
                                    "Foglalások száma": "61",
                                    "Eddigi foglalások száma": "10"
                                },
                                {
                                    "SZALLAS_ID": "4",
                                    "SZALLAS_NEV": "Fortuna panzió",
                                    "(No column name)": "2016",
                                    "Foglalások száma": "61",
                                    "Eddigi foglalások száma": "13"
                                },
                                {
                                    "SZALLAS_ID": "4",
                                    "SZALLAS_NEV": "Fortuna panzió",
                                    "(No column name)": "2016",
                                    "Foglalások száma": "61",
                                    "Eddigi foglalások száma": "13"
                                },
                                {
                                    "SZALLAS_ID": "4",
                                    "SZALLAS_NEV": "Fortuna panzió",
                                    "(No column name)": "2016",
                                    "Foglalások száma": "61",
                                    "Eddigi foglalások száma": "13"
                                },
                                {
                                    "SZALLAS_ID": "4",
                                    "SZALLAS_NEV": "Fortuna panzió",
                                    "(No column name)": "2016",
                                    "Foglalások száma": "61",
                                    "Eddigi foglalások száma": "15"
                                },
                                {
                                    "SZALLAS_ID": "4",
                                    "SZALLAS_NEV": "Fortuna panzió",
                                    "(No column name)": "2016",
                                    "Foglalások száma": "61",
                                    "Eddigi foglalások száma": "15"
                                },
                                {
                                    "SZALLAS_ID": "4",
                                    "SZALLAS_NEV": "Fortuna panzió",
                                    "(No column name)": "2016",
                                    "Foglalások száma": "61",
                                    "Eddigi foglalások száma": "17"
                                },
                                {
                                    "SZALLAS_ID": "4",
                                    "SZALLAS_NEV": "Fortuna panzió",
                                    "(No column name)": "2016",
                                    "Foglalások száma": "61",
                                    "Eddigi foglalások száma": "17"
                                },
                                {
                                    "SZALLAS_ID": "4",
                                    "SZALLAS_NEV": "Fortuna panzió",
                                    "(No column name)": "2016",
                                    "Foglalások száma": "61",
                                    "Eddigi foglalások száma": "18"
                                },
                                {
                                    "SZALLAS_ID": "4",
                                    "SZALLAS_NEV": "Fortuna panzió",
                                    "(No column name)": "2016",
                                    "Foglalások száma": "61",
                                    "Eddigi foglalások száma": "19"
                                },
                                {
                                    "SZALLAS_ID": "4",
                                    "SZALLAS_NEV": "Fortuna panzió",
                                    "(No column name)": "2016",
                                    "Foglalások száma": "61",
                                    "Eddigi foglalások száma": "20"
                                },
                                {
                                    "SZALLAS_ID": "4",
                                    "SZALLAS_NEV": "Fortuna panzió",
                                    "(No column name)": "2016",
                                    "Foglalások száma": "61",
                                    "Eddigi foglalások száma": "21"
                                },
                                {
                                    "SZALLAS_ID": "4",
                                    "SZALLAS_NEV": "Fortuna panzió",
                                    "(No column name)": "2016",
                                    "Foglalások száma": "61",
                                    "Eddigi foglalások száma": "22"
                                },
                                {
                                    "SZALLAS_ID": "4",
                                    "SZALLAS_NEV": "Fortuna panzió",
                                    "(No column name)": "2016",
                                    "Foglalások száma": "61",
                                    "Eddigi foglalások száma": "23"
                                },
                                {
                                    "SZALLAS_ID": "4",
                                    "SZALLAS_NEV": "Fortuna panzió",
                                    "(No column name)": "2016",
                                    "Foglalások száma": "61",
                                    "Eddigi foglalások száma": "24"
                                },
                                {
                                    "SZALLAS_ID": "4",
                                    "SZALLAS_NEV": "Fortuna panzió",
                                    "(No column name)": "2016",
                                    "Foglalások száma": "61",
                                    "Eddigi foglalások száma": "25"
                                },
                                {
                                    "SZALLAS_ID": "4",
                                    "SZALLAS_NEV": "Fortuna panzió",
                                    "(No column name)": "2016",
                                    "Foglalások száma": "61",
                                    "Eddigi foglalások száma": "26"
                                },
                                {
                                    "SZALLAS_ID": "4",
                                    "SZALLAS_NEV": "Fortuna panzió",
                                    "(No column name)": "2016",
                                    "Foglalások száma": "61",
                                    "Eddigi foglalások száma": "27"
                                },
                                {
                                    "SZALLAS_ID": "4",
                                    "SZALLAS_NEV": "Fortuna panzió",
                                    "(No column name)": "2016",
                                    "Foglalások száma": "61",
                                    "Eddigi foglalások száma": "29"
                                },
                                {
                                    "SZALLAS_ID": "4",
                                    "SZALLAS_NEV": "Fortuna panzió",
                                    "(No column name)": "2016",
                                    "Foglalások száma": "61",
                                    "Eddigi foglalások száma": "29"
                                },
                                {
                                    "SZALLAS_ID": "4",
                                    "SZALLAS_NEV": "Fortuna panzió",
                                    "(No column name)": "2016",
                                    "Foglalások száma": "61",
                                    "Eddigi foglalások száma": "30"
                                },
                                {
                                    "SZALLAS_ID": "4",
                                    "SZALLAS_NEV": "Fortuna panzió",
                                    "(No column name)": "2016",
                                    "Foglalások száma": "61",
                                    "Eddigi foglalások száma": "31"
                                },
                                {
                                    "SZALLAS_ID": "4",
                                    "SZALLAS_NEV": "Fortuna panzió",
                                    "(No column name)": "2016",
                                    "Foglalások száma": "61",
                                    "Eddigi foglalások száma": "32"
                                },
                                {
                                    "SZALLAS_ID": "4",
                                    "SZALLAS_NEV": "Fortuna panzió",
                                    "(No column name)": "2016",
                                    "Foglalások száma": "61",
                                    "Eddigi foglalások száma": "33"
                                },
                                {
                                    "SZALLAS_ID": "4",
                                    "SZALLAS_NEV": "Fortuna panzió",
                                    "(No column name)": "2016",
                                    "Foglalások száma": "61",
                                    "Eddigi foglalások száma": "34"
                                },
                                {
                                    "SZALLAS_ID": "4",
                                    "SZALLAS_NEV": "Fortuna panzió",
                                    "(No column name)": "2016",
                                    "Foglalások száma": "61",
                                    "Eddigi foglalások száma": "35"
                                },
                                {
                                    "SZALLAS_ID": "4",
                                    "SZALLAS_NEV": "Fortuna panzió",
                                    "(No column name)": "2016",
                                    "Foglalások száma": "61",
                                    "Eddigi foglalások száma": "36"
                                },
                                {
                                    "SZALLAS_ID": "4",
                                    "SZALLAS_NEV": "Fortuna panzió",
                                    "(No column name)": "2016",
                                    "Foglalások száma": "61",
                                    "Eddigi foglalások száma": "38"
                                },
                                {
                                    "SZALLAS_ID": "4",
                                    "SZALLAS_NEV": "Fortuna panzió",
                                    "(No column name)": "2016",
                                    "Foglalások száma": "61",
                                    "Eddigi foglalások száma": "38"
                                },
                                {
                                    "SZALLAS_ID": "4",
                                    "SZALLAS_NEV": "Fortuna panzió",
                                    "(No column name)": "2016",
                                    "Foglalások száma": "61",
                                    "Eddigi foglalások száma": "39"
                                },
                                {
                                    "SZALLAS_ID": "4",
                                    "SZALLAS_NEV": "Fortuna panzió",
                                    "(No column name)": "2016",
                                    "Foglalások száma": "61",
                                    "Eddigi foglalások száma": "40"
                                },
                                {
                                    "SZALLAS_ID": "4",
                                    "SZALLAS_NEV": "Fortuna panzió",
                                    "(No column name)": "2016",
                                    "Foglalások száma": "61",
                                    "Eddigi foglalások száma": "41"
                                },
                                {
                                    "SZALLAS_ID": "4",
                                    "SZALLAS_NEV": "Fortuna panzió",
                                    "(No column name)": "2016",
                                    "Foglalások száma": "61",
                                    "Eddigi foglalások száma": "43"
                                },
                                {
                                    "SZALLAS_ID": "4",
                                    "SZALLAS_NEV": "Fortuna panzió",
                                    "(No column name)": "2016",
                                    "Foglalások száma": "61",
                                    "Eddigi foglalások száma": "43"
                                },
                                {
                                    "SZALLAS_ID": "4",
                                    "SZALLAS_NEV": "Fortuna panzió",
                                    "(No column name)": "2016",
                                    "Foglalások száma": "61",
                                    "Eddigi foglalások száma": "44"
                                },
                                {
                                    "SZALLAS_ID": "4",
                                    "SZALLAS_NEV": "Fortuna panzió",
                                    "(No column name)": "2016",
                                    "Foglalások száma": "61",
                                    "Eddigi foglalások száma": "45"
                                },
                                {
                                    "SZALLAS_ID": "4",
                                    "SZALLAS_NEV": "Fortuna panzió",
                                    "(No column name)": "2016",
                                    "Foglalások száma": "61",
                                    "Eddigi foglalások száma": "46"
                                },
                                {
                                    "SZALLAS_ID": "4",
                                    "SZALLAS_NEV": "Fortuna panzió",
                                    "(No column name)": "2016",
                                    "Foglalások száma": "61",
                                    "Eddigi foglalások száma": "47"
                                },
                                {
                                    "SZALLAS_ID": "4",
                                    "SZALLAS_NEV": "Fortuna panzió",
                                    "(No column name)": "2016",
                                    "Foglalások száma": "61",
                                    "Eddigi foglalások száma": "48"
                                },
                                {
                                    "SZALLAS_ID": "4",
                                    "SZALLAS_NEV": "Fortuna panzió",
                                    "(No column name)": "2016",
                                    "Foglalások száma": "61",
                                    "Eddigi foglalások száma": "49"
                                },
                                {
                                    "SZALLAS_ID": "4",
                                    "SZALLAS_NEV": "Fortuna panzió",
                                    "(No column name)": "2016",
                                    "Foglalások száma": "61",
                                    "Eddigi foglalások száma": "50"
                                },
                                {
                                    "SZALLAS_ID": "4",
                                    "SZALLAS_NEV": "Fortuna panzió",
                                    "(No column name)": "2016",
                                    "Foglalások száma": "61",
                                    "Eddigi foglalások száma": "51"
                                },
                                {
                                    "SZALLAS_ID": "4",
                                    "SZALLAS_NEV": "Fortuna panzió",
                                    "(No column name)": "2016",
                                    "Foglalások száma": "61",
                                    "Eddigi foglalások száma": "52"
                                },
                                {
                                    "SZALLAS_ID": "4",
                                    "SZALLAS_NEV": "Fortuna panzió",
                                    "(No column name)": "2016",
                                    "Foglalások száma": "61",
                                    "Eddigi foglalások száma": "53"
                                },
                                {
                                    "SZALLAS_ID": "4",
                                    "SZALLAS_NEV": "Fortuna panzió",
                                    "(No column name)": "2016",
                                    "Foglalások száma": "61",
                                    "Eddigi foglalások száma": "54"
                                },
                                {
                                    "SZALLAS_ID": "4",
                                    "SZALLAS_NEV": "Fortuna panzió",
                                    "(No column name)": "2016",
                                    "Foglalások száma": "61",
                                    "Eddigi foglalások száma": "55"
                                },
                                {
                                    "SZALLAS_ID": "4",
                                    "SZALLAS_NEV": "Fortuna panzió",
                                    "(No column name)": "2016",
                                    "Foglalások száma": "61",
                                    "Eddigi foglalások száma": "56"
                                },
                                {
                                    "SZALLAS_ID": "4",
                                    "SZALLAS_NEV": "Fortuna panzió",
                                    "(No column name)": "2016",
                                    "Foglalások száma": "61",
                                    "Eddigi foglalások száma": "57"
                                },
                                {
                                    "SZALLAS_ID": "4",
                                    "SZALLAS_NEV": "Fortuna panzió",
                                    "(No column name)": "2016",
                                    "Foglalások száma": "61",
                                    "Eddigi foglalások száma": "58"
                                },
                                {
                                    "SZALLAS_ID": "4",
                                    "SZALLAS_NEV": "Fortuna panzió",
                                    "(No column name)": "2016",
                                    "Foglalások száma": "61",
                                    "Eddigi foglalások száma": "59"
                                },
                                {
                                    "SZALLAS_ID": "4",
                                    "SZALLAS_NEV": "Fortuna panzió",
                                    "(No column name)": "2016",
                                    "Foglalások száma": "61",
                                    "Eddigi foglalások száma": "60"
                                },
                                {
                                    "SZALLAS_ID": "4",
                                    "SZALLAS_NEV": "Fortuna panzió",
                                    "(No column name)": "2016",
                                    "Foglalások száma": "61",
                                    "Eddigi foglalások száma": "61"
                                },
                                {
                                    "SZALLAS_ID": "4",
                                    "SZALLAS_NEV": "Fortuna panzió",
                                    "(No column name)": "2017",
                                    "Foglalások száma": "12",
                                    "Eddigi foglalások száma": "1"
                                },
                                {
                                    "SZALLAS_ID": "4",
                                    "SZALLAS_NEV": "Fortuna panzió",
                                    "(No column name)": "2017",
                                    "Foglalások száma": "12",
                                    "Eddigi foglalások száma": "2"
                                },
                                {
                                    "SZALLAS_ID": "4",
                                    "SZALLAS_NEV": "Fortuna panzió",
                                    "(No column name)": "2017",
                                    "Foglalások száma": "12",
                                    "Eddigi foglalások száma": "3"
                                },
                                {
                                    "SZALLAS_ID": "4",
                                    "SZALLAS_NEV": "Fortuna panzió",
                                    "(No column name)": "2017",
                                    "Foglalások száma": "12",
                                    "Eddigi foglalások száma": "4"
                                },
                                {
                                    "SZALLAS_ID": "4",
                                    "SZALLAS_NEV": "Fortuna panzió",
                                    "(No column name)": "2017",
                                    "Foglalások száma": "12",
                                    "Eddigi foglalások száma": "5"
                                },
                                {
                                    "SZALLAS_ID": "4",
                                    "SZALLAS_NEV": "Fortuna panzió",
                                    "(No column name)": "2017",
                                    "Foglalások száma": "12",
                                    "Eddigi foglalások száma": "6"
                                },
                                {
                                    "SZALLAS_ID": "4",
                                    "SZALLAS_NEV": "Fortuna panzió",
                                    "(No column name)": "2017",
                                    "Foglalások száma": "12",
                                    "Eddigi foglalások száma": "7"
                                },
                                {
                                    "SZALLAS_ID": "4",
                                    "SZALLAS_NEV": "Fortuna panzió",
                                    "(No column name)": "2017",
                                    "Foglalások száma": "12",
                                    "Eddigi foglalások száma": "8"
                                },
                                {
                                    "SZALLAS_ID": "4",
                                    "SZALLAS_NEV": "Fortuna panzió",
                                    "(No column name)": "2017",
                                    "Foglalások száma": "12",
                                    "Eddigi foglalások száma": "9"
                                },
                                {
                                    "SZALLAS_ID": "4",
                                    "SZALLAS_NEV": "Fortuna panzió",
                                    "(No column name)": "2017",
                                    "Foglalások száma": "12",
                                    "Eddigi foglalások száma": "10"
                                },
                                {
                                    "SZALLAS_ID": "4",
                                    "SZALLAS_NEV": "Fortuna panzió",
                                    "(No column name)": "2017",
                                    "Foglalások száma": "12",
                                    "Eddigi foglalások száma": "11"
                                },
                                {
                                    "SZALLAS_ID": "4",
                                    "SZALLAS_NEV": "Fortuna panzió",
                                    "(No column name)": "2017",
                                    "Foglalások száma": "12",
                                    "Eddigi foglalások száma": "12"
                                },
                                {
                                    "SZALLAS_ID": "5",
                                    "SZALLAS_NEV": "Fortuna Panzió",
                                    "(No column name)": "2016",
                                    "Foglalások száma": "43",
                                    "Eddigi foglalások száma": "1"
                                },
                                {
                                    "SZALLAS_ID": "5",
                                    "SZALLAS_NEV": "Fortuna Panzió",
                                    "(No column name)": "2016",
                                    "Foglalások száma": "43",
                                    "Eddigi foglalások száma": "3"
                                },
                                {
                                    "SZALLAS_ID": "5",
                                    "SZALLAS_NEV": "Fortuna Panzió",
                                    "(No column name)": "2016",
                                    "Foglalások száma": "43",
                                    "Eddigi foglalások száma": "3"
                                },
                                {
                                    "SZALLAS_ID": "5",
                                    "SZALLAS_NEV": "Fortuna Panzió",
                                    "(No column name)": "2016",
                                    "Foglalások száma": "43",
                                    "Eddigi foglalások száma": "4"
                                },
                                {
                                    "SZALLAS_ID": "5",
                                    "SZALLAS_NEV": "Fortuna Panzió",
                                    "(No column name)": "2016",
                                    "Foglalások száma": "43",
                                    "Eddigi foglalások száma": "5"
                                },
                                {
                                    "SZALLAS_ID": "5",
                                    "SZALLAS_NEV": "Fortuna Panzió",
                                    "(No column name)": "2016",
                                    "Foglalások száma": "43",
                                    "Eddigi foglalások száma": "6"
                                },
                                {
                                    "SZALLAS_ID": "5",
                                    "SZALLAS_NEV": "Fortuna Panzió",
                                    "(No column name)": "2016",
                                    "Foglalások száma": "43",
                                    "Eddigi foglalások száma": "7"
                                },
                                {
                                    "SZALLAS_ID": "5",
                                    "SZALLAS_NEV": "Fortuna Panzió",
                                    "(No column name)": "2016",
                                    "Foglalások száma": "43",
                                    "Eddigi foglalások száma": "8"
                                },
                                {
                                    "SZALLAS_ID": "5",
                                    "SZALLAS_NEV": "Fortuna Panzió",
                                    "(No column name)": "2016",
                                    "Foglalások száma": "43",
                                    "Eddigi foglalások száma": "9"
                                },
                                {
                                    "SZALLAS_ID": "5",
                                    "SZALLAS_NEV": "Fortuna Panzió",
                                    "(No column name)": "2016",
                                    "Foglalások száma": "43",
                                    "Eddigi foglalások száma": "11"
                                },
                                {
                                    "SZALLAS_ID": "5",
                                    "SZALLAS_NEV": "Fortuna Panzió",
                                    "(No column name)": "2016",
                                    "Foglalások száma": "43",
                                    "Eddigi foglalások száma": "11"
                                },
                                {
                                    "SZALLAS_ID": "5",
                                    "SZALLAS_NEV": "Fortuna Panzió",
                                    "(No column name)": "2016",
                                    "Foglalások száma": "43",
                                    "Eddigi foglalások száma": "12"
                                },
                                {
                                    "SZALLAS_ID": "5",
                                    "SZALLAS_NEV": "Fortuna Panzió",
                                    "(No column name)": "2016",
                                    "Foglalások száma": "43",
                                    "Eddigi foglalások száma": "13"
                                },
                                {
                                    "SZALLAS_ID": "5",
                                    "SZALLAS_NEV": "Fortuna Panzió",
                                    "(No column name)": "2016",
                                    "Foglalások száma": "43",
                                    "Eddigi foglalások száma": "14"
                                },
                                {
                                    "SZALLAS_ID": "5",
                                    "SZALLAS_NEV": "Fortuna Panzió",
                                    "(No column name)": "2016",
                                    "Foglalások száma": "43",
                                    "Eddigi foglalások száma": "16"
                                },
                                {
                                    "SZALLAS_ID": "5",
                                    "SZALLAS_NEV": "Fortuna Panzió",
                                    "(No column name)": "2016",
                                    "Foglalások száma": "43",
                                    "Eddigi foglalások száma": "16"
                                },
                                {
                                    "SZALLAS_ID": "5",
                                    "SZALLAS_NEV": "Fortuna Panzió",
                                    "(No column name)": "2016",
                                    "Foglalások száma": "43",
                                    "Eddigi foglalások száma": "17"
                                },
                                {
                                    "SZALLAS_ID": "5",
                                    "SZALLAS_NEV": "Fortuna Panzió",
                                    "(No column name)": "2016",
                                    "Foglalások száma": "43",
                                    "Eddigi foglalások száma": "18"
                                },
                                {
                                    "SZALLAS_ID": "5",
                                    "SZALLAS_NEV": "Fortuna Panzió",
                                    "(No column name)": "2016",
                                    "Foglalások száma": "43",
                                    "Eddigi foglalások száma": "19"
                                },
                                {
                                    "SZALLAS_ID": "5",
                                    "SZALLAS_NEV": "Fortuna Panzió",
                                    "(No column name)": "2016",
                                    "Foglalások száma": "43",
                                    "Eddigi foglalások száma": "20"
                                },
                                {
                                    "SZALLAS_ID": "5",
                                    "SZALLAS_NEV": "Fortuna Panzió",
                                    "(No column name)": "2016",
                                    "Foglalások száma": "43",
                                    "Eddigi foglalások száma": "22"
                                },
                                {
                                    "SZALLAS_ID": "5",
                                    "SZALLAS_NEV": "Fortuna Panzió",
                                    "(No column name)": "2016",
                                    "Foglalások száma": "43",
                                    "Eddigi foglalások száma": "22"
                                },
                                {
                                    "SZALLAS_ID": "5",
                                    "SZALLAS_NEV": "Fortuna Panzió",
                                    "(No column name)": "2016",
                                    "Foglalások száma": "43",
                                    "Eddigi foglalások száma": "24"
                                },
                                {
                                    "SZALLAS_ID": "5",
                                    "SZALLAS_NEV": "Fortuna Panzió",
                                    "(No column name)": "2016",
                                    "Foglalások száma": "43",
                                    "Eddigi foglalások száma": "24"
                                },
                                {
                                    "SZALLAS_ID": "5",
                                    "SZALLAS_NEV": "Fortuna Panzió",
                                    "(No column name)": "2016",
                                    "Foglalások száma": "43",
                                    "Eddigi foglalások száma": "25"
                                },
                                {
                                    "SZALLAS_ID": "5",
                                    "SZALLAS_NEV": "Fortuna Panzió",
                                    "(No column name)": "2016",
                                    "Foglalások száma": "43",
                                    "Eddigi foglalások száma": "26"
                                },
                                {
                                    "SZALLAS_ID": "5",
                                    "SZALLAS_NEV": "Fortuna Panzió",
                                    "(No column name)": "2016",
                                    "Foglalások száma": "43",
                                    "Eddigi foglalások száma": "27"
                                },
                                {
                                    "SZALLAS_ID": "5",
                                    "SZALLAS_NEV": "Fortuna Panzió",
                                    "(No column name)": "2016",
                                    "Foglalások száma": "43",
                                    "Eddigi foglalások száma": "28"
                                },
                                {
                                    "SZALLAS_ID": "5",
                                    "SZALLAS_NEV": "Fortuna Panzió",
                                    "(No column name)": "2016",
                                    "Foglalások száma": "43",
                                    "Eddigi foglalások száma": "29"
                                },
                                {
                                    "SZALLAS_ID": "5",
                                    "SZALLAS_NEV": "Fortuna Panzió",
                                    "(No column name)": "2016",
                                    "Foglalások száma": "43",
                                    "Eddigi foglalások száma": "30"
                                },
                                {
                                    "SZALLAS_ID": "5",
                                    "SZALLAS_NEV": "Fortuna Panzió",
                                    "(No column name)": "2016",
                                    "Foglalások száma": "43",
                                    "Eddigi foglalások száma": "32"
                                },
                                {
                                    "SZALLAS_ID": "5",
                                    "SZALLAS_NEV": "Fortuna Panzió",
                                    "(No column name)": "2016",
                                    "Foglalások száma": "43",
                                    "Eddigi foglalások száma": "32"
                                },
                                {
                                    "SZALLAS_ID": "5",
                                    "SZALLAS_NEV": "Fortuna Panzió",
                                    "(No column name)": "2016",
                                    "Foglalások száma": "43",
                                    "Eddigi foglalások száma": "33"
                                },
                                {
                                    "SZALLAS_ID": "5",
                                    "SZALLAS_NEV": "Fortuna Panzió",
                                    "(No column name)": "2016",
                                    "Foglalások száma": "43",
                                    "Eddigi foglalások száma": "34"
                                },
                                {
                                    "SZALLAS_ID": "5",
                                    "SZALLAS_NEV": "Fortuna Panzió",
                                    "(No column name)": "2016",
                                    "Foglalások száma": "43",
                                    "Eddigi foglalások száma": "35"
                                },
                                {
                                    "SZALLAS_ID": "5",
                                    "SZALLAS_NEV": "Fortuna Panzió",
                                    "(No column name)": "2016",
                                    "Foglalások száma": "43",
                                    "Eddigi foglalások száma": "37"
                                },
                                {
                                    "SZALLAS_ID": "5",
                                    "SZALLAS_NEV": "Fortuna Panzió",
                                    "(No column name)": "2016",
                                    "Foglalások száma": "43",
                                    "Eddigi foglalások száma": "37"
                                },
                                {
                                    "SZALLAS_ID": "5",
                                    "SZALLAS_NEV": "Fortuna Panzió",
                                    "(No column name)": "2016",
                                    "Foglalások száma": "43",
                                    "Eddigi foglalások száma": "38"
                                },
                                {
                                    "SZALLAS_ID": "5",
                                    "SZALLAS_NEV": "Fortuna Panzió",
                                    "(No column name)": "2016",
                                    "Foglalások száma": "43",
                                    "Eddigi foglalások száma": "39"
                                },
                                {
                                    "SZALLAS_ID": "5",
                                    "SZALLAS_NEV": "Fortuna Panzió",
                                    "(No column name)": "2016",
                                    "Foglalások száma": "43",
                                    "Eddigi foglalások száma": "41"
                                },
                                {
                                    "SZALLAS_ID": "5",
                                    "SZALLAS_NEV": "Fortuna Panzió",
                                    "(No column name)": "2016",
                                    "Foglalások száma": "43",
                                    "Eddigi foglalások száma": "41"
                                },
                                {
                                    "SZALLAS_ID": "5",
                                    "SZALLAS_NEV": "Fortuna Panzió",
                                    "(No column name)": "2016",
                                    "Foglalások száma": "43",
                                    "Eddigi foglalások száma": "42"
                                },
                                {
                                    "SZALLAS_ID": "5",
                                    "SZALLAS_NEV": "Fortuna Panzió",
                                    "(No column name)": "2016",
                                    "Foglalások száma": "43",
                                    "Eddigi foglalások száma": "43"
                                },
                                {
                                    "SZALLAS_ID": "5",
                                    "SZALLAS_NEV": "Fortuna Panzió",
                                    "(No column name)": "2017",
                                    "Foglalások száma": "10",
                                    "Eddigi foglalások száma": "1"
                                },
                                {
                                    "SZALLAS_ID": "5",
                                    "SZALLAS_NEV": "Fortuna Panzió",
                                    "(No column name)": "2017",
                                    "Foglalások száma": "10",
                                    "Eddigi foglalások száma": "2"
                                },
                                {
                                    "SZALLAS_ID": "5",
                                    "SZALLAS_NEV": "Fortuna Panzió",
                                    "(No column name)": "2017",
                                    "Foglalások száma": "10",
                                    "Eddigi foglalások száma": "3"
                                },
                                {
                                    "SZALLAS_ID": "5",
                                    "SZALLAS_NEV": "Fortuna Panzió",
                                    "(No column name)": "2017",
                                    "Foglalások száma": "10",
                                    "Eddigi foglalások száma": "4"
                                },
                                {
                                    "SZALLAS_ID": "5",
                                    "SZALLAS_NEV": "Fortuna Panzió",
                                    "(No column name)": "2017",
                                    "Foglalások száma": "10",
                                    "Eddigi foglalások száma": "5"
                                },
                                {
                                    "SZALLAS_ID": "5",
                                    "SZALLAS_NEV": "Fortuna Panzió",
                                    "(No column name)": "2017",
                                    "Foglalások száma": "10",
                                    "Eddigi foglalások száma": "6"
                                },
                                {
                                    "SZALLAS_ID": "5",
                                    "SZALLAS_NEV": "Fortuna Panzió",
                                    "(No column name)": "2017",
                                    "Foglalások száma": "10",
                                    "Eddigi foglalások száma": "7"
                                },
                                {
                                    "SZALLAS_ID": "5",
                                    "SZALLAS_NEV": "Fortuna Panzió",
                                    "(No column name)": "2017",
                                    "Foglalások száma": "10",
                                    "Eddigi foglalások száma": "9"
                                },
                                {
                                    "SZALLAS_ID": "5",
                                    "SZALLAS_NEV": "Fortuna Panzió",
                                    "(No column name)": "2017",
                                    "Foglalások száma": "10",
                                    "Eddigi foglalások száma": "9"
                                },
                                {
                                    "SZALLAS_ID": "5",
                                    "SZALLAS_NEV": "Fortuna Panzió",
                                    "(No column name)": "2017",
                                    "Foglalások száma": "10",
                                    "Eddigi foglalások száma": "10"
                                },
                                {
                                    "SZALLAS_ID": "6",
                                    "SZALLAS_NEV": "Kentaur Hotel",
                                    "(No column name)": "2016",
                                    "Foglalások száma": "150",
                                    "Eddigi foglalások száma": "1"
                                },
                                {
                                    "SZALLAS_ID": "6",
                                    "SZALLAS_NEV": "Kentaur Hotel",
                                    "(No column name)": "2016",
                                    "Foglalások száma": "150",
                                    "Eddigi foglalások száma": "3"
                                },
                                {
                                    "SZALLAS_ID": "6",
                                    "SZALLAS_NEV": "Kentaur Hotel",
                                    "(No column name)": "2016",
                                    "Foglalások száma": "150",
                                    "Eddigi foglalások száma": "3"
                                },
                                {
                                    "SZALLAS_ID": "6",
                                    "SZALLAS_NEV": "Kentaur Hotel",
                                    "(No column name)": "2016",
                                    "Foglalások száma": "150",
                                    "Eddigi foglalások száma": "4"
                                },
                                {
                                    "SZALLAS_ID": "6",
                                    "SZALLAS_NEV": "Kentaur Hotel",
                                    "(No column name)": "2016",
                                    "Foglalások száma": "150",
                                    "Eddigi foglalások száma": "5"
                                },
                                {
                                    "SZALLAS_ID": "6",
                                    "SZALLAS_NEV": "Kentaur Hotel",
                                    "(No column name)": "2016",
                                    "Foglalások száma": "150",
                                    "Eddigi foglalások száma": "6"
                                },
                                {
                                    "SZALLAS_ID": "6",
                                    "SZALLAS_NEV": "Kentaur Hotel",
                                    "(No column name)": "2016",
                                    "Foglalások száma": "150",
                                    "Eddigi foglalások száma": "7"
                                },
                                {
                                    "SZALLAS_ID": "6",
                                    "SZALLAS_NEV": "Kentaur Hotel",
                                    "(No column name)": "2016",
                                    "Foglalások száma": "150",
                                    "Eddigi foglalások száma": "8"
                                },
                                {
                                    "SZALLAS_ID": "6",
                                    "SZALLAS_NEV": "Kentaur Hotel",
                                    "(No column name)": "2016",
                                    "Foglalások száma": "150",
                                    "Eddigi foglalások száma": "9"
                                },
                                {
                                    "SZALLAS_ID": "6",
                                    "SZALLAS_NEV": "Kentaur Hotel",
                                    "(No column name)": "2016",
                                    "Foglalások száma": "150",
                                    "Eddigi foglalások száma": "10"
                                },
                                {
                                    "SZALLAS_ID": "6",
                                    "SZALLAS_NEV": "Kentaur Hotel",
                                    "(No column name)": "2016",
                                    "Foglalások száma": "150",
                                    "Eddigi foglalások száma": "11"
                                },
                                {
                                    "SZALLAS_ID": "6",
                                    "SZALLAS_NEV": "Kentaur Hotel",
                                    "(No column name)": "2016",
                                    "Foglalások száma": "150",
                                    "Eddigi foglalások száma": "13"
                                },
                                {
                                    "SZALLAS_ID": "6",
                                    "SZALLAS_NEV": "Kentaur Hotel",
                                    "(No column name)": "2016",
                                    "Foglalások száma": "150",
                                    "Eddigi foglalások száma": "13"
                                },
                                {
                                    "SZALLAS_ID": "6",
                                    "SZALLAS_NEV": "Kentaur Hotel",
                                    "(No column name)": "2016",
                                    "Foglalások száma": "150",
                                    "Eddigi foglalások száma": "14"
                                },
                                {
                                    "SZALLAS_ID": "6",
                                    "SZALLAS_NEV": "Kentaur Hotel",
                                    "(No column name)": "2016",
                                    "Foglalások száma": "150",
                                    "Eddigi foglalások száma": "15"
                                },
                                {
                                    "SZALLAS_ID": "6",
                                    "SZALLAS_NEV": "Kentaur Hotel",
                                    "(No column name)": "2016",
                                    "Foglalások száma": "150",
                                    "Eddigi foglalások száma": "17"
                                },
                                {
                                    "SZALLAS_ID": "6",
                                    "SZALLAS_NEV": "Kentaur Hotel",
                                    "(No column name)": "2016",
                                    "Foglalások száma": "150",
                                    "Eddigi foglalások száma": "17"
                                },
                                {
                                    "SZALLAS_ID": "6",
                                    "SZALLAS_NEV": "Kentaur Hotel",
                                    "(No column name)": "2016",
                                    "Foglalások száma": "150",
                                    "Eddigi foglalások száma": "19"
                                },
                                {
                                    "SZALLAS_ID": "6",
                                    "SZALLAS_NEV": "Kentaur Hotel",
                                    "(No column name)": "2016",
                                    "Foglalások száma": "150",
                                    "Eddigi foglalások száma": "19"
                                },
                                {
                                    "SZALLAS_ID": "6",
                                    "SZALLAS_NEV": "Kentaur Hotel",
                                    "(No column name)": "2016",
                                    "Foglalások száma": "150",
                                    "Eddigi foglalások száma": "20"
                                },
                                {
                                    "SZALLAS_ID": "6",
                                    "SZALLAS_NEV": "Kentaur Hotel",
                                    "(No column name)": "2016",
                                    "Foglalások száma": "150",
                                    "Eddigi foglalások száma": "25"
                                },
                                {
                                    "SZALLAS_ID": "6",
                                    "SZALLAS_NEV": "Kentaur Hotel",
                                    "(No column name)": "2016",
                                    "Foglalások száma": "150",
                                    "Eddigi foglalások száma": "25"
                                },
                                {
                                    "SZALLAS_ID": "6",
                                    "SZALLAS_NEV": "Kentaur Hotel",
                                    "(No column name)": "2016",
                                    "Foglalások száma": "150",
                                    "Eddigi foglalások száma": "25"
                                },
                                {
                                    "SZALLAS_ID": "6",
                                    "SZALLAS_NEV": "Kentaur Hotel",
                                    "(No column name)": "2016",
                                    "Foglalások száma": "150",
                                    "Eddigi foglalások száma": "25"
                                },
                                {
                                    "SZALLAS_ID": "6",
                                    "SZALLAS_NEV": "Kentaur Hotel",
                                    "(No column name)": "2016",
                                    "Foglalások száma": "150",
                                    "Eddigi foglalások száma": "25"
                                },
                                {
                                    "SZALLAS_ID": "6",
                                    "SZALLAS_NEV": "Kentaur Hotel",
                                    "(No column name)": "2016",
                                    "Foglalások száma": "150",
                                    "Eddigi foglalások száma": "26"
                                },
                                {
                                    "SZALLAS_ID": "6",
                                    "SZALLAS_NEV": "Kentaur Hotel",
                                    "(No column name)": "2016",
                                    "Foglalások száma": "150",
                                    "Eddigi foglalások száma": "27"
                                },
                                {
                                    "SZALLAS_ID": "6",
                                    "SZALLAS_NEV": "Kentaur Hotel",
                                    "(No column name)": "2016",
                                    "Foglalások száma": "150",
                                    "Eddigi foglalások száma": "29"
                                },
                                {
                                    "SZALLAS_ID": "6",
                                    "SZALLAS_NEV": "Kentaur Hotel",
                                    "(No column name)": "2016",
                                    "Foglalások száma": "150",
                                    "Eddigi foglalások száma": "29"
                                },
                                {
                                    "SZALLAS_ID": "6",
                                    "SZALLAS_NEV": "Kentaur Hotel",
                                    "(No column name)": "2016",
                                    "Foglalások száma": "150",
                                    "Eddigi foglalások száma": "30"
                                },
                                {
                                    "SZALLAS_ID": "6",
                                    "SZALLAS_NEV": "Kentaur Hotel",
                                    "(No column name)": "2016",
                                    "Foglalások száma": "150",
                                    "Eddigi foglalások száma": "31"
                                },
                                {
                                    "SZALLAS_ID": "6",
                                    "SZALLAS_NEV": "Kentaur Hotel",
                                    "(No column name)": "2016",
                                    "Foglalások száma": "150",
                                    "Eddigi foglalások száma": "33"
                                },
                                {
                                    "SZALLAS_ID": "6",
                                    "SZALLAS_NEV": "Kentaur Hotel",
                                    "(No column name)": "2016",
                                    "Foglalások száma": "150",
                                    "Eddigi foglalások száma": "33"
                                },
                                {
                                    "SZALLAS_ID": "6",
                                    "SZALLAS_NEV": "Kentaur Hotel",
                                    "(No column name)": "2016",
                                    "Foglalások száma": "150",
                                    "Eddigi foglalások száma": "35"
                                },
                                {
                                    "SZALLAS_ID": "6",
                                    "SZALLAS_NEV": "Kentaur Hotel",
                                    "(No column name)": "2016",
                                    "Foglalások száma": "150",
                                    "Eddigi foglalások száma": "35"
                                },
                                {
                                    "SZALLAS_ID": "6",
                                    "SZALLAS_NEV": "Kentaur Hotel",
                                    "(No column name)": "2016",
                                    "Foglalások száma": "150",
                                    "Eddigi foglalások száma": "36"
                                },
                                {
                                    "SZALLAS_ID": "6",
                                    "SZALLAS_NEV": "Kentaur Hotel",
                                    "(No column name)": "2016",
                                    "Foglalások száma": "150",
                                    "Eddigi foglalások száma": "37"
                                },
                                {
                                    "SZALLAS_ID": "6",
                                    "SZALLAS_NEV": "Kentaur Hotel",
                                    "(No column name)": "2016",
                                    "Foglalások száma": "150",
                                    "Eddigi foglalások száma": "39"
                                },
                                {
                                    "SZALLAS_ID": "6",
                                    "SZALLAS_NEV": "Kentaur Hotel",
                                    "(No column name)": "2016",
                                    "Foglalások száma": "150",
                                    "Eddigi foglalások száma": "39"
                                },
                                {
                                    "SZALLAS_ID": "6",
                                    "SZALLAS_NEV": "Kentaur Hotel",
                                    "(No column name)": "2016",
                                    "Foglalások száma": "150",
                                    "Eddigi foglalások száma": "40"
                                },
                                {
                                    "SZALLAS_ID": "6",
                                    "SZALLAS_NEV": "Kentaur Hotel",
                                    "(No column name)": "2016",
                                    "Foglalások száma": "150",
                                    "Eddigi foglalások száma": "42"
                                },
                                {
                                    "SZALLAS_ID": "6",
                                    "SZALLAS_NEV": "Kentaur Hotel",
                                    "(No column name)": "2016",
                                    "Foglalások száma": "150",
                                    "Eddigi foglalások száma": "42"
                                },
                                {
                                    "SZALLAS_ID": "6",
                                    "SZALLAS_NEV": "Kentaur Hotel",
                                    "(No column name)": "2016",
                                    "Foglalások száma": "150",
                                    "Eddigi foglalások száma": "43"
                                },
                                {
                                    "SZALLAS_ID": "6",
                                    "SZALLAS_NEV": "Kentaur Hotel",
                                    "(No column name)": "2016",
                                    "Foglalások száma": "150",
                                    "Eddigi foglalások száma": "44"
                                },
                                {
                                    "SZALLAS_ID": "6",
                                    "SZALLAS_NEV": "Kentaur Hotel",
                                    "(No column name)": "2016",
                                    "Foglalások száma": "150",
                                    "Eddigi foglalások száma": "46"
                                },
                                {
                                    "SZALLAS_ID": "6",
                                    "SZALLAS_NEV": "Kentaur Hotel",
                                    "(No column name)": "2016",
                                    "Foglalások száma": "150",
                                    "Eddigi foglalások száma": "46"
                                },
                                {
                                    "SZALLAS_ID": "6",
                                    "SZALLAS_NEV": "Kentaur Hotel",
                                    "(No column name)": "2016",
                                    "Foglalások száma": "150",
                                    "Eddigi foglalások száma": "47"
                                },
                                {
                                    "SZALLAS_ID": "6",
                                    "SZALLAS_NEV": "Kentaur Hotel",
                                    "(No column name)": "2016",
                                    "Foglalások száma": "150",
                                    "Eddigi foglalások száma": "48"
                                },
                                {
                                    "SZALLAS_ID": "6",
                                    "SZALLAS_NEV": "Kentaur Hotel",
                                    "(No column name)": "2016",
                                    "Foglalások száma": "150",
                                    "Eddigi foglalások száma": "49"
                                },
                                {
                                    "SZALLAS_ID": "6",
                                    "SZALLAS_NEV": "Kentaur Hotel",
                                    "(No column name)": "2016",
                                    "Foglalások száma": "150",
                                    "Eddigi foglalások száma": "50"
                                },
                                {
                                    "SZALLAS_ID": "6",
                                    "SZALLAS_NEV": "Kentaur Hotel",
                                    "(No column name)": "2016",
                                    "Foglalások száma": "150",
                                    "Eddigi foglalások száma": "51"
                                },
                                {
                                    "SZALLAS_ID": "6",
                                    "SZALLAS_NEV": "Kentaur Hotel",
                                    "(No column name)": "2016",
                                    "Foglalások száma": "150",
                                    "Eddigi foglalások száma": "52"
                                },
                                {
                                    "SZALLAS_ID": "6",
                                    "SZALLAS_NEV": "Kentaur Hotel",
                                    "(No column name)": "2016",
                                    "Foglalások száma": "150",
                                    "Eddigi foglalások száma": "53"
                                },
                                {
                                    "SZALLAS_ID": "6",
                                    "SZALLAS_NEV": "Kentaur Hotel",
                                    "(No column name)": "2016",
                                    "Foglalások száma": "150",
                                    "Eddigi foglalások száma": "54"
                                },
                                {
                                    "SZALLAS_ID": "6",
                                    "SZALLAS_NEV": "Kentaur Hotel",
                                    "(No column name)": "2016",
                                    "Foglalások száma": "150",
                                    "Eddigi foglalások száma": "56"
                                },
                                {
                                    "SZALLAS_ID": "6",
                                    "SZALLAS_NEV": "Kentaur Hotel",
                                    "(No column name)": "2016",
                                    "Foglalások száma": "150",
                                    "Eddigi foglalások száma": "56"
                                },
                                {
                                    "SZALLAS_ID": "6",
                                    "SZALLAS_NEV": "Kentaur Hotel",
                                    "(No column name)": "2016",
                                    "Foglalások száma": "150",
                                    "Eddigi foglalások száma": "58"
                                },
                                {
                                    "SZALLAS_ID": "6",
                                    "SZALLAS_NEV": "Kentaur Hotel",
                                    "(No column name)": "2016",
                                    "Foglalások száma": "150",
                                    "Eddigi foglalások száma": "58"
                                },
                                {
                                    "SZALLAS_ID": "6",
                                    "SZALLAS_NEV": "Kentaur Hotel",
                                    "(No column name)": "2016",
                                    "Foglalások száma": "150",
                                    "Eddigi foglalások száma": "60"
                                },
                                {
                                    "SZALLAS_ID": "6",
                                    "SZALLAS_NEV": "Kentaur Hotel",
                                    "(No column name)": "2016",
                                    "Foglalások száma": "150",
                                    "Eddigi foglalások száma": "60"
                                },
                                {
                                    "SZALLAS_ID": "6",
                                    "SZALLAS_NEV": "Kentaur Hotel",
                                    "(No column name)": "2016",
                                    "Foglalások száma": "150",
                                    "Eddigi foglalások száma": "61"
                                },
                                {
                                    "SZALLAS_ID": "6",
                                    "SZALLAS_NEV": "Kentaur Hotel",
                                    "(No column name)": "2016",
                                    "Foglalások száma": "150",
                                    "Eddigi foglalások száma": "62"
                                },
                                {
                                    "SZALLAS_ID": "6",
                                    "SZALLAS_NEV": "Kentaur Hotel",
                                    "(No column name)": "2016",
                                    "Foglalások száma": "150",
                                    "Eddigi foglalások száma": "63"
                                },
                                {
                                    "SZALLAS_ID": "6",
                                    "SZALLAS_NEV": "Kentaur Hotel",
                                    "(No column name)": "2016",
                                    "Foglalások száma": "150",
                                    "Eddigi foglalások száma": "64"
                                },
                                {
                                    "SZALLAS_ID": "6",
                                    "SZALLAS_NEV": "Kentaur Hotel",
                                    "(No column name)": "2016",
                                    "Foglalások száma": "150",
                                    "Eddigi foglalások száma": "65"
                                },
                                {
                                    "SZALLAS_ID": "6",
                                    "SZALLAS_NEV": "Kentaur Hotel",
                                    "(No column name)": "2016",
                                    "Foglalások száma": "150",
                                    "Eddigi foglalások száma": "66"
                                },
                                {
                                    "SZALLAS_ID": "6",
                                    "SZALLAS_NEV": "Kentaur Hotel",
                                    "(No column name)": "2016",
                                    "Foglalások száma": "150",
                                    "Eddigi foglalások száma": "67"
                                },
                                {
                                    "SZALLAS_ID": "6",
                                    "SZALLAS_NEV": "Kentaur Hotel",
                                    "(No column name)": "2016",
                                    "Foglalások száma": "150",
                                    "Eddigi foglalások száma": "69"
                                },
                                {
                                    "SZALLAS_ID": "6",
                                    "SZALLAS_NEV": "Kentaur Hotel",
                                    "(No column name)": "2016",
                                    "Foglalások száma": "150",
                                    "Eddigi foglalások száma": "69"
                                },
                                {
                                    "SZALLAS_ID": "6",
                                    "SZALLAS_NEV": "Kentaur Hotel",
                                    "(No column name)": "2016",
                                    "Foglalások száma": "150",
                                    "Eddigi foglalások száma": "70"
                                },
                                {
                                    "SZALLAS_ID": "6",
                                    "SZALLAS_NEV": "Kentaur Hotel",
                                    "(No column name)": "2016",
                                    "Foglalások száma": "150",
                                    "Eddigi foglalások száma": "72"
                                },
                                {
                                    "SZALLAS_ID": "6",
                                    "SZALLAS_NEV": "Kentaur Hotel",
                                    "(No column name)": "2016",
                                    "Foglalások száma": "150",
                                    "Eddigi foglalások száma": "72"
                                },
                                {
                                    "SZALLAS_ID": "6",
                                    "SZALLAS_NEV": "Kentaur Hotel",
                                    "(No column name)": "2016",
                                    "Foglalások száma": "150",
                                    "Eddigi foglalások száma": "73"
                                },
                                {
                                    "SZALLAS_ID": "6",
                                    "SZALLAS_NEV": "Kentaur Hotel",
                                    "(No column name)": "2016",
                                    "Foglalások száma": "150",
                                    "Eddigi foglalások száma": "76"
                                },
                                {
                                    "SZALLAS_ID": "6",
                                    "SZALLAS_NEV": "Kentaur Hotel",
                                    "(No column name)": "2016",
                                    "Foglalások száma": "150",
                                    "Eddigi foglalások száma": "76"
                                },
                                {
                                    "SZALLAS_ID": "6",
                                    "SZALLAS_NEV": "Kentaur Hotel",
                                    "(No column name)": "2016",
                                    "Foglalások száma": "150",
                                    "Eddigi foglalások száma": "76"
                                },
                                {
                                    "SZALLAS_ID": "6",
                                    "SZALLAS_NEV": "Kentaur Hotel",
                                    "(No column name)": "2016",
                                    "Foglalások száma": "150",
                                    "Eddigi foglalások száma": "77"
                                },
                                {
                                    "SZALLAS_ID": "6",
                                    "SZALLAS_NEV": "Kentaur Hotel",
                                    "(No column name)": "2016",
                                    "Foglalások száma": "150",
                                    "Eddigi foglalások száma": "78"
                                },
                                {
                                    "SZALLAS_ID": "6",
                                    "SZALLAS_NEV": "Kentaur Hotel",
                                    "(No column name)": "2016",
                                    "Foglalások száma": "150",
                                    "Eddigi foglalások száma": "79"
                                },
                                {
                                    "SZALLAS_ID": "6",
                                    "SZALLAS_NEV": "Kentaur Hotel",
                                    "(No column name)": "2016",
                                    "Foglalások száma": "150",
                                    "Eddigi foglalások száma": "80"
                                },
                                {
                                    "SZALLAS_ID": "6",
                                    "SZALLAS_NEV": "Kentaur Hotel",
                                    "(No column name)": "2016",
                                    "Foglalások száma": "150",
                                    "Eddigi foglalások száma": "82"
                                },
                                {
                                    "SZALLAS_ID": "6",
                                    "SZALLAS_NEV": "Kentaur Hotel",
                                    "(No column name)": "2016",
                                    "Foglalások száma": "150",
                                    "Eddigi foglalások száma": "82"
                                },
                                {
                                    "SZALLAS_ID": "6",
                                    "SZALLAS_NEV": "Kentaur Hotel",
                                    "(No column name)": "2016",
                                    "Foglalások száma": "150",
                                    "Eddigi foglalások száma": "83"
                                },
                                {
                                    "SZALLAS_ID": "6",
                                    "SZALLAS_NEV": "Kentaur Hotel",
                                    "(No column name)": "2016",
                                    "Foglalások száma": "150",
                                    "Eddigi foglalások száma": "84"
                                },
                                {
                                    "SZALLAS_ID": "6",
                                    "SZALLAS_NEV": "Kentaur Hotel",
                                    "(No column name)": "2016",
                                    "Foglalások száma": "150",
                                    "Eddigi foglalások száma": "85"
                                },
                                {
                                    "SZALLAS_ID": "6",
                                    "SZALLAS_NEV": "Kentaur Hotel",
                                    "(No column name)": "2016",
                                    "Foglalások száma": "150",
                                    "Eddigi foglalások száma": "86"
                                },
                                {
                                    "SZALLAS_ID": "6",
                                    "SZALLAS_NEV": "Kentaur Hotel",
                                    "(No column name)": "2016",
                                    "Foglalások száma": "150",
                                    "Eddigi foglalások száma": "88"
                                },
                                {
                                    "SZALLAS_ID": "6",
                                    "SZALLAS_NEV": "Kentaur Hotel",
                                    "(No column name)": "2016",
                                    "Foglalások száma": "150",
                                    "Eddigi foglalások száma": "88"
                                },
                                {
                                    "SZALLAS_ID": "6",
                                    "SZALLAS_NEV": "Kentaur Hotel",
                                    "(No column name)": "2016",
                                    "Foglalások száma": "150",
                                    "Eddigi foglalások száma": "91"
                                },
                                {
                                    "SZALLAS_ID": "6",
                                    "SZALLAS_NEV": "Kentaur Hotel",
                                    "(No column name)": "2016",
                                    "Foglalások száma": "150",
                                    "Eddigi foglalások száma": "91"
                                },
                                {
                                    "SZALLAS_ID": "6",
                                    "SZALLAS_NEV": "Kentaur Hotel",
                                    "(No column name)": "2016",
                                    "Foglalások száma": "150",
                                    "Eddigi foglalások száma": "91"
                                },
                                {
                                    "SZALLAS_ID": "6",
                                    "SZALLAS_NEV": "Kentaur Hotel",
                                    "(No column name)": "2016",
                                    "Foglalások száma": "150",
                                    "Eddigi foglalások száma": "93"
                                },
                                {
                                    "SZALLAS_ID": "6",
                                    "SZALLAS_NEV": "Kentaur Hotel",
                                    "(No column name)": "2016",
                                    "Foglalások száma": "150",
                                    "Eddigi foglalások száma": "93"
                                },
                                {
                                    "SZALLAS_ID": "6",
                                    "SZALLAS_NEV": "Kentaur Hotel",
                                    "(No column name)": "2016",
                                    "Foglalások száma": "150",
                                    "Eddigi foglalások száma": "94"
                                },
                                {
                                    "SZALLAS_ID": "6",
                                    "SZALLAS_NEV": "Kentaur Hotel",
                                    "(No column name)": "2016",
                                    "Foglalások száma": "150",
                                    "Eddigi foglalások száma": "95"
                                },
                                {
                                    "SZALLAS_ID": "6",
                                    "SZALLAS_NEV": "Kentaur Hotel",
                                    "(No column name)": "2016",
                                    "Foglalások száma": "150",
                                    "Eddigi foglalások száma": "96"
                                },
                                {
                                    "SZALLAS_ID": "6",
                                    "SZALLAS_NEV": "Kentaur Hotel",
                                    "(No column name)": "2016",
                                    "Foglalások száma": "150",
                                    "Eddigi foglalások száma": "97"
                                },
                                {
                                    "SZALLAS_ID": "6",
                                    "SZALLAS_NEV": "Kentaur Hotel",
                                    "(No column name)": "2016",
                                    "Foglalások száma": "150",
                                    "Eddigi foglalások száma": "98"
                                },
                                {
                                    "SZALLAS_ID": "6",
                                    "SZALLAS_NEV": "Kentaur Hotel",
                                    "(No column name)": "2016",
                                    "Foglalások száma": "150",
                                    "Eddigi foglalások száma": "99"
                                },
                                {
                                    "SZALLAS_ID": "6",
                                    "SZALLAS_NEV": "Kentaur Hotel",
                                    "(No column name)": "2016",
                                    "Foglalások száma": "150",
                                    "Eddigi foglalások száma": "100"
                                },
                                {
                                    "SZALLAS_ID": "6",
                                    "SZALLAS_NEV": "Kentaur Hotel",
                                    "(No column name)": "2016",
                                    "Foglalások száma": "150",
                                    "Eddigi foglalások száma": "101"
                                },
                                {
                                    "SZALLAS_ID": "6",
                                    "SZALLAS_NEV": "Kentaur Hotel",
                                    "(No column name)": "2016",
                                    "Foglalások száma": "150",
                                    "Eddigi foglalások száma": "102"
                                },
                                {
                                    "SZALLAS_ID": "6",
                                    "SZALLAS_NEV": "Kentaur Hotel",
                                    "(No column name)": "2016",
                                    "Foglalások száma": "150",
                                    "Eddigi foglalások száma": "103"
                                },
                                {
                                    "SZALLAS_ID": "6",
                                    "SZALLAS_NEV": "Kentaur Hotel",
                                    "(No column name)": "2016",
                                    "Foglalások száma": "150",
                                    "Eddigi foglalások száma": "104"
                                },
                                {
                                    "SZALLAS_ID": "6",
                                    "SZALLAS_NEV": "Kentaur Hotel",
                                    "(No column name)": "2016",
                                    "Foglalások száma": "150",
                                    "Eddigi foglalások száma": "105"
                                },
                                {
                                    "SZALLAS_ID": "6",
                                    "SZALLAS_NEV": "Kentaur Hotel",
                                    "(No column name)": "2016",
                                    "Foglalások száma": "150",
                                    "Eddigi foglalások száma": "106"
                                },
                                {
                                    "SZALLAS_ID": "6",
                                    "SZALLAS_NEV": "Kentaur Hotel",
                                    "(No column name)": "2016",
                                    "Foglalások száma": "150",
                                    "Eddigi foglalások száma": "107"
                                },
                                {
                                    "SZALLAS_ID": "6",
                                    "SZALLAS_NEV": "Kentaur Hotel",
                                    "(No column name)": "2016",
                                    "Foglalások száma": "150",
                                    "Eddigi foglalások száma": "111"
                                },
                                {
                                    "SZALLAS_ID": "6",
                                    "SZALLAS_NEV": "Kentaur Hotel",
                                    "(No column name)": "2016",
                                    "Foglalások száma": "150",
                                    "Eddigi foglalások száma": "111"
                                },
                                {
                                    "SZALLAS_ID": "6",
                                    "SZALLAS_NEV": "Kentaur Hotel",
                                    "(No column name)": "2016",
                                    "Foglalások száma": "150",
                                    "Eddigi foglalások száma": "111"
                                },
                                {
                                    "SZALLAS_ID": "6",
                                    "SZALLAS_NEV": "Kentaur Hotel",
                                    "(No column name)": "2016",
                                    "Foglalások száma": "150",
                                    "Eddigi foglalások száma": "111"
                                },
                                {
                                    "SZALLAS_ID": "6",
                                    "SZALLAS_NEV": "Kentaur Hotel",
                                    "(No column name)": "2016",
                                    "Foglalások száma": "150",
                                    "Eddigi foglalások száma": "112"
                                },
                                {
                                    "SZALLAS_ID": "6",
                                    "SZALLAS_NEV": "Kentaur Hotel",
                                    "(No column name)": "2016",
                                    "Foglalások száma": "150",
                                    "Eddigi foglalások száma": "113"
                                },
                                {
                                    "SZALLAS_ID": "6",
                                    "SZALLAS_NEV": "Kentaur Hotel",
                                    "(No column name)": "2016",
                                    "Foglalások száma": "150",
                                    "Eddigi foglalások száma": "114"
                                },
                                {
                                    "SZALLAS_ID": "6",
                                    "SZALLAS_NEV": "Kentaur Hotel",
                                    "(No column name)": "2016",
                                    "Foglalások száma": "150",
                                    "Eddigi foglalások száma": "115"
                                },
                                {
                                    "SZALLAS_ID": "6",
                                    "SZALLAS_NEV": "Kentaur Hotel",
                                    "(No column name)": "2016",
                                    "Foglalások száma": "150",
                                    "Eddigi foglalások száma": "116"
                                },
                                {
                                    "SZALLAS_ID": "6",
                                    "SZALLAS_NEV": "Kentaur Hotel",
                                    "(No column name)": "2016",
                                    "Foglalások száma": "150",
                                    "Eddigi foglalások száma": "118"
                                },
                                {
                                    "SZALLAS_ID": "6",
                                    "SZALLAS_NEV": "Kentaur Hotel",
                                    "(No column name)": "2016",
                                    "Foglalások száma": "150",
                                    "Eddigi foglalások száma": "118"
                                },
                                {
                                    "SZALLAS_ID": "6",
                                    "SZALLAS_NEV": "Kentaur Hotel",
                                    "(No column name)": "2016",
                                    "Foglalások száma": "150",
                                    "Eddigi foglalások száma": "119"
                                },
                                {
                                    "SZALLAS_ID": "6",
                                    "SZALLAS_NEV": "Kentaur Hotel",
                                    "(No column name)": "2016",
                                    "Foglalások száma": "150",
                                    "Eddigi foglalások száma": "120"
                                },
                                {
                                    "SZALLAS_ID": "6",
                                    "SZALLAS_NEV": "Kentaur Hotel",
                                    "(No column name)": "2016",
                                    "Foglalások száma": "150",
                                    "Eddigi foglalások száma": "121"
                                },
                                {
                                    "SZALLAS_ID": "6",
                                    "SZALLAS_NEV": "Kentaur Hotel",
                                    "(No column name)": "2016",
                                    "Foglalások száma": "150",
                                    "Eddigi foglalások száma": "122"
                                },
                                {
                                    "SZALLAS_ID": "6",
                                    "SZALLAS_NEV": "Kentaur Hotel",
                                    "(No column name)": "2016",
                                    "Foglalások száma": "150",
                                    "Eddigi foglalások száma": "123"
                                },
                                {
                                    "SZALLAS_ID": "6",
                                    "SZALLAS_NEV": "Kentaur Hotel",
                                    "(No column name)": "2016",
                                    "Foglalások száma": "150",
                                    "Eddigi foglalások száma": "124"
                                },
                                {
                                    "SZALLAS_ID": "6",
                                    "SZALLAS_NEV": "Kentaur Hotel",
                                    "(No column name)": "2016",
                                    "Foglalások száma": "150",
                                    "Eddigi foglalások száma": "125"
                                },
                                {
                                    "SZALLAS_ID": "6",
                                    "SZALLAS_NEV": "Kentaur Hotel",
                                    "(No column name)": "2016",
                                    "Foglalások száma": "150",
                                    "Eddigi foglalások száma": "126"
                                },
                                {
                                    "SZALLAS_ID": "6",
                                    "SZALLAS_NEV": "Kentaur Hotel",
                                    "(No column name)": "2016",
                                    "Foglalások száma": "150",
                                    "Eddigi foglalások száma": "127"
                                },
                                {
                                    "SZALLAS_ID": "6",
                                    "SZALLAS_NEV": "Kentaur Hotel",
                                    "(No column name)": "2016",
                                    "Foglalások száma": "150",
                                    "Eddigi foglalások száma": "128"
                                },
                                {
                                    "SZALLAS_ID": "6",
                                    "SZALLAS_NEV": "Kentaur Hotel",
                                    "(No column name)": "2016",
                                    "Foglalások száma": "150",
                                    "Eddigi foglalások száma": "129"
                                },
                                {
                                    "SZALLAS_ID": "6",
                                    "SZALLAS_NEV": "Kentaur Hotel",
                                    "(No column name)": "2016",
                                    "Foglalások száma": "150",
                                    "Eddigi foglalások száma": "130"
                                },
                                {
                                    "SZALLAS_ID": "6",
                                    "SZALLAS_NEV": "Kentaur Hotel",
                                    "(No column name)": "2016",
                                    "Foglalások száma": "150",
                                    "Eddigi foglalások száma": "132"
                                },
                                {
                                    "SZALLAS_ID": "6",
                                    "SZALLAS_NEV": "Kentaur Hotel",
                                    "(No column name)": "2016",
                                    "Foglalások száma": "150",
                                    "Eddigi foglalások száma": "132"
                                },
                                {
                                    "SZALLAS_ID": "6",
                                    "SZALLAS_NEV": "Kentaur Hotel",
                                    "(No column name)": "2016",
                                    "Foglalások száma": "150",
                                    "Eddigi foglalások száma": "134"
                                },
                                {
                                    "SZALLAS_ID": "6",
                                    "SZALLAS_NEV": "Kentaur Hotel",
                                    "(No column name)": "2016",
                                    "Foglalások száma": "150",
                                    "Eddigi foglalások száma": "134"
                                },
                                {
                                    "SZALLAS_ID": "6",
                                    "SZALLAS_NEV": "Kentaur Hotel",
                                    "(No column name)": "2016",
                                    "Foglalások száma": "150",
                                    "Eddigi foglalások száma": "135"
                                },
                                {
                                    "SZALLAS_ID": "6",
                                    "SZALLAS_NEV": "Kentaur Hotel",
                                    "(No column name)": "2016",
                                    "Foglalások száma": "150",
                                    "Eddigi foglalások száma": "136"
                                },
                                {
                                    "SZALLAS_ID": "6",
                                    "SZALLAS_NEV": "Kentaur Hotel",
                                    "(No column name)": "2016",
                                    "Foglalások száma": "150",
                                    "Eddigi foglalások száma": "137"
                                },
                                {
                                    "SZALLAS_ID": "6",
                                    "SZALLAS_NEV": "Kentaur Hotel",
                                    "(No column name)": "2016",
                                    "Foglalások száma": "150",
                                    "Eddigi foglalások száma": "138"
                                },
                                {
                                    "SZALLAS_ID": "6",
                                    "SZALLAS_NEV": "Kentaur Hotel",
                                    "(No column name)": "2016",
                                    "Foglalások száma": "150",
                                    "Eddigi foglalások száma": "139"
                                },
                                {
                                    "SZALLAS_ID": "6",
                                    "SZALLAS_NEV": "Kentaur Hotel",
                                    "(No column name)": "2016",
                                    "Foglalások száma": "150",
                                    "Eddigi foglalások száma": "140"
                                },
                                {
                                    "SZALLAS_ID": "6",
                                    "SZALLAS_NEV": "Kentaur Hotel",
                                    "(No column name)": "2016",
                                    "Foglalások száma": "150",
                                    "Eddigi foglalások száma": "141"
                                },
                                {
                                    "SZALLAS_ID": "6",
                                    "SZALLAS_NEV": "Kentaur Hotel",
                                    "(No column name)": "2016",
                                    "Foglalások száma": "150",
                                    "Eddigi foglalások száma": "143"
                                },
                                {
                                    "SZALLAS_ID": "6",
                                    "SZALLAS_NEV": "Kentaur Hotel",
                                    "(No column name)": "2016",
                                    "Foglalások száma": "150",
                                    "Eddigi foglalások száma": "143"
                                },
                                {
                                    "SZALLAS_ID": "6",
                                    "SZALLAS_NEV": "Kentaur Hotel",
                                    "(No column name)": "2016",
                                    "Foglalások száma": "150",
                                    "Eddigi foglalások száma": "144"
                                },
                                {
                                    "SZALLAS_ID": "6",
                                    "SZALLAS_NEV": "Kentaur Hotel",
                                    "(No column name)": "2016",
                                    "Foglalások száma": "150",
                                    "Eddigi foglalások száma": "146"
                                },
                                {
                                    "SZALLAS_ID": "6",
                                    "SZALLAS_NEV": "Kentaur Hotel",
                                    "(No column name)": "2016",
                                    "Foglalások száma": "150",
                                    "Eddigi foglalások száma": "146"
                                },
                                {
                                    "SZALLAS_ID": "6",
                                    "SZALLAS_NEV": "Kentaur Hotel",
                                    "(No column name)": "2016",
                                    "Foglalások száma": "150",
                                    "Eddigi foglalások száma": "147"
                                },
                                {
                                    "SZALLAS_ID": "6",
                                    "SZALLAS_NEV": "Kentaur Hotel",
                                    "(No column name)": "2016",
                                    "Foglalások száma": "150",
                                    "Eddigi foglalások száma": "149"
                                },
                                {
                                    "SZALLAS_ID": "6",
                                    "SZALLAS_NEV": "Kentaur Hotel",
                                    "(No column name)": "2016",
                                    "Foglalások száma": "150",
                                    "Eddigi foglalások száma": "149"
                                },
                                {
                                    "SZALLAS_ID": "6",
                                    "SZALLAS_NEV": "Kentaur Hotel",
                                    "(No column name)": "2016",
                                    "Foglalások száma": "150",
                                    "Eddigi foglalások száma": "150"
                                },
                                {
                                    "SZALLAS_ID": "6",
                                    "SZALLAS_NEV": "Kentaur Hotel",
                                    "(No column name)": "2017",
                                    "Foglalások száma": "29",
                                    "Eddigi foglalások száma": "1"
                                },
                                {
                                    "SZALLAS_ID": "6",
                                    "SZALLAS_NEV": "Kentaur Hotel",
                                    "(No column name)": "2017",
                                    "Foglalások száma": "29",
                                    "Eddigi foglalások száma": "2"
                                },
                                {
                                    "SZALLAS_ID": "6",
                                    "SZALLAS_NEV": "Kentaur Hotel",
                                    "(No column name)": "2017",
                                    "Foglalások száma": "29",
                                    "Eddigi foglalások száma": "3"
                                },
                                {
                                    "SZALLAS_ID": "6",
                                    "SZALLAS_NEV": "Kentaur Hotel",
                                    "(No column name)": "2017",
                                    "Foglalások száma": "29",
                                    "Eddigi foglalások száma": "4"
                                },
                                {
                                    "SZALLAS_ID": "6",
                                    "SZALLAS_NEV": "Kentaur Hotel",
                                    "(No column name)": "2017",
                                    "Foglalások száma": "29",
                                    "Eddigi foglalások száma": "7"
                                },
                                {
                                    "SZALLAS_ID": "6",
                                    "SZALLAS_NEV": "Kentaur Hotel",
                                    "(No column name)": "2017",
                                    "Foglalások száma": "29",
                                    "Eddigi foglalások száma": "7"
                                },
                                {
                                    "SZALLAS_ID": "6",
                                    "SZALLAS_NEV": "Kentaur Hotel",
                                    "(No column name)": "2017",
                                    "Foglalások száma": "29",
                                    "Eddigi foglalások száma": "7"
                                },
                                {
                                    "SZALLAS_ID": "6",
                                    "SZALLAS_NEV": "Kentaur Hotel",
                                    "(No column name)": "2017",
                                    "Foglalások száma": "29",
                                    "Eddigi foglalások száma": "8"
                                },
                                {
                                    "SZALLAS_ID": "6",
                                    "SZALLAS_NEV": "Kentaur Hotel",
                                    "(No column name)": "2017",
                                    "Foglalások száma": "29",
                                    "Eddigi foglalások száma": "10"
                                },
                                {
                                    "SZALLAS_ID": "6",
                                    "SZALLAS_NEV": "Kentaur Hotel",
                                    "(No column name)": "2017",
                                    "Foglalások száma": "29",
                                    "Eddigi foglalások száma": "10"
                                },
                                {
                                    "SZALLAS_ID": "6",
                                    "SZALLAS_NEV": "Kentaur Hotel",
                                    "(No column name)": "2017",
                                    "Foglalások száma": "29",
                                    "Eddigi foglalások száma": "14"
                                },
                                {
                                    "SZALLAS_ID": "6",
                                    "SZALLAS_NEV": "Kentaur Hotel",
                                    "(No column name)": "2017",
                                    "Foglalások száma": "29",
                                    "Eddigi foglalások száma": "14"
                                },
                                {
                                    "SZALLAS_ID": "6",
                                    "SZALLAS_NEV": "Kentaur Hotel",
                                    "(No column name)": "2017",
                                    "Foglalások száma": "29",
                                    "Eddigi foglalások száma": "14"
                                },
                                {
                                    "SZALLAS_ID": "6",
                                    "SZALLAS_NEV": "Kentaur Hotel",
                                    "(No column name)": "2017",
                                    "Foglalások száma": "29",
                                    "Eddigi foglalások száma": "14"
                                },
                                {
                                    "SZALLAS_ID": "6",
                                    "SZALLAS_NEV": "Kentaur Hotel",
                                    "(No column name)": "2017",
                                    "Foglalások száma": "29",
                                    "Eddigi foglalások száma": "15"
                                },
                                {
                                    "SZALLAS_ID": "6",
                                    "SZALLAS_NEV": "Kentaur Hotel",
                                    "(No column name)": "2017",
                                    "Foglalások száma": "29",
                                    "Eddigi foglalások száma": "16"
                                },
                                {
                                    "SZALLAS_ID": "6",
                                    "SZALLAS_NEV": "Kentaur Hotel",
                                    "(No column name)": "2017",
                                    "Foglalások száma": "29",
                                    "Eddigi foglalások száma": "18"
                                },
                                {
                                    "SZALLAS_ID": "6",
                                    "SZALLAS_NEV": "Kentaur Hotel",
                                    "(No column name)": "2017",
                                    "Foglalások száma": "29",
                                    "Eddigi foglalások száma": "18"
                                },
                                {
                                    "SZALLAS_ID": "6",
                                    "SZALLAS_NEV": "Kentaur Hotel",
                                    "(No column name)": "2017",
                                    "Foglalások száma": "29",
                                    "Eddigi foglalások száma": "19"
                                },
                                {
                                    "SZALLAS_ID": "6",
                                    "SZALLAS_NEV": "Kentaur Hotel",
                                    "(No column name)": "2017",
                                    "Foglalások száma": "29",
                                    "Eddigi foglalások száma": "20"
                                },
                                {
                                    "SZALLAS_ID": "6",
                                    "SZALLAS_NEV": "Kentaur Hotel",
                                    "(No column name)": "2017",
                                    "Foglalások száma": "29",
                                    "Eddigi foglalások száma": "21"
                                },
                                {
                                    "SZALLAS_ID": "6",
                                    "SZALLAS_NEV": "Kentaur Hotel",
                                    "(No column name)": "2017",
                                    "Foglalások száma": "29",
                                    "Eddigi foglalások száma": "22"
                                },
                                {
                                    "SZALLAS_ID": "6",
                                    "SZALLAS_NEV": "Kentaur Hotel",
                                    "(No column name)": "2017",
                                    "Foglalások száma": "29",
                                    "Eddigi foglalások száma": "23"
                                },
                                {
                                    "SZALLAS_ID": "6",
                                    "SZALLAS_NEV": "Kentaur Hotel",
                                    "(No column name)": "2017",
                                    "Foglalások száma": "29",
                                    "Eddigi foglalások száma": "24"
                                },
                                {
                                    "SZALLAS_ID": "6",
                                    "SZALLAS_NEV": "Kentaur Hotel",
                                    "(No column name)": "2017",
                                    "Foglalások száma": "29",
                                    "Eddigi foglalások száma": "25"
                                },
                                {
                                    "SZALLAS_ID": "6",
                                    "SZALLAS_NEV": "Kentaur Hotel",
                                    "(No column name)": "2017",
                                    "Foglalások száma": "29",
                                    "Eddigi foglalások száma": "26"
                                },
                                {
                                    "SZALLAS_ID": "6",
                                    "SZALLAS_NEV": "Kentaur Hotel",
                                    "(No column name)": "2017",
                                    "Foglalások száma": "29",
                                    "Eddigi foglalások száma": "27"
                                },
                                {
                                    "SZALLAS_ID": "6",
                                    "SZALLAS_NEV": "Kentaur Hotel",
                                    "(No column name)": "2017",
                                    "Foglalások száma": "29",
                                    "Eddigi foglalások száma": "28"
                                },
                                {
                                    "SZALLAS_ID": "6",
                                    "SZALLAS_NEV": "Kentaur Hotel",
                                    "(No column name)": "2017",
                                    "Foglalások száma": "29",
                                    "Eddigi foglalások száma": "29"
                                },
                                {
                                    "SZALLAS_ID": "7",
                                    "SZALLAS_NEV": "Szieszta Apartmanház",
                                    "(No column name)": "2016",
                                    "Foglalások száma": "28",
                                    "Eddigi foglalások száma": "1"
                                },
                                {
                                    "SZALLAS_ID": "7",
                                    "SZALLAS_NEV": "Szieszta Apartmanház",
                                    "(No column name)": "2016",
                                    "Foglalások száma": "28",
                                    "Eddigi foglalások száma": "2"
                                },
                                {
                                    "SZALLAS_ID": "7",
                                    "SZALLAS_NEV": "Szieszta Apartmanház",
                                    "(No column name)": "2016",
                                    "Foglalások száma": "28",
                                    "Eddigi foglalások száma": "3"
                                },
                                {
                                    "SZALLAS_ID": "7",
                                    "SZALLAS_NEV": "Szieszta Apartmanház",
                                    "(No column name)": "2016",
                                    "Foglalások száma": "28",
                                    "Eddigi foglalások száma": "4"
                                },
                                {
                                    "SZALLAS_ID": "7",
                                    "SZALLAS_NEV": "Szieszta Apartmanház",
                                    "(No column name)": "2016",
                                    "Foglalások száma": "28",
                                    "Eddigi foglalások száma": "5"
                                },
                                {
                                    "SZALLAS_ID": "7",
                                    "SZALLAS_NEV": "Szieszta Apartmanház",
                                    "(No column name)": "2016",
                                    "Foglalások száma": "28",
                                    "Eddigi foglalások száma": "6"
                                },
                                {
                                    "SZALLAS_ID": "7",
                                    "SZALLAS_NEV": "Szieszta Apartmanház",
                                    "(No column name)": "2016",
                                    "Foglalások száma": "28",
                                    "Eddigi foglalások száma": "7"
                                },
                                {
                                    "SZALLAS_ID": "7",
                                    "SZALLAS_NEV": "Szieszta Apartmanház",
                                    "(No column name)": "2016",
                                    "Foglalások száma": "28",
                                    "Eddigi foglalások száma": "8"
                                },
                                {
                                    "SZALLAS_ID": "7",
                                    "SZALLAS_NEV": "Szieszta Apartmanház",
                                    "(No column name)": "2016",
                                    "Foglalások száma": "28",
                                    "Eddigi foglalások száma": "9"
                                },
                                {
                                    "SZALLAS_ID": "7",
                                    "SZALLAS_NEV": "Szieszta Apartmanház",
                                    "(No column name)": "2016",
                                    "Foglalások száma": "28",
                                    "Eddigi foglalások száma": "10"
                                },
                                {
                                    "SZALLAS_ID": "7",
                                    "SZALLAS_NEV": "Szieszta Apartmanház",
                                    "(No column name)": "2016",
                                    "Foglalások száma": "28",
                                    "Eddigi foglalások száma": "11"
                                },
                                {
                                    "SZALLAS_ID": "7",
                                    "SZALLAS_NEV": "Szieszta Apartmanház",
                                    "(No column name)": "2016",
                                    "Foglalások száma": "28",
                                    "Eddigi foglalások száma": "12"
                                },
                                {
                                    "SZALLAS_ID": "7",
                                    "SZALLAS_NEV": "Szieszta Apartmanház",
                                    "(No column name)": "2016",
                                    "Foglalások száma": "28",
                                    "Eddigi foglalások száma": "15"
                                },
                                {
                                    "SZALLAS_ID": "7",
                                    "SZALLAS_NEV": "Szieszta Apartmanház",
                                    "(No column name)": "2016",
                                    "Foglalások száma": "28",
                                    "Eddigi foglalások száma": "15"
                                },
                                {
                                    "SZALLAS_ID": "7",
                                    "SZALLAS_NEV": "Szieszta Apartmanház",
                                    "(No column name)": "2016",
                                    "Foglalások száma": "28",
                                    "Eddigi foglalások száma": "15"
                                },
                                {
                                    "SZALLAS_ID": "7",
                                    "SZALLAS_NEV": "Szieszta Apartmanház",
                                    "(No column name)": "2016",
                                    "Foglalások száma": "28",
                                    "Eddigi foglalások száma": "16"
                                },
                                {
                                    "SZALLAS_ID": "7",
                                    "SZALLAS_NEV": "Szieszta Apartmanház",
                                    "(No column name)": "2016",
                                    "Foglalások száma": "28",
                                    "Eddigi foglalások száma": "17"
                                },
                                {
                                    "SZALLAS_ID": "7",
                                    "SZALLAS_NEV": "Szieszta Apartmanház",
                                    "(No column name)": "2016",
                                    "Foglalások száma": "28",
                                    "Eddigi foglalások száma": "18"
                                },
                                {
                                    "SZALLAS_ID": "7",
                                    "SZALLAS_NEV": "Szieszta Apartmanház",
                                    "(No column name)": "2016",
                                    "Foglalások száma": "28",
                                    "Eddigi foglalások száma": "19"
                                },
                                {
                                    "SZALLAS_ID": "7",
                                    "SZALLAS_NEV": "Szieszta Apartmanház",
                                    "(No column name)": "2016",
                                    "Foglalások száma": "28",
                                    "Eddigi foglalások száma": "20"
                                },
                                {
                                    "SZALLAS_ID": "7",
                                    "SZALLAS_NEV": "Szieszta Apartmanház",
                                    "(No column name)": "2016",
                                    "Foglalások száma": "28",
                                    "Eddigi foglalások száma": "21"
                                },
                                {
                                    "SZALLAS_ID": "7",
                                    "SZALLAS_NEV": "Szieszta Apartmanház",
                                    "(No column name)": "2016",
                                    "Foglalások száma": "28",
                                    "Eddigi foglalások száma": "23"
                                },
                                {
                                    "SZALLAS_ID": "7",
                                    "SZALLAS_NEV": "Szieszta Apartmanház",
                                    "(No column name)": "2016",
                                    "Foglalások száma": "28",
                                    "Eddigi foglalások száma": "23"
                                },
                                {
                                    "SZALLAS_ID": "7",
                                    "SZALLAS_NEV": "Szieszta Apartmanház",
                                    "(No column name)": "2016",
                                    "Foglalások száma": "28",
                                    "Eddigi foglalások száma": "24"
                                },
                                {
                                    "SZALLAS_ID": "7",
                                    "SZALLAS_NEV": "Szieszta Apartmanház",
                                    "(No column name)": "2016",
                                    "Foglalások száma": "28",
                                    "Eddigi foglalások száma": "25"
                                },
                                {
                                    "SZALLAS_ID": "7",
                                    "SZALLAS_NEV": "Szieszta Apartmanház",
                                    "(No column name)": "2016",
                                    "Foglalások száma": "28",
                                    "Eddigi foglalások száma": "26"
                                },
                                {
                                    "SZALLAS_ID": "7",
                                    "SZALLAS_NEV": "Szieszta Apartmanház",
                                    "(No column name)": "2016",
                                    "Foglalások száma": "28",
                                    "Eddigi foglalások száma": "27"
                                },
                                {
                                    "SZALLAS_ID": "7",
                                    "SZALLAS_NEV": "Szieszta Apartmanház",
                                    "(No column name)": "2016",
                                    "Foglalások száma": "28",
                                    "Eddigi foglalások száma": "28"
                                },
                                {
                                    "SZALLAS_ID": "7",
                                    "SZALLAS_NEV": "Szieszta Apartmanház",
                                    "(No column name)": "2017",
                                    "Foglalások száma": "6",
                                    "Eddigi foglalások száma": "1"
                                },
                                {
                                    "SZALLAS_ID": "7",
                                    "SZALLAS_NEV": "Szieszta Apartmanház",
                                    "(No column name)": "2017",
                                    "Foglalások száma": "6",
                                    "Eddigi foglalások száma": "2"
                                },
                                {
                                    "SZALLAS_ID": "7",
                                    "SZALLAS_NEV": "Szieszta Apartmanház",
                                    "(No column name)": "2017",
                                    "Foglalások száma": "6",
                                    "Eddigi foglalások száma": "3"
                                },
                                {
                                    "SZALLAS_ID": "7",
                                    "SZALLAS_NEV": "Szieszta Apartmanház",
                                    "(No column name)": "2017",
                                    "Foglalások száma": "6",
                                    "Eddigi foglalások száma": "4"
                                },
                                {
                                    "SZALLAS_ID": "7",
                                    "SZALLAS_NEV": "Szieszta Apartmanház",
                                    "(No column name)": "2017",
                                    "Foglalások száma": "6",
                                    "Eddigi foglalások száma": "5"
                                },
                                {
                                    "SZALLAS_ID": "7",
                                    "SZALLAS_NEV": "Szieszta Apartmanház",
                                    "(No column name)": "2017",
                                    "Foglalások száma": "6",
                                    "Eddigi foglalások száma": "6"
                                },
                                {
                                    "SZALLAS_ID": "8",
                                    "SZALLAS_NEV": "Hotel Három Hattyú",
                                    "(No column name)": "2016",
                                    "Foglalások száma": "157",
                                    "Eddigi foglalások száma": "1"
                                },
                                {
                                    "SZALLAS_ID": "8",
                                    "SZALLAS_NEV": "Hotel Három Hattyú",
                                    "(No column name)": "2016",
                                    "Foglalások száma": "157",
                                    "Eddigi foglalások száma": "2"
                                },
                                {
                                    "SZALLAS_ID": "8",
                                    "SZALLAS_NEV": "Hotel Három Hattyú",
                                    "(No column name)": "2016",
                                    "Foglalások száma": "157",
                                    "Eddigi foglalások száma": "3"
                                },
                                {
                                    "SZALLAS_ID": "8",
                                    "SZALLAS_NEV": "Hotel Három Hattyú",
                                    "(No column name)": "2016",
                                    "Foglalások száma": "157",
                                    "Eddigi foglalások száma": "5"
                                },
                                {
                                    "SZALLAS_ID": "8",
                                    "SZALLAS_NEV": "Hotel Három Hattyú",
                                    "(No column name)": "2016",
                                    "Foglalások száma": "157",
                                    "Eddigi foglalások száma": "5"
                                },
                                {
                                    "SZALLAS_ID": "8",
                                    "SZALLAS_NEV": "Hotel Három Hattyú",
                                    "(No column name)": "2016",
                                    "Foglalások száma": "157",
                                    "Eddigi foglalások száma": "6"
                                },
                                {
                                    "SZALLAS_ID": "8",
                                    "SZALLAS_NEV": "Hotel Három Hattyú",
                                    "(No column name)": "2016",
                                    "Foglalások száma": "157",
                                    "Eddigi foglalások száma": "7"
                                },
                                {
                                    "SZALLAS_ID": "8",
                                    "SZALLAS_NEV": "Hotel Három Hattyú",
                                    "(No column name)": "2016",
                                    "Foglalások száma": "157",
                                    "Eddigi foglalások száma": "8"
                                },
                                {
                                    "SZALLAS_ID": "8",
                                    "SZALLAS_NEV": "Hotel Három Hattyú",
                                    "(No column name)": "2016",
                                    "Foglalások száma": "157",
                                    "Eddigi foglalások száma": "10"
                                },
                                {
                                    "SZALLAS_ID": "8",
                                    "SZALLAS_NEV": "Hotel Három Hattyú",
                                    "(No column name)": "2016",
                                    "Foglalások száma": "157",
                                    "Eddigi foglalások száma": "10"
                                },
                                {
                                    "SZALLAS_ID": "8",
                                    "SZALLAS_NEV": "Hotel Három Hattyú",
                                    "(No column name)": "2016",
                                    "Foglalások száma": "157",
                                    "Eddigi foglalások száma": "12"
                                },
                                {
                                    "SZALLAS_ID": "8",
                                    "SZALLAS_NEV": "Hotel Három Hattyú",
                                    "(No column name)": "2016",
                                    "Foglalások száma": "157",
                                    "Eddigi foglalások száma": "12"
                                },
                                {
                                    "SZALLAS_ID": "8",
                                    "SZALLAS_NEV": "Hotel Három Hattyú",
                                    "(No column name)": "2016",
                                    "Foglalások száma": "157",
                                    "Eddigi foglalások száma": "13"
                                },
                                {
                                    "SZALLAS_ID": "8",
                                    "SZALLAS_NEV": "Hotel Három Hattyú",
                                    "(No column name)": "2016",
                                    "Foglalások száma": "157",
                                    "Eddigi foglalások száma": "14"
                                },
                                {
                                    "SZALLAS_ID": "8",
                                    "SZALLAS_NEV": "Hotel Három Hattyú",
                                    "(No column name)": "2016",
                                    "Foglalások száma": "157",
                                    "Eddigi foglalások száma": "15"
                                },
                                {
                                    "SZALLAS_ID": "8",
                                    "SZALLAS_NEV": "Hotel Három Hattyú",
                                    "(No column name)": "2016",
                                    "Foglalások száma": "157",
                                    "Eddigi foglalások száma": "17"
                                },
                                {
                                    "SZALLAS_ID": "8",
                                    "SZALLAS_NEV": "Hotel Három Hattyú",
                                    "(No column name)": "2016",
                                    "Foglalások száma": "157",
                                    "Eddigi foglalások száma": "17"
                                },
                                {
                                    "SZALLAS_ID": "8",
                                    "SZALLAS_NEV": "Hotel Három Hattyú",
                                    "(No column name)": "2016",
                                    "Foglalások száma": "157",
                                    "Eddigi foglalások száma": "19"
                                },
                                {
                                    "SZALLAS_ID": "8",
                                    "SZALLAS_NEV": "Hotel Három Hattyú",
                                    "(No column name)": "2016",
                                    "Foglalások száma": "157",
                                    "Eddigi foglalások száma": "19"
                                },
                                {
                                    "SZALLAS_ID": "8",
                                    "SZALLAS_NEV": "Hotel Három Hattyú",
                                    "(No column name)": "2016",
                                    "Foglalások száma": "157",
                                    "Eddigi foglalások száma": "20"
                                },
                                {
                                    "SZALLAS_ID": "8",
                                    "SZALLAS_NEV": "Hotel Három Hattyú",
                                    "(No column name)": "2016",
                                    "Foglalások száma": "157",
                                    "Eddigi foglalások száma": "21"
                                },
                                {
                                    "SZALLAS_ID": "8",
                                    "SZALLAS_NEV": "Hotel Három Hattyú",
                                    "(No column name)": "2016",
                                    "Foglalások száma": "157",
                                    "Eddigi foglalások száma": "22"
                                },
                                {
                                    "SZALLAS_ID": "8",
                                    "SZALLAS_NEV": "Hotel Három Hattyú",
                                    "(No column name)": "2016",
                                    "Foglalások száma": "157",
                                    "Eddigi foglalások száma": "23"
                                },
                                {
                                    "SZALLAS_ID": "8",
                                    "SZALLAS_NEV": "Hotel Három Hattyú",
                                    "(No column name)": "2016",
                                    "Foglalások száma": "157",
                                    "Eddigi foglalások száma": "24"
                                },
                                {
                                    "SZALLAS_ID": "8",
                                    "SZALLAS_NEV": "Hotel Három Hattyú",
                                    "(No column name)": "2016",
                                    "Foglalások száma": "157",
                                    "Eddigi foglalások száma": "25"
                                },
                                {
                                    "SZALLAS_ID": "8",
                                    "SZALLAS_NEV": "Hotel Három Hattyú",
                                    "(No column name)": "2016",
                                    "Foglalások száma": "157",
                                    "Eddigi foglalások száma": "26"
                                },
                                {
                                    "SZALLAS_ID": "8",
                                    "SZALLAS_NEV": "Hotel Három Hattyú",
                                    "(No column name)": "2016",
                                    "Foglalások száma": "157",
                                    "Eddigi foglalások száma": "27"
                                },
                                {
                                    "SZALLAS_ID": "8",
                                    "SZALLAS_NEV": "Hotel Három Hattyú",
                                    "(No column name)": "2016",
                                    "Foglalások száma": "157",
                                    "Eddigi foglalások száma": "29"
                                },
                                {
                                    "SZALLAS_ID": "8",
                                    "SZALLAS_NEV": "Hotel Három Hattyú",
                                    "(No column name)": "2016",
                                    "Foglalások száma": "157",
                                    "Eddigi foglalások száma": "29"
                                },
                                {
                                    "SZALLAS_ID": "8",
                                    "SZALLAS_NEV": "Hotel Három Hattyú",
                                    "(No column name)": "2016",
                                    "Foglalások száma": "157",
                                    "Eddigi foglalások száma": "30"
                                },
                                {
                                    "SZALLAS_ID": "8",
                                    "SZALLAS_NEV": "Hotel Három Hattyú",
                                    "(No column name)": "2016",
                                    "Foglalások száma": "157",
                                    "Eddigi foglalások száma": "32"
                                },
                                {
                                    "SZALLAS_ID": "8",
                                    "SZALLAS_NEV": "Hotel Három Hattyú",
                                    "(No column name)": "2016",
                                    "Foglalások száma": "157",
                                    "Eddigi foglalások száma": "32"
                                },
                                {
                                    "SZALLAS_ID": "8",
                                    "SZALLAS_NEV": "Hotel Három Hattyú",
                                    "(No column name)": "2016",
                                    "Foglalások száma": "157",
                                    "Eddigi foglalások száma": "34"
                                },
                                {
                                    "SZALLAS_ID": "8",
                                    "SZALLAS_NEV": "Hotel Három Hattyú",
                                    "(No column name)": "2016",
                                    "Foglalások száma": "157",
                                    "Eddigi foglalások száma": "34"
                                },
                                {
                                    "SZALLAS_ID": "8",
                                    "SZALLAS_NEV": "Hotel Három Hattyú",
                                    "(No column name)": "2016",
                                    "Foglalások száma": "157",
                                    "Eddigi foglalások száma": "35"
                                },
                                {
                                    "SZALLAS_ID": "8",
                                    "SZALLAS_NEV": "Hotel Három Hattyú",
                                    "(No column name)": "2016",
                                    "Foglalások száma": "157",
                                    "Eddigi foglalások száma": "36"
                                },
                                {
                                    "SZALLAS_ID": "8",
                                    "SZALLAS_NEV": "Hotel Három Hattyú",
                                    "(No column name)": "2016",
                                    "Foglalások száma": "157",
                                    "Eddigi foglalások száma": "40"
                                },
                                {
                                    "SZALLAS_ID": "8",
                                    "SZALLAS_NEV": "Hotel Három Hattyú",
                                    "(No column name)": "2016",
                                    "Foglalások száma": "157",
                                    "Eddigi foglalások száma": "40"
                                },
                                {
                                    "SZALLAS_ID": "8",
                                    "SZALLAS_NEV": "Hotel Három Hattyú",
                                    "(No column name)": "2016",
                                    "Foglalások száma": "157",
                                    "Eddigi foglalások száma": "40"
                                },
                                {
                                    "SZALLAS_ID": "8",
                                    "SZALLAS_NEV": "Hotel Három Hattyú",
                                    "(No column name)": "2016",
                                    "Foglalások száma": "157",
                                    "Eddigi foglalások száma": "40"
                                },
                                {
                                    "SZALLAS_ID": "8",
                                    "SZALLAS_NEV": "Hotel Három Hattyú",
                                    "(No column name)": "2016",
                                    "Foglalások száma": "157",
                                    "Eddigi foglalások száma": "41"
                                },
                                {
                                    "SZALLAS_ID": "8",
                                    "SZALLAS_NEV": "Hotel Három Hattyú",
                                    "(No column name)": "2016",
                                    "Foglalások száma": "157",
                                    "Eddigi foglalások száma": "42"
                                },
                                {
                                    "SZALLAS_ID": "8",
                                    "SZALLAS_NEV": "Hotel Három Hattyú",
                                    "(No column name)": "2016",
                                    "Foglalások száma": "157",
                                    "Eddigi foglalások száma": "43"
                                },
                                {
                                    "SZALLAS_ID": "8",
                                    "SZALLAS_NEV": "Hotel Három Hattyú",
                                    "(No column name)": "2016",
                                    "Foglalások száma": "157",
                                    "Eddigi foglalások száma": "44"
                                },
                                {
                                    "SZALLAS_ID": "8",
                                    "SZALLAS_NEV": "Hotel Három Hattyú",
                                    "(No column name)": "2016",
                                    "Foglalások száma": "157",
                                    "Eddigi foglalások száma": "46"
                                },
                                {
                                    "SZALLAS_ID": "8",
                                    "SZALLAS_NEV": "Hotel Három Hattyú",
                                    "(No column name)": "2016",
                                    "Foglalások száma": "157",
                                    "Eddigi foglalások száma": "46"
                                },
                                {
                                    "SZALLAS_ID": "8",
                                    "SZALLAS_NEV": "Hotel Három Hattyú",
                                    "(No column name)": "2016",
                                    "Foglalások száma": "157",
                                    "Eddigi foglalások száma": "47"
                                },
                                {
                                    "SZALLAS_ID": "8",
                                    "SZALLAS_NEV": "Hotel Három Hattyú",
                                    "(No column name)": "2016",
                                    "Foglalások száma": "157",
                                    "Eddigi foglalások száma": "48"
                                },
                                {
                                    "SZALLAS_ID": "8",
                                    "SZALLAS_NEV": "Hotel Három Hattyú",
                                    "(No column name)": "2016",
                                    "Foglalások száma": "157",
                                    "Eddigi foglalások száma": "49"
                                },
                                {
                                    "SZALLAS_ID": "8",
                                    "SZALLAS_NEV": "Hotel Három Hattyú",
                                    "(No column name)": "2016",
                                    "Foglalások száma": "157",
                                    "Eddigi foglalások száma": "50"
                                },
                                {
                                    "SZALLAS_ID": "8",
                                    "SZALLAS_NEV": "Hotel Három Hattyú",
                                    "(No column name)": "2016",
                                    "Foglalások száma": "157",
                                    "Eddigi foglalások száma": "51"
                                },
                                {
                                    "SZALLAS_ID": "8",
                                    "SZALLAS_NEV": "Hotel Három Hattyú",
                                    "(No column name)": "2016",
                                    "Foglalások száma": "157",
                                    "Eddigi foglalások száma": "52"
                                },
                                {
                                    "SZALLAS_ID": "8",
                                    "SZALLAS_NEV": "Hotel Három Hattyú",
                                    "(No column name)": "2016",
                                    "Foglalások száma": "157",
                                    "Eddigi foglalások száma": "53"
                                },
                                {
                                    "SZALLAS_ID": "8",
                                    "SZALLAS_NEV": "Hotel Három Hattyú",
                                    "(No column name)": "2016",
                                    "Foglalások száma": "157",
                                    "Eddigi foglalások száma": "54"
                                },
                                {
                                    "SZALLAS_ID": "8",
                                    "SZALLAS_NEV": "Hotel Három Hattyú",
                                    "(No column name)": "2016",
                                    "Foglalások száma": "157",
                                    "Eddigi foglalások száma": "55"
                                },
                                {
                                    "SZALLAS_ID": "8",
                                    "SZALLAS_NEV": "Hotel Három Hattyú",
                                    "(No column name)": "2016",
                                    "Foglalások száma": "157",
                                    "Eddigi foglalások száma": "56"
                                },
                                {
                                    "SZALLAS_ID": "8",
                                    "SZALLAS_NEV": "Hotel Három Hattyú",
                                    "(No column name)": "2016",
                                    "Foglalások száma": "157",
                                    "Eddigi foglalások száma": "57"
                                },
                                {
                                    "SZALLAS_ID": "8",
                                    "SZALLAS_NEV": "Hotel Három Hattyú",
                                    "(No column name)": "2016",
                                    "Foglalások száma": "157",
                                    "Eddigi foglalások száma": "58"
                                },
                                {
                                    "SZALLAS_ID": "8",
                                    "SZALLAS_NEV": "Hotel Három Hattyú",
                                    "(No column name)": "2016",
                                    "Foglalások száma": "157",
                                    "Eddigi foglalások száma": "60"
                                },
                                {
                                    "SZALLAS_ID": "8",
                                    "SZALLAS_NEV": "Hotel Három Hattyú",
                                    "(No column name)": "2016",
                                    "Foglalások száma": "157",
                                    "Eddigi foglalások száma": "60"
                                },
                                {
                                    "SZALLAS_ID": "8",
                                    "SZALLAS_NEV": "Hotel Három Hattyú",
                                    "(No column name)": "2016",
                                    "Foglalások száma": "157",
                                    "Eddigi foglalások száma": "65"
                                },
                                {
                                    "SZALLAS_ID": "8",
                                    "SZALLAS_NEV": "Hotel Három Hattyú",
                                    "(No column name)": "2016",
                                    "Foglalások száma": "157",
                                    "Eddigi foglalások száma": "65"
                                },
                                {
                                    "SZALLAS_ID": "8",
                                    "SZALLAS_NEV": "Hotel Három Hattyú",
                                    "(No column name)": "2016",
                                    "Foglalások száma": "157",
                                    "Eddigi foglalások száma": "65"
                                },
                                {
                                    "SZALLAS_ID": "8",
                                    "SZALLAS_NEV": "Hotel Három Hattyú",
                                    "(No column name)": "2016",
                                    "Foglalások száma": "157",
                                    "Eddigi foglalások száma": "65"
                                },
                                {
                                    "SZALLAS_ID": "8",
                                    "SZALLAS_NEV": "Hotel Három Hattyú",
                                    "(No column name)": "2016",
                                    "Foglalások száma": "157",
                                    "Eddigi foglalások száma": "65"
                                },
                                {
                                    "SZALLAS_ID": "8",
                                    "SZALLAS_NEV": "Hotel Három Hattyú",
                                    "(No column name)": "2016",
                                    "Foglalások száma": "157",
                                    "Eddigi foglalások száma": "67"
                                },
                                {
                                    "SZALLAS_ID": "8",
                                    "SZALLAS_NEV": "Hotel Három Hattyú",
                                    "(No column name)": "2016",
                                    "Foglalások száma": "157",
                                    "Eddigi foglalások száma": "67"
                                },
                                {
                                    "SZALLAS_ID": "8",
                                    "SZALLAS_NEV": "Hotel Három Hattyú",
                                    "(No column name)": "2016",
                                    "Foglalások száma": "157",
                                    "Eddigi foglalások száma": "68"
                                },
                                {
                                    "SZALLAS_ID": "8",
                                    "SZALLAS_NEV": "Hotel Három Hattyú",
                                    "(No column name)": "2016",
                                    "Foglalások száma": "157",
                                    "Eddigi foglalások száma": "70"
                                },
                                {
                                    "SZALLAS_ID": "8",
                                    "SZALLAS_NEV": "Hotel Három Hattyú",
                                    "(No column name)": "2016",
                                    "Foglalások száma": "157",
                                    "Eddigi foglalások száma": "70"
                                },
                                {
                                    "SZALLAS_ID": "8",
                                    "SZALLAS_NEV": "Hotel Három Hattyú",
                                    "(No column name)": "2016",
                                    "Foglalások száma": "157",
                                    "Eddigi foglalások száma": "71"
                                },
                                {
                                    "SZALLAS_ID": "8",
                                    "SZALLAS_NEV": "Hotel Három Hattyú",
                                    "(No column name)": "2016",
                                    "Foglalások száma": "157",
                                    "Eddigi foglalások száma": "72"
                                },
                                {
                                    "SZALLAS_ID": "8",
                                    "SZALLAS_NEV": "Hotel Három Hattyú",
                                    "(No column name)": "2016",
                                    "Foglalások száma": "157",
                                    "Eddigi foglalások száma": "73"
                                },
                                {
                                    "SZALLAS_ID": "8",
                                    "SZALLAS_NEV": "Hotel Három Hattyú",
                                    "(No column name)": "2016",
                                    "Foglalások száma": "157",
                                    "Eddigi foglalások száma": "74"
                                },
                                {
                                    "SZALLAS_ID": "8",
                                    "SZALLAS_NEV": "Hotel Három Hattyú",
                                    "(No column name)": "2016",
                                    "Foglalások száma": "157",
                                    "Eddigi foglalások száma": "75"
                                },
                                {
                                    "SZALLAS_ID": "8",
                                    "SZALLAS_NEV": "Hotel Három Hattyú",
                                    "(No column name)": "2016",
                                    "Foglalások száma": "157",
                                    "Eddigi foglalások száma": "76"
                                },
                                {
                                    "SZALLAS_ID": "8",
                                    "SZALLAS_NEV": "Hotel Három Hattyú",
                                    "(No column name)": "2016",
                                    "Foglalások száma": "157",
                                    "Eddigi foglalások száma": "77"
                                },
                                {
                                    "SZALLAS_ID": "8",
                                    "SZALLAS_NEV": "Hotel Három Hattyú",
                                    "(No column name)": "2016",
                                    "Foglalások száma": "157",
                                    "Eddigi foglalások száma": "79"
                                },
                                {
                                    "SZALLAS_ID": "8",
                                    "SZALLAS_NEV": "Hotel Három Hattyú",
                                    "(No column name)": "2016",
                                    "Foglalások száma": "157",
                                    "Eddigi foglalások száma": "79"
                                },
                                {
                                    "SZALLAS_ID": "8",
                                    "SZALLAS_NEV": "Hotel Három Hattyú",
                                    "(No column name)": "2016",
                                    "Foglalások száma": "157",
                                    "Eddigi foglalások száma": "80"
                                },
                                {
                                    "SZALLAS_ID": "8",
                                    "SZALLAS_NEV": "Hotel Három Hattyú",
                                    "(No column name)": "2016",
                                    "Foglalások száma": "157",
                                    "Eddigi foglalások száma": "81"
                                },
                                {
                                    "SZALLAS_ID": "8",
                                    "SZALLAS_NEV": "Hotel Három Hattyú",
                                    "(No column name)": "2016",
                                    "Foglalások száma": "157",
                                    "Eddigi foglalások száma": "83"
                                },
                                {
                                    "SZALLAS_ID": "8",
                                    "SZALLAS_NEV": "Hotel Három Hattyú",
                                    "(No column name)": "2016",
                                    "Foglalások száma": "157",
                                    "Eddigi foglalások száma": "83"
                                },
                                {
                                    "SZALLAS_ID": "8",
                                    "SZALLAS_NEV": "Hotel Három Hattyú",
                                    "(No column name)": "2016",
                                    "Foglalások száma": "157",
                                    "Eddigi foglalások száma": "84"
                                },
                                {
                                    "SZALLAS_ID": "8",
                                    "SZALLAS_NEV": "Hotel Három Hattyú",
                                    "(No column name)": "2016",
                                    "Foglalások száma": "157",
                                    "Eddigi foglalások száma": "85"
                                },
                                {
                                    "SZALLAS_ID": "8",
                                    "SZALLAS_NEV": "Hotel Három Hattyú",
                                    "(No column name)": "2016",
                                    "Foglalások száma": "157",
                                    "Eddigi foglalások száma": "86"
                                },
                                {
                                    "SZALLAS_ID": "8",
                                    "SZALLAS_NEV": "Hotel Három Hattyú",
                                    "(No column name)": "2016",
                                    "Foglalások száma": "157",
                                    "Eddigi foglalások száma": "87"
                                },
                                {
                                    "SZALLAS_ID": "8",
                                    "SZALLAS_NEV": "Hotel Három Hattyú",
                                    "(No column name)": "2016",
                                    "Foglalások száma": "157",
                                    "Eddigi foglalások száma": "88"
                                },
                                {
                                    "SZALLAS_ID": "8",
                                    "SZALLAS_NEV": "Hotel Három Hattyú",
                                    "(No column name)": "2016",
                                    "Foglalások száma": "157",
                                    "Eddigi foglalások száma": "91"
                                },
                                {
                                    "SZALLAS_ID": "8",
                                    "SZALLAS_NEV": "Hotel Három Hattyú",
                                    "(No column name)": "2016",
                                    "Foglalások száma": "157",
                                    "Eddigi foglalások száma": "91"
                                },
                                {
                                    "SZALLAS_ID": "8",
                                    "SZALLAS_NEV": "Hotel Három Hattyú",
                                    "(No column name)": "2016",
                                    "Foglalások száma": "157",
                                    "Eddigi foglalások száma": "91"
                                },
                                {
                                    "SZALLAS_ID": "8",
                                    "SZALLAS_NEV": "Hotel Három Hattyú",
                                    "(No column name)": "2016",
                                    "Foglalások száma": "157",
                                    "Eddigi foglalások száma": "92"
                                },
                                {
                                    "SZALLAS_ID": "8",
                                    "SZALLAS_NEV": "Hotel Három Hattyú",
                                    "(No column name)": "2016",
                                    "Foglalások száma": "157",
                                    "Eddigi foglalások száma": "93"
                                },
                                {
                                    "SZALLAS_ID": "8",
                                    "SZALLAS_NEV": "Hotel Három Hattyú",
                                    "(No column name)": "2016",
                                    "Foglalások száma": "157",
                                    "Eddigi foglalások száma": "94"
                                },
                                {
                                    "SZALLAS_ID": "8",
                                    "SZALLAS_NEV": "Hotel Három Hattyú",
                                    "(No column name)": "2016",
                                    "Foglalások száma": "157",
                                    "Eddigi foglalások száma": "95"
                                },
                                {
                                    "SZALLAS_ID": "8",
                                    "SZALLAS_NEV": "Hotel Három Hattyú",
                                    "(No column name)": "2016",
                                    "Foglalások száma": "157",
                                    "Eddigi foglalások száma": "96"
                                },
                                {
                                    "SZALLAS_ID": "8",
                                    "SZALLAS_NEV": "Hotel Három Hattyú",
                                    "(No column name)": "2016",
                                    "Foglalások száma": "157",
                                    "Eddigi foglalások száma": "99"
                                },
                                {
                                    "SZALLAS_ID": "8",
                                    "SZALLAS_NEV": "Hotel Három Hattyú",
                                    "(No column name)": "2016",
                                    "Foglalások száma": "157",
                                    "Eddigi foglalások száma": "99"
                                },
                                {
                                    "SZALLAS_ID": "8",
                                    "SZALLAS_NEV": "Hotel Három Hattyú",
                                    "(No column name)": "2016",
                                    "Foglalások száma": "157",
                                    "Eddigi foglalások száma": "99"
                                },
                                {
                                    "SZALLAS_ID": "8",
                                    "SZALLAS_NEV": "Hotel Három Hattyú",
                                    "(No column name)": "2016",
                                    "Foglalások száma": "157",
                                    "Eddigi foglalások száma": "100"
                                },
                                {
                                    "SZALLAS_ID": "8",
                                    "SZALLAS_NEV": "Hotel Három Hattyú",
                                    "(No column name)": "2016",
                                    "Foglalások száma": "157",
                                    "Eddigi foglalások száma": "101"
                                },
                                {
                                    "SZALLAS_ID": "8",
                                    "SZALLAS_NEV": "Hotel Három Hattyú",
                                    "(No column name)": "2016",
                                    "Foglalások száma": "157",
                                    "Eddigi foglalások száma": "103"
                                },
                                {
                                    "SZALLAS_ID": "8",
                                    "SZALLAS_NEV": "Hotel Három Hattyú",
                                    "(No column name)": "2016",
                                    "Foglalások száma": "157",
                                    "Eddigi foglalások száma": "103"
                                },
                                {
                                    "SZALLAS_ID": "8",
                                    "SZALLAS_NEV": "Hotel Három Hattyú",
                                    "(No column name)": "2016",
                                    "Foglalások száma": "157",
                                    "Eddigi foglalások száma": "104"
                                },
                                {
                                    "SZALLAS_ID": "8",
                                    "SZALLAS_NEV": "Hotel Három Hattyú",
                                    "(No column name)": "2016",
                                    "Foglalások száma": "157",
                                    "Eddigi foglalások száma": "105"
                                },
                                {
                                    "SZALLAS_ID": "8",
                                    "SZALLAS_NEV": "Hotel Három Hattyú",
                                    "(No column name)": "2016",
                                    "Foglalások száma": "157",
                                    "Eddigi foglalások száma": "106"
                                },
                                {
                                    "SZALLAS_ID": "8",
                                    "SZALLAS_NEV": "Hotel Három Hattyú",
                                    "(No column name)": "2016",
                                    "Foglalások száma": "157",
                                    "Eddigi foglalások száma": "107"
                                },
                                {
                                    "SZALLAS_ID": "8",
                                    "SZALLAS_NEV": "Hotel Három Hattyú",
                                    "(No column name)": "2016",
                                    "Foglalások száma": "157",
                                    "Eddigi foglalások száma": "108"
                                },
                                {
                                    "SZALLAS_ID": "8",
                                    "SZALLAS_NEV": "Hotel Három Hattyú",
                                    "(No column name)": "2016",
                                    "Foglalások száma": "157",
                                    "Eddigi foglalások száma": "109"
                                },
                                {
                                    "SZALLAS_ID": "8",
                                    "SZALLAS_NEV": "Hotel Három Hattyú",
                                    "(No column name)": "2016",
                                    "Foglalások száma": "157",
                                    "Eddigi foglalások száma": "112"
                                },
                                {
                                    "SZALLAS_ID": "8",
                                    "SZALLAS_NEV": "Hotel Három Hattyú",
                                    "(No column name)": "2016",
                                    "Foglalások száma": "157",
                                    "Eddigi foglalások száma": "112"
                                },
                                {
                                    "SZALLAS_ID": "8",
                                    "SZALLAS_NEV": "Hotel Három Hattyú",
                                    "(No column name)": "2016",
                                    "Foglalások száma": "157",
                                    "Eddigi foglalások száma": "112"
                                },
                                {
                                    "SZALLAS_ID": "8",
                                    "SZALLAS_NEV": "Hotel Három Hattyú",
                                    "(No column name)": "2016",
                                    "Foglalások száma": "157",
                                    "Eddigi foglalások száma": "114"
                                },
                                {
                                    "SZALLAS_ID": "8",
                                    "SZALLAS_NEV": "Hotel Három Hattyú",
                                    "(No column name)": "2016",
                                    "Foglalások száma": "157",
                                    "Eddigi foglalások száma": "114"
                                },
                                {
                                    "SZALLAS_ID": "8",
                                    "SZALLAS_NEV": "Hotel Három Hattyú",
                                    "(No column name)": "2016",
                                    "Foglalások száma": "157",
                                    "Eddigi foglalások száma": "117"
                                },
                                {
                                    "SZALLAS_ID": "8",
                                    "SZALLAS_NEV": "Hotel Három Hattyú",
                                    "(No column name)": "2016",
                                    "Foglalások száma": "157",
                                    "Eddigi foglalások száma": "117"
                                },
                                {
                                    "SZALLAS_ID": "8",
                                    "SZALLAS_NEV": "Hotel Három Hattyú",
                                    "(No column name)": "2016",
                                    "Foglalások száma": "157",
                                    "Eddigi foglalások száma": "117"
                                },
                                {
                                    "SZALLAS_ID": "8",
                                    "SZALLAS_NEV": "Hotel Három Hattyú",
                                    "(No column name)": "2016",
                                    "Foglalások száma": "157",
                                    "Eddigi foglalások száma": "118"
                                },
                                {
                                    "SZALLAS_ID": "8",
                                    "SZALLAS_NEV": "Hotel Három Hattyú",
                                    "(No column name)": "2016",
                                    "Foglalások száma": "157",
                                    "Eddigi foglalások száma": "119"
                                },
                                {
                                    "SZALLAS_ID": "8",
                                    "SZALLAS_NEV": "Hotel Három Hattyú",
                                    "(No column name)": "2016",
                                    "Foglalások száma": "157",
                                    "Eddigi foglalások száma": "121"
                                },
                                {
                                    "SZALLAS_ID": "8",
                                    "SZALLAS_NEV": "Hotel Három Hattyú",
                                    "(No column name)": "2016",
                                    "Foglalások száma": "157",
                                    "Eddigi foglalások száma": "121"
                                },
                                {
                                    "SZALLAS_ID": "8",
                                    "SZALLAS_NEV": "Hotel Három Hattyú",
                                    "(No column name)": "2016",
                                    "Foglalások száma": "157",
                                    "Eddigi foglalások száma": "122"
                                },
                                {
                                    "SZALLAS_ID": "8",
                                    "SZALLAS_NEV": "Hotel Három Hattyú",
                                    "(No column name)": "2016",
                                    "Foglalások száma": "157",
                                    "Eddigi foglalások száma": "123"
                                },
                                {
                                    "SZALLAS_ID": "8",
                                    "SZALLAS_NEV": "Hotel Három Hattyú",
                                    "(No column name)": "2016",
                                    "Foglalások száma": "157",
                                    "Eddigi foglalások száma": "124"
                                },
                                {
                                    "SZALLAS_ID": "8",
                                    "SZALLAS_NEV": "Hotel Három Hattyú",
                                    "(No column name)": "2016",
                                    "Foglalások száma": "157",
                                    "Eddigi foglalások száma": "125"
                                },
                                {
                                    "SZALLAS_ID": "8",
                                    "SZALLAS_NEV": "Hotel Három Hattyú",
                                    "(No column name)": "2016",
                                    "Foglalások száma": "157",
                                    "Eddigi foglalások száma": "127"
                                },
                                {
                                    "SZALLAS_ID": "8",
                                    "SZALLAS_NEV": "Hotel Három Hattyú",
                                    "(No column name)": "2016",
                                    "Foglalások száma": "157",
                                    "Eddigi foglalások száma": "127"
                                },
                                {
                                    "SZALLAS_ID": "8",
                                    "SZALLAS_NEV": "Hotel Három Hattyú",
                                    "(No column name)": "2016",
                                    "Foglalások száma": "157",
                                    "Eddigi foglalások száma": "128"
                                },
                                {
                                    "SZALLAS_ID": "8",
                                    "SZALLAS_NEV": "Hotel Három Hattyú",
                                    "(No column name)": "2016",
                                    "Foglalások száma": "157",
                                    "Eddigi foglalások száma": "129"
                                },
                                {
                                    "SZALLAS_ID": "8",
                                    "SZALLAS_NEV": "Hotel Három Hattyú",
                                    "(No column name)": "2016",
                                    "Foglalások száma": "157",
                                    "Eddigi foglalások száma": "130"
                                },
                                {
                                    "SZALLAS_ID": "8",
                                    "SZALLAS_NEV": "Hotel Három Hattyú",
                                    "(No column name)": "2016",
                                    "Foglalások száma": "157",
                                    "Eddigi foglalások száma": "131"
                                },
                                {
                                    "SZALLAS_ID": "8",
                                    "SZALLAS_NEV": "Hotel Három Hattyú",
                                    "(No column name)": "2016",
                                    "Foglalások száma": "157",
                                    "Eddigi foglalások száma": "133"
                                },
                                {
                                    "SZALLAS_ID": "8",
                                    "SZALLAS_NEV": "Hotel Három Hattyú",
                                    "(No column name)": "2016",
                                    "Foglalások száma": "157",
                                    "Eddigi foglalások száma": "133"
                                },
                                {
                                    "SZALLAS_ID": "8",
                                    "SZALLAS_NEV": "Hotel Három Hattyú",
                                    "(No column name)": "2016",
                                    "Foglalások száma": "157",
                                    "Eddigi foglalások száma": "134"
                                },
                                {
                                    "SZALLAS_ID": "8",
                                    "SZALLAS_NEV": "Hotel Három Hattyú",
                                    "(No column name)": "2016",
                                    "Foglalások száma": "157",
                                    "Eddigi foglalások száma": "135"
                                },
                                {
                                    "SZALLAS_ID": "8",
                                    "SZALLAS_NEV": "Hotel Három Hattyú",
                                    "(No column name)": "2016",
                                    "Foglalások száma": "157",
                                    "Eddigi foglalások száma": "136"
                                },
                                {
                                    "SZALLAS_ID": "8",
                                    "SZALLAS_NEV": "Hotel Három Hattyú",
                                    "(No column name)": "2016",
                                    "Foglalások száma": "157",
                                    "Eddigi foglalások száma": "139"
                                },
                                {
                                    "SZALLAS_ID": "8",
                                    "SZALLAS_NEV": "Hotel Három Hattyú",
                                    "(No column name)": "2016",
                                    "Foglalások száma": "157",
                                    "Eddigi foglalások száma": "139"
                                },
                                {
                                    "SZALLAS_ID": "8",
                                    "SZALLAS_NEV": "Hotel Három Hattyú",
                                    "(No column name)": "2016",
                                    "Foglalások száma": "157",
                                    "Eddigi foglalások száma": "139"
                                },
                                {
                                    "SZALLAS_ID": "8",
                                    "SZALLAS_NEV": "Hotel Három Hattyú",
                                    "(No column name)": "2016",
                                    "Foglalások száma": "157",
                                    "Eddigi foglalások száma": "140"
                                },
                                {
                                    "SZALLAS_ID": "8",
                                    "SZALLAS_NEV": "Hotel Három Hattyú",
                                    "(No column name)": "2016",
                                    "Foglalások száma": "157",
                                    "Eddigi foglalások száma": "141"
                                },
                                {
                                    "SZALLAS_ID": "8",
                                    "SZALLAS_NEV": "Hotel Három Hattyú",
                                    "(No column name)": "2016",
                                    "Foglalások száma": "157",
                                    "Eddigi foglalások száma": "142"
                                },
                                {
                                    "SZALLAS_ID": "8",
                                    "SZALLAS_NEV": "Hotel Három Hattyú",
                                    "(No column name)": "2016",
                                    "Foglalások száma": "157",
                                    "Eddigi foglalások száma": "146"
                                },
                                {
                                    "SZALLAS_ID": "8",
                                    "SZALLAS_NEV": "Hotel Három Hattyú",
                                    "(No column name)": "2016",
                                    "Foglalások száma": "157",
                                    "Eddigi foglalások száma": "146"
                                },
                                {
                                    "SZALLAS_ID": "8",
                                    "SZALLAS_NEV": "Hotel Három Hattyú",
                                    "(No column name)": "2016",
                                    "Foglalások száma": "157",
                                    "Eddigi foglalások száma": "146"
                                },
                                {
                                    "SZALLAS_ID": "8",
                                    "SZALLAS_NEV": "Hotel Három Hattyú",
                                    "(No column name)": "2016",
                                    "Foglalások száma": "157",
                                    "Eddigi foglalások száma": "146"
                                },
                                {
                                    "SZALLAS_ID": "8",
                                    "SZALLAS_NEV": "Hotel Három Hattyú",
                                    "(No column name)": "2016",
                                    "Foglalások száma": "157",
                                    "Eddigi foglalások száma": "147"
                                },
                                {
                                    "SZALLAS_ID": "8",
                                    "SZALLAS_NEV": "Hotel Három Hattyú",
                                    "(No column name)": "2016",
                                    "Foglalások száma": "157",
                                    "Eddigi foglalások száma": "148"
                                },
                                {
                                    "SZALLAS_ID": "8",
                                    "SZALLAS_NEV": "Hotel Három Hattyú",
                                    "(No column name)": "2016",
                                    "Foglalások száma": "157",
                                    "Eddigi foglalások száma": "153"
                                },
                                {
                                    "SZALLAS_ID": "8",
                                    "SZALLAS_NEV": "Hotel Három Hattyú",
                                    "(No column name)": "2016",
                                    "Foglalások száma": "157",
                                    "Eddigi foglalások száma": "153"
                                },
                                {
                                    "SZALLAS_ID": "8",
                                    "SZALLAS_NEV": "Hotel Három Hattyú",
                                    "(No column name)": "2016",
                                    "Foglalások száma": "157",
                                    "Eddigi foglalások száma": "153"
                                },
                                {
                                    "SZALLAS_ID": "8",
                                    "SZALLAS_NEV": "Hotel Három Hattyú",
                                    "(No column name)": "2016",
                                    "Foglalások száma": "157",
                                    "Eddigi foglalások száma": "153"
                                },
                                {
                                    "SZALLAS_ID": "8",
                                    "SZALLAS_NEV": "Hotel Három Hattyú",
                                    "(No column name)": "2016",
                                    "Foglalások száma": "157",
                                    "Eddigi foglalások száma": "153"
                                },
                                {
                                    "SZALLAS_ID": "8",
                                    "SZALLAS_NEV": "Hotel Három Hattyú",
                                    "(No column name)": "2016",
                                    "Foglalások száma": "157",
                                    "Eddigi foglalások száma": "154"
                                },
                                {
                                    "SZALLAS_ID": "8",
                                    "SZALLAS_NEV": "Hotel Három Hattyú",
                                    "(No column name)": "2016",
                                    "Foglalások száma": "157",
                                    "Eddigi foglalások száma": "155"
                                },
                                {
                                    "SZALLAS_ID": "8",
                                    "SZALLAS_NEV": "Hotel Három Hattyú",
                                    "(No column name)": "2016",
                                    "Foglalások száma": "157",
                                    "Eddigi foglalások száma": "156"
                                },
                                {
                                    "SZALLAS_ID": "8",
                                    "SZALLAS_NEV": "Hotel Három Hattyú",
                                    "(No column name)": "2016",
                                    "Foglalások száma": "157",
                                    "Eddigi foglalások száma": "157"
                                },
                                {
                                    "SZALLAS_ID": "8",
                                    "SZALLAS_NEV": "Hotel Három Hattyú",
                                    "(No column name)": "2017",
                                    "Foglalások száma": "47",
                                    "Eddigi foglalások száma": "1"
                                },
                                {
                                    "SZALLAS_ID": "8",
                                    "SZALLAS_NEV": "Hotel Három Hattyú",
                                    "(No column name)": "2017",
                                    "Foglalások száma": "47",
                                    "Eddigi foglalások száma": "2"
                                },
                                {
                                    "SZALLAS_ID": "8",
                                    "SZALLAS_NEV": "Hotel Három Hattyú",
                                    "(No column name)": "2017",
                                    "Foglalások száma": "47",
                                    "Eddigi foglalások száma": "3"
                                },
                                {
                                    "SZALLAS_ID": "8",
                                    "SZALLAS_NEV": "Hotel Három Hattyú",
                                    "(No column name)": "2017",
                                    "Foglalások száma": "47",
                                    "Eddigi foglalások száma": "4"
                                },
                                {
                                    "SZALLAS_ID": "8",
                                    "SZALLAS_NEV": "Hotel Három Hattyú",
                                    "(No column name)": "2017",
                                    "Foglalások száma": "47",
                                    "Eddigi foglalások száma": "5"
                                },
                                {
                                    "SZALLAS_ID": "8",
                                    "SZALLAS_NEV": "Hotel Három Hattyú",
                                    "(No column name)": "2017",
                                    "Foglalások száma": "47",
                                    "Eddigi foglalások száma": "6"
                                },
                                {
                                    "SZALLAS_ID": "8",
                                    "SZALLAS_NEV": "Hotel Három Hattyú",
                                    "(No column name)": "2017",
                                    "Foglalások száma": "47",
                                    "Eddigi foglalások száma": "7"
                                },
                                {
                                    "SZALLAS_ID": "8",
                                    "SZALLAS_NEV": "Hotel Három Hattyú",
                                    "(No column name)": "2017",
                                    "Foglalások száma": "47",
                                    "Eddigi foglalások száma": "8"
                                },
                                {
                                    "SZALLAS_ID": "8",
                                    "SZALLAS_NEV": "Hotel Három Hattyú",
                                    "(No column name)": "2017",
                                    "Foglalások száma": "47",
                                    "Eddigi foglalások száma": "9"
                                },
                                {
                                    "SZALLAS_ID": "8",
                                    "SZALLAS_NEV": "Hotel Három Hattyú",
                                    "(No column name)": "2017",
                                    "Foglalások száma": "47",
                                    "Eddigi foglalások száma": "10"
                                },
                                {
                                    "SZALLAS_ID": "8",
                                    "SZALLAS_NEV": "Hotel Három Hattyú",
                                    "(No column name)": "2017",
                                    "Foglalások száma": "47",
                                    "Eddigi foglalások száma": "11"
                                },
                                {
                                    "SZALLAS_ID": "8",
                                    "SZALLAS_NEV": "Hotel Három Hattyú",
                                    "(No column name)": "2017",
                                    "Foglalások száma": "47",
                                    "Eddigi foglalások száma": "12"
                                },
                                {
                                    "SZALLAS_ID": "8",
                                    "SZALLAS_NEV": "Hotel Három Hattyú",
                                    "(No column name)": "2017",
                                    "Foglalások száma": "47",
                                    "Eddigi foglalások száma": "14"
                                },
                                {
                                    "SZALLAS_ID": "8",
                                    "SZALLAS_NEV": "Hotel Három Hattyú",
                                    "(No column name)": "2017",
                                    "Foglalások száma": "47",
                                    "Eddigi foglalások száma": "14"
                                },
                                {
                                    "SZALLAS_ID": "8",
                                    "SZALLAS_NEV": "Hotel Három Hattyú",
                                    "(No column name)": "2017",
                                    "Foglalások száma": "47",
                                    "Eddigi foglalások száma": "16"
                                },
                                {
                                    "SZALLAS_ID": "8",
                                    "SZALLAS_NEV": "Hotel Három Hattyú",
                                    "(No column name)": "2017",
                                    "Foglalások száma": "47",
                                    "Eddigi foglalások száma": "16"
                                },
                                {
                                    "SZALLAS_ID": "8",
                                    "SZALLAS_NEV": "Hotel Három Hattyú",
                                    "(No column name)": "2017",
                                    "Foglalások száma": "47",
                                    "Eddigi foglalások száma": "17"
                                },
                                {
                                    "SZALLAS_ID": "8",
                                    "SZALLAS_NEV": "Hotel Három Hattyú",
                                    "(No column name)": "2017",
                                    "Foglalások száma": "47",
                                    "Eddigi foglalások száma": "18"
                                },
                                {
                                    "SZALLAS_ID": "8",
                                    "SZALLAS_NEV": "Hotel Három Hattyú",
                                    "(No column name)": "2017",
                                    "Foglalások száma": "47",
                                    "Eddigi foglalások száma": "19"
                                },
                                {
                                    "SZALLAS_ID": "8",
                                    "SZALLAS_NEV": "Hotel Három Hattyú",
                                    "(No column name)": "2017",
                                    "Foglalások száma": "47",
                                    "Eddigi foglalások száma": "22"
                                },
                                {
                                    "SZALLAS_ID": "8",
                                    "SZALLAS_NEV": "Hotel Három Hattyú",
                                    "(No column name)": "2017",
                                    "Foglalások száma": "47",
                                    "Eddigi foglalások száma": "22"
                                },
                                {
                                    "SZALLAS_ID": "8",
                                    "SZALLAS_NEV": "Hotel Három Hattyú",
                                    "(No column name)": "2017",
                                    "Foglalások száma": "47",
                                    "Eddigi foglalások száma": "22"
                                },
                                {
                                    "SZALLAS_ID": "8",
                                    "SZALLAS_NEV": "Hotel Három Hattyú",
                                    "(No column name)": "2017",
                                    "Foglalások száma": "47",
                                    "Eddigi foglalások száma": "25"
                                },
                                {
                                    "SZALLAS_ID": "8",
                                    "SZALLAS_NEV": "Hotel Három Hattyú",
                                    "(No column name)": "2017",
                                    "Foglalások száma": "47",
                                    "Eddigi foglalások száma": "25"
                                },
                                {
                                    "SZALLAS_ID": "8",
                                    "SZALLAS_NEV": "Hotel Három Hattyú",
                                    "(No column name)": "2017",
                                    "Foglalások száma": "47",
                                    "Eddigi foglalások száma": "25"
                                },
                                {
                                    "SZALLAS_ID": "8",
                                    "SZALLAS_NEV": "Hotel Három Hattyú",
                                    "(No column name)": "2017",
                                    "Foglalások száma": "47",
                                    "Eddigi foglalások száma": "27"
                                },
                                {
                                    "SZALLAS_ID": "8",
                                    "SZALLAS_NEV": "Hotel Három Hattyú",
                                    "(No column name)": "2017",
                                    "Foglalások száma": "47",
                                    "Eddigi foglalások száma": "27"
                                },
                                {
                                    "SZALLAS_ID": "8",
                                    "SZALLAS_NEV": "Hotel Három Hattyú",
                                    "(No column name)": "2017",
                                    "Foglalások száma": "47",
                                    "Eddigi foglalások száma": "28"
                                },
                                {
                                    "SZALLAS_ID": "8",
                                    "SZALLAS_NEV": "Hotel Három Hattyú",
                                    "(No column name)": "2017",
                                    "Foglalások száma": "47",
                                    "Eddigi foglalások száma": "31"
                                },
                                {
                                    "SZALLAS_ID": "8",
                                    "SZALLAS_NEV": "Hotel Három Hattyú",
                                    "(No column name)": "2017",
                                    "Foglalások száma": "47",
                                    "Eddigi foglalások száma": "31"
                                },
                                {
                                    "SZALLAS_ID": "8",
                                    "SZALLAS_NEV": "Hotel Három Hattyú",
                                    "(No column name)": "2017",
                                    "Foglalások száma": "47",
                                    "Eddigi foglalások száma": "31"
                                },
                                {
                                    "SZALLAS_ID": "8",
                                    "SZALLAS_NEV": "Hotel Három Hattyú",
                                    "(No column name)": "2017",
                                    "Foglalások száma": "47",
                                    "Eddigi foglalások száma": "35"
                                },
                                {
                                    "SZALLAS_ID": "8",
                                    "SZALLAS_NEV": "Hotel Három Hattyú",
                                    "(No column name)": "2017",
                                    "Foglalások száma": "47",
                                    "Eddigi foglalások száma": "35"
                                },
                                {
                                    "SZALLAS_ID": "8",
                                    "SZALLAS_NEV": "Hotel Három Hattyú",
                                    "(No column name)": "2017",
                                    "Foglalások száma": "47",
                                    "Eddigi foglalások száma": "35"
                                },
                                {
                                    "SZALLAS_ID": "8",
                                    "SZALLAS_NEV": "Hotel Három Hattyú",
                                    "(No column name)": "2017",
                                    "Foglalások száma": "47",
                                    "Eddigi foglalások száma": "35"
                                },
                                {
                                    "SZALLAS_ID": "8",
                                    "SZALLAS_NEV": "Hotel Három Hattyú",
                                    "(No column name)": "2017",
                                    "Foglalások száma": "47",
                                    "Eddigi foglalások száma": "36"
                                },
                                {
                                    "SZALLAS_ID": "8",
                                    "SZALLAS_NEV": "Hotel Három Hattyú",
                                    "(No column name)": "2017",
                                    "Foglalások száma": "47",
                                    "Eddigi foglalások száma": "38"
                                },
                                {
                                    "SZALLAS_ID": "8",
                                    "SZALLAS_NEV": "Hotel Három Hattyú",
                                    "(No column name)": "2017",
                                    "Foglalások száma": "47",
                                    "Eddigi foglalások száma": "38"
                                },
                                {
                                    "SZALLAS_ID": "8",
                                    "SZALLAS_NEV": "Hotel Három Hattyú",
                                    "(No column name)": "2017",
                                    "Foglalások száma": "47",
                                    "Eddigi foglalások száma": "40"
                                },
                                {
                                    "SZALLAS_ID": "8",
                                    "SZALLAS_NEV": "Hotel Három Hattyú",
                                    "(No column name)": "2017",
                                    "Foglalások száma": "47",
                                    "Eddigi foglalások száma": "40"
                                },
                                {
                                    "SZALLAS_ID": "8",
                                    "SZALLAS_NEV": "Hotel Három Hattyú",
                                    "(No column name)": "2017",
                                    "Foglalások száma": "47",
                                    "Eddigi foglalások száma": "42"
                                },
                                {
                                    "SZALLAS_ID": "8",
                                    "SZALLAS_NEV": "Hotel Három Hattyú",
                                    "(No column name)": "2017",
                                    "Foglalások száma": "47",
                                    "Eddigi foglalások száma": "42"
                                },
                                {
                                    "SZALLAS_ID": "8",
                                    "SZALLAS_NEV": "Hotel Három Hattyú",
                                    "(No column name)": "2017",
                                    "Foglalások száma": "47",
                                    "Eddigi foglalások száma": "44"
                                },
                                {
                                    "SZALLAS_ID": "8",
                                    "SZALLAS_NEV": "Hotel Három Hattyú",
                                    "(No column name)": "2017",
                                    "Foglalások száma": "47",
                                    "Eddigi foglalások száma": "44"
                                },
                                {
                                    "SZALLAS_ID": "8",
                                    "SZALLAS_NEV": "Hotel Három Hattyú",
                                    "(No column name)": "2017",
                                    "Foglalások száma": "47",
                                    "Eddigi foglalások száma": "45"
                                },
                                {
                                    "SZALLAS_ID": "8",
                                    "SZALLAS_NEV": "Hotel Három Hattyú",
                                    "(No column name)": "2017",
                                    "Foglalások száma": "47",
                                    "Eddigi foglalások száma": "46"
                                },
                                {
                                    "SZALLAS_ID": "8",
                                    "SZALLAS_NEV": "Hotel Három Hattyú",
                                    "(No column name)": "2017",
                                    "Foglalások száma": "47",
                                    "Eddigi foglalások száma": "47"
                                },
                                {
                                    "SZALLAS_ID": "9",
                                    "SZALLAS_NEV": "Jáde panzió",
                                    "(No column name)": "2016",
                                    "Foglalások száma": "24",
                                    "Eddigi foglalások száma": "1"
                                },
                                {
                                    "SZALLAS_ID": "9",
                                    "SZALLAS_NEV": "Jáde panzió",
                                    "(No column name)": "2016",
                                    "Foglalások száma": "24",
                                    "Eddigi foglalások száma": "2"
                                },
                                {
                                    "SZALLAS_ID": "9",
                                    "SZALLAS_NEV": "Jáde panzió",
                                    "(No column name)": "2016",
                                    "Foglalások száma": "24",
                                    "Eddigi foglalások száma": "3"
                                },
                                {
                                    "SZALLAS_ID": "9",
                                    "SZALLAS_NEV": "Jáde panzió",
                                    "(No column name)": "2016",
                                    "Foglalások száma": "24",
                                    "Eddigi foglalások száma": "4"
                                },
                                {
                                    "SZALLAS_ID": "9",
                                    "SZALLAS_NEV": "Jáde panzió",
                                    "(No column name)": "2016",
                                    "Foglalások száma": "24",
                                    "Eddigi foglalások száma": "5"
                                },
                                {
                                    "SZALLAS_ID": "9",
                                    "SZALLAS_NEV": "Jáde panzió",
                                    "(No column name)": "2016",
                                    "Foglalások száma": "24",
                                    "Eddigi foglalások száma": "6"
                                },
                                {
                                    "SZALLAS_ID": "9",
                                    "SZALLAS_NEV": "Jáde panzió",
                                    "(No column name)": "2016",
                                    "Foglalások száma": "24",
                                    "Eddigi foglalások száma": "8"
                                },
                                {
                                    "SZALLAS_ID": "9",
                                    "SZALLAS_NEV": "Jáde panzió",
                                    "(No column name)": "2016",
                                    "Foglalások száma": "24",
                                    "Eddigi foglalások száma": "8"
                                },
                                {
                                    "SZALLAS_ID": "9",
                                    "SZALLAS_NEV": "Jáde panzió",
                                    "(No column name)": "2016",
                                    "Foglalások száma": "24",
                                    "Eddigi foglalások száma": "9"
                                },
                                {
                                    "SZALLAS_ID": "9",
                                    "SZALLAS_NEV": "Jáde panzió",
                                    "(No column name)": "2016",
                                    "Foglalások száma": "24",
                                    "Eddigi foglalások száma": "10"
                                },
                                {
                                    "SZALLAS_ID": "9",
                                    "SZALLAS_NEV": "Jáde panzió",
                                    "(No column name)": "2016",
                                    "Foglalások száma": "24",
                                    "Eddigi foglalások száma": "11"
                                },
                                {
                                    "SZALLAS_ID": "9",
                                    "SZALLAS_NEV": "Jáde panzió",
                                    "(No column name)": "2016",
                                    "Foglalások száma": "24",
                                    "Eddigi foglalások száma": "12"
                                },
                                {
                                    "SZALLAS_ID": "9",
                                    "SZALLAS_NEV": "Jáde panzió",
                                    "(No column name)": "2016",
                                    "Foglalások száma": "24",
                                    "Eddigi foglalások száma": "13"
                                },
                                {
                                    "SZALLAS_ID": "9",
                                    "SZALLAS_NEV": "Jáde panzió",
                                    "(No column name)": "2016",
                                    "Foglalások száma": "24",
                                    "Eddigi foglalások száma": "14"
                                },
                                {
                                    "SZALLAS_ID": "9",
                                    "SZALLAS_NEV": "Jáde panzió",
                                    "(No column name)": "2016",
                                    "Foglalások száma": "24",
                                    "Eddigi foglalások száma": "15"
                                },
                                {
                                    "SZALLAS_ID": "9",
                                    "SZALLAS_NEV": "Jáde panzió",
                                    "(No column name)": "2016",
                                    "Foglalások száma": "24",
                                    "Eddigi foglalások száma": "16"
                                },
                                {
                                    "SZALLAS_ID": "9",
                                    "SZALLAS_NEV": "Jáde panzió",
                                    "(No column name)": "2016",
                                    "Foglalások száma": "24",
                                    "Eddigi foglalások száma": "17"
                                },
                                {
                                    "SZALLAS_ID": "9",
                                    "SZALLAS_NEV": "Jáde panzió",
                                    "(No column name)": "2016",
                                    "Foglalások száma": "24",
                                    "Eddigi foglalások száma": "18"
                                },
                                {
                                    "SZALLAS_ID": "9",
                                    "SZALLAS_NEV": "Jáde panzió",
                                    "(No column name)": "2016",
                                    "Foglalások száma": "24",
                                    "Eddigi foglalások száma": "19"
                                },
                                {
                                    "SZALLAS_ID": "9",
                                    "SZALLAS_NEV": "Jáde panzió",
                                    "(No column name)": "2016",
                                    "Foglalások száma": "24",
                                    "Eddigi foglalások száma": "20"
                                },
                                {
                                    "SZALLAS_ID": "9",
                                    "SZALLAS_NEV": "Jáde panzió",
                                    "(No column name)": "2016",
                                    "Foglalások száma": "24",
                                    "Eddigi foglalások száma": "21"
                                },
                                {
                                    "SZALLAS_ID": "9",
                                    "SZALLAS_NEV": "Jáde panzió",
                                    "(No column name)": "2016",
                                    "Foglalások száma": "24",
                                    "Eddigi foglalások száma": "23"
                                },
                                {
                                    "SZALLAS_ID": "9",
                                    "SZALLAS_NEV": "Jáde panzió",
                                    "(No column name)": "2016",
                                    "Foglalások száma": "24",
                                    "Eddigi foglalások száma": "23"
                                },
                                {
                                    "SZALLAS_ID": "9",
                                    "SZALLAS_NEV": "Jáde panzió",
                                    "(No column name)": "2016",
                                    "Foglalások száma": "24",
                                    "Eddigi foglalások száma": "24"
                                },
                                {
                                    "SZALLAS_ID": "9",
                                    "SZALLAS_NEV": "Jáde panzió",
                                    "(No column name)": "2017",
                                    "Foglalások száma": "5",
                                    "Eddigi foglalások száma": "1"
                                },
                                {
                                    "SZALLAS_ID": "9",
                                    "SZALLAS_NEV": "Jáde panzió",
                                    "(No column name)": "2017",
                                    "Foglalások száma": "5",
                                    "Eddigi foglalások száma": "2"
                                },
                                {
                                    "SZALLAS_ID": "9",
                                    "SZALLAS_NEV": "Jáde panzió",
                                    "(No column name)": "2017",
                                    "Foglalások száma": "5",
                                    "Eddigi foglalások száma": "3"
                                },
                                {
                                    "SZALLAS_ID": "9",
                                    "SZALLAS_NEV": "Jáde panzió",
                                    "(No column name)": "2017",
                                    "Foglalások száma": "5",
                                    "Eddigi foglalások száma": "4"
                                },
                                {
                                    "SZALLAS_ID": "9",
                                    "SZALLAS_NEV": "Jáde panzió",
                                    "(No column name)": "2017",
                                    "Foglalások száma": "5",
                                    "Eddigi foglalások száma": "5"
                                },
                                {
                                    "SZALLAS_ID": "10",
                                    "SZALLAS_NEV": "Lagúna Hotel",
                                    "(No column name)": "2016",
                                    "Foglalások száma": "103",
                                    "Eddigi foglalások száma": "1"
                                },
                                {
                                    "SZALLAS_ID": "10",
                                    "SZALLAS_NEV": "Lagúna Hotel",
                                    "(No column name)": "2016",
                                    "Foglalások száma": "103",
                                    "Eddigi foglalások száma": "2"
                                },
                                {
                                    "SZALLAS_ID": "10",
                                    "SZALLAS_NEV": "Lagúna Hotel",
                                    "(No column name)": "2016",
                                    "Foglalások száma": "103",
                                    "Eddigi foglalások száma": "3"
                                },
                                {
                                    "SZALLAS_ID": "10",
                                    "SZALLAS_NEV": "Lagúna Hotel",
                                    "(No column name)": "2016",
                                    "Foglalások száma": "103",
                                    "Eddigi foglalások száma": "4"
                                },
                                {
                                    "SZALLAS_ID": "10",
                                    "SZALLAS_NEV": "Lagúna Hotel",
                                    "(No column name)": "2016",
                                    "Foglalások száma": "103",
                                    "Eddigi foglalások száma": "5"
                                },
                                {
                                    "SZALLAS_ID": "10",
                                    "SZALLAS_NEV": "Lagúna Hotel",
                                    "(No column name)": "2016",
                                    "Foglalások száma": "103",
                                    "Eddigi foglalások száma": "6"
                                },
                                {
                                    "SZALLAS_ID": "10",
                                    "SZALLAS_NEV": "Lagúna Hotel",
                                    "(No column name)": "2016",
                                    "Foglalások száma": "103",
                                    "Eddigi foglalások száma": "7"
                                },
                                {
                                    "SZALLAS_ID": "10",
                                    "SZALLAS_NEV": "Lagúna Hotel",
                                    "(No column name)": "2016",
                                    "Foglalások száma": "103",
                                    "Eddigi foglalások száma": "8"
                                },
                                {
                                    "SZALLAS_ID": "10",
                                    "SZALLAS_NEV": "Lagúna Hotel",
                                    "(No column name)": "2016",
                                    "Foglalások száma": "103",
                                    "Eddigi foglalások száma": "9"
                                },
                                {
                                    "SZALLAS_ID": "10",
                                    "SZALLAS_NEV": "Lagúna Hotel",
                                    "(No column name)": "2016",
                                    "Foglalások száma": "103",
                                    "Eddigi foglalások száma": "10"
                                },
                                {
                                    "SZALLAS_ID": "10",
                                    "SZALLAS_NEV": "Lagúna Hotel",
                                    "(No column name)": "2016",
                                    "Foglalások száma": "103",
                                    "Eddigi foglalások száma": "11"
                                },
                                {
                                    "SZALLAS_ID": "10",
                                    "SZALLAS_NEV": "Lagúna Hotel",
                                    "(No column name)": "2016",
                                    "Foglalások száma": "103",
                                    "Eddigi foglalások száma": "12"
                                },
                                {
                                    "SZALLAS_ID": "10",
                                    "SZALLAS_NEV": "Lagúna Hotel",
                                    "(No column name)": "2016",
                                    "Foglalások száma": "103",
                                    "Eddigi foglalások száma": "13"
                                },
                                {
                                    "SZALLAS_ID": "10",
                                    "SZALLAS_NEV": "Lagúna Hotel",
                                    "(No column name)": "2016",
                                    "Foglalások száma": "103",
                                    "Eddigi foglalások száma": "14"
                                },
                                {
                                    "SZALLAS_ID": "10",
                                    "SZALLAS_NEV": "Lagúna Hotel",
                                    "(No column name)": "2016",
                                    "Foglalások száma": "103",
                                    "Eddigi foglalások száma": "15"
                                },
                                {
                                    "SZALLAS_ID": "10",
                                    "SZALLAS_NEV": "Lagúna Hotel",
                                    "(No column name)": "2016",
                                    "Foglalások száma": "103",
                                    "Eddigi foglalások száma": "16"
                                },
                                {
                                    "SZALLAS_ID": "10",
                                    "SZALLAS_NEV": "Lagúna Hotel",
                                    "(No column name)": "2016",
                                    "Foglalások száma": "103",
                                    "Eddigi foglalások száma": "17"
                                },
                                {
                                    "SZALLAS_ID": "10",
                                    "SZALLAS_NEV": "Lagúna Hotel",
                                    "(No column name)": "2016",
                                    "Foglalások száma": "103",
                                    "Eddigi foglalások száma": "18"
                                },
                                {
                                    "SZALLAS_ID": "10",
                                    "SZALLAS_NEV": "Lagúna Hotel",
                                    "(No column name)": "2016",
                                    "Foglalások száma": "103",
                                    "Eddigi foglalások száma": "20"
                                },
                                {
                                    "SZALLAS_ID": "10",
                                    "SZALLAS_NEV": "Lagúna Hotel",
                                    "(No column name)": "2016",
                                    "Foglalások száma": "103",
                                    "Eddigi foglalások száma": "20"
                                },
                                {
                                    "SZALLAS_ID": "10",
                                    "SZALLAS_NEV": "Lagúna Hotel",
                                    "(No column name)": "2016",
                                    "Foglalások száma": "103",
                                    "Eddigi foglalások száma": "21"
                                },
                                {
                                    "SZALLAS_ID": "10",
                                    "SZALLAS_NEV": "Lagúna Hotel",
                                    "(No column name)": "2016",
                                    "Foglalások száma": "103",
                                    "Eddigi foglalások száma": "22"
                                },
                                {
                                    "SZALLAS_ID": "10",
                                    "SZALLAS_NEV": "Lagúna Hotel",
                                    "(No column name)": "2016",
                                    "Foglalások száma": "103",
                                    "Eddigi foglalások száma": "23"
                                },
                                {
                                    "SZALLAS_ID": "10",
                                    "SZALLAS_NEV": "Lagúna Hotel",
                                    "(No column name)": "2016",
                                    "Foglalások száma": "103",
                                    "Eddigi foglalások száma": "24"
                                },
                                {
                                    "SZALLAS_ID": "10",
                                    "SZALLAS_NEV": "Lagúna Hotel",
                                    "(No column name)": "2016",
                                    "Foglalások száma": "103",
                                    "Eddigi foglalások száma": "25"
                                },
                                {
                                    "SZALLAS_ID": "10",
                                    "SZALLAS_NEV": "Lagúna Hotel",
                                    "(No column name)": "2016",
                                    "Foglalások száma": "103",
                                    "Eddigi foglalások száma": "26"
                                },
                                {
                                    "SZALLAS_ID": "10",
                                    "SZALLAS_NEV": "Lagúna Hotel",
                                    "(No column name)": "2016",
                                    "Foglalások száma": "103",
                                    "Eddigi foglalások száma": "27"
                                },
                                {
                                    "SZALLAS_ID": "10",
                                    "SZALLAS_NEV": "Lagúna Hotel",
                                    "(No column name)": "2016",
                                    "Foglalások száma": "103",
                                    "Eddigi foglalások száma": "28"
                                },
                                {
                                    "SZALLAS_ID": "10",
                                    "SZALLAS_NEV": "Lagúna Hotel",
                                    "(No column name)": "2016",
                                    "Foglalások száma": "103",
                                    "Eddigi foglalások száma": "29"
                                },
                                {
                                    "SZALLAS_ID": "10",
                                    "SZALLAS_NEV": "Lagúna Hotel",
                                    "(No column name)": "2016",
                                    "Foglalások száma": "103",
                                    "Eddigi foglalások száma": "30"
                                },
                                {
                                    "SZALLAS_ID": "10",
                                    "SZALLAS_NEV": "Lagúna Hotel",
                                    "(No column name)": "2016",
                                    "Foglalások száma": "103",
                                    "Eddigi foglalások száma": "31"
                                },
                                {
                                    "SZALLAS_ID": "10",
                                    "SZALLAS_NEV": "Lagúna Hotel",
                                    "(No column name)": "2016",
                                    "Foglalások száma": "103",
                                    "Eddigi foglalások száma": "32"
                                },
                                {
                                    "SZALLAS_ID": "10",
                                    "SZALLAS_NEV": "Lagúna Hotel",
                                    "(No column name)": "2016",
                                    "Foglalások száma": "103",
                                    "Eddigi foglalások száma": "34"
                                },
                                {
                                    "SZALLAS_ID": "10",
                                    "SZALLAS_NEV": "Lagúna Hotel",
                                    "(No column name)": "2016",
                                    "Foglalások száma": "103",
                                    "Eddigi foglalások száma": "34"
                                },
                                {
                                    "SZALLAS_ID": "10",
                                    "SZALLAS_NEV": "Lagúna Hotel",
                                    "(No column name)": "2016",
                                    "Foglalások száma": "103",
                                    "Eddigi foglalások száma": "35"
                                },
                                {
                                    "SZALLAS_ID": "10",
                                    "SZALLAS_NEV": "Lagúna Hotel",
                                    "(No column name)": "2016",
                                    "Foglalások száma": "103",
                                    "Eddigi foglalások száma": "36"
                                },
                                {
                                    "SZALLAS_ID": "10",
                                    "SZALLAS_NEV": "Lagúna Hotel",
                                    "(No column name)": "2016",
                                    "Foglalások száma": "103",
                                    "Eddigi foglalások száma": "37"
                                },
                                {
                                    "SZALLAS_ID": "10",
                                    "SZALLAS_NEV": "Lagúna Hotel",
                                    "(No column name)": "2016",
                                    "Foglalások száma": "103",
                                    "Eddigi foglalások száma": "38"
                                },
                                {
                                    "SZALLAS_ID": "10",
                                    "SZALLAS_NEV": "Lagúna Hotel",
                                    "(No column name)": "2016",
                                    "Foglalások száma": "103",
                                    "Eddigi foglalások száma": "40"
                                },
                                {
                                    "SZALLAS_ID": "10",
                                    "SZALLAS_NEV": "Lagúna Hotel",
                                    "(No column name)": "2016",
                                    "Foglalások száma": "103",
                                    "Eddigi foglalások száma": "40"
                                },
                                {
                                    "SZALLAS_ID": "10",
                                    "SZALLAS_NEV": "Lagúna Hotel",
                                    "(No column name)": "2016",
                                    "Foglalások száma": "103",
                                    "Eddigi foglalások száma": "43"
                                },
                                {
                                    "SZALLAS_ID": "10",
                                    "SZALLAS_NEV": "Lagúna Hotel",
                                    "(No column name)": "2016",
                                    "Foglalások száma": "103",
                                    "Eddigi foglalások száma": "43"
                                },
                                {
                                    "SZALLAS_ID": "10",
                                    "SZALLAS_NEV": "Lagúna Hotel",
                                    "(No column name)": "2016",
                                    "Foglalások száma": "103",
                                    "Eddigi foglalások száma": "43"
                                },
                                {
                                    "SZALLAS_ID": "10",
                                    "SZALLAS_NEV": "Lagúna Hotel",
                                    "(No column name)": "2016",
                                    "Foglalások száma": "103",
                                    "Eddigi foglalások száma": "44"
                                },
                                {
                                    "SZALLAS_ID": "10",
                                    "SZALLAS_NEV": "Lagúna Hotel",
                                    "(No column name)": "2016",
                                    "Foglalások száma": "103",
                                    "Eddigi foglalások száma": "45"
                                },
                                {
                                    "SZALLAS_ID": "10",
                                    "SZALLAS_NEV": "Lagúna Hotel",
                                    "(No column name)": "2016",
                                    "Foglalások száma": "103",
                                    "Eddigi foglalások száma": "47"
                                },
                                {
                                    "SZALLAS_ID": "10",
                                    "SZALLAS_NEV": "Lagúna Hotel",
                                    "(No column name)": "2016",
                                    "Foglalások száma": "103",
                                    "Eddigi foglalások száma": "47"
                                },
                                {
                                    "SZALLAS_ID": "10",
                                    "SZALLAS_NEV": "Lagúna Hotel",
                                    "(No column name)": "2016",
                                    "Foglalások száma": "103",
                                    "Eddigi foglalások száma": "48"
                                },
                                {
                                    "SZALLAS_ID": "10",
                                    "SZALLAS_NEV": "Lagúna Hotel",
                                    "(No column name)": "2016",
                                    "Foglalások száma": "103",
                                    "Eddigi foglalások száma": "49"
                                },
                                {
                                    "SZALLAS_ID": "10",
                                    "SZALLAS_NEV": "Lagúna Hotel",
                                    "(No column name)": "2016",
                                    "Foglalások száma": "103",
                                    "Eddigi foglalások száma": "50"
                                },
                                {
                                    "SZALLAS_ID": "10",
                                    "SZALLAS_NEV": "Lagúna Hotel",
                                    "(No column name)": "2016",
                                    "Foglalások száma": "103",
                                    "Eddigi foglalások száma": "51"
                                },
                                {
                                    "SZALLAS_ID": "10",
                                    "SZALLAS_NEV": "Lagúna Hotel",
                                    "(No column name)": "2016",
                                    "Foglalások száma": "103",
                                    "Eddigi foglalások száma": "52"
                                },
                                {
                                    "SZALLAS_ID": "10",
                                    "SZALLAS_NEV": "Lagúna Hotel",
                                    "(No column name)": "2016",
                                    "Foglalások száma": "103",
                                    "Eddigi foglalások száma": "54"
                                },
                                {
                                    "SZALLAS_ID": "10",
                                    "SZALLAS_NEV": "Lagúna Hotel",
                                    "(No column name)": "2016",
                                    "Foglalások száma": "103",
                                    "Eddigi foglalások száma": "54"
                                },
                                {
                                    "SZALLAS_ID": "10",
                                    "SZALLAS_NEV": "Lagúna Hotel",
                                    "(No column name)": "2016",
                                    "Foglalások száma": "103",
                                    "Eddigi foglalások száma": "55"
                                },
                                {
                                    "SZALLAS_ID": "10",
                                    "SZALLAS_NEV": "Lagúna Hotel",
                                    "(No column name)": "2016",
                                    "Foglalások száma": "103",
                                    "Eddigi foglalások száma": "56"
                                },
                                {
                                    "SZALLAS_ID": "10",
                                    "SZALLAS_NEV": "Lagúna Hotel",
                                    "(No column name)": "2016",
                                    "Foglalások száma": "103",
                                    "Eddigi foglalások száma": "57"
                                },
                                {
                                    "SZALLAS_ID": "10",
                                    "SZALLAS_NEV": "Lagúna Hotel",
                                    "(No column name)": "2016",
                                    "Foglalások száma": "103",
                                    "Eddigi foglalások száma": "58"
                                },
                                {
                                    "SZALLAS_ID": "10",
                                    "SZALLAS_NEV": "Lagúna Hotel",
                                    "(No column name)": "2016",
                                    "Foglalások száma": "103",
                                    "Eddigi foglalások száma": "59"
                                },
                                {
                                    "SZALLAS_ID": "10",
                                    "SZALLAS_NEV": "Lagúna Hotel",
                                    "(No column name)": "2016",
                                    "Foglalások száma": "103",
                                    "Eddigi foglalások száma": "60"
                                },
                                {
                                    "SZALLAS_ID": "10",
                                    "SZALLAS_NEV": "Lagúna Hotel",
                                    "(No column name)": "2016",
                                    "Foglalások száma": "103",
                                    "Eddigi foglalások száma": "61"
                                },
                                {
                                    "SZALLAS_ID": "10",
                                    "SZALLAS_NEV": "Lagúna Hotel",
                                    "(No column name)": "2016",
                                    "Foglalások száma": "103",
                                    "Eddigi foglalások száma": "62"
                                },
                                {
                                    "SZALLAS_ID": "10",
                                    "SZALLAS_NEV": "Lagúna Hotel",
                                    "(No column name)": "2016",
                                    "Foglalások száma": "103",
                                    "Eddigi foglalások száma": "66"
                                },
                                {
                                    "SZALLAS_ID": "10",
                                    "SZALLAS_NEV": "Lagúna Hotel",
                                    "(No column name)": "2016",
                                    "Foglalások száma": "103",
                                    "Eddigi foglalások száma": "66"
                                },
                                {
                                    "SZALLAS_ID": "10",
                                    "SZALLAS_NEV": "Lagúna Hotel",
                                    "(No column name)": "2016",
                                    "Foglalások száma": "103",
                                    "Eddigi foglalások száma": "66"
                                },
                                {
                                    "SZALLAS_ID": "10",
                                    "SZALLAS_NEV": "Lagúna Hotel",
                                    "(No column name)": "2016",
                                    "Foglalások száma": "103",
                                    "Eddigi foglalások száma": "66"
                                },
                                {
                                    "SZALLAS_ID": "10",
                                    "SZALLAS_NEV": "Lagúna Hotel",
                                    "(No column name)": "2016",
                                    "Foglalások száma": "103",
                                    "Eddigi foglalások száma": "67"
                                },
                                {
                                    "SZALLAS_ID": "10",
                                    "SZALLAS_NEV": "Lagúna Hotel",
                                    "(No column name)": "2016",
                                    "Foglalások száma": "103",
                                    "Eddigi foglalások száma": "68"
                                },
                                {
                                    "SZALLAS_ID": "10",
                                    "SZALLAS_NEV": "Lagúna Hotel",
                                    "(No column name)": "2016",
                                    "Foglalások száma": "103",
                                    "Eddigi foglalások száma": "69"
                                },
                                {
                                    "SZALLAS_ID": "10",
                                    "SZALLAS_NEV": "Lagúna Hotel",
                                    "(No column name)": "2016",
                                    "Foglalások száma": "103",
                                    "Eddigi foglalások száma": "70"
                                },
                                {
                                    "SZALLAS_ID": "10",
                                    "SZALLAS_NEV": "Lagúna Hotel",
                                    "(No column name)": "2016",
                                    "Foglalások száma": "103",
                                    "Eddigi foglalások száma": "71"
                                },
                                {
                                    "SZALLAS_ID": "10",
                                    "SZALLAS_NEV": "Lagúna Hotel",
                                    "(No column name)": "2016",
                                    "Foglalások száma": "103",
                                    "Eddigi foglalások száma": "73"
                                },
                                {
                                    "SZALLAS_ID": "10",
                                    "SZALLAS_NEV": "Lagúna Hotel",
                                    "(No column name)": "2016",
                                    "Foglalások száma": "103",
                                    "Eddigi foglalások száma": "73"
                                },
                                {
                                    "SZALLAS_ID": "10",
                                    "SZALLAS_NEV": "Lagúna Hotel",
                                    "(No column name)": "2016",
                                    "Foglalások száma": "103",
                                    "Eddigi foglalások száma": "74"
                                },
                                {
                                    "SZALLAS_ID": "10",
                                    "SZALLAS_NEV": "Lagúna Hotel",
                                    "(No column name)": "2016",
                                    "Foglalások száma": "103",
                                    "Eddigi foglalások száma": "75"
                                },
                                {
                                    "SZALLAS_ID": "10",
                                    "SZALLAS_NEV": "Lagúna Hotel",
                                    "(No column name)": "2016",
                                    "Foglalások száma": "103",
                                    "Eddigi foglalások száma": "76"
                                },
                                {
                                    "SZALLAS_ID": "10",
                                    "SZALLAS_NEV": "Lagúna Hotel",
                                    "(No column name)": "2016",
                                    "Foglalások száma": "103",
                                    "Eddigi foglalások száma": "81"
                                },
                                {
                                    "SZALLAS_ID": "10",
                                    "SZALLAS_NEV": "Lagúna Hotel",
                                    "(No column name)": "2016",
                                    "Foglalások száma": "103",
                                    "Eddigi foglalások száma": "81"
                                },
                                {
                                    "SZALLAS_ID": "10",
                                    "SZALLAS_NEV": "Lagúna Hotel",
                                    "(No column name)": "2016",
                                    "Foglalások száma": "103",
                                    "Eddigi foglalások száma": "81"
                                },
                                {
                                    "SZALLAS_ID": "10",
                                    "SZALLAS_NEV": "Lagúna Hotel",
                                    "(No column name)": "2016",
                                    "Foglalások száma": "103",
                                    "Eddigi foglalások száma": "81"
                                },
                                {
                                    "SZALLAS_ID": "10",
                                    "SZALLAS_NEV": "Lagúna Hotel",
                                    "(No column name)": "2016",
                                    "Foglalások száma": "103",
                                    "Eddigi foglalások száma": "81"
                                },
                                {
                                    "SZALLAS_ID": "10",
                                    "SZALLAS_NEV": "Lagúna Hotel",
                                    "(No column name)": "2016",
                                    "Foglalások száma": "103",
                                    "Eddigi foglalások száma": "82"
                                },
                                {
                                    "SZALLAS_ID": "10",
                                    "SZALLAS_NEV": "Lagúna Hotel",
                                    "(No column name)": "2016",
                                    "Foglalások száma": "103",
                                    "Eddigi foglalások száma": "83"
                                },
                                {
                                    "SZALLAS_ID": "10",
                                    "SZALLAS_NEV": "Lagúna Hotel",
                                    "(No column name)": "2016",
                                    "Foglalások száma": "103",
                                    "Eddigi foglalások száma": "85"
                                },
                                {
                                    "SZALLAS_ID": "10",
                                    "SZALLAS_NEV": "Lagúna Hotel",
                                    "(No column name)": "2016",
                                    "Foglalások száma": "103",
                                    "Eddigi foglalások száma": "85"
                                },
                                {
                                    "SZALLAS_ID": "10",
                                    "SZALLAS_NEV": "Lagúna Hotel",
                                    "(No column name)": "2016",
                                    "Foglalások száma": "103",
                                    "Eddigi foglalások száma": "87"
                                },
                                {
                                    "SZALLAS_ID": "10",
                                    "SZALLAS_NEV": "Lagúna Hotel",
                                    "(No column name)": "2016",
                                    "Foglalások száma": "103",
                                    "Eddigi foglalások száma": "87"
                                },
                                {
                                    "SZALLAS_ID": "10",
                                    "SZALLAS_NEV": "Lagúna Hotel",
                                    "(No column name)": "2016",
                                    "Foglalások száma": "103",
                                    "Eddigi foglalások száma": "88"
                                },
                                {
                                    "SZALLAS_ID": "10",
                                    "SZALLAS_NEV": "Lagúna Hotel",
                                    "(No column name)": "2016",
                                    "Foglalások száma": "103",
                                    "Eddigi foglalások száma": "89"
                                },
                                {
                                    "SZALLAS_ID": "10",
                                    "SZALLAS_NEV": "Lagúna Hotel",
                                    "(No column name)": "2016",
                                    "Foglalások száma": "103",
                                    "Eddigi foglalások száma": "90"
                                },
                                {
                                    "SZALLAS_ID": "10",
                                    "SZALLAS_NEV": "Lagúna Hotel",
                                    "(No column name)": "2016",
                                    "Foglalások száma": "103",
                                    "Eddigi foglalások száma": "92"
                                },
                                {
                                    "SZALLAS_ID": "10",
                                    "SZALLAS_NEV": "Lagúna Hotel",
                                    "(No column name)": "2016",
                                    "Foglalások száma": "103",
                                    "Eddigi foglalások száma": "92"
                                },
                                {
                                    "SZALLAS_ID": "10",
                                    "SZALLAS_NEV": "Lagúna Hotel",
                                    "(No column name)": "2016",
                                    "Foglalások száma": "103",
                                    "Eddigi foglalások száma": "94"
                                },
                                {
                                    "SZALLAS_ID": "10",
                                    "SZALLAS_NEV": "Lagúna Hotel",
                                    "(No column name)": "2016",
                                    "Foglalások száma": "103",
                                    "Eddigi foglalások száma": "94"
                                },
                                {
                                    "SZALLAS_ID": "10",
                                    "SZALLAS_NEV": "Lagúna Hotel",
                                    "(No column name)": "2016",
                                    "Foglalások száma": "103",
                                    "Eddigi foglalások száma": "95"
                                },
                                {
                                    "SZALLAS_ID": "10",
                                    "SZALLAS_NEV": "Lagúna Hotel",
                                    "(No column name)": "2016",
                                    "Foglalások száma": "103",
                                    "Eddigi foglalások száma": "96"
                                },
                                {
                                    "SZALLAS_ID": "10",
                                    "SZALLAS_NEV": "Lagúna Hotel",
                                    "(No column name)": "2016",
                                    "Foglalások száma": "103",
                                    "Eddigi foglalások száma": "97"
                                },
                                {
                                    "SZALLAS_ID": "10",
                                    "SZALLAS_NEV": "Lagúna Hotel",
                                    "(No column name)": "2016",
                                    "Foglalások száma": "103",
                                    "Eddigi foglalások száma": "98"
                                },
                                {
                                    "SZALLAS_ID": "10",
                                    "SZALLAS_NEV": "Lagúna Hotel",
                                    "(No column name)": "2016",
                                    "Foglalások száma": "103",
                                    "Eddigi foglalások száma": "101"
                                },
                                {
                                    "SZALLAS_ID": "10",
                                    "SZALLAS_NEV": "Lagúna Hotel",
                                    "(No column name)": "2016",
                                    "Foglalások száma": "103",
                                    "Eddigi foglalások száma": "101"
                                },
                                {
                                    "SZALLAS_ID": "10",
                                    "SZALLAS_NEV": "Lagúna Hotel",
                                    "(No column name)": "2016",
                                    "Foglalások száma": "103",
                                    "Eddigi foglalások száma": "101"
                                },
                                {
                                    "SZALLAS_ID": "10",
                                    "SZALLAS_NEV": "Lagúna Hotel",
                                    "(No column name)": "2016",
                                    "Foglalások száma": "103",
                                    "Eddigi foglalások száma": "102"
                                },
                                {
                                    "SZALLAS_ID": "10",
                                    "SZALLAS_NEV": "Lagúna Hotel",
                                    "(No column name)": "2016",
                                    "Foglalások száma": "103",
                                    "Eddigi foglalások száma": "103"
                                },
                                {
                                    "SZALLAS_ID": "10",
                                    "SZALLAS_NEV": "Lagúna Hotel",
                                    "(No column name)": "2017",
                                    "Foglalások száma": "20",
                                    "Eddigi foglalások száma": "1"
                                },
                                {
                                    "SZALLAS_ID": "10",
                                    "SZALLAS_NEV": "Lagúna Hotel",
                                    "(No column name)": "2017",
                                    "Foglalások száma": "20",
                                    "Eddigi foglalások száma": "2"
                                },
                                {
                                    "SZALLAS_ID": "10",
                                    "SZALLAS_NEV": "Lagúna Hotel",
                                    "(No column name)": "2017",
                                    "Foglalások száma": "20",
                                    "Eddigi foglalások száma": "3"
                                },
                                {
                                    "SZALLAS_ID": "10",
                                    "SZALLAS_NEV": "Lagúna Hotel",
                                    "(No column name)": "2017",
                                    "Foglalások száma": "20",
                                    "Eddigi foglalások száma": "4"
                                },
                                {
                                    "SZALLAS_ID": "10",
                                    "SZALLAS_NEV": "Lagúna Hotel",
                                    "(No column name)": "2017",
                                    "Foglalások száma": "20",
                                    "Eddigi foglalások száma": "5"
                                },
                                {
                                    "SZALLAS_ID": "10",
                                    "SZALLAS_NEV": "Lagúna Hotel",
                                    "(No column name)": "2017",
                                    "Foglalások száma": "20",
                                    "Eddigi foglalások száma": "6"
                                },
                                {
                                    "SZALLAS_ID": "10",
                                    "SZALLAS_NEV": "Lagúna Hotel",
                                    "(No column name)": "2017",
                                    "Foglalások száma": "20",
                                    "Eddigi foglalások száma": "8"
                                },
                                {
                                    "SZALLAS_ID": "10",
                                    "SZALLAS_NEV": "Lagúna Hotel",
                                    "(No column name)": "2017",
                                    "Foglalások száma": "20",
                                    "Eddigi foglalások száma": "8"
                                },
                                {
                                    "SZALLAS_ID": "10",
                                    "SZALLAS_NEV": "Lagúna Hotel",
                                    "(No column name)": "2017",
                                    "Foglalások száma": "20",
                                    "Eddigi foglalások száma": "9"
                                },
                                {
                                    "SZALLAS_ID": "10",
                                    "SZALLAS_NEV": "Lagúna Hotel",
                                    "(No column name)": "2017",
                                    "Foglalások száma": "20",
                                    "Eddigi foglalások száma": "10"
                                },
                                {
                                    "SZALLAS_ID": "10",
                                    "SZALLAS_NEV": "Lagúna Hotel",
                                    "(No column name)": "2017",
                                    "Foglalások száma": "20",
                                    "Eddigi foglalások száma": "11"
                                },
                                {
                                    "SZALLAS_ID": "10",
                                    "SZALLAS_NEV": "Lagúna Hotel",
                                    "(No column name)": "2017",
                                    "Foglalások száma": "20",
                                    "Eddigi foglalások száma": "12"
                                },
                                {
                                    "SZALLAS_ID": "10",
                                    "SZALLAS_NEV": "Lagúna Hotel",
                                    "(No column name)": "2017",
                                    "Foglalások száma": "20",
                                    "Eddigi foglalások száma": "14"
                                },
                                {
                                    "SZALLAS_ID": "10",
                                    "SZALLAS_NEV": "Lagúna Hotel",
                                    "(No column name)": "2017",
                                    "Foglalások száma": "20",
                                    "Eddigi foglalások száma": "14"
                                },
                                {
                                    "SZALLAS_ID": "10",
                                    "SZALLAS_NEV": "Lagúna Hotel",
                                    "(No column name)": "2017",
                                    "Foglalások száma": "20",
                                    "Eddigi foglalások száma": "15"
                                },
                                {
                                    "SZALLAS_ID": "10",
                                    "SZALLAS_NEV": "Lagúna Hotel",
                                    "(No column name)": "2017",
                                    "Foglalások száma": "20",
                                    "Eddigi foglalások száma": "16"
                                },
                                {
                                    "SZALLAS_ID": "10",
                                    "SZALLAS_NEV": "Lagúna Hotel",
                                    "(No column name)": "2017",
                                    "Foglalások száma": "20",
                                    "Eddigi foglalások száma": "17"
                                },
                                {
                                    "SZALLAS_ID": "10",
                                    "SZALLAS_NEV": "Lagúna Hotel",
                                    "(No column name)": "2017",
                                    "Foglalások száma": "20",
                                    "Eddigi foglalások száma": "18"
                                },
                                {
                                    "SZALLAS_ID": "10",
                                    "SZALLAS_NEV": "Lagúna Hotel",
                                    "(No column name)": "2017",
                                    "Foglalások száma": "20",
                                    "Eddigi foglalások száma": "19"
                                },
                                {
                                    "SZALLAS_ID": "10",
                                    "SZALLAS_NEV": "Lagúna Hotel",
                                    "(No column name)": "2017",
                                    "Foglalások száma": "20",
                                    "Eddigi foglalások száma": "20"
                                },
                                {
                                    "SZALLAS_ID": "11",
                                    "SZALLAS_NEV": "Partiszél Vendégház",
                                    "(No column name)": "2016",
                                    "Foglalások száma": "23",
                                    "Eddigi foglalások száma": "1"
                                },
                                {
                                    "SZALLAS_ID": "11",
                                    "SZALLAS_NEV": "Partiszél Vendégház",
                                    "(No column name)": "2016",
                                    "Foglalások száma": "23",
                                    "Eddigi foglalások száma": "2"
                                },
                                {
                                    "SZALLAS_ID": "11",
                                    "SZALLAS_NEV": "Partiszél Vendégház",
                                    "(No column name)": "2016",
                                    "Foglalások száma": "23",
                                    "Eddigi foglalások száma": "3"
                                },
                                {
                                    "SZALLAS_ID": "11",
                                    "SZALLAS_NEV": "Partiszél Vendégház",
                                    "(No column name)": "2016",
                                    "Foglalások száma": "23",
                                    "Eddigi foglalások száma": "4"
                                },
                                {
                                    "SZALLAS_ID": "11",
                                    "SZALLAS_NEV": "Partiszél Vendégház",
                                    "(No column name)": "2016",
                                    "Foglalások száma": "23",
                                    "Eddigi foglalások száma": "5"
                                },
                                {
                                    "SZALLAS_ID": "11",
                                    "SZALLAS_NEV": "Partiszél Vendégház",
                                    "(No column name)": "2016",
                                    "Foglalások száma": "23",
                                    "Eddigi foglalások száma": "7"
                                },
                                {
                                    "SZALLAS_ID": "11",
                                    "SZALLAS_NEV": "Partiszél Vendégház",
                                    "(No column name)": "2016",
                                    "Foglalások száma": "23",
                                    "Eddigi foglalások száma": "7"
                                },
                                {
                                    "SZALLAS_ID": "11",
                                    "SZALLAS_NEV": "Partiszél Vendégház",
                                    "(No column name)": "2016",
                                    "Foglalások száma": "23",
                                    "Eddigi foglalások száma": "9"
                                },
                                {
                                    "SZALLAS_ID": "11",
                                    "SZALLAS_NEV": "Partiszél Vendégház",
                                    "(No column name)": "2016",
                                    "Foglalások száma": "23",
                                    "Eddigi foglalások száma": "9"
                                },
                                {
                                    "SZALLAS_ID": "11",
                                    "SZALLAS_NEV": "Partiszél Vendégház",
                                    "(No column name)": "2016",
                                    "Foglalások száma": "23",
                                    "Eddigi foglalások száma": "10"
                                },
                                {
                                    "SZALLAS_ID": "11",
                                    "SZALLAS_NEV": "Partiszél Vendégház",
                                    "(No column name)": "2016",
                                    "Foglalások száma": "23",
                                    "Eddigi foglalások száma": "11"
                                },
                                {
                                    "SZALLAS_ID": "11",
                                    "SZALLAS_NEV": "Partiszél Vendégház",
                                    "(No column name)": "2016",
                                    "Foglalások száma": "23",
                                    "Eddigi foglalások száma": "12"
                                },
                                {
                                    "SZALLAS_ID": "11",
                                    "SZALLAS_NEV": "Partiszél Vendégház",
                                    "(No column name)": "2016",
                                    "Foglalások száma": "23",
                                    "Eddigi foglalások száma": "13"
                                },
                                {
                                    "SZALLAS_ID": "11",
                                    "SZALLAS_NEV": "Partiszél Vendégház",
                                    "(No column name)": "2016",
                                    "Foglalások száma": "23",
                                    "Eddigi foglalások száma": "14"
                                },
                                {
                                    "SZALLAS_ID": "11",
                                    "SZALLAS_NEV": "Partiszél Vendégház",
                                    "(No column name)": "2016",
                                    "Foglalások száma": "23",
                                    "Eddigi foglalások száma": "15"
                                },
                                {
                                    "SZALLAS_ID": "11",
                                    "SZALLAS_NEV": "Partiszél Vendégház",
                                    "(No column name)": "2016",
                                    "Foglalások száma": "23",
                                    "Eddigi foglalások száma": "16"
                                },
                                {
                                    "SZALLAS_ID": "11",
                                    "SZALLAS_NEV": "Partiszél Vendégház",
                                    "(No column name)": "2016",
                                    "Foglalások száma": "23",
                                    "Eddigi foglalások száma": "17"
                                },
                                {
                                    "SZALLAS_ID": "11",
                                    "SZALLAS_NEV": "Partiszél Vendégház",
                                    "(No column name)": "2016",
                                    "Foglalások száma": "23",
                                    "Eddigi foglalások száma": "18"
                                },
                                {
                                    "SZALLAS_ID": "11",
                                    "SZALLAS_NEV": "Partiszél Vendégház",
                                    "(No column name)": "2016",
                                    "Foglalások száma": "23",
                                    "Eddigi foglalások száma": "19"
                                },
                                {
                                    "SZALLAS_ID": "11",
                                    "SZALLAS_NEV": "Partiszél Vendégház",
                                    "(No column name)": "2016",
                                    "Foglalások száma": "23",
                                    "Eddigi foglalások száma": "20"
                                },
                                {
                                    "SZALLAS_ID": "11",
                                    "SZALLAS_NEV": "Partiszél Vendégház",
                                    "(No column name)": "2016",
                                    "Foglalások száma": "23",
                                    "Eddigi foglalások száma": "21"
                                },
                                {
                                    "SZALLAS_ID": "11",
                                    "SZALLAS_NEV": "Partiszél Vendégház",
                                    "(No column name)": "2016",
                                    "Foglalások száma": "23",
                                    "Eddigi foglalások száma": "22"
                                },
                                {
                                    "SZALLAS_ID": "11",
                                    "SZALLAS_NEV": "Partiszél Vendégház",
                                    "(No column name)": "2016",
                                    "Foglalások száma": "23",
                                    "Eddigi foglalások száma": "23"
                                },
                                {
                                    "SZALLAS_ID": "11",
                                    "SZALLAS_NEV": "Partiszél Vendégház",
                                    "(No column name)": "2017",
                                    "Foglalások száma": "3",
                                    "Eddigi foglalások száma": "1"
                                },
                                {
                                    "SZALLAS_ID": "11",
                                    "SZALLAS_NEV": "Partiszél Vendégház",
                                    "(No column name)": "2017",
                                    "Foglalások száma": "3",
                                    "Eddigi foglalások száma": "2"
                                },
                                {
                                    "SZALLAS_ID": "11",
                                    "SZALLAS_NEV": "Partiszél Vendégház",
                                    "(No column name)": "2017",
                                    "Foglalások száma": "3",
                                    "Eddigi foglalások száma": "3"
                                },
                                {
                                    "SZALLAS_ID": "12",
                                    "SZALLAS_NEV": "Gold Hotel",
                                    "(No column name)": "2016",
                                    "Foglalások száma": "152",
                                    "Eddigi foglalások száma": "4"
                                },
                                {
                                    "SZALLAS_ID": "12",
                                    "SZALLAS_NEV": "Gold Hotel",
                                    "(No column name)": "2016",
                                    "Foglalások száma": "152",
                                    "Eddigi foglalások száma": "4"
                                },
                                {
                                    "SZALLAS_ID": "12",
                                    "SZALLAS_NEV": "Gold Hotel",
                                    "(No column name)": "2016",
                                    "Foglalások száma": "152",
                                    "Eddigi foglalások száma": "4"
                                },
                                {
                                    "SZALLAS_ID": "12",
                                    "SZALLAS_NEV": "Gold Hotel",
                                    "(No column name)": "2016",
                                    "Foglalások száma": "152",
                                    "Eddigi foglalások száma": "4"
                                },
                                {
                                    "SZALLAS_ID": "12",
                                    "SZALLAS_NEV": "Gold Hotel",
                                    "(No column name)": "2016",
                                    "Foglalások száma": "152",
                                    "Eddigi foglalások száma": "5"
                                },
                                {
                                    "SZALLAS_ID": "12",
                                    "SZALLAS_NEV": "Gold Hotel",
                                    "(No column name)": "2016",
                                    "Foglalások száma": "152",
                                    "Eddigi foglalások száma": "6"
                                },
                                {
                                    "SZALLAS_ID": "12",
                                    "SZALLAS_NEV": "Gold Hotel",
                                    "(No column name)": "2016",
                                    "Foglalások száma": "152",
                                    "Eddigi foglalások száma": "7"
                                },
                                {
                                    "SZALLAS_ID": "12",
                                    "SZALLAS_NEV": "Gold Hotel",
                                    "(No column name)": "2016",
                                    "Foglalások száma": "152",
                                    "Eddigi foglalások száma": "8"
                                },
                                {
                                    "SZALLAS_ID": "12",
                                    "SZALLAS_NEV": "Gold Hotel",
                                    "(No column name)": "2016",
                                    "Foglalások száma": "152",
                                    "Eddigi foglalások száma": "9"
                                },
                                {
                                    "SZALLAS_ID": "12",
                                    "SZALLAS_NEV": "Gold Hotel",
                                    "(No column name)": "2016",
                                    "Foglalások száma": "152",
                                    "Eddigi foglalások száma": "11"
                                },
                                {
                                    "SZALLAS_ID": "12",
                                    "SZALLAS_NEV": "Gold Hotel",
                                    "(No column name)": "2016",
                                    "Foglalások száma": "152",
                                    "Eddigi foglalások száma": "11"
                                },
                                {
                                    "SZALLAS_ID": "12",
                                    "SZALLAS_NEV": "Gold Hotel",
                                    "(No column name)": "2016",
                                    "Foglalások száma": "152",
                                    "Eddigi foglalások száma": "12"
                                },
                                {
                                    "SZALLAS_ID": "12",
                                    "SZALLAS_NEV": "Gold Hotel",
                                    "(No column name)": "2016",
                                    "Foglalások száma": "152",
                                    "Eddigi foglalások száma": "13"
                                },
                                {
                                    "SZALLAS_ID": "12",
                                    "SZALLAS_NEV": "Gold Hotel",
                                    "(No column name)": "2016",
                                    "Foglalások száma": "152",
                                    "Eddigi foglalások száma": "15"
                                },
                                {
                                    "SZALLAS_ID": "12",
                                    "SZALLAS_NEV": "Gold Hotel",
                                    "(No column name)": "2016",
                                    "Foglalások száma": "152",
                                    "Eddigi foglalások száma": "15"
                                },
                                {
                                    "SZALLAS_ID": "12",
                                    "SZALLAS_NEV": "Gold Hotel",
                                    "(No column name)": "2016",
                                    "Foglalások száma": "152",
                                    "Eddigi foglalások száma": "16"
                                },
                                {
                                    "SZALLAS_ID": "12",
                                    "SZALLAS_NEV": "Gold Hotel",
                                    "(No column name)": "2016",
                                    "Foglalások száma": "152",
                                    "Eddigi foglalások száma": "17"
                                },
                                {
                                    "SZALLAS_ID": "12",
                                    "SZALLAS_NEV": "Gold Hotel",
                                    "(No column name)": "2016",
                                    "Foglalások száma": "152",
                                    "Eddigi foglalások száma": "20"
                                },
                                {
                                    "SZALLAS_ID": "12",
                                    "SZALLAS_NEV": "Gold Hotel",
                                    "(No column name)": "2016",
                                    "Foglalások száma": "152",
                                    "Eddigi foglalások száma": "20"
                                },
                                {
                                    "SZALLAS_ID": "12",
                                    "SZALLAS_NEV": "Gold Hotel",
                                    "(No column name)": "2016",
                                    "Foglalások száma": "152",
                                    "Eddigi foglalások száma": "20"
                                },
                                {
                                    "SZALLAS_ID": "12",
                                    "SZALLAS_NEV": "Gold Hotel",
                                    "(No column name)": "2016",
                                    "Foglalások száma": "152",
                                    "Eddigi foglalások száma": "21"
                                },
                                {
                                    "SZALLAS_ID": "12",
                                    "SZALLAS_NEV": "Gold Hotel",
                                    "(No column name)": "2016",
                                    "Foglalások száma": "152",
                                    "Eddigi foglalások száma": "25"
                                },
                                {
                                    "SZALLAS_ID": "12",
                                    "SZALLAS_NEV": "Gold Hotel",
                                    "(No column name)": "2016",
                                    "Foglalások száma": "152",
                                    "Eddigi foglalások száma": "25"
                                },
                                {
                                    "SZALLAS_ID": "12",
                                    "SZALLAS_NEV": "Gold Hotel",
                                    "(No column name)": "2016",
                                    "Foglalások száma": "152",
                                    "Eddigi foglalások száma": "25"
                                },
                                {
                                    "SZALLAS_ID": "12",
                                    "SZALLAS_NEV": "Gold Hotel",
                                    "(No column name)": "2016",
                                    "Foglalások száma": "152",
                                    "Eddigi foglalások száma": "25"
                                },
                                {
                                    "SZALLAS_ID": "12",
                                    "SZALLAS_NEV": "Gold Hotel",
                                    "(No column name)": "2016",
                                    "Foglalások száma": "152",
                                    "Eddigi foglalások száma": "27"
                                },
                                {
                                    "SZALLAS_ID": "12",
                                    "SZALLAS_NEV": "Gold Hotel",
                                    "(No column name)": "2016",
                                    "Foglalások száma": "152",
                                    "Eddigi foglalások száma": "27"
                                },
                                {
                                    "SZALLAS_ID": "12",
                                    "SZALLAS_NEV": "Gold Hotel",
                                    "(No column name)": "2016",
                                    "Foglalások száma": "152",
                                    "Eddigi foglalások száma": "30"
                                },
                                {
                                    "SZALLAS_ID": "12",
                                    "SZALLAS_NEV": "Gold Hotel",
                                    "(No column name)": "2016",
                                    "Foglalások száma": "152",
                                    "Eddigi foglalások száma": "30"
                                },
                                {
                                    "SZALLAS_ID": "12",
                                    "SZALLAS_NEV": "Gold Hotel",
                                    "(No column name)": "2016",
                                    "Foglalások száma": "152",
                                    "Eddigi foglalások száma": "30"
                                },
                                {
                                    "SZALLAS_ID": "12",
                                    "SZALLAS_NEV": "Gold Hotel",
                                    "(No column name)": "2016",
                                    "Foglalások száma": "152",
                                    "Eddigi foglalások száma": "34"
                                },
                                {
                                    "SZALLAS_ID": "12",
                                    "SZALLAS_NEV": "Gold Hotel",
                                    "(No column name)": "2016",
                                    "Foglalások száma": "152",
                                    "Eddigi foglalások száma": "34"
                                },
                                {
                                    "SZALLAS_ID": "12",
                                    "SZALLAS_NEV": "Gold Hotel",
                                    "(No column name)": "2016",
                                    "Foglalások száma": "152",
                                    "Eddigi foglalások száma": "34"
                                },
                                {
                                    "SZALLAS_ID": "12",
                                    "SZALLAS_NEV": "Gold Hotel",
                                    "(No column name)": "2016",
                                    "Foglalások száma": "152",
                                    "Eddigi foglalások száma": "34"
                                },
                                {
                                    "SZALLAS_ID": "12",
                                    "SZALLAS_NEV": "Gold Hotel",
                                    "(No column name)": "2016",
                                    "Foglalások száma": "152",
                                    "Eddigi foglalások száma": "35"
                                },
                                {
                                    "SZALLAS_ID": "12",
                                    "SZALLAS_NEV": "Gold Hotel",
                                    "(No column name)": "2016",
                                    "Foglalások száma": "152",
                                    "Eddigi foglalások száma": "36"
                                },
                                {
                                    "SZALLAS_ID": "12",
                                    "SZALLAS_NEV": "Gold Hotel",
                                    "(No column name)": "2016",
                                    "Foglalások száma": "152",
                                    "Eddigi foglalások száma": "37"
                                },
                                {
                                    "SZALLAS_ID": "12",
                                    "SZALLAS_NEV": "Gold Hotel",
                                    "(No column name)": "2016",
                                    "Foglalások száma": "152",
                                    "Eddigi foglalások száma": "38"
                                },
                                {
                                    "SZALLAS_ID": "12",
                                    "SZALLAS_NEV": "Gold Hotel",
                                    "(No column name)": "2016",
                                    "Foglalások száma": "152",
                                    "Eddigi foglalások száma": "40"
                                },
                                {
                                    "SZALLAS_ID": "12",
                                    "SZALLAS_NEV": "Gold Hotel",
                                    "(No column name)": "2016",
                                    "Foglalások száma": "152",
                                    "Eddigi foglalások száma": "40"
                                },
                                {
                                    "SZALLAS_ID": "12",
                                    "SZALLAS_NEV": "Gold Hotel",
                                    "(No column name)": "2016",
                                    "Foglalások száma": "152",
                                    "Eddigi foglalások száma": "41"
                                },
                                {
                                    "SZALLAS_ID": "12",
                                    "SZALLAS_NEV": "Gold Hotel",
                                    "(No column name)": "2016",
                                    "Foglalások száma": "152",
                                    "Eddigi foglalások száma": "43"
                                },
                                {
                                    "SZALLAS_ID": "12",
                                    "SZALLAS_NEV": "Gold Hotel",
                                    "(No column name)": "2016",
                                    "Foglalások száma": "152",
                                    "Eddigi foglalások száma": "43"
                                },
                                {
                                    "SZALLAS_ID": "12",
                                    "SZALLAS_NEV": "Gold Hotel",
                                    "(No column name)": "2016",
                                    "Foglalások száma": "152",
                                    "Eddigi foglalások száma": "44"
                                },
                                {
                                    "SZALLAS_ID": "12",
                                    "SZALLAS_NEV": "Gold Hotel",
                                    "(No column name)": "2016",
                                    "Foglalások száma": "152",
                                    "Eddigi foglalások száma": "45"
                                },
                                {
                                    "SZALLAS_ID": "12",
                                    "SZALLAS_NEV": "Gold Hotel",
                                    "(No column name)": "2016",
                                    "Foglalások száma": "152",
                                    "Eddigi foglalások száma": "46"
                                },
                                {
                                    "SZALLAS_ID": "12",
                                    "SZALLAS_NEV": "Gold Hotel",
                                    "(No column name)": "2016",
                                    "Foglalások száma": "152",
                                    "Eddigi foglalások száma": "47"
                                },
                                {
                                    "SZALLAS_ID": "12",
                                    "SZALLAS_NEV": "Gold Hotel",
                                    "(No column name)": "2016",
                                    "Foglalások száma": "152",
                                    "Eddigi foglalások száma": "48"
                                },
                                {
                                    "SZALLAS_ID": "12",
                                    "SZALLAS_NEV": "Gold Hotel",
                                    "(No column name)": "2016",
                                    "Foglalások száma": "152",
                                    "Eddigi foglalások száma": "50"
                                },
                                {
                                    "SZALLAS_ID": "12",
                                    "SZALLAS_NEV": "Gold Hotel",
                                    "(No column name)": "2016",
                                    "Foglalások száma": "152",
                                    "Eddigi foglalások száma": "50"
                                },
                                {
                                    "SZALLAS_ID": "12",
                                    "SZALLAS_NEV": "Gold Hotel",
                                    "(No column name)": "2016",
                                    "Foglalások száma": "152",
                                    "Eddigi foglalások száma": "51"
                                },
                                {
                                    "SZALLAS_ID": "12",
                                    "SZALLAS_NEV": "Gold Hotel",
                                    "(No column name)": "2016",
                                    "Foglalások száma": "152",
                                    "Eddigi foglalások száma": "52"
                                },
                                {
                                    "SZALLAS_ID": "12",
                                    "SZALLAS_NEV": "Gold Hotel",
                                    "(No column name)": "2016",
                                    "Foglalások száma": "152",
                                    "Eddigi foglalások száma": "53"
                                },
                                {
                                    "SZALLAS_ID": "12",
                                    "SZALLAS_NEV": "Gold Hotel",
                                    "(No column name)": "2016",
                                    "Foglalások száma": "152",
                                    "Eddigi foglalások száma": "54"
                                },
                                {
                                    "SZALLAS_ID": "12",
                                    "SZALLAS_NEV": "Gold Hotel",
                                    "(No column name)": "2016",
                                    "Foglalások száma": "152",
                                    "Eddigi foglalások száma": "57"
                                },
                                {
                                    "SZALLAS_ID": "12",
                                    "SZALLAS_NEV": "Gold Hotel",
                                    "(No column name)": "2016",
                                    "Foglalások száma": "152",
                                    "Eddigi foglalások száma": "57"
                                },
                                {
                                    "SZALLAS_ID": "12",
                                    "SZALLAS_NEV": "Gold Hotel",
                                    "(No column name)": "2016",
                                    "Foglalások száma": "152",
                                    "Eddigi foglalások száma": "57"
                                },
                                {
                                    "SZALLAS_ID": "12",
                                    "SZALLAS_NEV": "Gold Hotel",
                                    "(No column name)": "2016",
                                    "Foglalások száma": "152",
                                    "Eddigi foglalások száma": "58"
                                },
                                {
                                    "SZALLAS_ID": "12",
                                    "SZALLAS_NEV": "Gold Hotel",
                                    "(No column name)": "2016",
                                    "Foglalások száma": "152",
                                    "Eddigi foglalások száma": "59"
                                },
                                {
                                    "SZALLAS_ID": "12",
                                    "SZALLAS_NEV": "Gold Hotel",
                                    "(No column name)": "2016",
                                    "Foglalások száma": "152",
                                    "Eddigi foglalások száma": "61"
                                },
                                {
                                    "SZALLAS_ID": "12",
                                    "SZALLAS_NEV": "Gold Hotel",
                                    "(No column name)": "2016",
                                    "Foglalások száma": "152",
                                    "Eddigi foglalások száma": "61"
                                },
                                {
                                    "SZALLAS_ID": "12",
                                    "SZALLAS_NEV": "Gold Hotel",
                                    "(No column name)": "2016",
                                    "Foglalások száma": "152",
                                    "Eddigi foglalások száma": "63"
                                },
                                {
                                    "SZALLAS_ID": "12",
                                    "SZALLAS_NEV": "Gold Hotel",
                                    "(No column name)": "2016",
                                    "Foglalások száma": "152",
                                    "Eddigi foglalások száma": "63"
                                },
                                {
                                    "SZALLAS_ID": "12",
                                    "SZALLAS_NEV": "Gold Hotel",
                                    "(No column name)": "2016",
                                    "Foglalások száma": "152",
                                    "Eddigi foglalások száma": "64"
                                },
                                {
                                    "SZALLAS_ID": "12",
                                    "SZALLAS_NEV": "Gold Hotel",
                                    "(No column name)": "2016",
                                    "Foglalások száma": "152",
                                    "Eddigi foglalások száma": "67"
                                },
                                {
                                    "SZALLAS_ID": "12",
                                    "SZALLAS_NEV": "Gold Hotel",
                                    "(No column name)": "2016",
                                    "Foglalások száma": "152",
                                    "Eddigi foglalások száma": "67"
                                },
                                {
                                    "SZALLAS_ID": "12",
                                    "SZALLAS_NEV": "Gold Hotel",
                                    "(No column name)": "2016",
                                    "Foglalások száma": "152",
                                    "Eddigi foglalások száma": "67"
                                },
                                {
                                    "SZALLAS_ID": "12",
                                    "SZALLAS_NEV": "Gold Hotel",
                                    "(No column name)": "2016",
                                    "Foglalások száma": "152",
                                    "Eddigi foglalások száma": "70"
                                },
                                {
                                    "SZALLAS_ID": "12",
                                    "SZALLAS_NEV": "Gold Hotel",
                                    "(No column name)": "2016",
                                    "Foglalások száma": "152",
                                    "Eddigi foglalások száma": "70"
                                },
                                {
                                    "SZALLAS_ID": "12",
                                    "SZALLAS_NEV": "Gold Hotel",
                                    "(No column name)": "2016",
                                    "Foglalások száma": "152",
                                    "Eddigi foglalások száma": "70"
                                },
                                {
                                    "SZALLAS_ID": "12",
                                    "SZALLAS_NEV": "Gold Hotel",
                                    "(No column name)": "2016",
                                    "Foglalások száma": "152",
                                    "Eddigi foglalások száma": "71"
                                },
                                {
                                    "SZALLAS_ID": "12",
                                    "SZALLAS_NEV": "Gold Hotel",
                                    "(No column name)": "2016",
                                    "Foglalások száma": "152",
                                    "Eddigi foglalások száma": "72"
                                },
                                {
                                    "SZALLAS_ID": "12",
                                    "SZALLAS_NEV": "Gold Hotel",
                                    "(No column name)": "2016",
                                    "Foglalások száma": "152",
                                    "Eddigi foglalások száma": "73"
                                },
                                {
                                    "SZALLAS_ID": "12",
                                    "SZALLAS_NEV": "Gold Hotel",
                                    "(No column name)": "2016",
                                    "Foglalások száma": "152",
                                    "Eddigi foglalások száma": "74"
                                },
                                {
                                    "SZALLAS_ID": "12",
                                    "SZALLAS_NEV": "Gold Hotel",
                                    "(No column name)": "2016",
                                    "Foglalások száma": "152",
                                    "Eddigi foglalások száma": "76"
                                },
                                {
                                    "SZALLAS_ID": "12",
                                    "SZALLAS_NEV": "Gold Hotel",
                                    "(No column name)": "2016",
                                    "Foglalások száma": "152",
                                    "Eddigi foglalások száma": "76"
                                },
                                {
                                    "SZALLAS_ID": "12",
                                    "SZALLAS_NEV": "Gold Hotel",
                                    "(No column name)": "2016",
                                    "Foglalások száma": "152",
                                    "Eddigi foglalások száma": "77"
                                },
                                {
                                    "SZALLAS_ID": "12",
                                    "SZALLAS_NEV": "Gold Hotel",
                                    "(No column name)": "2016",
                                    "Foglalások száma": "152",
                                    "Eddigi foglalások száma": "78"
                                },
                                {
                                    "SZALLAS_ID": "12",
                                    "SZALLAS_NEV": "Gold Hotel",
                                    "(No column name)": "2016",
                                    "Foglalások száma": "152",
                                    "Eddigi foglalások száma": "79"
                                },
                                {
                                    "SZALLAS_ID": "12",
                                    "SZALLAS_NEV": "Gold Hotel",
                                    "(No column name)": "2016",
                                    "Foglalások száma": "152",
                                    "Eddigi foglalások száma": "80"
                                },
                                {
                                    "SZALLAS_ID": "12",
                                    "SZALLAS_NEV": "Gold Hotel",
                                    "(No column name)": "2016",
                                    "Foglalások száma": "152",
                                    "Eddigi foglalások száma": "81"
                                },
                                {
                                    "SZALLAS_ID": "12",
                                    "SZALLAS_NEV": "Gold Hotel",
                                    "(No column name)": "2016",
                                    "Foglalások száma": "152",
                                    "Eddigi foglalások száma": "84"
                                },
                                {
                                    "SZALLAS_ID": "12",
                                    "SZALLAS_NEV": "Gold Hotel",
                                    "(No column name)": "2016",
                                    "Foglalások száma": "152",
                                    "Eddigi foglalások száma": "84"
                                },
                                {
                                    "SZALLAS_ID": "12",
                                    "SZALLAS_NEV": "Gold Hotel",
                                    "(No column name)": "2016",
                                    "Foglalások száma": "152",
                                    "Eddigi foglalások száma": "84"
                                },
                                {
                                    "SZALLAS_ID": "12",
                                    "SZALLAS_NEV": "Gold Hotel",
                                    "(No column name)": "2016",
                                    "Foglalások száma": "152",
                                    "Eddigi foglalások száma": "85"
                                },
                                {
                                    "SZALLAS_ID": "12",
                                    "SZALLAS_NEV": "Gold Hotel",
                                    "(No column name)": "2016",
                                    "Foglalások száma": "152",
                                    "Eddigi foglalások száma": "86"
                                },
                                {
                                    "SZALLAS_ID": "12",
                                    "SZALLAS_NEV": "Gold Hotel",
                                    "(No column name)": "2016",
                                    "Foglalások száma": "152",
                                    "Eddigi foglalások száma": "87"
                                },
                                {
                                    "SZALLAS_ID": "12",
                                    "SZALLAS_NEV": "Gold Hotel",
                                    "(No column name)": "2016",
                                    "Foglalások száma": "152",
                                    "Eddigi foglalások száma": "88"
                                },
                                {
                                    "SZALLAS_ID": "12",
                                    "SZALLAS_NEV": "Gold Hotel",
                                    "(No column name)": "2016",
                                    "Foglalások száma": "152",
                                    "Eddigi foglalások száma": "90"
                                },
                                {
                                    "SZALLAS_ID": "12",
                                    "SZALLAS_NEV": "Gold Hotel",
                                    "(No column name)": "2016",
                                    "Foglalások száma": "152",
                                    "Eddigi foglalások száma": "90"
                                },
                                {
                                    "SZALLAS_ID": "12",
                                    "SZALLAS_NEV": "Gold Hotel",
                                    "(No column name)": "2016",
                                    "Foglalások száma": "152",
                                    "Eddigi foglalások száma": "91"
                                },
                                {
                                    "SZALLAS_ID": "12",
                                    "SZALLAS_NEV": "Gold Hotel",
                                    "(No column name)": "2016",
                                    "Foglalások száma": "152",
                                    "Eddigi foglalások száma": "92"
                                },
                                {
                                    "SZALLAS_ID": "12",
                                    "SZALLAS_NEV": "Gold Hotel",
                                    "(No column name)": "2016",
                                    "Foglalások száma": "152",
                                    "Eddigi foglalások száma": "93"
                                },
                                {
                                    "SZALLAS_ID": "12",
                                    "SZALLAS_NEV": "Gold Hotel",
                                    "(No column name)": "2016",
                                    "Foglalások száma": "152",
                                    "Eddigi foglalások száma": "94"
                                },
                                {
                                    "SZALLAS_ID": "12",
                                    "SZALLAS_NEV": "Gold Hotel",
                                    "(No column name)": "2016",
                                    "Foglalások száma": "152",
                                    "Eddigi foglalások száma": "95"
                                },
                                {
                                    "SZALLAS_ID": "12",
                                    "SZALLAS_NEV": "Gold Hotel",
                                    "(No column name)": "2016",
                                    "Foglalások száma": "152",
                                    "Eddigi foglalások száma": "96"
                                },
                                {
                                    "SZALLAS_ID": "12",
                                    "SZALLAS_NEV": "Gold Hotel",
                                    "(No column name)": "2016",
                                    "Foglalások száma": "152",
                                    "Eddigi foglalások száma": "97"
                                },
                                {
                                    "SZALLAS_ID": "12",
                                    "SZALLAS_NEV": "Gold Hotel",
                                    "(No column name)": "2016",
                                    "Foglalások száma": "152",
                                    "Eddigi foglalások száma": "100"
                                },
                                {
                                    "SZALLAS_ID": "12",
                                    "SZALLAS_NEV": "Gold Hotel",
                                    "(No column name)": "2016",
                                    "Foglalások száma": "152",
                                    "Eddigi foglalások száma": "100"
                                },
                                {
                                    "SZALLAS_ID": "12",
                                    "SZALLAS_NEV": "Gold Hotel",
                                    "(No column name)": "2016",
                                    "Foglalások száma": "152",
                                    "Eddigi foglalások száma": "100"
                                },
                                {
                                    "SZALLAS_ID": "12",
                                    "SZALLAS_NEV": "Gold Hotel",
                                    "(No column name)": "2016",
                                    "Foglalások száma": "152",
                                    "Eddigi foglalások száma": "101"
                                },
                                {
                                    "SZALLAS_ID": "12",
                                    "SZALLAS_NEV": "Gold Hotel",
                                    "(No column name)": "2016",
                                    "Foglalások száma": "152",
                                    "Eddigi foglalások száma": "102"
                                },
                                {
                                    "SZALLAS_ID": "12",
                                    "SZALLAS_NEV": "Gold Hotel",
                                    "(No column name)": "2016",
                                    "Foglalások száma": "152",
                                    "Eddigi foglalások száma": "103"
                                },
                                {
                                    "SZALLAS_ID": "12",
                                    "SZALLAS_NEV": "Gold Hotel",
                                    "(No column name)": "2016",
                                    "Foglalások száma": "152",
                                    "Eddigi foglalások száma": "107"
                                },
                                {
                                    "SZALLAS_ID": "12",
                                    "SZALLAS_NEV": "Gold Hotel",
                                    "(No column name)": "2016",
                                    "Foglalások száma": "152",
                                    "Eddigi foglalások száma": "107"
                                },
                                {
                                    "SZALLAS_ID": "12",
                                    "SZALLAS_NEV": "Gold Hotel",
                                    "(No column name)": "2016",
                                    "Foglalások száma": "152",
                                    "Eddigi foglalások száma": "107"
                                },
                                {
                                    "SZALLAS_ID": "12",
                                    "SZALLAS_NEV": "Gold Hotel",
                                    "(No column name)": "2016",
                                    "Foglalások száma": "152",
                                    "Eddigi foglalások száma": "107"
                                },
                                {
                                    "SZALLAS_ID": "12",
                                    "SZALLAS_NEV": "Gold Hotel",
                                    "(No column name)": "2016",
                                    "Foglalások száma": "152",
                                    "Eddigi foglalások száma": "108"
                                },
                                {
                                    "SZALLAS_ID": "12",
                                    "SZALLAS_NEV": "Gold Hotel",
                                    "(No column name)": "2016",
                                    "Foglalások száma": "152",
                                    "Eddigi foglalások száma": "109"
                                },
                                {
                                    "SZALLAS_ID": "12",
                                    "SZALLAS_NEV": "Gold Hotel",
                                    "(No column name)": "2016",
                                    "Foglalások száma": "152",
                                    "Eddigi foglalások száma": "110"
                                },
                                {
                                    "SZALLAS_ID": "12",
                                    "SZALLAS_NEV": "Gold Hotel",
                                    "(No column name)": "2016",
                                    "Foglalások száma": "152",
                                    "Eddigi foglalások száma": "112"
                                },
                                {
                                    "SZALLAS_ID": "12",
                                    "SZALLAS_NEV": "Gold Hotel",
                                    "(No column name)": "2016",
                                    "Foglalások száma": "152",
                                    "Eddigi foglalások száma": "112"
                                },
                                {
                                    "SZALLAS_ID": "12",
                                    "SZALLAS_NEV": "Gold Hotel",
                                    "(No column name)": "2016",
                                    "Foglalások száma": "152",
                                    "Eddigi foglalások száma": "113"
                                },
                                {
                                    "SZALLAS_ID": "12",
                                    "SZALLAS_NEV": "Gold Hotel",
                                    "(No column name)": "2016",
                                    "Foglalások száma": "152",
                                    "Eddigi foglalások száma": "116"
                                },
                                {
                                    "SZALLAS_ID": "12",
                                    "SZALLAS_NEV": "Gold Hotel",
                                    "(No column name)": "2016",
                                    "Foglalások száma": "152",
                                    "Eddigi foglalások száma": "116"
                                },
                                {
                                    "SZALLAS_ID": "12",
                                    "SZALLAS_NEV": "Gold Hotel",
                                    "(No column name)": "2016",
                                    "Foglalások száma": "152",
                                    "Eddigi foglalások száma": "116"
                                },
                                {
                                    "SZALLAS_ID": "12",
                                    "SZALLAS_NEV": "Gold Hotel",
                                    "(No column name)": "2016",
                                    "Foglalások száma": "152",
                                    "Eddigi foglalások száma": "117"
                                },
                                {
                                    "SZALLAS_ID": "12",
                                    "SZALLAS_NEV": "Gold Hotel",
                                    "(No column name)": "2016",
                                    "Foglalások száma": "152",
                                    "Eddigi foglalások száma": "118"
                                },
                                {
                                    "SZALLAS_ID": "12",
                                    "SZALLAS_NEV": "Gold Hotel",
                                    "(No column name)": "2016",
                                    "Foglalások száma": "152",
                                    "Eddigi foglalások száma": "119"
                                },
                                {
                                    "SZALLAS_ID": "12",
                                    "SZALLAS_NEV": "Gold Hotel",
                                    "(No column name)": "2016",
                                    "Foglalások száma": "152",
                                    "Eddigi foglalások száma": "120"
                                },
                                {
                                    "SZALLAS_ID": "12",
                                    "SZALLAS_NEV": "Gold Hotel",
                                    "(No column name)": "2016",
                                    "Foglalások száma": "152",
                                    "Eddigi foglalások száma": "121"
                                },
                                {
                                    "SZALLAS_ID": "12",
                                    "SZALLAS_NEV": "Gold Hotel",
                                    "(No column name)": "2016",
                                    "Foglalások száma": "152",
                                    "Eddigi foglalások száma": "123"
                                },
                                {
                                    "SZALLAS_ID": "12",
                                    "SZALLAS_NEV": "Gold Hotel",
                                    "(No column name)": "2016",
                                    "Foglalások száma": "152",
                                    "Eddigi foglalások száma": "123"
                                },
                                {
                                    "SZALLAS_ID": "12",
                                    "SZALLAS_NEV": "Gold Hotel",
                                    "(No column name)": "2016",
                                    "Foglalások száma": "152",
                                    "Eddigi foglalások száma": "125"
                                },
                                {
                                    "SZALLAS_ID": "12",
                                    "SZALLAS_NEV": "Gold Hotel",
                                    "(No column name)": "2016",
                                    "Foglalások száma": "152",
                                    "Eddigi foglalások száma": "125"
                                },
                                {
                                    "SZALLAS_ID": "12",
                                    "SZALLAS_NEV": "Gold Hotel",
                                    "(No column name)": "2016",
                                    "Foglalások száma": "152",
                                    "Eddigi foglalások száma": "128"
                                },
                                {
                                    "SZALLAS_ID": "12",
                                    "SZALLAS_NEV": "Gold Hotel",
                                    "(No column name)": "2016",
                                    "Foglalások száma": "152",
                                    "Eddigi foglalások száma": "128"
                                },
                                {
                                    "SZALLAS_ID": "12",
                                    "SZALLAS_NEV": "Gold Hotel",
                                    "(No column name)": "2016",
                                    "Foglalások száma": "152",
                                    "Eddigi foglalások száma": "128"
                                },
                                {
                                    "SZALLAS_ID": "12",
                                    "SZALLAS_NEV": "Gold Hotel",
                                    "(No column name)": "2016",
                                    "Foglalások száma": "152",
                                    "Eddigi foglalások száma": "129"
                                },
                                {
                                    "SZALLAS_ID": "12",
                                    "SZALLAS_NEV": "Gold Hotel",
                                    "(No column name)": "2016",
                                    "Foglalások száma": "152",
                                    "Eddigi foglalások száma": "130"
                                },
                                {
                                    "SZALLAS_ID": "12",
                                    "SZALLAS_NEV": "Gold Hotel",
                                    "(No column name)": "2016",
                                    "Foglalások száma": "152",
                                    "Eddigi foglalások száma": "131"
                                },
                                {
                                    "SZALLAS_ID": "12",
                                    "SZALLAS_NEV": "Gold Hotel",
                                    "(No column name)": "2016",
                                    "Foglalások száma": "152",
                                    "Eddigi foglalások száma": "132"
                                },
                                {
                                    "SZALLAS_ID": "12",
                                    "SZALLAS_NEV": "Gold Hotel",
                                    "(No column name)": "2016",
                                    "Foglalások száma": "152",
                                    "Eddigi foglalások száma": "134"
                                },
                                {
                                    "SZALLAS_ID": "12",
                                    "SZALLAS_NEV": "Gold Hotel",
                                    "(No column name)": "2016",
                                    "Foglalások száma": "152",
                                    "Eddigi foglalások száma": "134"
                                },
                                {
                                    "SZALLAS_ID": "12",
                                    "SZALLAS_NEV": "Gold Hotel",
                                    "(No column name)": "2016",
                                    "Foglalások száma": "152",
                                    "Eddigi foglalások száma": "136"
                                },
                                {
                                    "SZALLAS_ID": "12",
                                    "SZALLAS_NEV": "Gold Hotel",
                                    "(No column name)": "2016",
                                    "Foglalások száma": "152",
                                    "Eddigi foglalások száma": "136"
                                },
                                {
                                    "SZALLAS_ID": "12",
                                    "SZALLAS_NEV": "Gold Hotel",
                                    "(No column name)": "2016",
                                    "Foglalások száma": "152",
                                    "Eddigi foglalások száma": "137"
                                },
                                {
                                    "SZALLAS_ID": "12",
                                    "SZALLAS_NEV": "Gold Hotel",
                                    "(No column name)": "2016",
                                    "Foglalások száma": "152",
                                    "Eddigi foglalások száma": "138"
                                },
                                {
                                    "SZALLAS_ID": "12",
                                    "SZALLAS_NEV": "Gold Hotel",
                                    "(No column name)": "2016",
                                    "Foglalások száma": "152",
                                    "Eddigi foglalások száma": "139"
                                },
                                {
                                    "SZALLAS_ID": "12",
                                    "SZALLAS_NEV": "Gold Hotel",
                                    "(No column name)": "2016",
                                    "Foglalások száma": "152",
                                    "Eddigi foglalások száma": "140"
                                },
                                {
                                    "SZALLAS_ID": "12",
                                    "SZALLAS_NEV": "Gold Hotel",
                                    "(No column name)": "2016",
                                    "Foglalások száma": "152",
                                    "Eddigi foglalások száma": "141"
                                },
                                {
                                    "SZALLAS_ID": "12",
                                    "SZALLAS_NEV": "Gold Hotel",
                                    "(No column name)": "2016",
                                    "Foglalások száma": "152",
                                    "Eddigi foglalások száma": "143"
                                },
                                {
                                    "SZALLAS_ID": "12",
                                    "SZALLAS_NEV": "Gold Hotel",
                                    "(No column name)": "2016",
                                    "Foglalások száma": "152",
                                    "Eddigi foglalások száma": "143"
                                },
                                {
                                    "SZALLAS_ID": "12",
                                    "SZALLAS_NEV": "Gold Hotel",
                                    "(No column name)": "2016",
                                    "Foglalások száma": "152",
                                    "Eddigi foglalások száma": "144"
                                },
                                {
                                    "SZALLAS_ID": "12",
                                    "SZALLAS_NEV": "Gold Hotel",
                                    "(No column name)": "2016",
                                    "Foglalások száma": "152",
                                    "Eddigi foglalások száma": "145"
                                },
                                {
                                    "SZALLAS_ID": "12",
                                    "SZALLAS_NEV": "Gold Hotel",
                                    "(No column name)": "2016",
                                    "Foglalások száma": "152",
                                    "Eddigi foglalások száma": "146"
                                },
                                {
                                    "SZALLAS_ID": "12",
                                    "SZALLAS_NEV": "Gold Hotel",
                                    "(No column name)": "2016",
                                    "Foglalások száma": "152",
                                    "Eddigi foglalások száma": "147"
                                },
                                {
                                    "SZALLAS_ID": "12",
                                    "SZALLAS_NEV": "Gold Hotel",
                                    "(No column name)": "2016",
                                    "Foglalások száma": "152",
                                    "Eddigi foglalások száma": "148"
                                },
                                {
                                    "SZALLAS_ID": "12",
                                    "SZALLAS_NEV": "Gold Hotel",
                                    "(No column name)": "2016",
                                    "Foglalások száma": "152",
                                    "Eddigi foglalások száma": "149"
                                },
                                {
                                    "SZALLAS_ID": "12",
                                    "SZALLAS_NEV": "Gold Hotel",
                                    "(No column name)": "2016",
                                    "Foglalások száma": "152",
                                    "Eddigi foglalások száma": "150"
                                },
                                {
                                    "SZALLAS_ID": "12",
                                    "SZALLAS_NEV": "Gold Hotel",
                                    "(No column name)": "2016",
                                    "Foglalások száma": "152",
                                    "Eddigi foglalások száma": "151"
                                },
                                {
                                    "SZALLAS_ID": "12",
                                    "SZALLAS_NEV": "Gold Hotel",
                                    "(No column name)": "2016",
                                    "Foglalások száma": "152",
                                    "Eddigi foglalások száma": "152"
                                },
                                {
                                    "SZALLAS_ID": "12",
                                    "SZALLAS_NEV": "Gold Hotel",
                                    "(No column name)": "2017",
                                    "Foglalások száma": "27",
                                    "Eddigi foglalások száma": "1"
                                },
                                {
                                    "SZALLAS_ID": "12",
                                    "SZALLAS_NEV": "Gold Hotel",
                                    "(No column name)": "2017",
                                    "Foglalások száma": "27",
                                    "Eddigi foglalások száma": "2"
                                },
                                {
                                    "SZALLAS_ID": "12",
                                    "SZALLAS_NEV": "Gold Hotel",
                                    "(No column name)": "2017",
                                    "Foglalások száma": "27",
                                    "Eddigi foglalások száma": "4"
                                },
                                {
                                    "SZALLAS_ID": "12",
                                    "SZALLAS_NEV": "Gold Hotel",
                                    "(No column name)": "2017",
                                    "Foglalások száma": "27",
                                    "Eddigi foglalások száma": "4"
                                },
                                {
                                    "SZALLAS_ID": "12",
                                    "SZALLAS_NEV": "Gold Hotel",
                                    "(No column name)": "2017",
                                    "Foglalások száma": "27",
                                    "Eddigi foglalások száma": "5"
                                },
                                {
                                    "SZALLAS_ID": "12",
                                    "SZALLAS_NEV": "Gold Hotel",
                                    "(No column name)": "2017",
                                    "Foglalások száma": "27",
                                    "Eddigi foglalások száma": "7"
                                },
                                {
                                    "SZALLAS_ID": "12",
                                    "SZALLAS_NEV": "Gold Hotel",
                                    "(No column name)": "2017",
                                    "Foglalások száma": "27",
                                    "Eddigi foglalások száma": "7"
                                },
                                {
                                    "SZALLAS_ID": "12",
                                    "SZALLAS_NEV": "Gold Hotel",
                                    "(No column name)": "2017",
                                    "Foglalások száma": "27",
                                    "Eddigi foglalások száma": "8"
                                },
                                {
                                    "SZALLAS_ID": "12",
                                    "SZALLAS_NEV": "Gold Hotel",
                                    "(No column name)": "2017",
                                    "Foglalások száma": "27",
                                    "Eddigi foglalások száma": "9"
                                },
                                {
                                    "SZALLAS_ID": "12",
                                    "SZALLAS_NEV": "Gold Hotel",
                                    "(No column name)": "2017",
                                    "Foglalások száma": "27",
                                    "Eddigi foglalások száma": "10"
                                },
                                {
                                    "SZALLAS_ID": "12",
                                    "SZALLAS_NEV": "Gold Hotel",
                                    "(No column name)": "2017",
                                    "Foglalások száma": "27",
                                    "Eddigi foglalások száma": "12"
                                },
                                {
                                    "SZALLAS_ID": "12",
                                    "SZALLAS_NEV": "Gold Hotel",
                                    "(No column name)": "2017",
                                    "Foglalások száma": "27",
                                    "Eddigi foglalások száma": "12"
                                },
                                {
                                    "SZALLAS_ID": "12",
                                    "SZALLAS_NEV": "Gold Hotel",
                                    "(No column name)": "2017",
                                    "Foglalások száma": "27",
                                    "Eddigi foglalások száma": "13"
                                },
                                {
                                    "SZALLAS_ID": "12",
                                    "SZALLAS_NEV": "Gold Hotel",
                                    "(No column name)": "2017",
                                    "Foglalások száma": "27",
                                    "Eddigi foglalások száma": "14"
                                },
                                {
                                    "SZALLAS_ID": "12",
                                    "SZALLAS_NEV": "Gold Hotel",
                                    "(No column name)": "2017",
                                    "Foglalások száma": "27",
                                    "Eddigi foglalások száma": "15"
                                },
                                {
                                    "SZALLAS_ID": "12",
                                    "SZALLAS_NEV": "Gold Hotel",
                                    "(No column name)": "2017",
                                    "Foglalások száma": "27",
                                    "Eddigi foglalások száma": "16"
                                },
                                {
                                    "SZALLAS_ID": "12",
                                    "SZALLAS_NEV": "Gold Hotel",
                                    "(No column name)": "2017",
                                    "Foglalások száma": "27",
                                    "Eddigi foglalások száma": "18"
                                },
                                {
                                    "SZALLAS_ID": "12",
                                    "SZALLAS_NEV": "Gold Hotel",
                                    "(No column name)": "2017",
                                    "Foglalások száma": "27",
                                    "Eddigi foglalások száma": "18"
                                },
                                {
                                    "SZALLAS_ID": "12",
                                    "SZALLAS_NEV": "Gold Hotel",
                                    "(No column name)": "2017",
                                    "Foglalások száma": "27",
                                    "Eddigi foglalások száma": "20"
                                },
                                {
                                    "SZALLAS_ID": "12",
                                    "SZALLAS_NEV": "Gold Hotel",
                                    "(No column name)": "2017",
                                    "Foglalások száma": "27",
                                    "Eddigi foglalások száma": "20"
                                },
                                {
                                    "SZALLAS_ID": "12",
                                    "SZALLAS_NEV": "Gold Hotel",
                                    "(No column name)": "2017",
                                    "Foglalások száma": "27",
                                    "Eddigi foglalások száma": "21"
                                },
                                {
                                    "SZALLAS_ID": "12",
                                    "SZALLAS_NEV": "Gold Hotel",
                                    "(No column name)": "2017",
                                    "Foglalások száma": "27",
                                    "Eddigi foglalások száma": "22"
                                },
                                {
                                    "SZALLAS_ID": "12",
                                    "SZALLAS_NEV": "Gold Hotel",
                                    "(No column name)": "2017",
                                    "Foglalások száma": "27",
                                    "Eddigi foglalások száma": "23"
                                },
                                {
                                    "SZALLAS_ID": "12",
                                    "SZALLAS_NEV": "Gold Hotel",
                                    "(No column name)": "2017",
                                    "Foglalások száma": "27",
                                    "Eddigi foglalások száma": "24"
                                },
                                {
                                    "SZALLAS_ID": "12",
                                    "SZALLAS_NEV": "Gold Hotel",
                                    "(No column name)": "2017",
                                    "Foglalások száma": "27",
                                    "Eddigi foglalások száma": "26"
                                },
                                {
                                    "SZALLAS_ID": "12",
                                    "SZALLAS_NEV": "Gold Hotel",
                                    "(No column name)": "2017",
                                    "Foglalások száma": "27",
                                    "Eddigi foglalások száma": "26"
                                },
                                {
                                    "SZALLAS_ID": "12",
                                    "SZALLAS_NEV": "Gold Hotel",
                                    "(No column name)": "2017",
                                    "Foglalások száma": "27",
                                    "Eddigi foglalások száma": "27"
                                }
                            ]
                        },
                        "text/html": [
                            "<table>",
                            "<tr><th>SZALLAS_ID</th><th>SZALLAS_NEV</th><th>(No column name)</th><th>Foglalások száma</th><th>Eddigi foglalások száma</th></tr>",
                            "<tr><td>1</td><td>Sába-Ház</td><td>2016</td><td>63</td><td>2</td></tr>",
                            "<tr><td>1</td><td>Sába-Ház</td><td>2016</td><td>63</td><td>2</td></tr>",
                            "<tr><td>1</td><td>Sába-Ház</td><td>2016</td><td>63</td><td>3</td></tr>",
                            "<tr><td>1</td><td>Sába-Ház</td><td>2016</td><td>63</td><td>4</td></tr>",
                            "<tr><td>1</td><td>Sába-Ház</td><td>2016</td><td>63</td><td>5</td></tr>",
                            "<tr><td>1</td><td>Sába-Ház</td><td>2016</td><td>63</td><td>6</td></tr>",
                            "<tr><td>1</td><td>Sába-Ház</td><td>2016</td><td>63</td><td>7</td></tr>",
                            "<tr><td>1</td><td>Sába-Ház</td><td>2016</td><td>63</td><td>8</td></tr>",
                            "<tr><td>1</td><td>Sába-Ház</td><td>2016</td><td>63</td><td>9</td></tr>",
                            "<tr><td>1</td><td>Sába-Ház</td><td>2016</td><td>63</td><td>11</td></tr>",
                            "<tr><td>1</td><td>Sába-Ház</td><td>2016</td><td>63</td><td>11</td></tr>",
                            "<tr><td>1</td><td>Sába-Ház</td><td>2016</td><td>63</td><td>12</td></tr>",
                            "<tr><td>1</td><td>Sába-Ház</td><td>2016</td><td>63</td><td>15</td></tr>",
                            "<tr><td>1</td><td>Sába-Ház</td><td>2016</td><td>63</td><td>15</td></tr>",
                            "<tr><td>1</td><td>Sába-Ház</td><td>2016</td><td>63</td><td>15</td></tr>",
                            "<tr><td>1</td><td>Sába-Ház</td><td>2016</td><td>63</td><td>16</td></tr>",
                            "<tr><td>1</td><td>Sába-Ház</td><td>2016</td><td>63</td><td>17</td></tr>",
                            "<tr><td>1</td><td>Sába-Ház</td><td>2016</td><td>63</td><td>18</td></tr>",
                            "<tr><td>1</td><td>Sába-Ház</td><td>2016</td><td>63</td><td>19</td></tr>",
                            "<tr><td>1</td><td>Sába-Ház</td><td>2016</td><td>63</td><td>20</td></tr>",
                            "<tr><td>1</td><td>Sába-Ház</td><td>2016</td><td>63</td><td>21</td></tr>",
                            "<tr><td>1</td><td>Sába-Ház</td><td>2016</td><td>63</td><td>22</td></tr>",
                            "<tr><td>1</td><td>Sába-Ház</td><td>2016</td><td>63</td><td>24</td></tr>",
                            "<tr><td>1</td><td>Sába-Ház</td><td>2016</td><td>63</td><td>24</td></tr>",
                            "<tr><td>1</td><td>Sába-Ház</td><td>2016</td><td>63</td><td>25</td></tr>",
                            "<tr><td>1</td><td>Sába-Ház</td><td>2016</td><td>63</td><td>26</td></tr>",
                            "<tr><td>1</td><td>Sába-Ház</td><td>2016</td><td>63</td><td>27</td></tr>",
                            "<tr><td>1</td><td>Sába-Ház</td><td>2016</td><td>63</td><td>28</td></tr>",
                            "<tr><td>1</td><td>Sába-Ház</td><td>2016</td><td>63</td><td>30</td></tr>",
                            "<tr><td>1</td><td>Sába-Ház</td><td>2016</td><td>63</td><td>30</td></tr>",
                            "<tr><td>1</td><td>Sába-Ház</td><td>2016</td><td>63</td><td>31</td></tr>",
                            "<tr><td>1</td><td>Sába-Ház</td><td>2016</td><td>63</td><td>32</td></tr>",
                            "<tr><td>1</td><td>Sába-Ház</td><td>2016</td><td>63</td><td>33</td></tr>",
                            "<tr><td>1</td><td>Sába-Ház</td><td>2016</td><td>63</td><td>34</td></tr>",
                            "<tr><td>1</td><td>Sába-Ház</td><td>2016</td><td>63</td><td>35</td></tr>",
                            "<tr><td>1</td><td>Sába-Ház</td><td>2016</td><td>63</td><td>36</td></tr>",
                            "<tr><td>1</td><td>Sába-Ház</td><td>2016</td><td>63</td><td>37</td></tr>",
                            "<tr><td>1</td><td>Sába-Ház</td><td>2016</td><td>63</td><td>38</td></tr>",
                            "<tr><td>1</td><td>Sába-Ház</td><td>2016</td><td>63</td><td>39</td></tr>",
                            "<tr><td>1</td><td>Sába-Ház</td><td>2016</td><td>63</td><td>40</td></tr>",
                            "<tr><td>1</td><td>Sába-Ház</td><td>2016</td><td>63</td><td>42</td></tr>",
                            "<tr><td>1</td><td>Sába-Ház</td><td>2016</td><td>63</td><td>42</td></tr>",
                            "<tr><td>1</td><td>Sába-Ház</td><td>2016</td><td>63</td><td>43</td></tr>",
                            "<tr><td>1</td><td>Sába-Ház</td><td>2016</td><td>63</td><td>44</td></tr>",
                            "<tr><td>1</td><td>Sába-Ház</td><td>2016</td><td>63</td><td>46</td></tr>",
                            "<tr><td>1</td><td>Sába-Ház</td><td>2016</td><td>63</td><td>46</td></tr>",
                            "<tr><td>1</td><td>Sába-Ház</td><td>2016</td><td>63</td><td>48</td></tr>",
                            "<tr><td>1</td><td>Sába-Ház</td><td>2016</td><td>63</td><td>48</td></tr>",
                            "<tr><td>1</td><td>Sába-Ház</td><td>2016</td><td>63</td><td>49</td></tr>",
                            "<tr><td>1</td><td>Sába-Ház</td><td>2016</td><td>63</td><td>51</td></tr>",
                            "<tr><td>1</td><td>Sába-Ház</td><td>2016</td><td>63</td><td>51</td></tr>",
                            "<tr><td>1</td><td>Sába-Ház</td><td>2016</td><td>63</td><td>52</td></tr>",
                            "<tr><td>1</td><td>Sába-Ház</td><td>2016</td><td>63</td><td>53</td></tr>",
                            "<tr><td>1</td><td>Sába-Ház</td><td>2016</td><td>63</td><td>54</td></tr>",
                            "<tr><td>1</td><td>Sába-Ház</td><td>2016</td><td>63</td><td>55</td></tr>",
                            "<tr><td>1</td><td>Sába-Ház</td><td>2016</td><td>63</td><td>56</td></tr>",
                            "<tr><td>1</td><td>Sába-Ház</td><td>2016</td><td>63</td><td>57</td></tr>",
                            "<tr><td>1</td><td>Sába-Ház</td><td>2016</td><td>63</td><td>59</td></tr>",
                            "<tr><td>1</td><td>Sába-Ház</td><td>2016</td><td>63</td><td>59</td></tr>",
                            "<tr><td>1</td><td>Sába-Ház</td><td>2016</td><td>63</td><td>60</td></tr>",
                            "<tr><td>1</td><td>Sába-Ház</td><td>2016</td><td>63</td><td>61</td></tr>",
                            "<tr><td>1</td><td>Sába-Ház</td><td>2016</td><td>63</td><td>62</td></tr>",
                            "<tr><td>1</td><td>Sába-Ház</td><td>2016</td><td>63</td><td>63</td></tr>",
                            "<tr><td>1</td><td>Sába-Ház</td><td>2017</td><td>7</td><td>1</td></tr>",
                            "<tr><td>1</td><td>Sába-Ház</td><td>2017</td><td>7</td><td>2</td></tr>",
                            "<tr><td>1</td><td>Sába-Ház</td><td>2017</td><td>7</td><td>3</td></tr>",
                            "<tr><td>1</td><td>Sába-Ház</td><td>2017</td><td>7</td><td>4</td></tr>",
                            "<tr><td>1</td><td>Sába-Ház</td><td>2017</td><td>7</td><td>5</td></tr>",
                            "<tr><td>1</td><td>Sába-Ház</td><td>2017</td><td>7</td><td>7</td></tr>",
                            "<tr><td>1</td><td>Sába-Ház</td><td>2017</td><td>7</td><td>7</td></tr>",
                            "<tr><td>2</td><td>Családi Ház</td><td>2016</td><td>13</td><td>1</td></tr>",
                            "<tr><td>2</td><td>Családi Ház</td><td>2016</td><td>13</td><td>2</td></tr>",
                            "<tr><td>2</td><td>Családi Ház</td><td>2016</td><td>13</td><td>3</td></tr>",
                            "<tr><td>2</td><td>Családi Ház</td><td>2016</td><td>13</td><td>4</td></tr>",
                            "<tr><td>2</td><td>Családi Ház</td><td>2016</td><td>13</td><td>5</td></tr>",
                            "<tr><td>2</td><td>Családi Ház</td><td>2016</td><td>13</td><td>6</td></tr>",
                            "<tr><td>2</td><td>Családi Ház</td><td>2016</td><td>13</td><td>7</td></tr>",
                            "<tr><td>2</td><td>Családi Ház</td><td>2016</td><td>13</td><td>8</td></tr>",
                            "<tr><td>2</td><td>Családi Ház</td><td>2016</td><td>13</td><td>9</td></tr>",
                            "<tr><td>2</td><td>Családi Ház</td><td>2016</td><td>13</td><td>10</td></tr>",
                            "<tr><td>2</td><td>Családi Ház</td><td>2016</td><td>13</td><td>11</td></tr>",
                            "<tr><td>2</td><td>Családi Ház</td><td>2016</td><td>13</td><td>12</td></tr>",
                            "<tr><td>2</td><td>Családi Ház</td><td>2016</td><td>13</td><td>13</td></tr>",
                            "<tr><td>2</td><td>Családi Ház</td><td>2017</td><td>5</td><td>1</td></tr>",
                            "<tr><td>2</td><td>Családi Ház</td><td>2017</td><td>5</td><td>2</td></tr>",
                            "<tr><td>2</td><td>Családi Ház</td><td>2017</td><td>5</td><td>3</td></tr>",
                            "<tr><td>2</td><td>Családi Ház</td><td>2017</td><td>5</td><td>4</td></tr>",
                            "<tr><td>2</td><td>Családi Ház</td><td>2017</td><td>5</td><td>5</td></tr>",
                            "<tr><td>3</td><td>Fortuna Apartman</td><td>2016</td><td>35</td><td>1</td></tr>",
                            "<tr><td>3</td><td>Fortuna Apartman</td><td>2016</td><td>35</td><td>2</td></tr>",
                            "<tr><td>3</td><td>Fortuna Apartman</td><td>2016</td><td>35</td><td>3</td></tr>",
                            "<tr><td>3</td><td>Fortuna Apartman</td><td>2016</td><td>35</td><td>4</td></tr>",
                            "<tr><td>3</td><td>Fortuna Apartman</td><td>2016</td><td>35</td><td>5</td></tr>",
                            "<tr><td>3</td><td>Fortuna Apartman</td><td>2016</td><td>35</td><td>6</td></tr>",
                            "<tr><td>3</td><td>Fortuna Apartman</td><td>2016</td><td>35</td><td>7</td></tr>",
                            "<tr><td>3</td><td>Fortuna Apartman</td><td>2016</td><td>35</td><td>8</td></tr>",
                            "<tr><td>3</td><td>Fortuna Apartman</td><td>2016</td><td>35</td><td>10</td></tr>",
                            "<tr><td>3</td><td>Fortuna Apartman</td><td>2016</td><td>35</td><td>10</td></tr>",
                            "<tr><td>3</td><td>Fortuna Apartman</td><td>2016</td><td>35</td><td>11</td></tr>",
                            "<tr><td>3</td><td>Fortuna Apartman</td><td>2016</td><td>35</td><td>12</td></tr>",
                            "<tr><td>3</td><td>Fortuna Apartman</td><td>2016</td><td>35</td><td>13</td></tr>",
                            "<tr><td>3</td><td>Fortuna Apartman</td><td>2016</td><td>35</td><td>14</td></tr>",
                            "<tr><td>3</td><td>Fortuna Apartman</td><td>2016</td><td>35</td><td>15</td></tr>",
                            "<tr><td>3</td><td>Fortuna Apartman</td><td>2016</td><td>35</td><td>16</td></tr>",
                            "<tr><td>3</td><td>Fortuna Apartman</td><td>2016</td><td>35</td><td>17</td></tr>",
                            "<tr><td>3</td><td>Fortuna Apartman</td><td>2016</td><td>35</td><td>18</td></tr>",
                            "<tr><td>3</td><td>Fortuna Apartman</td><td>2016</td><td>35</td><td>19</td></tr>",
                            "<tr><td>3</td><td>Fortuna Apartman</td><td>2016</td><td>35</td><td>20</td></tr>",
                            "<tr><td>3</td><td>Fortuna Apartman</td><td>2016</td><td>35</td><td>21</td></tr>",
                            "<tr><td>3</td><td>Fortuna Apartman</td><td>2016</td><td>35</td><td>22</td></tr>",
                            "<tr><td>3</td><td>Fortuna Apartman</td><td>2016</td><td>35</td><td>24</td></tr>",
                            "<tr><td>3</td><td>Fortuna Apartman</td><td>2016</td><td>35</td><td>24</td></tr>",
                            "<tr><td>3</td><td>Fortuna Apartman</td><td>2016</td><td>35</td><td>25</td></tr>",
                            "<tr><td>3</td><td>Fortuna Apartman</td><td>2016</td><td>35</td><td>26</td></tr>",
                            "<tr><td>3</td><td>Fortuna Apartman</td><td>2016</td><td>35</td><td>27</td></tr>",
                            "<tr><td>3</td><td>Fortuna Apartman</td><td>2016</td><td>35</td><td>28</td></tr>",
                            "<tr><td>3</td><td>Fortuna Apartman</td><td>2016</td><td>35</td><td>30</td></tr>",
                            "<tr><td>3</td><td>Fortuna Apartman</td><td>2016</td><td>35</td><td>30</td></tr>",
                            "<tr><td>3</td><td>Fortuna Apartman</td><td>2016</td><td>35</td><td>31</td></tr>",
                            "<tr><td>3</td><td>Fortuna Apartman</td><td>2016</td><td>35</td><td>32</td></tr>",
                            "<tr><td>3</td><td>Fortuna Apartman</td><td>2016</td><td>35</td><td>33</td></tr>",
                            "<tr><td>3</td><td>Fortuna Apartman</td><td>2016</td><td>35</td><td>34</td></tr>",
                            "<tr><td>3</td><td>Fortuna Apartman</td><td>2016</td><td>35</td><td>35</td></tr>",
                            "<tr><td>3</td><td>Fortuna Apartman</td><td>2017</td><td>4</td><td>1</td></tr>",
                            "<tr><td>3</td><td>Fortuna Apartman</td><td>2017</td><td>4</td><td>2</td></tr>",
                            "<tr><td>3</td><td>Fortuna Apartman</td><td>2017</td><td>4</td><td>3</td></tr>",
                            "<tr><td>3</td><td>Fortuna Apartman</td><td>2017</td><td>4</td><td>4</td></tr>",
                            "<tr><td>4</td><td>Fortuna panzió</td><td>2016</td><td>61</td><td>1</td></tr>",
                            "<tr><td>4</td><td>Fortuna panzió</td><td>2016</td><td>61</td><td>2</td></tr>",
                            "<tr><td>4</td><td>Fortuna panzió</td><td>2016</td><td>61</td><td>4</td></tr>",
                            "<tr><td>4</td><td>Fortuna panzió</td><td>2016</td><td>61</td><td>4</td></tr>",
                            "<tr><td>4</td><td>Fortuna panzió</td><td>2016</td><td>61</td><td>5</td></tr>",
                            "<tr><td>4</td><td>Fortuna panzió</td><td>2016</td><td>61</td><td>7</td></tr>",
                            "<tr><td>4</td><td>Fortuna panzió</td><td>2016</td><td>61</td><td>7</td></tr>",
                            "<tr><td>4</td><td>Fortuna panzió</td><td>2016</td><td>61</td><td>8</td></tr>",
                            "<tr><td>4</td><td>Fortuna panzió</td><td>2016</td><td>61</td><td>9</td></tr>",
                            "<tr><td>4</td><td>Fortuna panzió</td><td>2016</td><td>61</td><td>10</td></tr>",
                            "<tr><td>4</td><td>Fortuna panzió</td><td>2016</td><td>61</td><td>13</td></tr>",
                            "<tr><td>4</td><td>Fortuna panzió</td><td>2016</td><td>61</td><td>13</td></tr>",
                            "<tr><td>4</td><td>Fortuna panzió</td><td>2016</td><td>61</td><td>13</td></tr>",
                            "<tr><td>4</td><td>Fortuna panzió</td><td>2016</td><td>61</td><td>15</td></tr>",
                            "<tr><td>4</td><td>Fortuna panzió</td><td>2016</td><td>61</td><td>15</td></tr>",
                            "<tr><td>4</td><td>Fortuna panzió</td><td>2016</td><td>61</td><td>17</td></tr>",
                            "<tr><td>4</td><td>Fortuna panzió</td><td>2016</td><td>61</td><td>17</td></tr>",
                            "<tr><td>4</td><td>Fortuna panzió</td><td>2016</td><td>61</td><td>18</td></tr>",
                            "<tr><td>4</td><td>Fortuna panzió</td><td>2016</td><td>61</td><td>19</td></tr>",
                            "<tr><td>4</td><td>Fortuna panzió</td><td>2016</td><td>61</td><td>20</td></tr>",
                            "<tr><td>4</td><td>Fortuna panzió</td><td>2016</td><td>61</td><td>21</td></tr>",
                            "<tr><td>4</td><td>Fortuna panzió</td><td>2016</td><td>61</td><td>22</td></tr>",
                            "<tr><td>4</td><td>Fortuna panzió</td><td>2016</td><td>61</td><td>23</td></tr>",
                            "<tr><td>4</td><td>Fortuna panzió</td><td>2016</td><td>61</td><td>24</td></tr>",
                            "<tr><td>4</td><td>Fortuna panzió</td><td>2016</td><td>61</td><td>25</td></tr>",
                            "<tr><td>4</td><td>Fortuna panzió</td><td>2016</td><td>61</td><td>26</td></tr>",
                            "<tr><td>4</td><td>Fortuna panzió</td><td>2016</td><td>61</td><td>27</td></tr>",
                            "<tr><td>4</td><td>Fortuna panzió</td><td>2016</td><td>61</td><td>29</td></tr>",
                            "<tr><td>4</td><td>Fortuna panzió</td><td>2016</td><td>61</td><td>29</td></tr>",
                            "<tr><td>4</td><td>Fortuna panzió</td><td>2016</td><td>61</td><td>30</td></tr>",
                            "<tr><td>4</td><td>Fortuna panzió</td><td>2016</td><td>61</td><td>31</td></tr>",
                            "<tr><td>4</td><td>Fortuna panzió</td><td>2016</td><td>61</td><td>32</td></tr>",
                            "<tr><td>4</td><td>Fortuna panzió</td><td>2016</td><td>61</td><td>33</td></tr>",
                            "<tr><td>4</td><td>Fortuna panzió</td><td>2016</td><td>61</td><td>34</td></tr>",
                            "<tr><td>4</td><td>Fortuna panzió</td><td>2016</td><td>61</td><td>35</td></tr>",
                            "<tr><td>4</td><td>Fortuna panzió</td><td>2016</td><td>61</td><td>36</td></tr>",
                            "<tr><td>4</td><td>Fortuna panzió</td><td>2016</td><td>61</td><td>38</td></tr>",
                            "<tr><td>4</td><td>Fortuna panzió</td><td>2016</td><td>61</td><td>38</td></tr>",
                            "<tr><td>4</td><td>Fortuna panzió</td><td>2016</td><td>61</td><td>39</td></tr>",
                            "<tr><td>4</td><td>Fortuna panzió</td><td>2016</td><td>61</td><td>40</td></tr>",
                            "<tr><td>4</td><td>Fortuna panzió</td><td>2016</td><td>61</td><td>41</td></tr>",
                            "<tr><td>4</td><td>Fortuna panzió</td><td>2016</td><td>61</td><td>43</td></tr>",
                            "<tr><td>4</td><td>Fortuna panzió</td><td>2016</td><td>61</td><td>43</td></tr>",
                            "<tr><td>4</td><td>Fortuna panzió</td><td>2016</td><td>61</td><td>44</td></tr>",
                            "<tr><td>4</td><td>Fortuna panzió</td><td>2016</td><td>61</td><td>45</td></tr>",
                            "<tr><td>4</td><td>Fortuna panzió</td><td>2016</td><td>61</td><td>46</td></tr>",
                            "<tr><td>4</td><td>Fortuna panzió</td><td>2016</td><td>61</td><td>47</td></tr>",
                            "<tr><td>4</td><td>Fortuna panzió</td><td>2016</td><td>61</td><td>48</td></tr>",
                            "<tr><td>4</td><td>Fortuna panzió</td><td>2016</td><td>61</td><td>49</td></tr>",
                            "<tr><td>4</td><td>Fortuna panzió</td><td>2016</td><td>61</td><td>50</td></tr>",
                            "<tr><td>4</td><td>Fortuna panzió</td><td>2016</td><td>61</td><td>51</td></tr>",
                            "<tr><td>4</td><td>Fortuna panzió</td><td>2016</td><td>61</td><td>52</td></tr>",
                            "<tr><td>4</td><td>Fortuna panzió</td><td>2016</td><td>61</td><td>53</td></tr>",
                            "<tr><td>4</td><td>Fortuna panzió</td><td>2016</td><td>61</td><td>54</td></tr>",
                            "<tr><td>4</td><td>Fortuna panzió</td><td>2016</td><td>61</td><td>55</td></tr>",
                            "<tr><td>4</td><td>Fortuna panzió</td><td>2016</td><td>61</td><td>56</td></tr>",
                            "<tr><td>4</td><td>Fortuna panzió</td><td>2016</td><td>61</td><td>57</td></tr>",
                            "<tr><td>4</td><td>Fortuna panzió</td><td>2016</td><td>61</td><td>58</td></tr>",
                            "<tr><td>4</td><td>Fortuna panzió</td><td>2016</td><td>61</td><td>59</td></tr>",
                            "<tr><td>4</td><td>Fortuna panzió</td><td>2016</td><td>61</td><td>60</td></tr>",
                            "<tr><td>4</td><td>Fortuna panzió</td><td>2016</td><td>61</td><td>61</td></tr>",
                            "<tr><td>4</td><td>Fortuna panzió</td><td>2017</td><td>12</td><td>1</td></tr>",
                            "<tr><td>4</td><td>Fortuna panzió</td><td>2017</td><td>12</td><td>2</td></tr>",
                            "<tr><td>4</td><td>Fortuna panzió</td><td>2017</td><td>12</td><td>3</td></tr>",
                            "<tr><td>4</td><td>Fortuna panzió</td><td>2017</td><td>12</td><td>4</td></tr>",
                            "<tr><td>4</td><td>Fortuna panzió</td><td>2017</td><td>12</td><td>5</td></tr>",
                            "<tr><td>4</td><td>Fortuna panzió</td><td>2017</td><td>12</td><td>6</td></tr>",
                            "<tr><td>4</td><td>Fortuna panzió</td><td>2017</td><td>12</td><td>7</td></tr>",
                            "<tr><td>4</td><td>Fortuna panzió</td><td>2017</td><td>12</td><td>8</td></tr>",
                            "<tr><td>4</td><td>Fortuna panzió</td><td>2017</td><td>12</td><td>9</td></tr>",
                            "<tr><td>4</td><td>Fortuna panzió</td><td>2017</td><td>12</td><td>10</td></tr>",
                            "<tr><td>4</td><td>Fortuna panzió</td><td>2017</td><td>12</td><td>11</td></tr>",
                            "<tr><td>4</td><td>Fortuna panzió</td><td>2017</td><td>12</td><td>12</td></tr>",
                            "<tr><td>5</td><td>Fortuna Panzió</td><td>2016</td><td>43</td><td>1</td></tr>",
                            "<tr><td>5</td><td>Fortuna Panzió</td><td>2016</td><td>43</td><td>3</td></tr>",
                            "<tr><td>5</td><td>Fortuna Panzió</td><td>2016</td><td>43</td><td>3</td></tr>",
                            "<tr><td>5</td><td>Fortuna Panzió</td><td>2016</td><td>43</td><td>4</td></tr>",
                            "<tr><td>5</td><td>Fortuna Panzió</td><td>2016</td><td>43</td><td>5</td></tr>",
                            "<tr><td>5</td><td>Fortuna Panzió</td><td>2016</td><td>43</td><td>6</td></tr>",
                            "<tr><td>5</td><td>Fortuna Panzió</td><td>2016</td><td>43</td><td>7</td></tr>",
                            "<tr><td>5</td><td>Fortuna Panzió</td><td>2016</td><td>43</td><td>8</td></tr>",
                            "<tr><td>5</td><td>Fortuna Panzió</td><td>2016</td><td>43</td><td>9</td></tr>",
                            "<tr><td>5</td><td>Fortuna Panzió</td><td>2016</td><td>43</td><td>11</td></tr>",
                            "<tr><td>5</td><td>Fortuna Panzió</td><td>2016</td><td>43</td><td>11</td></tr>",
                            "<tr><td>5</td><td>Fortuna Panzió</td><td>2016</td><td>43</td><td>12</td></tr>",
                            "<tr><td>5</td><td>Fortuna Panzió</td><td>2016</td><td>43</td><td>13</td></tr>",
                            "<tr><td>5</td><td>Fortuna Panzió</td><td>2016</td><td>43</td><td>14</td></tr>",
                            "<tr><td>5</td><td>Fortuna Panzió</td><td>2016</td><td>43</td><td>16</td></tr>",
                            "<tr><td>5</td><td>Fortuna Panzió</td><td>2016</td><td>43</td><td>16</td></tr>",
                            "<tr><td>5</td><td>Fortuna Panzió</td><td>2016</td><td>43</td><td>17</td></tr>",
                            "<tr><td>5</td><td>Fortuna Panzió</td><td>2016</td><td>43</td><td>18</td></tr>",
                            "<tr><td>5</td><td>Fortuna Panzió</td><td>2016</td><td>43</td><td>19</td></tr>",
                            "<tr><td>5</td><td>Fortuna Panzió</td><td>2016</td><td>43</td><td>20</td></tr>",
                            "<tr><td>5</td><td>Fortuna Panzió</td><td>2016</td><td>43</td><td>22</td></tr>",
                            "<tr><td>5</td><td>Fortuna Panzió</td><td>2016</td><td>43</td><td>22</td></tr>",
                            "<tr><td>5</td><td>Fortuna Panzió</td><td>2016</td><td>43</td><td>24</td></tr>",
                            "<tr><td>5</td><td>Fortuna Panzió</td><td>2016</td><td>43</td><td>24</td></tr>",
                            "<tr><td>5</td><td>Fortuna Panzió</td><td>2016</td><td>43</td><td>25</td></tr>",
                            "<tr><td>5</td><td>Fortuna Panzió</td><td>2016</td><td>43</td><td>26</td></tr>",
                            "<tr><td>5</td><td>Fortuna Panzió</td><td>2016</td><td>43</td><td>27</td></tr>",
                            "<tr><td>5</td><td>Fortuna Panzió</td><td>2016</td><td>43</td><td>28</td></tr>",
                            "<tr><td>5</td><td>Fortuna Panzió</td><td>2016</td><td>43</td><td>29</td></tr>",
                            "<tr><td>5</td><td>Fortuna Panzió</td><td>2016</td><td>43</td><td>30</td></tr>",
                            "<tr><td>5</td><td>Fortuna Panzió</td><td>2016</td><td>43</td><td>32</td></tr>",
                            "<tr><td>5</td><td>Fortuna Panzió</td><td>2016</td><td>43</td><td>32</td></tr>",
                            "<tr><td>5</td><td>Fortuna Panzió</td><td>2016</td><td>43</td><td>33</td></tr>",
                            "<tr><td>5</td><td>Fortuna Panzió</td><td>2016</td><td>43</td><td>34</td></tr>",
                            "<tr><td>5</td><td>Fortuna Panzió</td><td>2016</td><td>43</td><td>35</td></tr>",
                            "<tr><td>5</td><td>Fortuna Panzió</td><td>2016</td><td>43</td><td>37</td></tr>",
                            "<tr><td>5</td><td>Fortuna Panzió</td><td>2016</td><td>43</td><td>37</td></tr>",
                            "<tr><td>5</td><td>Fortuna Panzió</td><td>2016</td><td>43</td><td>38</td></tr>",
                            "<tr><td>5</td><td>Fortuna Panzió</td><td>2016</td><td>43</td><td>39</td></tr>",
                            "<tr><td>5</td><td>Fortuna Panzió</td><td>2016</td><td>43</td><td>41</td></tr>",
                            "<tr><td>5</td><td>Fortuna Panzió</td><td>2016</td><td>43</td><td>41</td></tr>",
                            "<tr><td>5</td><td>Fortuna Panzió</td><td>2016</td><td>43</td><td>42</td></tr>",
                            "<tr><td>5</td><td>Fortuna Panzió</td><td>2016</td><td>43</td><td>43</td></tr>",
                            "<tr><td>5</td><td>Fortuna Panzió</td><td>2017</td><td>10</td><td>1</td></tr>",
                            "<tr><td>5</td><td>Fortuna Panzió</td><td>2017</td><td>10</td><td>2</td></tr>",
                            "<tr><td>5</td><td>Fortuna Panzió</td><td>2017</td><td>10</td><td>3</td></tr>",
                            "<tr><td>5</td><td>Fortuna Panzió</td><td>2017</td><td>10</td><td>4</td></tr>",
                            "<tr><td>5</td><td>Fortuna Panzió</td><td>2017</td><td>10</td><td>5</td></tr>",
                            "<tr><td>5</td><td>Fortuna Panzió</td><td>2017</td><td>10</td><td>6</td></tr>",
                            "<tr><td>5</td><td>Fortuna Panzió</td><td>2017</td><td>10</td><td>7</td></tr>",
                            "<tr><td>5</td><td>Fortuna Panzió</td><td>2017</td><td>10</td><td>9</td></tr>",
                            "<tr><td>5</td><td>Fortuna Panzió</td><td>2017</td><td>10</td><td>9</td></tr>",
                            "<tr><td>5</td><td>Fortuna Panzió</td><td>2017</td><td>10</td><td>10</td></tr>",
                            "<tr><td>6</td><td>Kentaur Hotel</td><td>2016</td><td>150</td><td>1</td></tr>",
                            "<tr><td>6</td><td>Kentaur Hotel</td><td>2016</td><td>150</td><td>3</td></tr>",
                            "<tr><td>6</td><td>Kentaur Hotel</td><td>2016</td><td>150</td><td>3</td></tr>",
                            "<tr><td>6</td><td>Kentaur Hotel</td><td>2016</td><td>150</td><td>4</td></tr>",
                            "<tr><td>6</td><td>Kentaur Hotel</td><td>2016</td><td>150</td><td>5</td></tr>",
                            "<tr><td>6</td><td>Kentaur Hotel</td><td>2016</td><td>150</td><td>6</td></tr>",
                            "<tr><td>6</td><td>Kentaur Hotel</td><td>2016</td><td>150</td><td>7</td></tr>",
                            "<tr><td>6</td><td>Kentaur Hotel</td><td>2016</td><td>150</td><td>8</td></tr>",
                            "<tr><td>6</td><td>Kentaur Hotel</td><td>2016</td><td>150</td><td>9</td></tr>",
                            "<tr><td>6</td><td>Kentaur Hotel</td><td>2016</td><td>150</td><td>10</td></tr>",
                            "<tr><td>6</td><td>Kentaur Hotel</td><td>2016</td><td>150</td><td>11</td></tr>",
                            "<tr><td>6</td><td>Kentaur Hotel</td><td>2016</td><td>150</td><td>13</td></tr>",
                            "<tr><td>6</td><td>Kentaur Hotel</td><td>2016</td><td>150</td><td>13</td></tr>",
                            "<tr><td>6</td><td>Kentaur Hotel</td><td>2016</td><td>150</td><td>14</td></tr>",
                            "<tr><td>6</td><td>Kentaur Hotel</td><td>2016</td><td>150</td><td>15</td></tr>",
                            "<tr><td>6</td><td>Kentaur Hotel</td><td>2016</td><td>150</td><td>17</td></tr>",
                            "<tr><td>6</td><td>Kentaur Hotel</td><td>2016</td><td>150</td><td>17</td></tr>",
                            "<tr><td>6</td><td>Kentaur Hotel</td><td>2016</td><td>150</td><td>19</td></tr>",
                            "<tr><td>6</td><td>Kentaur Hotel</td><td>2016</td><td>150</td><td>19</td></tr>",
                            "<tr><td>6</td><td>Kentaur Hotel</td><td>2016</td><td>150</td><td>20</td></tr>",
                            "<tr><td>6</td><td>Kentaur Hotel</td><td>2016</td><td>150</td><td>25</td></tr>",
                            "<tr><td>6</td><td>Kentaur Hotel</td><td>2016</td><td>150</td><td>25</td></tr>",
                            "<tr><td>6</td><td>Kentaur Hotel</td><td>2016</td><td>150</td><td>25</td></tr>",
                            "<tr><td>6</td><td>Kentaur Hotel</td><td>2016</td><td>150</td><td>25</td></tr>",
                            "<tr><td>6</td><td>Kentaur Hotel</td><td>2016</td><td>150</td><td>25</td></tr>",
                            "<tr><td>6</td><td>Kentaur Hotel</td><td>2016</td><td>150</td><td>26</td></tr>",
                            "<tr><td>6</td><td>Kentaur Hotel</td><td>2016</td><td>150</td><td>27</td></tr>",
                            "<tr><td>6</td><td>Kentaur Hotel</td><td>2016</td><td>150</td><td>29</td></tr>",
                            "<tr><td>6</td><td>Kentaur Hotel</td><td>2016</td><td>150</td><td>29</td></tr>",
                            "<tr><td>6</td><td>Kentaur Hotel</td><td>2016</td><td>150</td><td>30</td></tr>",
                            "<tr><td>6</td><td>Kentaur Hotel</td><td>2016</td><td>150</td><td>31</td></tr>",
                            "<tr><td>6</td><td>Kentaur Hotel</td><td>2016</td><td>150</td><td>33</td></tr>",
                            "<tr><td>6</td><td>Kentaur Hotel</td><td>2016</td><td>150</td><td>33</td></tr>",
                            "<tr><td>6</td><td>Kentaur Hotel</td><td>2016</td><td>150</td><td>35</td></tr>",
                            "<tr><td>6</td><td>Kentaur Hotel</td><td>2016</td><td>150</td><td>35</td></tr>",
                            "<tr><td>6</td><td>Kentaur Hotel</td><td>2016</td><td>150</td><td>36</td></tr>",
                            "<tr><td>6</td><td>Kentaur Hotel</td><td>2016</td><td>150</td><td>37</td></tr>",
                            "<tr><td>6</td><td>Kentaur Hotel</td><td>2016</td><td>150</td><td>39</td></tr>",
                            "<tr><td>6</td><td>Kentaur Hotel</td><td>2016</td><td>150</td><td>39</td></tr>",
                            "<tr><td>6</td><td>Kentaur Hotel</td><td>2016</td><td>150</td><td>40</td></tr>",
                            "<tr><td>6</td><td>Kentaur Hotel</td><td>2016</td><td>150</td><td>42</td></tr>",
                            "<tr><td>6</td><td>Kentaur Hotel</td><td>2016</td><td>150</td><td>42</td></tr>",
                            "<tr><td>6</td><td>Kentaur Hotel</td><td>2016</td><td>150</td><td>43</td></tr>",
                            "<tr><td>6</td><td>Kentaur Hotel</td><td>2016</td><td>150</td><td>44</td></tr>",
                            "<tr><td>6</td><td>Kentaur Hotel</td><td>2016</td><td>150</td><td>46</td></tr>",
                            "<tr><td>6</td><td>Kentaur Hotel</td><td>2016</td><td>150</td><td>46</td></tr>",
                            "<tr><td>6</td><td>Kentaur Hotel</td><td>2016</td><td>150</td><td>47</td></tr>",
                            "<tr><td>6</td><td>Kentaur Hotel</td><td>2016</td><td>150</td><td>48</td></tr>",
                            "<tr><td>6</td><td>Kentaur Hotel</td><td>2016</td><td>150</td><td>49</td></tr>",
                            "<tr><td>6</td><td>Kentaur Hotel</td><td>2016</td><td>150</td><td>50</td></tr>",
                            "<tr><td>6</td><td>Kentaur Hotel</td><td>2016</td><td>150</td><td>51</td></tr>",
                            "<tr><td>6</td><td>Kentaur Hotel</td><td>2016</td><td>150</td><td>52</td></tr>",
                            "<tr><td>6</td><td>Kentaur Hotel</td><td>2016</td><td>150</td><td>53</td></tr>",
                            "<tr><td>6</td><td>Kentaur Hotel</td><td>2016</td><td>150</td><td>54</td></tr>",
                            "<tr><td>6</td><td>Kentaur Hotel</td><td>2016</td><td>150</td><td>56</td></tr>",
                            "<tr><td>6</td><td>Kentaur Hotel</td><td>2016</td><td>150</td><td>56</td></tr>",
                            "<tr><td>6</td><td>Kentaur Hotel</td><td>2016</td><td>150</td><td>58</td></tr>",
                            "<tr><td>6</td><td>Kentaur Hotel</td><td>2016</td><td>150</td><td>58</td></tr>",
                            "<tr><td>6</td><td>Kentaur Hotel</td><td>2016</td><td>150</td><td>60</td></tr>",
                            "<tr><td>6</td><td>Kentaur Hotel</td><td>2016</td><td>150</td><td>60</td></tr>",
                            "<tr><td>6</td><td>Kentaur Hotel</td><td>2016</td><td>150</td><td>61</td></tr>",
                            "<tr><td>6</td><td>Kentaur Hotel</td><td>2016</td><td>150</td><td>62</td></tr>",
                            "<tr><td>6</td><td>Kentaur Hotel</td><td>2016</td><td>150</td><td>63</td></tr>",
                            "<tr><td>6</td><td>Kentaur Hotel</td><td>2016</td><td>150</td><td>64</td></tr>",
                            "<tr><td>6</td><td>Kentaur Hotel</td><td>2016</td><td>150</td><td>65</td></tr>",
                            "<tr><td>6</td><td>Kentaur Hotel</td><td>2016</td><td>150</td><td>66</td></tr>",
                            "<tr><td>6</td><td>Kentaur Hotel</td><td>2016</td><td>150</td><td>67</td></tr>",
                            "<tr><td>6</td><td>Kentaur Hotel</td><td>2016</td><td>150</td><td>69</td></tr>",
                            "<tr><td>6</td><td>Kentaur Hotel</td><td>2016</td><td>150</td><td>69</td></tr>",
                            "<tr><td>6</td><td>Kentaur Hotel</td><td>2016</td><td>150</td><td>70</td></tr>",
                            "<tr><td>6</td><td>Kentaur Hotel</td><td>2016</td><td>150</td><td>72</td></tr>",
                            "<tr><td>6</td><td>Kentaur Hotel</td><td>2016</td><td>150</td><td>72</td></tr>",
                            "<tr><td>6</td><td>Kentaur Hotel</td><td>2016</td><td>150</td><td>73</td></tr>",
                            "<tr><td>6</td><td>Kentaur Hotel</td><td>2016</td><td>150</td><td>76</td></tr>",
                            "<tr><td>6</td><td>Kentaur Hotel</td><td>2016</td><td>150</td><td>76</td></tr>",
                            "<tr><td>6</td><td>Kentaur Hotel</td><td>2016</td><td>150</td><td>76</td></tr>",
                            "<tr><td>6</td><td>Kentaur Hotel</td><td>2016</td><td>150</td><td>77</td></tr>",
                            "<tr><td>6</td><td>Kentaur Hotel</td><td>2016</td><td>150</td><td>78</td></tr>",
                            "<tr><td>6</td><td>Kentaur Hotel</td><td>2016</td><td>150</td><td>79</td></tr>",
                            "<tr><td>6</td><td>Kentaur Hotel</td><td>2016</td><td>150</td><td>80</td></tr>",
                            "<tr><td>6</td><td>Kentaur Hotel</td><td>2016</td><td>150</td><td>82</td></tr>",
                            "<tr><td>6</td><td>Kentaur Hotel</td><td>2016</td><td>150</td><td>82</td></tr>",
                            "<tr><td>6</td><td>Kentaur Hotel</td><td>2016</td><td>150</td><td>83</td></tr>",
                            "<tr><td>6</td><td>Kentaur Hotel</td><td>2016</td><td>150</td><td>84</td></tr>",
                            "<tr><td>6</td><td>Kentaur Hotel</td><td>2016</td><td>150</td><td>85</td></tr>",
                            "<tr><td>6</td><td>Kentaur Hotel</td><td>2016</td><td>150</td><td>86</td></tr>",
                            "<tr><td>6</td><td>Kentaur Hotel</td><td>2016</td><td>150</td><td>88</td></tr>",
                            "<tr><td>6</td><td>Kentaur Hotel</td><td>2016</td><td>150</td><td>88</td></tr>",
                            "<tr><td>6</td><td>Kentaur Hotel</td><td>2016</td><td>150</td><td>91</td></tr>",
                            "<tr><td>6</td><td>Kentaur Hotel</td><td>2016</td><td>150</td><td>91</td></tr>",
                            "<tr><td>6</td><td>Kentaur Hotel</td><td>2016</td><td>150</td><td>91</td></tr>",
                            "<tr><td>6</td><td>Kentaur Hotel</td><td>2016</td><td>150</td><td>93</td></tr>",
                            "<tr><td>6</td><td>Kentaur Hotel</td><td>2016</td><td>150</td><td>93</td></tr>",
                            "<tr><td>6</td><td>Kentaur Hotel</td><td>2016</td><td>150</td><td>94</td></tr>",
                            "<tr><td>6</td><td>Kentaur Hotel</td><td>2016</td><td>150</td><td>95</td></tr>",
                            "<tr><td>6</td><td>Kentaur Hotel</td><td>2016</td><td>150</td><td>96</td></tr>",
                            "<tr><td>6</td><td>Kentaur Hotel</td><td>2016</td><td>150</td><td>97</td></tr>",
                            "<tr><td>6</td><td>Kentaur Hotel</td><td>2016</td><td>150</td><td>98</td></tr>",
                            "<tr><td>6</td><td>Kentaur Hotel</td><td>2016</td><td>150</td><td>99</td></tr>",
                            "<tr><td>6</td><td>Kentaur Hotel</td><td>2016</td><td>150</td><td>100</td></tr>",
                            "<tr><td>6</td><td>Kentaur Hotel</td><td>2016</td><td>150</td><td>101</td></tr>",
                            "<tr><td>6</td><td>Kentaur Hotel</td><td>2016</td><td>150</td><td>102</td></tr>",
                            "<tr><td>6</td><td>Kentaur Hotel</td><td>2016</td><td>150</td><td>103</td></tr>",
                            "<tr><td>6</td><td>Kentaur Hotel</td><td>2016</td><td>150</td><td>104</td></tr>",
                            "<tr><td>6</td><td>Kentaur Hotel</td><td>2016</td><td>150</td><td>105</td></tr>",
                            "<tr><td>6</td><td>Kentaur Hotel</td><td>2016</td><td>150</td><td>106</td></tr>",
                            "<tr><td>6</td><td>Kentaur Hotel</td><td>2016</td><td>150</td><td>107</td></tr>",
                            "<tr><td>6</td><td>Kentaur Hotel</td><td>2016</td><td>150</td><td>111</td></tr>",
                            "<tr><td>6</td><td>Kentaur Hotel</td><td>2016</td><td>150</td><td>111</td></tr>",
                            "<tr><td>6</td><td>Kentaur Hotel</td><td>2016</td><td>150</td><td>111</td></tr>",
                            "<tr><td>6</td><td>Kentaur Hotel</td><td>2016</td><td>150</td><td>111</td></tr>",
                            "<tr><td>6</td><td>Kentaur Hotel</td><td>2016</td><td>150</td><td>112</td></tr>",
                            "<tr><td>6</td><td>Kentaur Hotel</td><td>2016</td><td>150</td><td>113</td></tr>",
                            "<tr><td>6</td><td>Kentaur Hotel</td><td>2016</td><td>150</td><td>114</td></tr>",
                            "<tr><td>6</td><td>Kentaur Hotel</td><td>2016</td><td>150</td><td>115</td></tr>",
                            "<tr><td>6</td><td>Kentaur Hotel</td><td>2016</td><td>150</td><td>116</td></tr>",
                            "<tr><td>6</td><td>Kentaur Hotel</td><td>2016</td><td>150</td><td>118</td></tr>",
                            "<tr><td>6</td><td>Kentaur Hotel</td><td>2016</td><td>150</td><td>118</td></tr>",
                            "<tr><td>6</td><td>Kentaur Hotel</td><td>2016</td><td>150</td><td>119</td></tr>",
                            "<tr><td>6</td><td>Kentaur Hotel</td><td>2016</td><td>150</td><td>120</td></tr>",
                            "<tr><td>6</td><td>Kentaur Hotel</td><td>2016</td><td>150</td><td>121</td></tr>",
                            "<tr><td>6</td><td>Kentaur Hotel</td><td>2016</td><td>150</td><td>122</td></tr>",
                            "<tr><td>6</td><td>Kentaur Hotel</td><td>2016</td><td>150</td><td>123</td></tr>",
                            "<tr><td>6</td><td>Kentaur Hotel</td><td>2016</td><td>150</td><td>124</td></tr>",
                            "<tr><td>6</td><td>Kentaur Hotel</td><td>2016</td><td>150</td><td>125</td></tr>",
                            "<tr><td>6</td><td>Kentaur Hotel</td><td>2016</td><td>150</td><td>126</td></tr>",
                            "<tr><td>6</td><td>Kentaur Hotel</td><td>2016</td><td>150</td><td>127</td></tr>",
                            "<tr><td>6</td><td>Kentaur Hotel</td><td>2016</td><td>150</td><td>128</td></tr>",
                            "<tr><td>6</td><td>Kentaur Hotel</td><td>2016</td><td>150</td><td>129</td></tr>",
                            "<tr><td>6</td><td>Kentaur Hotel</td><td>2016</td><td>150</td><td>130</td></tr>",
                            "<tr><td>6</td><td>Kentaur Hotel</td><td>2016</td><td>150</td><td>132</td></tr>",
                            "<tr><td>6</td><td>Kentaur Hotel</td><td>2016</td><td>150</td><td>132</td></tr>",
                            "<tr><td>6</td><td>Kentaur Hotel</td><td>2016</td><td>150</td><td>134</td></tr>",
                            "<tr><td>6</td><td>Kentaur Hotel</td><td>2016</td><td>150</td><td>134</td></tr>",
                            "<tr><td>6</td><td>Kentaur Hotel</td><td>2016</td><td>150</td><td>135</td></tr>",
                            "<tr><td>6</td><td>Kentaur Hotel</td><td>2016</td><td>150</td><td>136</td></tr>",
                            "<tr><td>6</td><td>Kentaur Hotel</td><td>2016</td><td>150</td><td>137</td></tr>",
                            "<tr><td>6</td><td>Kentaur Hotel</td><td>2016</td><td>150</td><td>138</td></tr>",
                            "<tr><td>6</td><td>Kentaur Hotel</td><td>2016</td><td>150</td><td>139</td></tr>",
                            "<tr><td>6</td><td>Kentaur Hotel</td><td>2016</td><td>150</td><td>140</td></tr>",
                            "<tr><td>6</td><td>Kentaur Hotel</td><td>2016</td><td>150</td><td>141</td></tr>",
                            "<tr><td>6</td><td>Kentaur Hotel</td><td>2016</td><td>150</td><td>143</td></tr>",
                            "<tr><td>6</td><td>Kentaur Hotel</td><td>2016</td><td>150</td><td>143</td></tr>",
                            "<tr><td>6</td><td>Kentaur Hotel</td><td>2016</td><td>150</td><td>144</td></tr>",
                            "<tr><td>6</td><td>Kentaur Hotel</td><td>2016</td><td>150</td><td>146</td></tr>",
                            "<tr><td>6</td><td>Kentaur Hotel</td><td>2016</td><td>150</td><td>146</td></tr>",
                            "<tr><td>6</td><td>Kentaur Hotel</td><td>2016</td><td>150</td><td>147</td></tr>",
                            "<tr><td>6</td><td>Kentaur Hotel</td><td>2016</td><td>150</td><td>149</td></tr>",
                            "<tr><td>6</td><td>Kentaur Hotel</td><td>2016</td><td>150</td><td>149</td></tr>",
                            "<tr><td>6</td><td>Kentaur Hotel</td><td>2016</td><td>150</td><td>150</td></tr>",
                            "<tr><td>6</td><td>Kentaur Hotel</td><td>2017</td><td>29</td><td>1</td></tr>",
                            "<tr><td>6</td><td>Kentaur Hotel</td><td>2017</td><td>29</td><td>2</td></tr>",
                            "<tr><td>6</td><td>Kentaur Hotel</td><td>2017</td><td>29</td><td>3</td></tr>",
                            "<tr><td>6</td><td>Kentaur Hotel</td><td>2017</td><td>29</td><td>4</td></tr>",
                            "<tr><td>6</td><td>Kentaur Hotel</td><td>2017</td><td>29</td><td>7</td></tr>",
                            "<tr><td>6</td><td>Kentaur Hotel</td><td>2017</td><td>29</td><td>7</td></tr>",
                            "<tr><td>6</td><td>Kentaur Hotel</td><td>2017</td><td>29</td><td>7</td></tr>",
                            "<tr><td>6</td><td>Kentaur Hotel</td><td>2017</td><td>29</td><td>8</td></tr>",
                            "<tr><td>6</td><td>Kentaur Hotel</td><td>2017</td><td>29</td><td>10</td></tr>",
                            "<tr><td>6</td><td>Kentaur Hotel</td><td>2017</td><td>29</td><td>10</td></tr>",
                            "<tr><td>6</td><td>Kentaur Hotel</td><td>2017</td><td>29</td><td>14</td></tr>",
                            "<tr><td>6</td><td>Kentaur Hotel</td><td>2017</td><td>29</td><td>14</td></tr>",
                            "<tr><td>6</td><td>Kentaur Hotel</td><td>2017</td><td>29</td><td>14</td></tr>",
                            "<tr><td>6</td><td>Kentaur Hotel</td><td>2017</td><td>29</td><td>14</td></tr>",
                            "<tr><td>6</td><td>Kentaur Hotel</td><td>2017</td><td>29</td><td>15</td></tr>",
                            "<tr><td>6</td><td>Kentaur Hotel</td><td>2017</td><td>29</td><td>16</td></tr>",
                            "<tr><td>6</td><td>Kentaur Hotel</td><td>2017</td><td>29</td><td>18</td></tr>",
                            "<tr><td>6</td><td>Kentaur Hotel</td><td>2017</td><td>29</td><td>18</td></tr>",
                            "<tr><td>6</td><td>Kentaur Hotel</td><td>2017</td><td>29</td><td>19</td></tr>",
                            "<tr><td>6</td><td>Kentaur Hotel</td><td>2017</td><td>29</td><td>20</td></tr>",
                            "<tr><td>6</td><td>Kentaur Hotel</td><td>2017</td><td>29</td><td>21</td></tr>",
                            "<tr><td>6</td><td>Kentaur Hotel</td><td>2017</td><td>29</td><td>22</td></tr>",
                            "<tr><td>6</td><td>Kentaur Hotel</td><td>2017</td><td>29</td><td>23</td></tr>",
                            "<tr><td>6</td><td>Kentaur Hotel</td><td>2017</td><td>29</td><td>24</td></tr>",
                            "<tr><td>6</td><td>Kentaur Hotel</td><td>2017</td><td>29</td><td>25</td></tr>",
                            "<tr><td>6</td><td>Kentaur Hotel</td><td>2017</td><td>29</td><td>26</td></tr>",
                            "<tr><td>6</td><td>Kentaur Hotel</td><td>2017</td><td>29</td><td>27</td></tr>",
                            "<tr><td>6</td><td>Kentaur Hotel</td><td>2017</td><td>29</td><td>28</td></tr>",
                            "<tr><td>6</td><td>Kentaur Hotel</td><td>2017</td><td>29</td><td>29</td></tr>",
                            "<tr><td>7</td><td>Szieszta Apartmanház</td><td>2016</td><td>28</td><td>1</td></tr>",
                            "<tr><td>7</td><td>Szieszta Apartmanház</td><td>2016</td><td>28</td><td>2</td></tr>",
                            "<tr><td>7</td><td>Szieszta Apartmanház</td><td>2016</td><td>28</td><td>3</td></tr>",
                            "<tr><td>7</td><td>Szieszta Apartmanház</td><td>2016</td><td>28</td><td>4</td></tr>",
                            "<tr><td>7</td><td>Szieszta Apartmanház</td><td>2016</td><td>28</td><td>5</td></tr>",
                            "<tr><td>7</td><td>Szieszta Apartmanház</td><td>2016</td><td>28</td><td>6</td></tr>",
                            "<tr><td>7</td><td>Szieszta Apartmanház</td><td>2016</td><td>28</td><td>7</td></tr>",
                            "<tr><td>7</td><td>Szieszta Apartmanház</td><td>2016</td><td>28</td><td>8</td></tr>",
                            "<tr><td>7</td><td>Szieszta Apartmanház</td><td>2016</td><td>28</td><td>9</td></tr>",
                            "<tr><td>7</td><td>Szieszta Apartmanház</td><td>2016</td><td>28</td><td>10</td></tr>",
                            "<tr><td>7</td><td>Szieszta Apartmanház</td><td>2016</td><td>28</td><td>11</td></tr>",
                            "<tr><td>7</td><td>Szieszta Apartmanház</td><td>2016</td><td>28</td><td>12</td></tr>",
                            "<tr><td>7</td><td>Szieszta Apartmanház</td><td>2016</td><td>28</td><td>15</td></tr>",
                            "<tr><td>7</td><td>Szieszta Apartmanház</td><td>2016</td><td>28</td><td>15</td></tr>",
                            "<tr><td>7</td><td>Szieszta Apartmanház</td><td>2016</td><td>28</td><td>15</td></tr>",
                            "<tr><td>7</td><td>Szieszta Apartmanház</td><td>2016</td><td>28</td><td>16</td></tr>",
                            "<tr><td>7</td><td>Szieszta Apartmanház</td><td>2016</td><td>28</td><td>17</td></tr>",
                            "<tr><td>7</td><td>Szieszta Apartmanház</td><td>2016</td><td>28</td><td>18</td></tr>",
                            "<tr><td>7</td><td>Szieszta Apartmanház</td><td>2016</td><td>28</td><td>19</td></tr>",
                            "<tr><td>7</td><td>Szieszta Apartmanház</td><td>2016</td><td>28</td><td>20</td></tr>",
                            "<tr><td>7</td><td>Szieszta Apartmanház</td><td>2016</td><td>28</td><td>21</td></tr>",
                            "<tr><td>7</td><td>Szieszta Apartmanház</td><td>2016</td><td>28</td><td>23</td></tr>",
                            "<tr><td>7</td><td>Szieszta Apartmanház</td><td>2016</td><td>28</td><td>23</td></tr>",
                            "<tr><td>7</td><td>Szieszta Apartmanház</td><td>2016</td><td>28</td><td>24</td></tr>",
                            "<tr><td>7</td><td>Szieszta Apartmanház</td><td>2016</td><td>28</td><td>25</td></tr>",
                            "<tr><td>7</td><td>Szieszta Apartmanház</td><td>2016</td><td>28</td><td>26</td></tr>",
                            "<tr><td>7</td><td>Szieszta Apartmanház</td><td>2016</td><td>28</td><td>27</td></tr>",
                            "<tr><td>7</td><td>Szieszta Apartmanház</td><td>2016</td><td>28</td><td>28</td></tr>",
                            "<tr><td>7</td><td>Szieszta Apartmanház</td><td>2017</td><td>6</td><td>1</td></tr>",
                            "<tr><td>7</td><td>Szieszta Apartmanház</td><td>2017</td><td>6</td><td>2</td></tr>",
                            "<tr><td>7</td><td>Szieszta Apartmanház</td><td>2017</td><td>6</td><td>3</td></tr>",
                            "<tr><td>7</td><td>Szieszta Apartmanház</td><td>2017</td><td>6</td><td>4</td></tr>",
                            "<tr><td>7</td><td>Szieszta Apartmanház</td><td>2017</td><td>6</td><td>5</td></tr>",
                            "<tr><td>7</td><td>Szieszta Apartmanház</td><td>2017</td><td>6</td><td>6</td></tr>",
                            "<tr><td>8</td><td>Hotel Három Hattyú</td><td>2016</td><td>157</td><td>1</td></tr>",
                            "<tr><td>8</td><td>Hotel Három Hattyú</td><td>2016</td><td>157</td><td>2</td></tr>",
                            "<tr><td>8</td><td>Hotel Három Hattyú</td><td>2016</td><td>157</td><td>3</td></tr>",
                            "<tr><td>8</td><td>Hotel Három Hattyú</td><td>2016</td><td>157</td><td>5</td></tr>",
                            "<tr><td>8</td><td>Hotel Három Hattyú</td><td>2016</td><td>157</td><td>5</td></tr>",
                            "<tr><td>8</td><td>Hotel Három Hattyú</td><td>2016</td><td>157</td><td>6</td></tr>",
                            "<tr><td>8</td><td>Hotel Három Hattyú</td><td>2016</td><td>157</td><td>7</td></tr>",
                            "<tr><td>8</td><td>Hotel Három Hattyú</td><td>2016</td><td>157</td><td>8</td></tr>",
                            "<tr><td>8</td><td>Hotel Három Hattyú</td><td>2016</td><td>157</td><td>10</td></tr>",
                            "<tr><td>8</td><td>Hotel Három Hattyú</td><td>2016</td><td>157</td><td>10</td></tr>",
                            "<tr><td>8</td><td>Hotel Három Hattyú</td><td>2016</td><td>157</td><td>12</td></tr>",
                            "<tr><td>8</td><td>Hotel Három Hattyú</td><td>2016</td><td>157</td><td>12</td></tr>",
                            "<tr><td>8</td><td>Hotel Három Hattyú</td><td>2016</td><td>157</td><td>13</td></tr>",
                            "<tr><td>8</td><td>Hotel Három Hattyú</td><td>2016</td><td>157</td><td>14</td></tr>",
                            "<tr><td>8</td><td>Hotel Három Hattyú</td><td>2016</td><td>157</td><td>15</td></tr>",
                            "<tr><td>8</td><td>Hotel Három Hattyú</td><td>2016</td><td>157</td><td>17</td></tr>",
                            "<tr><td>8</td><td>Hotel Három Hattyú</td><td>2016</td><td>157</td><td>17</td></tr>",
                            "<tr><td>8</td><td>Hotel Három Hattyú</td><td>2016</td><td>157</td><td>19</td></tr>",
                            "<tr><td>8</td><td>Hotel Három Hattyú</td><td>2016</td><td>157</td><td>19</td></tr>",
                            "<tr><td>8</td><td>Hotel Három Hattyú</td><td>2016</td><td>157</td><td>20</td></tr>",
                            "<tr><td>8</td><td>Hotel Három Hattyú</td><td>2016</td><td>157</td><td>21</td></tr>",
                            "<tr><td>8</td><td>Hotel Három Hattyú</td><td>2016</td><td>157</td><td>22</td></tr>",
                            "<tr><td>8</td><td>Hotel Három Hattyú</td><td>2016</td><td>157</td><td>23</td></tr>",
                            "<tr><td>8</td><td>Hotel Három Hattyú</td><td>2016</td><td>157</td><td>24</td></tr>",
                            "<tr><td>8</td><td>Hotel Három Hattyú</td><td>2016</td><td>157</td><td>25</td></tr>",
                            "<tr><td>8</td><td>Hotel Három Hattyú</td><td>2016</td><td>157</td><td>26</td></tr>",
                            "<tr><td>8</td><td>Hotel Három Hattyú</td><td>2016</td><td>157</td><td>27</td></tr>",
                            "<tr><td>8</td><td>Hotel Három Hattyú</td><td>2016</td><td>157</td><td>29</td></tr>",
                            "<tr><td>8</td><td>Hotel Három Hattyú</td><td>2016</td><td>157</td><td>29</td></tr>",
                            "<tr><td>8</td><td>Hotel Három Hattyú</td><td>2016</td><td>157</td><td>30</td></tr>",
                            "<tr><td>8</td><td>Hotel Három Hattyú</td><td>2016</td><td>157</td><td>32</td></tr>",
                            "<tr><td>8</td><td>Hotel Három Hattyú</td><td>2016</td><td>157</td><td>32</td></tr>",
                            "<tr><td>8</td><td>Hotel Három Hattyú</td><td>2016</td><td>157</td><td>34</td></tr>",
                            "<tr><td>8</td><td>Hotel Három Hattyú</td><td>2016</td><td>157</td><td>34</td></tr>",
                            "<tr><td>8</td><td>Hotel Három Hattyú</td><td>2016</td><td>157</td><td>35</td></tr>",
                            "<tr><td>8</td><td>Hotel Három Hattyú</td><td>2016</td><td>157</td><td>36</td></tr>",
                            "<tr><td>8</td><td>Hotel Három Hattyú</td><td>2016</td><td>157</td><td>40</td></tr>",
                            "<tr><td>8</td><td>Hotel Három Hattyú</td><td>2016</td><td>157</td><td>40</td></tr>",
                            "<tr><td>8</td><td>Hotel Három Hattyú</td><td>2016</td><td>157</td><td>40</td></tr>",
                            "<tr><td>8</td><td>Hotel Három Hattyú</td><td>2016</td><td>157</td><td>40</td></tr>",
                            "<tr><td>8</td><td>Hotel Három Hattyú</td><td>2016</td><td>157</td><td>41</td></tr>",
                            "<tr><td>8</td><td>Hotel Három Hattyú</td><td>2016</td><td>157</td><td>42</td></tr>",
                            "<tr><td>8</td><td>Hotel Három Hattyú</td><td>2016</td><td>157</td><td>43</td></tr>",
                            "<tr><td>8</td><td>Hotel Három Hattyú</td><td>2016</td><td>157</td><td>44</td></tr>",
                            "<tr><td>8</td><td>Hotel Három Hattyú</td><td>2016</td><td>157</td><td>46</td></tr>",
                            "<tr><td>8</td><td>Hotel Három Hattyú</td><td>2016</td><td>157</td><td>46</td></tr>",
                            "<tr><td>8</td><td>Hotel Három Hattyú</td><td>2016</td><td>157</td><td>47</td></tr>",
                            "<tr><td>8</td><td>Hotel Három Hattyú</td><td>2016</td><td>157</td><td>48</td></tr>",
                            "<tr><td>8</td><td>Hotel Három Hattyú</td><td>2016</td><td>157</td><td>49</td></tr>",
                            "<tr><td>8</td><td>Hotel Három Hattyú</td><td>2016</td><td>157</td><td>50</td></tr>",
                            "<tr><td>8</td><td>Hotel Három Hattyú</td><td>2016</td><td>157</td><td>51</td></tr>",
                            "<tr><td>8</td><td>Hotel Három Hattyú</td><td>2016</td><td>157</td><td>52</td></tr>",
                            "<tr><td>8</td><td>Hotel Három Hattyú</td><td>2016</td><td>157</td><td>53</td></tr>",
                            "<tr><td>8</td><td>Hotel Három Hattyú</td><td>2016</td><td>157</td><td>54</td></tr>",
                            "<tr><td>8</td><td>Hotel Három Hattyú</td><td>2016</td><td>157</td><td>55</td></tr>",
                            "<tr><td>8</td><td>Hotel Három Hattyú</td><td>2016</td><td>157</td><td>56</td></tr>",
                            "<tr><td>8</td><td>Hotel Három Hattyú</td><td>2016</td><td>157</td><td>57</td></tr>",
                            "<tr><td>8</td><td>Hotel Három Hattyú</td><td>2016</td><td>157</td><td>58</td></tr>",
                            "<tr><td>8</td><td>Hotel Három Hattyú</td><td>2016</td><td>157</td><td>60</td></tr>",
                            "<tr><td>8</td><td>Hotel Három Hattyú</td><td>2016</td><td>157</td><td>60</td></tr>",
                            "<tr><td>8</td><td>Hotel Három Hattyú</td><td>2016</td><td>157</td><td>65</td></tr>",
                            "<tr><td>8</td><td>Hotel Három Hattyú</td><td>2016</td><td>157</td><td>65</td></tr>",
                            "<tr><td>8</td><td>Hotel Három Hattyú</td><td>2016</td><td>157</td><td>65</td></tr>",
                            "<tr><td>8</td><td>Hotel Három Hattyú</td><td>2016</td><td>157</td><td>65</td></tr>",
                            "<tr><td>8</td><td>Hotel Három Hattyú</td><td>2016</td><td>157</td><td>65</td></tr>",
                            "<tr><td>8</td><td>Hotel Három Hattyú</td><td>2016</td><td>157</td><td>67</td></tr>",
                            "<tr><td>8</td><td>Hotel Három Hattyú</td><td>2016</td><td>157</td><td>67</td></tr>",
                            "<tr><td>8</td><td>Hotel Három Hattyú</td><td>2016</td><td>157</td><td>68</td></tr>",
                            "<tr><td>8</td><td>Hotel Három Hattyú</td><td>2016</td><td>157</td><td>70</td></tr>",
                            "<tr><td>8</td><td>Hotel Három Hattyú</td><td>2016</td><td>157</td><td>70</td></tr>",
                            "<tr><td>8</td><td>Hotel Három Hattyú</td><td>2016</td><td>157</td><td>71</td></tr>",
                            "<tr><td>8</td><td>Hotel Három Hattyú</td><td>2016</td><td>157</td><td>72</td></tr>",
                            "<tr><td>8</td><td>Hotel Három Hattyú</td><td>2016</td><td>157</td><td>73</td></tr>",
                            "<tr><td>8</td><td>Hotel Három Hattyú</td><td>2016</td><td>157</td><td>74</td></tr>",
                            "<tr><td>8</td><td>Hotel Három Hattyú</td><td>2016</td><td>157</td><td>75</td></tr>",
                            "<tr><td>8</td><td>Hotel Három Hattyú</td><td>2016</td><td>157</td><td>76</td></tr>",
                            "<tr><td>8</td><td>Hotel Három Hattyú</td><td>2016</td><td>157</td><td>77</td></tr>",
                            "<tr><td>8</td><td>Hotel Három Hattyú</td><td>2016</td><td>157</td><td>79</td></tr>",
                            "<tr><td>8</td><td>Hotel Három Hattyú</td><td>2016</td><td>157</td><td>79</td></tr>",
                            "<tr><td>8</td><td>Hotel Három Hattyú</td><td>2016</td><td>157</td><td>80</td></tr>",
                            "<tr><td>8</td><td>Hotel Három Hattyú</td><td>2016</td><td>157</td><td>81</td></tr>",
                            "<tr><td>8</td><td>Hotel Három Hattyú</td><td>2016</td><td>157</td><td>83</td></tr>",
                            "<tr><td>8</td><td>Hotel Három Hattyú</td><td>2016</td><td>157</td><td>83</td></tr>",
                            "<tr><td>8</td><td>Hotel Három Hattyú</td><td>2016</td><td>157</td><td>84</td></tr>",
                            "<tr><td>8</td><td>Hotel Három Hattyú</td><td>2016</td><td>157</td><td>85</td></tr>",
                            "<tr><td>8</td><td>Hotel Három Hattyú</td><td>2016</td><td>157</td><td>86</td></tr>",
                            "<tr><td>8</td><td>Hotel Három Hattyú</td><td>2016</td><td>157</td><td>87</td></tr>",
                            "<tr><td>8</td><td>Hotel Három Hattyú</td><td>2016</td><td>157</td><td>88</td></tr>",
                            "<tr><td>8</td><td>Hotel Három Hattyú</td><td>2016</td><td>157</td><td>91</td></tr>",
                            "<tr><td>8</td><td>Hotel Három Hattyú</td><td>2016</td><td>157</td><td>91</td></tr>",
                            "<tr><td>8</td><td>Hotel Három Hattyú</td><td>2016</td><td>157</td><td>91</td></tr>",
                            "<tr><td>8</td><td>Hotel Három Hattyú</td><td>2016</td><td>157</td><td>92</td></tr>",
                            "<tr><td>8</td><td>Hotel Három Hattyú</td><td>2016</td><td>157</td><td>93</td></tr>",
                            "<tr><td>8</td><td>Hotel Három Hattyú</td><td>2016</td><td>157</td><td>94</td></tr>",
                            "<tr><td>8</td><td>Hotel Három Hattyú</td><td>2016</td><td>157</td><td>95</td></tr>",
                            "<tr><td>8</td><td>Hotel Három Hattyú</td><td>2016</td><td>157</td><td>96</td></tr>",
                            "<tr><td>8</td><td>Hotel Három Hattyú</td><td>2016</td><td>157</td><td>99</td></tr>",
                            "<tr><td>8</td><td>Hotel Három Hattyú</td><td>2016</td><td>157</td><td>99</td></tr>",
                            "<tr><td>8</td><td>Hotel Három Hattyú</td><td>2016</td><td>157</td><td>99</td></tr>",
                            "<tr><td>8</td><td>Hotel Három Hattyú</td><td>2016</td><td>157</td><td>100</td></tr>",
                            "<tr><td>8</td><td>Hotel Három Hattyú</td><td>2016</td><td>157</td><td>101</td></tr>",
                            "<tr><td>8</td><td>Hotel Három Hattyú</td><td>2016</td><td>157</td><td>103</td></tr>",
                            "<tr><td>8</td><td>Hotel Három Hattyú</td><td>2016</td><td>157</td><td>103</td></tr>",
                            "<tr><td>8</td><td>Hotel Három Hattyú</td><td>2016</td><td>157</td><td>104</td></tr>",
                            "<tr><td>8</td><td>Hotel Három Hattyú</td><td>2016</td><td>157</td><td>105</td></tr>",
                            "<tr><td>8</td><td>Hotel Három Hattyú</td><td>2016</td><td>157</td><td>106</td></tr>",
                            "<tr><td>8</td><td>Hotel Három Hattyú</td><td>2016</td><td>157</td><td>107</td></tr>",
                            "<tr><td>8</td><td>Hotel Három Hattyú</td><td>2016</td><td>157</td><td>108</td></tr>",
                            "<tr><td>8</td><td>Hotel Három Hattyú</td><td>2016</td><td>157</td><td>109</td></tr>",
                            "<tr><td>8</td><td>Hotel Három Hattyú</td><td>2016</td><td>157</td><td>112</td></tr>",
                            "<tr><td>8</td><td>Hotel Három Hattyú</td><td>2016</td><td>157</td><td>112</td></tr>",
                            "<tr><td>8</td><td>Hotel Három Hattyú</td><td>2016</td><td>157</td><td>112</td></tr>",
                            "<tr><td>8</td><td>Hotel Három Hattyú</td><td>2016</td><td>157</td><td>114</td></tr>",
                            "<tr><td>8</td><td>Hotel Három Hattyú</td><td>2016</td><td>157</td><td>114</td></tr>",
                            "<tr><td>8</td><td>Hotel Három Hattyú</td><td>2016</td><td>157</td><td>117</td></tr>",
                            "<tr><td>8</td><td>Hotel Három Hattyú</td><td>2016</td><td>157</td><td>117</td></tr>",
                            "<tr><td>8</td><td>Hotel Három Hattyú</td><td>2016</td><td>157</td><td>117</td></tr>",
                            "<tr><td>8</td><td>Hotel Három Hattyú</td><td>2016</td><td>157</td><td>118</td></tr>",
                            "<tr><td>8</td><td>Hotel Három Hattyú</td><td>2016</td><td>157</td><td>119</td></tr>",
                            "<tr><td>8</td><td>Hotel Három Hattyú</td><td>2016</td><td>157</td><td>121</td></tr>",
                            "<tr><td>8</td><td>Hotel Három Hattyú</td><td>2016</td><td>157</td><td>121</td></tr>",
                            "<tr><td>8</td><td>Hotel Három Hattyú</td><td>2016</td><td>157</td><td>122</td></tr>",
                            "<tr><td>8</td><td>Hotel Három Hattyú</td><td>2016</td><td>157</td><td>123</td></tr>",
                            "<tr><td>8</td><td>Hotel Három Hattyú</td><td>2016</td><td>157</td><td>124</td></tr>",
                            "<tr><td>8</td><td>Hotel Három Hattyú</td><td>2016</td><td>157</td><td>125</td></tr>",
                            "<tr><td>8</td><td>Hotel Három Hattyú</td><td>2016</td><td>157</td><td>127</td></tr>",
                            "<tr><td>8</td><td>Hotel Három Hattyú</td><td>2016</td><td>157</td><td>127</td></tr>",
                            "<tr><td>8</td><td>Hotel Három Hattyú</td><td>2016</td><td>157</td><td>128</td></tr>",
                            "<tr><td>8</td><td>Hotel Három Hattyú</td><td>2016</td><td>157</td><td>129</td></tr>",
                            "<tr><td>8</td><td>Hotel Három Hattyú</td><td>2016</td><td>157</td><td>130</td></tr>",
                            "<tr><td>8</td><td>Hotel Három Hattyú</td><td>2016</td><td>157</td><td>131</td></tr>",
                            "<tr><td>8</td><td>Hotel Három Hattyú</td><td>2016</td><td>157</td><td>133</td></tr>",
                            "<tr><td>8</td><td>Hotel Három Hattyú</td><td>2016</td><td>157</td><td>133</td></tr>",
                            "<tr><td>8</td><td>Hotel Három Hattyú</td><td>2016</td><td>157</td><td>134</td></tr>",
                            "<tr><td>8</td><td>Hotel Három Hattyú</td><td>2016</td><td>157</td><td>135</td></tr>",
                            "<tr><td>8</td><td>Hotel Három Hattyú</td><td>2016</td><td>157</td><td>136</td></tr>",
                            "<tr><td>8</td><td>Hotel Három Hattyú</td><td>2016</td><td>157</td><td>139</td></tr>",
                            "<tr><td>8</td><td>Hotel Három Hattyú</td><td>2016</td><td>157</td><td>139</td></tr>",
                            "<tr><td>8</td><td>Hotel Három Hattyú</td><td>2016</td><td>157</td><td>139</td></tr>",
                            "<tr><td>8</td><td>Hotel Három Hattyú</td><td>2016</td><td>157</td><td>140</td></tr>",
                            "<tr><td>8</td><td>Hotel Három Hattyú</td><td>2016</td><td>157</td><td>141</td></tr>",
                            "<tr><td>8</td><td>Hotel Három Hattyú</td><td>2016</td><td>157</td><td>142</td></tr>",
                            "<tr><td>8</td><td>Hotel Három Hattyú</td><td>2016</td><td>157</td><td>146</td></tr>",
                            "<tr><td>8</td><td>Hotel Három Hattyú</td><td>2016</td><td>157</td><td>146</td></tr>",
                            "<tr><td>8</td><td>Hotel Három Hattyú</td><td>2016</td><td>157</td><td>146</td></tr>",
                            "<tr><td>8</td><td>Hotel Három Hattyú</td><td>2016</td><td>157</td><td>146</td></tr>",
                            "<tr><td>8</td><td>Hotel Három Hattyú</td><td>2016</td><td>157</td><td>147</td></tr>",
                            "<tr><td>8</td><td>Hotel Három Hattyú</td><td>2016</td><td>157</td><td>148</td></tr>",
                            "<tr><td>8</td><td>Hotel Három Hattyú</td><td>2016</td><td>157</td><td>153</td></tr>",
                            "<tr><td>8</td><td>Hotel Három Hattyú</td><td>2016</td><td>157</td><td>153</td></tr>",
                            "<tr><td>8</td><td>Hotel Három Hattyú</td><td>2016</td><td>157</td><td>153</td></tr>",
                            "<tr><td>8</td><td>Hotel Három Hattyú</td><td>2016</td><td>157</td><td>153</td></tr>",
                            "<tr><td>8</td><td>Hotel Három Hattyú</td><td>2016</td><td>157</td><td>153</td></tr>",
                            "<tr><td>8</td><td>Hotel Három Hattyú</td><td>2016</td><td>157</td><td>154</td></tr>",
                            "<tr><td>8</td><td>Hotel Három Hattyú</td><td>2016</td><td>157</td><td>155</td></tr>",
                            "<tr><td>8</td><td>Hotel Három Hattyú</td><td>2016</td><td>157</td><td>156</td></tr>",
                            "<tr><td>8</td><td>Hotel Három Hattyú</td><td>2016</td><td>157</td><td>157</td></tr>",
                            "<tr><td>8</td><td>Hotel Három Hattyú</td><td>2017</td><td>47</td><td>1</td></tr>",
                            "<tr><td>8</td><td>Hotel Három Hattyú</td><td>2017</td><td>47</td><td>2</td></tr>",
                            "<tr><td>8</td><td>Hotel Három Hattyú</td><td>2017</td><td>47</td><td>3</td></tr>",
                            "<tr><td>8</td><td>Hotel Három Hattyú</td><td>2017</td><td>47</td><td>4</td></tr>",
                            "<tr><td>8</td><td>Hotel Három Hattyú</td><td>2017</td><td>47</td><td>5</td></tr>",
                            "<tr><td>8</td><td>Hotel Három Hattyú</td><td>2017</td><td>47</td><td>6</td></tr>",
                            "<tr><td>8</td><td>Hotel Három Hattyú</td><td>2017</td><td>47</td><td>7</td></tr>",
                            "<tr><td>8</td><td>Hotel Három Hattyú</td><td>2017</td><td>47</td><td>8</td></tr>",
                            "<tr><td>8</td><td>Hotel Három Hattyú</td><td>2017</td><td>47</td><td>9</td></tr>",
                            "<tr><td>8</td><td>Hotel Három Hattyú</td><td>2017</td><td>47</td><td>10</td></tr>",
                            "<tr><td>8</td><td>Hotel Három Hattyú</td><td>2017</td><td>47</td><td>11</td></tr>",
                            "<tr><td>8</td><td>Hotel Három Hattyú</td><td>2017</td><td>47</td><td>12</td></tr>",
                            "<tr><td>8</td><td>Hotel Három Hattyú</td><td>2017</td><td>47</td><td>14</td></tr>",
                            "<tr><td>8</td><td>Hotel Három Hattyú</td><td>2017</td><td>47</td><td>14</td></tr>",
                            "<tr><td>8</td><td>Hotel Három Hattyú</td><td>2017</td><td>47</td><td>16</td></tr>",
                            "<tr><td>8</td><td>Hotel Három Hattyú</td><td>2017</td><td>47</td><td>16</td></tr>",
                            "<tr><td>8</td><td>Hotel Három Hattyú</td><td>2017</td><td>47</td><td>17</td></tr>",
                            "<tr><td>8</td><td>Hotel Három Hattyú</td><td>2017</td><td>47</td><td>18</td></tr>",
                            "<tr><td>8</td><td>Hotel Három Hattyú</td><td>2017</td><td>47</td><td>19</td></tr>",
                            "<tr><td>8</td><td>Hotel Három Hattyú</td><td>2017</td><td>47</td><td>22</td></tr>",
                            "<tr><td>8</td><td>Hotel Három Hattyú</td><td>2017</td><td>47</td><td>22</td></tr>",
                            "<tr><td>8</td><td>Hotel Három Hattyú</td><td>2017</td><td>47</td><td>22</td></tr>",
                            "<tr><td>8</td><td>Hotel Három Hattyú</td><td>2017</td><td>47</td><td>25</td></tr>",
                            "<tr><td>8</td><td>Hotel Három Hattyú</td><td>2017</td><td>47</td><td>25</td></tr>",
                            "<tr><td>8</td><td>Hotel Három Hattyú</td><td>2017</td><td>47</td><td>25</td></tr>",
                            "<tr><td>8</td><td>Hotel Három Hattyú</td><td>2017</td><td>47</td><td>27</td></tr>",
                            "<tr><td>8</td><td>Hotel Három Hattyú</td><td>2017</td><td>47</td><td>27</td></tr>",
                            "<tr><td>8</td><td>Hotel Három Hattyú</td><td>2017</td><td>47</td><td>28</td></tr>",
                            "<tr><td>8</td><td>Hotel Három Hattyú</td><td>2017</td><td>47</td><td>31</td></tr>",
                            "<tr><td>8</td><td>Hotel Három Hattyú</td><td>2017</td><td>47</td><td>31</td></tr>",
                            "<tr><td>8</td><td>Hotel Három Hattyú</td><td>2017</td><td>47</td><td>31</td></tr>",
                            "<tr><td>8</td><td>Hotel Három Hattyú</td><td>2017</td><td>47</td><td>35</td></tr>",
                            "<tr><td>8</td><td>Hotel Három Hattyú</td><td>2017</td><td>47</td><td>35</td></tr>",
                            "<tr><td>8</td><td>Hotel Három Hattyú</td><td>2017</td><td>47</td><td>35</td></tr>",
                            "<tr><td>8</td><td>Hotel Három Hattyú</td><td>2017</td><td>47</td><td>35</td></tr>",
                            "<tr><td>8</td><td>Hotel Három Hattyú</td><td>2017</td><td>47</td><td>36</td></tr>",
                            "<tr><td>8</td><td>Hotel Három Hattyú</td><td>2017</td><td>47</td><td>38</td></tr>",
                            "<tr><td>8</td><td>Hotel Három Hattyú</td><td>2017</td><td>47</td><td>38</td></tr>",
                            "<tr><td>8</td><td>Hotel Három Hattyú</td><td>2017</td><td>47</td><td>40</td></tr>",
                            "<tr><td>8</td><td>Hotel Három Hattyú</td><td>2017</td><td>47</td><td>40</td></tr>",
                            "<tr><td>8</td><td>Hotel Három Hattyú</td><td>2017</td><td>47</td><td>42</td></tr>",
                            "<tr><td>8</td><td>Hotel Három Hattyú</td><td>2017</td><td>47</td><td>42</td></tr>",
                            "<tr><td>8</td><td>Hotel Három Hattyú</td><td>2017</td><td>47</td><td>44</td></tr>",
                            "<tr><td>8</td><td>Hotel Három Hattyú</td><td>2017</td><td>47</td><td>44</td></tr>",
                            "<tr><td>8</td><td>Hotel Három Hattyú</td><td>2017</td><td>47</td><td>45</td></tr>",
                            "<tr><td>8</td><td>Hotel Három Hattyú</td><td>2017</td><td>47</td><td>46</td></tr>",
                            "<tr><td>8</td><td>Hotel Három Hattyú</td><td>2017</td><td>47</td><td>47</td></tr>",
                            "<tr><td>9</td><td>Jáde panzió</td><td>2016</td><td>24</td><td>1</td></tr>",
                            "<tr><td>9</td><td>Jáde panzió</td><td>2016</td><td>24</td><td>2</td></tr>",
                            "<tr><td>9</td><td>Jáde panzió</td><td>2016</td><td>24</td><td>3</td></tr>",
                            "<tr><td>9</td><td>Jáde panzió</td><td>2016</td><td>24</td><td>4</td></tr>",
                            "<tr><td>9</td><td>Jáde panzió</td><td>2016</td><td>24</td><td>5</td></tr>",
                            "<tr><td>9</td><td>Jáde panzió</td><td>2016</td><td>24</td><td>6</td></tr>",
                            "<tr><td>9</td><td>Jáde panzió</td><td>2016</td><td>24</td><td>8</td></tr>",
                            "<tr><td>9</td><td>Jáde panzió</td><td>2016</td><td>24</td><td>8</td></tr>",
                            "<tr><td>9</td><td>Jáde panzió</td><td>2016</td><td>24</td><td>9</td></tr>",
                            "<tr><td>9</td><td>Jáde panzió</td><td>2016</td><td>24</td><td>10</td></tr>",
                            "<tr><td>9</td><td>Jáde panzió</td><td>2016</td><td>24</td><td>11</td></tr>",
                            "<tr><td>9</td><td>Jáde panzió</td><td>2016</td><td>24</td><td>12</td></tr>",
                            "<tr><td>9</td><td>Jáde panzió</td><td>2016</td><td>24</td><td>13</td></tr>",
                            "<tr><td>9</td><td>Jáde panzió</td><td>2016</td><td>24</td><td>14</td></tr>",
                            "<tr><td>9</td><td>Jáde panzió</td><td>2016</td><td>24</td><td>15</td></tr>",
                            "<tr><td>9</td><td>Jáde panzió</td><td>2016</td><td>24</td><td>16</td></tr>",
                            "<tr><td>9</td><td>Jáde panzió</td><td>2016</td><td>24</td><td>17</td></tr>",
                            "<tr><td>9</td><td>Jáde panzió</td><td>2016</td><td>24</td><td>18</td></tr>",
                            "<tr><td>9</td><td>Jáde panzió</td><td>2016</td><td>24</td><td>19</td></tr>",
                            "<tr><td>9</td><td>Jáde panzió</td><td>2016</td><td>24</td><td>20</td></tr>",
                            "<tr><td>9</td><td>Jáde panzió</td><td>2016</td><td>24</td><td>21</td></tr>",
                            "<tr><td>9</td><td>Jáde panzió</td><td>2016</td><td>24</td><td>23</td></tr>",
                            "<tr><td>9</td><td>Jáde panzió</td><td>2016</td><td>24</td><td>23</td></tr>",
                            "<tr><td>9</td><td>Jáde panzió</td><td>2016</td><td>24</td><td>24</td></tr>",
                            "<tr><td>9</td><td>Jáde panzió</td><td>2017</td><td>5</td><td>1</td></tr>",
                            "<tr><td>9</td><td>Jáde panzió</td><td>2017</td><td>5</td><td>2</td></tr>",
                            "<tr><td>9</td><td>Jáde panzió</td><td>2017</td><td>5</td><td>3</td></tr>",
                            "<tr><td>9</td><td>Jáde panzió</td><td>2017</td><td>5</td><td>4</td></tr>",
                            "<tr><td>9</td><td>Jáde panzió</td><td>2017</td><td>5</td><td>5</td></tr>",
                            "<tr><td>10</td><td>Lagúna Hotel</td><td>2016</td><td>103</td><td>1</td></tr>",
                            "<tr><td>10</td><td>Lagúna Hotel</td><td>2016</td><td>103</td><td>2</td></tr>",
                            "<tr><td>10</td><td>Lagúna Hotel</td><td>2016</td><td>103</td><td>3</td></tr>",
                            "<tr><td>10</td><td>Lagúna Hotel</td><td>2016</td><td>103</td><td>4</td></tr>",
                            "<tr><td>10</td><td>Lagúna Hotel</td><td>2016</td><td>103</td><td>5</td></tr>",
                            "<tr><td>10</td><td>Lagúna Hotel</td><td>2016</td><td>103</td><td>6</td></tr>",
                            "<tr><td>10</td><td>Lagúna Hotel</td><td>2016</td><td>103</td><td>7</td></tr>",
                            "<tr><td>10</td><td>Lagúna Hotel</td><td>2016</td><td>103</td><td>8</td></tr>",
                            "<tr><td>10</td><td>Lagúna Hotel</td><td>2016</td><td>103</td><td>9</td></tr>",
                            "<tr><td>10</td><td>Lagúna Hotel</td><td>2016</td><td>103</td><td>10</td></tr>",
                            "<tr><td>10</td><td>Lagúna Hotel</td><td>2016</td><td>103</td><td>11</td></tr>",
                            "<tr><td>10</td><td>Lagúna Hotel</td><td>2016</td><td>103</td><td>12</td></tr>",
                            "<tr><td>10</td><td>Lagúna Hotel</td><td>2016</td><td>103</td><td>13</td></tr>",
                            "<tr><td>10</td><td>Lagúna Hotel</td><td>2016</td><td>103</td><td>14</td></tr>",
                            "<tr><td>10</td><td>Lagúna Hotel</td><td>2016</td><td>103</td><td>15</td></tr>",
                            "<tr><td>10</td><td>Lagúna Hotel</td><td>2016</td><td>103</td><td>16</td></tr>",
                            "<tr><td>10</td><td>Lagúna Hotel</td><td>2016</td><td>103</td><td>17</td></tr>",
                            "<tr><td>10</td><td>Lagúna Hotel</td><td>2016</td><td>103</td><td>18</td></tr>",
                            "<tr><td>10</td><td>Lagúna Hotel</td><td>2016</td><td>103</td><td>20</td></tr>",
                            "<tr><td>10</td><td>Lagúna Hotel</td><td>2016</td><td>103</td><td>20</td></tr>",
                            "<tr><td>10</td><td>Lagúna Hotel</td><td>2016</td><td>103</td><td>21</td></tr>",
                            "<tr><td>10</td><td>Lagúna Hotel</td><td>2016</td><td>103</td><td>22</td></tr>",
                            "<tr><td>10</td><td>Lagúna Hotel</td><td>2016</td><td>103</td><td>23</td></tr>",
                            "<tr><td>10</td><td>Lagúna Hotel</td><td>2016</td><td>103</td><td>24</td></tr>",
                            "<tr><td>10</td><td>Lagúna Hotel</td><td>2016</td><td>103</td><td>25</td></tr>",
                            "<tr><td>10</td><td>Lagúna Hotel</td><td>2016</td><td>103</td><td>26</td></tr>",
                            "<tr><td>10</td><td>Lagúna Hotel</td><td>2016</td><td>103</td><td>27</td></tr>",
                            "<tr><td>10</td><td>Lagúna Hotel</td><td>2016</td><td>103</td><td>28</td></tr>",
                            "<tr><td>10</td><td>Lagúna Hotel</td><td>2016</td><td>103</td><td>29</td></tr>",
                            "<tr><td>10</td><td>Lagúna Hotel</td><td>2016</td><td>103</td><td>30</td></tr>",
                            "<tr><td>10</td><td>Lagúna Hotel</td><td>2016</td><td>103</td><td>31</td></tr>",
                            "<tr><td>10</td><td>Lagúna Hotel</td><td>2016</td><td>103</td><td>32</td></tr>",
                            "<tr><td>10</td><td>Lagúna Hotel</td><td>2016</td><td>103</td><td>34</td></tr>",
                            "<tr><td>10</td><td>Lagúna Hotel</td><td>2016</td><td>103</td><td>34</td></tr>",
                            "<tr><td>10</td><td>Lagúna Hotel</td><td>2016</td><td>103</td><td>35</td></tr>",
                            "<tr><td>10</td><td>Lagúna Hotel</td><td>2016</td><td>103</td><td>36</td></tr>",
                            "<tr><td>10</td><td>Lagúna Hotel</td><td>2016</td><td>103</td><td>37</td></tr>",
                            "<tr><td>10</td><td>Lagúna Hotel</td><td>2016</td><td>103</td><td>38</td></tr>",
                            "<tr><td>10</td><td>Lagúna Hotel</td><td>2016</td><td>103</td><td>40</td></tr>",
                            "<tr><td>10</td><td>Lagúna Hotel</td><td>2016</td><td>103</td><td>40</td></tr>",
                            "<tr><td>10</td><td>Lagúna Hotel</td><td>2016</td><td>103</td><td>43</td></tr>",
                            "<tr><td>10</td><td>Lagúna Hotel</td><td>2016</td><td>103</td><td>43</td></tr>",
                            "<tr><td>10</td><td>Lagúna Hotel</td><td>2016</td><td>103</td><td>43</td></tr>",
                            "<tr><td>10</td><td>Lagúna Hotel</td><td>2016</td><td>103</td><td>44</td></tr>",
                            "<tr><td>10</td><td>Lagúna Hotel</td><td>2016</td><td>103</td><td>45</td></tr>",
                            "<tr><td>10</td><td>Lagúna Hotel</td><td>2016</td><td>103</td><td>47</td></tr>",
                            "<tr><td>10</td><td>Lagúna Hotel</td><td>2016</td><td>103</td><td>47</td></tr>",
                            "<tr><td>10</td><td>Lagúna Hotel</td><td>2016</td><td>103</td><td>48</td></tr>",
                            "<tr><td>10</td><td>Lagúna Hotel</td><td>2016</td><td>103</td><td>49</td></tr>",
                            "<tr><td>10</td><td>Lagúna Hotel</td><td>2016</td><td>103</td><td>50</td></tr>",
                            "<tr><td>10</td><td>Lagúna Hotel</td><td>2016</td><td>103</td><td>51</td></tr>",
                            "<tr><td>10</td><td>Lagúna Hotel</td><td>2016</td><td>103</td><td>52</td></tr>",
                            "<tr><td>10</td><td>Lagúna Hotel</td><td>2016</td><td>103</td><td>54</td></tr>",
                            "<tr><td>10</td><td>Lagúna Hotel</td><td>2016</td><td>103</td><td>54</td></tr>",
                            "<tr><td>10</td><td>Lagúna Hotel</td><td>2016</td><td>103</td><td>55</td></tr>",
                            "<tr><td>10</td><td>Lagúna Hotel</td><td>2016</td><td>103</td><td>56</td></tr>",
                            "<tr><td>10</td><td>Lagúna Hotel</td><td>2016</td><td>103</td><td>57</td></tr>",
                            "<tr><td>10</td><td>Lagúna Hotel</td><td>2016</td><td>103</td><td>58</td></tr>",
                            "<tr><td>10</td><td>Lagúna Hotel</td><td>2016</td><td>103</td><td>59</td></tr>",
                            "<tr><td>10</td><td>Lagúna Hotel</td><td>2016</td><td>103</td><td>60</td></tr>",
                            "<tr><td>10</td><td>Lagúna Hotel</td><td>2016</td><td>103</td><td>61</td></tr>",
                            "<tr><td>10</td><td>Lagúna Hotel</td><td>2016</td><td>103</td><td>62</td></tr>",
                            "<tr><td>10</td><td>Lagúna Hotel</td><td>2016</td><td>103</td><td>66</td></tr>",
                            "<tr><td>10</td><td>Lagúna Hotel</td><td>2016</td><td>103</td><td>66</td></tr>",
                            "<tr><td>10</td><td>Lagúna Hotel</td><td>2016</td><td>103</td><td>66</td></tr>",
                            "<tr><td>10</td><td>Lagúna Hotel</td><td>2016</td><td>103</td><td>66</td></tr>",
                            "<tr><td>10</td><td>Lagúna Hotel</td><td>2016</td><td>103</td><td>67</td></tr>",
                            "<tr><td>10</td><td>Lagúna Hotel</td><td>2016</td><td>103</td><td>68</td></tr>",
                            "<tr><td>10</td><td>Lagúna Hotel</td><td>2016</td><td>103</td><td>69</td></tr>",
                            "<tr><td>10</td><td>Lagúna Hotel</td><td>2016</td><td>103</td><td>70</td></tr>",
                            "<tr><td>10</td><td>Lagúna Hotel</td><td>2016</td><td>103</td><td>71</td></tr>",
                            "<tr><td>10</td><td>Lagúna Hotel</td><td>2016</td><td>103</td><td>73</td></tr>",
                            "<tr><td>10</td><td>Lagúna Hotel</td><td>2016</td><td>103</td><td>73</td></tr>",
                            "<tr><td>10</td><td>Lagúna Hotel</td><td>2016</td><td>103</td><td>74</td></tr>",
                            "<tr><td>10</td><td>Lagúna Hotel</td><td>2016</td><td>103</td><td>75</td></tr>",
                            "<tr><td>10</td><td>Lagúna Hotel</td><td>2016</td><td>103</td><td>76</td></tr>",
                            "<tr><td>10</td><td>Lagúna Hotel</td><td>2016</td><td>103</td><td>81</td></tr>",
                            "<tr><td>10</td><td>Lagúna Hotel</td><td>2016</td><td>103</td><td>81</td></tr>",
                            "<tr><td>10</td><td>Lagúna Hotel</td><td>2016</td><td>103</td><td>81</td></tr>",
                            "<tr><td>10</td><td>Lagúna Hotel</td><td>2016</td><td>103</td><td>81</td></tr>",
                            "<tr><td>10</td><td>Lagúna Hotel</td><td>2016</td><td>103</td><td>81</td></tr>",
                            "<tr><td>10</td><td>Lagúna Hotel</td><td>2016</td><td>103</td><td>82</td></tr>",
                            "<tr><td>10</td><td>Lagúna Hotel</td><td>2016</td><td>103</td><td>83</td></tr>",
                            "<tr><td>10</td><td>Lagúna Hotel</td><td>2016</td><td>103</td><td>85</td></tr>",
                            "<tr><td>10</td><td>Lagúna Hotel</td><td>2016</td><td>103</td><td>85</td></tr>",
                            "<tr><td>10</td><td>Lagúna Hotel</td><td>2016</td><td>103</td><td>87</td></tr>",
                            "<tr><td>10</td><td>Lagúna Hotel</td><td>2016</td><td>103</td><td>87</td></tr>",
                            "<tr><td>10</td><td>Lagúna Hotel</td><td>2016</td><td>103</td><td>88</td></tr>",
                            "<tr><td>10</td><td>Lagúna Hotel</td><td>2016</td><td>103</td><td>89</td></tr>",
                            "<tr><td>10</td><td>Lagúna Hotel</td><td>2016</td><td>103</td><td>90</td></tr>",
                            "<tr><td>10</td><td>Lagúna Hotel</td><td>2016</td><td>103</td><td>92</td></tr>",
                            "<tr><td>10</td><td>Lagúna Hotel</td><td>2016</td><td>103</td><td>92</td></tr>",
                            "<tr><td>10</td><td>Lagúna Hotel</td><td>2016</td><td>103</td><td>94</td></tr>",
                            "<tr><td>10</td><td>Lagúna Hotel</td><td>2016</td><td>103</td><td>94</td></tr>",
                            "<tr><td>10</td><td>Lagúna Hotel</td><td>2016</td><td>103</td><td>95</td></tr>",
                            "<tr><td>10</td><td>Lagúna Hotel</td><td>2016</td><td>103</td><td>96</td></tr>",
                            "<tr><td>10</td><td>Lagúna Hotel</td><td>2016</td><td>103</td><td>97</td></tr>",
                            "<tr><td>10</td><td>Lagúna Hotel</td><td>2016</td><td>103</td><td>98</td></tr>",
                            "<tr><td>10</td><td>Lagúna Hotel</td><td>2016</td><td>103</td><td>101</td></tr>",
                            "<tr><td>10</td><td>Lagúna Hotel</td><td>2016</td><td>103</td><td>101</td></tr>",
                            "<tr><td>10</td><td>Lagúna Hotel</td><td>2016</td><td>103</td><td>101</td></tr>",
                            "<tr><td>10</td><td>Lagúna Hotel</td><td>2016</td><td>103</td><td>102</td></tr>",
                            "<tr><td>10</td><td>Lagúna Hotel</td><td>2016</td><td>103</td><td>103</td></tr>",
                            "<tr><td>10</td><td>Lagúna Hotel</td><td>2017</td><td>20</td><td>1</td></tr>",
                            "<tr><td>10</td><td>Lagúna Hotel</td><td>2017</td><td>20</td><td>2</td></tr>",
                            "<tr><td>10</td><td>Lagúna Hotel</td><td>2017</td><td>20</td><td>3</td></tr>",
                            "<tr><td>10</td><td>Lagúna Hotel</td><td>2017</td><td>20</td><td>4</td></tr>",
                            "<tr><td>10</td><td>Lagúna Hotel</td><td>2017</td><td>20</td><td>5</td></tr>",
                            "<tr><td>10</td><td>Lagúna Hotel</td><td>2017</td><td>20</td><td>6</td></tr>",
                            "<tr><td>10</td><td>Lagúna Hotel</td><td>2017</td><td>20</td><td>8</td></tr>",
                            "<tr><td>10</td><td>Lagúna Hotel</td><td>2017</td><td>20</td><td>8</td></tr>",
                            "<tr><td>10</td><td>Lagúna Hotel</td><td>2017</td><td>20</td><td>9</td></tr>",
                            "<tr><td>10</td><td>Lagúna Hotel</td><td>2017</td><td>20</td><td>10</td></tr>",
                            "<tr><td>10</td><td>Lagúna Hotel</td><td>2017</td><td>20</td><td>11</td></tr>",
                            "<tr><td>10</td><td>Lagúna Hotel</td><td>2017</td><td>20</td><td>12</td></tr>",
                            "<tr><td>10</td><td>Lagúna Hotel</td><td>2017</td><td>20</td><td>14</td></tr>",
                            "<tr><td>10</td><td>Lagúna Hotel</td><td>2017</td><td>20</td><td>14</td></tr>",
                            "<tr><td>10</td><td>Lagúna Hotel</td><td>2017</td><td>20</td><td>15</td></tr>",
                            "<tr><td>10</td><td>Lagúna Hotel</td><td>2017</td><td>20</td><td>16</td></tr>",
                            "<tr><td>10</td><td>Lagúna Hotel</td><td>2017</td><td>20</td><td>17</td></tr>",
                            "<tr><td>10</td><td>Lagúna Hotel</td><td>2017</td><td>20</td><td>18</td></tr>",
                            "<tr><td>10</td><td>Lagúna Hotel</td><td>2017</td><td>20</td><td>19</td></tr>",
                            "<tr><td>10</td><td>Lagúna Hotel</td><td>2017</td><td>20</td><td>20</td></tr>",
                            "<tr><td>11</td><td>Partiszél Vendégház</td><td>2016</td><td>23</td><td>1</td></tr>",
                            "<tr><td>11</td><td>Partiszél Vendégház</td><td>2016</td><td>23</td><td>2</td></tr>",
                            "<tr><td>11</td><td>Partiszél Vendégház</td><td>2016</td><td>23</td><td>3</td></tr>",
                            "<tr><td>11</td><td>Partiszél Vendégház</td><td>2016</td><td>23</td><td>4</td></tr>",
                            "<tr><td>11</td><td>Partiszél Vendégház</td><td>2016</td><td>23</td><td>5</td></tr>",
                            "<tr><td>11</td><td>Partiszél Vendégház</td><td>2016</td><td>23</td><td>7</td></tr>",
                            "<tr><td>11</td><td>Partiszél Vendégház</td><td>2016</td><td>23</td><td>7</td></tr>",
                            "<tr><td>11</td><td>Partiszél Vendégház</td><td>2016</td><td>23</td><td>9</td></tr>",
                            "<tr><td>11</td><td>Partiszél Vendégház</td><td>2016</td><td>23</td><td>9</td></tr>",
                            "<tr><td>11</td><td>Partiszél Vendégház</td><td>2016</td><td>23</td><td>10</td></tr>",
                            "<tr><td>11</td><td>Partiszél Vendégház</td><td>2016</td><td>23</td><td>11</td></tr>",
                            "<tr><td>11</td><td>Partiszél Vendégház</td><td>2016</td><td>23</td><td>12</td></tr>",
                            "<tr><td>11</td><td>Partiszél Vendégház</td><td>2016</td><td>23</td><td>13</td></tr>",
                            "<tr><td>11</td><td>Partiszél Vendégház</td><td>2016</td><td>23</td><td>14</td></tr>",
                            "<tr><td>11</td><td>Partiszél Vendégház</td><td>2016</td><td>23</td><td>15</td></tr>",
                            "<tr><td>11</td><td>Partiszél Vendégház</td><td>2016</td><td>23</td><td>16</td></tr>",
                            "<tr><td>11</td><td>Partiszél Vendégház</td><td>2016</td><td>23</td><td>17</td></tr>",
                            "<tr><td>11</td><td>Partiszél Vendégház</td><td>2016</td><td>23</td><td>18</td></tr>",
                            "<tr><td>11</td><td>Partiszél Vendégház</td><td>2016</td><td>23</td><td>19</td></tr>",
                            "<tr><td>11</td><td>Partiszél Vendégház</td><td>2016</td><td>23</td><td>20</td></tr>",
                            "<tr><td>11</td><td>Partiszél Vendégház</td><td>2016</td><td>23</td><td>21</td></tr>",
                            "<tr><td>11</td><td>Partiszél Vendégház</td><td>2016</td><td>23</td><td>22</td></tr>",
                            "<tr><td>11</td><td>Partiszél Vendégház</td><td>2016</td><td>23</td><td>23</td></tr>",
                            "<tr><td>11</td><td>Partiszél Vendégház</td><td>2017</td><td>3</td><td>1</td></tr>",
                            "<tr><td>11</td><td>Partiszél Vendégház</td><td>2017</td><td>3</td><td>2</td></tr>",
                            "<tr><td>11</td><td>Partiszél Vendégház</td><td>2017</td><td>3</td><td>3</td></tr>",
                            "<tr><td>12</td><td>Gold Hotel</td><td>2016</td><td>152</td><td>4</td></tr>",
                            "<tr><td>12</td><td>Gold Hotel</td><td>2016</td><td>152</td><td>4</td></tr>",
                            "<tr><td>12</td><td>Gold Hotel</td><td>2016</td><td>152</td><td>4</td></tr>",
                            "<tr><td>12</td><td>Gold Hotel</td><td>2016</td><td>152</td><td>4</td></tr>",
                            "<tr><td>12</td><td>Gold Hotel</td><td>2016</td><td>152</td><td>5</td></tr>",
                            "<tr><td>12</td><td>Gold Hotel</td><td>2016</td><td>152</td><td>6</td></tr>",
                            "<tr><td>12</td><td>Gold Hotel</td><td>2016</td><td>152</td><td>7</td></tr>",
                            "<tr><td>12</td><td>Gold Hotel</td><td>2016</td><td>152</td><td>8</td></tr>",
                            "<tr><td>12</td><td>Gold Hotel</td><td>2016</td><td>152</td><td>9</td></tr>",
                            "<tr><td>12</td><td>Gold Hotel</td><td>2016</td><td>152</td><td>11</td></tr>",
                            "<tr><td>12</td><td>Gold Hotel</td><td>2016</td><td>152</td><td>11</td></tr>",
                            "<tr><td>12</td><td>Gold Hotel</td><td>2016</td><td>152</td><td>12</td></tr>",
                            "<tr><td>12</td><td>Gold Hotel</td><td>2016</td><td>152</td><td>13</td></tr>",
                            "<tr><td>12</td><td>Gold Hotel</td><td>2016</td><td>152</td><td>15</td></tr>",
                            "<tr><td>12</td><td>Gold Hotel</td><td>2016</td><td>152</td><td>15</td></tr>",
                            "<tr><td>12</td><td>Gold Hotel</td><td>2016</td><td>152</td><td>16</td></tr>",
                            "<tr><td>12</td><td>Gold Hotel</td><td>2016</td><td>152</td><td>17</td></tr>",
                            "<tr><td>12</td><td>Gold Hotel</td><td>2016</td><td>152</td><td>20</td></tr>",
                            "<tr><td>12</td><td>Gold Hotel</td><td>2016</td><td>152</td><td>20</td></tr>",
                            "<tr><td>12</td><td>Gold Hotel</td><td>2016</td><td>152</td><td>20</td></tr>",
                            "<tr><td>12</td><td>Gold Hotel</td><td>2016</td><td>152</td><td>21</td></tr>",
                            "<tr><td>12</td><td>Gold Hotel</td><td>2016</td><td>152</td><td>25</td></tr>",
                            "<tr><td>12</td><td>Gold Hotel</td><td>2016</td><td>152</td><td>25</td></tr>",
                            "<tr><td>12</td><td>Gold Hotel</td><td>2016</td><td>152</td><td>25</td></tr>",
                            "<tr><td>12</td><td>Gold Hotel</td><td>2016</td><td>152</td><td>25</td></tr>",
                            "<tr><td>12</td><td>Gold Hotel</td><td>2016</td><td>152</td><td>27</td></tr>",
                            "<tr><td>12</td><td>Gold Hotel</td><td>2016</td><td>152</td><td>27</td></tr>",
                            "<tr><td>12</td><td>Gold Hotel</td><td>2016</td><td>152</td><td>30</td></tr>",
                            "<tr><td>12</td><td>Gold Hotel</td><td>2016</td><td>152</td><td>30</td></tr>",
                            "<tr><td>12</td><td>Gold Hotel</td><td>2016</td><td>152</td><td>30</td></tr>",
                            "<tr><td>12</td><td>Gold Hotel</td><td>2016</td><td>152</td><td>34</td></tr>",
                            "<tr><td>12</td><td>Gold Hotel</td><td>2016</td><td>152</td><td>34</td></tr>",
                            "<tr><td>12</td><td>Gold Hotel</td><td>2016</td><td>152</td><td>34</td></tr>",
                            "<tr><td>12</td><td>Gold Hotel</td><td>2016</td><td>152</td><td>34</td></tr>",
                            "<tr><td>12</td><td>Gold Hotel</td><td>2016</td><td>152</td><td>35</td></tr>",
                            "<tr><td>12</td><td>Gold Hotel</td><td>2016</td><td>152</td><td>36</td></tr>",
                            "<tr><td>12</td><td>Gold Hotel</td><td>2016</td><td>152</td><td>37</td></tr>",
                            "<tr><td>12</td><td>Gold Hotel</td><td>2016</td><td>152</td><td>38</td></tr>",
                            "<tr><td>12</td><td>Gold Hotel</td><td>2016</td><td>152</td><td>40</td></tr>",
                            "<tr><td>12</td><td>Gold Hotel</td><td>2016</td><td>152</td><td>40</td></tr>",
                            "<tr><td>12</td><td>Gold Hotel</td><td>2016</td><td>152</td><td>41</td></tr>",
                            "<tr><td>12</td><td>Gold Hotel</td><td>2016</td><td>152</td><td>43</td></tr>",
                            "<tr><td>12</td><td>Gold Hotel</td><td>2016</td><td>152</td><td>43</td></tr>",
                            "<tr><td>12</td><td>Gold Hotel</td><td>2016</td><td>152</td><td>44</td></tr>",
                            "<tr><td>12</td><td>Gold Hotel</td><td>2016</td><td>152</td><td>45</td></tr>",
                            "<tr><td>12</td><td>Gold Hotel</td><td>2016</td><td>152</td><td>46</td></tr>",
                            "<tr><td>12</td><td>Gold Hotel</td><td>2016</td><td>152</td><td>47</td></tr>",
                            "<tr><td>12</td><td>Gold Hotel</td><td>2016</td><td>152</td><td>48</td></tr>",
                            "<tr><td>12</td><td>Gold Hotel</td><td>2016</td><td>152</td><td>50</td></tr>",
                            "<tr><td>12</td><td>Gold Hotel</td><td>2016</td><td>152</td><td>50</td></tr>",
                            "<tr><td>12</td><td>Gold Hotel</td><td>2016</td><td>152</td><td>51</td></tr>",
                            "<tr><td>12</td><td>Gold Hotel</td><td>2016</td><td>152</td><td>52</td></tr>",
                            "<tr><td>12</td><td>Gold Hotel</td><td>2016</td><td>152</td><td>53</td></tr>",
                            "<tr><td>12</td><td>Gold Hotel</td><td>2016</td><td>152</td><td>54</td></tr>",
                            "<tr><td>12</td><td>Gold Hotel</td><td>2016</td><td>152</td><td>57</td></tr>",
                            "<tr><td>12</td><td>Gold Hotel</td><td>2016</td><td>152</td><td>57</td></tr>",
                            "<tr><td>12</td><td>Gold Hotel</td><td>2016</td><td>152</td><td>57</td></tr>",
                            "<tr><td>12</td><td>Gold Hotel</td><td>2016</td><td>152</td><td>58</td></tr>",
                            "<tr><td>12</td><td>Gold Hotel</td><td>2016</td><td>152</td><td>59</td></tr>",
                            "<tr><td>12</td><td>Gold Hotel</td><td>2016</td><td>152</td><td>61</td></tr>",
                            "<tr><td>12</td><td>Gold Hotel</td><td>2016</td><td>152</td><td>61</td></tr>",
                            "<tr><td>12</td><td>Gold Hotel</td><td>2016</td><td>152</td><td>63</td></tr>",
                            "<tr><td>12</td><td>Gold Hotel</td><td>2016</td><td>152</td><td>63</td></tr>",
                            "<tr><td>12</td><td>Gold Hotel</td><td>2016</td><td>152</td><td>64</td></tr>",
                            "<tr><td>12</td><td>Gold Hotel</td><td>2016</td><td>152</td><td>67</td></tr>",
                            "<tr><td>12</td><td>Gold Hotel</td><td>2016</td><td>152</td><td>67</td></tr>",
                            "<tr><td>12</td><td>Gold Hotel</td><td>2016</td><td>152</td><td>67</td></tr>",
                            "<tr><td>12</td><td>Gold Hotel</td><td>2016</td><td>152</td><td>70</td></tr>",
                            "<tr><td>12</td><td>Gold Hotel</td><td>2016</td><td>152</td><td>70</td></tr>",
                            "<tr><td>12</td><td>Gold Hotel</td><td>2016</td><td>152</td><td>70</td></tr>",
                            "<tr><td>12</td><td>Gold Hotel</td><td>2016</td><td>152</td><td>71</td></tr>",
                            "<tr><td>12</td><td>Gold Hotel</td><td>2016</td><td>152</td><td>72</td></tr>",
                            "<tr><td>12</td><td>Gold Hotel</td><td>2016</td><td>152</td><td>73</td></tr>",
                            "<tr><td>12</td><td>Gold Hotel</td><td>2016</td><td>152</td><td>74</td></tr>",
                            "<tr><td>12</td><td>Gold Hotel</td><td>2016</td><td>152</td><td>76</td></tr>",
                            "<tr><td>12</td><td>Gold Hotel</td><td>2016</td><td>152</td><td>76</td></tr>",
                            "<tr><td>12</td><td>Gold Hotel</td><td>2016</td><td>152</td><td>77</td></tr>",
                            "<tr><td>12</td><td>Gold Hotel</td><td>2016</td><td>152</td><td>78</td></tr>",
                            "<tr><td>12</td><td>Gold Hotel</td><td>2016</td><td>152</td><td>79</td></tr>",
                            "<tr><td>12</td><td>Gold Hotel</td><td>2016</td><td>152</td><td>80</td></tr>",
                            "<tr><td>12</td><td>Gold Hotel</td><td>2016</td><td>152</td><td>81</td></tr>",
                            "<tr><td>12</td><td>Gold Hotel</td><td>2016</td><td>152</td><td>84</td></tr>",
                            "<tr><td>12</td><td>Gold Hotel</td><td>2016</td><td>152</td><td>84</td></tr>",
                            "<tr><td>12</td><td>Gold Hotel</td><td>2016</td><td>152</td><td>84</td></tr>",
                            "<tr><td>12</td><td>Gold Hotel</td><td>2016</td><td>152</td><td>85</td></tr>",
                            "<tr><td>12</td><td>Gold Hotel</td><td>2016</td><td>152</td><td>86</td></tr>",
                            "<tr><td>12</td><td>Gold Hotel</td><td>2016</td><td>152</td><td>87</td></tr>",
                            "<tr><td>12</td><td>Gold Hotel</td><td>2016</td><td>152</td><td>88</td></tr>",
                            "<tr><td>12</td><td>Gold Hotel</td><td>2016</td><td>152</td><td>90</td></tr>",
                            "<tr><td>12</td><td>Gold Hotel</td><td>2016</td><td>152</td><td>90</td></tr>",
                            "<tr><td>12</td><td>Gold Hotel</td><td>2016</td><td>152</td><td>91</td></tr>",
                            "<tr><td>12</td><td>Gold Hotel</td><td>2016</td><td>152</td><td>92</td></tr>",
                            "<tr><td>12</td><td>Gold Hotel</td><td>2016</td><td>152</td><td>93</td></tr>",
                            "<tr><td>12</td><td>Gold Hotel</td><td>2016</td><td>152</td><td>94</td></tr>",
                            "<tr><td>12</td><td>Gold Hotel</td><td>2016</td><td>152</td><td>95</td></tr>",
                            "<tr><td>12</td><td>Gold Hotel</td><td>2016</td><td>152</td><td>96</td></tr>",
                            "<tr><td>12</td><td>Gold Hotel</td><td>2016</td><td>152</td><td>97</td></tr>",
                            "<tr><td>12</td><td>Gold Hotel</td><td>2016</td><td>152</td><td>100</td></tr>",
                            "<tr><td>12</td><td>Gold Hotel</td><td>2016</td><td>152</td><td>100</td></tr>",
                            "<tr><td>12</td><td>Gold Hotel</td><td>2016</td><td>152</td><td>100</td></tr>",
                            "<tr><td>12</td><td>Gold Hotel</td><td>2016</td><td>152</td><td>101</td></tr>",
                            "<tr><td>12</td><td>Gold Hotel</td><td>2016</td><td>152</td><td>102</td></tr>",
                            "<tr><td>12</td><td>Gold Hotel</td><td>2016</td><td>152</td><td>103</td></tr>",
                            "<tr><td>12</td><td>Gold Hotel</td><td>2016</td><td>152</td><td>107</td></tr>",
                            "<tr><td>12</td><td>Gold Hotel</td><td>2016</td><td>152</td><td>107</td></tr>",
                            "<tr><td>12</td><td>Gold Hotel</td><td>2016</td><td>152</td><td>107</td></tr>",
                            "<tr><td>12</td><td>Gold Hotel</td><td>2016</td><td>152</td><td>107</td></tr>",
                            "<tr><td>12</td><td>Gold Hotel</td><td>2016</td><td>152</td><td>108</td></tr>",
                            "<tr><td>12</td><td>Gold Hotel</td><td>2016</td><td>152</td><td>109</td></tr>",
                            "<tr><td>12</td><td>Gold Hotel</td><td>2016</td><td>152</td><td>110</td></tr>",
                            "<tr><td>12</td><td>Gold Hotel</td><td>2016</td><td>152</td><td>112</td></tr>",
                            "<tr><td>12</td><td>Gold Hotel</td><td>2016</td><td>152</td><td>112</td></tr>",
                            "<tr><td>12</td><td>Gold Hotel</td><td>2016</td><td>152</td><td>113</td></tr>",
                            "<tr><td>12</td><td>Gold Hotel</td><td>2016</td><td>152</td><td>116</td></tr>",
                            "<tr><td>12</td><td>Gold Hotel</td><td>2016</td><td>152</td><td>116</td></tr>",
                            "<tr><td>12</td><td>Gold Hotel</td><td>2016</td><td>152</td><td>116</td></tr>",
                            "<tr><td>12</td><td>Gold Hotel</td><td>2016</td><td>152</td><td>117</td></tr>",
                            "<tr><td>12</td><td>Gold Hotel</td><td>2016</td><td>152</td><td>118</td></tr>",
                            "<tr><td>12</td><td>Gold Hotel</td><td>2016</td><td>152</td><td>119</td></tr>",
                            "<tr><td>12</td><td>Gold Hotel</td><td>2016</td><td>152</td><td>120</td></tr>",
                            "<tr><td>12</td><td>Gold Hotel</td><td>2016</td><td>152</td><td>121</td></tr>",
                            "<tr><td>12</td><td>Gold Hotel</td><td>2016</td><td>152</td><td>123</td></tr>",
                            "<tr><td>12</td><td>Gold Hotel</td><td>2016</td><td>152</td><td>123</td></tr>",
                            "<tr><td>12</td><td>Gold Hotel</td><td>2016</td><td>152</td><td>125</td></tr>",
                            "<tr><td>12</td><td>Gold Hotel</td><td>2016</td><td>152</td><td>125</td></tr>",
                            "<tr><td>12</td><td>Gold Hotel</td><td>2016</td><td>152</td><td>128</td></tr>",
                            "<tr><td>12</td><td>Gold Hotel</td><td>2016</td><td>152</td><td>128</td></tr>",
                            "<tr><td>12</td><td>Gold Hotel</td><td>2016</td><td>152</td><td>128</td></tr>",
                            "<tr><td>12</td><td>Gold Hotel</td><td>2016</td><td>152</td><td>129</td></tr>",
                            "<tr><td>12</td><td>Gold Hotel</td><td>2016</td><td>152</td><td>130</td></tr>",
                            "<tr><td>12</td><td>Gold Hotel</td><td>2016</td><td>152</td><td>131</td></tr>",
                            "<tr><td>12</td><td>Gold Hotel</td><td>2016</td><td>152</td><td>132</td></tr>",
                            "<tr><td>12</td><td>Gold Hotel</td><td>2016</td><td>152</td><td>134</td></tr>",
                            "<tr><td>12</td><td>Gold Hotel</td><td>2016</td><td>152</td><td>134</td></tr>",
                            "<tr><td>12</td><td>Gold Hotel</td><td>2016</td><td>152</td><td>136</td></tr>",
                            "<tr><td>12</td><td>Gold Hotel</td><td>2016</td><td>152</td><td>136</td></tr>",
                            "<tr><td>12</td><td>Gold Hotel</td><td>2016</td><td>152</td><td>137</td></tr>",
                            "<tr><td>12</td><td>Gold Hotel</td><td>2016</td><td>152</td><td>138</td></tr>",
                            "<tr><td>12</td><td>Gold Hotel</td><td>2016</td><td>152</td><td>139</td></tr>",
                            "<tr><td>12</td><td>Gold Hotel</td><td>2016</td><td>152</td><td>140</td></tr>",
                            "<tr><td>12</td><td>Gold Hotel</td><td>2016</td><td>152</td><td>141</td></tr>",
                            "<tr><td>12</td><td>Gold Hotel</td><td>2016</td><td>152</td><td>143</td></tr>",
                            "<tr><td>12</td><td>Gold Hotel</td><td>2016</td><td>152</td><td>143</td></tr>",
                            "<tr><td>12</td><td>Gold Hotel</td><td>2016</td><td>152</td><td>144</td></tr>",
                            "<tr><td>12</td><td>Gold Hotel</td><td>2016</td><td>152</td><td>145</td></tr>",
                            "<tr><td>12</td><td>Gold Hotel</td><td>2016</td><td>152</td><td>146</td></tr>",
                            "<tr><td>12</td><td>Gold Hotel</td><td>2016</td><td>152</td><td>147</td></tr>",
                            "<tr><td>12</td><td>Gold Hotel</td><td>2016</td><td>152</td><td>148</td></tr>",
                            "<tr><td>12</td><td>Gold Hotel</td><td>2016</td><td>152</td><td>149</td></tr>",
                            "<tr><td>12</td><td>Gold Hotel</td><td>2016</td><td>152</td><td>150</td></tr>",
                            "<tr><td>12</td><td>Gold Hotel</td><td>2016</td><td>152</td><td>151</td></tr>",
                            "<tr><td>12</td><td>Gold Hotel</td><td>2016</td><td>152</td><td>152</td></tr>",
                            "<tr><td>12</td><td>Gold Hotel</td><td>2017</td><td>27</td><td>1</td></tr>",
                            "<tr><td>12</td><td>Gold Hotel</td><td>2017</td><td>27</td><td>2</td></tr>",
                            "<tr><td>12</td><td>Gold Hotel</td><td>2017</td><td>27</td><td>4</td></tr>",
                            "<tr><td>12</td><td>Gold Hotel</td><td>2017</td><td>27</td><td>4</td></tr>",
                            "<tr><td>12</td><td>Gold Hotel</td><td>2017</td><td>27</td><td>5</td></tr>",
                            "<tr><td>12</td><td>Gold Hotel</td><td>2017</td><td>27</td><td>7</td></tr>",
                            "<tr><td>12</td><td>Gold Hotel</td><td>2017</td><td>27</td><td>7</td></tr>",
                            "<tr><td>12</td><td>Gold Hotel</td><td>2017</td><td>27</td><td>8</td></tr>",
                            "<tr><td>12</td><td>Gold Hotel</td><td>2017</td><td>27</td><td>9</td></tr>",
                            "<tr><td>12</td><td>Gold Hotel</td><td>2017</td><td>27</td><td>10</td></tr>",
                            "<tr><td>12</td><td>Gold Hotel</td><td>2017</td><td>27</td><td>12</td></tr>",
                            "<tr><td>12</td><td>Gold Hotel</td><td>2017</td><td>27</td><td>12</td></tr>",
                            "<tr><td>12</td><td>Gold Hotel</td><td>2017</td><td>27</td><td>13</td></tr>",
                            "<tr><td>12</td><td>Gold Hotel</td><td>2017</td><td>27</td><td>14</td></tr>",
                            "<tr><td>12</td><td>Gold Hotel</td><td>2017</td><td>27</td><td>15</td></tr>",
                            "<tr><td>12</td><td>Gold Hotel</td><td>2017</td><td>27</td><td>16</td></tr>",
                            "<tr><td>12</td><td>Gold Hotel</td><td>2017</td><td>27</td><td>18</td></tr>",
                            "<tr><td>12</td><td>Gold Hotel</td><td>2017</td><td>27</td><td>18</td></tr>",
                            "<tr><td>12</td><td>Gold Hotel</td><td>2017</td><td>27</td><td>20</td></tr>",
                            "<tr><td>12</td><td>Gold Hotel</td><td>2017</td><td>27</td><td>20</td></tr>",
                            "<tr><td>12</td><td>Gold Hotel</td><td>2017</td><td>27</td><td>21</td></tr>",
                            "<tr><td>12</td><td>Gold Hotel</td><td>2017</td><td>27</td><td>22</td></tr>",
                            "<tr><td>12</td><td>Gold Hotel</td><td>2017</td><td>27</td><td>23</td></tr>",
                            "<tr><td>12</td><td>Gold Hotel</td><td>2017</td><td>27</td><td>24</td></tr>",
                            "<tr><td>12</td><td>Gold Hotel</td><td>2017</td><td>27</td><td>26</td></tr>",
                            "<tr><td>12</td><td>Gold Hotel</td><td>2017</td><td>27</td><td>26</td></tr>",
                            "<tr><td>12</td><td>Gold Hotel</td><td>2017</td><td>27</td><td>27</td></tr>",
                            "</table>"
                        ]
                    }
                }
            ],
            "execution_count": 4
        },
        {
            "cell_type": "markdown",
            "source": [
                "```\n",
                "3. Készítsük listát, amely megjeleníti az ügyfelek azonosítóját, nevét és a foglalásainak kezdő- és befejező dátumát, valamint azt, hogy a foglalás összesen hány főre történt! \n",
                "```\n",
                "\n",
                "a. Egy új oszlopban jelenítsük meg azt is, hogy az ügyfél előző három foglalása összesen hány főre történt!\n",
                "\n",
                "![](https://moodle.uni-corvinus.hu/theme/image.php/adaptable/atto_h5p/1709548862/icon)"
            ],
            "metadata": {
                "azdata_cell_guid": "d7876bb9-76d0-4d07-baed-3cb17b2f96c3"
            },
            "attachments": {}
        },
        {
            "cell_type": "code",
            "source": [
                ""
            ],
            "metadata": {
                "azdata_cell_guid": "56ec19ce-e249-4551-b2a8-f17569765acc",
                "language": "sql"
            },
            "outputs": [],
            "execution_count": null
        },
        {
            "cell_type": "markdown",
            "source": [
                "4. <span style=\"background-color: rgb(255, 255, 255); color: rgb(0, 0, 0); font-family: &quot;Open Sans&quot;, sans-serif; font-size: 14.44px;\">Készítsünk listát arról, hogy az egyes szálláshelyeken évente hány foglalás történt!&nbsp;</span> \n",
                "\n",
                "a. A lista jelenítse meg a szálláshely azonosítóját, nevét, az évet, és a foglalások számát!\n",
                "\n",
                "b. Egy új oszlopban jelenítsük meg a szálláshely eddigi éves foglalásainak számát is (az aktuálisat is beleértve). \n",
                "\n",
                "c. Az évnél a METTOL dátumot vegyük figyelembe! \n",
                "\n",
                "d. A lista ne tartalmazzon duplikált sorokat!"
            ],
            "metadata": {
                "azdata_cell_guid": "8e7fef82-8022-49a0-8255-fc2846c2134b"
            },
            "attachments": {}
        },
        {
            "cell_type": "code",
            "source": [
                ""
            ],
            "metadata": {
                "azdata_cell_guid": "36f7b396-4a1f-45e5-8720-2302537c91bc",
                "language": "sql"
            },
            "outputs": [],
            "execution_count": null
        },
        {
            "cell_type": "markdown",
            "source": [
                "5. <span style=\"background-color: rgb(255, 255, 255); color: rgb(0, 0, 0); font-family: &quot;Open Sans&quot;, sans-serif; font-size: 14.44px;\">Készítsük listát a szálláshelyekről! A lista tartalmazza a szálláshely azonosítóját, nevét, és a csillagok számát csillagszám szerint csökkenő, azon belül szállásnév szerint növekvő sorrendben!&nbsp;</span> \n",
                "\n",
                "a. Vegyünk fel két új oszlopot, amely a sorrend szerint előző szálláshely nevét, illetve azonosítóját is megjeleníti!"
            ],
            "metadata": {
                "azdata_cell_guid": "84239ca2-6b5e-49f5-9860-d44c11d6de32"
            },
            "attachments": {}
        },
        {
            "cell_type": "code",
            "source": [
                ""
            ],
            "metadata": {
                "azdata_cell_guid": "06d9a62b-9430-424b-a135-d80e675f0eb3",
                "language": "sql"
            },
            "outputs": [],
            "execution_count": null
        },
        {
            "cell_type": "markdown",
            "source": [
                "6. <span style=\"background-color: rgb(255, 255, 255); color: rgb(0, 0, 0); font-family: &quot;Open Sans&quot;, sans-serif; font-size: 14.44px;\">Listázzuk azon termékeket, amelyekből az átlagosnál kevesebb van raktáron!&nbsp;</span> \n",
                "\n",
                "a. Csak a termék kódja és megnevezése jelenjen meg!"
            ],
            "metadata": {
                "azdata_cell_guid": "b0d15045-3c43-4f3a-b8d4-76b4f24e5546"
            },
            "attachments": {}
        },
        {
            "cell_type": "code",
            "source": [
                "-- :) -- \r\n",
                "SELECT termekkod,\r\n",
                "       megnevezes\r\n",
                "FROM termek\r\n",
                "WHERE keszlet <\r\n",
                "(\r\n",
                "    SELECT AVG(keszlet)\r\n",
                "    FROM termek\r\n",
                ")"
            ],
            "metadata": {
                "azdata_cell_guid": "f2b7400d-1255-40ac-9250-4d57f9da5357",
                "language": "sql",
                "tags": []
            },
            "outputs": [],
            "execution_count": null
        },
        {
            "cell_type": "markdown",
            "source": [
                "7. <span style=\"background-color: rgb(255, 255, 255); color: rgb(0, 0, 0); font-family: &quot;Open Sans&quot;, sans-serif; font-size: 14.44px;\">Listázzuk azon ügyfeleket, akik még nem fizettek bankkártyával!&nbsp;</span> \n",
                "\n",
                "a. Csak az ügyfelek neve jelenjen meg!"
            ],
            "metadata": {
                "azdata_cell_guid": "7ebf7ddd-1bd2-4246-815a-be8ae37e3b5b"
            },
            "attachments": {}
        },
        {
            "cell_type": "code",
            "source": [
                "SELECT NEV\r\n",
                "FROM Ugyfel u\r\n",
                "WHERE not EXISTS\r\n",
                "\r\n",
                "\r\n",
                "(\r\n",
                "    SELECT *\r\n",
                "    FROM Rendeles r\r\n",
                "    WHERE u.[LOGIN] = r.[LOGIN] AND\r\n",
                "          r.FIZ_MOD = 'bankkártya'\r\n",
                ")"
            ],
            "metadata": {
                "azdata_cell_guid": "84b7e896-f36e-4985-88f5-e0f706494fef",
                "language": "sql"
            },
            "outputs": [
                {
                    "output_type": "display_data",
                    "data": {
                        "text/html": "(9 rows affected)"
                    },
                    "metadata": {}
                },
                {
                    "output_type": "display_data",
                    "data": {
                        "text/html": "Total execution time: 00:00:00.061"
                    },
                    "metadata": {}
                },
                {
                    "output_type": "execute_result",
                    "metadata": {},
                    "execution_count": 7,
                    "data": {
                        "application/vnd.dataresource+json": {
                            "schema": {
                                "fields": [
                                    {
                                        "name": "NEV"
                                    }
                                ]
                            },
                            "data": [
                                {
                                    "NEV": "Biró Alexander"
                                },
                                {
                                    "NEV": "Csóti Attila"
                                },
                                {
                                    "NEV": "Bagi Beáta"
                                },
                                {
                                    "NEV": "Mór Ottó"
                                },
                                {
                                    "NEV": "Molnár Eszter"
                                },
                                {
                                    "NEV": "Kiss Anita"
                                },
                                {
                                    "NEV": "Kispál Márk"
                                },
                                {
                                    "NEV": "Nagy Péter"
                                },
                                {
                                    "NEV": "Szűcs Norbert"
                                }
                            ]
                        },
                        "text/html": [
                            "<table>",
                            "<tr><th>NEV</th></tr>",
                            "<tr><td>Biró Alexander</td></tr>",
                            "<tr><td>Csóti Attila</td></tr>",
                            "<tr><td>Bagi Beáta</td></tr>",
                            "<tr><td>Mór Ottó</td></tr>",
                            "<tr><td>Molnár Eszter</td></tr>",
                            "<tr><td>Kiss Anita</td></tr>",
                            "<tr><td>Kispál Márk</td></tr>",
                            "<tr><td>Nagy Péter</td></tr>",
                            "<tr><td>Szűcs Norbert</td></tr>",
                            "</table>"
                        ]
                    }
                }
            ],
            "execution_count": 7
        },
        {
            "cell_type": "markdown",
            "source": [
                "8. <span style=\"background-color: rgb(255, 255, 255); color: rgb(0, 0, 0); font-family: &quot;Open Sans&quot;, sans-serif; font-size: 14.44px;\">Mennyibe kerül a második legnagyobb listaárú termék?</span>"
            ],
            "metadata": {
                "azdata_cell_guid": "27a3d3dc-eafb-4a5e-b103-9f465b9eda8f"
            },
            "attachments": {}
        },
        {
            "cell_type": "code",
            "source": [
                ""
            ],
            "metadata": {
                "azdata_cell_guid": "33e26b78-efe2-4eb9-ad20-58bd00e77b8a",
                "language": "sql"
            },
            "outputs": [],
            "execution_count": null
        },
        {
            "cell_type": "code",
            "source": [
                ""
            ],
            "metadata": {
                "azdata_cell_guid": "f09edb3f-649b-4a96-958e-9e12774ae8b7",
                "language": "sql"
            },
            "outputs": [],
            "execution_count": null
        },
        {
            "cell_type": "markdown",
            "source": [
                "9. <span style=\"background-color: rgb(255, 255, 255); color: rgb(0, 0, 0); font-family: &quot;Open Sans&quot;, sans-serif; font-size: 14.44px;\">Melyik raktár(ak)ban van az a termék, amelyből a legnagyobb készlet van?&nbsp;</span> \n",
                "\n",
                "a. Csak a raktár(ak) neve jelenjen meg!"
            ],
            "metadata": {
                "azdata_cell_guid": "f12a331a-0e26-4d3d-9c68-812316286577"
            },
            "attachments": {}
        },
        {
            "cell_type": "code",
            "source": [
                ""
            ],
            "metadata": {
                "azdata_cell_guid": "10a77fc9-e61a-46fc-a401-59720d82bc50",
                "language": "sql"
            },
            "outputs": [],
            "execution_count": null
        },
        {
            "cell_type": "markdown",
            "source": [
                "10. <span style=\"background-color: rgb(255, 255, 255); color: rgb(0, 0, 0); font-family: &quot;Open Sans&quot;, sans-serif; font-size: 14.44px;\">Melyek azok a termékek, amelyek listaára nagyobb, mint bármelyik olyan terméké, amelynek nevében az Ajándék szó szerepel?&nbsp;</span> \n",
                "\n",
                "a. A termékek kódját és nevét is jelenítsük meg!"
            ],
            "metadata": {
                "azdata_cell_guid": "9229e2b6-e200-4499-b95b-2d0222149831"
            },
            "attachments": {}
        },
        {
            "cell_type": "code",
            "source": [
                ""
            ],
            "metadata": {
                "azdata_cell_guid": "8b49ed67-28c6-4880-82a8-cd369e5bba99",
                "language": "sql"
            },
            "outputs": [],
            "execution_count": null
        },
        {
            "cell_type": "markdown",
            "source": [
                "11. <span style=\"background-color: rgb(255, 255, 255); color: rgb(0, 0, 0); font-family: &quot;Open Sans&quot;, sans-serif; font-size: 14.44px;\">Melyik hónapokban adtak le az ügyfelek több rendelést, mint januárban?&nbsp;</span> \n",
                "\n",
                "a. Elég a hónapok sorszámait megjeleníteni. \n",
                "\n",
                "b. A listát rendezzük a hónapok száma szerint növekvő sorrendbe!"
            ],
            "metadata": {
                "azdata_cell_guid": "7f5fc7a7-3b6a-4d89-b292-490830afb0c6"
            },
            "attachments": {}
        },
        {
            "cell_type": "code",
            "source": [
                ""
            ],
            "metadata": {
                "azdata_cell_guid": "4a9ece40-f782-4c0d-92cd-9c21969067ed",
                "language": "sql"
            },
            "outputs": [],
            "execution_count": null
        },
        {
            "cell_type": "markdown",
            "source": [
                "12. <span style=\"background-color: rgb(255, 255, 255); color: rgb(0, 0, 0); font-family: &quot;Open Sans&quot;, sans-serif; font-size: 14.44px;\">Melyek azok a termékek, amelyek listaára az átlagostól max. 20%-kal tér el?&nbsp;</span> \n",
                "\n",
                "a. A termék kódját és nevét is jelenítsük meg!"
            ],
            "metadata": {
                "azdata_cell_guid": "5a483c52-bb98-44bb-bd03-1146d4b0abfa"
            },
            "attachments": {}
        },
        {
            "cell_type": "code",
            "source": [
                ""
            ],
            "metadata": {
                "azdata_cell_guid": "dd6e89bd-08f9-4b18-8460-03c45b503df0",
                "language": "sql"
            },
            "outputs": [],
            "execution_count": null
        },
        {
            "cell_type": "markdown",
            "source": [
                "13. <span style=\"background-color: rgb(255, 255, 255); color: rgb(0, 0, 0); font-family: &quot;Open Sans&quot;, sans-serif; font-size: 14.44px;\">Készítsünk listát (sorszámonként) az egyes rendelések teljes összegéről!&nbsp;</span> \n",
                "\n",
                "a. Szűrjünk azon tételekre, ahol ez az érték nagyobb, mint Viktor Éva rendeléseinek teljes összege! \n",
                "\n",
                "b. A teljes összeg oszlopot nevezzük el értelemszerűen!"
            ],
            "metadata": {
                "azdata_cell_guid": "85d5cb66-96c6-42de-99cf-85ab22d08548"
            },
            "attachments": {}
        },
        {
            "cell_type": "code",
            "source": [
                ""
            ],
            "metadata": {
                "azdata_cell_guid": "cb07d64b-0eaa-498b-b4d2-0b46971e95ce",
                "language": "sql"
            },
            "outputs": [],
            "execution_count": null
        },
        {
            "cell_type": "markdown",
            "source": [
                "14. <span style=\"background-color: rgb(255, 255, 255); color: rgb(0, 0, 0); font-family: &quot;Open Sans&quot;, sans-serif; font-size: 14.44px;\">Listázzuk azokat a termékkategóriákat, amelyből 2017 januárban nem történt rendelés!&nbsp;</span> \n",
                "\n",
                "a. Elég a kategóriák nevét megjeleníteni!"
            ],
            "metadata": {
                "azdata_cell_guid": "f95ad665-a807-4099-bf06-64ed974f866f"
            },
            "attachments": {}
        },
        {
            "cell_type": "code",
            "source": [
                ""
            ],
            "metadata": {
                "azdata_cell_guid": "74c7ec8a-ae4a-4d03-b1c4-e8f6bb1be12c",
                "language": "sql"
            },
            "outputs": [],
            "execution_count": null
        },
        {
            "cell_type": "markdown",
            "source": [
                "15. <span style=\"background-color: rgb(255, 255, 255); color: rgb(0, 0, 0); font-family: &quot;Open Sans&quot;, sans-serif; font-size: 14.44px;\">Listázzuk azon rendelési tételeket, amelynek értéke nagyobb, mint a legdrágább termék listaára azon termékek közül, amelyek szülő kategóriája a ruha!</span>"
            ],
            "metadata": {
                "azdata_cell_guid": "93552388-ffec-49ff-99e5-ae8dc8072601"
            },
            "attachments": {}
        },
        {
            "cell_type": "code",
            "source": [
                ""
            ],
            "metadata": {
                "azdata_cell_guid": "0e7f547f-7d96-4611-b1c2-0fa84a581e79",
                "language": "sql"
            },
            "outputs": [],
            "execution_count": null
        },
        {
            "cell_type": "code",
            "source": [
                "SELECT IIF(v.USERNEV IS NULL, 'Végösszeg', v.usernev),\r\n",
                "       COUNT(DISTINCT szh.SZALLAS_ID)\r\n",
                "FROM vendeg v LEFT JOIN Foglalas f ON v.usernev = f.ugyfel_fk\r\n",
                "              LEFT JOIN Szoba sz ON f.SZOBA_FK = sz.SZOBA_ID\r\n",
                "              LEFT JOIN Szallashely szh ON sz.SZALLAS_FK = szh.SZALLAS_ID\r\n",
                "GROUP BY Rollup(v.USERNEV)"
            ],
            "metadata": {
                "azdata_cell_guid": "c9a21366-5190-4fbf-b405-61613ba9f2fd",
                "language": "sql",
                "tags": []
            },
            "outputs": [
                {
                    "output_type": "display_data",
                    "data": {
                        "text/html": "Warning: Null value is eliminated by an aggregate or other SET operation."
                    },
                    "metadata": {}
                },
                {
                    "output_type": "display_data",
                    "data": {
                        "text/html": "(197 rows affected)"
                    },
                    "metadata": {}
                },
                {
                    "output_type": "display_data",
                    "data": {
                        "text/html": "Total execution time: 00:00:00.029"
                    },
                    "metadata": {}
                },
                {
                    "output_type": "execute_result",
                    "metadata": {},
                    "execution_count": 11,
                    "data": {
                        "application/vnd.dataresource+json": {
                            "schema": {
                                "fields": [
                                    {
                                        "name": "(No column name)"
                                    },
                                    {
                                        "name": "(No column name)"
                                    }
                                ]
                            },
                            "data": [
                                {
                                    "(No column name)": "2"
                                },
                                {
                                    "(No column name)": "2"
                                },
                                {
                                    "(No column name)": "5"
                                },
                                {
                                    "(No column name)": "4"
                                },
                                {
                                    "(No column name)": "3"
                                },
                                {
                                    "(No column name)": "5"
                                },
                                {
                                    "(No column name)": "3"
                                },
                                {
                                    "(No column name)": "7"
                                },
                                {
                                    "(No column name)": "3"
                                },
                                {
                                    "(No column name)": "6"
                                },
                                {
                                    "(No column name)": "4"
                                },
                                {
                                    "(No column name)": "3"
                                },
                                {
                                    "(No column name)": "6"
                                },
                                {
                                    "(No column name)": "5"
                                },
                                {
                                    "(No column name)": "2"
                                },
                                {
                                    "(No column name)": "5"
                                },
                                {
                                    "(No column name)": "3"
                                },
                                {
                                    "(No column name)": "1"
                                },
                                {
                                    "(No column name)": "4"
                                },
                                {
                                    "(No column name)": "1"
                                },
                                {
                                    "(No column name)": "2"
                                },
                                {
                                    "(No column name)": "2"
                                },
                                {
                                    "(No column name)": "6"
                                },
                                {
                                    "(No column name)": "3"
                                },
                                {
                                    "(No column name)": "3"
                                },
                                {
                                    "(No column name)": "6"
                                },
                                {
                                    "(No column name)": "4"
                                },
                                {
                                    "(No column name)": "1"
                                },
                                {
                                    "(No column name)": "5"
                                },
                                {
                                    "(No column name)": "5"
                                },
                                {
                                    "(No column name)": "8"
                                },
                                {
                                    "(No column name)": "4"
                                },
                                {
                                    "(No column name)": "3"
                                },
                                {
                                    "(No column name)": "5"
                                },
                                {
                                    "(No column name)": "3"
                                },
                                {
                                    "(No column name)": "5"
                                },
                                {
                                    "(No column name)": "3"
                                },
                                {
                                    "(No column name)": "2"
                                },
                                {
                                    "(No column name)": "6"
                                },
                                {
                                    "(No column name)": "8"
                                },
                                {
                                    "(No column name)": "4"
                                },
                                {
                                    "(No column name)": "3"
                                },
                                {
                                    "(No column name)": "9"
                                },
                                {
                                    "(No column name)": "1"
                                },
                                {
                                    "(No column name)": "2"
                                },
                                {
                                    "(No column name)": "4"
                                },
                                {
                                    "(No column name)": "7"
                                },
                                {
                                    "(No column name)": "5"
                                },
                                {
                                    "(No column name)": "3"
                                },
                                {
                                    "(No column name)": "6"
                                },
                                {
                                    "(No column name)": "4"
                                },
                                {
                                    "(No column name)": "5"
                                },
                                {
                                    "(No column name)": "5"
                                },
                                {
                                    "(No column name)": "6"
                                },
                                {
                                    "(No column name)": "4"
                                },
                                {
                                    "(No column name)": "4"
                                },
                                {
                                    "(No column name)": "4"
                                },
                                {
                                    "(No column name)": "6"
                                },
                                {
                                    "(No column name)": "6"
                                },
                                {
                                    "(No column name)": "5"
                                },
                                {
                                    "(No column name)": "5"
                                },
                                {
                                    "(No column name)": "6"
                                },
                                {
                                    "(No column name)": "5"
                                },
                                {
                                    "(No column name)": "1"
                                },
                                {
                                    "(No column name)": "4"
                                },
                                {
                                    "(No column name)": "3"
                                },
                                {
                                    "(No column name)": "4"
                                },
                                {
                                    "(No column name)": "5"
                                },
                                {
                                    "(No column name)": "3"
                                },
                                {
                                    "(No column name)": "4"
                                },
                                {
                                    "(No column name)": "5"
                                },
                                {
                                    "(No column name)": "3"
                                },
                                {
                                    "(No column name)": "3"
                                },
                                {
                                    "(No column name)": "2"
                                },
                                {
                                    "(No column name)": "3"
                                },
                                {
                                    "(No column name)": "4"
                                },
                                {
                                    "(No column name)": "4"
                                },
                                {
                                    "(No column name)": "5"
                                },
                                {
                                    "(No column name)": "5"
                                },
                                {
                                    "(No column name)": "4"
                                },
                                {
                                    "(No column name)": "0"
                                },
                                {
                                    "(No column name)": "4"
                                },
                                {
                                    "(No column name)": "1"
                                },
                                {
                                    "(No column name)": "4"
                                },
                                {
                                    "(No column name)": "5"
                                },
                                {
                                    "(No column name)": "7"
                                },
                                {
                                    "(No column name)": "3"
                                },
                                {
                                    "(No column name)": "3"
                                },
                                {
                                    "(No column name)": "2"
                                },
                                {
                                    "(No column name)": "2"
                                },
                                {
                                    "(No column name)": "2"
                                },
                                {
                                    "(No column name)": "4"
                                },
                                {
                                    "(No column name)": "3"
                                },
                                {
                                    "(No column name)": "4"
                                },
                                {
                                    "(No column name)": "2"
                                },
                                {
                                    "(No column name)": "5"
                                },
                                {
                                    "(No column name)": "3"
                                },
                                {
                                    "(No column name)": "3"
                                },
                                {
                                    "(No column name)": "3"
                                },
                                {
                                    "(No column name)": "3"
                                },
                                {
                                    "(No column name)": "5"
                                },
                                {
                                    "(No column name)": "3"
                                },
                                {
                                    "(No column name)": "2"
                                },
                                {
                                    "(No column name)": "2"
                                },
                                {
                                    "(No column name)": "4"
                                },
                                {
                                    "(No column name)": "5"
                                },
                                {
                                    "(No column name)": "6"
                                },
                                {
                                    "(No column name)": "3"
                                },
                                {
                                    "(No column name)": "4"
                                },
                                {
                                    "(No column name)": "4"
                                },
                                {
                                    "(No column name)": "3"
                                },
                                {
                                    "(No column name)": "3"
                                },
                                {
                                    "(No column name)": "2"
                                },
                                {
                                    "(No column name)": "6"
                                },
                                {
                                    "(No column name)": "6"
                                },
                                {
                                    "(No column name)": "6"
                                },
                                {
                                    "(No column name)": "5"
                                },
                                {
                                    "(No column name)": "4"
                                },
                                {
                                    "(No column name)": "5"
                                },
                                {
                                    "(No column name)": "3"
                                },
                                {
                                    "(No column name)": "5"
                                },
                                {
                                    "(No column name)": "1"
                                },
                                {
                                    "(No column name)": "5"
                                },
                                {
                                    "(No column name)": "3"
                                },
                                {
                                    "(No column name)": "5"
                                },
                                {
                                    "(No column name)": "6"
                                },
                                {
                                    "(No column name)": "3"
                                },
                                {
                                    "(No column name)": "2"
                                },
                                {
                                    "(No column name)": "6"
                                },
                                {
                                    "(No column name)": "3"
                                },
                                {
                                    "(No column name)": "2"
                                },
                                {
                                    "(No column name)": "5"
                                },
                                {
                                    "(No column name)": "4"
                                },
                                {
                                    "(No column name)": "3"
                                },
                                {
                                    "(No column name)": "3"
                                },
                                {
                                    "(No column name)": "5"
                                },
                                {
                                    "(No column name)": "2"
                                },
                                {
                                    "(No column name)": "4"
                                },
                                {
                                    "(No column name)": "4"
                                },
                                {
                                    "(No column name)": "4"
                                },
                                {
                                    "(No column name)": "4"
                                },
                                {
                                    "(No column name)": "5"
                                },
                                {
                                    "(No column name)": "5"
                                },
                                {
                                    "(No column name)": "2"
                                },
                                {
                                    "(No column name)": "3"
                                },
                                {
                                    "(No column name)": "3"
                                },
                                {
                                    "(No column name)": "4"
                                },
                                {
                                    "(No column name)": "3"
                                },
                                {
                                    "(No column name)": "7"
                                },
                                {
                                    "(No column name)": "3"
                                },
                                {
                                    "(No column name)": "4"
                                },
                                {
                                    "(No column name)": "4"
                                },
                                {
                                    "(No column name)": "4"
                                },
                                {
                                    "(No column name)": "5"
                                },
                                {
                                    "(No column name)": "3"
                                },
                                {
                                    "(No column name)": "4"
                                },
                                {
                                    "(No column name)": "4"
                                },
                                {
                                    "(No column name)": "2"
                                },
                                {
                                    "(No column name)": "3"
                                },
                                {
                                    "(No column name)": "4"
                                },
                                {
                                    "(No column name)": "3"
                                },
                                {
                                    "(No column name)": "4"
                                },
                                {
                                    "(No column name)": "3"
                                },
                                {
                                    "(No column name)": "3"
                                },
                                {
                                    "(No column name)": "9"
                                },
                                {
                                    "(No column name)": "3"
                                },
                                {
                                    "(No column name)": "2"
                                },
                                {
                                    "(No column name)": "1"
                                },
                                {
                                    "(No column name)": "4"
                                },
                                {
                                    "(No column name)": "5"
                                },
                                {
                                    "(No column name)": "6"
                                },
                                {
                                    "(No column name)": "2"
                                },
                                {
                                    "(No column name)": "4"
                                },
                                {
                                    "(No column name)": "6"
                                },
                                {
                                    "(No column name)": "2"
                                },
                                {
                                    "(No column name)": "1"
                                },
                                {
                                    "(No column name)": "4"
                                },
                                {
                                    "(No column name)": "1"
                                },
                                {
                                    "(No column name)": "5"
                                },
                                {
                                    "(No column name)": "7"
                                },
                                {
                                    "(No column name)": "5"
                                },
                                {
                                    "(No column name)": "4"
                                },
                                {
                                    "(No column name)": "4"
                                },
                                {
                                    "(No column name)": "2"
                                },
                                {
                                    "(No column name)": "5"
                                },
                                {
                                    "(No column name)": "2"
                                },
                                {
                                    "(No column name)": "5"
                                },
                                {
                                    "(No column name)": "3"
                                },
                                {
                                    "(No column name)": "2"
                                },
                                {
                                    "(No column name)": "2"
                                },
                                {
                                    "(No column name)": "2"
                                },
                                {
                                    "(No column name)": "6"
                                },
                                {
                                    "(No column name)": "2"
                                },
                                {
                                    "(No column name)": "4"
                                },
                                {
                                    "(No column name)": "4"
                                },
                                {
                                    "(No column name)": "5"
                                },
                                {
                                    "(No column name)": "12"
                                }
                            ]
                        },
                        "text/html": [
                            "<table>",
                            "<tr><th>(No column name)</th><th>(No column name)</th></tr>",
                            "<tr><td>adam1</td><td>2</td></tr>",
                            "<tr><td>adam3</td><td>2</td></tr>",
                            "<tr><td>adam4</td><td>5</td></tr>",
                            "<tr><td>agnes</td><td>4</td></tr>",
                            "<tr><td>agnes3</td><td>3</td></tr>",
                            "<tr><td>AGNESH</td><td>5</td></tr>",
                            "<tr><td>AGNESK</td><td>3</td></tr>",
                            "<tr><td>akos</td><td>7</td></tr>",
                            "<tr><td>aladar</td><td>3</td></tr>",
                            "<tr><td>alexandra</td><td>6</td></tr>",
                            "<tr><td>andi</td><td>4</td></tr>",
                            "<tr><td>andras2</td><td>3</td></tr>",
                            "<tr><td>andras21</td><td>6</td></tr>",
                            "<tr><td>andras3</td><td>5</td></tr>",
                            "<tr><td>andras4</td><td>2</td></tr>",
                            "<tr><td>andras41</td><td>5</td></tr>",
                            "<tr><td>ANDRASE</td><td>3</td></tr>",
                            "<tr><td>ANDRASN</td><td>1</td></tr>",
                            "<tr><td>andrea</td><td>4</td></tr>",
                            "<tr><td>andrea3</td><td>1</td></tr>",
                            "<tr><td>andrea4</td><td>2</td></tr>",
                            "<tr><td>ANDREAT</td><td>2</td></tr>",
                            "<tr><td>anett3</td><td>6</td></tr>",
                            "<tr><td>aniko</td><td>3</td></tr>",
                            "<tr><td>aniko4</td><td>3</td></tr>",
                            "<tr><td>ANIKOS</td><td>6</td></tr>",
                            "<tr><td>anita</td><td>4</td></tr>",
                            "<tr><td>annamaria1</td><td>1</td></tr>",
                            "<tr><td>ANNAMARIAR</td><td>5</td></tr>",
                            "<tr><td>aron2</td><td>5</td></tr>",
                            "<tr><td>ARONK</td><td>8</td></tr>",
                            "<tr><td>arpad2</td><td>4</td></tr>",
                            "<tr><td>ARPADH</td><td>3</td></tr>",
                            "<tr><td>ARPADM</td><td>5</td></tr>",
                            "<tr><td>attila</td><td>3</td></tr>",
                            "<tr><td>attila1</td><td>5</td></tr>",
                            "<tr><td>attila4</td><td>3</td></tr>",
                            "<tr><td>ATTILAO</td><td>2</td></tr>",
                            "<tr><td>balazs1</td><td>6</td></tr>",
                            "<tr><td>balazs2</td><td>8</td></tr>",
                            "<tr><td>balazs3</td><td>4</td></tr>",
                            "<tr><td>balint</td><td>3</td></tr>",
                            "<tr><td>balint1</td><td>9</td></tr>",
                            "<tr><td>balint2</td><td>1</td></tr>",
                            "<tr><td>balu</td><td>2</td></tr>",
                            "<tr><td>beata4</td><td>4</td></tr>",
                            "<tr><td>BEATRIXK</td><td>7</td></tr>",
                            "<tr><td>BEATRIXS</td><td>5</td></tr>",
                            "<tr><td>BELAF</td><td>3</td></tr>",
                            "<tr><td>bence</td><td>6</td></tr>",
                            "<tr><td>BENCEB</td><td>4</td></tr>",
                            "<tr><td>bernadett1</td><td>5</td></tr>",
                            "<tr><td>bernadett2</td><td>5</td></tr>",
                            "<tr><td>BERNADETTO</td><td>6</td></tr>",
                            "<tr><td>bertalan</td><td>4</td></tr>",
                            "<tr><td>brigitta</td><td>4</td></tr>",
                            "<tr><td>brigitta3</td><td>4</td></tr>",
                            "<tr><td>csongor3</td><td>6</td></tr>",
                            "<tr><td>dani</td><td>6</td></tr>",
                            "<tr><td>daniel</td><td>5</td></tr>",
                            "<tr><td>daniel1</td><td>5</td></tr>",
                            "<tr><td>david</td><td>6</td></tr>",
                            "<tr><td>david1</td><td>5</td></tr>",
                            "<tr><td>david4</td><td>1</td></tr>",
                            "<tr><td>debora</td><td>4</td></tr>",
                            "<tr><td>denes</td><td>3</td></tr>",
                            "<tr><td>dora3</td><td>4</td></tr>",
                            "<tr><td>edit</td><td>5</td></tr>",
                            "<tr><td>emese</td><td>3</td></tr>",
                            "<tr><td>eszter</td><td>4</td></tr>",
                            "<tr><td>eszter2</td><td>5</td></tr>",
                            "<tr><td>eszter4</td><td>3</td></tr>",
                            "<tr><td>ESZTERE</td><td>3</td></tr>",
                            "<tr><td>eva</td><td>2</td></tr>",
                            "<tr><td>eva2</td><td>3</td></tr>",
                            "<tr><td>EVAV</td><td>4</td></tr>",
                            "<tr><td>ferenc1</td><td>4</td></tr>",
                            "<tr><td>fruzsina4</td><td>5</td></tr>",
                            "<tr><td>gabor1</td><td>5</td></tr>",
                            "<tr><td>gabor4</td><td>4</td></tr>",
                            "<tr><td>GABORS</td><td>0</td></tr>",
                            "<tr><td>gabriella1</td><td>4</td></tr>",
                            "<tr><td>gabriella10</td><td>1</td></tr>",
                            "<tr><td>georgij</td><td>4</td></tr>",
                            "<tr><td>gusztav</td><td>5</td></tr>",
                            "<tr><td>GYONGYIK</td><td>7</td></tr>",
                            "<tr><td>GYORGYO</td><td>3</td></tr>",
                            "<tr><td>henrik3</td><td>3</td></tr>",
                            "<tr><td>IBOLYAA</td><td>2</td></tr>",
                            "<tr><td>ilona3</td><td>2</td></tr>",
                            "<tr><td>imre</td><td>2</td></tr>",
                            "<tr><td>imre1</td><td>4</td></tr>",
                            "<tr><td>istvan</td><td>3</td></tr>",
                            "<tr><td>istvan1</td><td>4</td></tr>",
                            "<tr><td>ISTVANV</td><td>2</td></tr>",
                            "<tr><td>janos3</td><td>5</td></tr>",
                            "<tr><td>JANOSG</td><td>3</td></tr>",
                            "<tr><td>JANOSP</td><td>3</td></tr>",
                            "<tr><td>jozsef</td><td>3</td></tr>",
                            "<tr><td>jozsef2</td><td>3</td></tr>",
                            "<tr><td>JOZSEFG</td><td>5</td></tr>",
                            "<tr><td>JUDITH</td><td>3</td></tr>",
                            "<tr><td>julia</td><td>2</td></tr>",
                            "<tr><td>julia4</td><td>2</td></tr>",
                            "<tr><td>julianna4</td><td>4</td></tr>",
                            "<tr><td>kata</td><td>5</td></tr>",
                            "<tr><td>katalin</td><td>6</td></tr>",
                            "<tr><td>katalin4</td><td>3</td></tr>",
                            "<tr><td>kati</td><td>4</td></tr>",
                            "<tr><td>katka</td><td>4</td></tr>",
                            "<tr><td>klaudia2</td><td>3</td></tr>",
                            "<tr><td>kornel4</td><td>3</td></tr>",
                            "<tr><td>kristof4</td><td>2</td></tr>",
                            "<tr><td>kriszti</td><td>6</td></tr>",
                            "<tr><td>krisztian4</td><td>6</td></tr>",
                            "<tr><td>KRISZTIANM</td><td>6</td></tr>",
                            "<tr><td>krisztina</td><td>5</td></tr>",
                            "<tr><td>krisztina1</td><td>4</td></tr>",
                            "<tr><td>KRISZTINAG</td><td>5</td></tr>",
                            "<tr><td>lajos</td><td>3</td></tr>",
                            "<tr><td>lala</td><td>5</td></tr>",
                            "<tr><td>laszlo1</td><td>1</td></tr>",
                            "<tr><td>laszlo2</td><td>5</td></tr>",
                            "<tr><td>LASZLOA</td><td>3</td></tr>",
                            "<tr><td>LASZLON</td><td>5</td></tr>",
                            "<tr><td>maria1</td><td>6</td></tr>",
                            "<tr><td>mark</td><td>3</td></tr>",
                            "<tr><td>MARKH</td><td>2</td></tr>",
                            "<tr><td>marton</td><td>6</td></tr>",
                            "<tr><td>MATEK</td><td>3</td></tr>",
                            "<tr><td>matyas2</td><td>2</td></tr>",
                            "<tr><td>MATYASS</td><td>5</td></tr>",
                            "<tr><td>MIHALYJ</td><td>4</td></tr>",
                            "<tr><td>miklos2</td><td>3</td></tr>",
                            "<tr><td>MIKLOSB</td><td>3</td></tr>",
                            "<tr><td>MONIKAM</td><td>5</td></tr>",
                            "<tr><td>NANDORF</td><td>2</td></tr>",
                            "<tr><td>nikolett3</td><td>4</td></tr>",
                            "<tr><td>nikoletta4</td><td>4</td></tr>",
                            "<tr><td>NIKOLETTAT</td><td>4</td></tr>",
                            "<tr><td>norbert</td><td>4</td></tr>",
                            "<tr><td>norbert2</td><td>5</td></tr>",
                            "<tr><td>norbert4</td><td>5</td></tr>",
                            "<tr><td>norbert5</td><td>2</td></tr>",
                            "<tr><td>pal</td><td>3</td></tr>",
                            "<tr><td>peter1</td><td>3</td></tr>",
                            "<tr><td>peter2</td><td>4</td></tr>",
                            "<tr><td>peter3</td><td>3</td></tr>",
                            "<tr><td>peter4</td><td>7</td></tr>",
                            "<tr><td>PETERB</td><td>3</td></tr>",
                            "<tr><td>polla</td><td>4</td></tr>",
                            "<tr><td>rajmond4</td><td>4</td></tr>",
                            "<tr><td>reka4</td><td>4</td></tr>",
                            "<tr><td>RENATAK</td><td>5</td></tr>",
                            "<tr><td>RENATAS</td><td>3</td></tr>",
                            "<tr><td>robert2</td><td>4</td></tr>",
                            "<tr><td>ROBERTI</td><td>4</td></tr>",
                            "<tr><td>ROBERTP</td><td>2</td></tr>",
                            "<tr><td>roland</td><td>3</td></tr>",
                            "<tr><td>roland1</td><td>4</td></tr>",
                            "<tr><td>roza2</td><td>3</td></tr>",
                            "<tr><td>sandor</td><td>4</td></tr>",
                            "<tr><td>sandor3</td><td>3</td></tr>",
                            "<tr><td>sandor4</td><td>3</td></tr>",
                            "<tr><td>sara</td><td>9</td></tr>",
                            "<tr><td>SEBASTIANF</td><td>3</td></tr>",
                            "<tr><td>sebestyen</td><td>2</td></tr>",
                            "<tr><td>szabolcs</td><td>1</td></tr>",
                            "<tr><td>SZABOLCSM</td><td>4</td></tr>",
                            "<tr><td>SZILARDS</td><td>5</td></tr>",
                            "<tr><td>szilvia1</td><td>6</td></tr>",
                            "<tr><td>tamara2</td><td>2</td></tr>",
                            "<tr><td>tamas</td><td>4</td></tr>",
                            "<tr><td>TAMASF</td><td>6</td></tr>",
                            "<tr><td>tibor</td><td>2</td></tr>",
                            "<tr><td>tibor2</td><td>1</td></tr>",
                            "<tr><td>tihamer</td><td>4</td></tr>",
                            "<tr><td>timea</td><td>1</td></tr>",
                            "<tr><td>timea2</td><td>5</td></tr>",
                            "<tr><td>tunde</td><td>7</td></tr>",
                            "<tr><td>valentin</td><td>5</td></tr>",
                            "<tr><td>veronika4</td><td>4</td></tr>",
                            "<tr><td>VIKTORIAU</td><td>4</td></tr>",
                            "<tr><td>VIKTORK</td><td>2</td></tr>",
                            "<tr><td>vivien3</td><td>5</td></tr>",
                            "<tr><td>zoltan</td><td>2</td></tr>",
                            "<tr><td>zoltan4</td><td>5</td></tr>",
                            "<tr><td>ZOLTANP</td><td>3</td></tr>",
                            "<tr><td>ZOLTANT</td><td>2</td></tr>",
                            "<tr><td>zsofi1</td><td>2</td></tr>",
                            "<tr><td>zsolt1</td><td>2</td></tr>",
                            "<tr><td>ZSOLTJ</td><td>6</td></tr>",
                            "<tr><td>zsuzsa</td><td>2</td></tr>",
                            "<tr><td>zsuzsa3</td><td>4</td></tr>",
                            "<tr><td>zsuzsanna</td><td>4</td></tr>",
                            "<tr><td>ZSUZSAV</td><td>5</td></tr>",
                            "<tr><td>Végösszeg</td><td>12</td></tr>",
                            "</table>"
                        ]
                    }
                }
            ],
            "execution_count": 11
        },
        {
            "cell_type": "code",
            "source": [
                "-- Készítsünk listát, amely megjeleníti a vendégek adatait! --\r\n",
                "-- Egy új oszlopban számoljuk ki a vendég életkorát (években) --\r\n",
                "-- Egy másik új oszlopban határozzuk meg, hogy születési dátum szerint növekvő rendezésnél mennyi az adott ügyfél. az előtte lévő 2 ügyfél és az utána lévő 2 ügyfél átlagos életkora! Az oszlopot nevezzük el értelemszerűen! --\r\n",
                "\r\n",
                "\r\n",
                "SELECT *,\r\n",
                "       DATEDIFF(YEAR, SZUL_DAT, GETDATE()) AS 'Életkor',tem\r\n",
                "       AVG(DATEDIFF(YEAR, SZUL_DAT, GETDATE()))\r\n",
                "       OVER (ORDER BY SZUL_DAT)\r\n",
                "\r\n",
                "FROM Vendeg"
            ],
            "metadata": {
                "azdata_cell_guid": "499ec7db-11da-48b0-896b-f6f01fb3915c",
                "language": "sql"
            },
            "outputs": [],
            "execution_count": null
        }
    ]
}