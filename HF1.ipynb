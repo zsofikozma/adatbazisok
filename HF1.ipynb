{
    "metadata": {
        "kernelspec": {
            "name": "SQL",
            "display_name": "SQL",
            "language": "sql"
        },
        "language_info": {
            "name": "sql",
            "version": ""
        }
    },
    "nbformat_minor": 2,
    "nbformat": 4,
    "cells": [
        {
            "cell_type": "markdown",
            "source": [
                "**1\\. Model year szerinti százalékos arányok**"
            ],
            "metadata": {
                "azdata_cell_guid": "85050f24-5bac-4bfc-9465-c607c00c71ab"
            },
            "attachments": {}
        },
        {
            "cell_type": "code",
            "source": [
                "SELECT model_year AS 'termék éve',\r\n",
                "       COUNT(*)*100/20 AS 'százalék'\r\n",
                "FROM Product\r\n",
                "GROUP BY model_year\r\n",
                "ORDER BY 2 DESC"
            ],
            "metadata": {
                "azdata_cell_guid": "1df3d725-f932-491a-a27a-08fd7213c7b7",
                "language": "sql"
            },
            "outputs": [
                {
                    "output_type": "display_data",
                    "data": {
                        "text/html": "(7 rows affected)"
                    },
                    "metadata": {}
                },
                {
                    "output_type": "display_data",
                    "data": {
                        "text/html": "Total execution time: 00:00:00.021"
                    },
                    "metadata": {}
                },
                {
                    "output_type": "execute_result",
                    "metadata": {
                        "azdata_chartOptions": {
                            "type": "doughnut",
                            "dataDirection": "vertical",
                            "columnsAsLabels": true,
                            "labelFirstColumn": true,
                            "legendPosition": "top"
                        }
                    },
                    "execution_count": 56,
                    "data": {
                        "application/vnd.dataresource+json": {
                            "schema": {
                                "fields": [
                                    {
                                        "name": "termék éve"
                                    },
                                    {
                                        "name": "százalék"
                                    }
                                ]
                            },
                            "data": [
                                {
                                    "termék éve": "2021",
                                    "százalék": "30"
                                },
                                {
                                    "termék éve": "2017",
                                    "százalék": "25"
                                },
                                {
                                    "termék éve": "2016",
                                    "százalék": "15"
                                },
                                {
                                    "termék éve": "2015",
                                    "százalék": "10"
                                },
                                {
                                    "termék éve": "2018",
                                    "százalék": "10"
                                },
                                {
                                    "termék éve": "2019",
                                    "százalék": "5"
                                },
                                {
                                    "termék éve": "2020",
                                    "százalék": "5"
                                }
                            ]
                        },
                        "text/html": [
                            "<table>",
                            "<tr><th>termék éve</th><th>százalék</th></tr>",
                            "<tr><td>2021</td><td>30</td></tr>",
                            "<tr><td>2017</td><td>25</td></tr>",
                            "<tr><td>2016</td><td>15</td></tr>",
                            "<tr><td>2015</td><td>10</td></tr>",
                            "<tr><td>2018</td><td>10</td></tr>",
                            "<tr><td>2019</td><td>5</td></tr>",
                            "<tr><td>2020</td><td>5</td></tr>",
                            "</table>"
                        ]
                    }
                }
            ],
            "execution_count": 56
        },
        {
            "cell_type": "markdown",
            "source": [
                "**2\\. Neve és ára azoknak, amik egyenlőek vagy többe kerülnek, mint 1000 (vagy 1000), de kevesebb, mint 2000**"
            ],
            "metadata": {
                "azdata_cell_guid": "01504c67-f505-4c5f-acaf-2e8fa27ed117"
            },
            "attachments": {}
        },
        {
            "cell_type": "code",
            "source": [
                "SELECT name AS 'név',\r\n",
                "       price AS 'ár'\r\n",
                "FROM Product\r\n",
                "WHERE price >= 1000 AND price < 2000\r\n",
                "ORDER BY 2 ASC"
            ],
            "metadata": {
                "azdata_cell_guid": "09715db5-43f4-4882-833d-408742b7228f",
                "language": "sql"
            },
            "outputs": [
                {
                    "output_type": "display_data",
                    "data": {
                        "text/html": "(9 rows affected)"
                    },
                    "metadata": {}
                },
                {
                    "output_type": "display_data",
                    "data": {
                        "text/html": "Total execution time: 00:00:00.126"
                    },
                    "metadata": {}
                },
                {
                    "output_type": "execute_result",
                    "metadata": {
                        "azdata_chartOptions": {
                            "type": "bar",
                            "dataDirection": "horizontal",
                            "columnsAsLabels": true,
                            "labelFirstColumn": true,
                            "legendPosition": "top",
                            "yAxisMin": 1000,
                            "yAxisMax": 2000
                        }
                    },
                    "execution_count": 49,
                    "data": {
                        "application/vnd.dataresource+json": {
                            "schema": {
                                "fields": [
                                    {
                                        "name": "név"
                                    },
                                    {
                                        "name": "ár"
                                    }
                                ]
                            },
                            "data": [
                                {
                                    "név": "beaded necklace",
                                    "ár": "1047"
                                },
                                {
                                    "név": "flag",
                                    "ár": "1092"
                                },
                                {
                                    "név": "bottle of perfume",
                                    "ár": "1123"
                                },
                                {
                                    "név": "street lights",
                                    "ár": "1137"
                                },
                                {
                                    "név": "bottle cap",
                                    "ár": "1161"
                                },
                                {
                                    "név": "shopping bag",
                                    "ár": "1244"
                                },
                                {
                                    "név": "carrot",
                                    "ár": "1330"
                                },
                                {
                                    "név": "box",
                                    "ár": "1448"
                                },
                                {
                                    "név": "bed",
                                    "ár": "1938"
                                }
                            ]
                        },
                        "text/html": [
                            "<table>",
                            "<tr><th>név</th><th>ár</th></tr>",
                            "<tr><td>beaded necklace</td><td>1047</td></tr>",
                            "<tr><td>flag</td><td>1092</td></tr>",
                            "<tr><td>bottle of perfume</td><td>1123</td></tr>",
                            "<tr><td>street lights</td><td>1137</td></tr>",
                            "<tr><td>bottle cap</td><td>1161</td></tr>",
                            "<tr><td>shopping bag</td><td>1244</td></tr>",
                            "<tr><td>carrot</td><td>1330</td></tr>",
                            "<tr><td>box</td><td>1448</td></tr>",
                            "<tr><td>bed</td><td>1938</td></tr>",
                            "</table>"
                        ]
                    }
                }
            ],
            "execution_count": 49
        },
        {
            "cell_type": "markdown",
            "source": [
                "**3\\. 2021, 2016, 2017-ben kijött termékek, amik \"s\" betűvel kezdődnek, névhossz szerint sorbarakva, év és ár összefűzve**"
            ],
            "metadata": {
                "azdata_cell_guid": "149a3dd6-e8ea-4e1e-aa04-7bd40208295b"
            },
            "attachments": {}
        },
        {
            "cell_type": "code",
            "source": [
                "SELECT name AS 'név',\r\n",
                "       CAST(model_year AS varchar(4)) + '-ban készült és ' + CAST(price as varchar(10)) + '($?)-ba kerül' AS 'év + ár'\r\n",
                "FROM Product\r\n",
                "WHERE (model_year = 2021 OR model_year = 2016 OR model_year = 2017) AND LEFT(name,1) = 's'\r\n",
                "ORDER BY LEN(name)"
            ],
            "metadata": {
                "azdata_cell_guid": "fa98b98e-dabc-4be0-a97c-6728d6db5e9d",
                "language": "sql"
            },
            "outputs": [
                {
                    "output_type": "display_data",
                    "data": {
                        "text/html": "(3 rows affected)"
                    },
                    "metadata": {}
                },
                {
                    "output_type": "display_data",
                    "data": {
                        "text/html": "Total execution time: 00:00:00.077"
                    },
                    "metadata": {}
                },
                {
                    "output_type": "execute_result",
                    "metadata": {},
                    "execution_count": 50,
                    "data": {
                        "application/vnd.dataresource+json": {
                            "schema": {
                                "fields": [
                                    {
                                        "name": "név"
                                    },
                                    {
                                        "name": "év + ár"
                                    }
                                ]
                            },
                            "data": [
                                {
                                    "név": "screwdriver",
                                    "év + ár": "2016-ban készült és 180($?)-ba kerül"
                                },
                                {
                                    "név": "sticker book",
                                    "év + ár": "2021-ban készült és 718($?)-ba kerül"
                                },
                                {
                                    "név": "shopping bag",
                                    "év + ár": "2017-ban készült és 1244($?)-ba kerül"
                                }
                            ]
                        },
                        "text/html": [
                            "<table>",
                            "<tr><th>név</th><th>év + ár</th></tr>",
                            "<tr><td>screwdriver</td><td>2016-ban készült és 180($?)-ba kerül</td></tr>",
                            "<tr><td>sticker book</td><td>2021-ban készült és 718($?)-ba kerül</td></tr>",
                            "<tr><td>shopping bag</td><td>2017-ban készült és 1244($?)-ba kerül</td></tr>",
                            "</table>"
                        ]
                    }
                }
            ],
            "execution_count": 50
        },
        {
            "cell_type": "markdown",
            "source": [
                "**4\\. Páros években megjelenő termékek átlag árai, ahol több mint 100($?) az átlag ár**"
            ],
            "metadata": {
                "azdata_cell_guid": "e224bd84-bfe3-4ff4-bdb0-2a3bd530ce82"
            },
            "attachments": {}
        },
        {
            "cell_type": "code",
            "source": [
                "SELECT model_year AS 'termék éve',\r\n",
                "       AVG(price) AS 'átlag árak'\r\n",
                "FROM Product\r\n",
                "WHERE (model_year % 2) = 0\r\n",
                "GROUP BY model_year\r\n",
                "HAVING AVG(price) > 100\r\n",
                "ORDER BY 1 ASC"
            ],
            "metadata": {
                "azdata_cell_guid": "1cf7c718-442f-4bfa-ad4c-39a2484f896d",
                "language": "sql"
            },
            "outputs": [
                {
                    "output_type": "display_data",
                    "data": {
                        "text/html": "(3 rows affected)"
                    },
                    "metadata": {}
                },
                {
                    "output_type": "display_data",
                    "data": {
                        "text/html": "Total execution time: 00:00:00.023"
                    },
                    "metadata": {}
                },
                {
                    "output_type": "execute_result",
                    "metadata": {
                        "azdata_chartOptions": {
                            "type": "line",
                            "dataDirection": "vertical",
                            "columnsAsLabels": true,
                            "labelFirstColumn": false,
                            "legendPosition": "top",
                            "dataType": "number"
                        }
                    },
                    "execution_count": 61,
                    "data": {
                        "application/vnd.dataresource+json": {
                            "schema": {
                                "fields": [
                                    {
                                        "name": "termék éve"
                                    },
                                    {
                                        "name": "átlag árak"
                                    }
                                ]
                            },
                            "data": [
                                {
                                    "termék éve": "2016",
                                    "átlag árak": "671"
                                },
                                {
                                    "termék éve": "2018",
                                    "átlag árak": "654"
                                },
                                {
                                    "termék éve": "2020",
                                    "átlag árak": "234"
                                }
                            ]
                        },
                        "text/html": [
                            "<table>",
                            "<tr><th>termék éve</th><th>átlag árak</th></tr>",
                            "<tr><td>2016</td><td>671</td></tr>",
                            "<tr><td>2018</td><td>654</td></tr>",
                            "<tr><td>2020</td><td>234</td></tr>",
                            "</table>"
                        ]
                    }
                }
            ],
            "execution_count": 61
        },
        {
            "cell_type": "markdown",
            "source": [
                "**5\\. Top 4 legolcsóbb terméknek az árát és a nevét, majd, ha 2017 vagy 2017 előtt vagy 2017 után**"
            ],
            "metadata": {
                "azdata_cell_guid": "502a6283-0c42-4c39-9ba9-c7d4207a1479"
            },
            "attachments": {}
        },
        {
            "cell_type": "code",
            "source": [
                "SELECT TOP 4 name AS 'név', \r\n",
                "             price AS 'ár',\r\n",
                "             CASE \r\n",
                "                WHEN model_year < 2017 THEN '2017 előtt'\r\n",
                "                WHEN model_year = 2017 THEN '2017-ben'\r\n",
                "                ELSE '2017 után'\r\n",
                "             END AS '2017-ben vagy előtte vagy utána?'\r\n",
                "FROM Product\r\n",
                "ORDER BY price"
            ],
            "metadata": {
                "azdata_cell_guid": "9d7e25c4-4bd2-489e-8c62-36eb05ea9e39",
                "language": "sql"
            },
            "outputs": [
                {
                    "output_type": "display_data",
                    "data": {
                        "text/html": "(4 rows affected)"
                    },
                    "metadata": {}
                },
                {
                    "output_type": "display_data",
                    "data": {
                        "text/html": "Total execution time: 00:00:00.028"
                    },
                    "metadata": {}
                },
                {
                    "output_type": "execute_result",
                    "metadata": {},
                    "execution_count": 53,
                    "data": {
                        "application/vnd.dataresource+json": {
                            "schema": {
                                "fields": [
                                    {
                                        "name": "név"
                                    },
                                    {
                                        "name": "ár"
                                    },
                                    {
                                        "name": "2017-ben vagy előtte vagy utána?"
                                    }
                                ]
                            },
                            "data": [
                                {
                                    "név": "lamp",
                                    "ár": "97",
                                    "2017-ben vagy előtte vagy utána?": "2017-ben"
                                },
                                {
                                    "név": "rug",
                                    "ár": "125",
                                    "2017-ben vagy előtte vagy utána?": "2017 után"
                                },
                                {
                                    "név": "screwdriver",
                                    "ár": "180",
                                    "2017-ben vagy előtte vagy utána?": "2017 előtt"
                                },
                                {
                                    "név": "speakers",
                                    "ár": "186",
                                    "2017-ben vagy előtte vagy utána?": "2017 után"
                                }
                            ]
                        },
                        "text/html": [
                            "<table>",
                            "<tr><th>név</th><th>ár</th><th>2017-ben vagy előtte vagy utána?</th></tr>",
                            "<tr><td>lamp</td><td>97</td><td>2017-ben</td></tr>",
                            "<tr><td>rug</td><td>125</td><td>2017 után</td></tr>",
                            "<tr><td>screwdriver</td><td>180</td><td>2017 előtt</td></tr>",
                            "<tr><td>speakers</td><td>186</td><td>2017 után</td></tr>",
                            "</table>"
                        ]
                    }
                }
            ],
            "execution_count": 53
        }
    ]
}