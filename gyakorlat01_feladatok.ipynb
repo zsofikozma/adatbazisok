{
    "metadata": {
        "kernelspec": {
            "name": "SQL",
            "display_name": "SQL",
            "language": "sql"
        },
        "language_info": {
            "name": "sql",
            "version": ""
        },
        "extensions": {
            "azuredatastudio": {
                "version": 1,
                "views": []
            }
        }
    },
    "nbformat_minor": 2,
    "nbformat": 4,
    "cells": [
        {
            "cell_type": "markdown",
            "source": [
                "1. Listázzuk a <span style=\"color: #800000;\">`kolcsonzes`</span> tábla következő oszlopait: ID, ki\\_datum, vissza\\_datum! \n",
                "\n",
                "  \n",
                "\n",
                "a.  Az ID oszlop neve legyen Azonosító\n",
                "\n",
                "b.  A ki\\_datum oszlop neve legyen Kölcsönzés\\_dátuma\n",
                "\n",
                "c.  A vissza\\_datum oszlop neve legyen Visszahozatal\\_dátuma"
            ],
            "metadata": {
                "azdata_cell_guid": "77f2d5b3-38e9-41cc-893f-f5afd02b97ef"
            },
            "attachments": {}
        },
        {
            "cell_type": "code",
            "source": [
                "SELECT ID AS 'Azonosító',\r\n",
                "       ki_datum AS 'Kölcsönzés_dátuma',\r\n",
                "       vissza_datum AS 'Visszahozatal_dátuma'\r\n",
                "FROM kolcsonzesek\r\n",
                "nah je zuzu"
            ],
            "metadata": {
                "azdata_cell_guid": "bd3cef1a-4e6e-4ece-9dc3-aaa9d2b5d66d",
                "language": "sql"
            },
            "outputs": [
                {
                    "output_type": "display_data",
                    "data": {
                        "text/html": "(5 rows affected)"
                    },
                    "metadata": {}
                },
                {
                    "output_type": "display_data",
                    "data": {
                        "text/html": "Total execution time: 00:00:00.019"
                    },
                    "metadata": {}
                },
                {
                    "output_type": "execute_result",
                    "execution_count": 1,
                    "data": {
                        "application/vnd.dataresource+json": {
                            "schema": {
                                "fields": [
                                    {
                                        "name": "Azonosító"
                                    },
                                    {
                                        "name": "Kölcsönzés_dátuma"
                                    },
                                    {
                                        "name": "Visszahozatal_dátuma"
                                    }
                                ]
                            },
                            "data": [
                                {
                                    "Azonosító": "10",
                                    "Kölcsönzés_dátuma": "2003-12-11",
                                    "Visszahozatal_dátuma": "NULL"
                                },
                                {
                                    "Azonosító": "11",
                                    "Kölcsönzés_dátuma": "2003-12-11",
                                    "Visszahozatal_dátuma": "NULL"
                                },
                                {
                                    "Azonosító": "12",
                                    "Kölcsönzés_dátuma": "2003-12-11",
                                    "Visszahozatal_dátuma": "NULL"
                                },
                                {
                                    "Azonosító": "13",
                                    "Kölcsönzés_dátuma": "2006-10-01",
                                    "Visszahozatal_dátuma": "2006-10-10"
                                },
                                {
                                    "Azonosító": "14",
                                    "Kölcsönzés_dátuma": "2006-10-02",
                                    "Visszahozatal_dátuma": "2006-10-09"
                                }
                            ]
                        },
                        "text/html": "<table><tr><th>Azonosító</th><th>Kölcsönzés_dátuma</th><th>Visszahozatal_dátuma</th></tr><tr><td>10</td><td>2003-12-11</td><td>NULL</td></tr><tr><td>11</td><td>2003-12-11</td><td>NULL</td></tr><tr><td>12</td><td>2003-12-11</td><td>NULL</td></tr><tr><td>13</td><td>2006-10-01</td><td>2006-10-10</td></tr><tr><td>14</td><td>2006-10-02</td><td>2006-10-09</td></tr></table>"
                    },
                    "metadata": {}
                }
            ],
            "execution_count": 1
        },
        {
            "cell_type": "markdown",
            "source": [
                "2. Melyek azok a kölcsönzések, amelyek 2005.01.01 és 2007.01.01 között történtek?"
            ],
            "metadata": {
                "azdata_cell_guid": "88f5b4bb-f4c1-4bad-a0c7-b2592687b422"
            },
            "attachments": {}
        },
        {
            "cell_type": "code",
            "source": [
                "SELECT *\r\n",
                "FROM kolcsonzesek\r\n",
                "WHERE ki_datum BETWEEN '2005.01.01' AND '2007.01.01'"
            ],
            "metadata": {
                "azdata_cell_guid": "e9de5726-f036-4fb9-8c33-a873955ed886",
                "language": "sql"
            },
            "outputs": [
                {
                    "output_type": "display_data",
                    "data": {
                        "text/html": "(2 rows affected)"
                    },
                    "metadata": {}
                },
                {
                    "output_type": "display_data",
                    "data": {
                        "text/html": "Total execution time: 00:00:00.034"
                    },
                    "metadata": {}
                },
                {
                    "output_type": "execute_result",
                    "execution_count": 3,
                    "data": {
                        "application/vnd.dataresource+json": {
                            "schema": {
                                "fields": [
                                    {
                                        "name": "ID"
                                    },
                                    {
                                        "name": "ki"
                                    },
                                    {
                                        "name": "mit"
                                    },
                                    {
                                        "name": "ki_datum"
                                    },
                                    {
                                        "name": "vissza_datum"
                                    }
                                ]
                            },
                            "data": [
                                {
                                    "ID": "13",
                                    "ki": "1",
                                    "mit": "3",
                                    "ki_datum": "2006-10-01",
                                    "vissza_datum": "2006-10-10"
                                },
                                {
                                    "ID": "14",
                                    "ki": "2",
                                    "mit": "3",
                                    "ki_datum": "2006-10-02",
                                    "vissza_datum": "2006-10-09"
                                }
                            ]
                        },
                        "text/html": "<table><tr><th>ID</th><th>ki</th><th>mit</th><th>ki_datum</th><th>vissza_datum</th></tr><tr><td>13</td><td>1</td><td>3</td><td>2006-10-01</td><td>2006-10-10</td></tr><tr><td>14</td><td>2</td><td>3</td><td>2006-10-02</td><td>2006-10-09</td></tr></table>"
                    },
                    "metadata": {}
                }
            ],
            "execution_count": 3
        },
        {
            "cell_type": "markdown",
            "source": [
                "3. Melyek azok a tagok, akiknek kedvenc stílusa a játék, és nevük a-ra végződik?\n",
                "\n",
                "  \n",
                "\n",
                "a.  Csak a tagok neve jelenjen meg, az oszlop neve Név legyen"
            ],
            "metadata": {
                "azdata_cell_guid": "9e7249de-1b59-43d8-84b1-26fa7d81fc5a"
            },
            "attachments": {}
        },
        {
            "cell_type": "code",
            "source": [
                "SELECT nev AS 'Név'\r\n",
                "FROM tagok\r\n",
                "WHERE kedvencstilus = 'játék'\r\n",
                "      AND\r\n",
                "      RIGHT(nev,1) = 'a'"
            ],
            "metadata": {
                "azdata_cell_guid": "6405d3e8-a9b1-45d7-aa76-3b1e785ef6cc",
                "language": "sql"
            },
            "outputs": [
                {
                    "output_type": "display_data",
                    "data": {
                        "text/html": "(2 rows affected)"
                    },
                    "metadata": {}
                },
                {
                    "output_type": "display_data",
                    "data": {
                        "text/html": "Total execution time: 00:00:00.045"
                    },
                    "metadata": {}
                },
                {
                    "output_type": "execute_result",
                    "execution_count": 8,
                    "data": {
                        "application/vnd.dataresource+json": {
                            "schema": {
                                "fields": [
                                    {
                                        "name": "Név"
                                    }
                                ]
                            },
                            "data": [
                                {
                                    "Név": "Bodó Kinga"
                                },
                                {
                                    "Név": "Garay Magdolna"
                                }
                            ]
                        },
                        "text/html": "<table><tr><th>Név</th></tr><tr><td>Bodó Kinga</td></tr><tr><td>Garay Magdolna</td></tr></table>"
                    },
                    "metadata": {}
                }
            ],
            "execution_count": 8
        },
        {
            "cell_type": "markdown",
            "source": [
                "4. Listázzuk egy oszlopban a tagok nevét, címét és kedvenc stílusát összefűzve! \n",
                "\n",
                "  \n",
                "\n",
                "a.  A nevet, címet és a stílust kötőjellel válasszuk el\n",
                "\n",
                "b.  A kötőjelek előtt és után legyen 1-1 szóköz\n",
                "\n",
                "c.  Az oszlop neve legyen TAG\n",
                "\n",
                "d.  Kinga keresztnevű tagok ne legyenek benne a listában"
            ],
            "metadata": {
                "azdata_cell_guid": "6478e469-c094-472c-a772-ccd5b5c61516"
            },
            "attachments": {}
        },
        {
            "cell_type": "code",
            "source": [
                "SELECT nev + ' - ' + cim + ' - ' + kedvencstilus AS 'TAG'\r\n",
                "FROM tagok\r\n",
                "WHERE nev NOT LIKE '%Kinga%'"
            ],
            "metadata": {
                "azdata_cell_guid": "02031ea2-3838-458d-839c-228e3b362b61",
                "language": "sql"
            },
            "outputs": [
                {
                    "output_type": "display_data",
                    "data": {
                        "text/html": "(15 rows affected)"
                    },
                    "metadata": {}
                },
                {
                    "output_type": "display_data",
                    "data": {
                        "text/html": "Total execution time: 00:00:00.031"
                    },
                    "metadata": {}
                },
                {
                    "output_type": "execute_result",
                    "execution_count": 13,
                    "data": {
                        "application/vnd.dataresource+json": {
                            "schema": {
                                "fields": [
                                    {
                                        "name": "TAG"
                                    }
                                ]
                            },
                            "data": [
                                {
                                    "TAG": "Bakk Csaba József - Ulászló u. 22. - játék"
                                },
                                {
                                    "TAG": "Kollár Zsófia - Tenkes u. 7/a I/4. - történelem"
                                },
                                {
                                    "TAG": "Mohai Mónika - Pasaréti út 23. - történelem"
                                },
                                {
                                    "TAG": "Ivicsics Miklós - Mészöly u. 4.  - sport"
                                },
                                {
                                    "TAG": "Braiwish Dalal-Brigitte - Kosztolányi tér 7. - földrajz"
                                },
                                {
                                    "TAG": "Hajnáczky Gábor - Kende u. 14. - történelem"
                                },
                                {
                                    "TAG": "Lázár Gergely - Halom u. 15. - játék"
                                },
                                {
                                    "TAG": "Göttinger Pál - Forrás tér 14. - sport"
                                },
                                {
                                    "TAG": "Bernáth Margit - Felsővár u. 55/c - történelem"
                                },
                                {
                                    "TAG": "Garay Magdolna - Bartók B. út 66. - játék"
                                },
                                {
                                    "TAG": "Ligeti Orsolya - Bartók B. u. 61. I/6. - sport"
                                },
                                {
                                    "TAG": "Király Róbert - Bajcsy Zs. u. 19/b - földrajz"
                                },
                                {
                                    "TAG": "Burai-Kovács Anikó - Bajcsy u. 1. - sport"
                                },
                                {
                                    "TAG": "Czimmermann Zsolt - Árpád u. 3. - földrajz"
                                },
                                {
                                    "TAG": "Boronkay Péter - Ábel Jenő  u. 31. - földrajz"
                                }
                            ]
                        },
                        "text/html": "<table><tr><th>TAG</th></tr><tr><td>Bakk Csaba József - Ulászló u. 22. - játék</td></tr><tr><td>Kollár Zsófia - Tenkes u. 7/a I/4. - történelem</td></tr><tr><td>Mohai Mónika - Pasaréti út 23. - történelem</td></tr><tr><td>Ivicsics Miklós - Mészöly u. 4.  - sport</td></tr><tr><td>Braiwish Dalal-Brigitte - Kosztolányi tér 7. - földrajz</td></tr><tr><td>Hajnáczky Gábor - Kende u. 14. - történelem</td></tr><tr><td>Lázár Gergely - Halom u. 15. - játék</td></tr><tr><td>Göttinger Pál - Forrás tér 14. - sport</td></tr><tr><td>Bernáth Margit - Felsővár u. 55/c - történelem</td></tr><tr><td>Garay Magdolna - Bartók B. út 66. - játék</td></tr><tr><td>Ligeti Orsolya - Bartók B. u. 61. I/6. - sport</td></tr><tr><td>Király Róbert - Bajcsy Zs. u. 19/b - földrajz</td></tr><tr><td>Burai-Kovács Anikó - Bajcsy u. 1. - sport</td></tr><tr><td>Czimmermann Zsolt - Árpád u. 3. - földrajz</td></tr><tr><td>Boronkay Péter - Ábel Jenő  u. 31. - földrajz</td></tr></table>"
                    },
                    "metadata": {}
                }
            ],
            "execution_count": 13
        },
        {
            "cell_type": "markdown",
            "source": [
                "5. Mennyi lenne a dvd-k nettó ára, ha 20%-kal csökkenne? \n",
                "\n",
                "  \n",
                "\n",
                "a.  Csak a dvd-k címét és a csökkentett árat jelenítsük meg\n",
                "\n",
                "b.  A csökkentett árat nevezzük el diszkont\\_ar-nak"
            ],
            "metadata": {
                "azdata_cell_guid": "9edbbaf9-c276-4898-9a01-e1b2993c089f"
            },
            "attachments": {}
        },
        {
            "cell_type": "code",
            "source": [
                "SELECT cim,\r\n",
                "       ROUND(nettoar*0.8,0) AS 'diszkont_ar'\r\n",
                "FROM dvd"
            ],
            "metadata": {
                "azdata_cell_guid": "5ad5fdcb-2878-4111-861a-833bcd50e935",
                "language": "sql"
            },
            "outputs": [
                {
                    "output_type": "display_data",
                    "data": {
                        "text/html": "(318 rows affected)"
                    },
                    "metadata": {}
                },
                {
                    "output_type": "display_data",
                    "data": {
                        "text/html": "Total execution time: 00:00:00.124"
                    },
                    "metadata": {}
                },
                {
                    "output_type": "execute_result",
                    "execution_count": 21,
                    "data": {
                        "application/vnd.dataresource+json": {
                            "schema": {
                                "fields": [
                                    {
                                        "name": "cim"
                                    },
                                    {
                                        "name": "diszkont_ar"
                                    }
                                ]
                            },
                            "data": [
                                {
                                    "cim": "NULL",
                                    "diszkont_ar": "3087"
                                },
                                {
                                    "cim": "A II. világháború története (1999)",
                                    "diszkont_ar": "3395"
                                },
                                {
                                    "cim": "3D Dinosaur - adventure",
                                    "diszkont_ar": "4033"
                                },
                                {
                                    "cim": "3D virtuális origami (2000)",
                                    "diszkont_ar": "4284"
                                },
                                {
                                    "cim": "Az 1848-1849-iki szabadságharc története (2002)",
                                    "diszkont_ar": "4560"
                                },
                                {
                                    "cim": "Ablak zsiráf (1999)",
                                    "diszkont_ar": "2832"
                                },
                                {
                                    "cim": "Ady Endre összes művei (1999)",
                                    "diszkont_ar": "3393"
                                },
                                {
                                    "cim": "Afrika",
                                    "diszkont_ar": "4254"
                                },
                                {
                                    "cim": "Age of Empires (2000)",
                                    "diszkont_ar": "3586"
                                },
                                {
                                    "cim": "Airport Inc.",
                                    "diszkont_ar": "3449"
                                },
                                {
                                    "cim": "American Rodeo : BullRider 2000 (2001)",
                                    "diszkont_ar": "4473"
                                },
                                {
                                    "cim": "Angol : 8-10 éveseknek (2002)",
                                    "diszkont_ar": "3882"
                                },
                                {
                                    "cim": "Angol és német nyelvtani gyakorlatok (2002)",
                                    "diszkont_ar": "3925"
                                },
                                {
                                    "cim": "Angol szótanító CD-ROM",
                                    "diszkont_ar": "3559"
                                },
                                {
                                    "cim": "Angol szótanító CD-ROM",
                                    "diszkont_ar": "3555"
                                },
                                {
                                    "cim": "Angol szótár (1996)",
                                    "diszkont_ar": "2807"
                                },
                                {
                                    "cim": "Angol-magyar, Magyar-angol hangosszótár",
                                    "diszkont_ar": "4121"
                                },
                                {
                                    "cim": "Angol-magyar nagyszótár (Halász Előd)",
                                    "diszkont_ar": "4510"
                                },
                                {
                                    "cim": "Az áramvonalas fakanál",
                                    "diszkont_ar": "4565"
                                },
                                {
                                    "cim": "Arany János: A bajusz (2002)",
                                    "diszkont_ar": "2713"
                                },
                                {
                                    "cim": "Az Árpád-ház története",
                                    "diszkont_ar": "4018"
                                },
                                {
                                    "cim": "Art Attack (1998)",
                                    "diszkont_ar": "3131"
                                },
                                {
                                    "cim": "Art puzzle (1998)",
                                    "diszkont_ar": "4629"
                                },
                                {
                                    "cim": "Az ásványok világa",
                                    "diszkont_ar": "4499"
                                },
                                {
                                    "cim": "Ausztrália",
                                    "diszkont_ar": "4261"
                                },
                                {
                                    "cim": "Auto 2000 - Kerékvilág",
                                    "diszkont_ar": "3570"
                                },
                                {
                                    "cim": "Ázsia (2000)",
                                    "diszkont_ar": "2498"
                                },
                                {
                                    "cim": "Biblia (1995)",
                                    "diszkont_ar": "3552"
                                },
                                {
                                    "cim": "Biológia '97",
                                    "diszkont_ar": "4434"
                                },
                                {
                                    "cim": "Biológia (2000)",
                                    "diszkont_ar": "3055"
                                },
                                {
                                    "cim": "Biológia (2001)",
                                    "diszkont_ar": "3034"
                                },
                                {
                                    "cim": "Biológia : 12-14 éveseknek (2003)",
                                    "diszkont_ar": "2786"
                                },
                                {
                                    "cim": "Blinky Bill : A fantasztikus léggömbkaland",
                                    "diszkont_ar": "3261"
                                },
                                {
                                    "cim": "Broken Sword II. (cop. 1997)",
                                    "diszkont_ar": "3602"
                                },
                                {
                                    "cim": "Budapest kalauz",
                                    "diszkont_ar": "3243"
                                },
                                {
                                    "cim": "Budapest Museum",
                                    "diszkont_ar": "4234"
                                },
                                {
                                    "cim": "Buggy",
                                    "diszkont_ar": "4664"
                                },
                                {
                                    "cim": "Byte Magyarország (2002)",
                                    "diszkont_ar": "2622"
                                },
                                {
                                    "cim": "Caesar III.",
                                    "diszkont_ar": "3309"
                                },
                                {
                                    "cim": "Capitalism II. (2001)",
                                    "diszkont_ar": "4850"
                                },
                                {
                                    "cim": "Capitalism Plus",
                                    "diszkont_ar": "4024"
                                },
                                {
                                    "cim": "Castle Explorer",
                                    "diszkont_ar": "2966"
                                },
                                {
                                    "cim": "CD Panoráma 1-4. (1998)",
                                    "diszkont_ar": "4338"
                                },
                                {
                                    "cim": "Computer iskola (1998)",
                                    "diszkont_ar": "4208"
                                },
                                {
                                    "cim": "Csizmás kandúr (1998)",
                                    "diszkont_ar": "4746"
                                },
                                {
                                    "cim": "Csodálatos univerzum (1997)",
                                    "diszkont_ar": "3270"
                                },
                                {
                                    "cim": "Dél-Amerika (1999)",
                                    "diszkont_ar": "3199"
                                },
                                {
                                    "cim": "Dementia 1-5. (1997)",
                                    "diszkont_ar": "4735"
                                },
                                {
                                    "cim": "Deutsch: Anfanger (kezdő) + Telepítő ",
                                    "diszkont_ar": "4506"
                                },
                                {
                                    "cim": "Deutsch: Fortgeschrittene (haladó) + Installation",
                                    "diszkont_ar": "4627"
                                },
                                {
                                    "cim": "Deutsch: Mittelstufe (középhaladó)+ Telepítő",
                                    "diszkont_ar": "3502"
                                },
                                {
                                    "cim": "Diablo",
                                    "diszkont_ar": "4775"
                                },
                                {
                                    "cim": "Diablo II. (2000)",
                                    "diszkont_ar": "3920"
                                },
                                {
                                    "cim": "Dicső napok és hétköznapok 1848 - Digitális forrásgyűjtemény 1.",
                                    "diszkont_ar": "4489"
                                },
                                {
                                    "cim": "Dreams to Reality 1-2. (1997)",
                                    "diszkont_ar": "3759"
                                },
                                {
                                    "cim": "Duke Nukem 3D",
                                    "diszkont_ar": "4379"
                                },
                                {
                                    "cim": "Dungeon Keeper 2. (1999)",
                                    "diszkont_ar": "2695"
                                },
                                {
                                    "cim": "E-Games : Collector's Edition (2001)",
                                    "diszkont_ar": "4466"
                                },
                                {
                                    "cim": "Éléstár (1998)",
                                    "diszkont_ar": "2606"
                                },
                                {
                                    "cim": "Élet a polgárosodó Magyarországon (2001)",
                                    "diszkont_ar": "4458"
                                },
                                {
                                    "cim": "Életképek 1848 (1998)",
                                    "diszkont_ar": "3369"
                                },
                                {
                                    "cim": "Az ember tragédiája",
                                    "diszkont_ar": "3436"
                                },
                                {
                                    "cim": "Encarta World Atlas '99 1-2. (1998)",
                                    "diszkont_ar": "4267"
                                },
                                {
                                    "cim": "Enemy Engaged RAH-66",
                                    "diszkont_ar": "4174"
                                },
                                {
                                    "cim": "English 1-2. + Telepítő",
                                    "diszkont_ar": "4172"
                                },
                                {
                                    "cim": "English: Intermediate (haladó)",
                                    "diszkont_ar": "2902"
                                },
                                {
                                    "cim": "English by Stealth  lásd: Lopva angolul",
                                    "diszkont_ar": "3582"
                                },
                                {
                                    "cim": "Erdély (1996)",
                                    "diszkont_ar": "3999"
                                },
                                {
                                    "cim": "Espanol: Intermedio + Telepítő",
                                    "diszkont_ar": "3131"
                                },
                                {
                                    "cim": "Espanol: Principiante + Telepítő",
                                    "diszkont_ar": "4706"
                                },
                                {
                                    "cim": "Észak-Amerika",
                                    "diszkont_ar": "3195"
                                },
                                {
                                    "cim": "Európa",
                                    "diszkont_ar": "4216"
                                },
                                {
                                    "cim": "The F.A. Premier League Stars 2001",
                                    "diszkont_ar": "3097"
                                },
                                {
                                    "cim": "Felvételi példatár : Angol",
                                    "diszkont_ar": "3101"
                                },
                                {
                                    "cim": "Felvételi példatár : Biológia, földrajz",
                                    "diszkont_ar": "2572"
                                },
                                {
                                    "cim": "Felvételi példatár : Kémia, fizika",
                                    "diszkont_ar": "4681"
                                },
                                {
                                    "cim": "Felvételi példatár : Magyar nyelv és irodalom",
                                    "diszkont_ar": "4764"
                                },
                                {
                                    "cim": "Felvételi példatár : Matematika",
                                    "diszkont_ar": "4007"
                                },
                                {
                                    "cim": "Felvételi példatár : Német",
                                    "diszkont_ar": "2482"
                                },
                                {
                                    "cim": "FIFA, 2000 (1999)",
                                    "diszkont_ar": "4047"
                                },
                                {
                                    "cim": "Fighting Force (1998)",
                                    "diszkont_ar": "3840"
                                },
                                {
                                    "cim": "Final Liberation (1997)",
                                    "diszkont_ar": "3706"
                                },
                                {
                                    "cim": "Fitness mesterfokon / Béres Alexandra (2001)",
                                    "diszkont_ar": "3686"
                                },
                                {
                                    "cim": "Fizika : 12-14 éveseknek (2002)",
                                    "diszkont_ar": "2987"
                                },
                                {
                                    "cim": "Fizika felkészítő az érettségi és felvételi vizsgára",
                                    "diszkont_ar": "3848"
                                },
                                {
                                    "cim": "Fizika világa (2001)",
                                    "diszkont_ar": "4610"
                                },
                                {
                                    "cim": "A Föld élővilága",
                                    "diszkont_ar": "4720"
                                },
                                {
                                    "cim": "Földrajz: 10-14 éveseknek (2002)",
                                    "diszkont_ar": "3144"
                                },
                                {
                                    "cim": "Földrajz: érettségi előkészítő (2002)",
                                    "diszkont_ar": "2538"
                                },
                                {
                                    "cim": "Francais 1-2. + Telepítő",
                                    "diszkont_ar": "3230"
                                },
                                {
                                    "cim": "Francais: Débutan (kezdő) + Telepítő",
                                    "diszkont_ar": "3016"
                                },
                                {
                                    "cim": "Francais: Moyen + Telepítő",
                                    "diszkont_ar": "4495"
                                },
                                {
                                    "cim": "Francia-magyar szótár",
                                    "diszkont_ar": "2853"
                                },
                                {
                                    "cim": "Funschool in Dreamland (1995)",
                                    "diszkont_ar": "3813"
                                },
                                {
                                    "cim": "Geolexikon 4.2 : földtani adatbázis (2002)",
                                    "diszkont_ar": "3682"
                                },
                                {
                                    "cim": "Gépírás 2000",
                                    "diszkont_ar": "3149"
                                },
                                {
                                    "cim": "Gondolattár: aforizmák, szállóigék",
                                    "diszkont_ar": "4277"
                                },
                                {
                                    "cim": "GTA 2",
                                    "diszkont_ar": "4004"
                                },
                                {
                                    "cim": "Hadiflották I. (2002)",
                                    "diszkont_ar": "4099"
                                },
                                {
                                    "cim": "Hadtudományi lexikon (1998)",
                                    "diszkont_ar": "2812"
                                },
                                {
                                    "cim": "Hajdúböszörmény",
                                    "diszkont_ar": "3025"
                                },
                                {
                                    "cim": "Halak, kétéltűek, hüllők",
                                    "diszkont_ar": "3322"
                                },
                                {
                                    "cim": "Half-Life (1996)",
                                    "diszkont_ar": "4324"
                                },
                                {
                                    "cim": "Half-Life Generation: Game of the Year Edition (2002)",
                                    "diszkont_ar": "2964"
                                },
                                {
                                    "cim": "Half-Life Generation: Counter Strike (2002)",
                                    "diszkont_ar": "4595"
                                },
                                {
                                    "cim": "Half-Life Generation: Blue Shift (2002)",
                                    "diszkont_ar": "4582"
                                },
                                {
                                    "cim": "Harry Potter és a bölcsek köve (2001)",
                                    "diszkont_ar": "3578"
                                },
                                {
                                    "cim": "Haza és haladás",
                                    "diszkont_ar": "2785"
                                },
                                {
                                    "cim": "A hét világcsoda (2001)",
                                    "diszkont_ar": "2530"
                                },
                                {
                                    "cim": "Home Desing 3D (1998)",
                                    "diszkont_ar": "3430"
                                },
                                {
                                    "cim": "Hupikék törpikék: teletransportörp (1999)",
                                    "diszkont_ar": "2488"
                                },
                                {
                                    "cim": "Informatika - Internet - Iskola",
                                    "diszkont_ar": "2986"
                                },
                                {
                                    "cim": "Interaktív angol nyelvész kurzus haladó szint 1-5.",
                                    "diszkont_ar": "3674"
                                },
                                {
                                    "cim": "Interaktív angol nyelvész kurzus kezdő szint",
                                    "diszkont_ar": "3346"
                                },
                                {
                                    "cim": "Interaktív angol nyelvész kurzus középhaladó szint",
                                    "diszkont_ar": "2492"
                                },
                                {
                                    "cim": "Interaktív magyar nyelvtan",
                                    "diszkont_ar": "3823"
                                },
                                {
                                    "cim": "International Rally Championship",
                                    "diszkont_ar": "3112"
                                },
                                {
                                    "cim": "Internet (1996)",
                                    "diszkont_ar": "3947"
                                },
                                {
                                    "cim": "Introduction to Archeology",
                                    "diszkont_ar": "3018"
                                },
                                {
                                    "cim": "Investigating 20th Century Art (1994)",
                                    "diszkont_ar": "3515"
                                },
                                {
                                    "cim": "Az ipari forradalom kora (2000)",
                                    "diszkont_ar": "4066"
                                },
                                {
                                    "cim": "Irodalmi arcképcsarnok",
                                    "diszkont_ar": "3093"
                                },
                                {
                                    "cim": "Irodalom  felkészítő az érettségi és felvételi vizsgára",
                                    "diszkont_ar": "4523"
                                },
                                {
                                    "cim": "Irodalom (1998)",
                                    "diszkont_ar": "4500"
                                },
                                {
                                    "cim": "Italiano (1998) + Installation",
                                    "diszkont_ar": "4349"
                                },
                                {
                                    "cim": "Italiano 1-2. (1998) + Installation",
                                    "diszkont_ar": "4866"
                                },
                                {
                                    "cim": "Italiano 1-2. (1998) + Installation",
                                    "diszkont_ar": "2735"
                                },
                                {
                                    "cim": "Jancsó",
                                    "diszkont_ar": "3363"
                                },
                                {
                                    "cim": "Japán : képes kulturális atlasz (2001)",
                                    "diszkont_ar": "3567"
                                },
                                {
                                    "cim": "Játékfilmek 1963-tól napjainkig",
                                    "diszkont_ar": "2510"
                                },
                                {
                                    "cim": "Játszóház (1998)",
                                    "diszkont_ar": "4239"
                                },
                                {
                                    "cim": "Jókai összes művei (2001)",
                                    "diszkont_ar": "3814"
                                },
                                {
                                    "cim": "József Attila (1998)",
                                    "diszkont_ar": "3096"
                                },
                                {
                                    "cim": "A jövő titkai - Interaktív horoszkóp (1998)",
                                    "diszkont_ar": "4858"
                                },
                                {
                                    "cim": "Kártyaváros",
                                    "diszkont_ar": "2486"
                                },
                                {
                                    "cim": "Kémia Kalauz 2.",
                                    "diszkont_ar": "4075"
                                },
                                {
                                    "cim": "A kémkedés és a hírszerzés története (2002)",
                                    "diszkont_ar": "4676"
                                },
                                {
                                    "cim": "Képes krónika (1996)",
                                    "diszkont_ar": "3145"
                                },
                                {
                                    "cim": "Képtárak (1995)",
                                    "diszkont_ar": "4326"
                                },
                                {
                                    "cim": "Kereszt és félhold",
                                    "diszkont_ar": "3442"
                                },
                                {
                                    "cim": "Kétfejű sas: A Habsburg-uralom Magyarországon (1699-1790)",
                                    "diszkont_ar": "4367"
                                },
                                {
                                    "cim": "Kettős kötődés: Az Osztrák-Magyar Monarchia (1867-1918)",
                                    "diszkont_ar": "3863"
                                },
                                {
                                    "cim": "Kínai falatok",
                                    "diszkont_ar": "3640"
                                },
                                {
                                    "cim": "Királyi könyvek 1-9. kötet",
                                    "diszkont_ar": "2605"
                                },
                                {
                                    "cim": "Királyi könyvek 18-26. kötet",
                                    "diszkont_ar": "4406"
                                },
                                {
                                    "cim": "Királyi könyvek 27-38. kötet : 1703-1740 (2002)",
                                    "diszkont_ar": "4381"
                                },
                                {
                                    "cim": "Kispál és a borz (1998)",
                                    "diszkont_ar": "4584"
                                },
                                {
                                    "cim": "Kossuth Lajos összes munkái (2002)",
                                    "diszkont_ar": "3671"
                                },
                                {
                                    "cim": "Környezetvédelmi kalauz (1999)",
                                    "diszkont_ar": "4406"
                                },
                                {
                                    "cim": "Kötelező olvasmányok könyvtára 1. (2002)",
                                    "diszkont_ar": "2875"
                                },
                                {
                                    "cim": "A kőszívű ember fiai - Egri csillagok",
                                    "diszkont_ar": "4430"
                                },
                                {
                                    "cim": "A kutyák: A család kedvencei",
                                    "diszkont_ar": "3970"
                                },
                                {
                                    "cim": "Kutyatár",
                                    "diszkont_ar": "4188"
                                },
                                {
                                    "cim": "KvízIQ : A hét világcsoda (2001)",
                                    "diszkont_ar": "2761"
                                },
                                {
                                    "cim": "Lakáskultúra 2000 (2000)",
                                    "diszkont_ar": "4678"
                                },
                                {
                                    "cim": "Lakáskultúra 1999 (1999)",
                                    "diszkont_ar": "4331"
                                },
                                {
                                    "cim": "Lakáskultúra 1998 (1998)",
                                    "diszkont_ar": "4393"
                                },
                                {
                                    "cim": "Lakáskultúra 1997 (1997)",
                                    "diszkont_ar": "2735"
                                },
                                {
                                    "cim": "Lakáskultúra 1996 (1996)",
                                    "diszkont_ar": "3367"
                                },
                                {
                                    "cim": "Lands of Lore II. 1-4. (1997)",
                                    "diszkont_ar": "3450"
                                },
                                {
                                    "cim": "Landscape Design 3D (1998)",
                                    "diszkont_ar": "3961"
                                },
                                {
                                    "cim": "Legféltettebb természeti értékeink",
                                    "diszkont_ar": "4066"
                                },
                                {
                                    "cim": "Legszebb vadnövényeink",
                                    "diszkont_ar": "3550"
                                },
                                {
                                    "cim": "Leonardo da Vinci",
                                    "diszkont_ar": "4094"
                                },
                                {
                                    "cim": "Lilenthal Andor sakkjátszmái",
                                    "diszkont_ar": "2915"
                                },
                                {
                                    "cim": "Lopva angolul /English by Stealth 1.",
                                    "diszkont_ar": "4345"
                                },
                                {
                                    "cim": "Lopva angolul /English by Stealth 2.",
                                    "diszkont_ar": "3678"
                                },
                                {
                                    "cim": "Lopva angolul /English by Stealth 3.",
                                    "diszkont_ar": "3881"
                                },
                                {
                                    "cim": "Lovagkirályok (1301-1437) (1997)",
                                    "diszkont_ar": "3494"
                                },
                                {
                                    "cim": "LoveQ, SexQ : szerelmi intelligencia (2001)",
                                    "diszkont_ar": "2901"
                                },
                                {
                                    "cim": "M1 Tank (1998)",
                                    "diszkont_ar": "4785"
                                },
                                {
                                    "cim": "Mackó úr (2002)",
                                    "diszkont_ar": "3706"
                                },
                                {
                                    "cim": "Madárdalos kirándulások - Madártani oktató CD-ROM (1999)",
                                    "diszkont_ar": "2726"
                                },
                                {
                                    "cim": "Magyar bélyegek katalógusa",
                                    "diszkont_ar": "3228"
                                },
                                {
                                    "cim": "Magyar fontok '97",
                                    "diszkont_ar": "3076"
                                },
                                {
                                    "cim": "A Magyar Koronázási Jelvények",
                                    "diszkont_ar": "3298"
                                },
                                {
                                    "cim": "Magyar nyelv és irodalom",
                                    "diszkont_ar": "3763"
                                },
                                {
                                    "cim": "Magyar színházművészet a világban",
                                    "diszkont_ar": "4126"
                                },
                                {
                                    "cim": "Magyarország, 1944-1956 (2001)",
                                    "diszkont_ar": "3937"
                                },
                                {
                                    "cim": "Magyarország, 1944-1956 (2001)",
                                    "diszkont_ar": "2938"
                                },
                                {
                                    "cim": "Magyarország Nemzeti Parkjai I.",
                                    "diszkont_ar": "2678"
                                },
                                {
                                    "cim": "Magyarország Nemzeti Parkjai II.",
                                    "diszkont_ar": "2702"
                                },
                                {
                                    "cim": "Magyarországi várak (1998)",
                                    "diszkont_ar": "4367"
                                },
                                {
                                    "cim": "Mahjongg Master (1998)",
                                    "diszkont_ar": "4338"
                                },
                                {
                                    "cim": "Manó Angol 1.",
                                    "diszkont_ar": "4682"
                                },
                                {
                                    "cim": "Manó Angol 1. (2002)",
                                    "diszkont_ar": "4841"
                                },
                                {
                                    "cim": "Manó Angol 2.",
                                    "diszkont_ar": "4282"
                                },
                                {
                                    "cim": "Manó Angol 2. (2000)",
                                    "diszkont_ar": "4854"
                                },
                                {
                                    "cim": "Manó Élővilág",
                                    "diszkont_ar": "2779"
                                },
                                {
                                    "cim": "Manó Élővilág (2002)",
                                    "diszkont_ar": "3905"
                                },
                                {
                                    "cim": "Manó IQ (2001)",
                                    "diszkont_ar": "4306"
                                },
                                {
                                    "cim": "Manó Kaland (2002)",
                                    "diszkont_ar": "4774"
                                },
                                {
                                    "cim": "Manó Magyarország (2002)",
                                    "diszkont_ar": "3320"
                                },
                                {
                                    "cim": "Manó Matek 1.",
                                    "diszkont_ar": "4796"
                                },
                                {
                                    "cim": "Manó Matek 1. (2002)",
                                    "diszkont_ar": "4317"
                                },
                                {
                                    "cim": "Manó Matek 2. (1999)",
                                    "diszkont_ar": "4454"
                                },
                                {
                                    "cim": "Manó Matek 2. (1999)",
                                    "diszkont_ar": "2829"
                                },
                                {
                                    "cim": "Manó Matek 3.",
                                    "diszkont_ar": "3842"
                                },
                                {
                                    "cim": "Manó Muzsika",
                                    "diszkont_ar": "3997"
                                },
                                {
                                    "cim": "Manó Muzsika",
                                    "diszkont_ar": "2713"
                                },
                                {
                                    "cim": "Manó Német 2.",
                                    "diszkont_ar": "3714"
                                },
                                {
                                    "cim": "Manó Olvasás 1.",
                                    "diszkont_ar": "4676"
                                },
                                {
                                    "cim": "Manó Puzzle (2002)",
                                    "diszkont_ar": "4862"
                                },
                                {
                                    "cim": "Matematika (1998)",
                                    "diszkont_ar": "2484"
                                },
                                {
                                    "cim": "Matematika felkészítő az érettségi és felvételi vizsgára",
                                    "diszkont_ar": "3693"
                                },
                                {
                                    "cim": "Matematika kalauz (1997)",
                                    "diszkont_ar": "2652"
                                },
                                {
                                    "cim": "Mig-29 (1998)",
                                    "diszkont_ar": "4032"
                                },
                                {
                                    "cim": "Mikszáth Kálmán összes művei",
                                    "diszkont_ar": "3829"
                                },
                                {
                                    "cim": "Mini Manó Tavasz",
                                    "diszkont_ar": "3782"
                                },
                                {
                                    "cim": "MoBi Mouse: A fordító egér",
                                    "diszkont_ar": "4029"
                                },
                                {
                                    "cim": "Monopoly Junior",
                                    "diszkont_ar": "3179"
                                },
                                {
                                    "cim": "Mons Sacer Pannoniae (2001)",
                                    "diszkont_ar": "3528"
                                },
                                {
                                    "cim": "Moving Puzzle Action Flight (2000)",
                                    "diszkont_ar": "4382"
                                },
                                {
                                    "cim": "Multimédiás Menedzsment Könyvtár 1. - Változásmenedzsment",
                                    "diszkont_ar": "4846"
                                },
                                {
                                    "cim": "Multimédiás Menedzsment Könyvtár 2. - Önszervezés",
                                    "diszkont_ar": "2623"
                                },
                                {
                                    "cim": "Musique! (1997)",
                                    "diszkont_ar": "4269"
                                },
                                {
                                    "cim": "Művészet és mesterség",
                                    "diszkont_ar": "4878"
                                },
                                {
                                    "cim": "Művészet és művészek (2002)",
                                    "diszkont_ar": "2792"
                                },
                                {
                                    "cim": "Nagy képes világtörténet (Matczáli Henrik) (1998)",
                                    "diszkont_ar": "3510"
                                },
                                {
                                    "cim": "Nagy vicc tár",
                                    "diszkont_ar": "4458"
                                },
                                {
                                    "cim": "A Nagybányai Festőiskola (1998)",
                                    "diszkont_ar": "3902"
                                },
                                {
                                    "cim": "NASA 1.",
                                    "diszkont_ar": "4774"
                                },
                                {
                                    "cim": "NASA 2.",
                                    "diszkont_ar": "3318"
                                },
                                {
                                    "cim": "Na, So Was? - Minden helyzetben otthonosan",
                                    "diszkont_ar": "2880"
                                },
                                {
                                    "cim": "Német : 8-10 éveseknek (2002)",
                                    "diszkont_ar": "3003"
                                },
                                {
                                    "cim": "Német szótanító CD-ROM",
                                    "diszkont_ar": "2650"
                                },
                                {
                                    "cim": "Németh László összes műve",
                                    "diszkont_ar": "3598"
                                },
                                {
                                    "cim": "New York : a tragédiák városa (2001)",
                                    "diszkont_ar": "2978"
                                },
                                {
                                    "cim": "NHL 2001",
                                    "diszkont_ar": "4194"
                                },
                                {
                                    "cim": "Nincs királyi út - A matematika kultúrtörténete",
                                    "diszkont_ar": "3482"
                                },
                                {
                                    "cim": "Nyelvész : Angol és német haladóknak (1997)",
                                    "diszkont_ar": "2818"
                                },
                                {
                                    "cim": "Nyelvtan összefoglaló : érettségi előkészítő (2002)",
                                    "diszkont_ar": "2950"
                                },
                                {
                                    "cim": "Az óceán világa - Maldiv szigetek (2000)",
                                    "diszkont_ar": "4666"
                                },
                                {
                                    "cim": "Ókori lexikon",
                                    "diszkont_ar": "2498"
                                },
                                {
                                    "cim": "Olasz-magyar, magyar-olasz digitális szótár",
                                    "diszkont_ar": "3286"
                                },
                                {
                                    "cim": "Olasz szótanító CD-ROM",
                                    "diszkont_ar": "4086"
                                },
                                {
                                    "cim": "Orosz (1998)",
                                    "diszkont_ar": "4807"
                                },
                                {
                                    "cim": "Orosz-magyar nagyszótár",
                                    "diszkont_ar": "3733"
                                },
                                {
                                    "cim": "Az Országos Széchényi Könyvtár corvinái, 2002 (2002)",
                                    "diszkont_ar": "3802"
                                },
                                {
                                    "cim": "Az Osztrák-Magyar Monarchia írásban és képekben (2001)",
                                    "diszkont_ar": "3487"
                                },
                                {
                                    "cim": "Paddle Bash (2001)",
                                    "diszkont_ar": "3150"
                                },
                                {
                                    "cim": "Pannon Enciklopédia (1998)",
                                    "diszkont_ar": "3685"
                                },
                                {
                                    "cim": "Pannonhalmi Főapátság (2001)",
                                    "diszkont_ar": "4654"
                                },
                                {
                                    "cim": "Panzer General III: Scorched Earth (2000)",
                                    "diszkont_ar": "4846"
                                },
                                {
                                    "cim": "People's General (1998)",
                                    "diszkont_ar": "4498"
                                },
                                {
                                    "cim": "Petőfi Sándor: Arany Lacinak (2002)",
                                    "diszkont_ar": "4390"
                                },
                                {
                                    "cim": "Petőfi Sándor összes költeményei",
                                    "diszkont_ar": "3026"
                                },
                                {
                                    "cim": "Plane Crazy",
                                    "diszkont_ar": "4009"
                                },
                                {
                                    "cim": "Quake III. (2001)",
                                    "diszkont_ar": "2515"
                                },
                                {
                                    "cim": "Rákóczi-szabadságharc",
                                    "diszkont_ar": "3822"
                                },
                                {
                                    "cim": "Rally Championship",
                                    "diszkont_ar": "2485"
                                },
                                {
                                    "cim": "Rayman: Matek és olvasás",
                                    "diszkont_ar": "3587"
                                },
                                {
                                    "cim": "Re-Volt (1999)",
                                    "diszkont_ar": "3191"
                                },
                                {
                                    "cim": "The Settlers III. 1-2. (1998)",
                                    "diszkont_ar": "3414"
                                },
                                {
                                    "cim": "The Settlers IV. (2001)",
                                    "diszkont_ar": "3314"
                                },
                                {
                                    "cim": "Shanghai (1997)",
                                    "diszkont_ar": "4720"
                                },
                                {
                                    "cim": "The Sims",
                                    "diszkont_ar": "3234"
                                },
                                {
                                    "cim": "Sonic Racer",
                                    "diszkont_ar": "2760"
                                },
                                {
                                    "cim": "Spanyol (1997)",
                                    "diszkont_ar": "3020"
                                },
                                {
                                    "cim": "Spanyol-magyar szótár",
                                    "diszkont_ar": "4587"
                                },
                                {
                                    "cim": "Star Wars: Battle for Naboo",
                                    "diszkont_ar": "2816"
                                },
                                {
                                    "cim": "Star Wars: Force Commander (2001)",
                                    "diszkont_ar": "4628"
                                },
                                {
                                    "cim": "Star Wars : Rogue Squadron 3D",
                                    "diszkont_ar": "4642"
                                },
                                {
                                    "cim": "Supreme Snowboarding",
                                    "diszkont_ar": "3321"
                                },
                                {
                                    "cim": "Szabadítsd ki a kisoroszlánt!",
                                    "diszkont_ar": "4430"
                                },
                                {
                                    "cim": "Szabadságharc 1848-49 (1988)",
                                    "diszkont_ar": "4848"
                                },
                                {
                                    "cim": "A szabadságharc népzenei emlékei",
                                    "diszkont_ar": "4150"
                                },
                                {
                                    "cim": "Szolfézs: Kezdőknek és haladóknak",
                                    "diszkont_ar": "3594"
                                },
                                {
                                    "cim": "Talk To Me Deutsch 2-4.",
                                    "diszkont_ar": "4792"
                                },
                                {
                                    "cim": "Talk To Me English 1.",
                                    "diszkont_ar": "3794"
                                },
                                {
                                    "cim": "Talk To Me Francais 1-2.",
                                    "diszkont_ar": "3978"
                                },
                                {
                                    "cim": "Tankok, tüzérség (2002)",
                                    "diszkont_ar": "4867"
                                },
                                {
                                    "cim": "Tanulj tovább! 2000 (2000)",
                                    "diszkont_ar": "3448"
                                },
                                {
                                    "cim": "Táplálkozás, életmód mesterfokon (2002)",
                                    "diszkont_ar": "3584"
                                },
                                {
                                    "cim": "Target English (1998)",
                                    "diszkont_ar": "4849"
                                },
                                {
                                    "cim": "Tarzan",
                                    "diszkont_ar": "2990"
                                },
                                {
                                    "cim": "Terrorizmus (2002)",
                                    "diszkont_ar": "3902"
                                },
                                {
                                    "cim": "Testbeszéd (1998)",
                                    "diszkont_ar": "4306"
                                },
                                {
                                    "cim": "Tesztre készen: angol (1998)",
                                    "diszkont_ar": "3326"
                                },
                                {
                                    "cim": "Tesztre készen: német (1998)",
                                    "diszkont_ar": "3653"
                                },
                                {
                                    "cim": "Thaiföldi ízek (1999)",
                                    "diszkont_ar": "4200"
                                },
                                {
                                    "cim": "Timeshock!",
                                    "diszkont_ar": "4127"
                                },
                                {
                                    "cim": "Tomi megmenti a tengert (2000)",
                                    "diszkont_ar": "3460"
                                },
                                {
                                    "cim": "Touché - The Adventures of the Fifth",
                                    "diszkont_ar": "3638"
                                },
                                {
                                    "cim": "Toy Story 2.",
                                    "diszkont_ar": "3047"
                                },
                                {
                                    "cim": "Történelem (1998)",
                                    "diszkont_ar": "2990"
                                },
                                {
                                    "cim": "Történelem : 10-14 éveseknek (2002)",
                                    "diszkont_ar": "2990"
                                },
                                {
                                    "cim": "Történelem : középiskola 1. osztály (2002)",
                                    "diszkont_ar": "2989"
                                },
                                {
                                    "cim": "Történelem : középiskola 4. osztály (2002)",
                                    "diszkont_ar": "4508"
                                },
                                {
                                    "cim": "Traffic Giant",
                                    "diszkont_ar": "3508"
                                },
                                {
                                    "cim": "Train Simulator (2002)",
                                    "diszkont_ar": "4342"
                                },
                                {
                                    "cim": "Trickstyle",
                                    "diszkont_ar": "3721"
                                },
                                {
                                    "cim": "A tudás próbája (2001)",
                                    "diszkont_ar": "4369"
                                },
                                {
                                    "cim": "Turul : 1883-1900 (2002)",
                                    "diszkont_ar": "4190"
                                },
                                {
                                    "cim": "UEFA Champions Leage Season",
                                    "diszkont_ar": "4418"
                                },
                                {
                                    "cim": "Új Könyvek 1994-2000 (2002)",
                                    "diszkont_ar": "4819"
                                },
                                {
                                    "cim": "Az Univerzum története",
                                    "diszkont_ar": "2923"
                                },
                                {
                                    "cim": "Utazás a csillagok között (1998)",
                                    "diszkont_ar": "4564"
                                },
                                {
                                    "cim": "Utazás a Naprendszerben",
                                    "diszkont_ar": "2866"
                                },
                                {
                                    "cim": "Utazás a Naprendszerben 2.",
                                    "diszkont_ar": "4794"
                                },
                                {
                                    "cim": "Úton 2. (1998)",
                                    "diszkont_ar": "4381"
                                },
                                {
                                    "cim": "Üzleti protokoll CD (2002)",
                                    "diszkont_ar": "3913"
                                },
                                {
                                    "cim": "Várak, kastélyok, legendák 1.",
                                    "diszkont_ar": "3390"
                                },
                                {
                                    "cim": "Várak, kastélyok, legendák 2. (2002)",
                                    "diszkont_ar": "2650"
                                },
                                {
                                    "cim": "A varázslatos emberi test (1998)",
                                    "diszkont_ar": "3890"
                                },
                                {
                                    "cim": "Varázslatos szülinap",
                                    "diszkont_ar": "4570"
                                },
                                {
                                    "cim": "Varázslatos történelmi nyomozás",
                                    "diszkont_ar": "3516"
                                },
                                {
                                    "cim": "A városi élet a Római Birodalomban (1999)",
                                    "diszkont_ar": "4599"
                                },
                                {
                                    "cim": "A Vazul-ág (1038-1301) (1997)",
                                    "diszkont_ar": "3248"
                                },
                                {
                                    "cim": "Világatlasz '99 (1998)",
                                    "diszkont_ar": "4319"
                                },
                                {
                                    "cim": "Világatlasz '99 (1998)",
                                    "diszkont_ar": "4162"
                                },
                                {
                                    "cim": "Világatlasz (2001)",
                                    "diszkont_ar": "2757"
                                },
                                {
                                    "cim": "Világirodalom : Az ókortól napjainkig (2001)",
                                    "diszkont_ar": "2876"
                                },
                                {
                                    "cim": "Volt egyszer egy Magyarország",
                                    "diszkont_ar": "4242"
                                },
                                {
                                    "cim": "Warcraft III. (2002)",
                                    "diszkont_ar": "4619"
                                },
                                {
                                    "cim": "William Shakespeare összes művei",
                                    "diszkont_ar": "3550"
                                },
                                {
                                    "cim": "Zielpunkt Deutsch (1997)",
                                    "diszkont_ar": "3315"
                                },
                                {
                                    "cim": "Zöld Ödön a földgömbön",
                                    "diszkont_ar": "4852"
                                }
                            ]
                        },
                        "text/html": "<table><tr><th>cim</th><th>diszkont_ar</th></tr><tr><td>NULL</td><td>3087</td></tr><tr><td>A II. világháború története (1999)</td><td>3395</td></tr><tr><td>3D Dinosaur - adventure</td><td>4033</td></tr><tr><td>3D virtuális origami (2000)</td><td>4284</td></tr><tr><td>Az 1848-1849-iki szabadságharc története (2002)</td><td>4560</td></tr><tr><td>Ablak zsiráf (1999)</td><td>2832</td></tr><tr><td>Ady Endre összes művei (1999)</td><td>3393</td></tr><tr><td>Afrika</td><td>4254</td></tr><tr><td>Age of Empires (2000)</td><td>3586</td></tr><tr><td>Airport Inc.</td><td>3449</td></tr><tr><td>American Rodeo : BullRider 2000 (2001)</td><td>4473</td></tr><tr><td>Angol : 8-10 éveseknek (2002)</td><td>3882</td></tr><tr><td>Angol és német nyelvtani gyakorlatok (2002)</td><td>3925</td></tr><tr><td>Angol szótanító CD-ROM</td><td>3559</td></tr><tr><td>Angol szótanító CD-ROM</td><td>3555</td></tr><tr><td>Angol szótár (1996)</td><td>2807</td></tr><tr><td>Angol-magyar, Magyar-angol hangosszótár</td><td>4121</td></tr><tr><td>Angol-magyar nagyszótár (Halász Előd)</td><td>4510</td></tr><tr><td>Az áramvonalas fakanál</td><td>4565</td></tr><tr><td>Arany János: A bajusz (2002)</td><td>2713</td></tr><tr><td>Az Árpád-ház története</td><td>4018</td></tr><tr><td>Art Attack (1998)</td><td>3131</td></tr><tr><td>Art puzzle (1998)</td><td>4629</td></tr><tr><td>Az ásványok világa</td><td>4499</td></tr><tr><td>Ausztrália</td><td>4261</td></tr><tr><td>Auto 2000 - Kerékvilág</td><td>3570</td></tr><tr><td>Ázsia (2000)</td><td>2498</td></tr><tr><td>Biblia (1995)</td><td>3552</td></tr><tr><td>Biológia &#39;97</td><td>4434</td></tr><tr><td>Biológia (2000)</td><td>3055</td></tr><tr><td>Biológia (2001)</td><td>3034</td></tr><tr><td>Biológia : 12-14 éveseknek (2003)</td><td>2786</td></tr><tr><td>Blinky Bill : A fantasztikus léggömbkaland</td><td>3261</td></tr><tr><td>Broken Sword II. (cop. 1997)</td><td>3602</td></tr><tr><td>Budapest kalauz</td><td>3243</td></tr><tr><td>Budapest Museum</td><td>4234</td></tr><tr><td>Buggy</td><td>4664</td></tr><tr><td>Byte Magyarország (2002)</td><td>2622</td></tr><tr><td>Caesar III.</td><td>3309</td></tr><tr><td>Capitalism II. (2001)</td><td>4850</td></tr><tr><td>Capitalism Plus</td><td>4024</td></tr><tr><td>Castle Explorer</td><td>2966</td></tr><tr><td>CD Panoráma 1-4. (1998)</td><td>4338</td></tr><tr><td>Computer iskola (1998)</td><td>4208</td></tr><tr><td>Csizmás kandúr (1998)</td><td>4746</td></tr><tr><td>Csodálatos univerzum (1997)</td><td>3270</td></tr><tr><td>Dél-Amerika (1999)</td><td>3199</td></tr><tr><td>Dementia 1-5. (1997)</td><td>4735</td></tr><tr><td>Deutsch: Anfanger (kezdő) + Telepítő </td><td>4506</td></tr><tr><td>Deutsch: Fortgeschrittene (haladó) + Installation</td><td>4627</td></tr><tr><td>Deutsch: Mittelstufe (középhaladó)+ Telepítő</td><td>3502</td></tr><tr><td>Diablo</td><td>4775</td></tr><tr><td>Diablo II. (2000)</td><td>3920</td></tr><tr><td>Dicső napok és hétköznapok 1848 - Digitális forrásgyűjtemény 1.</td><td>4489</td></tr><tr><td>Dreams to Reality 1-2. (1997)</td><td>3759</td></tr><tr><td>Duke Nukem 3D</td><td>4379</td></tr><tr><td>Dungeon Keeper 2. (1999)</td><td>2695</td></tr><tr><td>E-Games : Collector&#39;s Edition (2001)</td><td>4466</td></tr><tr><td>Éléstár (1998)</td><td>2606</td></tr><tr><td>Élet a polgárosodó Magyarországon (2001)</td><td>4458</td></tr><tr><td>Életképek 1848 (1998)</td><td>3369</td></tr><tr><td>Az ember tragédiája</td><td>3436</td></tr><tr><td>Encarta World Atlas &#39;99 1-2. (1998)</td><td>4267</td></tr><tr><td>Enemy Engaged RAH-66</td><td>4174</td></tr><tr><td>English 1-2. + Telepítő</td><td>4172</td></tr><tr><td>English: Intermediate (haladó)</td><td>2902</td></tr><tr><td>English by Stealth  lásd: Lopva angolul</td><td>3582</td></tr><tr><td>Erdély (1996)</td><td>3999</td></tr><tr><td>Espanol: Intermedio + Telepítő</td><td>3131</td></tr><tr><td>Espanol: Principiante + Telepítő</td><td>4706</td></tr><tr><td>Észak-Amerika</td><td>3195</td></tr><tr><td>Európa</td><td>4216</td></tr><tr><td>The F.A. Premier League Stars 2001</td><td>3097</td></tr><tr><td>Felvételi példatár : Angol</td><td>3101</td></tr><tr><td>Felvételi példatár : Biológia, földrajz</td><td>2572</td></tr><tr><td>Felvételi példatár : Kémia, fizika</td><td>4681</td></tr><tr><td>Felvételi példatár : Magyar nyelv és irodalom</td><td>4764</td></tr><tr><td>Felvételi példatár : Matematika</td><td>4007</td></tr><tr><td>Felvételi példatár : Német</td><td>2482</td></tr><tr><td>FIFA, 2000 (1999)</td><td>4047</td></tr><tr><td>Fighting Force (1998)</td><td>3840</td></tr><tr><td>Final Liberation (1997)</td><td>3706</td></tr><tr><td>Fitness mesterfokon / Béres Alexandra (2001)</td><td>3686</td></tr><tr><td>Fizika : 12-14 éveseknek (2002)</td><td>2987</td></tr><tr><td>Fizika felkészítő az érettségi és felvételi vizsgára</td><td>3848</td></tr><tr><td>Fizika világa (2001)</td><td>4610</td></tr><tr><td>A Föld élővilága</td><td>4720</td></tr><tr><td>Földrajz: 10-14 éveseknek (2002)</td><td>3144</td></tr><tr><td>Földrajz: érettségi előkészítő (2002)</td><td>2538</td></tr><tr><td>Francais 1-2. + Telepítő</td><td>3230</td></tr><tr><td>Francais: Débutan (kezdő) + Telepítő</td><td>3016</td></tr><tr><td>Francais: Moyen + Telepítő</td><td>4495</td></tr><tr><td>Francia-magyar szótár</td><td>2853</td></tr><tr><td>Funschool in Dreamland (1995)</td><td>3813</td></tr><tr><td>Geolexikon 4.2 : földtani adatbázis (2002)</td><td>3682</td></tr><tr><td>Gépírás 2000</td><td>3149</td></tr><tr><td>Gondolattár: aforizmák, szállóigék</td><td>4277</td></tr><tr><td>GTA 2</td><td>4004</td></tr><tr><td>Hadiflották I. (2002)</td><td>4099</td></tr><tr><td>Hadtudományi lexikon (1998)</td><td>2812</td></tr><tr><td>Hajdúböszörmény</td><td>3025</td></tr><tr><td>Halak, kétéltűek, hüllők</td><td>3322</td></tr><tr><td>Half-Life (1996)</td><td>4324</td></tr><tr><td>Half-Life Generation: Game of the Year Edition (2002)</td><td>2964</td></tr><tr><td>Half-Life Generation: Counter Strike (2002)</td><td>4595</td></tr><tr><td>Half-Life Generation: Blue Shift (2002)</td><td>4582</td></tr><tr><td>Harry Potter és a bölcsek köve (2001)</td><td>3578</td></tr><tr><td>Haza és haladás</td><td>2785</td></tr><tr><td>A hét világcsoda (2001)</td><td>2530</td></tr><tr><td>Home Desing 3D (1998)</td><td>3430</td></tr><tr><td>Hupikék törpikék: teletransportörp (1999)</td><td>2488</td></tr><tr><td>Informatika - Internet - Iskola</td><td>2986</td></tr><tr><td>Interaktív angol nyelvész kurzus haladó szint 1-5.</td><td>3674</td></tr><tr><td>Interaktív angol nyelvész kurzus kezdő szint</td><td>3346</td></tr><tr><td>Interaktív angol nyelvész kurzus középhaladó szint</td><td>2492</td></tr><tr><td>Interaktív magyar nyelvtan</td><td>3823</td></tr><tr><td>International Rally Championship</td><td>3112</td></tr><tr><td>Internet (1996)</td><td>3947</td></tr><tr><td>Introduction to Archeology</td><td>3018</td></tr><tr><td>Investigating 20th Century Art (1994)</td><td>3515</td></tr><tr><td>Az ipari forradalom kora (2000)</td><td>4066</td></tr><tr><td>Irodalmi arcképcsarnok</td><td>3093</td></tr><tr><td>Irodalom  felkészítő az érettségi és felvételi vizsgára</td><td>4523</td></tr><tr><td>Irodalom (1998)</td><td>4500</td></tr><tr><td>Italiano (1998) + Installation</td><td>4349</td></tr><tr><td>Italiano 1-2. (1998) + Installation</td><td>4866</td></tr><tr><td>Italiano 1-2. (1998) + Installation</td><td>2735</td></tr><tr><td>Jancsó</td><td>3363</td></tr><tr><td>Japán : képes kulturális atlasz (2001)</td><td>3567</td></tr><tr><td>Játékfilmek 1963-tól napjainkig</td><td>2510</td></tr><tr><td>Játszóház (1998)</td><td>4239</td></tr><tr><td>Jókai összes művei (2001)</td><td>3814</td></tr><tr><td>József Attila (1998)</td><td>3096</td></tr><tr><td>A jövő titkai - Interaktív horoszkóp (1998)</td><td>4858</td></tr><tr><td>Kártyaváros</td><td>2486</td></tr><tr><td>Kémia Kalauz 2.</td><td>4075</td></tr><tr><td>A kémkedés és a hírszerzés története (2002)</td><td>4676</td></tr><tr><td>Képes krónika (1996)</td><td>3145</td></tr><tr><td>Képtárak (1995)</td><td>4326</td></tr><tr><td>Kereszt és félhold</td><td>3442</td></tr><tr><td>Kétfejű sas: A Habsburg-uralom Magyarországon (1699-1790)</td><td>4367</td></tr><tr><td>Kettős kötődés: Az Osztrák-Magyar Monarchia (1867-1918)</td><td>3863</td></tr><tr><td>Kínai falatok</td><td>3640</td></tr><tr><td>Királyi könyvek 1-9. kötet</td><td>2605</td></tr><tr><td>Királyi könyvek 18-26. kötet</td><td>4406</td></tr><tr><td>Királyi könyvek 27-38. kötet : 1703-1740 (2002)</td><td>4381</td></tr><tr><td>Kispál és a borz (1998)</td><td>4584</td></tr><tr><td>Kossuth Lajos összes munkái (2002)</td><td>3671</td></tr><tr><td>Környezetvédelmi kalauz (1999)</td><td>4406</td></tr><tr><td>Kötelező olvasmányok könyvtára 1. (2002)</td><td>2875</td></tr><tr><td>A kőszívű ember fiai - Egri csillagok</td><td>4430</td></tr><tr><td>A kutyák: A család kedvencei</td><td>3970</td></tr><tr><td>Kutyatár</td><td>4188</td></tr><tr><td>KvízIQ : A hét világcsoda (2001)</td><td>2761</td></tr><tr><td>Lakáskultúra 2000 (2000)</td><td>4678</td></tr><tr><td>Lakáskultúra 1999 (1999)</td><td>4331</td></tr><tr><td>Lakáskultúra 1998 (1998)</td><td>4393</td></tr><tr><td>Lakáskultúra 1997 (1997)</td><td>2735</td></tr><tr><td>Lakáskultúra 1996 (1996)</td><td>3367</td></tr><tr><td>Lands of Lore II. 1-4. (1997)</td><td>3450</td></tr><tr><td>Landscape Design 3D (1998)</td><td>3961</td></tr><tr><td>Legféltettebb természeti értékeink</td><td>4066</td></tr><tr><td>Legszebb vadnövényeink</td><td>3550</td></tr><tr><td>Leonardo da Vinci</td><td>4094</td></tr><tr><td>Lilenthal Andor sakkjátszmái</td><td>2915</td></tr><tr><td>Lopva angolul /English by Stealth 1.</td><td>4345</td></tr><tr><td>Lopva angolul /English by Stealth 2.</td><td>3678</td></tr><tr><td>Lopva angolul /English by Stealth 3.</td><td>3881</td></tr><tr><td>Lovagkirályok (1301-1437) (1997)</td><td>3494</td></tr><tr><td>LoveQ, SexQ : szerelmi intelligencia (2001)</td><td>2901</td></tr><tr><td>M1 Tank (1998)</td><td>4785</td></tr><tr><td>Mackó úr (2002)</td><td>3706</td></tr><tr><td>Madárdalos kirándulások - Madártani oktató CD-ROM (1999)</td><td>2726</td></tr><tr><td>Magyar bélyegek katalógusa</td><td>3228</td></tr><tr><td>Magyar fontok &#39;97</td><td>3076</td></tr><tr><td>A Magyar Koronázási Jelvények</td><td>3298</td></tr><tr><td>Magyar nyelv és irodalom</td><td>3763</td></tr><tr><td>Magyar színházművészet a világban</td><td>4126</td></tr><tr><td>Magyarország, 1944-1956 (2001)</td><td>3937</td></tr><tr><td>Magyarország, 1944-1956 (2001)</td><td>2938</td></tr><tr><td>Magyarország Nemzeti Parkjai I.</td><td>2678</td></tr><tr><td>Magyarország Nemzeti Parkjai II.</td><td>2702</td></tr><tr><td>Magyarországi várak (1998)</td><td>4367</td></tr><tr><td>Mahjongg Master (1998)</td><td>4338</td></tr><tr><td>Manó Angol 1.</td><td>4682</td></tr><tr><td>Manó Angol 1. (2002)</td><td>4841</td></tr><tr><td>Manó Angol 2.</td><td>4282</td></tr><tr><td>Manó Angol 2. (2000)</td><td>4854</td></tr><tr><td>Manó Élővilág</td><td>2779</td></tr><tr><td>Manó Élővilág (2002)</td><td>3905</td></tr><tr><td>Manó IQ (2001)</td><td>4306</td></tr><tr><td>Manó Kaland (2002)</td><td>4774</td></tr><tr><td>Manó Magyarország (2002)</td><td>3320</td></tr><tr><td>Manó Matek 1.</td><td>4796</td></tr><tr><td>Manó Matek 1. (2002)</td><td>4317</td></tr><tr><td>Manó Matek 2. (1999)</td><td>4454</td></tr><tr><td>Manó Matek 2. (1999)</td><td>2829</td></tr><tr><td>Manó Matek 3.</td><td>3842</td></tr><tr><td>Manó Muzsika</td><td>3997</td></tr><tr><td>Manó Muzsika</td><td>2713</td></tr><tr><td>Manó Német 2.</td><td>3714</td></tr><tr><td>Manó Olvasás 1.</td><td>4676</td></tr><tr><td>Manó Puzzle (2002)</td><td>4862</td></tr><tr><td>Matematika (1998)</td><td>2484</td></tr><tr><td>Matematika felkészítő az érettségi és felvételi vizsgára</td><td>3693</td></tr><tr><td>Matematika kalauz (1997)</td><td>2652</td></tr><tr><td>Mig-29 (1998)</td><td>4032</td></tr><tr><td>Mikszáth Kálmán összes művei</td><td>3829</td></tr><tr><td>Mini Manó Tavasz</td><td>3782</td></tr><tr><td>MoBi Mouse: A fordító egér</td><td>4029</td></tr><tr><td>Monopoly Junior</td><td>3179</td></tr><tr><td>Mons Sacer Pannoniae (2001)</td><td>3528</td></tr><tr><td>Moving Puzzle Action Flight (2000)</td><td>4382</td></tr><tr><td>Multimédiás Menedzsment Könyvtár 1. - Változásmenedzsment</td><td>4846</td></tr><tr><td>Multimédiás Menedzsment Könyvtár 2. - Önszervezés</td><td>2623</td></tr><tr><td>Musique! (1997)</td><td>4269</td></tr><tr><td>Művészet és mesterség</td><td>4878</td></tr><tr><td>Művészet és művészek (2002)</td><td>2792</td></tr><tr><td>Nagy képes világtörténet (Matczáli Henrik) (1998)</td><td>3510</td></tr><tr><td>Nagy vicc tár</td><td>4458</td></tr><tr><td>A Nagybányai Festőiskola (1998)</td><td>3902</td></tr><tr><td>NASA 1.</td><td>4774</td></tr><tr><td>NASA 2.</td><td>3318</td></tr><tr><td>Na, So Was? - Minden helyzetben otthonosan</td><td>2880</td></tr><tr><td>Német : 8-10 éveseknek (2002)</td><td>3003</td></tr><tr><td>Német szótanító CD-ROM</td><td>2650</td></tr><tr><td>Németh László összes műve</td><td>3598</td></tr><tr><td>New York : a tragédiák városa (2001)</td><td>2978</td></tr><tr><td>NHL 2001</td><td>4194</td></tr><tr><td>Nincs királyi út - A matematika kultúrtörténete</td><td>3482</td></tr><tr><td>Nyelvész : Angol és német haladóknak (1997)</td><td>2818</td></tr><tr><td>Nyelvtan összefoglaló : érettségi előkészítő (2002)</td><td>2950</td></tr><tr><td>Az óceán világa - Maldiv szigetek (2000)</td><td>4666</td></tr><tr><td>Ókori lexikon</td><td>2498</td></tr><tr><td>Olasz-magyar, magyar-olasz digitális szótár</td><td>3286</td></tr><tr><td>Olasz szótanító CD-ROM</td><td>4086</td></tr><tr><td>Orosz (1998)</td><td>4807</td></tr><tr><td>Orosz-magyar nagyszótár</td><td>3733</td></tr><tr><td>Az Országos Széchényi Könyvtár corvinái, 2002 (2002)</td><td>3802</td></tr><tr><td>Az Osztrák-Magyar Monarchia írásban és képekben (2001)</td><td>3487</td></tr><tr><td>Paddle Bash (2001)</td><td>3150</td></tr><tr><td>Pannon Enciklopédia (1998)</td><td>3685</td></tr><tr><td>Pannonhalmi Főapátság (2001)</td><td>4654</td></tr><tr><td>Panzer General III: Scorched Earth (2000)</td><td>4846</td></tr><tr><td>People&#39;s General (1998)</td><td>4498</td></tr><tr><td>Petőfi Sándor: Arany Lacinak (2002)</td><td>4390</td></tr><tr><td>Petőfi Sándor összes költeményei</td><td>3026</td></tr><tr><td>Plane Crazy</td><td>4009</td></tr><tr><td>Quake III. (2001)</td><td>2515</td></tr><tr><td>Rákóczi-szabadságharc</td><td>3822</td></tr><tr><td>Rally Championship</td><td>2485</td></tr><tr><td>Rayman: Matek és olvasás</td><td>3587</td></tr><tr><td>Re-Volt (1999)</td><td>3191</td></tr><tr><td>The Settlers III. 1-2. (1998)</td><td>3414</td></tr><tr><td>The Settlers IV. (2001)</td><td>3314</td></tr><tr><td>Shanghai (1997)</td><td>4720</td></tr><tr><td>The Sims</td><td>3234</td></tr><tr><td>Sonic Racer</td><td>2760</td></tr><tr><td>Spanyol (1997)</td><td>3020</td></tr><tr><td>Spanyol-magyar szótár</td><td>4587</td></tr><tr><td>Star Wars: Battle for Naboo</td><td>2816</td></tr><tr><td>Star Wars: Force Commander (2001)</td><td>4628</td></tr><tr><td>Star Wars : Rogue Squadron 3D</td><td>4642</td></tr><tr><td>Supreme Snowboarding</td><td>3321</td></tr><tr><td>Szabadítsd ki a kisoroszlánt!</td><td>4430</td></tr><tr><td>Szabadságharc 1848-49 (1988)</td><td>4848</td></tr><tr><td>A szabadságharc népzenei emlékei</td><td>4150</td></tr><tr><td>Szolfézs: Kezdőknek és haladóknak</td><td>3594</td></tr><tr><td>Talk To Me Deutsch 2-4.</td><td>4792</td></tr><tr><td>Talk To Me English 1.</td><td>3794</td></tr><tr><td>Talk To Me Francais 1-2.</td><td>3978</td></tr><tr><td>Tankok, tüzérség (2002)</td><td>4867</td></tr><tr><td>Tanulj tovább! 2000 (2000)</td><td>3448</td></tr><tr><td>Táplálkozás, életmód mesterfokon (2002)</td><td>3584</td></tr><tr><td>Target English (1998)</td><td>4849</td></tr><tr><td>Tarzan</td><td>2990</td></tr><tr><td>Terrorizmus (2002)</td><td>3902</td></tr><tr><td>Testbeszéd (1998)</td><td>4306</td></tr><tr><td>Tesztre készen: angol (1998)</td><td>3326</td></tr><tr><td>Tesztre készen: német (1998)</td><td>3653</td></tr><tr><td>Thaiföldi ízek (1999)</td><td>4200</td></tr><tr><td>Timeshock!</td><td>4127</td></tr><tr><td>Tomi megmenti a tengert (2000)</td><td>3460</td></tr><tr><td>Touché - The Adventures of the Fifth</td><td>3638</td></tr><tr><td>Toy Story 2.</td><td>3047</td></tr><tr><td>Történelem (1998)</td><td>2990</td></tr><tr><td>Történelem : 10-14 éveseknek (2002)</td><td>2990</td></tr><tr><td>Történelem : középiskola 1. osztály (2002)</td><td>2989</td></tr><tr><td>Történelem : középiskola 4. osztály (2002)</td><td>4508</td></tr><tr><td>Traffic Giant</td><td>3508</td></tr><tr><td>Train Simulator (2002)</td><td>4342</td></tr><tr><td>Trickstyle</td><td>3721</td></tr><tr><td>A tudás próbája (2001)</td><td>4369</td></tr><tr><td>Turul : 1883-1900 (2002)</td><td>4190</td></tr><tr><td>UEFA Champions Leage Season</td><td>4418</td></tr><tr><td>Új Könyvek 1994-2000 (2002)</td><td>4819</td></tr><tr><td>Az Univerzum története</td><td>2923</td></tr><tr><td>Utazás a csillagok között (1998)</td><td>4564</td></tr><tr><td>Utazás a Naprendszerben</td><td>2866</td></tr><tr><td>Utazás a Naprendszerben 2.</td><td>4794</td></tr><tr><td>Úton 2. (1998)</td><td>4381</td></tr><tr><td>Üzleti protokoll CD (2002)</td><td>3913</td></tr><tr><td>Várak, kastélyok, legendák 1.</td><td>3390</td></tr><tr><td>Várak, kastélyok, legendák 2. (2002)</td><td>2650</td></tr><tr><td>A varázslatos emberi test (1998)</td><td>3890</td></tr><tr><td>Varázslatos szülinap</td><td>4570</td></tr><tr><td>Varázslatos történelmi nyomozás</td><td>3516</td></tr><tr><td>A városi élet a Római Birodalomban (1999)</td><td>4599</td></tr><tr><td>A Vazul-ág (1038-1301) (1997)</td><td>3248</td></tr><tr><td>Világatlasz &#39;99 (1998)</td><td>4319</td></tr><tr><td>Világatlasz &#39;99 (1998)</td><td>4162</td></tr><tr><td>Világatlasz (2001)</td><td>2757</td></tr><tr><td>Világirodalom : Az ókortól napjainkig (2001)</td><td>2876</td></tr><tr><td>Volt egyszer egy Magyarország</td><td>4242</td></tr><tr><td>Warcraft III. (2002)</td><td>4619</td></tr><tr><td>William Shakespeare összes művei</td><td>3550</td></tr><tr><td>Zielpunkt Deutsch (1997)</td><td>3315</td></tr><tr><td>Zöld Ödön a földgömbön</td><td>4852</td></tr></table>"
                    },
                    "metadata": {}
                }
            ],
            "execution_count": 21
        },
        {
            "cell_type": "markdown",
            "source": [
                "6. Melyek azok a kölcsönzések, ahol még nem hozták vissza a dvd-t?"
            ],
            "metadata": {
                "azdata_cell_guid": "5fe65c1c-2479-45ac-ad03-ec99d12eae21"
            },
            "attachments": {}
        },
        {
            "cell_type": "code",
            "source": [
                "SELECT * \r\n",
                "FROM kolcsonzesek\r\n",
                "WHERE vissza_datum IS NULL"
            ],
            "metadata": {
                "azdata_cell_guid": "924f2dde-f1c2-4def-a7f9-dbf4bace7735",
                "language": "sql"
            },
            "outputs": [
                {
                    "output_type": "display_data",
                    "data": {
                        "text/html": "(3 rows affected)"
                    },
                    "metadata": {}
                },
                {
                    "output_type": "display_data",
                    "data": {
                        "text/html": "Total execution time: 00:00:00.067"
                    },
                    "metadata": {}
                },
                {
                    "output_type": "execute_result",
                    "execution_count": 22,
                    "data": {
                        "application/vnd.dataresource+json": {
                            "schema": {
                                "fields": [
                                    {
                                        "name": "ID"
                                    },
                                    {
                                        "name": "ki"
                                    },
                                    {
                                        "name": "mit"
                                    },
                                    {
                                        "name": "ki_datum"
                                    },
                                    {
                                        "name": "vissza_datum"
                                    }
                                ]
                            },
                            "data": [
                                {
                                    "ID": "10",
                                    "ki": "3",
                                    "mit": "5",
                                    "ki_datum": "2003-12-11",
                                    "vissza_datum": "NULL"
                                },
                                {
                                    "ID": "11",
                                    "ki": "4",
                                    "mit": "2",
                                    "ki_datum": "2003-12-11",
                                    "vissza_datum": "NULL"
                                },
                                {
                                    "ID": "12",
                                    "ki": "5",
                                    "mit": "6",
                                    "ki_datum": "2003-12-11",
                                    "vissza_datum": "NULL"
                                }
                            ]
                        },
                        "text/html": "<table><tr><th>ID</th><th>ki</th><th>mit</th><th>ki_datum</th><th>vissza_datum</th></tr><tr><td>10</td><td>3</td><td>5</td><td>2003-12-11</td><td>NULL</td></tr><tr><td>11</td><td>4</td><td>2</td><td>2003-12-11</td><td>NULL</td></tr><tr><td>12</td><td>5</td><td>6</td><td>2003-12-11</td><td>NULL</td></tr></table>"
                    },
                    "metadata": {}
                }
            ],
            "execution_count": 22
        },
        {
            "cell_type": "markdown",
            "source": [
                "7. Listázzuk azon diákok nevét és születési idejét, akik 1984-ben vagy 1985-ben születtek!  \n",
                "\n",
                "  \n",
                "\n",
                "a.  A születési dátum csak az évet, hónapot és a napot tartalmazza! \n",
                "\n",
                "b.  A születési dátum oszlopát nevezzük el 'Születési idő'-nek!"
            ],
            "metadata": {
                "azdata_cell_guid": "3aeb6bf5-b111-40d5-92b2-9712ce335696"
            },
            "attachments": {}
        },
        {
            "cell_type": "code",
            "source": [
                "SELECT nev,\r\n",
                "       CAST(Szulido AS date) AS 'Születési idő'\r\n",
                "FROM diak\r\n",
                "WHERE YEAR(Szulido) = 1984 OR YEAR(Szulido) = 1985"
            ],
            "metadata": {
                "azdata_cell_guid": "3e89b651-f56f-4102-af52-30eb2bbe360d",
                "language": "sql"
            },
            "outputs": [
                {
                    "output_type": "display_data",
                    "data": {
                        "text/html": "(3 rows affected)"
                    },
                    "metadata": {}
                },
                {
                    "output_type": "display_data",
                    "data": {
                        "text/html": "Total execution time: 00:00:00.025"
                    },
                    "metadata": {}
                },
                {
                    "output_type": "execute_result",
                    "execution_count": 26,
                    "data": {
                        "application/vnd.dataresource+json": {
                            "schema": {
                                "fields": [
                                    {
                                        "name": "nev"
                                    },
                                    {
                                        "name": "Születési idő"
                                    }
                                ]
                            },
                            "data": [
                                {
                                    "nev": "Kovács Imre",
                                    "Születési idő": "1984-03-02"
                                },
                                {
                                    "nev": "Kapos Petra",
                                    "Születési idő": "1985-12-23"
                                },
                                {
                                    "nev": "Koppány Olga",
                                    "Születési idő": "1984-02-28"
                                }
                            ]
                        },
                        "text/html": "<table><tr><th>nev</th><th>Születési idő</th></tr><tr><td>Kovács Imre</td><td>1984-03-02</td></tr><tr><td>Kapos Petra</td><td>1985-12-23</td></tr><tr><td>Koppány Olga</td><td>1984-02-28</td></tr></table>"
                    },
                    "metadata": {}
                }
            ],
            "execution_count": 26
        },
        {
            "cell_type": "markdown",
            "source": [
                "8. Készítsünk lekérdezést, amely a tanulók nevét és az ebből képzett felhasználói nevét tartalmazza. \n",
                "\n",
                "  \n",
                "\n",
                "a.  A felhasználói név álljon a név első kettő, illetve utolsó kettő betűjének összefűzéséből!\n",
                "\n",
                "b.  A listát szűrjük azon tanulókra, akik teljes neve - szóközzel együtt - legalább 10 betűs!"
            ],
            "metadata": {
                "azdata_cell_guid": "26a504dc-ff6a-439f-94c0-4580eca3eacf"
            },
            "attachments": {}
        },
        {
            "cell_type": "code",
            "source": [
                "SELECT Nev,\r\n",
                "       LEFT(Nev,2) + RIGHT(Nev,2)\r\n",
                "FROM diak\r\n",
                "WHERE LEN(Nev) >= 10"
            ],
            "metadata": {
                "azdata_cell_guid": "1cbb8aeb-78b5-4350-aa45-e3202fdab85b",
                "language": "sql"
            },
            "outputs": [
                {
                    "output_type": "display_data",
                    "data": {
                        "text/html": "(8 rows affected)"
                    },
                    "metadata": {}
                },
                {
                    "output_type": "display_data",
                    "data": {
                        "text/html": "Total execution time: 00:00:00.019"
                    },
                    "metadata": {}
                },
                {
                    "output_type": "execute_result",
                    "execution_count": 30,
                    "data": {
                        "application/vnd.dataresource+json": {
                            "schema": {
                                "fields": [
                                    {
                                        "name": "Nev"
                                    },
                                    {
                                        "name": "(No column name)"
                                    }
                                ]
                            },
                            "data": [
                                {
                                    "Nev": "Kovács Imre",
                                    "(No column name)": "Kore"
                                },
                                {
                                    "Nev": "Horváth Emil",
                                    "(No column name)": "Hoil"
                                },
                                {
                                    "Nev": "Kapos Petra",
                                    "(No column name)": "Kara"
                                },
                                {
                                    "Nev": "Csóka Anna",
                                    "(No column name)": "Csna"
                                },
                                {
                                    "Nev": "Nyúl Tamás",
                                    "(No column name)": "Nyás"
                                },
                                {
                                    "Nev": "Ordasi Emma",
                                    "(No column name)": "Orma"
                                },
                                {
                                    "Nev": "Koppány Olga",
                                    "(No column name)": "Koga"
                                },
                                {
                                    "Nev": "Kozma Patrícia",
                                    "(No column name)": "Koia"
                                }
                            ]
                        },
                        "text/html": "<table><tr><th>Nev</th><th>(No column name)</th></tr><tr><td>Kovács Imre</td><td>Kore</td></tr><tr><td>Horváth Emil</td><td>Hoil</td></tr><tr><td>Kapos Petra</td><td>Kara</td></tr><tr><td>Csóka Anna</td><td>Csna</td></tr><tr><td>Nyúl Tamás</td><td>Nyás</td></tr><tr><td>Ordasi Emma</td><td>Orma</td></tr><tr><td>Koppány Olga</td><td>Koga</td></tr><tr><td>Kozma Patrícia</td><td>Koia</td></tr></table>"
                    },
                    "metadata": {}
                }
            ],
            "execution_count": 30
        },
        {
            "cell_type": "markdown",
            "source": [
                "9. Készítsünk listát a diákok adatairól, ahol a diákok neve úgy jelenik meg, hogy először a keresztnév, majd a vezetéknév, közöttük szóközzel!  \n",
                "\n",
                "a.  Ezen felül a születési idő három külön oszlopban jelenjen meg (év, hónap, nap). \n",
                "\n",
                "b.  Az oszlopokat nevezzük el értelemszerűen!"
            ],
            "metadata": {
                "azdata_cell_guid": "435e2860-2dd5-4877-90f4-34a43baeb53c"
            },
            "attachments": {}
        },
        {
            "cell_type": "code",
            "source": [
                "SELECT RIGHT(Nev,LEN(Nev)-CHARINDEX(' ',Nev)) + ' ' + LEFT(Nev,(CHARINDEX(' ',Nev)-1)) AS 'Név',\r\n",
                "       YEAR(Szulido) AS 'Év',\r\n",
                "       MONTH(Szulido) AS 'Hónap',\r\n",
                "       DAY(Szulido) AS 'Nap'\r\n",
                "FROM diak"
            ],
            "metadata": {
                "azdata_cell_guid": "ce846351-ddbe-4d8e-b8fb-2a92c73ac80b",
                "language": "sql"
            },
            "outputs": [
                {
                    "output_type": "display_data",
                    "data": {
                        "text/html": "(10 rows affected)"
                    },
                    "metadata": {}
                },
                {
                    "output_type": "display_data",
                    "data": {
                        "text/html": "Total execution time: 00:00:00.028"
                    },
                    "metadata": {}
                },
                {
                    "output_type": "execute_result",
                    "execution_count": 40,
                    "data": {
                        "application/vnd.dataresource+json": {
                            "schema": {
                                "fields": [
                                    {
                                        "name": "Név"
                                    },
                                    {
                                        "name": "Év"
                                    },
                                    {
                                        "name": "Hónap"
                                    },
                                    {
                                        "name": "Nap"
                                    }
                                ]
                            },
                            "data": [
                                {
                                    "Név": "Péter Kos",
                                    "Év": "1987",
                                    "Hónap": "11",
                                    "Nap": "5"
                                },
                                {
                                    "Név": "Imre Port",
                                    "Év": "1990",
                                    "Hónap": "5",
                                    "Nap": "5"
                                },
                                {
                                    "Név": "Imre Kovács",
                                    "Év": "1984",
                                    "Hónap": "3",
                                    "Nap": "2"
                                },
                                {
                                    "Név": "Emil Horváth",
                                    "Év": "1988",
                                    "Hónap": "5",
                                    "Nap": "2"
                                },
                                {
                                    "Név": "Petra Kapos",
                                    "Év": "1985",
                                    "Hónap": "12",
                                    "Nap": "23"
                                },
                                {
                                    "Név": "Anna Csóka",
                                    "Év": "1981",
                                    "Hónap": "11",
                                    "Nap": "30"
                                },
                                {
                                    "Név": "Tamás Nyúl",
                                    "Év": "1988",
                                    "Hónap": "2",
                                    "Nap": "16"
                                },
                                {
                                    "Név": "Emma Ordasi",
                                    "Év": "1989",
                                    "Hónap": "1",
                                    "Nap": "3"
                                },
                                {
                                    "Név": "Olga Koppány",
                                    "Év": "1984",
                                    "Hónap": "2",
                                    "Nap": "28"
                                },
                                {
                                    "Név": "Patrícia Kozma",
                                    "Év": "1983",
                                    "Hónap": "6",
                                    "Nap": "1"
                                }
                            ]
                        },
                        "text/html": "<table><tr><th>Név</th><th>Év</th><th>Hónap</th><th>Nap</th></tr><tr><td>Péter Kos</td><td>1987</td><td>11</td><td>5</td></tr><tr><td>Imre Port</td><td>1990</td><td>5</td><td>5</td></tr><tr><td>Imre Kovács</td><td>1984</td><td>3</td><td>2</td></tr><tr><td>Emil Horváth</td><td>1988</td><td>5</td><td>2</td></tr><tr><td>Petra Kapos</td><td>1985</td><td>12</td><td>23</td></tr><tr><td>Anna Csóka</td><td>1981</td><td>11</td><td>30</td></tr><tr><td>Tamás Nyúl</td><td>1988</td><td>2</td><td>16</td></tr><tr><td>Emma Ordasi</td><td>1989</td><td>1</td><td>3</td></tr><tr><td>Olga Koppány</td><td>1984</td><td>2</td><td>28</td></tr><tr><td>Patrícia Kozma</td><td>1983</td><td>6</td><td>1</td></tr></table>"
                    },
                    "metadata": {}
                }
            ],
            "execution_count": 40
        },
        {
            "cell_type": "markdown",
            "source": [
                "10. Készítsünk listát a munkák azonosítójáról és megnevezéséről! Egy új oszlopban azt is jelenítsük meg, hogy melyik munka hetente mennyit fizet! \n",
                "\n",
                "a.  Az oszlop neve legyen Heti bér, az értéket kerekítsük 1000 forintra! \n",
                "\n",
                "b.  A listát szűrjük azon rekordokra, ahol a kerekített heti bér 10000 Ft felett van!"
            ],
            "metadata": {
                "azdata_cell_guid": "217c5772-afe2-4a7c-b913-e3a3e09d6411"
            },
            "attachments": {}
        },
        {
            "cell_type": "code",
            "source": [
                "SELECT munkaId,\r\n",
                "       allas,\r\n",
                "       ROUND(oradij * oraszam * 5,-3) AS 'Heti bér'\r\n",
                "FROM munka\r\n",
                "WHERE ROUND(oradij * oraszam * 5,-3) > 10000"
            ],
            "metadata": {
                "azdata_cell_guid": "a9cc0926-3dbd-4ed8-8179-1c39d64a0762",
                "language": "sql"
            },
            "outputs": [
                {
                    "output_type": "display_data",
                    "data": {
                        "text/html": "(7 rows affected)"
                    },
                    "metadata": {}
                },
                {
                    "output_type": "display_data",
                    "data": {
                        "text/html": "Total execution time: 00:00:00.023"
                    },
                    "metadata": {}
                },
                {
                    "output_type": "execute_result",
                    "execution_count": 45,
                    "data": {
                        "application/vnd.dataresource+json": {
                            "schema": {
                                "fields": [
                                    {
                                        "name": "munkaId"
                                    },
                                    {
                                        "name": "allas"
                                    },
                                    {
                                        "name": "Heti bér"
                                    }
                                ]
                            },
                            "data": [
                                {
                                    "munkaId": "5",
                                    "allas": "kézbesítő",
                                    "Heti bér": "14000"
                                },
                                {
                                    "munkaId": "7",
                                    "allas": "eladó",
                                    "Heti bér": "12000"
                                },
                                {
                                    "munkaId": "16",
                                    "allas": "pincér",
                                    "Heti bér": "14000"
                                },
                                {
                                    "munkaId": "17",
                                    "allas": "pincér",
                                    "Heti bér": "14000"
                                },
                                {
                                    "munkaId": "20",
                                    "allas": "takarító",
                                    "Heti bér": "11000"
                                },
                                {
                                    "munkaId": "21",
                                    "allas": "takarító",
                                    "Heti bér": "11000"
                                },
                                {
                                    "munkaId": "41",
                                    "allas": "eladó",
                                    "Heti bér": "12000"
                                }
                            ]
                        },
                        "text/html": "<table><tr><th>munkaId</th><th>allas</th><th>Heti bér</th></tr><tr><td>5</td><td>kézbesítő</td><td>14000</td></tr><tr><td>7</td><td>eladó</td><td>12000</td></tr><tr><td>16</td><td>pincér</td><td>14000</td></tr><tr><td>17</td><td>pincér</td><td>14000</td></tr><tr><td>20</td><td>takarító</td><td>11000</td></tr><tr><td>21</td><td>takarító</td><td>11000</td></tr><tr><td>41</td><td>eladó</td><td>12000</td></tr></table>"
                    },
                    "metadata": {}
                }
            ],
            "execution_count": 45
        },
        {
            "cell_type": "markdown",
            "source": [
                "11. A diákok számára differenciált béremelést terveznek: a középiskolások esetében 33%, egyéb esetben 17% mértékben. Készítsünk listát, amely tartalmazza a munkák azonosítóját, az állás nevét, az eredeti óradíjat és a tervezett emelt óradíjat.\n",
                "\n",
                "  \n",
                "\n",
                "a.  Az oszlopoknak adjuk nevet értelemszerűen!\n",
                "\n",
                "b.  Az emelt óradíj összegét kerekítsük egészre! (Az esetlegesen megjelenő 0 tizedesjegyekkel ne foglalkozzunk)"
            ],
            "metadata": {
                "azdata_cell_guid": "d2340f5f-1614-473c-b937-85740d67f7c1"
            },
            "attachments": {}
        },
        {
            "cell_type": "code",
            "source": [
                "SELECT munkaId,\r\n",
                "       allas,\r\n",
                "       oradij,\r\n",
                "       CASE WHEN kozepiskolas = 1 THEN oradij*1.33\r\n",
                "            ELSE oradij*1.17\r\n",
                "       END AS 'Emelt óradíj'\r\n",
                "FROM munka"
            ],
            "metadata": {
                "azdata_cell_guid": "e99c2c53-898f-4787-b0e6-182d106dc16f",
                "language": "sql"
            },
            "outputs": [
                {
                    "output_type": "display_data",
                    "data": {
                        "text/html": "(41 rows affected)"
                    },
                    "metadata": {}
                },
                {
                    "output_type": "display_data",
                    "data": {
                        "text/html": "Total execution time: 00:00:00.029"
                    },
                    "metadata": {}
                },
                {
                    "output_type": "execute_result",
                    "execution_count": 50,
                    "data": {
                        "application/vnd.dataresource+json": {
                            "schema": {
                                "fields": [
                                    {
                                        "name": "munkaId"
                                    },
                                    {
                                        "name": "allas"
                                    },
                                    {
                                        "name": "oradij"
                                    },
                                    {
                                        "name": "Emelt óradíj"
                                    }
                                ]
                            },
                            "data": [
                                {
                                    "munkaId": "1",
                                    "allas": "kézbesítő",
                                    "oradij": "400",
                                    "Emelt óradíj": "468.00"
                                },
                                {
                                    "munkaId": "2",
                                    "allas": "ügyfélszolgálati munkatárs",
                                    "oradij": "300",
                                    "Emelt óradíj": "351.00"
                                },
                                {
                                    "munkaId": "3",
                                    "allas": "kisegítő",
                                    "oradij": "500",
                                    "Emelt óradíj": "665.00"
                                },
                                {
                                    "munkaId": "4",
                                    "allas": "eladó",
                                    "oradij": "350",
                                    "Emelt óradíj": "409.50"
                                },
                                {
                                    "munkaId": "5",
                                    "allas": "kézbesítő",
                                    "oradij": "450",
                                    "Emelt óradíj": "526.50"
                                },
                                {
                                    "munkaId": "6",
                                    "allas": "futár",
                                    "oradij": "300",
                                    "Emelt óradíj": "399.00"
                                },
                                {
                                    "munkaId": "7",
                                    "allas": "eladó",
                                    "oradij": "400",
                                    "Emelt óradíj": "468.00"
                                },
                                {
                                    "munkaId": "8",
                                    "allas": "kisegítő",
                                    "oradij": "300",
                                    "Emelt óradíj": "351.00"
                                },
                                {
                                    "munkaId": "9",
                                    "allas": "takarító",
                                    "oradij": "400",
                                    "Emelt óradíj": "468.00"
                                },
                                {
                                    "munkaId": "10",
                                    "allas": "takarító",
                                    "oradij": "400",
                                    "Emelt óradíj": "468.00"
                                },
                                {
                                    "munkaId": "11",
                                    "allas": "kisegítő",
                                    "oradij": "300",
                                    "Emelt óradíj": "399.00"
                                },
                                {
                                    "munkaId": "12",
                                    "allas": "kisegítő",
                                    "oradij": "300",
                                    "Emelt óradíj": "399.00"
                                },
                                {
                                    "munkaId": "13",
                                    "allas": "takarító",
                                    "oradij": "400",
                                    "Emelt óradíj": "468.00"
                                },
                                {
                                    "munkaId": "14",
                                    "allas": "ruhatáros",
                                    "oradij": "400",
                                    "Emelt óradíj": "468.00"
                                },
                                {
                                    "munkaId": "15",
                                    "allas": "ruhatáros",
                                    "oradij": "400",
                                    "Emelt óradíj": "468.00"
                                },
                                {
                                    "munkaId": "16",
                                    "allas": "pincér",
                                    "oradij": "450",
                                    "Emelt óradíj": "526.50"
                                },
                                {
                                    "munkaId": "17",
                                    "allas": "pincér",
                                    "oradij": "450",
                                    "Emelt óradíj": "526.50"
                                },
                                {
                                    "munkaId": "18",
                                    "allas": "eladó",
                                    "oradij": "500",
                                    "Emelt óradíj": "585.00"
                                },
                                {
                                    "munkaId": "19",
                                    "allas": "eladó",
                                    "oradij": "500",
                                    "Emelt óradíj": "585.00"
                                },
                                {
                                    "munkaId": "20",
                                    "allas": "takarító",
                                    "oradij": "350",
                                    "Emelt óradíj": "465.50"
                                },
                                {
                                    "munkaId": "21",
                                    "allas": "takarító",
                                    "oradij": "350",
                                    "Emelt óradíj": "465.50"
                                },
                                {
                                    "munkaId": "22",
                                    "allas": "eladó",
                                    "oradij": "400",
                                    "Emelt óradíj": "468.00"
                                },
                                {
                                    "munkaId": "23",
                                    "allas": "raktáros",
                                    "oradij": "300",
                                    "Emelt óradíj": "351.00"
                                },
                                {
                                    "munkaId": "24",
                                    "allas": "eladó",
                                    "oradij": "300",
                                    "Emelt óradíj": "351.00"
                                },
                                {
                                    "munkaId": "25",
                                    "allas": "takarító",
                                    "oradij": "250",
                                    "Emelt óradíj": "332.50"
                                },
                                {
                                    "munkaId": "26",
                                    "allas": "takarító",
                                    "oradij": "250",
                                    "Emelt óradíj": "332.50"
                                },
                                {
                                    "munkaId": "27",
                                    "allas": "takarító",
                                    "oradij": "300",
                                    "Emelt óradíj": "399.00"
                                },
                                {
                                    "munkaId": "28",
                                    "allas": "takarító",
                                    "oradij": "300",
                                    "Emelt óradíj": "399.00"
                                },
                                {
                                    "munkaId": "29",
                                    "allas": "eladó",
                                    "oradij": "300",
                                    "Emelt óradíj": "399.00"
                                },
                                {
                                    "munkaId": "30",
                                    "allas": "eladó",
                                    "oradij": "300",
                                    "Emelt óradíj": "399.00"
                                },
                                {
                                    "munkaId": "31",
                                    "allas": "ruhatáros",
                                    "oradij": "200",
                                    "Emelt óradíj": "266.00"
                                },
                                {
                                    "munkaId": "32",
                                    "allas": "ruhatáros",
                                    "oradij": "200",
                                    "Emelt óradíj": "266.00"
                                },
                                {
                                    "munkaId": "33",
                                    "allas": "ruhatáros",
                                    "oradij": "200",
                                    "Emelt óradíj": "266.00"
                                },
                                {
                                    "munkaId": "34",
                                    "allas": "ruhatáros",
                                    "oradij": "200",
                                    "Emelt óradíj": "266.00"
                                },
                                {
                                    "munkaId": "35",
                                    "allas": "raktáros",
                                    "oradij": "300",
                                    "Emelt óradíj": "351.00"
                                },
                                {
                                    "munkaId": "36",
                                    "allas": "raktáros",
                                    "oradij": "300",
                                    "Emelt óradíj": "351.00"
                                },
                                {
                                    "munkaId": "37",
                                    "allas": "raktáros",
                                    "oradij": "300",
                                    "Emelt óradíj": "351.00"
                                },
                                {
                                    "munkaId": "38",
                                    "allas": "eladó",
                                    "oradij": "400",
                                    "Emelt óradíj": "468.00"
                                },
                                {
                                    "munkaId": "39",
                                    "allas": "eladó",
                                    "oradij": "400",
                                    "Emelt óradíj": "468.00"
                                },
                                {
                                    "munkaId": "40",
                                    "allas": "eladó",
                                    "oradij": "400",
                                    "Emelt óradíj": "468.00"
                                },
                                {
                                    "munkaId": "41",
                                    "allas": "eladó",
                                    "oradij": "400",
                                    "Emelt óradíj": "468.00"
                                }
                            ]
                        },
                        "text/html": "<table><tr><th>munkaId</th><th>allas</th><th>oradij</th><th>Emelt óradíj</th></tr><tr><td>1</td><td>kézbesítő</td><td>400</td><td>468.00</td></tr><tr><td>2</td><td>ügyfélszolgálati munkatárs</td><td>300</td><td>351.00</td></tr><tr><td>3</td><td>kisegítő</td><td>500</td><td>665.00</td></tr><tr><td>4</td><td>eladó</td><td>350</td><td>409.50</td></tr><tr><td>5</td><td>kézbesítő</td><td>450</td><td>526.50</td></tr><tr><td>6</td><td>futár</td><td>300</td><td>399.00</td></tr><tr><td>7</td><td>eladó</td><td>400</td><td>468.00</td></tr><tr><td>8</td><td>kisegítő</td><td>300</td><td>351.00</td></tr><tr><td>9</td><td>takarító</td><td>400</td><td>468.00</td></tr><tr><td>10</td><td>takarító</td><td>400</td><td>468.00</td></tr><tr><td>11</td><td>kisegítő</td><td>300</td><td>399.00</td></tr><tr><td>12</td><td>kisegítő</td><td>300</td><td>399.00</td></tr><tr><td>13</td><td>takarító</td><td>400</td><td>468.00</td></tr><tr><td>14</td><td>ruhatáros</td><td>400</td><td>468.00</td></tr><tr><td>15</td><td>ruhatáros</td><td>400</td><td>468.00</td></tr><tr><td>16</td><td>pincér</td><td>450</td><td>526.50</td></tr><tr><td>17</td><td>pincér</td><td>450</td><td>526.50</td></tr><tr><td>18</td><td>eladó</td><td>500</td><td>585.00</td></tr><tr><td>19</td><td>eladó</td><td>500</td><td>585.00</td></tr><tr><td>20</td><td>takarító</td><td>350</td><td>465.50</td></tr><tr><td>21</td><td>takarító</td><td>350</td><td>465.50</td></tr><tr><td>22</td><td>eladó</td><td>400</td><td>468.00</td></tr><tr><td>23</td><td>raktáros</td><td>300</td><td>351.00</td></tr><tr><td>24</td><td>eladó</td><td>300</td><td>351.00</td></tr><tr><td>25</td><td>takarító</td><td>250</td><td>332.50</td></tr><tr><td>26</td><td>takarító</td><td>250</td><td>332.50</td></tr><tr><td>27</td><td>takarító</td><td>300</td><td>399.00</td></tr><tr><td>28</td><td>takarító</td><td>300</td><td>399.00</td></tr><tr><td>29</td><td>eladó</td><td>300</td><td>399.00</td></tr><tr><td>30</td><td>eladó</td><td>300</td><td>399.00</td></tr><tr><td>31</td><td>ruhatáros</td><td>200</td><td>266.00</td></tr><tr><td>32</td><td>ruhatáros</td><td>200</td><td>266.00</td></tr><tr><td>33</td><td>ruhatáros</td><td>200</td><td>266.00</td></tr><tr><td>34</td><td>ruhatáros</td><td>200</td><td>266.00</td></tr><tr><td>35</td><td>raktáros</td><td>300</td><td>351.00</td></tr><tr><td>36</td><td>raktáros</td><td>300</td><td>351.00</td></tr><tr><td>37</td><td>raktáros</td><td>300</td><td>351.00</td></tr><tr><td>38</td><td>eladó</td><td>400</td><td>468.00</td></tr><tr><td>39</td><td>eladó</td><td>400</td><td>468.00</td></tr><tr><td>40</td><td>eladó</td><td>400</td><td>468.00</td></tr><tr><td>41</td><td>eladó</td><td>400</td><td>468.00</td></tr></table>"
                    },
                    "metadata": {}
                }
            ],
            "execution_count": 50
        },
        {
            "cell_type": "markdown",
            "source": [
                "12. A diákok számára próbaidőt írnak elő, amely a munka kezdetétől számítva 3 hónapig tart.    Jelenítsük meg a munka tábla adatait egy új oszloppal kiegészítve, amelyik a próbaidő    végének dátumát mutatja!  \n",
                "\n",
                "  \n",
                "\n",
                "a.  Az oszlop neve Próbaidő vége legyen! \n",
                "\n",
                "b.  A lista ne tartalmazza azokat a munkákat, ahol a diákok azonosítója nincs megadva!"
            ],
            "metadata": {
                "azdata_cell_guid": "a765e9d6-58b3-4171-872a-78f3118fd6e3"
            },
            "attachments": {}
        },
        {
            "cell_type": "code",
            "source": [
                "SELECT *,\r\n",
                "       DATEADD(MONTH,3,datum) AS 'Próbaidő vége'\r\n",
                "FROM munka\r\n",
                "WHERE DiakAz IS NOT NULL"
            ],
            "metadata": {
                "azdata_cell_guid": "422e8127-b652-4d3a-bfd7-9b1637b5781e",
                "language": "sql"
            },
            "outputs": [
                {
                    "output_type": "display_data",
                    "data": {
                        "text/html": "(31 rows affected)"
                    },
                    "metadata": {}
                },
                {
                    "output_type": "display_data",
                    "data": {
                        "text/html": "Total execution time: 00:00:00.040"
                    },
                    "metadata": {}
                },
                {
                    "output_type": "execute_result",
                    "execution_count": 53,
                    "data": {
                        "application/vnd.dataresource+json": {
                            "schema": {
                                "fields": [
                                    {
                                        "name": "munkaId"
                                    },
                                    {
                                        "name": "MhelyId"
                                    },
                                    {
                                        "name": "DiakAz"
                                    },
                                    {
                                        "name": "allas"
                                    },
                                    {
                                        "name": "datum"
                                    },
                                    {
                                        "name": "oradij"
                                    },
                                    {
                                        "name": "oraszam"
                                    },
                                    {
                                        "name": "kozepiskolas"
                                    },
                                    {
                                        "name": "Próbaidő vége"
                                    }
                                ]
                            },
                            "data": [
                                {
                                    "munkaId": "1",
                                    "MhelyId": "1",
                                    "DiakAz": "1",
                                    "allas": "kézbesítő",
                                    "datum": "2003-07-02 00:00:00.000",
                                    "oradij": "400",
                                    "oraszam": "4",
                                    "kozepiskolas": "0",
                                    "Próbaidő vége": "2003-10-02 00:00:00.000"
                                },
                                {
                                    "munkaId": "2",
                                    "MhelyId": "1",
                                    "DiakAz": "2",
                                    "allas": "ügyfélszolgálati munkatárs",
                                    "datum": "2003-07-03 00:00:00.000",
                                    "oradij": "300",
                                    "oraszam": "4",
                                    "kozepiskolas": "0",
                                    "Próbaidő vége": "2003-10-03 00:00:00.000"
                                },
                                {
                                    "munkaId": "3",
                                    "MhelyId": "2",
                                    "DiakAz": "1",
                                    "allas": "kisegítő",
                                    "datum": "2003-07-01 00:00:00.000",
                                    "oradij": "500",
                                    "oraszam": "4",
                                    "kozepiskolas": "1",
                                    "Próbaidő vége": "2003-10-01 00:00:00.000"
                                },
                                {
                                    "munkaId": "4",
                                    "MhelyId": "2",
                                    "DiakAz": "2",
                                    "allas": "eladó",
                                    "datum": "2003-07-01 00:00:00.000",
                                    "oradij": "350",
                                    "oraszam": "4",
                                    "kozepiskolas": "0",
                                    "Próbaidő vége": "2003-10-01 00:00:00.000"
                                },
                                {
                                    "munkaId": "5",
                                    "MhelyId": "1",
                                    "DiakAz": "1",
                                    "allas": "kézbesítő",
                                    "datum": "2003-07-03 00:00:00.000",
                                    "oradij": "450",
                                    "oraszam": "6",
                                    "kozepiskolas": "0",
                                    "Próbaidő vége": "2003-10-03 00:00:00.000"
                                },
                                {
                                    "munkaId": "6",
                                    "MhelyId": "1",
                                    "DiakAz": "2",
                                    "allas": "futár",
                                    "datum": "2003-07-06 00:00:00.000",
                                    "oradij": "300",
                                    "oraszam": "5",
                                    "kozepiskolas": "1",
                                    "Próbaidő vége": "2003-10-06 00:00:00.000"
                                },
                                {
                                    "munkaId": "9",
                                    "MhelyId": "9",
                                    "DiakAz": "6",
                                    "allas": "takarító",
                                    "datum": "2003-06-19 00:00:00.000",
                                    "oradij": "400",
                                    "oraszam": "4",
                                    "kozepiskolas": "0",
                                    "Próbaidő vége": "2003-09-19 00:00:00.000"
                                },
                                {
                                    "munkaId": "10",
                                    "MhelyId": "9",
                                    "DiakAz": "6",
                                    "allas": "takarító",
                                    "datum": "2003-06-20 00:00:00.000",
                                    "oradij": "400",
                                    "oraszam": "4",
                                    "kozepiskolas": "0",
                                    "Próbaidő vége": "2003-09-20 00:00:00.000"
                                },
                                {
                                    "munkaId": "11",
                                    "MhelyId": "9",
                                    "DiakAz": "8",
                                    "allas": "kisegítő",
                                    "datum": "2003-06-21 00:00:00.000",
                                    "oradij": "300",
                                    "oraszam": "6",
                                    "kozepiskolas": "1",
                                    "Próbaidő vége": "2003-09-21 00:00:00.000"
                                },
                                {
                                    "munkaId": "12",
                                    "MhelyId": "9",
                                    "DiakAz": "8",
                                    "allas": "kisegítő",
                                    "datum": "2003-06-22 00:00:00.000",
                                    "oradij": "300",
                                    "oraszam": "6",
                                    "kozepiskolas": "1",
                                    "Próbaidő vége": "2003-09-22 00:00:00.000"
                                },
                                {
                                    "munkaId": "13",
                                    "MhelyId": "9",
                                    "DiakAz": "6",
                                    "allas": "takarító",
                                    "datum": "2003-06-23 00:00:00.000",
                                    "oradij": "400",
                                    "oraszam": "4",
                                    "kozepiskolas": "0",
                                    "Próbaidő vége": "2003-09-23 00:00:00.000"
                                },
                                {
                                    "munkaId": "14",
                                    "MhelyId": "6",
                                    "DiakAz": "4",
                                    "allas": "ruhatáros",
                                    "datum": "2003-09-11 00:00:00.000",
                                    "oradij": "400",
                                    "oraszam": "4",
                                    "kozepiskolas": "0",
                                    "Próbaidő vége": "2003-12-11 00:00:00.000"
                                },
                                {
                                    "munkaId": "15",
                                    "MhelyId": "6",
                                    "DiakAz": "7",
                                    "allas": "ruhatáros",
                                    "datum": "2003-09-11 00:00:00.000",
                                    "oradij": "400",
                                    "oraszam": "4",
                                    "kozepiskolas": "0",
                                    "Próbaidő vége": "2003-12-11 00:00:00.000"
                                },
                                {
                                    "munkaId": "16",
                                    "MhelyId": "6",
                                    "DiakAz": "5",
                                    "allas": "pincér",
                                    "datum": "2003-06-11 00:00:00.000",
                                    "oradij": "450",
                                    "oraszam": "6",
                                    "kozepiskolas": "0",
                                    "Próbaidő vége": "2003-09-11 00:00:00.000"
                                },
                                {
                                    "munkaId": "17",
                                    "MhelyId": "6",
                                    "DiakAz": "5",
                                    "allas": "pincér",
                                    "datum": "2003-06-12 00:00:00.000",
                                    "oradij": "450",
                                    "oraszam": "6",
                                    "kozepiskolas": "0",
                                    "Próbaidő vége": "2003-09-12 00:00:00.000"
                                },
                                {
                                    "munkaId": "18",
                                    "MhelyId": "8",
                                    "DiakAz": "9",
                                    "allas": "eladó",
                                    "datum": "2003-07-21 00:00:00.000",
                                    "oradij": "500",
                                    "oraszam": "4",
                                    "kozepiskolas": "0",
                                    "Próbaidő vége": "2003-10-21 00:00:00.000"
                                },
                                {
                                    "munkaId": "19",
                                    "MhelyId": "8",
                                    "DiakAz": "9",
                                    "allas": "eladó",
                                    "datum": "2003-07-22 00:00:00.000",
                                    "oradij": "500",
                                    "oraszam": "4",
                                    "kozepiskolas": "0",
                                    "Próbaidő vége": "2003-10-22 00:00:00.000"
                                },
                                {
                                    "munkaId": "20",
                                    "MhelyId": "8",
                                    "DiakAz": "10",
                                    "allas": "takarító",
                                    "datum": "2003-08-10 00:00:00.000",
                                    "oradij": "350",
                                    "oraszam": "6",
                                    "kozepiskolas": "1",
                                    "Próbaidő vége": "2003-11-10 00:00:00.000"
                                },
                                {
                                    "munkaId": "21",
                                    "MhelyId": "8",
                                    "DiakAz": "10",
                                    "allas": "takarító",
                                    "datum": "2003-08-11 00:00:00.000",
                                    "oradij": "350",
                                    "oraszam": "6",
                                    "kozepiskolas": "1",
                                    "Próbaidő vége": "2003-11-11 00:00:00.000"
                                },
                                {
                                    "munkaId": "22",
                                    "MhelyId": "11",
                                    "DiakAz": "5",
                                    "allas": "eladó",
                                    "datum": "2003-05-10 00:00:00.000",
                                    "oradij": "400",
                                    "oraszam": "4",
                                    "kozepiskolas": "0",
                                    "Próbaidő vége": "2003-08-10 00:00:00.000"
                                },
                                {
                                    "munkaId": "23",
                                    "MhelyId": "11",
                                    "DiakAz": "6",
                                    "allas": "raktáros",
                                    "datum": "2003-05-20 00:00:00.000",
                                    "oradij": "300",
                                    "oraszam": "4",
                                    "kozepiskolas": "0",
                                    "Próbaidő vége": "2003-08-20 00:00:00.000"
                                },
                                {
                                    "munkaId": "24",
                                    "MhelyId": "11",
                                    "DiakAz": "5",
                                    "allas": "eladó",
                                    "datum": "2003-06-23 00:00:00.000",
                                    "oradij": "300",
                                    "oraszam": "6",
                                    "kozepiskolas": "0",
                                    "Próbaidő vége": "2003-09-23 00:00:00.000"
                                },
                                {
                                    "munkaId": "27",
                                    "MhelyId": "10",
                                    "DiakAz": "3",
                                    "allas": "takarító",
                                    "datum": "2003-07-31 00:00:00.000",
                                    "oradij": "300",
                                    "oraszam": "4",
                                    "kozepiskolas": "1",
                                    "Próbaidő vége": "2003-10-31 00:00:00.000"
                                },
                                {
                                    "munkaId": "28",
                                    "MhelyId": "10",
                                    "DiakAz": "3",
                                    "allas": "takarító",
                                    "datum": "2003-08-01 00:00:00.000",
                                    "oradij": "300",
                                    "oraszam": "4",
                                    "kozepiskolas": "1",
                                    "Próbaidő vége": "2003-11-01 00:00:00.000"
                                },
                                {
                                    "munkaId": "29",
                                    "MhelyId": "10",
                                    "DiakAz": "8",
                                    "allas": "eladó",
                                    "datum": "2003-09-12 00:00:00.000",
                                    "oradij": "300",
                                    "oraszam": "6",
                                    "kozepiskolas": "1",
                                    "Próbaidő vége": "2003-12-12 00:00:00.000"
                                },
                                {
                                    "munkaId": "30",
                                    "MhelyId": "10",
                                    "DiakAz": "8",
                                    "allas": "eladó",
                                    "datum": "2003-09-13 00:00:00.000",
                                    "oradij": "300",
                                    "oraszam": "6",
                                    "kozepiskolas": "1",
                                    "Próbaidő vége": "2003-12-13 00:00:00.000"
                                },
                                {
                                    "munkaId": "31",
                                    "MhelyId": "7",
                                    "DiakAz": "8",
                                    "allas": "ruhatáros",
                                    "datum": "2003-08-20 00:00:00.000",
                                    "oradij": "200",
                                    "oraszam": "4",
                                    "kozepiskolas": "1",
                                    "Próbaidő vége": "2003-11-20 00:00:00.000"
                                },
                                {
                                    "munkaId": "32",
                                    "MhelyId": "7",
                                    "DiakAz": "8",
                                    "allas": "ruhatáros",
                                    "datum": "2003-08-21 00:00:00.000",
                                    "oradij": "200",
                                    "oraszam": "4",
                                    "kozepiskolas": "1",
                                    "Próbaidő vége": "2003-11-21 00:00:00.000"
                                },
                                {
                                    "munkaId": "38",
                                    "MhelyId": "5",
                                    "DiakAz": "7",
                                    "allas": "eladó",
                                    "datum": "2003-06-05 00:00:00.000",
                                    "oradij": "400",
                                    "oraszam": "4",
                                    "kozepiskolas": "0",
                                    "Próbaidő vége": "2003-09-05 00:00:00.000"
                                },
                                {
                                    "munkaId": "39",
                                    "MhelyId": "5",
                                    "DiakAz": "7",
                                    "allas": "eladó",
                                    "datum": "2003-06-06 00:00:00.000",
                                    "oradij": "400",
                                    "oraszam": "4",
                                    "kozepiskolas": "0",
                                    "Próbaidő vége": "2003-09-06 00:00:00.000"
                                },
                                {
                                    "munkaId": "40",
                                    "MhelyId": "5",
                                    "DiakAz": "7",
                                    "allas": "eladó",
                                    "datum": "2003-06-07 00:00:00.000",
                                    "oradij": "400",
                                    "oraszam": "4",
                                    "kozepiskolas": "0",
                                    "Próbaidő vége": "2003-09-07 00:00:00.000"
                                }
                            ]
                        },
                        "text/html": "<table><tr><th>munkaId</th><th>MhelyId</th><th>DiakAz</th><th>allas</th><th>datum</th><th>oradij</th><th>oraszam</th><th>kozepiskolas</th><th>Próbaidő vége</th></tr><tr><td>1</td><td>1</td><td>1</td><td>kézbesítő</td><td>2003-07-02 00:00:00.000</td><td>400</td><td>4</td><td>0</td><td>2003-10-02 00:00:00.000</td></tr><tr><td>2</td><td>1</td><td>2</td><td>ügyfélszolgálati munkatárs</td><td>2003-07-03 00:00:00.000</td><td>300</td><td>4</td><td>0</td><td>2003-10-03 00:00:00.000</td></tr><tr><td>3</td><td>2</td><td>1</td><td>kisegítő</td><td>2003-07-01 00:00:00.000</td><td>500</td><td>4</td><td>1</td><td>2003-10-01 00:00:00.000</td></tr><tr><td>4</td><td>2</td><td>2</td><td>eladó</td><td>2003-07-01 00:00:00.000</td><td>350</td><td>4</td><td>0</td><td>2003-10-01 00:00:00.000</td></tr><tr><td>5</td><td>1</td><td>1</td><td>kézbesítő</td><td>2003-07-03 00:00:00.000</td><td>450</td><td>6</td><td>0</td><td>2003-10-03 00:00:00.000</td></tr><tr><td>6</td><td>1</td><td>2</td><td>futár</td><td>2003-07-06 00:00:00.000</td><td>300</td><td>5</td><td>1</td><td>2003-10-06 00:00:00.000</td></tr><tr><td>9</td><td>9</td><td>6</td><td>takarító</td><td>2003-06-19 00:00:00.000</td><td>400</td><td>4</td><td>0</td><td>2003-09-19 00:00:00.000</td></tr><tr><td>10</td><td>9</td><td>6</td><td>takarító</td><td>2003-06-20 00:00:00.000</td><td>400</td><td>4</td><td>0</td><td>2003-09-20 00:00:00.000</td></tr><tr><td>11</td><td>9</td><td>8</td><td>kisegítő</td><td>2003-06-21 00:00:00.000</td><td>300</td><td>6</td><td>1</td><td>2003-09-21 00:00:00.000</td></tr><tr><td>12</td><td>9</td><td>8</td><td>kisegítő</td><td>2003-06-22 00:00:00.000</td><td>300</td><td>6</td><td>1</td><td>2003-09-22 00:00:00.000</td></tr><tr><td>13</td><td>9</td><td>6</td><td>takarító</td><td>2003-06-23 00:00:00.000</td><td>400</td><td>4</td><td>0</td><td>2003-09-23 00:00:00.000</td></tr><tr><td>14</td><td>6</td><td>4</td><td>ruhatáros</td><td>2003-09-11 00:00:00.000</td><td>400</td><td>4</td><td>0</td><td>2003-12-11 00:00:00.000</td></tr><tr><td>15</td><td>6</td><td>7</td><td>ruhatáros</td><td>2003-09-11 00:00:00.000</td><td>400</td><td>4</td><td>0</td><td>2003-12-11 00:00:00.000</td></tr><tr><td>16</td><td>6</td><td>5</td><td>pincér</td><td>2003-06-11 00:00:00.000</td><td>450</td><td>6</td><td>0</td><td>2003-09-11 00:00:00.000</td></tr><tr><td>17</td><td>6</td><td>5</td><td>pincér</td><td>2003-06-12 00:00:00.000</td><td>450</td><td>6</td><td>0</td><td>2003-09-12 00:00:00.000</td></tr><tr><td>18</td><td>8</td><td>9</td><td>eladó</td><td>2003-07-21 00:00:00.000</td><td>500</td><td>4</td><td>0</td><td>2003-10-21 00:00:00.000</td></tr><tr><td>19</td><td>8</td><td>9</td><td>eladó</td><td>2003-07-22 00:00:00.000</td><td>500</td><td>4</td><td>0</td><td>2003-10-22 00:00:00.000</td></tr><tr><td>20</td><td>8</td><td>10</td><td>takarító</td><td>2003-08-10 00:00:00.000</td><td>350</td><td>6</td><td>1</td><td>2003-11-10 00:00:00.000</td></tr><tr><td>21</td><td>8</td><td>10</td><td>takarító</td><td>2003-08-11 00:00:00.000</td><td>350</td><td>6</td><td>1</td><td>2003-11-11 00:00:00.000</td></tr><tr><td>22</td><td>11</td><td>5</td><td>eladó</td><td>2003-05-10 00:00:00.000</td><td>400</td><td>4</td><td>0</td><td>2003-08-10 00:00:00.000</td></tr><tr><td>23</td><td>11</td><td>6</td><td>raktáros</td><td>2003-05-20 00:00:00.000</td><td>300</td><td>4</td><td>0</td><td>2003-08-20 00:00:00.000</td></tr><tr><td>24</td><td>11</td><td>5</td><td>eladó</td><td>2003-06-23 00:00:00.000</td><td>300</td><td>6</td><td>0</td><td>2003-09-23 00:00:00.000</td></tr><tr><td>27</td><td>10</td><td>3</td><td>takarító</td><td>2003-07-31 00:00:00.000</td><td>300</td><td>4</td><td>1</td><td>2003-10-31 00:00:00.000</td></tr><tr><td>28</td><td>10</td><td>3</td><td>takarító</td><td>2003-08-01 00:00:00.000</td><td>300</td><td>4</td><td>1</td><td>2003-11-01 00:00:00.000</td></tr><tr><td>29</td><td>10</td><td>8</td><td>eladó</td><td>2003-09-12 00:00:00.000</td><td>300</td><td>6</td><td>1</td><td>2003-12-12 00:00:00.000</td></tr><tr><td>30</td><td>10</td><td>8</td><td>eladó</td><td>2003-09-13 00:00:00.000</td><td>300</td><td>6</td><td>1</td><td>2003-12-13 00:00:00.000</td></tr><tr><td>31</td><td>7</td><td>8</td><td>ruhatáros</td><td>2003-08-20 00:00:00.000</td><td>200</td><td>4</td><td>1</td><td>2003-11-20 00:00:00.000</td></tr><tr><td>32</td><td>7</td><td>8</td><td>ruhatáros</td><td>2003-08-21 00:00:00.000</td><td>200</td><td>4</td><td>1</td><td>2003-11-21 00:00:00.000</td></tr><tr><td>38</td><td>5</td><td>7</td><td>eladó</td><td>2003-06-05 00:00:00.000</td><td>400</td><td>4</td><td>0</td><td>2003-09-05 00:00:00.000</td></tr><tr><td>39</td><td>5</td><td>7</td><td>eladó</td><td>2003-06-06 00:00:00.000</td><td>400</td><td>4</td><td>0</td><td>2003-09-06 00:00:00.000</td></tr><tr><td>40</td><td>5</td><td>7</td><td>eladó</td><td>2003-06-07 00:00:00.000</td><td>400</td><td>4</td><td>0</td><td>2003-09-07 00:00:00.000</td></tr></table>"
                    },
                    "metadata": {}
                }
            ],
            "execution_count": 53
        },
        {
            "cell_type": "markdown",
            "source": [
                "13. Készítsünk listát a munkák azonosítóiról és a megnevezésükről! A megnevezés allas-óraszám formában jelenjen meg, pl: eladó-4. \n",
                "\n",
                "  \n",
                "\n",
                "a.  Jelenítsük meg a dátumot is, de csak a évet és a hónapot, pl: 2003-07! \n",
                "\n",
                "b.  Ennek az oszlopnak 'Kezdés hónapja' legyen a neve! A listát szűrjük a nyári hónapokra!"
            ],
            "metadata": {
                "azdata_cell_guid": "3f9237ae-f109-401c-acb9-31d75e73331b"
            },
            "attachments": {}
        },
        {
            "cell_type": "code",
            "source": [
                "SELECT allas + '-' + CAST(oraszam AS varchar(1)) AS 'Állás+óraszám',\r\n",
                "       LEFT(CAST(datum as date),7) AS 'Kezdés hónapja'\r\n",
                "FROM munka\r\n",
                "WHERE MONTH(datum) BETWEEN 6 AND 8"
            ],
            "metadata": {
                "azdata_cell_guid": "4b31bb89-cfbc-46b1-8639-85c462877786",
                "language": "sql"
            },
            "outputs": [
                {
                    "output_type": "display_data",
                    "data": {
                        "text/html": "(32 rows affected)"
                    },
                    "metadata": {}
                },
                {
                    "output_type": "display_data",
                    "data": {
                        "text/html": "Total execution time: 00:00:00.109"
                    },
                    "metadata": {}
                },
                {
                    "output_type": "execute_result",
                    "execution_count": 69,
                    "data": {
                        "application/vnd.dataresource+json": {
                            "schema": {
                                "fields": [
                                    {
                                        "name": "Állás+óraszám"
                                    },
                                    {
                                        "name": "Kezdés hónapja"
                                    }
                                ]
                            },
                            "data": [
                                {
                                    "Állás+óraszám": "kézbesítő-4",
                                    "Kezdés hónapja": "2003-07"
                                },
                                {
                                    "Állás+óraszám": "ügyfélszolgálati munkatárs-4",
                                    "Kezdés hónapja": "2003-07"
                                },
                                {
                                    "Állás+óraszám": "kisegítő-4",
                                    "Kezdés hónapja": "2003-07"
                                },
                                {
                                    "Állás+óraszám": "eladó-4",
                                    "Kezdés hónapja": "2003-07"
                                },
                                {
                                    "Állás+óraszám": "kézbesítő-6",
                                    "Kezdés hónapja": "2003-07"
                                },
                                {
                                    "Állás+óraszám": "futár-5",
                                    "Kezdés hónapja": "2003-07"
                                },
                                {
                                    "Állás+óraszám": "eladó-6",
                                    "Kezdés hónapja": "2003-07"
                                },
                                {
                                    "Állás+óraszám": "kisegítő-4",
                                    "Kezdés hónapja": "2003-06"
                                },
                                {
                                    "Állás+óraszám": "takarító-4",
                                    "Kezdés hónapja": "2003-06"
                                },
                                {
                                    "Állás+óraszám": "takarító-4",
                                    "Kezdés hónapja": "2003-06"
                                },
                                {
                                    "Állás+óraszám": "kisegítő-6",
                                    "Kezdés hónapja": "2003-06"
                                },
                                {
                                    "Állás+óraszám": "kisegítő-6",
                                    "Kezdés hónapja": "2003-06"
                                },
                                {
                                    "Állás+óraszám": "takarító-4",
                                    "Kezdés hónapja": "2003-06"
                                },
                                {
                                    "Állás+óraszám": "pincér-6",
                                    "Kezdés hónapja": "2003-06"
                                },
                                {
                                    "Állás+óraszám": "pincér-6",
                                    "Kezdés hónapja": "2003-06"
                                },
                                {
                                    "Állás+óraszám": "eladó-4",
                                    "Kezdés hónapja": "2003-07"
                                },
                                {
                                    "Állás+óraszám": "eladó-4",
                                    "Kezdés hónapja": "2003-07"
                                },
                                {
                                    "Állás+óraszám": "takarító-6",
                                    "Kezdés hónapja": "2003-08"
                                },
                                {
                                    "Állás+óraszám": "takarító-6",
                                    "Kezdés hónapja": "2003-08"
                                },
                                {
                                    "Állás+óraszám": "eladó-6",
                                    "Kezdés hónapja": "2003-06"
                                },
                                {
                                    "Állás+óraszám": "takarító-4",
                                    "Kezdés hónapja": "2003-07"
                                },
                                {
                                    "Állás+óraszám": "takarító-4",
                                    "Kezdés hónapja": "2003-07"
                                },
                                {
                                    "Állás+óraszám": "takarító-4",
                                    "Kezdés hónapja": "2003-07"
                                },
                                {
                                    "Állás+óraszám": "takarító-4",
                                    "Kezdés hónapja": "2003-08"
                                },
                                {
                                    "Állás+óraszám": "ruhatáros-4",
                                    "Kezdés hónapja": "2003-08"
                                },
                                {
                                    "Állás+óraszám": "ruhatáros-4",
                                    "Kezdés hónapja": "2003-08"
                                },
                                {
                                    "Állás+óraszám": "ruhatáros-4",
                                    "Kezdés hónapja": "2003-08"
                                },
                                {
                                    "Állás+óraszám": "ruhatáros-4",
                                    "Kezdés hónapja": "2003-08"
                                },
                                {
                                    "Állás+óraszám": "eladó-4",
                                    "Kezdés hónapja": "2003-06"
                                },
                                {
                                    "Állás+óraszám": "eladó-4",
                                    "Kezdés hónapja": "2003-06"
                                },
                                {
                                    "Állás+óraszám": "eladó-4",
                                    "Kezdés hónapja": "2003-06"
                                },
                                {
                                    "Állás+óraszám": "eladó-6",
                                    "Kezdés hónapja": "2003-07"
                                }
                            ]
                        },
                        "text/html": "<table><tr><th>Állás+óraszám</th><th>Kezdés hónapja</th></tr><tr><td>kézbesítő-4</td><td>2003-07</td></tr><tr><td>ügyfélszolgálati munkatárs-4</td><td>2003-07</td></tr><tr><td>kisegítő-4</td><td>2003-07</td></tr><tr><td>eladó-4</td><td>2003-07</td></tr><tr><td>kézbesítő-6</td><td>2003-07</td></tr><tr><td>futár-5</td><td>2003-07</td></tr><tr><td>eladó-6</td><td>2003-07</td></tr><tr><td>kisegítő-4</td><td>2003-06</td></tr><tr><td>takarító-4</td><td>2003-06</td></tr><tr><td>takarító-4</td><td>2003-06</td></tr><tr><td>kisegítő-6</td><td>2003-06</td></tr><tr><td>kisegítő-6</td><td>2003-06</td></tr><tr><td>takarító-4</td><td>2003-06</td></tr><tr><td>pincér-6</td><td>2003-06</td></tr><tr><td>pincér-6</td><td>2003-06</td></tr><tr><td>eladó-4</td><td>2003-07</td></tr><tr><td>eladó-4</td><td>2003-07</td></tr><tr><td>takarító-6</td><td>2003-08</td></tr><tr><td>takarító-6</td><td>2003-08</td></tr><tr><td>eladó-6</td><td>2003-06</td></tr><tr><td>takarító-4</td><td>2003-07</td></tr><tr><td>takarító-4</td><td>2003-07</td></tr><tr><td>takarító-4</td><td>2003-07</td></tr><tr><td>takarító-4</td><td>2003-08</td></tr><tr><td>ruhatáros-4</td><td>2003-08</td></tr><tr><td>ruhatáros-4</td><td>2003-08</td></tr><tr><td>ruhatáros-4</td><td>2003-08</td></tr><tr><td>ruhatáros-4</td><td>2003-08</td></tr><tr><td>eladó-4</td><td>2003-06</td></tr><tr><td>eladó-4</td><td>2003-06</td></tr><tr><td>eladó-4</td><td>2003-06</td></tr><tr><td>eladó-6</td><td>2003-07</td></tr></table>"
                    },
                    "metadata": {}
                }
            ],
            "execution_count": 69
        },
        {
            "cell_type": "markdown",
            "source": [
                "14. Készítsünk listát a diákok adatairól, amely a Nev oszlop helyén a diák monogramját jeleníti meg (keresztnév, illetve vezetéknév első betűje összefűzve). \n",
                "\n",
                "a.  A listát szűrjük 1983.01.01 és 1987.06.01 között született diákokra!"
            ],
            "metadata": {
                "azdata_cell_guid": "f634e09a-85ef-4e70-8ec6-ef355dfddaa7"
            },
            "attachments": {}
        },
        {
            "cell_type": "code",
            "source": [
                "SELECT DiakAz,\r\n",
                "       LEFT(Nev,1) + LEFT(RIGHT(Nev,LEN(Nev)-CHARINDEX(' ',Nev)),1) AS 'Monogram',\r\n",
                "       Szulido\r\n",
                "FROM diak\r\n",
                "WHERE CAST(Szulido AS date) BETWEEN '1983.01.01' AND '1987.06.01'"
            ],
            "metadata": {
                "azdata_cell_guid": "88abc55b-2c78-495b-a72f-3f8f4eb5fe70",
                "language": "sql"
            },
            "outputs": [
                {
                    "output_type": "display_data",
                    "data": {
                        "text/html": "(4 rows affected)"
                    },
                    "metadata": {}
                },
                {
                    "output_type": "display_data",
                    "data": {
                        "text/html": "Total execution time: 00:00:00.025"
                    },
                    "metadata": {}
                },
                {
                    "output_type": "execute_result",
                    "execution_count": 77,
                    "data": {
                        "application/vnd.dataresource+json": {
                            "schema": {
                                "fields": [
                                    {
                                        "name": "DiakAz"
                                    },
                                    {
                                        "name": "Monogram"
                                    },
                                    {
                                        "name": "Szulido"
                                    }
                                ]
                            },
                            "data": [
                                {
                                    "DiakAz": "3",
                                    "Monogram": "KI",
                                    "Szulido": "1984-03-02 00:00:00.000"
                                },
                                {
                                    "DiakAz": "5",
                                    "Monogram": "KP",
                                    "Szulido": "1985-12-23 00:00:00.000"
                                },
                                {
                                    "DiakAz": "9",
                                    "Monogram": "KO",
                                    "Szulido": "1984-02-28 00:00:00.000"
                                },
                                {
                                    "DiakAz": "10",
                                    "Monogram": "KP",
                                    "Szulido": "1983-06-01 00:00:00.000"
                                }
                            ]
                        },
                        "text/html": "<table><tr><th>DiakAz</th><th>Monogram</th><th>Szulido</th></tr><tr><td>3</td><td>KI</td><td>1984-03-02 00:00:00.000</td></tr><tr><td>5</td><td>KP</td><td>1985-12-23 00:00:00.000</td></tr><tr><td>9</td><td>KO</td><td>1984-02-28 00:00:00.000</td></tr><tr><td>10</td><td>KP</td><td>1983-06-01 00:00:00.000</td></tr></table>"
                    },
                    "metadata": {}
                }
            ],
            "execution_count": 77
        },
        {
            "cell_type": "markdown",
            "source": [
                "15. A diákok a munkakezdés évének utolsó napján bónuszt kapnak, amennyiben az adott évben legalább 6 hónapot dolgoznak. \n",
                "\n",
                "  \n",
                "\n",
                "a.  Jelenítsük meg, hogy az egyes munkák adatait, egy új oszlopban az éves bónusz napját is 'Bónusz dátum' néven! \n",
                "\n",
                "b.  A lista csak a bónuszra jogosultak adatait tartalmazza!"
            ],
            "metadata": {
                "azdata_cell_guid": "4cbf2f0d-a65d-480a-8186-ccdb24498443"
            },
            "attachments": {}
        },
        {
            "cell_type": "code",
            "source": [
                "SELECT *,\r\n",
                "     CAST(YEAR(datum) AS varchar(4)) + '.12.31.' AS 'Bónusz dátum'\r\n",
                "FROM munka\r\n",
                "WHERE CAST(datum as date) BETWEEN '2003.01.01' AND '2003.06.30'"
            ],
            "metadata": {
                "azdata_cell_guid": "c148aee8-bc85-40bf-b80a-a4898a6c05cb",
                "language": "sql"
            },
            "outputs": [
                {
                    "output_type": "display_data",
                    "data": {
                        "text/html": "(14 rows affected)"
                    },
                    "metadata": {}
                },
                {
                    "output_type": "display_data",
                    "data": {
                        "text/html": "Total execution time: 00:00:00.123"
                    },
                    "metadata": {}
                },
                {
                    "output_type": "execute_result",
                    "execution_count": 91,
                    "data": {
                        "application/vnd.dataresource+json": {
                            "schema": {
                                "fields": [
                                    {
                                        "name": "munkaId"
                                    },
                                    {
                                        "name": "MhelyId"
                                    },
                                    {
                                        "name": "DiakAz"
                                    },
                                    {
                                        "name": "allas"
                                    },
                                    {
                                        "name": "datum"
                                    },
                                    {
                                        "name": "oradij"
                                    },
                                    {
                                        "name": "oraszam"
                                    },
                                    {
                                        "name": "kozepiskolas"
                                    },
                                    {
                                        "name": "Bónusz dátum"
                                    }
                                ]
                            },
                            "data": [
                                {
                                    "munkaId": "8",
                                    "MhelyId": "9",
                                    "DiakAz": "NULL",
                                    "allas": "kisegítő",
                                    "datum": "2003-06-19 00:00:00.000",
                                    "oradij": "300",
                                    "oraszam": "4",
                                    "kozepiskolas": "0",
                                    "Bónusz dátum": "2003.12.31."
                                },
                                {
                                    "munkaId": "9",
                                    "MhelyId": "9",
                                    "DiakAz": "6",
                                    "allas": "takarító",
                                    "datum": "2003-06-19 00:00:00.000",
                                    "oradij": "400",
                                    "oraszam": "4",
                                    "kozepiskolas": "0",
                                    "Bónusz dátum": "2003.12.31."
                                },
                                {
                                    "munkaId": "10",
                                    "MhelyId": "9",
                                    "DiakAz": "6",
                                    "allas": "takarító",
                                    "datum": "2003-06-20 00:00:00.000",
                                    "oradij": "400",
                                    "oraszam": "4",
                                    "kozepiskolas": "0",
                                    "Bónusz dátum": "2003.12.31."
                                },
                                {
                                    "munkaId": "11",
                                    "MhelyId": "9",
                                    "DiakAz": "8",
                                    "allas": "kisegítő",
                                    "datum": "2003-06-21 00:00:00.000",
                                    "oradij": "300",
                                    "oraszam": "6",
                                    "kozepiskolas": "1",
                                    "Bónusz dátum": "2003.12.31."
                                },
                                {
                                    "munkaId": "12",
                                    "MhelyId": "9",
                                    "DiakAz": "8",
                                    "allas": "kisegítő",
                                    "datum": "2003-06-22 00:00:00.000",
                                    "oradij": "300",
                                    "oraszam": "6",
                                    "kozepiskolas": "1",
                                    "Bónusz dátum": "2003.12.31."
                                },
                                {
                                    "munkaId": "13",
                                    "MhelyId": "9",
                                    "DiakAz": "6",
                                    "allas": "takarító",
                                    "datum": "2003-06-23 00:00:00.000",
                                    "oradij": "400",
                                    "oraszam": "4",
                                    "kozepiskolas": "0",
                                    "Bónusz dátum": "2003.12.31."
                                },
                                {
                                    "munkaId": "16",
                                    "MhelyId": "6",
                                    "DiakAz": "5",
                                    "allas": "pincér",
                                    "datum": "2003-06-11 00:00:00.000",
                                    "oradij": "450",
                                    "oraszam": "6",
                                    "kozepiskolas": "0",
                                    "Bónusz dátum": "2003.12.31."
                                },
                                {
                                    "munkaId": "17",
                                    "MhelyId": "6",
                                    "DiakAz": "5",
                                    "allas": "pincér",
                                    "datum": "2003-06-12 00:00:00.000",
                                    "oradij": "450",
                                    "oraszam": "6",
                                    "kozepiskolas": "0",
                                    "Bónusz dátum": "2003.12.31."
                                },
                                {
                                    "munkaId": "22",
                                    "MhelyId": "11",
                                    "DiakAz": "5",
                                    "allas": "eladó",
                                    "datum": "2003-05-10 00:00:00.000",
                                    "oradij": "400",
                                    "oraszam": "4",
                                    "kozepiskolas": "0",
                                    "Bónusz dátum": "2003.12.31."
                                },
                                {
                                    "munkaId": "23",
                                    "MhelyId": "11",
                                    "DiakAz": "6",
                                    "allas": "raktáros",
                                    "datum": "2003-05-20 00:00:00.000",
                                    "oradij": "300",
                                    "oraszam": "4",
                                    "kozepiskolas": "0",
                                    "Bónusz dátum": "2003.12.31."
                                },
                                {
                                    "munkaId": "24",
                                    "MhelyId": "11",
                                    "DiakAz": "5",
                                    "allas": "eladó",
                                    "datum": "2003-06-23 00:00:00.000",
                                    "oradij": "300",
                                    "oraszam": "6",
                                    "kozepiskolas": "0",
                                    "Bónusz dátum": "2003.12.31."
                                },
                                {
                                    "munkaId": "38",
                                    "MhelyId": "5",
                                    "DiakAz": "7",
                                    "allas": "eladó",
                                    "datum": "2003-06-05 00:00:00.000",
                                    "oradij": "400",
                                    "oraszam": "4",
                                    "kozepiskolas": "0",
                                    "Bónusz dátum": "2003.12.31."
                                },
                                {
                                    "munkaId": "39",
                                    "MhelyId": "5",
                                    "DiakAz": "7",
                                    "allas": "eladó",
                                    "datum": "2003-06-06 00:00:00.000",
                                    "oradij": "400",
                                    "oraszam": "4",
                                    "kozepiskolas": "0",
                                    "Bónusz dátum": "2003.12.31."
                                },
                                {
                                    "munkaId": "40",
                                    "MhelyId": "5",
                                    "DiakAz": "7",
                                    "allas": "eladó",
                                    "datum": "2003-06-07 00:00:00.000",
                                    "oradij": "400",
                                    "oraszam": "4",
                                    "kozepiskolas": "0",
                                    "Bónusz dátum": "2003.12.31."
                                }
                            ]
                        },
                        "text/html": "<table><tr><th>munkaId</th><th>MhelyId</th><th>DiakAz</th><th>allas</th><th>datum</th><th>oradij</th><th>oraszam</th><th>kozepiskolas</th><th>Bónusz dátum</th></tr><tr><td>8</td><td>9</td><td>NULL</td><td>kisegítő</td><td>2003-06-19 00:00:00.000</td><td>300</td><td>4</td><td>0</td><td>2003.12.31.</td></tr><tr><td>9</td><td>9</td><td>6</td><td>takarító</td><td>2003-06-19 00:00:00.000</td><td>400</td><td>4</td><td>0</td><td>2003.12.31.</td></tr><tr><td>10</td><td>9</td><td>6</td><td>takarító</td><td>2003-06-20 00:00:00.000</td><td>400</td><td>4</td><td>0</td><td>2003.12.31.</td></tr><tr><td>11</td><td>9</td><td>8</td><td>kisegítő</td><td>2003-06-21 00:00:00.000</td><td>300</td><td>6</td><td>1</td><td>2003.12.31.</td></tr><tr><td>12</td><td>9</td><td>8</td><td>kisegítő</td><td>2003-06-22 00:00:00.000</td><td>300</td><td>6</td><td>1</td><td>2003.12.31.</td></tr><tr><td>13</td><td>9</td><td>6</td><td>takarító</td><td>2003-06-23 00:00:00.000</td><td>400</td><td>4</td><td>0</td><td>2003.12.31.</td></tr><tr><td>16</td><td>6</td><td>5</td><td>pincér</td><td>2003-06-11 00:00:00.000</td><td>450</td><td>6</td><td>0</td><td>2003.12.31.</td></tr><tr><td>17</td><td>6</td><td>5</td><td>pincér</td><td>2003-06-12 00:00:00.000</td><td>450</td><td>6</td><td>0</td><td>2003.12.31.</td></tr><tr><td>22</td><td>11</td><td>5</td><td>eladó</td><td>2003-05-10 00:00:00.000</td><td>400</td><td>4</td><td>0</td><td>2003.12.31.</td></tr><tr><td>23</td><td>11</td><td>6</td><td>raktáros</td><td>2003-05-20 00:00:00.000</td><td>300</td><td>4</td><td>0</td><td>2003.12.31.</td></tr><tr><td>24</td><td>11</td><td>5</td><td>eladó</td><td>2003-06-23 00:00:00.000</td><td>300</td><td>6</td><td>0</td><td>2003.12.31.</td></tr><tr><td>38</td><td>5</td><td>7</td><td>eladó</td><td>2003-06-05 00:00:00.000</td><td>400</td><td>4</td><td>0</td><td>2003.12.31.</td></tr><tr><td>39</td><td>5</td><td>7</td><td>eladó</td><td>2003-06-06 00:00:00.000</td><td>400</td><td>4</td><td>0</td><td>2003.12.31.</td></tr><tr><td>40</td><td>5</td><td>7</td><td>eladó</td><td>2003-06-07 00:00:00.000</td><td>400</td><td>4</td><td>0</td><td>2003.12.31.</td></tr></table>"
                    },
                    "metadata": {}
                }
            ],
            "execution_count": 91
        }
    ]
}