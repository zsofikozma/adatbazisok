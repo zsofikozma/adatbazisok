{
    "metadata": {
        "kernelspec": {
            "name": "SQL",
            "display_name": "SQL",
            "language": "sql"
        },
        "language_info": {
            "name": "sql",
            "version": ""
        }
    },
    "nbformat_minor": 2,
    "nbformat": 4,
    "cells": [
        {
            "cell_type": "markdown",
            "source": [
                "1\\. feladat"
            ],
            "metadata": {
                "azdata_cell_guid": "04de8667-e603-4a2f-b9f4-b7066189123a"
            },
            "attachments": {}
        },
        {
            "cell_type": "code",
            "source": [
                "nana"
            ],
            "metadata": {
                "azdata_cell_guid": "94ded50a-00ae-4b16-9ab6-03687d001d79",
                "language": "sql"
            },
            "outputs": [],
            "execution_count": null
        },
        {
            "cell_type": "markdown",
            "source": [
                "2\\. feladat"
            ],
            "metadata": {
                "azdata_cell_guid": "b60b5c9a-3004-414f-8c27-5922df72e4b9"
            },
            "attachments": {}
        },
        {
            "cell_type": "code",
            "source": [
                ""
            ],
            "metadata": {
                "azdata_cell_guid": "5f01fae0-fcca-4261-a7a4-3cbcc3217737",
                "language": "sql"
            },
            "outputs": [],
            "execution_count": null
        },
        {
            "cell_type": "markdown",
            "source": [
                "3\\. feladat"
            ],
            "metadata": {
                "azdata_cell_guid": "ef09ba8d-67eb-4171-b623-c78e1b1a10aa"
            },
            "attachments": {}
        },
        {
            "cell_type": "code",
            "source": [
                ""
            ],
            "metadata": {
                "azdata_cell_guid": "c083b64d-de9f-4350-8695-1559e29b1a7d",
                "language": "sql"
            },
            "outputs": [],
            "execution_count": null
        }
    ]
}