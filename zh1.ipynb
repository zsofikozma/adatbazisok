{
    "metadata": {
        "kernelspec": {
            "name": "SQL",
            "display_name": "SQL",
            "language": "sql"
        },
        "language_info": {
            "name": "sql",
            "version": ""
        }
    },
    "nbformat_minor": 2,
    "nbformat": 4,
    "cells": [
        {
            "cell_type": "markdown",
            "source": [
                "1\\. feladat\n",
                "\n",
                "Hány olyan foglalás történt, amely során a foglalás kezdete és vége azonos évre, de különböző hónapra esett?\n",
                "\n",
                "a. Csak a megfelelő számérték jelenjen meg\n",
                "\n",
                "b. Az oszlopot nevezzük el értelemszerűen!"
            ],
            "metadata": {
                "azdata_cell_guid": "04de8667-e603-4a2f-b9f4-b7066189123a"
            },
            "attachments": {}
        },
        {
            "cell_type": "code",
            "source": [
                "SELECT COUNT(*) AS 'azonos év, nem azonos hónap DB'\r\n",
                "FROM Foglalas\r\n",
                "WHERE YEAR(METTOL) = YEAR(MEDDIG) and MONTH(METTOL) <> MONTH(MEDDIG)"
            ],
            "metadata": {
                "azdata_cell_guid": "94ded50a-00ae-4b16-9ab6-03687d001d79",
                "language": "sql"
            },
            "outputs": [
                {
                    "output_type": "display_data",
                    "data": {
                        "text/html": "(1 row affected)"
                    },
                    "metadata": {}
                },
                {
                    "output_type": "display_data",
                    "data": {
                        "text/html": "Total execution time: 00:00:00.008"
                    },
                    "metadata": {}
                },
                {
                    "output_type": "execute_result",
                    "metadata": {},
                    "execution_count": 7,
                    "data": {
                        "application/vnd.dataresource+json": {
                            "schema": {
                                "fields": [
                                    {
                                        "name": "azonos év, nem azonos hónap DB"
                                    }
                                ]
                            },
                            "data": [
                                {
                                    "azonos év, nem azonos hónap DB": "131"
                                }
                            ]
                        },
                        "text/html": [
                            "<table>",
                            "<tr><th>azonos év, nem azonos hónap DB</th></tr>",
                            "<tr><td>131</td></tr>",
                            "</table>"
                        ]
                    }
                }
            ],
            "execution_count": 7
        },
        {
            "cell_type": "markdown",
            "source": [
                "2\\. feladat\n",
                "\n",
                "Készítsen lekérdezést, amely megjeleníti, hogy szobánként (SZOBA\\_FK) hány olyan foglalás történt, ahol a felnőttek száma nagyobb volt a gyermekek számánál!\n",
                "\n",
                "a. Az eredményt rendezzük sorba a foglalásszám szerint növekvően!\n",
                "\n",
                "b. Hagyjuk ki azokat a csoportokat, ahol az említett foglalásszám 2 alatti!"
            ],
            "metadata": {
                "azdata_cell_guid": "b60b5c9a-3004-414f-8c27-5922df72e4b9"
            },
            "attachments": {}
        },
        {
            "cell_type": "code",
            "source": [
                "SELECT SZOBA_FK,\r\n",
                "       COUNT(SZOBA_FK) AS 'foglalas db'\r\n",
                "FROM Foglalas\r\n",
                "WHERE FELNOTT_SZAM > GYERMEK_SZAM\r\n",
                "GROUP BY SZOBA_FK\r\n",
                "HAVING COUNT(SZOBA_FK)>2\r\n",
                "ORDER BY 2 ASC"
            ],
            "metadata": {
                "azdata_cell_guid": "5f01fae0-fcca-4261-a7a4-3cbcc3217737",
                "language": "sql"
            },
            "outputs": [
                {
                    "output_type": "display_data",
                    "data": {
                        "text/html": "(130 rows affected)"
                    },
                    "metadata": {}
                },
                {
                    "output_type": "display_data",
                    "data": {
                        "text/html": "Total execution time: 00:00:00.013"
                    },
                    "metadata": {}
                },
                {
                    "output_type": "execute_result",
                    "metadata": {},
                    "execution_count": 19,
                    "data": {
                        "application/vnd.dataresource+json": {
                            "schema": {
                                "fields": [
                                    {
                                        "name": "SZOBA_FK"
                                    },
                                    {
                                        "name": "foglalas db"
                                    }
                                ]
                            },
                            "data": [
                                {
                                    "SZOBA_FK": "3",
                                    "foglalas db": "3"
                                },
                                {
                                    "SZOBA_FK": "14",
                                    "foglalas db": "3"
                                },
                                {
                                    "SZOBA_FK": "23",
                                    "foglalas db": "3"
                                },
                                {
                                    "SZOBA_FK": "24",
                                    "foglalas db": "3"
                                },
                                {
                                    "SZOBA_FK": "29",
                                    "foglalas db": "3"
                                },
                                {
                                    "SZOBA_FK": "33",
                                    "foglalas db": "3"
                                },
                                {
                                    "SZOBA_FK": "34",
                                    "foglalas db": "3"
                                },
                                {
                                    "SZOBA_FK": "18",
                                    "foglalas db": "3"
                                },
                                {
                                    "SZOBA_FK": "40",
                                    "foglalas db": "3"
                                },
                                {
                                    "SZOBA_FK": "46",
                                    "foglalas db": "3"
                                },
                                {
                                    "SZOBA_FK": "50",
                                    "foglalas db": "3"
                                },
                                {
                                    "SZOBA_FK": "51",
                                    "foglalas db": "3"
                                },
                                {
                                    "SZOBA_FK": "55",
                                    "foglalas db": "3"
                                },
                                {
                                    "SZOBA_FK": "57",
                                    "foglalas db": "3"
                                },
                                {
                                    "SZOBA_FK": "62",
                                    "foglalas db": "3"
                                },
                                {
                                    "SZOBA_FK": "63",
                                    "foglalas db": "3"
                                },
                                {
                                    "SZOBA_FK": "66",
                                    "foglalas db": "3"
                                },
                                {
                                    "SZOBA_FK": "77",
                                    "foglalas db": "3"
                                },
                                {
                                    "SZOBA_FK": "78",
                                    "foglalas db": "3"
                                },
                                {
                                    "SZOBA_FK": "81",
                                    "foglalas db": "3"
                                },
                                {
                                    "SZOBA_FK": "84",
                                    "foglalas db": "3"
                                },
                                {
                                    "SZOBA_FK": "90",
                                    "foglalas db": "3"
                                },
                                {
                                    "SZOBA_FK": "93",
                                    "foglalas db": "3"
                                },
                                {
                                    "SZOBA_FK": "95",
                                    "foglalas db": "3"
                                },
                                {
                                    "SZOBA_FK": "104",
                                    "foglalas db": "3"
                                },
                                {
                                    "SZOBA_FK": "122",
                                    "foglalas db": "3"
                                },
                                {
                                    "SZOBA_FK": "129",
                                    "foglalas db": "3"
                                },
                                {
                                    "SZOBA_FK": "135",
                                    "foglalas db": "3"
                                },
                                {
                                    "SZOBA_FK": "146",
                                    "foglalas db": "3"
                                },
                                {
                                    "SZOBA_FK": "154",
                                    "foglalas db": "3"
                                },
                                {
                                    "SZOBA_FK": "155",
                                    "foglalas db": "3"
                                },
                                {
                                    "SZOBA_FK": "158",
                                    "foglalas db": "3"
                                },
                                {
                                    "SZOBA_FK": "161",
                                    "foglalas db": "3"
                                },
                                {
                                    "SZOBA_FK": "152",
                                    "foglalas db": "3"
                                },
                                {
                                    "SZOBA_FK": "166",
                                    "foglalas db": "3"
                                },
                                {
                                    "SZOBA_FK": "169",
                                    "foglalas db": "3"
                                },
                                {
                                    "SZOBA_FK": "170",
                                    "foglalas db": "3"
                                },
                                {
                                    "SZOBA_FK": "173",
                                    "foglalas db": "3"
                                },
                                {
                                    "SZOBA_FK": "175",
                                    "foglalas db": "3"
                                },
                                {
                                    "SZOBA_FK": "183",
                                    "foglalas db": "3"
                                },
                                {
                                    "SZOBA_FK": "191",
                                    "foglalas db": "3"
                                },
                                {
                                    "SZOBA_FK": "184",
                                    "foglalas db": "4"
                                },
                                {
                                    "SZOBA_FK": "174",
                                    "foglalas db": "4"
                                },
                                {
                                    "SZOBA_FK": "153",
                                    "foglalas db": "4"
                                },
                                {
                                    "SZOBA_FK": "164",
                                    "foglalas db": "4"
                                },
                                {
                                    "SZOBA_FK": "141",
                                    "foglalas db": "4"
                                },
                                {
                                    "SZOBA_FK": "131",
                                    "foglalas db": "4"
                                },
                                {
                                    "SZOBA_FK": "132",
                                    "foglalas db": "4"
                                },
                                {
                                    "SZOBA_FK": "133",
                                    "foglalas db": "4"
                                },
                                {
                                    "SZOBA_FK": "134",
                                    "foglalas db": "4"
                                },
                                {
                                    "SZOBA_FK": "124",
                                    "foglalas db": "4"
                                },
                                {
                                    "SZOBA_FK": "126",
                                    "foglalas db": "4"
                                },
                                {
                                    "SZOBA_FK": "117",
                                    "foglalas db": "4"
                                },
                                {
                                    "SZOBA_FK": "119",
                                    "foglalas db": "4"
                                },
                                {
                                    "SZOBA_FK": "106",
                                    "foglalas db": "4"
                                },
                                {
                                    "SZOBA_FK": "107",
                                    "foglalas db": "4"
                                },
                                {
                                    "SZOBA_FK": "98",
                                    "foglalas db": "4"
                                },
                                {
                                    "SZOBA_FK": "99",
                                    "foglalas db": "4"
                                },
                                {
                                    "SZOBA_FK": "112",
                                    "foglalas db": "4"
                                },
                                {
                                    "SZOBA_FK": "54",
                                    "foglalas db": "4"
                                },
                                {
                                    "SZOBA_FK": "86",
                                    "foglalas db": "4"
                                },
                                {
                                    "SZOBA_FK": "73",
                                    "foglalas db": "4"
                                },
                                {
                                    "SZOBA_FK": "79",
                                    "foglalas db": "4"
                                },
                                {
                                    "SZOBA_FK": "59",
                                    "foglalas db": "4"
                                },
                                {
                                    "SZOBA_FK": "61",
                                    "foglalas db": "4"
                                },
                                {
                                    "SZOBA_FK": "45",
                                    "foglalas db": "4"
                                },
                                {
                                    "SZOBA_FK": "43",
                                    "foglalas db": "4"
                                },
                                {
                                    "SZOBA_FK": "13",
                                    "foglalas db": "4"
                                },
                                {
                                    "SZOBA_FK": "39",
                                    "foglalas db": "4"
                                },
                                {
                                    "SZOBA_FK": "19",
                                    "foglalas db": "4"
                                },
                                {
                                    "SZOBA_FK": "36",
                                    "foglalas db": "4"
                                },
                                {
                                    "SZOBA_FK": "15",
                                    "foglalas db": "4"
                                },
                                {
                                    "SZOBA_FK": "9",
                                    "foglalas db": "4"
                                },
                                {
                                    "SZOBA_FK": "10",
                                    "foglalas db": "4"
                                },
                                {
                                    "SZOBA_FK": "11",
                                    "foglalas db": "4"
                                },
                                {
                                    "SZOBA_FK": "4",
                                    "foglalas db": "5"
                                },
                                {
                                    "SZOBA_FK": "6",
                                    "foglalas db": "5"
                                },
                                {
                                    "SZOBA_FK": "8",
                                    "foglalas db": "5"
                                },
                                {
                                    "SZOBA_FK": "27",
                                    "foglalas db": "5"
                                },
                                {
                                    "SZOBA_FK": "28",
                                    "foglalas db": "5"
                                },
                                {
                                    "SZOBA_FK": "38",
                                    "foglalas db": "5"
                                },
                                {
                                    "SZOBA_FK": "20",
                                    "foglalas db": "5"
                                },
                                {
                                    "SZOBA_FK": "42",
                                    "foglalas db": "5"
                                },
                                {
                                    "SZOBA_FK": "49",
                                    "foglalas db": "5"
                                },
                                {
                                    "SZOBA_FK": "52",
                                    "foglalas db": "5"
                                },
                                {
                                    "SZOBA_FK": "80",
                                    "foglalas db": "5"
                                },
                                {
                                    "SZOBA_FK": "64",
                                    "foglalas db": "5"
                                },
                                {
                                    "SZOBA_FK": "82",
                                    "foglalas db": "5"
                                },
                                {
                                    "SZOBA_FK": "83",
                                    "foglalas db": "5"
                                },
                                {
                                    "SZOBA_FK": "87",
                                    "foglalas db": "5"
                                },
                                {
                                    "SZOBA_FK": "88",
                                    "foglalas db": "5"
                                },
                                {
                                    "SZOBA_FK": "97",
                                    "foglalas db": "5"
                                },
                                {
                                    "SZOBA_FK": "92",
                                    "foglalas db": "5"
                                },
                                {
                                    "SZOBA_FK": "115",
                                    "foglalas db": "5"
                                },
                                {
                                    "SZOBA_FK": "110",
                                    "foglalas db": "5"
                                },
                                {
                                    "SZOBA_FK": "121",
                                    "foglalas db": "5"
                                },
                                {
                                    "SZOBA_FK": "123",
                                    "foglalas db": "5"
                                },
                                {
                                    "SZOBA_FK": "127",
                                    "foglalas db": "5"
                                },
                                {
                                    "SZOBA_FK": "130",
                                    "foglalas db": "5"
                                },
                                {
                                    "SZOBA_FK": "143",
                                    "foglalas db": "5"
                                },
                                {
                                    "SZOBA_FK": "138",
                                    "foglalas db": "5"
                                },
                                {
                                    "SZOBA_FK": "163",
                                    "foglalas db": "5"
                                },
                                {
                                    "SZOBA_FK": "148",
                                    "foglalas db": "5"
                                },
                                {
                                    "SZOBA_FK": "149",
                                    "foglalas db": "5"
                                },
                                {
                                    "SZOBA_FK": "165",
                                    "foglalas db": "5"
                                },
                                {
                                    "SZOBA_FK": "171",
                                    "foglalas db": "5"
                                },
                                {
                                    "SZOBA_FK": "181",
                                    "foglalas db": "5"
                                },
                                {
                                    "SZOBA_FK": "140",
                                    "foglalas db": "5"
                                },
                                {
                                    "SZOBA_FK": "195",
                                    "foglalas db": "5"
                                },
                                {
                                    "SZOBA_FK": "190",
                                    "foglalas db": "5"
                                },
                                {
                                    "SZOBA_FK": "197",
                                    "foglalas db": "6"
                                },
                                {
                                    "SZOBA_FK": "187",
                                    "foglalas db": "6"
                                },
                                {
                                    "SZOBA_FK": "172",
                                    "foglalas db": "6"
                                },
                                {
                                    "SZOBA_FK": "150",
                                    "foglalas db": "6"
                                },
                                {
                                    "SZOBA_FK": "139",
                                    "foglalas db": "6"
                                },
                                {
                                    "SZOBA_FK": "94",
                                    "foglalas db": "6"
                                },
                                {
                                    "SZOBA_FK": "96",
                                    "foglalas db": "6"
                                },
                                {
                                    "SZOBA_FK": "44",
                                    "foglalas db": "6"
                                },
                                {
                                    "SZOBA_FK": "48",
                                    "foglalas db": "6"
                                },
                                {
                                    "SZOBA_FK": "35",
                                    "foglalas db": "6"
                                },
                                {
                                    "SZOBA_FK": "7",
                                    "foglalas db": "6"
                                },
                                {
                                    "SZOBA_FK": "12",
                                    "foglalas db": "7"
                                },
                                {
                                    "SZOBA_FK": "1",
                                    "foglalas db": "7"
                                },
                                {
                                    "SZOBA_FK": "198",
                                    "foglalas db": "7"
                                },
                                {
                                    "SZOBA_FK": "89",
                                    "foglalas db": "8"
                                },
                                {
                                    "SZOBA_FK": "74",
                                    "foglalas db": "8"
                                },
                                {
                                    "SZOBA_FK": "70",
                                    "foglalas db": "8"
                                },
                                {
                                    "SZOBA_FK": "58",
                                    "foglalas db": "8"
                                },
                                {
                                    "SZOBA_FK": "185",
                                    "foglalas db": "10"
                                },
                                {
                                    "SZOBA_FK": "182",
                                    "foglalas db": "11"
                                }
                            ]
                        },
                        "text/html": [
                            "<table>",
                            "<tr><th>SZOBA_FK</th><th>foglalas db</th></tr>",
                            "<tr><td>3</td><td>3</td></tr>",
                            "<tr><td>14</td><td>3</td></tr>",
                            "<tr><td>23</td><td>3</td></tr>",
                            "<tr><td>24</td><td>3</td></tr>",
                            "<tr><td>29</td><td>3</td></tr>",
                            "<tr><td>33</td><td>3</td></tr>",
                            "<tr><td>34</td><td>3</td></tr>",
                            "<tr><td>18</td><td>3</td></tr>",
                            "<tr><td>40</td><td>3</td></tr>",
                            "<tr><td>46</td><td>3</td></tr>",
                            "<tr><td>50</td><td>3</td></tr>",
                            "<tr><td>51</td><td>3</td></tr>",
                            "<tr><td>55</td><td>3</td></tr>",
                            "<tr><td>57</td><td>3</td></tr>",
                            "<tr><td>62</td><td>3</td></tr>",
                            "<tr><td>63</td><td>3</td></tr>",
                            "<tr><td>66</td><td>3</td></tr>",
                            "<tr><td>77</td><td>3</td></tr>",
                            "<tr><td>78</td><td>3</td></tr>",
                            "<tr><td>81</td><td>3</td></tr>",
                            "<tr><td>84</td><td>3</td></tr>",
                            "<tr><td>90</td><td>3</td></tr>",
                            "<tr><td>93</td><td>3</td></tr>",
                            "<tr><td>95</td><td>3</td></tr>",
                            "<tr><td>104</td><td>3</td></tr>",
                            "<tr><td>122</td><td>3</td></tr>",
                            "<tr><td>129</td><td>3</td></tr>",
                            "<tr><td>135</td><td>3</td></tr>",
                            "<tr><td>146</td><td>3</td></tr>",
                            "<tr><td>154</td><td>3</td></tr>",
                            "<tr><td>155</td><td>3</td></tr>",
                            "<tr><td>158</td><td>3</td></tr>",
                            "<tr><td>161</td><td>3</td></tr>",
                            "<tr><td>152</td><td>3</td></tr>",
                            "<tr><td>166</td><td>3</td></tr>",
                            "<tr><td>169</td><td>3</td></tr>",
                            "<tr><td>170</td><td>3</td></tr>",
                            "<tr><td>173</td><td>3</td></tr>",
                            "<tr><td>175</td><td>3</td></tr>",
                            "<tr><td>183</td><td>3</td></tr>",
                            "<tr><td>191</td><td>3</td></tr>",
                            "<tr><td>184</td><td>4</td></tr>",
                            "<tr><td>174</td><td>4</td></tr>",
                            "<tr><td>153</td><td>4</td></tr>",
                            "<tr><td>164</td><td>4</td></tr>",
                            "<tr><td>141</td><td>4</td></tr>",
                            "<tr><td>131</td><td>4</td></tr>",
                            "<tr><td>132</td><td>4</td></tr>",
                            "<tr><td>133</td><td>4</td></tr>",
                            "<tr><td>134</td><td>4</td></tr>",
                            "<tr><td>124</td><td>4</td></tr>",
                            "<tr><td>126</td><td>4</td></tr>",
                            "<tr><td>117</td><td>4</td></tr>",
                            "<tr><td>119</td><td>4</td></tr>",
                            "<tr><td>106</td><td>4</td></tr>",
                            "<tr><td>107</td><td>4</td></tr>",
                            "<tr><td>98</td><td>4</td></tr>",
                            "<tr><td>99</td><td>4</td></tr>",
                            "<tr><td>112</td><td>4</td></tr>",
                            "<tr><td>54</td><td>4</td></tr>",
                            "<tr><td>86</td><td>4</td></tr>",
                            "<tr><td>73</td><td>4</td></tr>",
                            "<tr><td>79</td><td>4</td></tr>",
                            "<tr><td>59</td><td>4</td></tr>",
                            "<tr><td>61</td><td>4</td></tr>",
                            "<tr><td>45</td><td>4</td></tr>",
                            "<tr><td>43</td><td>4</td></tr>",
                            "<tr><td>13</td><td>4</td></tr>",
                            "<tr><td>39</td><td>4</td></tr>",
                            "<tr><td>19</td><td>4</td></tr>",
                            "<tr><td>36</td><td>4</td></tr>",
                            "<tr><td>15</td><td>4</td></tr>",
                            "<tr><td>9</td><td>4</td></tr>",
                            "<tr><td>10</td><td>4</td></tr>",
                            "<tr><td>11</td><td>4</td></tr>",
                            "<tr><td>4</td><td>5</td></tr>",
                            "<tr><td>6</td><td>5</td></tr>",
                            "<tr><td>8</td><td>5</td></tr>",
                            "<tr><td>27</td><td>5</td></tr>",
                            "<tr><td>28</td><td>5</td></tr>",
                            "<tr><td>38</td><td>5</td></tr>",
                            "<tr><td>20</td><td>5</td></tr>",
                            "<tr><td>42</td><td>5</td></tr>",
                            "<tr><td>49</td><td>5</td></tr>",
                            "<tr><td>52</td><td>5</td></tr>",
                            "<tr><td>80</td><td>5</td></tr>",
                            "<tr><td>64</td><td>5</td></tr>",
                            "<tr><td>82</td><td>5</td></tr>",
                            "<tr><td>83</td><td>5</td></tr>",
                            "<tr><td>87</td><td>5</td></tr>",
                            "<tr><td>88</td><td>5</td></tr>",
                            "<tr><td>97</td><td>5</td></tr>",
                            "<tr><td>92</td><td>5</td></tr>",
                            "<tr><td>115</td><td>5</td></tr>",
                            "<tr><td>110</td><td>5</td></tr>",
                            "<tr><td>121</td><td>5</td></tr>",
                            "<tr><td>123</td><td>5</td></tr>",
                            "<tr><td>127</td><td>5</td></tr>",
                            "<tr><td>130</td><td>5</td></tr>",
                            "<tr><td>143</td><td>5</td></tr>",
                            "<tr><td>138</td><td>5</td></tr>",
                            "<tr><td>163</td><td>5</td></tr>",
                            "<tr><td>148</td><td>5</td></tr>",
                            "<tr><td>149</td><td>5</td></tr>",
                            "<tr><td>165</td><td>5</td></tr>",
                            "<tr><td>171</td><td>5</td></tr>",
                            "<tr><td>181</td><td>5</td></tr>",
                            "<tr><td>140</td><td>5</td></tr>",
                            "<tr><td>195</td><td>5</td></tr>",
                            "<tr><td>190</td><td>5</td></tr>",
                            "<tr><td>197</td><td>6</td></tr>",
                            "<tr><td>187</td><td>6</td></tr>",
                            "<tr><td>172</td><td>6</td></tr>",
                            "<tr><td>150</td><td>6</td></tr>",
                            "<tr><td>139</td><td>6</td></tr>",
                            "<tr><td>94</td><td>6</td></tr>",
                            "<tr><td>96</td><td>6</td></tr>",
                            "<tr><td>44</td><td>6</td></tr>",
                            "<tr><td>48</td><td>6</td></tr>",
                            "<tr><td>35</td><td>6</td></tr>",
                            "<tr><td>7</td><td>6</td></tr>",
                            "<tr><td>12</td><td>7</td></tr>",
                            "<tr><td>1</td><td>7</td></tr>",
                            "<tr><td>198</td><td>7</td></tr>",
                            "<tr><td>89</td><td>8</td></tr>",
                            "<tr><td>74</td><td>8</td></tr>",
                            "<tr><td>70</td><td>8</td></tr>",
                            "<tr><td>58</td><td>8</td></tr>",
                            "<tr><td>185</td><td>10</td></tr>",
                            "<tr><td>182</td><td>11</td></tr>",
                            "</table>"
                        ]
                    }
                }
            ],
            "execution_count": 19
        },
        {
            "cell_type": "markdown",
            "source": [
                "3\\. feladat\n",
                "\n",
                "Készítsünk lekérdezést, amely megmutatja, hogy melyik szobát évente hányszor foglalták le!\n",
                "\n",
                "a. Jelenítsük meg a szobák azonosítóját, az évszámot és a foglalások számát!\n",
                "\n",
                "b. A listát szűrjük a 10 db foglalás feletti tételekre\n",
                "\n",
                "c. A listából hagyjuk ki a páros szobaszámú szobákat"
            ],
            "metadata": {
                "azdata_cell_guid": "ef09ba8d-67eb-4171-b623-c78e1b1a10aa"
            },
            "attachments": {}
        },
        {
            "cell_type": "code",
            "source": [
                "SELECT * \r\n",
                "FROM Foglalas\r\n",
                ""
            ],
            "metadata": {
                "azdata_cell_guid": "c083b64d-de9f-4350-8695-1559e29b1a7d",
                "language": "sql"
            },
            "outputs": [
                {
                    "output_type": "display_data",
                    "data": {
                        "text/html": "(1027 rows affected)"
                    },
                    "metadata": {}
                },
                {
                    "output_type": "display_data",
                    "data": {
                        "text/html": "Total execution time: 00:00:00.009"
                    },
                    "metadata": {}
                },
                {
                    "output_type": "execute_result",
                    "metadata": {},
                    "execution_count": 20,
                    "data": {
                        "application/vnd.dataresource+json": {
                            "schema": {
                                "fields": [
                                    {
                                        "name": "FOGLALAS_PK"
                                    },
                                    {
                                        "name": "UGYFEL_FK"
                                    },
                                    {
                                        "name": "SZOBA_FK"
                                    },
                                    {
                                        "name": "METTOL"
                                    },
                                    {
                                        "name": "MEDDIG"
                                    },
                                    {
                                        "name": "FELNOTT_SZAM"
                                    },
                                    {
                                        "name": "GYERMEK_SZAM"
                                    }
                                ]
                            },
                            "data": [
                                {
                                    "FOGLALAS_PK": "558",
                                    "UGYFEL_FK": "NANDORF",
                                    "SZOBA_FK": "87",
                                    "METTOL": "2016-04-06",
                                    "MEDDIG": "2016-04-10",
                                    "FELNOTT_SZAM": "2",
                                    "GYERMEK_SZAM": "1"
                                },
                                {
                                    "FOGLALAS_PK": "559",
                                    "UGYFEL_FK": "ARONK",
                                    "SZOBA_FK": "131",
                                    "METTOL": "2016-04-06",
                                    "MEDDIG": "2016-04-08",
                                    "FELNOTT_SZAM": "2",
                                    "GYERMEK_SZAM": "0"
                                },
                                {
                                    "FOGLALAS_PK": "560",
                                    "UGYFEL_FK": "SEBASTIANF",
                                    "SZOBA_FK": "6",
                                    "METTOL": "2016-04-06",
                                    "MEDDIG": "2016-04-12",
                                    "FELNOTT_SZAM": "2",
                                    "GYERMEK_SZAM": "0"
                                },
                                {
                                    "FOGLALAS_PK": "561",
                                    "UGYFEL_FK": "laszlo2",
                                    "SZOBA_FK": "42",
                                    "METTOL": "2016-04-06",
                                    "MEDDIG": "2016-04-10",
                                    "FELNOTT_SZAM": "2",
                                    "GYERMEK_SZAM": "0"
                                },
                                {
                                    "FOGLALAS_PK": "562",
                                    "UGYFEL_FK": "PETERB",
                                    "SZOBA_FK": "7",
                                    "METTOL": "2016-04-06",
                                    "MEDDIG": "2016-04-10",
                                    "FELNOTT_SZAM": "1",
                                    "GYERMEK_SZAM": "0"
                                },
                                {
                                    "FOGLALAS_PK": "563",
                                    "UGYFEL_FK": "sebestyen",
                                    "SZOBA_FK": "68",
                                    "METTOL": "2016-04-07",
                                    "MEDDIG": "2016-04-12",
                                    "FELNOTT_SZAM": "1",
                                    "GYERMEK_SZAM": "3"
                                },
                                {
                                    "FOGLALAS_PK": "564",
                                    "UGYFEL_FK": "nikoletta4",
                                    "SZOBA_FK": "5",
                                    "METTOL": "2016-04-08",
                                    "MEDDIG": "2016-04-10",
                                    "FELNOTT_SZAM": "1",
                                    "GYERMEK_SZAM": "1"
                                },
                                {
                                    "FOGLALAS_PK": "565",
                                    "UGYFEL_FK": "kristof4",
                                    "SZOBA_FK": "141",
                                    "METTOL": "2016-04-08",
                                    "MEDDIG": "2016-04-14",
                                    "FELNOTT_SZAM": "2",
                                    "GYERMEK_SZAM": "0"
                                },
                                {
                                    "FOGLALAS_PK": "566",
                                    "UGYFEL_FK": "KRISZTIANM",
                                    "SZOBA_FK": "21",
                                    "METTOL": "2016-04-09",
                                    "MEDDIG": "2016-04-15",
                                    "FELNOTT_SZAM": "1",
                                    "GYERMEK_SZAM": "1"
                                },
                                {
                                    "FOGLALAS_PK": "567",
                                    "UGYFEL_FK": "anett3",
                                    "SZOBA_FK": "170",
                                    "METTOL": "2016-04-10",
                                    "MEDDIG": "2016-04-17",
                                    "FELNOTT_SZAM": "1",
                                    "GYERMEK_SZAM": "0"
                                },
                                {
                                    "FOGLALAS_PK": "568",
                                    "UGYFEL_FK": "kata",
                                    "SZOBA_FK": "78",
                                    "METTOL": "2016-04-10",
                                    "MEDDIG": "2016-04-11",
                                    "FELNOTT_SZAM": "2",
                                    "GYERMEK_SZAM": "0"
                                },
                                {
                                    "FOGLALAS_PK": "569",
                                    "UGYFEL_FK": "norbert4",
                                    "SZOBA_FK": "10",
                                    "METTOL": "2016-04-10",
                                    "MEDDIG": "2016-04-13",
                                    "FELNOTT_SZAM": "2",
                                    "GYERMEK_SZAM": "0"
                                },
                                {
                                    "FOGLALAS_PK": "570",
                                    "UGYFEL_FK": "BERNADETTO",
                                    "SZOBA_FK": "164",
                                    "METTOL": "2016-04-10",
                                    "MEDDIG": "2016-04-17",
                                    "FELNOTT_SZAM": "2",
                                    "GYERMEK_SZAM": "0"
                                },
                                {
                                    "FOGLALAS_PK": "571",
                                    "UGYFEL_FK": "AGNESH",
                                    "SZOBA_FK": "182",
                                    "METTOL": "2016-04-10",
                                    "MEDDIG": "2016-04-12",
                                    "FELNOTT_SZAM": "1",
                                    "GYERMEK_SZAM": "1"
                                },
                                {
                                    "FOGLALAS_PK": "572",
                                    "UGYFEL_FK": "katalin",
                                    "SZOBA_FK": "83",
                                    "METTOL": "2016-04-10",
                                    "MEDDIG": "2016-04-17",
                                    "FELNOTT_SZAM": "1",
                                    "GYERMEK_SZAM": "1"
                                },
                                {
                                    "FOGLALAS_PK": "573",
                                    "UGYFEL_FK": "daniel1",
                                    "SZOBA_FK": "169",
                                    "METTOL": "2016-04-10",
                                    "MEDDIG": "2016-04-15",
                                    "FELNOTT_SZAM": "1",
                                    "GYERMEK_SZAM": "1"
                                },
                                {
                                    "FOGLALAS_PK": "574",
                                    "UGYFEL_FK": "katka",
                                    "SZOBA_FK": "171",
                                    "METTOL": "2016-04-10",
                                    "MEDDIG": "2016-04-12",
                                    "FELNOTT_SZAM": "2",
                                    "GYERMEK_SZAM": "0"
                                },
                                {
                                    "FOGLALAS_PK": "575",
                                    "UGYFEL_FK": "daniel",
                                    "SZOBA_FK": "155",
                                    "METTOL": "2016-04-10",
                                    "MEDDIG": "2016-04-11",
                                    "FELNOTT_SZAM": "1",
                                    "GYERMEK_SZAM": "3"
                                },
                                {
                                    "FOGLALAS_PK": "576",
                                    "UGYFEL_FK": "aron2",
                                    "SZOBA_FK": "125",
                                    "METTOL": "2016-04-11",
                                    "MEDDIG": "2016-04-12",
                                    "FELNOTT_SZAM": "1",
                                    "GYERMEK_SZAM": "2"
                                },
                                {
                                    "FOGLALAS_PK": "577",
                                    "UGYFEL_FK": "peter4",
                                    "SZOBA_FK": "155",
                                    "METTOL": "2016-04-12",
                                    "MEDDIG": "2016-04-15",
                                    "FELNOTT_SZAM": "2",
                                    "GYERMEK_SZAM": "1"
                                },
                                {
                                    "FOGLALAS_PK": "578",
                                    "UGYFEL_FK": "anett3",
                                    "SZOBA_FK": "185",
                                    "METTOL": "2016-04-13",
                                    "MEDDIG": "2016-04-19",
                                    "FELNOTT_SZAM": "2",
                                    "GYERMEK_SZAM": "1"
                                },
                                {
                                    "FOGLALAS_PK": "579",
                                    "UGYFEL_FK": "ZSUZSAV",
                                    "SZOBA_FK": "139",
                                    "METTOL": "2016-04-14",
                                    "MEDDIG": "2016-04-16",
                                    "FELNOTT_SZAM": "2",
                                    "GYERMEK_SZAM": "0"
                                },
                                {
                                    "FOGLALAS_PK": "580",
                                    "UGYFEL_FK": "zsolt1",
                                    "SZOBA_FK": "130",
                                    "METTOL": "2016-04-14",
                                    "MEDDIG": "2016-04-17",
                                    "FELNOTT_SZAM": "2",
                                    "GYERMEK_SZAM": "0"
                                },
                                {
                                    "FOGLALAS_PK": "581",
                                    "UGYFEL_FK": "anett3",
                                    "SZOBA_FK": "144",
                                    "METTOL": "2016-04-15",
                                    "MEDDIG": "2016-04-19",
                                    "FELNOTT_SZAM": "2",
                                    "GYERMEK_SZAM": "1"
                                },
                                {
                                    "FOGLALAS_PK": "582",
                                    "UGYFEL_FK": "balazs2",
                                    "SZOBA_FK": "137",
                                    "METTOL": "2016-04-16",
                                    "MEDDIG": "2016-04-19",
                                    "FELNOTT_SZAM": "1",
                                    "GYERMEK_SZAM": "1"
                                },
                                {
                                    "FOGLALAS_PK": "583",
                                    "UGYFEL_FK": "istvan1",
                                    "SZOBA_FK": "79",
                                    "METTOL": "2016-04-16",
                                    "MEDDIG": "2016-04-22",
                                    "FELNOTT_SZAM": "3",
                                    "GYERMEK_SZAM": "0"
                                },
                                {
                                    "FOGLALAS_PK": "584",
                                    "UGYFEL_FK": "BERNADETTO",
                                    "SZOBA_FK": "136",
                                    "METTOL": "2016-04-17",
                                    "MEDDIG": "2016-04-19",
                                    "FELNOTT_SZAM": "1",
                                    "GYERMEK_SZAM": "1"
                                },
                                {
                                    "FOGLALAS_PK": "585",
                                    "UGYFEL_FK": "polla",
                                    "SZOBA_FK": "70",
                                    "METTOL": "2016-04-17",
                                    "MEDDIG": "2016-04-22",
                                    "FELNOTT_SZAM": "1",
                                    "GYERMEK_SZAM": "2"
                                },
                                {
                                    "FOGLALAS_PK": "586",
                                    "UGYFEL_FK": "BEATRIXS",
                                    "SZOBA_FK": "107",
                                    "METTOL": "2016-04-18",
                                    "MEDDIG": "2016-04-24",
                                    "FELNOTT_SZAM": "1",
                                    "GYERMEK_SZAM": "0"
                                },
                                {
                                    "FOGLALAS_PK": "587",
                                    "UGYFEL_FK": "norbert2",
                                    "SZOBA_FK": "123",
                                    "METTOL": "2016-04-19",
                                    "MEDDIG": "2016-04-26",
                                    "FELNOTT_SZAM": "1",
                                    "GYERMEK_SZAM": "0"
                                },
                                {
                                    "FOGLALAS_PK": "588",
                                    "UGYFEL_FK": "mark",
                                    "SZOBA_FK": "156",
                                    "METTOL": "2016-04-19",
                                    "MEDDIG": "2016-04-26",
                                    "FELNOTT_SZAM": "2",
                                    "GYERMEK_SZAM": "2"
                                },
                                {
                                    "FOGLALAS_PK": "589",
                                    "UGYFEL_FK": "miklos2",
                                    "SZOBA_FK": "44",
                                    "METTOL": "2016-04-19",
                                    "MEDDIG": "2016-04-21",
                                    "FELNOTT_SZAM": "3",
                                    "GYERMEK_SZAM": "0"
                                },
                                {
                                    "FOGLALAS_PK": "590",
                                    "UGYFEL_FK": "ANIKOS",
                                    "SZOBA_FK": "42",
                                    "METTOL": "2016-04-19",
                                    "MEDDIG": "2016-04-24",
                                    "FELNOTT_SZAM": "1",
                                    "GYERMEK_SZAM": "1"
                                },
                                {
                                    "FOGLALAS_PK": "591",
                                    "UGYFEL_FK": "beata4",
                                    "SZOBA_FK": "149",
                                    "METTOL": "2016-04-20",
                                    "MEDDIG": "2016-04-21",
                                    "FELNOTT_SZAM": "1",
                                    "GYERMEK_SZAM": "1"
                                },
                                {
                                    "FOGLALAS_PK": "592",
                                    "UGYFEL_FK": "julia",
                                    "SZOBA_FK": "176",
                                    "METTOL": "2016-04-21",
                                    "MEDDIG": "2016-04-26",
                                    "FELNOTT_SZAM": "1",
                                    "GYERMEK_SZAM": "1"
                                },
                                {
                                    "FOGLALAS_PK": "593",
                                    "UGYFEL_FK": "gabriella1",
                                    "SZOBA_FK": "77",
                                    "METTOL": "2016-04-21",
                                    "MEDDIG": "2016-04-24",
                                    "FELNOTT_SZAM": "3",
                                    "GYERMEK_SZAM": "0"
                                },
                                {
                                    "FOGLALAS_PK": "594",
                                    "UGYFEL_FK": "daniel",
                                    "SZOBA_FK": "153",
                                    "METTOL": "2016-04-22",
                                    "MEDDIG": "2016-04-25",
                                    "FELNOTT_SZAM": "2",
                                    "GYERMEK_SZAM": "0"
                                },
                                {
                                    "FOGLALAS_PK": "595",
                                    "UGYFEL_FK": "balint",
                                    "SZOBA_FK": "74",
                                    "METTOL": "2016-04-22",
                                    "MEDDIG": "2016-04-29",
                                    "FELNOTT_SZAM": "2",
                                    "GYERMEK_SZAM": "0"
                                },
                                {
                                    "FOGLALAS_PK": "596",
                                    "UGYFEL_FK": "SZILARDS",
                                    "SZOBA_FK": "115",
                                    "METTOL": "2016-04-23",
                                    "MEDDIG": "2016-04-30",
                                    "FELNOTT_SZAM": "3",
                                    "GYERMEK_SZAM": "0"
                                },
                                {
                                    "FOGLALAS_PK": "597",
                                    "UGYFEL_FK": "KRISZTINAG",
                                    "SZOBA_FK": "100",
                                    "METTOL": "2016-04-23",
                                    "MEDDIG": "2016-04-24",
                                    "FELNOTT_SZAM": "2",
                                    "GYERMEK_SZAM": "0"
                                },
                                {
                                    "FOGLALAS_PK": "598",
                                    "UGYFEL_FK": "ZSOLTJ",
                                    "SZOBA_FK": "31",
                                    "METTOL": "2016-04-24",
                                    "MEDDIG": "2016-04-26",
                                    "FELNOTT_SZAM": "2",
                                    "GYERMEK_SZAM": "2"
                                },
                                {
                                    "FOGLALAS_PK": "599",
                                    "UGYFEL_FK": "istvan1",
                                    "SZOBA_FK": "162",
                                    "METTOL": "2016-04-24",
                                    "MEDDIG": "2016-04-28",
                                    "FELNOTT_SZAM": "3",
                                    "GYERMEK_SZAM": "0"
                                },
                                {
                                    "FOGLALAS_PK": "600",
                                    "UGYFEL_FK": "ANDRASE",
                                    "SZOBA_FK": "190",
                                    "METTOL": "2016-04-24",
                                    "MEDDIG": "2016-05-01",
                                    "FELNOTT_SZAM": "1",
                                    "GYERMEK_SZAM": "0"
                                },
                                {
                                    "FOGLALAS_PK": "601",
                                    "UGYFEL_FK": "kata",
                                    "SZOBA_FK": "39",
                                    "METTOL": "2016-04-25",
                                    "MEDDIG": "2016-05-01",
                                    "FELNOTT_SZAM": "1",
                                    "GYERMEK_SZAM": "0"
                                },
                                {
                                    "FOGLALAS_PK": "602",
                                    "UGYFEL_FK": "sebestyen",
                                    "SZOBA_FK": "17",
                                    "METTOL": "2016-04-26",
                                    "MEDDIG": "2016-05-02",
                                    "FELNOTT_SZAM": "3",
                                    "GYERMEK_SZAM": "1"
                                },
                                {
                                    "FOGLALAS_PK": "603",
                                    "UGYFEL_FK": "gabor4",
                                    "SZOBA_FK": "48",
                                    "METTOL": "2016-04-26",
                                    "MEDDIG": "2016-04-29",
                                    "FELNOTT_SZAM": "3",
                                    "GYERMEK_SZAM": "0"
                                },
                                {
                                    "FOGLALAS_PK": "604",
                                    "UGYFEL_FK": "laszlo2",
                                    "SZOBA_FK": "30",
                                    "METTOL": "2016-04-27",
                                    "MEDDIG": "2016-04-29",
                                    "FELNOTT_SZAM": "1",
                                    "GYERMEK_SZAM": "1"
                                },
                                {
                                    "FOGLALAS_PK": "605",
                                    "UGYFEL_FK": "marton",
                                    "SZOBA_FK": "111",
                                    "METTOL": "2016-04-27",
                                    "MEDDIG": "2016-05-04",
                                    "FELNOTT_SZAM": "2",
                                    "GYERMEK_SZAM": "1"
                                },
                                {
                                    "FOGLALAS_PK": "606",
                                    "UGYFEL_FK": "AGNESH",
                                    "SZOBA_FK": "31",
                                    "METTOL": "2016-04-27",
                                    "MEDDIG": "2016-04-28",
                                    "FELNOTT_SZAM": "1",
                                    "GYERMEK_SZAM": "3"
                                },
                                {
                                    "FOGLALAS_PK": "607",
                                    "UGYFEL_FK": "anett3",
                                    "SZOBA_FK": "96",
                                    "METTOL": "2016-04-28",
                                    "MEDDIG": "2016-05-02",
                                    "FELNOTT_SZAM": "2",
                                    "GYERMEK_SZAM": "1"
                                },
                                {
                                    "FOGLALAS_PK": "608",
                                    "UGYFEL_FK": "krisztina1",
                                    "SZOBA_FK": "184",
                                    "METTOL": "2016-04-28",
                                    "MEDDIG": "2016-04-30",
                                    "FELNOTT_SZAM": "2",
                                    "GYERMEK_SZAM": "0"
                                },
                                {
                                    "FOGLALAS_PK": "609",
                                    "UGYFEL_FK": "MONIKAM",
                                    "SZOBA_FK": "9",
                                    "METTOL": "2016-04-29",
                                    "MEDDIG": "2016-05-01",
                                    "FELNOTT_SZAM": "2",
                                    "GYERMEK_SZAM": "0"
                                },
                                {
                                    "FOGLALAS_PK": "610",
                                    "UGYFEL_FK": "VIKTORIAU",
                                    "SZOBA_FK": "106",
                                    "METTOL": "2016-04-30",
                                    "MEDDIG": "2016-05-03",
                                    "FELNOTT_SZAM": "1",
                                    "GYERMEK_SZAM": "0"
                                },
                                {
                                    "FOGLALAS_PK": "611",
                                    "UGYFEL_FK": "andras3",
                                    "SZOBA_FK": "29",
                                    "METTOL": "2016-05-01",
                                    "MEDDIG": "2016-05-06",
                                    "FELNOTT_SZAM": "1",
                                    "GYERMEK_SZAM": "1"
                                },
                                {
                                    "FOGLALAS_PK": "612",
                                    "UGYFEL_FK": "bernadett2",
                                    "SZOBA_FK": "117",
                                    "METTOL": "2016-05-01",
                                    "MEDDIG": "2016-05-03",
                                    "FELNOTT_SZAM": "1",
                                    "GYERMEK_SZAM": "1"
                                },
                                {
                                    "FOGLALAS_PK": "613",
                                    "UGYFEL_FK": "csongor3",
                                    "SZOBA_FK": "130",
                                    "METTOL": "2016-05-01",
                                    "MEDDIG": "2016-05-04",
                                    "FELNOTT_SZAM": "2",
                                    "GYERMEK_SZAM": "0"
                                },
                                {
                                    "FOGLALAS_PK": "614",
                                    "UGYFEL_FK": "EVAV",
                                    "SZOBA_FK": "109",
                                    "METTOL": "2016-05-01",
                                    "MEDDIG": "2016-05-05",
                                    "FELNOTT_SZAM": "1",
                                    "GYERMEK_SZAM": "2"
                                },
                                {
                                    "FOGLALAS_PK": "615",
                                    "UGYFEL_FK": "ZOLTANT",
                                    "SZOBA_FK": "186",
                                    "METTOL": "2016-05-01",
                                    "MEDDIG": "2016-05-04",
                                    "FELNOTT_SZAM": "2",
                                    "GYERMEK_SZAM": "1"
                                },
                                {
                                    "FOGLALAS_PK": "616",
                                    "UGYFEL_FK": "JOZSEFG",
                                    "SZOBA_FK": "94",
                                    "METTOL": "2016-05-02",
                                    "MEDDIG": "2016-05-06",
                                    "FELNOTT_SZAM": "2",
                                    "GYERMEK_SZAM": "0"
                                },
                                {
                                    "FOGLALAS_PK": "617",
                                    "UGYFEL_FK": "vivien3",
                                    "SZOBA_FK": "117",
                                    "METTOL": "2016-05-02",
                                    "MEDDIG": "2016-05-05",
                                    "FELNOTT_SZAM": "2",
                                    "GYERMEK_SZAM": "1"
                                },
                                {
                                    "FOGLALAS_PK": "618",
                                    "UGYFEL_FK": "TAMASF",
                                    "SZOBA_FK": "105",
                                    "METTOL": "2016-05-03",
                                    "MEDDIG": "2016-05-04",
                                    "FELNOTT_SZAM": "1",
                                    "GYERMEK_SZAM": "1"
                                },
                                {
                                    "FOGLALAS_PK": "619",
                                    "UGYFEL_FK": "RENATAS",
                                    "SZOBA_FK": "132",
                                    "METTOL": "2016-05-04",
                                    "MEDDIG": "2016-05-11",
                                    "FELNOTT_SZAM": "1",
                                    "GYERMEK_SZAM": "1"
                                },
                                {
                                    "FOGLALAS_PK": "620",
                                    "UGYFEL_FK": "marton",
                                    "SZOBA_FK": "1",
                                    "METTOL": "2016-05-05",
                                    "MEDDIG": "2016-05-10",
                                    "FELNOTT_SZAM": "1",
                                    "GYERMEK_SZAM": "0"
                                },
                                {
                                    "FOGLALAS_PK": "621",
                                    "UGYFEL_FK": "gusztav",
                                    "SZOBA_FK": "109",
                                    "METTOL": "2016-05-06",
                                    "MEDDIG": "2016-05-13",
                                    "FELNOTT_SZAM": "1",
                                    "GYERMEK_SZAM": "1"
                                },
                                {
                                    "FOGLALAS_PK": "622",
                                    "UGYFEL_FK": "balazs1",
                                    "SZOBA_FK": "54",
                                    "METTOL": "2016-05-07",
                                    "MEDDIG": "2016-05-14",
                                    "FELNOTT_SZAM": "1",
                                    "GYERMEK_SZAM": "1"
                                },
                                {
                                    "FOGLALAS_PK": "623",
                                    "UGYFEL_FK": "csongor3",
                                    "SZOBA_FK": "96",
                                    "METTOL": "2016-05-08",
                                    "MEDDIG": "2016-05-15",
                                    "FELNOTT_SZAM": "3",
                                    "GYERMEK_SZAM": "0"
                                },
                                {
                                    "FOGLALAS_PK": "624",
                                    "UGYFEL_FK": "andi",
                                    "SZOBA_FK": "33",
                                    "METTOL": "2016-05-08",
                                    "MEDDIG": "2016-05-14",
                                    "FELNOTT_SZAM": "1",
                                    "GYERMEK_SZAM": "3"
                                },
                                {
                                    "FOGLALAS_PK": "625",
                                    "UGYFEL_FK": "ferenc1",
                                    "SZOBA_FK": "63",
                                    "METTOL": "2016-05-08",
                                    "MEDDIG": "2016-05-11",
                                    "FELNOTT_SZAM": "1",
                                    "GYERMEK_SZAM": "1"
                                },
                                {
                                    "FOGLALAS_PK": "626",
                                    "UGYFEL_FK": "bence",
                                    "SZOBA_FK": "18",
                                    "METTOL": "2016-05-08",
                                    "MEDDIG": "2016-05-11",
                                    "FELNOTT_SZAM": "2",
                                    "GYERMEK_SZAM": "0"
                                },
                                {
                                    "FOGLALAS_PK": "627",
                                    "UGYFEL_FK": "kornel4",
                                    "SZOBA_FK": "38",
                                    "METTOL": "2016-05-08",
                                    "MEDDIG": "2016-05-14",
                                    "FELNOTT_SZAM": "1",
                                    "GYERMEK_SZAM": "2"
                                },
                                {
                                    "FOGLALAS_PK": "628",
                                    "UGYFEL_FK": "agnes",
                                    "SZOBA_FK": "48",
                                    "METTOL": "2016-05-09",
                                    "MEDDIG": "2016-05-11",
                                    "FELNOTT_SZAM": "3",
                                    "GYERMEK_SZAM": "0"
                                },
                                {
                                    "FOGLALAS_PK": "629",
                                    "UGYFEL_FK": "daniel",
                                    "SZOBA_FK": "3",
                                    "METTOL": "2016-05-09",
                                    "MEDDIG": "2016-05-13",
                                    "FELNOTT_SZAM": "1",
                                    "GYERMEK_SZAM": "2"
                                },
                                {
                                    "FOGLALAS_PK": "630",
                                    "UGYFEL_FK": "ZSOLTJ",
                                    "SZOBA_FK": "163",
                                    "METTOL": "2016-05-09",
                                    "MEDDIG": "2016-05-11",
                                    "FELNOTT_SZAM": "2",
                                    "GYERMEK_SZAM": "0"
                                },
                                {
                                    "FOGLALAS_PK": "631",
                                    "UGYFEL_FK": "JANOSG",
                                    "SZOBA_FK": "98",
                                    "METTOL": "2016-05-09",
                                    "MEDDIG": "2016-05-15",
                                    "FELNOTT_SZAM": "1",
                                    "GYERMEK_SZAM": "0"
                                },
                                {
                                    "FOGLALAS_PK": "632",
                                    "UGYFEL_FK": "norbert2",
                                    "SZOBA_FK": "99",
                                    "METTOL": "2016-05-09",
                                    "MEDDIG": "2016-05-10",
                                    "FELNOTT_SZAM": "2",
                                    "GYERMEK_SZAM": "0"
                                },
                                {
                                    "FOGLALAS_PK": "633",
                                    "UGYFEL_FK": "katka",
                                    "SZOBA_FK": "187",
                                    "METTOL": "2016-05-09",
                                    "MEDDIG": "2016-05-15",
                                    "FELNOTT_SZAM": "2",
                                    "GYERMEK_SZAM": "1"
                                },
                                {
                                    "FOGLALAS_PK": "634",
                                    "UGYFEL_FK": "nikoletta4",
                                    "SZOBA_FK": "193",
                                    "METTOL": "2016-05-09",
                                    "MEDDIG": "2016-05-15",
                                    "FELNOTT_SZAM": "1",
                                    "GYERMEK_SZAM": "1"
                                },
                                {
                                    "FOGLALAS_PK": "635",
                                    "UGYFEL_FK": "daniel1",
                                    "SZOBA_FK": "97",
                                    "METTOL": "2016-05-10",
                                    "MEDDIG": "2016-05-13",
                                    "FELNOTT_SZAM": "2",
                                    "GYERMEK_SZAM": "2"
                                },
                                {
                                    "FOGLALAS_PK": "636",
                                    "UGYFEL_FK": "MATYASS",
                                    "SZOBA_FK": "91",
                                    "METTOL": "2016-05-10",
                                    "MEDDIG": "2016-05-16",
                                    "FELNOTT_SZAM": "2",
                                    "GYERMEK_SZAM": "0"
                                },
                                {
                                    "FOGLALAS_PK": "637",
                                    "UGYFEL_FK": "RENATAS",
                                    "SZOBA_FK": "100",
                                    "METTOL": "2016-05-11",
                                    "MEDDIG": "2016-05-16",
                                    "FELNOTT_SZAM": "2",
                                    "GYERMEK_SZAM": "0"
                                },
                                {
                                    "FOGLALAS_PK": "638",
                                    "UGYFEL_FK": "julia",
                                    "SZOBA_FK": "67",
                                    "METTOL": "2016-05-12",
                                    "MEDDIG": "2016-05-17",
                                    "FELNOTT_SZAM": "1",
                                    "GYERMEK_SZAM": "0"
                                },
                                {
                                    "FOGLALAS_PK": "639",
                                    "UGYFEL_FK": "zoltan4",
                                    "SZOBA_FK": "161",
                                    "METTOL": "2016-05-12",
                                    "MEDDIG": "2016-05-16",
                                    "FELNOTT_SZAM": "1",
                                    "GYERMEK_SZAM": "2"
                                },
                                {
                                    "FOGLALAS_PK": "640",
                                    "UGYFEL_FK": "sandor3",
                                    "SZOBA_FK": "165",
                                    "METTOL": "2016-05-12",
                                    "MEDDIG": "2016-05-15",
                                    "FELNOTT_SZAM": "2",
                                    "GYERMEK_SZAM": "0"
                                },
                                {
                                    "FOGLALAS_PK": "641",
                                    "UGYFEL_FK": "zoltan4",
                                    "SZOBA_FK": "150",
                                    "METTOL": "2016-05-13",
                                    "MEDDIG": "2016-05-16",
                                    "FELNOTT_SZAM": "2",
                                    "GYERMEK_SZAM": "1"
                                },
                                {
                                    "FOGLALAS_PK": "642",
                                    "UGYFEL_FK": "maria1",
                                    "SZOBA_FK": "54",
                                    "METTOL": "2016-05-13",
                                    "MEDDIG": "2016-05-18",
                                    "FELNOTT_SZAM": "2",
                                    "GYERMEK_SZAM": "0"
                                },
                                {
                                    "FOGLALAS_PK": "643",
                                    "UGYFEL_FK": "andras41",
                                    "SZOBA_FK": "127",
                                    "METTOL": "2016-05-14",
                                    "MEDDIG": "2016-05-16",
                                    "FELNOTT_SZAM": "1",
                                    "GYERMEK_SZAM": "1"
                                },
                                {
                                    "FOGLALAS_PK": "644",
                                    "UGYFEL_FK": "szilvia1",
                                    "SZOBA_FK": "166",
                                    "METTOL": "2016-05-14",
                                    "MEDDIG": "2016-05-21",
                                    "FELNOTT_SZAM": "2",
                                    "GYERMEK_SZAM": "0"
                                },
                                {
                                    "FOGLALAS_PK": "645",
                                    "UGYFEL_FK": "ARONK",
                                    "SZOBA_FK": "67",
                                    "METTOL": "2016-05-14",
                                    "MEDDIG": "2016-05-20",
                                    "FELNOTT_SZAM": "2",
                                    "GYERMEK_SZAM": "2"
                                },
                                {
                                    "FOGLALAS_PK": "646",
                                    "UGYFEL_FK": "BENCEB",
                                    "SZOBA_FK": "78",
                                    "METTOL": "2016-05-14",
                                    "MEDDIG": "2016-05-17",
                                    "FELNOTT_SZAM": "1",
                                    "GYERMEK_SZAM": "2"
                                },
                                {
                                    "FOGLALAS_PK": "647",
                                    "UGYFEL_FK": "robert2",
                                    "SZOBA_FK": "85",
                                    "METTOL": "2016-05-15",
                                    "MEDDIG": "2016-05-18",
                                    "FELNOTT_SZAM": "2",
                                    "GYERMEK_SZAM": "0"
                                },
                                {
                                    "FOGLALAS_PK": "648",
                                    "UGYFEL_FK": "krisztina1",
                                    "SZOBA_FK": "157",
                                    "METTOL": "2016-05-16",
                                    "MEDDIG": "2016-05-20",
                                    "FELNOTT_SZAM": "1",
                                    "GYERMEK_SZAM": "0"
                                },
                                {
                                    "FOGLALAS_PK": "649",
                                    "UGYFEL_FK": "tamas",
                                    "SZOBA_FK": "137",
                                    "METTOL": "2016-05-17",
                                    "MEDDIG": "2016-05-22",
                                    "FELNOTT_SZAM": "1",
                                    "GYERMEK_SZAM": "1"
                                },
                                {
                                    "FOGLALAS_PK": "650",
                                    "UGYFEL_FK": "zsuzsanna",
                                    "SZOBA_FK": "65",
                                    "METTOL": "2016-05-17",
                                    "MEDDIG": "2016-05-23",
                                    "FELNOTT_SZAM": "1",
                                    "GYERMEK_SZAM": "1"
                                },
                                {
                                    "FOGLALAS_PK": "651",
                                    "UGYFEL_FK": "aladar",
                                    "SZOBA_FK": "4",
                                    "METTOL": "2016-05-17",
                                    "MEDDIG": "2016-05-24",
                                    "FELNOTT_SZAM": "1",
                                    "GYERMEK_SZAM": "0"
                                },
                                {
                                    "FOGLALAS_PK": "652",
                                    "UGYFEL_FK": "maria1",
                                    "SZOBA_FK": "149",
                                    "METTOL": "2016-05-18",
                                    "MEDDIG": "2016-05-19",
                                    "FELNOTT_SZAM": "1",
                                    "GYERMEK_SZAM": "0"
                                },
                                {
                                    "FOGLALAS_PK": "653",
                                    "UGYFEL_FK": "david",
                                    "SZOBA_FK": "161",
                                    "METTOL": "2016-05-18",
                                    "MEDDIG": "2016-05-25",
                                    "FELNOTT_SZAM": "2",
                                    "GYERMEK_SZAM": "0"
                                },
                                {
                                    "FOGLALAS_PK": "654",
                                    "UGYFEL_FK": "bertalan",
                                    "SZOBA_FK": "109",
                                    "METTOL": "2016-05-18",
                                    "MEDDIG": "2016-05-23",
                                    "FELNOTT_SZAM": "1",
                                    "GYERMEK_SZAM": "1"
                                },
                                {
                                    "FOGLALAS_PK": "655",
                                    "UGYFEL_FK": "akos",
                                    "SZOBA_FK": "131",
                                    "METTOL": "2016-05-18",
                                    "MEDDIG": "2016-05-19",
                                    "FELNOTT_SZAM": "1",
                                    "GYERMEK_SZAM": "1"
                                },
                                {
                                    "FOGLALAS_PK": "656",
                                    "UGYFEL_FK": "kriszti",
                                    "SZOBA_FK": "95",
                                    "METTOL": "2016-05-19",
                                    "MEDDIG": "2016-05-26",
                                    "FELNOTT_SZAM": "2",
                                    "GYERMEK_SZAM": "0"
                                },
                                {
                                    "FOGLALAS_PK": "657",
                                    "UGYFEL_FK": "attila1",
                                    "SZOBA_FK": "137",
                                    "METTOL": "2016-05-20",
                                    "MEDDIG": "2016-05-26",
                                    "FELNOTT_SZAM": "1",
                                    "GYERMEK_SZAM": "0"
                                },
                                {
                                    "FOGLALAS_PK": "658",
                                    "UGYFEL_FK": "alexandra",
                                    "SZOBA_FK": "44",
                                    "METTOL": "2016-05-21",
                                    "MEDDIG": "2016-05-27",
                                    "FELNOTT_SZAM": "3",
                                    "GYERMEK_SZAM": "0"
                                },
                                {
                                    "FOGLALAS_PK": "659",
                                    "UGYFEL_FK": "krisztina",
                                    "SZOBA_FK": "169",
                                    "METTOL": "2016-05-21",
                                    "MEDDIG": "2016-05-27",
                                    "FELNOTT_SZAM": "2",
                                    "GYERMEK_SZAM": "0"
                                },
                                {
                                    "FOGLALAS_PK": "660",
                                    "UGYFEL_FK": "ATTILAO",
                                    "SZOBA_FK": "21",
                                    "METTOL": "2016-05-21",
                                    "MEDDIG": "2016-05-26",
                                    "FELNOTT_SZAM": "1",
                                    "GYERMEK_SZAM": "2"
                                },
                                {
                                    "FOGLALAS_PK": "661",
                                    "UGYFEL_FK": "katalin",
                                    "SZOBA_FK": "136",
                                    "METTOL": "2016-05-21",
                                    "MEDDIG": "2016-05-26",
                                    "FELNOTT_SZAM": "1",
                                    "GYERMEK_SZAM": "0"
                                },
                                {
                                    "FOGLALAS_PK": "662",
                                    "UGYFEL_FK": "andras41",
                                    "SZOBA_FK": "179",
                                    "METTOL": "2016-05-21",
                                    "MEDDIG": "2016-05-23",
                                    "FELNOTT_SZAM": "2",
                                    "GYERMEK_SZAM": "2"
                                },
                                {
                                    "FOGLALAS_PK": "663",
                                    "UGYFEL_FK": "NIKOLETTAT",
                                    "SZOBA_FK": "14",
                                    "METTOL": "2016-05-22",
                                    "MEDDIG": "2016-05-23",
                                    "FELNOTT_SZAM": "3",
                                    "GYERMEK_SZAM": "1"
                                },
                                {
                                    "FOGLALAS_PK": "664",
                                    "UGYFEL_FK": "matyas2",
                                    "SZOBA_FK": "146",
                                    "METTOL": "2016-07-13",
                                    "MEDDIG": "2016-07-16",
                                    "FELNOTT_SZAM": "1",
                                    "GYERMEK_SZAM": "1"
                                },
                                {
                                    "FOGLALAS_PK": "665",
                                    "UGYFEL_FK": "kati",
                                    "SZOBA_FK": "94",
                                    "METTOL": "2016-07-13",
                                    "MEDDIG": "2016-07-20",
                                    "FELNOTT_SZAM": "2",
                                    "GYERMEK_SZAM": "0"
                                },
                                {
                                    "FOGLALAS_PK": "666",
                                    "UGYFEL_FK": "agnes",
                                    "SZOBA_FK": "3",
                                    "METTOL": "2016-07-13",
                                    "MEDDIG": "2016-07-19",
                                    "FELNOTT_SZAM": "2",
                                    "GYERMEK_SZAM": "1"
                                },
                                {
                                    "FOGLALAS_PK": "667",
                                    "UGYFEL_FK": "fruzsina4",
                                    "SZOBA_FK": "80",
                                    "METTOL": "2016-07-13",
                                    "MEDDIG": "2016-07-19",
                                    "FELNOTT_SZAM": "2",
                                    "GYERMEK_SZAM": "1"
                                },
                                {
                                    "FOGLALAS_PK": "668",
                                    "UGYFEL_FK": "ZOLTANT",
                                    "SZOBA_FK": "54",
                                    "METTOL": "2016-07-14",
                                    "MEDDIG": "2016-07-15",
                                    "FELNOTT_SZAM": "1",
                                    "GYERMEK_SZAM": "2"
                                },
                                {
                                    "FOGLALAS_PK": "669",
                                    "UGYFEL_FK": "tunde",
                                    "SZOBA_FK": "173",
                                    "METTOL": "2016-07-14",
                                    "MEDDIG": "2016-07-21",
                                    "FELNOTT_SZAM": "1",
                                    "GYERMEK_SZAM": "0"
                                },
                                {
                                    "FOGLALAS_PK": "670",
                                    "UGYFEL_FK": "ARPADH",
                                    "SZOBA_FK": "43",
                                    "METTOL": "2016-07-14",
                                    "MEDDIG": "2016-07-18",
                                    "FELNOTT_SZAM": "2",
                                    "GYERMEK_SZAM": "0"
                                },
                                {
                                    "FOGLALAS_PK": "671",
                                    "UGYFEL_FK": "peter1",
                                    "SZOBA_FK": "96",
                                    "METTOL": "2016-07-14",
                                    "MEDDIG": "2016-07-18",
                                    "FELNOTT_SZAM": "3",
                                    "GYERMEK_SZAM": "0"
                                },
                                {
                                    "FOGLALAS_PK": "672",
                                    "UGYFEL_FK": "edit",
                                    "SZOBA_FK": "185",
                                    "METTOL": "2016-07-14",
                                    "MEDDIG": "2016-07-17",
                                    "FELNOTT_SZAM": "3",
                                    "GYERMEK_SZAM": "0"
                                },
                                {
                                    "FOGLALAS_PK": "673",
                                    "UGYFEL_FK": "akos",
                                    "SZOBA_FK": "196",
                                    "METTOL": "2016-07-14",
                                    "MEDDIG": "2016-07-19",
                                    "FELNOTT_SZAM": "2",
                                    "GYERMEK_SZAM": "0"
                                },
                                {
                                    "FOGLALAS_PK": "674",
                                    "UGYFEL_FK": "andras3",
                                    "SZOBA_FK": "83",
                                    "METTOL": "2016-07-15",
                                    "MEDDIG": "2016-07-19",
                                    "FELNOTT_SZAM": "2",
                                    "GYERMEK_SZAM": "1"
                                },
                                {
                                    "FOGLALAS_PK": "675",
                                    "UGYFEL_FK": "sara",
                                    "SZOBA_FK": "193",
                                    "METTOL": "2016-07-15",
                                    "MEDDIG": "2016-07-17",
                                    "FELNOTT_SZAM": "3",
                                    "GYERMEK_SZAM": "0"
                                },
                                {
                                    "FOGLALAS_PK": "676",
                                    "UGYFEL_FK": "akos",
                                    "SZOBA_FK": "60",
                                    "METTOL": "2016-07-16",
                                    "MEDDIG": "2016-07-18",
                                    "FELNOTT_SZAM": "2",
                                    "GYERMEK_SZAM": "0"
                                },
                                {
                                    "FOGLALAS_PK": "677",
                                    "UGYFEL_FK": "jozsef2",
                                    "SZOBA_FK": "181",
                                    "METTOL": "2016-07-16",
                                    "MEDDIG": "2016-07-20",
                                    "FELNOTT_SZAM": "3",
                                    "GYERMEK_SZAM": "0"
                                },
                                {
                                    "FOGLALAS_PK": "678",
                                    "UGYFEL_FK": "balazs3",
                                    "SZOBA_FK": "148",
                                    "METTOL": "2016-07-17",
                                    "MEDDIG": "2016-07-21",
                                    "FELNOTT_SZAM": "2",
                                    "GYERMEK_SZAM": "0"
                                },
                                {
                                    "FOGLALAS_PK": "679",
                                    "UGYFEL_FK": "ANIKOS",
                                    "SZOBA_FK": "185",
                                    "METTOL": "2016-07-17",
                                    "MEDDIG": "2016-07-22",
                                    "FELNOTT_SZAM": "2",
                                    "GYERMEK_SZAM": "1"
                                },
                                {
                                    "FOGLALAS_PK": "680",
                                    "UGYFEL_FK": "SEBASTIANF",
                                    "SZOBA_FK": "192",
                                    "METTOL": "2016-07-17",
                                    "MEDDIG": "2016-07-21",
                                    "FELNOTT_SZAM": "1",
                                    "GYERMEK_SZAM": "1"
                                },
                                {
                                    "FOGLALAS_PK": "681",
                                    "UGYFEL_FK": "david",
                                    "SZOBA_FK": "71",
                                    "METTOL": "2016-07-18",
                                    "MEDDIG": "2016-07-21",
                                    "FELNOTT_SZAM": "1",
                                    "GYERMEK_SZAM": "1"
                                },
                                {
                                    "FOGLALAS_PK": "682",
                                    "UGYFEL_FK": "lajos",
                                    "SZOBA_FK": "174",
                                    "METTOL": "2016-07-18",
                                    "MEDDIG": "2016-07-21",
                                    "FELNOTT_SZAM": "2",
                                    "GYERMEK_SZAM": "0"
                                },
                                {
                                    "FOGLALAS_PK": "683",
                                    "UGYFEL_FK": "GYORGYO",
                                    "SZOBA_FK": "76",
                                    "METTOL": "2016-07-18",
                                    "MEDDIG": "2016-07-25",
                                    "FELNOTT_SZAM": "1",
                                    "GYERMEK_SZAM": "1"
                                },
                                {
                                    "FOGLALAS_PK": "684",
                                    "UGYFEL_FK": "ANNAMARIAR",
                                    "SZOBA_FK": "184",
                                    "METTOL": "2016-07-18",
                                    "MEDDIG": "2016-07-21",
                                    "FELNOTT_SZAM": "1",
                                    "GYERMEK_SZAM": "0"
                                },
                                {
                                    "FOGLALAS_PK": "685",
                                    "UGYFEL_FK": "ZSOLTJ",
                                    "SZOBA_FK": "110",
                                    "METTOL": "2016-07-18",
                                    "MEDDIG": "2016-07-19",
                                    "FELNOTT_SZAM": "1",
                                    "GYERMEK_SZAM": "1"
                                },
                                {
                                    "FOGLALAS_PK": "686",
                                    "UGYFEL_FK": "sandor",
                                    "SZOBA_FK": "35",
                                    "METTOL": "2016-07-18",
                                    "MEDDIG": "2016-07-24",
                                    "FELNOTT_SZAM": "1",
                                    "GYERMEK_SZAM": "1"
                                },
                                {
                                    "FOGLALAS_PK": "687",
                                    "UGYFEL_FK": "MIKLOSB",
                                    "SZOBA_FK": "16",
                                    "METTOL": "2016-07-18",
                                    "MEDDIG": "2016-07-21",
                                    "FELNOTT_SZAM": "1",
                                    "GYERMEK_SZAM": "1"
                                },
                                {
                                    "FOGLALAS_PK": "688",
                                    "UGYFEL_FK": "ESZTERE",
                                    "SZOBA_FK": "37",
                                    "METTOL": "2016-07-19",
                                    "MEDDIG": "2016-07-21",
                                    "FELNOTT_SZAM": "2",
                                    "GYERMEK_SZAM": "0"
                                },
                                {
                                    "FOGLALAS_PK": "689",
                                    "UGYFEL_FK": "istvan1",
                                    "SZOBA_FK": "102",
                                    "METTOL": "2016-07-19",
                                    "MEDDIG": "2016-07-24",
                                    "FELNOTT_SZAM": "1",
                                    "GYERMEK_SZAM": "0"
                                },
                                {
                                    "FOGLALAS_PK": "690",
                                    "UGYFEL_FK": "denes",
                                    "SZOBA_FK": "188",
                                    "METTOL": "2016-07-19",
                                    "MEDDIG": "2016-07-23",
                                    "FELNOTT_SZAM": "1",
                                    "GYERMEK_SZAM": "1"
                                },
                                {
                                    "FOGLALAS_PK": "691",
                                    "UGYFEL_FK": "balazs2",
                                    "SZOBA_FK": "99",
                                    "METTOL": "2016-07-20",
                                    "MEDDIG": "2016-07-25",
                                    "FELNOTT_SZAM": "2",
                                    "GYERMEK_SZAM": "0"
                                },
                                {
                                    "FOGLALAS_PK": "692",
                                    "UGYFEL_FK": "julianna4",
                                    "SZOBA_FK": "156",
                                    "METTOL": "2016-07-20",
                                    "MEDDIG": "2016-07-26",
                                    "FELNOTT_SZAM": "2",
                                    "GYERMEK_SZAM": "0"
                                },
                                {
                                    "FOGLALAS_PK": "693",
                                    "UGYFEL_FK": "andras2",
                                    "SZOBA_FK": "185",
                                    "METTOL": "2016-07-20",
                                    "MEDDIG": "2016-07-22",
                                    "FELNOTT_SZAM": "2",
                                    "GYERMEK_SZAM": "0"
                                },
                                {
                                    "FOGLALAS_PK": "694",
                                    "UGYFEL_FK": "PETERB",
                                    "SZOBA_FK": "8",
                                    "METTOL": "2016-07-20",
                                    "MEDDIG": "2016-07-24",
                                    "FELNOTT_SZAM": "2",
                                    "GYERMEK_SZAM": "0"
                                },
                                {
                                    "FOGLALAS_PK": "695",
                                    "UGYFEL_FK": "veronika4",
                                    "SZOBA_FK": "187",
                                    "METTOL": "2016-07-20",
                                    "MEDDIG": "2016-07-26",
                                    "FELNOTT_SZAM": "1",
                                    "GYERMEK_SZAM": "2"
                                },
                                {
                                    "FOGLALAS_PK": "696",
                                    "UGYFEL_FK": "lala",
                                    "SZOBA_FK": "19",
                                    "METTOL": "2016-07-20",
                                    "MEDDIG": "2016-07-21",
                                    "FELNOTT_SZAM": "2",
                                    "GYERMEK_SZAM": "1"
                                },
                                {
                                    "FOGLALAS_PK": "697",
                                    "UGYFEL_FK": "andras21",
                                    "SZOBA_FK": "12",
                                    "METTOL": "2016-07-20",
                                    "MEDDIG": "2016-07-22",
                                    "FELNOTT_SZAM": "1",
                                    "GYERMEK_SZAM": "0"
                                },
                                {
                                    "FOGLALAS_PK": "698",
                                    "UGYFEL_FK": "tihamer",
                                    "SZOBA_FK": "77",
                                    "METTOL": "2016-07-20",
                                    "MEDDIG": "2016-07-24",
                                    "FELNOTT_SZAM": "1",
                                    "GYERMEK_SZAM": "2"
                                },
                                {
                                    "FOGLALAS_PK": "699",
                                    "UGYFEL_FK": "julia",
                                    "SZOBA_FK": "189",
                                    "METTOL": "2016-07-20",
                                    "MEDDIG": "2016-07-22",
                                    "FELNOTT_SZAM": "1",
                                    "GYERMEK_SZAM": "1"
                                },
                                {
                                    "FOGLALAS_PK": "700",
                                    "UGYFEL_FK": "ZOLTANP",
                                    "SZOBA_FK": "78",
                                    "METTOL": "2016-07-20",
                                    "MEDDIG": "2016-07-25",
                                    "FELNOTT_SZAM": "1",
                                    "GYERMEK_SZAM": "2"
                                },
                                {
                                    "FOGLALAS_PK": "701",
                                    "UGYFEL_FK": "andras3",
                                    "SZOBA_FK": "61",
                                    "METTOL": "2016-07-21",
                                    "MEDDIG": "2016-07-23",
                                    "FELNOTT_SZAM": "2",
                                    "GYERMEK_SZAM": "0"
                                },
                                {
                                    "FOGLALAS_PK": "702",
                                    "UGYFEL_FK": "balint2",
                                    "SZOBA_FK": "62",
                                    "METTOL": "2016-07-21",
                                    "MEDDIG": "2016-07-26",
                                    "FELNOTT_SZAM": "1",
                                    "GYERMEK_SZAM": "0"
                                },
                                {
                                    "FOGLALAS_PK": "703",
                                    "UGYFEL_FK": "balazs1",
                                    "SZOBA_FK": "145",
                                    "METTOL": "2016-07-22",
                                    "MEDDIG": "2016-07-26",
                                    "FELNOTT_SZAM": "2",
                                    "GYERMEK_SZAM": "2"
                                },
                                {
                                    "FOGLALAS_PK": "704",
                                    "UGYFEL_FK": "aniko4",
                                    "SZOBA_FK": "70",
                                    "METTOL": "2016-07-22",
                                    "MEDDIG": "2016-07-25",
                                    "FELNOTT_SZAM": "2",
                                    "GYERMEK_SZAM": "1"
                                },
                                {
                                    "FOGLALAS_PK": "705",
                                    "UGYFEL_FK": "akos",
                                    "SZOBA_FK": "37",
                                    "METTOL": "2016-07-22",
                                    "MEDDIG": "2016-07-26",
                                    "FELNOTT_SZAM": "1",
                                    "GYERMEK_SZAM": "0"
                                },
                                {
                                    "FOGLALAS_PK": "706",
                                    "UGYFEL_FK": "emese",
                                    "SZOBA_FK": "119",
                                    "METTOL": "2016-07-22",
                                    "MEDDIG": "2016-07-24",
                                    "FELNOTT_SZAM": "2",
                                    "GYERMEK_SZAM": "0"
                                },
                                {
                                    "FOGLALAS_PK": "707",
                                    "UGYFEL_FK": "MATYASS",
                                    "SZOBA_FK": "35",
                                    "METTOL": "2016-07-23",
                                    "MEDDIG": "2016-07-25",
                                    "FELNOTT_SZAM": "2",
                                    "GYERMEK_SZAM": "1"
                                },
                                {
                                    "FOGLALAS_PK": "708",
                                    "UGYFEL_FK": "MONIKAM",
                                    "SZOBA_FK": "106",
                                    "METTOL": "2016-07-23",
                                    "MEDDIG": "2016-07-30",
                                    "FELNOTT_SZAM": "1",
                                    "GYERMEK_SZAM": "0"
                                },
                                {
                                    "FOGLALAS_PK": "709",
                                    "UGYFEL_FK": "valentin",
                                    "SZOBA_FK": "172",
                                    "METTOL": "2016-07-24",
                                    "MEDDIG": "2016-07-29",
                                    "FELNOTT_SZAM": "1",
                                    "GYERMEK_SZAM": "0"
                                },
                                {
                                    "FOGLALAS_PK": "710",
                                    "UGYFEL_FK": "gabriella1",
                                    "SZOBA_FK": "188",
                                    "METTOL": "2016-07-24",
                                    "MEDDIG": "2016-07-31",
                                    "FELNOTT_SZAM": "1",
                                    "GYERMEK_SZAM": "1"
                                },
                                {
                                    "FOGLALAS_PK": "711",
                                    "UGYFEL_FK": "sara",
                                    "SZOBA_FK": "185",
                                    "METTOL": "2016-07-24",
                                    "MEDDIG": "2016-07-27",
                                    "FELNOTT_SZAM": "3",
                                    "GYERMEK_SZAM": "0"
                                },
                                {
                                    "FOGLALAS_PK": "712",
                                    "UGYFEL_FK": "zsuzsa",
                                    "SZOBA_FK": "71",
                                    "METTOL": "2016-07-24",
                                    "MEDDIG": "2016-07-25",
                                    "FELNOTT_SZAM": "2",
                                    "GYERMEK_SZAM": "1"
                                },
                                {
                                    "FOGLALAS_PK": "713",
                                    "UGYFEL_FK": "bence",
                                    "SZOBA_FK": "17",
                                    "METTOL": "2016-07-24",
                                    "MEDDIG": "2016-07-30",
                                    "FELNOTT_SZAM": "1",
                                    "GYERMEK_SZAM": "1"
                                },
                                {
                                    "FOGLALAS_PK": "714",
                                    "UGYFEL_FK": "bence",
                                    "SZOBA_FK": "73",
                                    "METTOL": "2016-07-25",
                                    "MEDDIG": "2016-08-01",
                                    "FELNOTT_SZAM": "2",
                                    "GYERMEK_SZAM": "1"
                                },
                                {
                                    "FOGLALAS_PK": "715",
                                    "UGYFEL_FK": "szilvia1",
                                    "SZOBA_FK": "101",
                                    "METTOL": "2016-07-25",
                                    "MEDDIG": "2016-07-28",
                                    "FELNOTT_SZAM": "2",
                                    "GYERMEK_SZAM": "0"
                                },
                                {
                                    "FOGLALAS_PK": "716",
                                    "UGYFEL_FK": "lala",
                                    "SZOBA_FK": "118",
                                    "METTOL": "2016-07-26",
                                    "MEDDIG": "2016-07-27",
                                    "FELNOTT_SZAM": "1",
                                    "GYERMEK_SZAM": "2"
                                },
                                {
                                    "FOGLALAS_PK": "717",
                                    "UGYFEL_FK": "balint1",
                                    "SZOBA_FK": "128",
                                    "METTOL": "2016-07-26",
                                    "MEDDIG": "2016-07-28",
                                    "FELNOTT_SZAM": "1",
                                    "GYERMEK_SZAM": "1"
                                },
                                {
                                    "FOGLALAS_PK": "718",
                                    "UGYFEL_FK": "SZILARDS",
                                    "SZOBA_FK": "97",
                                    "METTOL": "2016-07-27",
                                    "MEDDIG": "2016-08-03",
                                    "FELNOTT_SZAM": "1",
                                    "GYERMEK_SZAM": "4"
                                },
                                {
                                    "FOGLALAS_PK": "719",
                                    "UGYFEL_FK": "BELAF",
                                    "SZOBA_FK": "58",
                                    "METTOL": "2016-07-27",
                                    "MEDDIG": "2016-07-30",
                                    "FELNOTT_SZAM": "2",
                                    "GYERMEK_SZAM": "1"
                                },
                                {
                                    "FOGLALAS_PK": "720",
                                    "UGYFEL_FK": "NIKOLETTAT",
                                    "SZOBA_FK": "160",
                                    "METTOL": "2016-07-27",
                                    "MEDDIG": "2016-07-29",
                                    "FELNOTT_SZAM": "1",
                                    "GYERMEK_SZAM": "3"
                                },
                                {
                                    "FOGLALAS_PK": "721",
                                    "UGYFEL_FK": "reka4",
                                    "SZOBA_FK": "195",
                                    "METTOL": "2016-07-27",
                                    "MEDDIG": "2016-07-31",
                                    "FELNOTT_SZAM": "2",
                                    "GYERMEK_SZAM": "0"
                                },
                                {
                                    "FOGLALAS_PK": "722",
                                    "UGYFEL_FK": "andrea",
                                    "SZOBA_FK": "119",
                                    "METTOL": "2016-07-27",
                                    "MEDDIG": "2016-07-28",
                                    "FELNOTT_SZAM": "1",
                                    "GYERMEK_SZAM": "1"
                                },
                                {
                                    "FOGLALAS_PK": "723",
                                    "UGYFEL_FK": "kati",
                                    "SZOBA_FK": "129",
                                    "METTOL": "2016-07-27",
                                    "MEDDIG": "2016-08-03",
                                    "FELNOTT_SZAM": "2",
                                    "GYERMEK_SZAM": "0"
                                },
                                {
                                    "FOGLALAS_PK": "724",
                                    "UGYFEL_FK": "norbert2",
                                    "SZOBA_FK": "135",
                                    "METTOL": "2016-07-27",
                                    "MEDDIG": "2016-08-02",
                                    "FELNOTT_SZAM": "2",
                                    "GYERMEK_SZAM": "0"
                                },
                                {
                                    "FOGLALAS_PK": "725",
                                    "UGYFEL_FK": "ANDREAT",
                                    "SZOBA_FK": "28",
                                    "METTOL": "2016-07-27",
                                    "MEDDIG": "2016-08-01",
                                    "FELNOTT_SZAM": "2",
                                    "GYERMEK_SZAM": "0"
                                },
                                {
                                    "FOGLALAS_PK": "726",
                                    "UGYFEL_FK": "peter3",
                                    "SZOBA_FK": "97",
                                    "METTOL": "2016-07-27",
                                    "MEDDIG": "2016-07-31",
                                    "FELNOTT_SZAM": "3",
                                    "GYERMEK_SZAM": "1"
                                },
                                {
                                    "FOGLALAS_PK": "727",
                                    "UGYFEL_FK": "alexandra",
                                    "SZOBA_FK": "94",
                                    "METTOL": "2016-07-27",
                                    "MEDDIG": "2016-07-30",
                                    "FELNOTT_SZAM": "1",
                                    "GYERMEK_SZAM": "1"
                                },
                                {
                                    "FOGLALAS_PK": "728",
                                    "UGYFEL_FK": "balazs3",
                                    "SZOBA_FK": "31",
                                    "METTOL": "2016-07-27",
                                    "MEDDIG": "2016-07-31",
                                    "FELNOTT_SZAM": "3",
                                    "GYERMEK_SZAM": "1"
                                },
                                {
                                    "FOGLALAS_PK": "729",
                                    "UGYFEL_FK": "JUDITH",
                                    "SZOBA_FK": "90",
                                    "METTOL": "2016-07-28",
                                    "MEDDIG": "2016-07-30",
                                    "FELNOTT_SZAM": "1",
                                    "GYERMEK_SZAM": "1"
                                },
                                {
                                    "FOGLALAS_PK": "730",
                                    "UGYFEL_FK": "gabor1",
                                    "SZOBA_FK": "152",
                                    "METTOL": "2016-07-28",
                                    "MEDDIG": "2016-07-30",
                                    "FELNOTT_SZAM": "2",
                                    "GYERMEK_SZAM": "0"
                                },
                                {
                                    "FOGLALAS_PK": "731",
                                    "UGYFEL_FK": "andras41",
                                    "SZOBA_FK": "181",
                                    "METTOL": "2016-07-28",
                                    "MEDDIG": "2016-08-03",
                                    "FELNOTT_SZAM": "3",
                                    "GYERMEK_SZAM": "0"
                                },
                                {
                                    "FOGLALAS_PK": "732",
                                    "UGYFEL_FK": "krisztian4",
                                    "SZOBA_FK": "91",
                                    "METTOL": "2016-07-28",
                                    "MEDDIG": "2016-08-01",
                                    "FELNOTT_SZAM": "1",
                                    "GYERMEK_SZAM": "1"
                                },
                                {
                                    "FOGLALAS_PK": "733",
                                    "UGYFEL_FK": "katalin",
                                    "SZOBA_FK": "140",
                                    "METTOL": "2016-07-28",
                                    "MEDDIG": "2016-07-29",
                                    "FELNOTT_SZAM": "1",
                                    "GYERMEK_SZAM": "0"
                                },
                                {
                                    "FOGLALAS_PK": "734",
                                    "UGYFEL_FK": "GYORGYO",
                                    "SZOBA_FK": "55",
                                    "METTOL": "2016-07-28",
                                    "MEDDIG": "2016-08-03",
                                    "FELNOTT_SZAM": "1",
                                    "GYERMEK_SZAM": "2"
                                },
                                {
                                    "FOGLALAS_PK": "735",
                                    "UGYFEL_FK": "SZABOLCSM",
                                    "SZOBA_FK": "121",
                                    "METTOL": "2016-07-28",
                                    "MEDDIG": "2016-08-03",
                                    "FELNOTT_SZAM": "2",
                                    "GYERMEK_SZAM": "0"
                                },
                                {
                                    "FOGLALAS_PK": "736",
                                    "UGYFEL_FK": "AGNESK",
                                    "SZOBA_FK": "66",
                                    "METTOL": "2016-07-29",
                                    "MEDDIG": "2016-08-01",
                                    "FELNOTT_SZAM": "2",
                                    "GYERMEK_SZAM": "1"
                                },
                                {
                                    "FOGLALAS_PK": "737",
                                    "UGYFEL_FK": "BELAF",
                                    "SZOBA_FK": "114",
                                    "METTOL": "2016-07-29",
                                    "MEDDIG": "2016-07-31",
                                    "FELNOTT_SZAM": "1",
                                    "GYERMEK_SZAM": "1"
                                },
                                {
                                    "FOGLALAS_PK": "738",
                                    "UGYFEL_FK": "agnes",
                                    "SZOBA_FK": "1",
                                    "METTOL": "2016-07-30",
                                    "MEDDIG": "2016-08-06",
                                    "FELNOTT_SZAM": "3",
                                    "GYERMEK_SZAM": "0"
                                },
                                {
                                    "FOGLALAS_PK": "739",
                                    "UGYFEL_FK": "ROBERTP",
                                    "SZOBA_FK": "121",
                                    "METTOL": "2016-07-30",
                                    "MEDDIG": "2016-08-05",
                                    "FELNOTT_SZAM": "2",
                                    "GYERMEK_SZAM": "0"
                                },
                                {
                                    "FOGLALAS_PK": "740",
                                    "UGYFEL_FK": "zsuzsa3",
                                    "SZOBA_FK": "182",
                                    "METTOL": "2016-07-30",
                                    "MEDDIG": "2016-08-02",
                                    "FELNOTT_SZAM": "2",
                                    "GYERMEK_SZAM": "0"
                                },
                                {
                                    "FOGLALAS_PK": "741",
                                    "UGYFEL_FK": "SEBASTIANF",
                                    "SZOBA_FK": "93",
                                    "METTOL": "2016-07-30",
                                    "MEDDIG": "2016-08-06",
                                    "FELNOTT_SZAM": "3",
                                    "GYERMEK_SZAM": "1"
                                },
                                {
                                    "FOGLALAS_PK": "742",
                                    "UGYFEL_FK": "ilona3",
                                    "SZOBA_FK": "164",
                                    "METTOL": "2016-07-31",
                                    "MEDDIG": "2016-08-06",
                                    "FELNOTT_SZAM": "1",
                                    "GYERMEK_SZAM": "1"
                                },
                                {
                                    "FOGLALAS_PK": "743",
                                    "UGYFEL_FK": "zsolt1",
                                    "SZOBA_FK": "187",
                                    "METTOL": "2016-07-31",
                                    "MEDDIG": "2016-08-02",
                                    "FELNOTT_SZAM": "2",
                                    "GYERMEK_SZAM": "0"
                                },
                                {
                                    "FOGLALAS_PK": "744",
                                    "UGYFEL_FK": "andrea",
                                    "SZOBA_FK": "17",
                                    "METTOL": "2016-08-01",
                                    "MEDDIG": "2016-08-02",
                                    "FELNOTT_SZAM": "1",
                                    "GYERMEK_SZAM": "1"
                                },
                                {
                                    "FOGLALAS_PK": "745",
                                    "UGYFEL_FK": "BENCEB",
                                    "SZOBA_FK": "139",
                                    "METTOL": "2016-08-01",
                                    "MEDDIG": "2016-08-02",
                                    "FELNOTT_SZAM": "2",
                                    "GYERMEK_SZAM": "0"
                                },
                                {
                                    "FOGLALAS_PK": "746",
                                    "UGYFEL_FK": "denes",
                                    "SZOBA_FK": "169",
                                    "METTOL": "2016-08-01",
                                    "MEDDIG": "2016-08-08",
                                    "FELNOTT_SZAM": "1",
                                    "GYERMEK_SZAM": "2"
                                },
                                {
                                    "FOGLALAS_PK": "747",
                                    "UGYFEL_FK": "krisztian4",
                                    "SZOBA_FK": "188",
                                    "METTOL": "2016-08-01",
                                    "MEDDIG": "2016-08-04",
                                    "FELNOTT_SZAM": "1",
                                    "GYERMEK_SZAM": "2"
                                },
                                {
                                    "FOGLALAS_PK": "748",
                                    "UGYFEL_FK": "reka4",
                                    "SZOBA_FK": "36",
                                    "METTOL": "2016-08-02",
                                    "MEDDIG": "2016-08-04",
                                    "FELNOTT_SZAM": "3",
                                    "GYERMEK_SZAM": "1"
                                },
                                {
                                    "FOGLALAS_PK": "749",
                                    "UGYFEL_FK": "KRISZTIANM",
                                    "SZOBA_FK": "172",
                                    "METTOL": "2016-08-02",
                                    "MEDDIG": "2016-08-08",
                                    "FELNOTT_SZAM": "2",
                                    "GYERMEK_SZAM": "2"
                                },
                                {
                                    "FOGLALAS_PK": "750",
                                    "UGYFEL_FK": "edit",
                                    "SZOBA_FK": "36",
                                    "METTOL": "2016-08-03",
                                    "MEDDIG": "2016-08-09",
                                    "FELNOTT_SZAM": "1",
                                    "GYERMEK_SZAM": "3"
                                },
                                {
                                    "FOGLALAS_PK": "751",
                                    "UGYFEL_FK": "kati",
                                    "SZOBA_FK": "139",
                                    "METTOL": "2016-08-03",
                                    "MEDDIG": "2016-08-07",
                                    "FELNOTT_SZAM": "2",
                                    "GYERMEK_SZAM": "0"
                                },
                                {
                                    "FOGLALAS_PK": "752",
                                    "UGYFEL_FK": "balint1",
                                    "SZOBA_FK": "46",
                                    "METTOL": "2016-08-03",
                                    "MEDDIG": "2016-08-08",
                                    "FELNOTT_SZAM": "2",
                                    "GYERMEK_SZAM": "0"
                                },
                                {
                                    "FOGLALAS_PK": "753",
                                    "UGYFEL_FK": "VIKTORIAU",
                                    "SZOBA_FK": "189",
                                    "METTOL": "2016-08-03",
                                    "MEDDIG": "2016-08-04",
                                    "FELNOTT_SZAM": "1",
                                    "GYERMEK_SZAM": "1"
                                },
                                {
                                    "FOGLALAS_PK": "754",
                                    "UGYFEL_FK": "ilona3",
                                    "SZOBA_FK": "126",
                                    "METTOL": "2016-08-04",
                                    "MEDDIG": "2016-08-08",
                                    "FELNOTT_SZAM": "2",
                                    "GYERMEK_SZAM": "1"
                                },
                                {
                                    "FOGLALAS_PK": "755",
                                    "UGYFEL_FK": "agnes3",
                                    "SZOBA_FK": "20",
                                    "METTOL": "2016-08-04",
                                    "MEDDIG": "2016-08-10",
                                    "FELNOTT_SZAM": "1",
                                    "GYERMEK_SZAM": "0"
                                },
                                {
                                    "FOGLALAS_PK": "756",
                                    "UGYFEL_FK": "gusztav",
                                    "SZOBA_FK": "61",
                                    "METTOL": "2016-08-05",
                                    "MEDDIG": "2016-08-11",
                                    "FELNOTT_SZAM": "3",
                                    "GYERMEK_SZAM": "0"
                                },
                                {
                                    "FOGLALAS_PK": "757",
                                    "UGYFEL_FK": "david",
                                    "SZOBA_FK": "88",
                                    "METTOL": "2016-08-05",
                                    "MEDDIG": "2016-08-12",
                                    "FELNOTT_SZAM": "1",
                                    "GYERMEK_SZAM": "0"
                                },
                                {
                                    "FOGLALAS_PK": "758",
                                    "UGYFEL_FK": "ARONK",
                                    "SZOBA_FK": "27",
                                    "METTOL": "2016-08-05",
                                    "MEDDIG": "2016-08-08",
                                    "FELNOTT_SZAM": "3",
                                    "GYERMEK_SZAM": "1"
                                },
                                {
                                    "FOGLALAS_PK": "759",
                                    "UGYFEL_FK": "peter4",
                                    "SZOBA_FK": "7",
                                    "METTOL": "2016-08-06",
                                    "MEDDIG": "2016-08-13",
                                    "FELNOTT_SZAM": "2",
                                    "GYERMEK_SZAM": "0"
                                },
                                {
                                    "FOGLALAS_PK": "760",
                                    "UGYFEL_FK": "balu",
                                    "SZOBA_FK": "131",
                                    "METTOL": "2016-08-06",
                                    "MEDDIG": "2016-08-10",
                                    "FELNOTT_SZAM": "2",
                                    "GYERMEK_SZAM": "0"
                                },
                                {
                                    "FOGLALAS_PK": "761",
                                    "UGYFEL_FK": "dani",
                                    "SZOBA_FK": "141",
                                    "METTOL": "2016-08-06",
                                    "MEDDIG": "2016-08-09",
                                    "FELNOTT_SZAM": "2",
                                    "GYERMEK_SZAM": "0"
                                },
                                {
                                    "FOGLALAS_PK": "762",
                                    "UGYFEL_FK": "timea2",
                                    "SZOBA_FK": "120",
                                    "METTOL": "2016-08-07",
                                    "MEDDIG": "2016-08-10",
                                    "FELNOTT_SZAM": "1",
                                    "GYERMEK_SZAM": "2"
                                },
                                {
                                    "FOGLALAS_PK": "763",
                                    "UGYFEL_FK": "KRISZTINAG",
                                    "SZOBA_FK": "13",
                                    "METTOL": "2016-08-08",
                                    "MEDDIG": "2016-08-12",
                                    "FELNOTT_SZAM": "3",
                                    "GYERMEK_SZAM": "0"
                                },
                                {
                                    "FOGLALAS_PK": "764",
                                    "UGYFEL_FK": "mark",
                                    "SZOBA_FK": "197",
                                    "METTOL": "2016-08-09",
                                    "MEDDIG": "2016-08-16",
                                    "FELNOTT_SZAM": "2",
                                    "GYERMEK_SZAM": "1"
                                },
                                {
                                    "FOGLALAS_PK": "765",
                                    "UGYFEL_FK": "emese",
                                    "SZOBA_FK": "148",
                                    "METTOL": "2016-08-09",
                                    "MEDDIG": "2016-08-12",
                                    "FELNOTT_SZAM": "1",
                                    "GYERMEK_SZAM": "1"
                                },
                                {
                                    "FOGLALAS_PK": "766",
                                    "UGYFEL_FK": "norbert5",
                                    "SZOBA_FK": "187",
                                    "METTOL": "2016-08-10",
                                    "MEDDIG": "2016-08-11",
                                    "FELNOTT_SZAM": "2",
                                    "GYERMEK_SZAM": "0"
                                },
                                {
                                    "FOGLALAS_PK": "767",
                                    "UGYFEL_FK": "maria1",
                                    "SZOBA_FK": "18",
                                    "METTOL": "2016-08-11",
                                    "MEDDIG": "2016-08-14",
                                    "FELNOTT_SZAM": "2",
                                    "GYERMEK_SZAM": "1"
                                },
                                {
                                    "FOGLALAS_PK": "768",
                                    "UGYFEL_FK": "BEATRIXK",
                                    "SZOBA_FK": "138",
                                    "METTOL": "2016-08-12",
                                    "MEDDIG": "2016-08-18",
                                    "FELNOTT_SZAM": "3",
                                    "GYERMEK_SZAM": "1"
                                },
                                {
                                    "FOGLALAS_PK": "769",
                                    "UGYFEL_FK": "marton",
                                    "SZOBA_FK": "63",
                                    "METTOL": "2016-08-12",
                                    "MEDDIG": "2016-08-17",
                                    "FELNOTT_SZAM": "2",
                                    "GYERMEK_SZAM": "0"
                                },
                                {
                                    "FOGLALAS_PK": "770",
                                    "UGYFEL_FK": "tamara2",
                                    "SZOBA_FK": "42",
                                    "METTOL": "2016-08-12",
                                    "MEDDIG": "2016-08-15",
                                    "FELNOTT_SZAM": "2",
                                    "GYERMEK_SZAM": "1"
                                },
                                {
                                    "FOGLALAS_PK": "771",
                                    "UGYFEL_FK": "ARPADM",
                                    "SZOBA_FK": "147",
                                    "METTOL": "2016-08-12",
                                    "MEDDIG": "2016-08-16",
                                    "FELNOTT_SZAM": "2",
                                    "GYERMEK_SZAM": "0"
                                },
                                {
                                    "FOGLALAS_PK": "772",
                                    "UGYFEL_FK": "eszter",
                                    "SZOBA_FK": "6",
                                    "METTOL": "2016-08-12",
                                    "MEDDIG": "2016-08-18",
                                    "FELNOTT_SZAM": "3",
                                    "GYERMEK_SZAM": "0"
                                },
                                {
                                    "FOGLALAS_PK": "773",
                                    "UGYFEL_FK": "edit",
                                    "SZOBA_FK": "58",
                                    "METTOL": "2016-08-12",
                                    "MEDDIG": "2016-08-14",
                                    "FELNOTT_SZAM": "1",
                                    "GYERMEK_SZAM": "1"
                                },
                                {
                                    "FOGLALAS_PK": "774",
                                    "UGYFEL_FK": "vivien3",
                                    "SZOBA_FK": "190",
                                    "METTOL": "2016-08-13",
                                    "MEDDIG": "2016-08-18",
                                    "FELNOTT_SZAM": "2",
                                    "GYERMEK_SZAM": "0"
                                },
                                {
                                    "FOGLALAS_PK": "775",
                                    "UGYFEL_FK": "nikoletta4",
                                    "SZOBA_FK": "12",
                                    "METTOL": "2016-08-13",
                                    "MEDDIG": "2016-08-17",
                                    "FELNOTT_SZAM": "2",
                                    "GYERMEK_SZAM": "1"
                                },
                                {
                                    "FOGLALAS_PK": "776",
                                    "UGYFEL_FK": "pal",
                                    "SZOBA_FK": "112",
                                    "METTOL": "2016-08-14",
                                    "MEDDIG": "2016-08-18",
                                    "FELNOTT_SZAM": "3",
                                    "GYERMEK_SZAM": "0"
                                },
                                {
                                    "FOGLALAS_PK": "777",
                                    "UGYFEL_FK": "polla",
                                    "SZOBA_FK": "34",
                                    "METTOL": "2016-08-14",
                                    "MEDDIG": "2016-08-17",
                                    "FELNOTT_SZAM": "2",
                                    "GYERMEK_SZAM": "0"
                                },
                                {
                                    "FOGLALAS_PK": "778",
                                    "UGYFEL_FK": "laszlo2",
                                    "SZOBA_FK": "19",
                                    "METTOL": "2016-08-14",
                                    "MEDDIG": "2016-08-15",
                                    "FELNOTT_SZAM": "2",
                                    "GYERMEK_SZAM": "1"
                                },
                                {
                                    "FOGLALAS_PK": "779",
                                    "UGYFEL_FK": "zoltan4",
                                    "SZOBA_FK": "130",
                                    "METTOL": "2016-08-15",
                                    "MEDDIG": "2016-08-21",
                                    "FELNOTT_SZAM": "1",
                                    "GYERMEK_SZAM": "0"
                                },
                                {
                                    "FOGLALAS_PK": "780",
                                    "UGYFEL_FK": "anett3",
                                    "SZOBA_FK": "96",
                                    "METTOL": "2016-08-15",
                                    "MEDDIG": "2016-08-16",
                                    "FELNOTT_SZAM": "2",
                                    "GYERMEK_SZAM": "0"
                                },
                                {
                                    "FOGLALAS_PK": "781",
                                    "UGYFEL_FK": "PETERB",
                                    "SZOBA_FK": "166",
                                    "METTOL": "2016-08-16",
                                    "MEDDIG": "2016-08-23",
                                    "FELNOTT_SZAM": "1",
                                    "GYERMEK_SZAM": "0"
                                },
                                {
                                    "FOGLALAS_PK": "782",
                                    "UGYFEL_FK": "norbert2",
                                    "SZOBA_FK": "163",
                                    "METTOL": "2016-08-16",
                                    "MEDDIG": "2016-08-19",
                                    "FELNOTT_SZAM": "1",
                                    "GYERMEK_SZAM": "0"
                                },
                                {
                                    "FOGLALAS_PK": "783",
                                    "UGYFEL_FK": "denes",
                                    "SZOBA_FK": "148",
                                    "METTOL": "2016-08-16",
                                    "MEDDIG": "2016-08-23",
                                    "FELNOTT_SZAM": "2",
                                    "GYERMEK_SZAM": "0"
                                },
                                {
                                    "FOGLALAS_PK": "784",
                                    "UGYFEL_FK": "zoltan4",
                                    "SZOBA_FK": "141",
                                    "METTOL": "2016-08-16",
                                    "MEDDIG": "2016-08-23",
                                    "FELNOTT_SZAM": "2",
                                    "GYERMEK_SZAM": "0"
                                },
                                {
                                    "FOGLALAS_PK": "785",
                                    "UGYFEL_FK": "dora3",
                                    "SZOBA_FK": "177",
                                    "METTOL": "2016-08-16",
                                    "MEDDIG": "2016-08-19",
                                    "FELNOTT_SZAM": "3",
                                    "GYERMEK_SZAM": "1"
                                },
                                {
                                    "FOGLALAS_PK": "786",
                                    "UGYFEL_FK": "ANDRASE",
                                    "SZOBA_FK": "111",
                                    "METTOL": "2016-08-16",
                                    "MEDDIG": "2016-08-20",
                                    "FELNOTT_SZAM": "1",
                                    "GYERMEK_SZAM": "1"
                                },
                                {
                                    "FOGLALAS_PK": "787",
                                    "UGYFEL_FK": "krisztian4",
                                    "SZOBA_FK": "50",
                                    "METTOL": "2016-08-16",
                                    "MEDDIG": "2016-08-19",
                                    "FELNOTT_SZAM": "1",
                                    "GYERMEK_SZAM": "0"
                                },
                                {
                                    "FOGLALAS_PK": "788",
                                    "UGYFEL_FK": "georgij",
                                    "SZOBA_FK": "3",
                                    "METTOL": "2016-08-16",
                                    "MEDDIG": "2016-08-22",
                                    "FELNOTT_SZAM": "2",
                                    "GYERMEK_SZAM": "2"
                                },
                                {
                                    "FOGLALAS_PK": "789",
                                    "UGYFEL_FK": "JANOSG",
                                    "SZOBA_FK": "146",
                                    "METTOL": "2016-08-16",
                                    "MEDDIG": "2016-08-23",
                                    "FELNOTT_SZAM": "3",
                                    "GYERMEK_SZAM": "0"
                                },
                                {
                                    "FOGLALAS_PK": "790",
                                    "UGYFEL_FK": "veronika4",
                                    "SZOBA_FK": "10",
                                    "METTOL": "2016-08-16",
                                    "MEDDIG": "2016-08-21",
                                    "FELNOTT_SZAM": "1",
                                    "GYERMEK_SZAM": "0"
                                },
                                {
                                    "FOGLALAS_PK": "791",
                                    "UGYFEL_FK": "ROBERTI",
                                    "SZOBA_FK": "15",
                                    "METTOL": "2016-08-16",
                                    "MEDDIG": "2016-08-21",
                                    "FELNOTT_SZAM": "2",
                                    "GYERMEK_SZAM": "0"
                                },
                                {
                                    "FOGLALAS_PK": "792",
                                    "UGYFEL_FK": "polla",
                                    "SZOBA_FK": "168",
                                    "METTOL": "2016-08-16",
                                    "MEDDIG": "2016-08-19",
                                    "FELNOTT_SZAM": "1",
                                    "GYERMEK_SZAM": "3"
                                },
                                {
                                    "FOGLALAS_PK": "793",
                                    "UGYFEL_FK": "anett3",
                                    "SZOBA_FK": "49",
                                    "METTOL": "2016-08-17",
                                    "MEDDIG": "2016-08-23",
                                    "FELNOTT_SZAM": "3",
                                    "GYERMEK_SZAM": "0"
                                },
                                {
                                    "FOGLALAS_PK": "794",
                                    "UGYFEL_FK": "MATEK",
                                    "SZOBA_FK": "168",
                                    "METTOL": "2016-08-17",
                                    "MEDDIG": "2016-08-21",
                                    "FELNOTT_SZAM": "2",
                                    "GYERMEK_SZAM": "2"
                                },
                                {
                                    "FOGLALAS_PK": "795",
                                    "UGYFEL_FK": "GYONGYIK",
                                    "SZOBA_FK": "10",
                                    "METTOL": "2016-08-17",
                                    "MEDDIG": "2016-08-21",
                                    "FELNOTT_SZAM": "3",
                                    "GYERMEK_SZAM": "0"
                                },
                                {
                                    "FOGLALAS_PK": "796",
                                    "UGYFEL_FK": "andras41",
                                    "SZOBA_FK": "138",
                                    "METTOL": "2016-08-17",
                                    "MEDDIG": "2016-08-21",
                                    "FELNOTT_SZAM": "3",
                                    "GYERMEK_SZAM": "0"
                                },
                                {
                                    "FOGLALAS_PK": "797",
                                    "UGYFEL_FK": "attila4",
                                    "SZOBA_FK": "74",
                                    "METTOL": "2016-08-18",
                                    "MEDDIG": "2016-08-23",
                                    "FELNOTT_SZAM": "3",
                                    "GYERMEK_SZAM": "1"
                                },
                                {
                                    "FOGLALAS_PK": "798",
                                    "UGYFEL_FK": "tihamer",
                                    "SZOBA_FK": "83",
                                    "METTOL": "2016-08-18",
                                    "MEDDIG": "2016-08-22",
                                    "FELNOTT_SZAM": "1",
                                    "GYERMEK_SZAM": "2"
                                },
                                {
                                    "FOGLALAS_PK": "799",
                                    "UGYFEL_FK": "andras41",
                                    "SZOBA_FK": "175",
                                    "METTOL": "2016-08-19",
                                    "MEDDIG": "2016-08-23",
                                    "FELNOTT_SZAM": "1",
                                    "GYERMEK_SZAM": "0"
                                },
                                {
                                    "FOGLALAS_PK": "800",
                                    "UGYFEL_FK": "sandor",
                                    "SZOBA_FK": "45",
                                    "METTOL": "2016-08-20",
                                    "MEDDIG": "2016-08-25",
                                    "FELNOTT_SZAM": "2",
                                    "GYERMEK_SZAM": "0"
                                },
                                {
                                    "FOGLALAS_PK": "801",
                                    "UGYFEL_FK": "david",
                                    "SZOBA_FK": "112",
                                    "METTOL": "2016-08-20",
                                    "MEDDIG": "2016-08-25",
                                    "FELNOTT_SZAM": "3",
                                    "GYERMEK_SZAM": "0"
                                },
                                {
                                    "FOGLALAS_PK": "802",
                                    "UGYFEL_FK": "robert2",
                                    "SZOBA_FK": "45",
                                    "METTOL": "2016-08-20",
                                    "MEDDIG": "2016-08-27",
                                    "FELNOTT_SZAM": "1",
                                    "GYERMEK_SZAM": "1"
                                },
                                {
                                    "FOGLALAS_PK": "803",
                                    "UGYFEL_FK": "adam1",
                                    "SZOBA_FK": "1",
                                    "METTOL": "2016-08-20",
                                    "MEDDIG": "2016-08-24",
                                    "FELNOTT_SZAM": "1",
                                    "GYERMEK_SZAM": "0"
                                },
                                {
                                    "FOGLALAS_PK": "804",
                                    "UGYFEL_FK": "denes",
                                    "SZOBA_FK": "146",
                                    "METTOL": "2016-08-20",
                                    "MEDDIG": "2016-08-27",
                                    "FELNOTT_SZAM": "1",
                                    "GYERMEK_SZAM": "2"
                                },
                                {
                                    "FOGLALAS_PK": "805",
                                    "UGYFEL_FK": "balazs2",
                                    "SZOBA_FK": "21",
                                    "METTOL": "2016-08-21",
                                    "MEDDIG": "2016-08-22",
                                    "FELNOTT_SZAM": "1",
                                    "GYERMEK_SZAM": "2"
                                },
                                {
                                    "FOGLALAS_PK": "806",
                                    "UGYFEL_FK": "imre1",
                                    "SZOBA_FK": "126",
                                    "METTOL": "2016-08-21",
                                    "MEDDIG": "2016-08-27",
                                    "FELNOTT_SZAM": "2",
                                    "GYERMEK_SZAM": "0"
                                },
                                {
                                    "FOGLALAS_PK": "807",
                                    "UGYFEL_FK": "david",
                                    "SZOBA_FK": "27",
                                    "METTOL": "2016-08-22",
                                    "MEDDIG": "2016-08-24",
                                    "FELNOTT_SZAM": "2",
                                    "GYERMEK_SZAM": "1"
                                },
                                {
                                    "FOGLALAS_PK": "808",
                                    "UGYFEL_FK": "ROBERTI",
                                    "SZOBA_FK": "148",
                                    "METTOL": "2016-08-23",
                                    "MEDDIG": "2016-08-25",
                                    "FELNOTT_SZAM": "2",
                                    "GYERMEK_SZAM": "0"
                                },
                                {
                                    "FOGLALAS_PK": "809",
                                    "UGYFEL_FK": "andrea",
                                    "SZOBA_FK": "92",
                                    "METTOL": "2016-08-23",
                                    "MEDDIG": "2016-08-26",
                                    "FELNOTT_SZAM": "3",
                                    "GYERMEK_SZAM": "0"
                                },
                                {
                                    "FOGLALAS_PK": "810",
                                    "UGYFEL_FK": "imre1",
                                    "SZOBA_FK": "109",
                                    "METTOL": "2016-08-23",
                                    "MEDDIG": "2016-08-25",
                                    "FELNOTT_SZAM": "1",
                                    "GYERMEK_SZAM": "2"
                                },
                                {
                                    "FOGLALAS_PK": "811",
                                    "UGYFEL_FK": "arpad2",
                                    "SZOBA_FK": "51",
                                    "METTOL": "2016-08-23",
                                    "MEDDIG": "2016-08-25",
                                    "FELNOTT_SZAM": "1",
                                    "GYERMEK_SZAM": "1"
                                },
                                {
                                    "FOGLALAS_PK": "812",
                                    "UGYFEL_FK": "bernadett2",
                                    "SZOBA_FK": "148",
                                    "METTOL": "2016-08-23",
                                    "MEDDIG": "2016-08-29",
                                    "FELNOTT_SZAM": "2",
                                    "GYERMEK_SZAM": "0"
                                },
                                {
                                    "FOGLALAS_PK": "813",
                                    "UGYFEL_FK": "JOZSEFG",
                                    "SZOBA_FK": "14",
                                    "METTOL": "2016-08-24",
                                    "MEDDIG": "2016-08-27",
                                    "FELNOTT_SZAM": "2",
                                    "GYERMEK_SZAM": "1"
                                },
                                {
                                    "FOGLALAS_PK": "814",
                                    "UGYFEL_FK": "kata",
                                    "SZOBA_FK": "70",
                                    "METTOL": "2016-08-24",
                                    "MEDDIG": "2016-08-27",
                                    "FELNOTT_SZAM": "2",
                                    "GYERMEK_SZAM": "1"
                                },
                                {
                                    "FOGLALAS_PK": "815",
                                    "UGYFEL_FK": "peter4",
                                    "SZOBA_FK": "128",
                                    "METTOL": "2016-08-24",
                                    "MEDDIG": "2016-08-25",
                                    "FELNOTT_SZAM": "1",
                                    "GYERMEK_SZAM": "2"
                                },
                                {
                                    "FOGLALAS_PK": "816",
                                    "UGYFEL_FK": "balazs3",
                                    "SZOBA_FK": "178",
                                    "METTOL": "2016-08-24",
                                    "MEDDIG": "2016-08-28",
                                    "FELNOTT_SZAM": "1",
                                    "GYERMEK_SZAM": "2"
                                },
                                {
                                    "FOGLALAS_PK": "817",
                                    "UGYFEL_FK": "tamas",
                                    "SZOBA_FK": "89",
                                    "METTOL": "2016-08-24",
                                    "MEDDIG": "2016-08-27",
                                    "FELNOTT_SZAM": "3",
                                    "GYERMEK_SZAM": "0"
                                },
                                {
                                    "FOGLALAS_PK": "818",
                                    "UGYFEL_FK": "henrik3",
                                    "SZOBA_FK": "8",
                                    "METTOL": "2016-08-24",
                                    "MEDDIG": "2016-08-28",
                                    "FELNOTT_SZAM": "1",
                                    "GYERMEK_SZAM": "0"
                                },
                                {
                                    "FOGLALAS_PK": "819",
                                    "UGYFEL_FK": "katka",
                                    "SZOBA_FK": "84",
                                    "METTOL": "2016-08-24",
                                    "MEDDIG": "2016-08-26",
                                    "FELNOTT_SZAM": "1",
                                    "GYERMEK_SZAM": "1"
                                },
                                {
                                    "FOGLALAS_PK": "820",
                                    "UGYFEL_FK": "janos3",
                                    "SZOBA_FK": "20",
                                    "METTOL": "2016-08-24",
                                    "MEDDIG": "2016-08-25",
                                    "FELNOTT_SZAM": "3",
                                    "GYERMEK_SZAM": "0"
                                },
                                {
                                    "FOGLALAS_PK": "821",
                                    "UGYFEL_FK": "kriszti",
                                    "SZOBA_FK": "34",
                                    "METTOL": "2016-08-24",
                                    "MEDDIG": "2016-08-25",
                                    "FELNOTT_SZAM": "2",
                                    "GYERMEK_SZAM": "1"
                                },
                                {
                                    "FOGLALAS_PK": "822",
                                    "UGYFEL_FK": "zoltan",
                                    "SZOBA_FK": "52",
                                    "METTOL": "2016-08-24",
                                    "MEDDIG": "2016-08-31",
                                    "FELNOTT_SZAM": "2",
                                    "GYERMEK_SZAM": "0"
                                },
                                {
                                    "FOGLALAS_PK": "823",
                                    "UGYFEL_FK": "beata4",
                                    "SZOBA_FK": "44",
                                    "METTOL": "2016-08-25",
                                    "MEDDIG": "2016-08-27",
                                    "FELNOTT_SZAM": "3",
                                    "GYERMEK_SZAM": "0"
                                },
                                {
                                    "FOGLALAS_PK": "824",
                                    "UGYFEL_FK": "bernadett2",
                                    "SZOBA_FK": "48",
                                    "METTOL": "2016-08-25",
                                    "MEDDIG": "2016-08-27",
                                    "FELNOTT_SZAM": "1",
                                    "GYERMEK_SZAM": "2"
                                },
                                {
                                    "FOGLALAS_PK": "825",
                                    "UGYFEL_FK": "dora3",
                                    "SZOBA_FK": "158",
                                    "METTOL": "2016-08-25",
                                    "MEDDIG": "2016-08-29",
                                    "FELNOTT_SZAM": "2",
                                    "GYERMEK_SZAM": "1"
                                },
                                {
                                    "FOGLALAS_PK": "826",
                                    "UGYFEL_FK": "andrea",
                                    "SZOBA_FK": "49",
                                    "METTOL": "2016-08-26",
                                    "MEDDIG": "2016-08-30",
                                    "FELNOTT_SZAM": "1",
                                    "GYERMEK_SZAM": "1"
                                },
                                {
                                    "FOGLALAS_PK": "827",
                                    "UGYFEL_FK": "ANIKOS",
                                    "SZOBA_FK": "114",
                                    "METTOL": "2016-08-26",
                                    "MEDDIG": "2016-09-02",
                                    "FELNOTT_SZAM": "1",
                                    "GYERMEK_SZAM": "1"
                                },
                                {
                                    "FOGLALAS_PK": "828",
                                    "UGYFEL_FK": "fruzsina4",
                                    "SZOBA_FK": "2",
                                    "METTOL": "2016-08-27",
                                    "MEDDIG": "2016-08-30",
                                    "FELNOTT_SZAM": "1",
                                    "GYERMEK_SZAM": "3"
                                },
                                {
                                    "FOGLALAS_PK": "829",
                                    "UGYFEL_FK": "adam4",
                                    "SZOBA_FK": "35",
                                    "METTOL": "2016-08-28",
                                    "MEDDIG": "2016-08-30",
                                    "FELNOTT_SZAM": "3",
                                    "GYERMEK_SZAM": "0"
                                },
                                {
                                    "FOGLALAS_PK": "830",
                                    "UGYFEL_FK": "SZILARDS",
                                    "SZOBA_FK": "74",
                                    "METTOL": "2016-08-28",
                                    "MEDDIG": "2016-08-29",
                                    "FELNOTT_SZAM": "2",
                                    "GYERMEK_SZAM": "2"
                                },
                                {
                                    "FOGLALAS_PK": "831",
                                    "UGYFEL_FK": "georgij",
                                    "SZOBA_FK": "177",
                                    "METTOL": "2016-08-28",
                                    "MEDDIG": "2016-09-04",
                                    "FELNOTT_SZAM": "1",
                                    "GYERMEK_SZAM": "1"
                                },
                                {
                                    "FOGLALAS_PK": "832",
                                    "UGYFEL_FK": "brigitta",
                                    "SZOBA_FK": "8",
                                    "METTOL": "2016-08-28",
                                    "MEDDIG": "2016-09-01",
                                    "FELNOTT_SZAM": "2",
                                    "GYERMEK_SZAM": "1"
                                },
                                {
                                    "FOGLALAS_PK": "833",
                                    "UGYFEL_FK": "zsuzsa",
                                    "SZOBA_FK": "149",
                                    "METTOL": "2016-08-28",
                                    "MEDDIG": "2016-08-30",
                                    "FELNOTT_SZAM": "1",
                                    "GYERMEK_SZAM": "1"
                                },
                                {
                                    "FOGLALAS_PK": "834",
                                    "UGYFEL_FK": "krisztian4",
                                    "SZOBA_FK": "149",
                                    "METTOL": "2016-08-29",
                                    "MEDDIG": "2016-09-03",
                                    "FELNOTT_SZAM": "1",
                                    "GYERMEK_SZAM": "0"
                                },
                                {
                                    "FOGLALAS_PK": "835",
                                    "UGYFEL_FK": "IBOLYAA",
                                    "SZOBA_FK": "193",
                                    "METTOL": "2016-08-29",
                                    "MEDDIG": "2016-08-31",
                                    "FELNOTT_SZAM": "2",
                                    "GYERMEK_SZAM": "3"
                                },
                                {
                                    "FOGLALAS_PK": "836",
                                    "UGYFEL_FK": "imre1",
                                    "SZOBA_FK": "97",
                                    "METTOL": "2016-08-29",
                                    "MEDDIG": "2016-08-31",
                                    "FELNOTT_SZAM": "2",
                                    "GYERMEK_SZAM": "0"
                                },
                                {
                                    "FOGLALAS_PK": "837",
                                    "UGYFEL_FK": "andras3",
                                    "SZOBA_FK": "104",
                                    "METTOL": "2016-08-29",
                                    "MEDDIG": "2016-09-02",
                                    "FELNOTT_SZAM": "3",
                                    "GYERMEK_SZAM": "0"
                                },
                                {
                                    "FOGLALAS_PK": "838",
                                    "UGYFEL_FK": "BELAF",
                                    "SZOBA_FK": "56",
                                    "METTOL": "2016-08-29",
                                    "MEDDIG": "2016-08-31",
                                    "FELNOTT_SZAM": "1",
                                    "GYERMEK_SZAM": "1"
                                },
                                {
                                    "FOGLALAS_PK": "839",
                                    "UGYFEL_FK": "MIHALYJ",
                                    "SZOBA_FK": "172",
                                    "METTOL": "2016-08-29",
                                    "MEDDIG": "2016-09-03",
                                    "FELNOTT_SZAM": "1",
                                    "GYERMEK_SZAM": "0"
                                },
                                {
                                    "FOGLALAS_PK": "840",
                                    "UGYFEL_FK": "JANOSG",
                                    "SZOBA_FK": "158",
                                    "METTOL": "2016-08-30",
                                    "MEDDIG": "2016-09-03",
                                    "FELNOTT_SZAM": "2",
                                    "GYERMEK_SZAM": "1"
                                },
                                {
                                    "FOGLALAS_PK": "841",
                                    "UGYFEL_FK": "gabor4",
                                    "SZOBA_FK": "92",
                                    "METTOL": "2016-08-31",
                                    "MEDDIG": "2016-09-06",
                                    "FELNOTT_SZAM": "3",
                                    "GYERMEK_SZAM": "1"
                                },
                                {
                                    "FOGLALAS_PK": "842",
                                    "UGYFEL_FK": "EVAV",
                                    "SZOBA_FK": "195",
                                    "METTOL": "2016-08-31",
                                    "MEDDIG": "2016-09-04",
                                    "FELNOTT_SZAM": "2",
                                    "GYERMEK_SZAM": "0"
                                },
                                {
                                    "FOGLALAS_PK": "843",
                                    "UGYFEL_FK": "vivien3",
                                    "SZOBA_FK": "149",
                                    "METTOL": "2016-09-01",
                                    "MEDDIG": "2016-09-05",
                                    "FELNOTT_SZAM": "2",
                                    "GYERMEK_SZAM": "0"
                                },
                                {
                                    "FOGLALAS_PK": "844",
                                    "UGYFEL_FK": "gabor1",
                                    "SZOBA_FK": "87",
                                    "METTOL": "2016-09-02",
                                    "MEDDIG": "2016-09-03",
                                    "FELNOTT_SZAM": "3",
                                    "GYERMEK_SZAM": "0"
                                },
                                {
                                    "FOGLALAS_PK": "845",
                                    "UGYFEL_FK": "eva2",
                                    "SZOBA_FK": "63",
                                    "METTOL": "2016-09-02",
                                    "MEDDIG": "2016-09-03",
                                    "FELNOTT_SZAM": "1",
                                    "GYERMEK_SZAM": "0"
                                },
                                {
                                    "FOGLALAS_PK": "846",
                                    "UGYFEL_FK": "maria1",
                                    "SZOBA_FK": "45",
                                    "METTOL": "2016-09-02",
                                    "MEDDIG": "2016-09-05",
                                    "FELNOTT_SZAM": "1",
                                    "GYERMEK_SZAM": "0"
                                },
                                {
                                    "FOGLALAS_PK": "847",
                                    "UGYFEL_FK": "bence",
                                    "SZOBA_FK": "74",
                                    "METTOL": "2016-09-03",
                                    "MEDDIG": "2016-09-06",
                                    "FELNOTT_SZAM": "2",
                                    "GYERMEK_SZAM": "1"
                                },
                                {
                                    "FOGLALAS_PK": "848",
                                    "UGYFEL_FK": "roland",
                                    "SZOBA_FK": "23",
                                    "METTOL": "2016-09-04",
                                    "MEDDIG": "2016-09-05",
                                    "FELNOTT_SZAM": "2",
                                    "GYERMEK_SZAM": "0"
                                },
                                {
                                    "FOGLALAS_PK": "849",
                                    "UGYFEL_FK": "tunde",
                                    "SZOBA_FK": "135",
                                    "METTOL": "2016-09-05",
                                    "MEDDIG": "2016-09-12",
                                    "FELNOTT_SZAM": "2",
                                    "GYERMEK_SZAM": "0"
                                },
                                {
                                    "FOGLALAS_PK": "850",
                                    "UGYFEL_FK": "rajmond4",
                                    "SZOBA_FK": "6",
                                    "METTOL": "2016-09-05",
                                    "MEDDIG": "2016-09-07",
                                    "FELNOTT_SZAM": "3",
                                    "GYERMEK_SZAM": "0"
                                },
                                {
                                    "FOGLALAS_PK": "851",
                                    "UGYFEL_FK": "balazs2",
                                    "SZOBA_FK": "42",
                                    "METTOL": "2016-05-22",
                                    "MEDDIG": "2016-05-29",
                                    "FELNOTT_SZAM": "2",
                                    "GYERMEK_SZAM": "1"
                                },
                                {
                                    "FOGLALAS_PK": "852",
                                    "UGYFEL_FK": "JOZSEFG",
                                    "SZOBA_FK": "24",
                                    "METTOL": "2016-05-23",
                                    "MEDDIG": "2016-05-25",
                                    "FELNOTT_SZAM": "1",
                                    "GYERMEK_SZAM": "0"
                                },
                                {
                                    "FOGLALAS_PK": "853",
                                    "UGYFEL_FK": "nikolett3",
                                    "SZOBA_FK": "127",
                                    "METTOL": "2016-05-24",
                                    "MEDDIG": "2016-05-29",
                                    "FELNOTT_SZAM": "2",
                                    "GYERMEK_SZAM": "0"
                                },
                                {
                                    "FOGLALAS_PK": "854",
                                    "UGYFEL_FK": "KRISZTINAG",
                                    "SZOBA_FK": "167",
                                    "METTOL": "2016-05-24",
                                    "MEDDIG": "2016-05-31",
                                    "FELNOTT_SZAM": "1",
                                    "GYERMEK_SZAM": "0"
                                },
                                {
                                    "FOGLALAS_PK": "855",
                                    "UGYFEL_FK": "ANIKOS",
                                    "SZOBA_FK": "53",
                                    "METTOL": "2016-05-24",
                                    "MEDDIG": "2016-05-25",
                                    "FELNOTT_SZAM": "1",
                                    "GYERMEK_SZAM": "2"
                                },
                                {
                                    "FOGLALAS_PK": "856",
                                    "UGYFEL_FK": "valentin",
                                    "SZOBA_FK": "16",
                                    "METTOL": "2016-05-24",
                                    "MEDDIG": "2016-05-30",
                                    "FELNOTT_SZAM": "2",
                                    "GYERMEK_SZAM": "2"
                                },
                                {
                                    "FOGLALAS_PK": "857",
                                    "UGYFEL_FK": "agnes",
                                    "SZOBA_FK": "165",
                                    "METTOL": "2016-05-25",
                                    "MEDDIG": "2016-05-30",
                                    "FELNOTT_SZAM": "1",
                                    "GYERMEK_SZAM": "0"
                                },
                                {
                                    "FOGLALAS_PK": "858",
                                    "UGYFEL_FK": "sandor3",
                                    "SZOBA_FK": "121",
                                    "METTOL": "2016-05-25",
                                    "MEDDIG": "2016-05-30",
                                    "FELNOTT_SZAM": "1",
                                    "GYERMEK_SZAM": "0"
                                },
                                {
                                    "FOGLALAS_PK": "859",
                                    "UGYFEL_FK": "daniel1",
                                    "SZOBA_FK": "86",
                                    "METTOL": "2016-05-26",
                                    "MEDDIG": "2016-05-27",
                                    "FELNOTT_SZAM": "2",
                                    "GYERMEK_SZAM": "1"
                                },
                                {
                                    "FOGLALAS_PK": "860",
                                    "UGYFEL_FK": "andrea4",
                                    "SZOBA_FK": "70",
                                    "METTOL": "2016-05-27",
                                    "MEDDIG": "2016-05-29",
                                    "FELNOTT_SZAM": "1",
                                    "GYERMEK_SZAM": "0"
                                },
                                {
                                    "FOGLALAS_PK": "861",
                                    "UGYFEL_FK": "GYORGYO",
                                    "SZOBA_FK": "124",
                                    "METTOL": "2016-05-27",
                                    "MEDDIG": "2016-05-28",
                                    "FELNOTT_SZAM": "2",
                                    "GYERMEK_SZAM": "1"
                                },
                                {
                                    "FOGLALAS_PK": "862",
                                    "UGYFEL_FK": "denes",
                                    "SZOBA_FK": "82",
                                    "METTOL": "2016-05-27",
                                    "MEDDIG": "2016-05-31",
                                    "FELNOTT_SZAM": "2",
                                    "GYERMEK_SZAM": "1"
                                },
                                {
                                    "FOGLALAS_PK": "863",
                                    "UGYFEL_FK": "balazs2",
                                    "SZOBA_FK": "185",
                                    "METTOL": "2016-05-28",
                                    "MEDDIG": "2016-06-01",
                                    "FELNOTT_SZAM": "2",
                                    "GYERMEK_SZAM": "1"
                                },
                                {
                                    "FOGLALAS_PK": "864",
                                    "UGYFEL_FK": "maria1",
                                    "SZOBA_FK": "118",
                                    "METTOL": "2016-05-28",
                                    "MEDDIG": "2016-06-03",
                                    "FELNOTT_SZAM": "2",
                                    "GYERMEK_SZAM": "0"
                                },
                                {
                                    "FOGLALAS_PK": "865",
                                    "UGYFEL_FK": "polla",
                                    "SZOBA_FK": "51",
                                    "METTOL": "2016-05-28",
                                    "MEDDIG": "2016-06-04",
                                    "FELNOTT_SZAM": "2",
                                    "GYERMEK_SZAM": "0"
                                },
                                {
                                    "FOGLALAS_PK": "866",
                                    "UGYFEL_FK": "sara",
                                    "SZOBA_FK": "88",
                                    "METTOL": "2016-05-28",
                                    "MEDDIG": "2016-05-30",
                                    "FELNOTT_SZAM": "1",
                                    "GYERMEK_SZAM": "1"
                                },
                                {
                                    "FOGLALAS_PK": "867",
                                    "UGYFEL_FK": "ZSOLTJ",
                                    "SZOBA_FK": "175",
                                    "METTOL": "2016-05-28",
                                    "MEDDIG": "2016-06-03",
                                    "FELNOTT_SZAM": "1",
                                    "GYERMEK_SZAM": "0"
                                },
                                {
                                    "FOGLALAS_PK": "868",
                                    "UGYFEL_FK": "ZSUZSAV",
                                    "SZOBA_FK": "187",
                                    "METTOL": "2016-05-28",
                                    "MEDDIG": "2016-06-01",
                                    "FELNOTT_SZAM": "3",
                                    "GYERMEK_SZAM": "1"
                                },
                                {
                                    "FOGLALAS_PK": "869",
                                    "UGYFEL_FK": "adam1",
                                    "SZOBA_FK": "83",
                                    "METTOL": "2016-05-28",
                                    "MEDDIG": "2016-06-03",
                                    "FELNOTT_SZAM": "3",
                                    "GYERMEK_SZAM": "0"
                                },
                                {
                                    "FOGLALAS_PK": "870",
                                    "UGYFEL_FK": "szilvia1",
                                    "SZOBA_FK": "34",
                                    "METTOL": "2016-05-28",
                                    "MEDDIG": "2016-06-03",
                                    "FELNOTT_SZAM": "1",
                                    "GYERMEK_SZAM": "1"
                                },
                                {
                                    "FOGLALAS_PK": "871",
                                    "UGYFEL_FK": "norbert4",
                                    "SZOBA_FK": "82",
                                    "METTOL": "2016-05-29",
                                    "MEDDIG": "2016-06-03",
                                    "FELNOTT_SZAM": "3",
                                    "GYERMEK_SZAM": "0"
                                },
                                {
                                    "FOGLALAS_PK": "872",
                                    "UGYFEL_FK": "bence",
                                    "SZOBA_FK": "28",
                                    "METTOL": "2016-05-29",
                                    "MEDDIG": "2016-06-03",
                                    "FELNOTT_SZAM": "1",
                                    "GYERMEK_SZAM": "0"
                                },
                                {
                                    "FOGLALAS_PK": "873",
                                    "UGYFEL_FK": "ARPADM",
                                    "SZOBA_FK": "6",
                                    "METTOL": "2016-05-29",
                                    "MEDDIG": "2016-06-01",
                                    "FELNOTT_SZAM": "2",
                                    "GYERMEK_SZAM": "0"
                                },
                                {
                                    "FOGLALAS_PK": "874",
                                    "UGYFEL_FK": "ESZTERE",
                                    "SZOBA_FK": "67",
                                    "METTOL": "2016-05-30",
                                    "MEDDIG": "2016-06-05",
                                    "FELNOTT_SZAM": "2",
                                    "GYERMEK_SZAM": "0"
                                },
                                {
                                    "FOGLALAS_PK": "875",
                                    "UGYFEL_FK": "MIHALYJ",
                                    "SZOBA_FK": "64",
                                    "METTOL": "2016-05-30",
                                    "MEDDIG": "2016-06-01",
                                    "FELNOTT_SZAM": "2",
                                    "GYERMEK_SZAM": "0"
                                },
                                {
                                    "FOGLALAS_PK": "876",
                                    "UGYFEL_FK": "brigitta",
                                    "SZOBA_FK": "12",
                                    "METTOL": "2016-05-30",
                                    "MEDDIG": "2016-06-06",
                                    "FELNOTT_SZAM": "1",
                                    "GYERMEK_SZAM": "2"
                                },
                                {
                                    "FOGLALAS_PK": "877",
                                    "UGYFEL_FK": "nikoletta4",
                                    "SZOBA_FK": "74",
                                    "METTOL": "2016-05-30",
                                    "MEDDIG": "2016-06-03",
                                    "FELNOTT_SZAM": "3",
                                    "GYERMEK_SZAM": "0"
                                },
                                {
                                    "FOGLALAS_PK": "878",
                                    "UGYFEL_FK": "gabor4",
                                    "SZOBA_FK": "83",
                                    "METTOL": "2016-05-30",
                                    "MEDDIG": "2016-06-05",
                                    "FELNOTT_SZAM": "1",
                                    "GYERMEK_SZAM": "0"
                                },
                                {
                                    "FOGLALAS_PK": "879",
                                    "UGYFEL_FK": "VIKTORK",
                                    "SZOBA_FK": "127",
                                    "METTOL": "2016-05-30",
                                    "MEDDIG": "2016-06-01",
                                    "FELNOTT_SZAM": "2",
                                    "GYERMEK_SZAM": "0"
                                },
                                {
                                    "FOGLALAS_PK": "880",
                                    "UGYFEL_FK": "andras3",
                                    "SZOBA_FK": "184",
                                    "METTOL": "2016-05-30",
                                    "MEDDIG": "2016-06-03",
                                    "FELNOTT_SZAM": "1",
                                    "GYERMEK_SZAM": "0"
                                },
                                {
                                    "FOGLALAS_PK": "881",
                                    "UGYFEL_FK": "tihamer",
                                    "SZOBA_FK": "131",
                                    "METTOL": "2016-05-30",
                                    "MEDDIG": "2016-06-05",
                                    "FELNOTT_SZAM": "1",
                                    "GYERMEK_SZAM": "0"
                                },
                                {
                                    "FOGLALAS_PK": "882",
                                    "UGYFEL_FK": "sara",
                                    "SZOBA_FK": "8",
                                    "METTOL": "2016-05-30",
                                    "MEDDIG": "2016-05-31",
                                    "FELNOTT_SZAM": "2",
                                    "GYERMEK_SZAM": "0"
                                },
                                {
                                    "FOGLALAS_PK": "883",
                                    "UGYFEL_FK": "veronika4",
                                    "SZOBA_FK": "58",
                                    "METTOL": "2016-05-30",
                                    "MEDDIG": "2016-06-04",
                                    "FELNOTT_SZAM": "1",
                                    "GYERMEK_SZAM": "1"
                                },
                                {
                                    "FOGLALAS_PK": "884",
                                    "UGYFEL_FK": "andras2",
                                    "SZOBA_FK": "98",
                                    "METTOL": "2016-05-30",
                                    "MEDDIG": "2016-06-04",
                                    "FELNOTT_SZAM": "1",
                                    "GYERMEK_SZAM": "0"
                                },
                                {
                                    "FOGLALAS_PK": "885",
                                    "UGYFEL_FK": "kata",
                                    "SZOBA_FK": "69",
                                    "METTOL": "2016-05-31",
                                    "MEDDIG": "2016-06-01",
                                    "FELNOTT_SZAM": "3",
                                    "GYERMEK_SZAM": "0"
                                },
                                {
                                    "FOGLALAS_PK": "886",
                                    "UGYFEL_FK": "brigitta3",
                                    "SZOBA_FK": "28",
                                    "METTOL": "2016-06-01",
                                    "MEDDIG": "2016-06-05",
                                    "FELNOTT_SZAM": "1",
                                    "GYERMEK_SZAM": "1"
                                },
                                {
                                    "FOGLALAS_PK": "887",
                                    "UGYFEL_FK": "GYORGYO",
                                    "SZOBA_FK": "80",
                                    "METTOL": "2016-06-01",
                                    "MEDDIG": "2016-06-07",
                                    "FELNOTT_SZAM": "2",
                                    "GYERMEK_SZAM": "0"
                                },
                                {
                                    "FOGLALAS_PK": "888",
                                    "UGYFEL_FK": "kornel4",
                                    "SZOBA_FK": "49",
                                    "METTOL": "2016-06-02",
                                    "MEDDIG": "2016-06-09",
                                    "FELNOTT_SZAM": "1",
                                    "GYERMEK_SZAM": "2"
                                },
                                {
                                    "FOGLALAS_PK": "889",
                                    "UGYFEL_FK": "fruzsina4",
                                    "SZOBA_FK": "54",
                                    "METTOL": "2016-06-02",
                                    "MEDDIG": "2016-06-04",
                                    "FELNOTT_SZAM": "2",
                                    "GYERMEK_SZAM": "0"
                                },
                                {
                                    "FOGLALAS_PK": "890",
                                    "UGYFEL_FK": "GYONGYIK",
                                    "SZOBA_FK": "146",
                                    "METTOL": "2016-06-02",
                                    "MEDDIG": "2016-06-05",
                                    "FELNOTT_SZAM": "2",
                                    "GYERMEK_SZAM": "1"
                                },
                                {
                                    "FOGLALAS_PK": "891",
                                    "UGYFEL_FK": "MATYASS",
                                    "SZOBA_FK": "63",
                                    "METTOL": "2016-06-02",
                                    "MEDDIG": "2016-06-08",
                                    "FELNOTT_SZAM": "1",
                                    "GYERMEK_SZAM": "0"
                                },
                                {
                                    "FOGLALAS_PK": "892",
                                    "UGYFEL_FK": "LASZLON",
                                    "SZOBA_FK": "165",
                                    "METTOL": "2016-06-03",
                                    "MEDDIG": "2016-06-06",
                                    "FELNOTT_SZAM": "1",
                                    "GYERMEK_SZAM": "0"
                                },
                                {
                                    "FOGLALAS_PK": "893",
                                    "UGYFEL_FK": "zoltan4",
                                    "SZOBA_FK": "151",
                                    "METTOL": "2016-06-03",
                                    "MEDDIG": "2016-06-06",
                                    "FELNOTT_SZAM": "1",
                                    "GYERMEK_SZAM": "0"
                                },
                                {
                                    "FOGLALAS_PK": "894",
                                    "UGYFEL_FK": "krisztian4",
                                    "SZOBA_FK": "29",
                                    "METTOL": "2016-06-03",
                                    "MEDDIG": "2016-06-04",
                                    "FELNOTT_SZAM": "2",
                                    "GYERMEK_SZAM": "0"
                                },
                                {
                                    "FOGLALAS_PK": "895",
                                    "UGYFEL_FK": "tihamer",
                                    "SZOBA_FK": "36",
                                    "METTOL": "2016-06-03",
                                    "MEDDIG": "2016-06-08",
                                    "FELNOTT_SZAM": "3",
                                    "GYERMEK_SZAM": "2"
                                },
                                {
                                    "FOGLALAS_PK": "896",
                                    "UGYFEL_FK": "beata4",
                                    "SZOBA_FK": "16",
                                    "METTOL": "2016-06-03",
                                    "MEDDIG": "2016-06-04",
                                    "FELNOTT_SZAM": "1",
                                    "GYERMEK_SZAM": "1"
                                },
                                {
                                    "FOGLALAS_PK": "897",
                                    "UGYFEL_FK": "nikolett3",
                                    "SZOBA_FK": "165",
                                    "METTOL": "2016-06-03",
                                    "MEDDIG": "2016-06-09",
                                    "FELNOTT_SZAM": "1",
                                    "GYERMEK_SZAM": "0"
                                },
                                {
                                    "FOGLALAS_PK": "898",
                                    "UGYFEL_FK": "tunde",
                                    "SZOBA_FK": "185",
                                    "METTOL": "2016-06-03",
                                    "MEDDIG": "2016-06-07",
                                    "FELNOTT_SZAM": "1",
                                    "GYERMEK_SZAM": "2"
                                },
                                {
                                    "FOGLALAS_PK": "899",
                                    "UGYFEL_FK": "LASZLOA",
                                    "SZOBA_FK": "39",
                                    "METTOL": "2016-06-03",
                                    "MEDDIG": "2016-06-09",
                                    "FELNOTT_SZAM": "1",
                                    "GYERMEK_SZAM": "1"
                                },
                                {
                                    "FOGLALAS_PK": "900",
                                    "UGYFEL_FK": "BENCEB",
                                    "SZOBA_FK": "165",
                                    "METTOL": "2016-06-03",
                                    "MEDDIG": "2016-06-09",
                                    "FELNOTT_SZAM": "1",
                                    "GYERMEK_SZAM": "1"
                                },
                                {
                                    "FOGLALAS_PK": "901",
                                    "UGYFEL_FK": "KRISZTIANM",
                                    "SZOBA_FK": "28",
                                    "METTOL": "2016-06-04",
                                    "MEDDIG": "2016-06-08",
                                    "FELNOTT_SZAM": "2",
                                    "GYERMEK_SZAM": "0"
                                },
                                {
                                    "FOGLALAS_PK": "902",
                                    "UGYFEL_FK": "ARONK",
                                    "SZOBA_FK": "72",
                                    "METTOL": "2016-06-04",
                                    "MEDDIG": "2016-06-09",
                                    "FELNOTT_SZAM": "1",
                                    "GYERMEK_SZAM": "1"
                                },
                                {
                                    "FOGLALAS_PK": "903",
                                    "UGYFEL_FK": "ATTILAO",
                                    "SZOBA_FK": "192",
                                    "METTOL": "2016-06-04",
                                    "MEDDIG": "2016-06-11",
                                    "FELNOTT_SZAM": "2",
                                    "GYERMEK_SZAM": "1"
                                },
                                {
                                    "FOGLALAS_PK": "904",
                                    "UGYFEL_FK": "janos3",
                                    "SZOBA_FK": "34",
                                    "METTOL": "2016-06-04",
                                    "MEDDIG": "2016-06-06",
                                    "FELNOTT_SZAM": "1",
                                    "GYERMEK_SZAM": "0"
                                },
                                {
                                    "FOGLALAS_PK": "905",
                                    "UGYFEL_FK": "JOZSEFG",
                                    "SZOBA_FK": "180",
                                    "METTOL": "2016-06-04",
                                    "MEDDIG": "2016-06-09",
                                    "FELNOTT_SZAM": "2",
                                    "GYERMEK_SZAM": "2"
                                },
                                {
                                    "FOGLALAS_PK": "906",
                                    "UGYFEL_FK": "csongor3",
                                    "SZOBA_FK": "22",
                                    "METTOL": "2016-06-04",
                                    "MEDDIG": "2016-06-05",
                                    "FELNOTT_SZAM": "1",
                                    "GYERMEK_SZAM": "1"
                                },
                                {
                                    "FOGLALAS_PK": "907",
                                    "UGYFEL_FK": "ZOLTANP",
                                    "SZOBA_FK": "156",
                                    "METTOL": "2016-06-05",
                                    "MEDDIG": "2016-06-08",
                                    "FELNOTT_SZAM": "1",
                                    "GYERMEK_SZAM": "1"
                                },
                                {
                                    "FOGLALAS_PK": "908",
                                    "UGYFEL_FK": "arpad2",
                                    "SZOBA_FK": "141",
                                    "METTOL": "2016-06-05",
                                    "MEDDIG": "2016-06-07",
                                    "FELNOTT_SZAM": "1",
                                    "GYERMEK_SZAM": "1"
                                },
                                {
                                    "FOGLALAS_PK": "909",
                                    "UGYFEL_FK": "dani",
                                    "SZOBA_FK": "133",
                                    "METTOL": "2016-06-06",
                                    "MEDDIG": "2016-06-10",
                                    "FELNOTT_SZAM": "1",
                                    "GYERMEK_SZAM": "2"
                                },
                                {
                                    "FOGLALAS_PK": "910",
                                    "UGYFEL_FK": "sara",
                                    "SZOBA_FK": "130",
                                    "METTOL": "2016-06-06",
                                    "MEDDIG": "2016-06-08",
                                    "FELNOTT_SZAM": "2",
                                    "GYERMEK_SZAM": "0"
                                },
                                {
                                    "FOGLALAS_PK": "911",
                                    "UGYFEL_FK": "kati",
                                    "SZOBA_FK": "161",
                                    "METTOL": "2016-06-06",
                                    "MEDDIG": "2016-06-10",
                                    "FELNOTT_SZAM": "1",
                                    "GYERMEK_SZAM": "1"
                                },
                                {
                                    "FOGLALAS_PK": "912",
                                    "UGYFEL_FK": "ARPADH",
                                    "SZOBA_FK": "188",
                                    "METTOL": "2016-06-06",
                                    "MEDDIG": "2016-06-07",
                                    "FELNOTT_SZAM": "3",
                                    "GYERMEK_SZAM": "0"
                                },
                                {
                                    "FOGLALAS_PK": "913",
                                    "UGYFEL_FK": "timea2",
                                    "SZOBA_FK": "173",
                                    "METTOL": "2016-06-06",
                                    "MEDDIG": "2016-06-07",
                                    "FELNOTT_SZAM": "1",
                                    "GYERMEK_SZAM": "1"
                                },
                                {
                                    "FOGLALAS_PK": "914",
                                    "UGYFEL_FK": "kati",
                                    "SZOBA_FK": "48",
                                    "METTOL": "2016-06-06",
                                    "MEDDIG": "2016-06-11",
                                    "FELNOTT_SZAM": "3",
                                    "GYERMEK_SZAM": "0"
                                },
                                {
                                    "FOGLALAS_PK": "915",
                                    "UGYFEL_FK": "ZOLTANP",
                                    "SZOBA_FK": "140",
                                    "METTOL": "2016-06-06",
                                    "MEDDIG": "2016-06-08",
                                    "FELNOTT_SZAM": "2",
                                    "GYERMEK_SZAM": "0"
                                },
                                {
                                    "FOGLALAS_PK": "916",
                                    "UGYFEL_FK": "marton",
                                    "SZOBA_FK": "17",
                                    "METTOL": "2016-06-06",
                                    "MEDDIG": "2016-06-08",
                                    "FELNOTT_SZAM": "1",
                                    "GYERMEK_SZAM": "2"
                                },
                                {
                                    "FOGLALAS_PK": "917",
                                    "UGYFEL_FK": "zsolt1",
                                    "SZOBA_FK": "174",
                                    "METTOL": "2016-06-06",
                                    "MEDDIG": "2016-06-08",
                                    "FELNOTT_SZAM": "2",
                                    "GYERMEK_SZAM": "0"
                                },
                                {
                                    "FOGLALAS_PK": "918",
                                    "UGYFEL_FK": "tunde",
                                    "SZOBA_FK": "11",
                                    "METTOL": "2016-06-06",
                                    "MEDDIG": "2016-06-12",
                                    "FELNOTT_SZAM": "2",
                                    "GYERMEK_SZAM": "1"
                                },
                                {
                                    "FOGLALAS_PK": "919",
                                    "UGYFEL_FK": "VIKTORK",
                                    "SZOBA_FK": "36",
                                    "METTOL": "2016-06-06",
                                    "MEDDIG": "2016-06-07",
                                    "FELNOTT_SZAM": "3",
                                    "GYERMEK_SZAM": "1"
                                },
                                {
                                    "FOGLALAS_PK": "920",
                                    "UGYFEL_FK": "JUDITH",
                                    "SZOBA_FK": "32",
                                    "METTOL": "2016-06-06",
                                    "MEDDIG": "2016-06-10",
                                    "FELNOTT_SZAM": "2",
                                    "GYERMEK_SZAM": "0"
                                },
                                {
                                    "FOGLALAS_PK": "921",
                                    "UGYFEL_FK": "annamaria1",
                                    "SZOBA_FK": "112",
                                    "METTOL": "2016-06-06",
                                    "MEDDIG": "2016-06-07",
                                    "FELNOTT_SZAM": "2",
                                    "GYERMEK_SZAM": "1"
                                },
                                {
                                    "FOGLALAS_PK": "922",
                                    "UGYFEL_FK": "klaudia2",
                                    "SZOBA_FK": "160",
                                    "METTOL": "2016-06-06",
                                    "MEDDIG": "2016-06-08",
                                    "FELNOTT_SZAM": "1",
                                    "GYERMEK_SZAM": "3"
                                },
                                {
                                    "FOGLALAS_PK": "923",
                                    "UGYFEL_FK": "LASZLOA",
                                    "SZOBA_FK": "123",
                                    "METTOL": "2016-06-07",
                                    "MEDDIG": "2016-06-11",
                                    "FELNOTT_SZAM": "1",
                                    "GYERMEK_SZAM": "0"
                                },
                                {
                                    "FOGLALAS_PK": "924",
                                    "UGYFEL_FK": "balint1",
                                    "SZOBA_FK": "40",
                                    "METTOL": "2016-06-07",
                                    "MEDDIG": "2016-06-12",
                                    "FELNOTT_SZAM": "2",
                                    "GYERMEK_SZAM": "1"
                                },
                                {
                                    "FOGLALAS_PK": "925",
                                    "UGYFEL_FK": "BERNADETTO",
                                    "SZOBA_FK": "185",
                                    "METTOL": "2016-06-07",
                                    "MEDDIG": "2016-06-13",
                                    "FELNOTT_SZAM": "2",
                                    "GYERMEK_SZAM": "1"
                                },
                                {
                                    "FOGLALAS_PK": "926",
                                    "UGYFEL_FK": "julia",
                                    "SZOBA_FK": "193",
                                    "METTOL": "2016-06-07",
                                    "MEDDIG": "2016-06-08",
                                    "FELNOTT_SZAM": "2",
                                    "GYERMEK_SZAM": "3"
                                },
                                {
                                    "FOGLALAS_PK": "927",
                                    "UGYFEL_FK": "andras41",
                                    "SZOBA_FK": "160",
                                    "METTOL": "2016-06-07",
                                    "MEDDIG": "2016-06-11",
                                    "FELNOTT_SZAM": "1",
                                    "GYERMEK_SZAM": "2"
                                },
                                {
                                    "FOGLALAS_PK": "928",
                                    "UGYFEL_FK": "NIKOLETTAT",
                                    "SZOBA_FK": "182",
                                    "METTOL": "2016-06-07",
                                    "MEDDIG": "2016-06-09",
                                    "FELNOTT_SZAM": "2",
                                    "GYERMEK_SZAM": "0"
                                },
                                {
                                    "FOGLALAS_PK": "929",
                                    "UGYFEL_FK": "krisztian4",
                                    "SZOBA_FK": "80",
                                    "METTOL": "2016-06-07",
                                    "MEDDIG": "2016-06-09",
                                    "FELNOTT_SZAM": "2",
                                    "GYERMEK_SZAM": "0"
                                },
                                {
                                    "FOGLALAS_PK": "930",
                                    "UGYFEL_FK": "zsolt1",
                                    "SZOBA_FK": "168",
                                    "METTOL": "2016-06-07",
                                    "MEDDIG": "2016-06-10",
                                    "FELNOTT_SZAM": "2",
                                    "GYERMEK_SZAM": "2"
                                },
                                {
                                    "FOGLALAS_PK": "931",
                                    "UGYFEL_FK": "kata",
                                    "SZOBA_FK": "110",
                                    "METTOL": "2016-06-07",
                                    "MEDDIG": "2016-06-12",
                                    "FELNOTT_SZAM": "2",
                                    "GYERMEK_SZAM": "0"
                                },
                                {
                                    "FOGLALAS_PK": "932",
                                    "UGYFEL_FK": "ARONK",
                                    "SZOBA_FK": "40",
                                    "METTOL": "2016-06-07",
                                    "MEDDIG": "2016-06-13",
                                    "FELNOTT_SZAM": "1",
                                    "GYERMEK_SZAM": "2"
                                },
                                {
                                    "FOGLALAS_PK": "933",
                                    "UGYFEL_FK": "balint1",
                                    "SZOBA_FK": "160",
                                    "METTOL": "2016-06-07",
                                    "MEDDIG": "2016-06-11",
                                    "FELNOTT_SZAM": "2",
                                    "GYERMEK_SZAM": "1"
                                },
                                {
                                    "FOGLALAS_PK": "934",
                                    "UGYFEL_FK": "LASZLON",
                                    "SZOBA_FK": "23",
                                    "METTOL": "2016-06-08",
                                    "MEDDIG": "2016-06-09",
                                    "FELNOTT_SZAM": "2",
                                    "GYERMEK_SZAM": "0"
                                },
                                {
                                    "FOGLALAS_PK": "935",
                                    "UGYFEL_FK": "KRISZTINAG",
                                    "SZOBA_FK": "56",
                                    "METTOL": "2016-06-08",
                                    "MEDDIG": "2016-06-12",
                                    "FELNOTT_SZAM": "1",
                                    "GYERMEK_SZAM": "0"
                                },
                                {
                                    "FOGLALAS_PK": "936",
                                    "UGYFEL_FK": "ANNAMARIAR",
                                    "SZOBA_FK": "62",
                                    "METTOL": "2016-06-08",
                                    "MEDDIG": "2016-06-11",
                                    "FELNOTT_SZAM": "2",
                                    "GYERMEK_SZAM": "0"
                                },
                                {
                                    "FOGLALAS_PK": "937",
                                    "UGYFEL_FK": "alexandra",
                                    "SZOBA_FK": "181",
                                    "METTOL": "2016-06-08",
                                    "MEDDIG": "2016-06-11",
                                    "FELNOTT_SZAM": "1",
                                    "GYERMEK_SZAM": "2"
                                },
                                {
                                    "FOGLALAS_PK": "938",
                                    "UGYFEL_FK": "david",
                                    "SZOBA_FK": "62",
                                    "METTOL": "2016-06-09",
                                    "MEDDIG": "2016-06-10",
                                    "FELNOTT_SZAM": "1",
                                    "GYERMEK_SZAM": "1"
                                },
                                {
                                    "FOGLALAS_PK": "939",
                                    "UGYFEL_FK": "roland",
                                    "SZOBA_FK": "183",
                                    "METTOL": "2016-06-09",
                                    "MEDDIG": "2016-06-13",
                                    "FELNOTT_SZAM": "3",
                                    "GYERMEK_SZAM": "0"
                                },
                                {
                                    "FOGLALAS_PK": "940",
                                    "UGYFEL_FK": "sebestyen",
                                    "SZOBA_FK": "74",
                                    "METTOL": "2016-06-09",
                                    "MEDDIG": "2016-06-14",
                                    "FELNOTT_SZAM": "3",
                                    "GYERMEK_SZAM": "1"
                                },
                                {
                                    "FOGLALAS_PK": "941",
                                    "UGYFEL_FK": "BEATRIXK",
                                    "SZOBA_FK": "163",
                                    "METTOL": "2016-06-10",
                                    "MEDDIG": "2016-06-11",
                                    "FELNOTT_SZAM": "2",
                                    "GYERMEK_SZAM": "0"
                                },
                                {
                                    "FOGLALAS_PK": "942",
                                    "UGYFEL_FK": "BERNADETTO",
                                    "SZOBA_FK": "92",
                                    "METTOL": "2016-06-10",
                                    "MEDDIG": "2016-06-16",
                                    "FELNOTT_SZAM": "3",
                                    "GYERMEK_SZAM": "1"
                                },
                                {
                                    "FOGLALAS_PK": "943",
                                    "UGYFEL_FK": "csongor3",
                                    "SZOBA_FK": "115",
                                    "METTOL": "2016-06-10",
                                    "MEDDIG": "2016-06-17",
                                    "FELNOTT_SZAM": "3",
                                    "GYERMEK_SZAM": "0"
                                },
                                {
                                    "FOGLALAS_PK": "944",
                                    "UGYFEL_FK": "BEATRIXK",
                                    "SZOBA_FK": "170",
                                    "METTOL": "2016-06-10",
                                    "MEDDIG": "2016-06-14",
                                    "FELNOTT_SZAM": "2",
                                    "GYERMEK_SZAM": "0"
                                },
                                {
                                    "FOGLALAS_PK": "945",
                                    "UGYFEL_FK": "GYONGYIK",
                                    "SZOBA_FK": "23",
                                    "METTOL": "2016-06-10",
                                    "MEDDIG": "2016-06-17",
                                    "FELNOTT_SZAM": "1",
                                    "GYERMEK_SZAM": "0"
                                },
                                {
                                    "FOGLALAS_PK": "946",
                                    "UGYFEL_FK": "GYORGYO",
                                    "SZOBA_FK": "4",
                                    "METTOL": "2016-06-10",
                                    "MEDDIG": "2016-06-15",
                                    "FELNOTT_SZAM": "2",
                                    "GYERMEK_SZAM": "0"
                                },
                                {
                                    "FOGLALAS_PK": "947",
                                    "UGYFEL_FK": "LASZLOA",
                                    "SZOBA_FK": "8",
                                    "METTOL": "2016-06-10",
                                    "MEDDIG": "2016-06-13",
                                    "FELNOTT_SZAM": "3",
                                    "GYERMEK_SZAM": "0"
                                },
                                {
                                    "FOGLALAS_PK": "948",
                                    "UGYFEL_FK": "balint1",
                                    "SZOBA_FK": "19",
                                    "METTOL": "2016-06-10",
                                    "MEDDIG": "2016-06-12",
                                    "FELNOTT_SZAM": "1",
                                    "GYERMEK_SZAM": "0"
                                },
                                {
                                    "FOGLALAS_PK": "949",
                                    "UGYFEL_FK": "andras3",
                                    "SZOBA_FK": "1",
                                    "METTOL": "2016-06-10",
                                    "MEDDIG": "2016-06-11",
                                    "FELNOTT_SZAM": "1",
                                    "GYERMEK_SZAM": "0"
                                },
                                {
                                    "FOGLALAS_PK": "950",
                                    "UGYFEL_FK": "TAMASF",
                                    "SZOBA_FK": "66",
                                    "METTOL": "2016-06-10",
                                    "MEDDIG": "2016-06-13",
                                    "FELNOTT_SZAM": "3",
                                    "GYERMEK_SZAM": "0"
                                },
                                {
                                    "FOGLALAS_PK": "951",
                                    "UGYFEL_FK": "csongor3",
                                    "SZOBA_FK": "12",
                                    "METTOL": "2016-06-11",
                                    "MEDDIG": "2016-06-14",
                                    "FELNOTT_SZAM": "2",
                                    "GYERMEK_SZAM": "0"
                                },
                                {
                                    "FOGLALAS_PK": "952",
                                    "UGYFEL_FK": "BEATRIXS",
                                    "SZOBA_FK": "196",
                                    "METTOL": "2016-06-11",
                                    "MEDDIG": "2016-06-14",
                                    "FELNOTT_SZAM": "1",
                                    "GYERMEK_SZAM": "2"
                                },
                                {
                                    "FOGLALAS_PK": "953",
                                    "UGYFEL_FK": "bernadett1",
                                    "SZOBA_FK": "117",
                                    "METTOL": "2016-06-12",
                                    "MEDDIG": "2016-06-17",
                                    "FELNOTT_SZAM": "2",
                                    "GYERMEK_SZAM": "1"
                                },
                                {
                                    "FOGLALAS_PK": "954",
                                    "UGYFEL_FK": "katka",
                                    "SZOBA_FK": "84",
                                    "METTOL": "2016-06-13",
                                    "MEDDIG": "2016-06-18",
                                    "FELNOTT_SZAM": "1",
                                    "GYERMEK_SZAM": "0"
                                },
                                {
                                    "FOGLALAS_PK": "955",
                                    "UGYFEL_FK": "andi",
                                    "SZOBA_FK": "47",
                                    "METTOL": "2016-06-13",
                                    "MEDDIG": "2016-06-14",
                                    "FELNOTT_SZAM": "1",
                                    "GYERMEK_SZAM": "0"
                                },
                                {
                                    "FOGLALAS_PK": "956",
                                    "UGYFEL_FK": "katka",
                                    "SZOBA_FK": "156",
                                    "METTOL": "2016-06-13",
                                    "MEDDIG": "2016-06-19",
                                    "FELNOTT_SZAM": "2",
                                    "GYERMEK_SZAM": "2"
                                },
                                {
                                    "FOGLALAS_PK": "957",
                                    "UGYFEL_FK": "brigitta3",
                                    "SZOBA_FK": "187",
                                    "METTOL": "2016-06-13",
                                    "MEDDIG": "2016-06-17",
                                    "FELNOTT_SZAM": "3",
                                    "GYERMEK_SZAM": "0"
                                },
                                {
                                    "FOGLALAS_PK": "958",
                                    "UGYFEL_FK": "mark",
                                    "SZOBA_FK": "181",
                                    "METTOL": "2016-06-13",
                                    "MEDDIG": "2016-06-18",
                                    "FELNOTT_SZAM": "2",
                                    "GYERMEK_SZAM": "1"
                                },
                                {
                                    "FOGLALAS_PK": "959",
                                    "UGYFEL_FK": "tamas",
                                    "SZOBA_FK": "111",
                                    "METTOL": "2016-06-14",
                                    "MEDDIG": "2016-06-21",
                                    "FELNOTT_SZAM": "1",
                                    "GYERMEK_SZAM": "1"
                                },
                                {
                                    "FOGLALAS_PK": "960",
                                    "UGYFEL_FK": "ZSUZSAV",
                                    "SZOBA_FK": "41",
                                    "METTOL": "2016-06-15",
                                    "MEDDIG": "2016-06-21",
                                    "FELNOTT_SZAM": "1",
                                    "GYERMEK_SZAM": "2"
                                },
                                {
                                    "FOGLALAS_PK": "961",
                                    "UGYFEL_FK": "lala",
                                    "SZOBA_FK": "72",
                                    "METTOL": "2016-06-16",
                                    "MEDDIG": "2016-06-22",
                                    "FELNOTT_SZAM": "2",
                                    "GYERMEK_SZAM": "0"
                                },
                                {
                                    "FOGLALAS_PK": "962",
                                    "UGYFEL_FK": "georgij",
                                    "SZOBA_FK": "117",
                                    "METTOL": "2016-06-16",
                                    "MEDDIG": "2016-06-20",
                                    "FELNOTT_SZAM": "1",
                                    "GYERMEK_SZAM": "2"
                                },
                                {
                                    "FOGLALAS_PK": "963",
                                    "UGYFEL_FK": "norbert4",
                                    "SZOBA_FK": "74",
                                    "METTOL": "2016-06-16",
                                    "MEDDIG": "2016-06-17",
                                    "FELNOTT_SZAM": "3",
                                    "GYERMEK_SZAM": "1"
                                },
                                {
                                    "FOGLALAS_PK": "964",
                                    "UGYFEL_FK": "krisztina1",
                                    "SZOBA_FK": "110",
                                    "METTOL": "2016-06-16",
                                    "MEDDIG": "2016-06-22",
                                    "FELNOTT_SZAM": "2",
                                    "GYERMEK_SZAM": "0"
                                },
                                {
                                    "FOGLALAS_PK": "965",
                                    "UGYFEL_FK": "ANIKOS",
                                    "SZOBA_FK": "5",
                                    "METTOL": "2016-06-16",
                                    "MEDDIG": "2016-06-23",
                                    "FELNOTT_SZAM": "1",
                                    "GYERMEK_SZAM": "0"
                                },
                                {
                                    "FOGLALAS_PK": "966",
                                    "UGYFEL_FK": "ferenc1",
                                    "SZOBA_FK": "114",
                                    "METTOL": "2016-06-16",
                                    "MEDDIG": "2016-06-22",
                                    "FELNOTT_SZAM": "1",
                                    "GYERMEK_SZAM": "1"
                                },
                                {
                                    "FOGLALAS_PK": "967",
                                    "UGYFEL_FK": "norbert4",
                                    "SZOBA_FK": "123",
                                    "METTOL": "2016-06-16",
                                    "MEDDIG": "2016-06-21",
                                    "FELNOTT_SZAM": "3",
                                    "GYERMEK_SZAM": "0"
                                },
                                {
                                    "FOGLALAS_PK": "968",
                                    "UGYFEL_FK": "zsofi1",
                                    "SZOBA_FK": "154",
                                    "METTOL": "2016-06-16",
                                    "MEDDIG": "2016-06-17",
                                    "FELNOTT_SZAM": "2",
                                    "GYERMEK_SZAM": "0"
                                },
                                {
                                    "FOGLALAS_PK": "969",
                                    "UGYFEL_FK": "bernadett2",
                                    "SZOBA_FK": "153",
                                    "METTOL": "2016-06-17",
                                    "MEDDIG": "2016-06-23",
                                    "FELNOTT_SZAM": "3",
                                    "GYERMEK_SZAM": "0"
                                },
                                {
                                    "FOGLALAS_PK": "970",
                                    "UGYFEL_FK": "ZSOLTJ",
                                    "SZOBA_FK": "12",
                                    "METTOL": "2016-06-17",
                                    "MEDDIG": "2016-06-19",
                                    "FELNOTT_SZAM": "1",
                                    "GYERMEK_SZAM": "1"
                                },
                                {
                                    "FOGLALAS_PK": "971",
                                    "UGYFEL_FK": "SZABOLCSM",
                                    "SZOBA_FK": "35",
                                    "METTOL": "2016-06-18",
                                    "MEDDIG": "2016-06-21",
                                    "FELNOTT_SZAM": "1",
                                    "GYERMEK_SZAM": "2"
                                },
                                {
                                    "FOGLALAS_PK": "972",
                                    "UGYFEL_FK": "BEATRIXK",
                                    "SZOBA_FK": "103",
                                    "METTOL": "2016-06-19",
                                    "MEDDIG": "2016-06-21",
                                    "FELNOTT_SZAM": "1",
                                    "GYERMEK_SZAM": "2"
                                },
                                {
                                    "FOGLALAS_PK": "973",
                                    "UGYFEL_FK": "gabor1",
                                    "SZOBA_FK": "16",
                                    "METTOL": "2016-06-20",
                                    "MEDDIG": "2016-06-21",
                                    "FELNOTT_SZAM": "1",
                                    "GYERMEK_SZAM": "3"
                                },
                                {
                                    "FOGLALAS_PK": "974",
                                    "UGYFEL_FK": "bertalan",
                                    "SZOBA_FK": "169",
                                    "METTOL": "2016-06-20",
                                    "MEDDIG": "2016-06-21",
                                    "FELNOTT_SZAM": "1",
                                    "GYERMEK_SZAM": "0"
                                },
                                {
                                    "FOGLALAS_PK": "975",
                                    "UGYFEL_FK": "andras21",
                                    "SZOBA_FK": "94",
                                    "METTOL": "2016-06-21",
                                    "MEDDIG": "2016-06-26",
                                    "FELNOTT_SZAM": "2",
                                    "GYERMEK_SZAM": "0"
                                },
                                {
                                    "FOGLALAS_PK": "976",
                                    "UGYFEL_FK": "nikolett3",
                                    "SZOBA_FK": "76",
                                    "METTOL": "2016-06-22",
                                    "MEDDIG": "2016-06-24",
                                    "FELNOTT_SZAM": "1",
                                    "GYERMEK_SZAM": "0"
                                },
                                {
                                    "FOGLALAS_PK": "977",
                                    "UGYFEL_FK": "debora",
                                    "SZOBA_FK": "193",
                                    "METTOL": "2016-06-22",
                                    "MEDDIG": "2016-06-24",
                                    "FELNOTT_SZAM": "3",
                                    "GYERMEK_SZAM": "2"
                                },
                                {
                                    "FOGLALAS_PK": "978",
                                    "UGYFEL_FK": "roland",
                                    "SZOBA_FK": "198",
                                    "METTOL": "2016-06-22",
                                    "MEDDIG": "2016-06-23",
                                    "FELNOTT_SZAM": "3",
                                    "GYERMEK_SZAM": "0"
                                },
                                {
                                    "FOGLALAS_PK": "979",
                                    "UGYFEL_FK": "marton",
                                    "SZOBA_FK": "35",
                                    "METTOL": "2016-06-22",
                                    "MEDDIG": "2016-06-29",
                                    "FELNOTT_SZAM": "1",
                                    "GYERMEK_SZAM": "1"
                                },
                                {
                                    "FOGLALAS_PK": "980",
                                    "UGYFEL_FK": "AGNESH",
                                    "SZOBA_FK": "143",
                                    "METTOL": "2016-06-23",
                                    "MEDDIG": "2016-06-26",
                                    "FELNOTT_SZAM": "1",
                                    "GYERMEK_SZAM": "0"
                                },
                                {
                                    "FOGLALAS_PK": "981",
                                    "UGYFEL_FK": "maria1",
                                    "SZOBA_FK": "171",
                                    "METTOL": "2016-06-23",
                                    "MEDDIG": "2016-06-27",
                                    "FELNOTT_SZAM": "1",
                                    "GYERMEK_SZAM": "0"
                                },
                                {
                                    "FOGLALAS_PK": "982",
                                    "UGYFEL_FK": "imre1",
                                    "SZOBA_FK": "77",
                                    "METTOL": "2016-06-23",
                                    "MEDDIG": "2016-06-26",
                                    "FELNOTT_SZAM": "2",
                                    "GYERMEK_SZAM": "2"
                                },
                                {
                                    "FOGLALAS_PK": "983",
                                    "UGYFEL_FK": "andras41",
                                    "SZOBA_FK": "80",
                                    "METTOL": "2016-06-23",
                                    "MEDDIG": "2016-06-29",
                                    "FELNOTT_SZAM": "2",
                                    "GYERMEK_SZAM": "0"
                                },
                                {
                                    "FOGLALAS_PK": "984",
                                    "UGYFEL_FK": "norbert5",
                                    "SZOBA_FK": "172",
                                    "METTOL": "2016-06-24",
                                    "MEDDIG": "2016-06-28",
                                    "FELNOTT_SZAM": "1",
                                    "GYERMEK_SZAM": "1"
                                },
                                {
                                    "FOGLALAS_PK": "985",
                                    "UGYFEL_FK": "RENATAS",
                                    "SZOBA_FK": "36",
                                    "METTOL": "2016-06-24",
                                    "MEDDIG": "2016-06-30",
                                    "FELNOTT_SZAM": "2",
                                    "GYERMEK_SZAM": "3"
                                },
                                {
                                    "FOGLALAS_PK": "986",
                                    "UGYFEL_FK": "aniko",
                                    "SZOBA_FK": "48",
                                    "METTOL": "2016-06-25",
                                    "MEDDIG": "2016-06-30",
                                    "FELNOTT_SZAM": "2",
                                    "GYERMEK_SZAM": "1"
                                },
                                {
                                    "FOGLALAS_PK": "987",
                                    "UGYFEL_FK": "MIKLOSB",
                                    "SZOBA_FK": "53",
                                    "METTOL": "2016-06-26",
                                    "MEDDIG": "2016-06-30",
                                    "FELNOTT_SZAM": "1",
                                    "GYERMEK_SZAM": "1"
                                },
                                {
                                    "FOGLALAS_PK": "988",
                                    "UGYFEL_FK": "ANIKOS",
                                    "SZOBA_FK": "133",
                                    "METTOL": "2016-06-27",
                                    "MEDDIG": "2016-06-30",
                                    "FELNOTT_SZAM": "1",
                                    "GYERMEK_SZAM": "1"
                                },
                                {
                                    "FOGLALAS_PK": "989",
                                    "UGYFEL_FK": "imre1",
                                    "SZOBA_FK": "190",
                                    "METTOL": "2016-06-27",
                                    "MEDDIG": "2016-06-28",
                                    "FELNOTT_SZAM": "2",
                                    "GYERMEK_SZAM": "0"
                                },
                                {
                                    "FOGLALAS_PK": "990",
                                    "UGYFEL_FK": "MIHALYJ",
                                    "SZOBA_FK": "6",
                                    "METTOL": "2016-06-27",
                                    "MEDDIG": "2016-07-01",
                                    "FELNOTT_SZAM": "1",
                                    "GYERMEK_SZAM": "0"
                                },
                                {
                                    "FOGLALAS_PK": "991",
                                    "UGYFEL_FK": "TAMASF",
                                    "SZOBA_FK": "178",
                                    "METTOL": "2016-06-28",
                                    "MEDDIG": "2016-07-05",
                                    "FELNOTT_SZAM": "1",
                                    "GYERMEK_SZAM": "2"
                                },
                                {
                                    "FOGLALAS_PK": "992",
                                    "UGYFEL_FK": "nikoletta4",
                                    "SZOBA_FK": "103",
                                    "METTOL": "2016-06-29",
                                    "MEDDIG": "2016-07-06",
                                    "FELNOTT_SZAM": "2",
                                    "GYERMEK_SZAM": "0"
                                },
                                {
                                    "FOGLALAS_PK": "993",
                                    "UGYFEL_FK": "eszter2",
                                    "SZOBA_FK": "197",
                                    "METTOL": "2016-06-30",
                                    "MEDDIG": "2016-07-07",
                                    "FELNOTT_SZAM": "3",
                                    "GYERMEK_SZAM": "0"
                                },
                                {
                                    "FOGLALAS_PK": "994",
                                    "UGYFEL_FK": "david",
                                    "SZOBA_FK": "118",
                                    "METTOL": "2016-06-30",
                                    "MEDDIG": "2016-07-07",
                                    "FELNOTT_SZAM": "1",
                                    "GYERMEK_SZAM": "1"
                                },
                                {
                                    "FOGLALAS_PK": "995",
                                    "UGYFEL_FK": "peter3",
                                    "SZOBA_FK": "83",
                                    "METTOL": "2016-06-30",
                                    "MEDDIG": "2016-07-05",
                                    "FELNOTT_SZAM": "3",
                                    "GYERMEK_SZAM": "0"
                                },
                                {
                                    "FOGLALAS_PK": "996",
                                    "UGYFEL_FK": "fruzsina4",
                                    "SZOBA_FK": "118",
                                    "METTOL": "2016-07-01",
                                    "MEDDIG": "2016-07-04",
                                    "FELNOTT_SZAM": "1",
                                    "GYERMEK_SZAM": "2"
                                },
                                {
                                    "FOGLALAS_PK": "997",
                                    "UGYFEL_FK": "katalin4",
                                    "SZOBA_FK": "82",
                                    "METTOL": "2016-07-01",
                                    "MEDDIG": "2016-07-07",
                                    "FELNOTT_SZAM": "1",
                                    "GYERMEK_SZAM": "0"
                                },
                                {
                                    "FOGLALAS_PK": "998",
                                    "UGYFEL_FK": "ISTVANV",
                                    "SZOBA_FK": "120",
                                    "METTOL": "2016-07-01",
                                    "MEDDIG": "2016-07-04",
                                    "FELNOTT_SZAM": "1",
                                    "GYERMEK_SZAM": "3"
                                },
                                {
                                    "FOGLALAS_PK": "999",
                                    "UGYFEL_FK": "kata",
                                    "SZOBA_FK": "132",
                                    "METTOL": "2016-07-01",
                                    "MEDDIG": "2016-07-07",
                                    "FELNOTT_SZAM": "2",
                                    "GYERMEK_SZAM": "0"
                                },
                                {
                                    "FOGLALAS_PK": "1000",
                                    "UGYFEL_FK": "GYONGYIK",
                                    "SZOBA_FK": "73",
                                    "METTOL": "2016-07-01",
                                    "MEDDIG": "2016-07-05",
                                    "FELNOTT_SZAM": "2",
                                    "GYERMEK_SZAM": "0"
                                },
                                {
                                    "FOGLALAS_PK": "1001",
                                    "UGYFEL_FK": "aniko4",
                                    "SZOBA_FK": "4",
                                    "METTOL": "2016-07-02",
                                    "MEDDIG": "2016-07-09",
                                    "FELNOTT_SZAM": "1",
                                    "GYERMEK_SZAM": "0"
                                },
                                {
                                    "FOGLALAS_PK": "1002",
                                    "UGYFEL_FK": "katalin4",
                                    "SZOBA_FK": "117",
                                    "METTOL": "2016-07-03",
                                    "MEDDIG": "2016-07-04",
                                    "FELNOTT_SZAM": "2",
                                    "GYERMEK_SZAM": "2"
                                },
                                {
                                    "FOGLALAS_PK": "1003",
                                    "UGYFEL_FK": "ARONK",
                                    "SZOBA_FK": "36",
                                    "METTOL": "2016-07-03",
                                    "MEDDIG": "2016-07-07",
                                    "FELNOTT_SZAM": "2",
                                    "GYERMEK_SZAM": "0"
                                },
                                {
                                    "FOGLALAS_PK": "1004",
                                    "UGYFEL_FK": "peter2",
                                    "SZOBA_FK": "134",
                                    "METTOL": "2016-07-03",
                                    "MEDDIG": "2016-07-08",
                                    "FELNOTT_SZAM": "1",
                                    "GYERMEK_SZAM": "1"
                                },
                                {
                                    "FOGLALAS_PK": "1005",
                                    "UGYFEL_FK": "beata4",
                                    "SZOBA_FK": "22",
                                    "METTOL": "2016-07-03",
                                    "MEDDIG": "2016-07-06",
                                    "FELNOTT_SZAM": "1",
                                    "GYERMEK_SZAM": "0"
                                },
                                {
                                    "FOGLALAS_PK": "1006",
                                    "UGYFEL_FK": "kata",
                                    "SZOBA_FK": "70",
                                    "METTOL": "2016-07-03",
                                    "MEDDIG": "2016-07-06",
                                    "FELNOTT_SZAM": "1",
                                    "GYERMEK_SZAM": "0"
                                },
                                {
                                    "FOGLALAS_PK": "1007",
                                    "UGYFEL_FK": "aron2",
                                    "SZOBA_FK": "122",
                                    "METTOL": "2016-07-04",
                                    "MEDDIG": "2016-07-06",
                                    "FELNOTT_SZAM": "2",
                                    "GYERMEK_SZAM": "1"
                                },
                                {
                                    "FOGLALAS_PK": "1008",
                                    "UGYFEL_FK": "TAMASF",
                                    "SZOBA_FK": "182",
                                    "METTOL": "2016-07-04",
                                    "MEDDIG": "2016-07-10",
                                    "FELNOTT_SZAM": "2",
                                    "GYERMEK_SZAM": "0"
                                },
                                {
                                    "FOGLALAS_PK": "1009",
                                    "UGYFEL_FK": "andras21",
                                    "SZOBA_FK": "71",
                                    "METTOL": "2016-07-04",
                                    "MEDDIG": "2016-07-05",
                                    "FELNOTT_SZAM": "2",
                                    "GYERMEK_SZAM": "1"
                                },
                                {
                                    "FOGLALAS_PK": "1010",
                                    "UGYFEL_FK": "sandor",
                                    "SZOBA_FK": "164",
                                    "METTOL": "2016-07-04",
                                    "MEDDIG": "2016-07-06",
                                    "FELNOTT_SZAM": "2",
                                    "GYERMEK_SZAM": "0"
                                },
                                {
                                    "FOGLALAS_PK": "1011",
                                    "UGYFEL_FK": "JANOSP",
                                    "SZOBA_FK": "198",
                                    "METTOL": "2016-07-04",
                                    "MEDDIG": "2016-07-11",
                                    "FELNOTT_SZAM": "3",
                                    "GYERMEK_SZAM": "0"
                                },
                                {
                                    "FOGLALAS_PK": "1012",
                                    "UGYFEL_FK": "krisztina",
                                    "SZOBA_FK": "33",
                                    "METTOL": "2016-07-05",
                                    "MEDDIG": "2016-07-12",
                                    "FELNOTT_SZAM": "2",
                                    "GYERMEK_SZAM": "1"
                                },
                                {
                                    "FOGLALAS_PK": "1013",
                                    "UGYFEL_FK": "jozsef2",
                                    "SZOBA_FK": "75",
                                    "METTOL": "2016-07-06",
                                    "MEDDIG": "2016-07-11",
                                    "FELNOTT_SZAM": "2",
                                    "GYERMEK_SZAM": "0"
                                },
                                {
                                    "FOGLALAS_PK": "1014",
                                    "UGYFEL_FK": "ANDRASE",
                                    "SZOBA_FK": "137",
                                    "METTOL": "2016-07-06",
                                    "MEDDIG": "2016-07-07",
                                    "FELNOTT_SZAM": "2",
                                    "GYERMEK_SZAM": "0"
                                },
                                {
                                    "FOGLALAS_PK": "1015",
                                    "UGYFEL_FK": "katalin",
                                    "SZOBA_FK": "174",
                                    "METTOL": "2016-07-06",
                                    "MEDDIG": "2016-07-11",
                                    "FELNOTT_SZAM": "1",
                                    "GYERMEK_SZAM": "0"
                                },
                                {
                                    "FOGLALAS_PK": "1016",
                                    "UGYFEL_FK": "kata",
                                    "SZOBA_FK": "92",
                                    "METTOL": "2016-07-07",
                                    "MEDDIG": "2016-07-09",
                                    "FELNOTT_SZAM": "3",
                                    "GYERMEK_SZAM": "0"
                                },
                                {
                                    "FOGLALAS_PK": "1017",
                                    "UGYFEL_FK": "eszter2",
                                    "SZOBA_FK": "190",
                                    "METTOL": "2016-07-08",
                                    "MEDDIG": "2016-07-09",
                                    "FELNOTT_SZAM": "1",
                                    "GYERMEK_SZAM": "0"
                                },
                                {
                                    "FOGLALAS_PK": "1018",
                                    "UGYFEL_FK": "norbert",
                                    "SZOBA_FK": "40",
                                    "METTOL": "2016-07-08",
                                    "MEDDIG": "2016-07-13",
                                    "FELNOTT_SZAM": "1",
                                    "GYERMEK_SZAM": "0"
                                },
                                {
                                    "FOGLALAS_PK": "1019",
                                    "UGYFEL_FK": "balazs2",
                                    "SZOBA_FK": "43",
                                    "METTOL": "2016-07-08",
                                    "MEDDIG": "2016-07-12",
                                    "FELNOTT_SZAM": "1",
                                    "GYERMEK_SZAM": "2"
                                },
                                {
                                    "FOGLALAS_PK": "1020",
                                    "UGYFEL_FK": "KRISZTIANM",
                                    "SZOBA_FK": "12",
                                    "METTOL": "2016-07-09",
                                    "MEDDIG": "2016-07-14",
                                    "FELNOTT_SZAM": "2",
                                    "GYERMEK_SZAM": "1"
                                },
                                {
                                    "FOGLALAS_PK": "1021",
                                    "UGYFEL_FK": "csongor3",
                                    "SZOBA_FK": "179",
                                    "METTOL": "2016-07-09",
                                    "MEDDIG": "2016-07-10",
                                    "FELNOTT_SZAM": "3",
                                    "GYERMEK_SZAM": "1"
                                },
                                {
                                    "FOGLALAS_PK": "1022",
                                    "UGYFEL_FK": "gabriella1",
                                    "SZOBA_FK": "181",
                                    "METTOL": "2016-07-10",
                                    "MEDDIG": "2016-07-11",
                                    "FELNOTT_SZAM": "3",
                                    "GYERMEK_SZAM": "0"
                                },
                                {
                                    "FOGLALAS_PK": "1023",
                                    "UGYFEL_FK": "balazs2",
                                    "SZOBA_FK": "30",
                                    "METTOL": "2016-07-10",
                                    "MEDDIG": "2016-07-17",
                                    "FELNOTT_SZAM": "3",
                                    "GYERMEK_SZAM": "0"
                                },
                                {
                                    "FOGLALAS_PK": "1024",
                                    "UGYFEL_FK": "dani",
                                    "SZOBA_FK": "134",
                                    "METTOL": "2016-07-11",
                                    "MEDDIG": "2016-07-12",
                                    "FELNOTT_SZAM": "2",
                                    "GYERMEK_SZAM": "1"
                                },
                                {
                                    "FOGLALAS_PK": "1025",
                                    "UGYFEL_FK": "zsuzsanna",
                                    "SZOBA_FK": "157",
                                    "METTOL": "2016-07-12",
                                    "MEDDIG": "2016-07-15",
                                    "FELNOTT_SZAM": "1",
                                    "GYERMEK_SZAM": "1"
                                },
                                {
                                    "FOGLALAS_PK": "1026",
                                    "UGYFEL_FK": "gabor1",
                                    "SZOBA_FK": "119",
                                    "METTOL": "2016-07-12",
                                    "MEDDIG": "2016-07-15",
                                    "FELNOTT_SZAM": "1",
                                    "GYERMEK_SZAM": "0"
                                },
                                {
                                    "FOGLALAS_PK": "1027",
                                    "UGYFEL_FK": "ROBERTI",
                                    "SZOBA_FK": "68",
                                    "METTOL": "2016-07-12",
                                    "MEDDIG": "2016-07-19",
                                    "FELNOTT_SZAM": "2",
                                    "GYERMEK_SZAM": "2"
                                },
                                {
                                    "FOGLALAS_PK": "1028",
                                    "UGYFEL_FK": "norbert2",
                                    "SZOBA_FK": "15",
                                    "METTOL": "2016-07-13",
                                    "MEDDIG": "2016-07-15",
                                    "FELNOTT_SZAM": "2",
                                    "GYERMEK_SZAM": "1"
                                },
                                {
                                    "FOGLALAS_PK": "1029",
                                    "UGYFEL_FK": "katka",
                                    "SZOBA_FK": "113",
                                    "METTOL": "2016-09-05",
                                    "MEDDIG": "2016-09-10",
                                    "FELNOTT_SZAM": "2",
                                    "GYERMEK_SZAM": "2"
                                },
                                {
                                    "FOGLALAS_PK": "1030",
                                    "UGYFEL_FK": "zoltan",
                                    "SZOBA_FK": "188",
                                    "METTOL": "2016-09-05",
                                    "MEDDIG": "2016-09-09",
                                    "FELNOTT_SZAM": "3",
                                    "GYERMEK_SZAM": "0"
                                },
                                {
                                    "FOGLALAS_PK": "1031",
                                    "UGYFEL_FK": "aniko4",
                                    "SZOBA_FK": "27",
                                    "METTOL": "2016-09-05",
                                    "MEDDIG": "2016-09-07",
                                    "FELNOTT_SZAM": "1",
                                    "GYERMEK_SZAM": "3"
                                },
                                {
                                    "FOGLALAS_PK": "1032",
                                    "UGYFEL_FK": "laszlo2",
                                    "SZOBA_FK": "146",
                                    "METTOL": "2016-09-05",
                                    "MEDDIG": "2016-09-10",
                                    "FELNOTT_SZAM": "2",
                                    "GYERMEK_SZAM": "1"
                                },
                                {
                                    "FOGLALAS_PK": "1033",
                                    "UGYFEL_FK": "reka4",
                                    "SZOBA_FK": "38",
                                    "METTOL": "2016-09-05",
                                    "MEDDIG": "2016-09-07",
                                    "FELNOTT_SZAM": "1",
                                    "GYERMEK_SZAM": "2"
                                },
                                {
                                    "FOGLALAS_PK": "1034",
                                    "UGYFEL_FK": "akos",
                                    "SZOBA_FK": "127",
                                    "METTOL": "2016-09-06",
                                    "MEDDIG": "2016-09-12",
                                    "FELNOTT_SZAM": "1",
                                    "GYERMEK_SZAM": "0"
                                },
                                {
                                    "FOGLALAS_PK": "1035",
                                    "UGYFEL_FK": "bernadett2",
                                    "SZOBA_FK": "18",
                                    "METTOL": "2016-09-07",
                                    "MEDDIG": "2016-09-13",
                                    "FELNOTT_SZAM": "2",
                                    "GYERMEK_SZAM": "1"
                                },
                                {
                                    "FOGLALAS_PK": "1036",
                                    "UGYFEL_FK": "daniel",
                                    "SZOBA_FK": "122",
                                    "METTOL": "2016-09-08",
                                    "MEDDIG": "2016-09-10",
                                    "FELNOTT_SZAM": "3",
                                    "GYERMEK_SZAM": "1"
                                },
                                {
                                    "FOGLALAS_PK": "1037",
                                    "UGYFEL_FK": "ARONK",
                                    "SZOBA_FK": "89",
                                    "METTOL": "2016-09-08",
                                    "MEDDIG": "2016-09-15",
                                    "FELNOTT_SZAM": "2",
                                    "GYERMEK_SZAM": "0"
                                },
                                {
                                    "FOGLALAS_PK": "1038",
                                    "UGYFEL_FK": "ROBERTP",
                                    "SZOBA_FK": "3",
                                    "METTOL": "2016-09-08",
                                    "MEDDIG": "2016-09-11",
                                    "FELNOTT_SZAM": "1",
                                    "GYERMEK_SZAM": "3"
                                },
                                {
                                    "FOGLALAS_PK": "1039",
                                    "UGYFEL_FK": "jozsef2",
                                    "SZOBA_FK": "191",
                                    "METTOL": "2016-09-09",
                                    "MEDDIG": "2016-09-15",
                                    "FELNOTT_SZAM": "1",
                                    "GYERMEK_SZAM": "1"
                                },
                                {
                                    "FOGLALAS_PK": "1040",
                                    "UGYFEL_FK": "zsuzsa3",
                                    "SZOBA_FK": "130",
                                    "METTOL": "2016-09-09",
                                    "MEDDIG": "2016-09-10",
                                    "FELNOTT_SZAM": "1",
                                    "GYERMEK_SZAM": "1"
                                },
                                {
                                    "FOGLALAS_PK": "1041",
                                    "UGYFEL_FK": "roza2",
                                    "SZOBA_FK": "110",
                                    "METTOL": "2016-09-10",
                                    "MEDDIG": "2016-09-13",
                                    "FELNOTT_SZAM": "1",
                                    "GYERMEK_SZAM": "1"
                                },
                                {
                                    "FOGLALAS_PK": "1042",
                                    "UGYFEL_FK": "marton",
                                    "SZOBA_FK": "139",
                                    "METTOL": "2016-09-10",
                                    "MEDDIG": "2016-09-12",
                                    "FELNOTT_SZAM": "1",
                                    "GYERMEK_SZAM": "1"
                                },
                                {
                                    "FOGLALAS_PK": "1043",
                                    "UGYFEL_FK": "peter4",
                                    "SZOBA_FK": "193",
                                    "METTOL": "2016-09-11",
                                    "MEDDIG": "2016-09-17",
                                    "FELNOTT_SZAM": "2",
                                    "GYERMEK_SZAM": "2"
                                },
                                {
                                    "FOGLALAS_PK": "1044",
                                    "UGYFEL_FK": "TAMASF",
                                    "SZOBA_FK": "13",
                                    "METTOL": "2016-09-12",
                                    "MEDDIG": "2016-09-18",
                                    "FELNOTT_SZAM": "3",
                                    "GYERMEK_SZAM": "0"
                                },
                                {
                                    "FOGLALAS_PK": "1045",
                                    "UGYFEL_FK": "balazs2",
                                    "SZOBA_FK": "134",
                                    "METTOL": "2016-09-12",
                                    "MEDDIG": "2016-09-14",
                                    "FELNOTT_SZAM": "2",
                                    "GYERMEK_SZAM": "1"
                                },
                                {
                                    "FOGLALAS_PK": "1046",
                                    "UGYFEL_FK": "adam3",
                                    "SZOBA_FK": "136",
                                    "METTOL": "2016-09-12",
                                    "MEDDIG": "2016-09-16",
                                    "FELNOTT_SZAM": "2",
                                    "GYERMEK_SZAM": "0"
                                },
                                {
                                    "FOGLALAS_PK": "1047",
                                    "UGYFEL_FK": "andrea4",
                                    "SZOBA_FK": "157",
                                    "METTOL": "2016-09-13",
                                    "MEDDIG": "2016-09-17",
                                    "FELNOTT_SZAM": "2",
                                    "GYERMEK_SZAM": "0"
                                },
                                {
                                    "FOGLALAS_PK": "1048",
                                    "UGYFEL_FK": "krisztina",
                                    "SZOBA_FK": "95",
                                    "METTOL": "2016-09-13",
                                    "MEDDIG": "2016-09-16",
                                    "FELNOTT_SZAM": "1",
                                    "GYERMEK_SZAM": "0"
                                },
                                {
                                    "FOGLALAS_PK": "1049",
                                    "UGYFEL_FK": "andi",
                                    "SZOBA_FK": "121",
                                    "METTOL": "2016-09-13",
                                    "MEDDIG": "2016-09-16",
                                    "FELNOTT_SZAM": "1",
                                    "GYERMEK_SZAM": "1"
                                },
                                {
                                    "FOGLALAS_PK": "1050",
                                    "UGYFEL_FK": "jozsef",
                                    "SZOBA_FK": "98",
                                    "METTOL": "2016-09-13",
                                    "MEDDIG": "2016-09-19",
                                    "FELNOTT_SZAM": "2",
                                    "GYERMEK_SZAM": "0"
                                },
                                {
                                    "FOGLALAS_PK": "1051",
                                    "UGYFEL_FK": "SEBASTIANF",
                                    "SZOBA_FK": "2",
                                    "METTOL": "2016-09-14",
                                    "MEDDIG": "2016-09-15",
                                    "FELNOTT_SZAM": "3",
                                    "GYERMEK_SZAM": "0"
                                },
                                {
                                    "FOGLALAS_PK": "1052",
                                    "UGYFEL_FK": "MARKH",
                                    "SZOBA_FK": "25",
                                    "METTOL": "2016-09-14",
                                    "MEDDIG": "2016-09-17",
                                    "FELNOTT_SZAM": "1",
                                    "GYERMEK_SZAM": "2"
                                },
                                {
                                    "FOGLALAS_PK": "1053",
                                    "UGYFEL_FK": "ANDREAT",
                                    "SZOBA_FK": "33",
                                    "METTOL": "2016-09-15",
                                    "MEDDIG": "2016-09-16",
                                    "FELNOTT_SZAM": "1",
                                    "GYERMEK_SZAM": "1"
                                },
                                {
                                    "FOGLALAS_PK": "1054",
                                    "UGYFEL_FK": "balazs3",
                                    "SZOBA_FK": "79",
                                    "METTOL": "2016-09-15",
                                    "MEDDIG": "2016-09-16",
                                    "FELNOTT_SZAM": "3",
                                    "GYERMEK_SZAM": "0"
                                },
                                {
                                    "FOGLALAS_PK": "1055",
                                    "UGYFEL_FK": "krisztina1",
                                    "SZOBA_FK": "69",
                                    "METTOL": "2016-09-15",
                                    "MEDDIG": "2016-09-20",
                                    "FELNOTT_SZAM": "1",
                                    "GYERMEK_SZAM": "2"
                                },
                                {
                                    "FOGLALAS_PK": "1056",
                                    "UGYFEL_FK": "ARPADH",
                                    "SZOBA_FK": "47",
                                    "METTOL": "2016-09-16",
                                    "MEDDIG": "2016-09-23",
                                    "FELNOTT_SZAM": "1",
                                    "GYERMEK_SZAM": "0"
                                },
                                {
                                    "FOGLALAS_PK": "1057",
                                    "UGYFEL_FK": "balint1",
                                    "SZOBA_FK": "86",
                                    "METTOL": "2016-09-16",
                                    "MEDDIG": "2016-09-21",
                                    "FELNOTT_SZAM": "1",
                                    "GYERMEK_SZAM": "0"
                                },
                                {
                                    "FOGLALAS_PK": "1058",
                                    "UGYFEL_FK": "pal",
                                    "SZOBA_FK": "151",
                                    "METTOL": "2016-09-16",
                                    "MEDDIG": "2016-09-19",
                                    "FELNOTT_SZAM": "2",
                                    "GYERMEK_SZAM": "0"
                                },
                                {
                                    "FOGLALAS_PK": "1059",
                                    "UGYFEL_FK": "andras4",
                                    "SZOBA_FK": "85",
                                    "METTOL": "2016-09-17",
                                    "MEDDIG": "2016-09-20",
                                    "FELNOTT_SZAM": "1",
                                    "GYERMEK_SZAM": "1"
                                },
                                {
                                    "FOGLALAS_PK": "1060",
                                    "UGYFEL_FK": "imre",
                                    "SZOBA_FK": "38",
                                    "METTOL": "2016-09-17",
                                    "MEDDIG": "2016-09-19",
                                    "FELNOTT_SZAM": "1",
                                    "GYERMEK_SZAM": "2"
                                },
                                {
                                    "FOGLALAS_PK": "1061",
                                    "UGYFEL_FK": "edit",
                                    "SZOBA_FK": "154",
                                    "METTOL": "2016-09-17",
                                    "MEDDIG": "2016-09-24",
                                    "FELNOTT_SZAM": "1",
                                    "GYERMEK_SZAM": "1"
                                },
                                {
                                    "FOGLALAS_PK": "1062",
                                    "UGYFEL_FK": "SEBASTIANF",
                                    "SZOBA_FK": "122",
                                    "METTOL": "2016-09-17",
                                    "MEDDIG": "2016-09-20",
                                    "FELNOTT_SZAM": "1",
                                    "GYERMEK_SZAM": "2"
                                },
                                {
                                    "FOGLALAS_PK": "1063",
                                    "UGYFEL_FK": "ZSUZSAV",
                                    "SZOBA_FK": "50",
                                    "METTOL": "2016-09-18",
                                    "MEDDIG": "2016-09-20",
                                    "FELNOTT_SZAM": "2",
                                    "GYERMEK_SZAM": "0"
                                },
                                {
                                    "FOGLALAS_PK": "1064",
                                    "UGYFEL_FK": "georgij",
                                    "SZOBA_FK": "139",
                                    "METTOL": "2016-09-18",
                                    "MEDDIG": "2016-09-24",
                                    "FELNOTT_SZAM": "2",
                                    "GYERMEK_SZAM": "1"
                                },
                                {
                                    "FOGLALAS_PK": "1065",
                                    "UGYFEL_FK": "edit",
                                    "SZOBA_FK": "198",
                                    "METTOL": "2016-09-18",
                                    "MEDDIG": "2016-09-21",
                                    "FELNOTT_SZAM": "3",
                                    "GYERMEK_SZAM": "0"
                                },
                                {
                                    "FOGLALAS_PK": "1066",
                                    "UGYFEL_FK": "ARPADH",
                                    "SZOBA_FK": "49",
                                    "METTOL": "2016-09-18",
                                    "MEDDIG": "2016-09-25",
                                    "FELNOTT_SZAM": "1",
                                    "GYERMEK_SZAM": "0"
                                },
                                {
                                    "FOGLALAS_PK": "1067",
                                    "UGYFEL_FK": "krisztina",
                                    "SZOBA_FK": "183",
                                    "METTOL": "2016-09-19",
                                    "MEDDIG": "2016-09-26",
                                    "FELNOTT_SZAM": "2",
                                    "GYERMEK_SZAM": "0"
                                },
                                {
                                    "FOGLALAS_PK": "1068",
                                    "UGYFEL_FK": "dani",
                                    "SZOBA_FK": "161",
                                    "METTOL": "2016-09-19",
                                    "MEDDIG": "2016-09-25",
                                    "FELNOTT_SZAM": "1",
                                    "GYERMEK_SZAM": "3"
                                },
                                {
                                    "FOGLALAS_PK": "1069",
                                    "UGYFEL_FK": "sandor",
                                    "SZOBA_FK": "2",
                                    "METTOL": "2016-09-19",
                                    "MEDDIG": "2016-09-26",
                                    "FELNOTT_SZAM": "3",
                                    "GYERMEK_SZAM": "1"
                                },
                                {
                                    "FOGLALAS_PK": "1070",
                                    "UGYFEL_FK": "kata",
                                    "SZOBA_FK": "20",
                                    "METTOL": "2016-09-19",
                                    "MEDDIG": "2016-09-20",
                                    "FELNOTT_SZAM": "3",
                                    "GYERMEK_SZAM": "0"
                                },
                                {
                                    "FOGLALAS_PK": "1071",
                                    "UGYFEL_FK": "SZILARDS",
                                    "SZOBA_FK": "80",
                                    "METTOL": "2016-09-20",
                                    "MEDDIG": "2016-09-24",
                                    "FELNOTT_SZAM": "1",
                                    "GYERMEK_SZAM": "2"
                                },
                                {
                                    "FOGLALAS_PK": "1072",
                                    "UGYFEL_FK": "david1",
                                    "SZOBA_FK": "99",
                                    "METTOL": "2016-09-20",
                                    "MEDDIG": "2016-09-21",
                                    "FELNOTT_SZAM": "2",
                                    "GYERMEK_SZAM": "0"
                                },
                                {
                                    "FOGLALAS_PK": "1073",
                                    "UGYFEL_FK": "NIKOLETTAT",
                                    "SZOBA_FK": "5",
                                    "METTOL": "2016-09-21",
                                    "MEDDIG": "2016-09-26",
                                    "FELNOTT_SZAM": "2",
                                    "GYERMEK_SZAM": "0"
                                },
                                {
                                    "FOGLALAS_PK": "1074",
                                    "UGYFEL_FK": "andras41",
                                    "SZOBA_FK": "195",
                                    "METTOL": "2016-09-22",
                                    "MEDDIG": "2016-09-29",
                                    "FELNOTT_SZAM": "1",
                                    "GYERMEK_SZAM": "0"
                                },
                                {
                                    "FOGLALAS_PK": "1075",
                                    "UGYFEL_FK": "ANNAMARIAR",
                                    "SZOBA_FK": "163",
                                    "METTOL": "2016-09-23",
                                    "MEDDIG": "2016-09-27",
                                    "FELNOTT_SZAM": "2",
                                    "GYERMEK_SZAM": "0"
                                },
                                {
                                    "FOGLALAS_PK": "1076",
                                    "UGYFEL_FK": "MARKH",
                                    "SZOBA_FK": "29",
                                    "METTOL": "2016-09-23",
                                    "MEDDIG": "2016-09-30",
                                    "FELNOTT_SZAM": "2",
                                    "GYERMEK_SZAM": "0"
                                },
                                {
                                    "FOGLALAS_PK": "1077",
                                    "UGYFEL_FK": "kornel4",
                                    "SZOBA_FK": "145",
                                    "METTOL": "2016-09-23",
                                    "MEDDIG": "2016-09-24",
                                    "FELNOTT_SZAM": "1",
                                    "GYERMEK_SZAM": "2"
                                },
                                {
                                    "FOGLALAS_PK": "1078",
                                    "UGYFEL_FK": "laszlo1",
                                    "SZOBA_FK": "38",
                                    "METTOL": "2016-09-23",
                                    "MEDDIG": "2016-09-30",
                                    "FELNOTT_SZAM": "2",
                                    "GYERMEK_SZAM": "1"
                                },
                                {
                                    "FOGLALAS_PK": "1079",
                                    "UGYFEL_FK": "aladar",
                                    "SZOBA_FK": "86",
                                    "METTOL": "2016-09-24",
                                    "MEDDIG": "2016-09-28",
                                    "FELNOTT_SZAM": "1",
                                    "GYERMEK_SZAM": "0"
                                },
                                {
                                    "FOGLALAS_PK": "1080",
                                    "UGYFEL_FK": "peter4",
                                    "SZOBA_FK": "59",
                                    "METTOL": "2016-09-25",
                                    "MEDDIG": "2016-09-26",
                                    "FELNOTT_SZAM": "1",
                                    "GYERMEK_SZAM": "2"
                                },
                                {
                                    "FOGLALAS_PK": "1081",
                                    "UGYFEL_FK": "veronika4",
                                    "SZOBA_FK": "62",
                                    "METTOL": "2016-09-26",
                                    "MEDDIG": "2016-10-03",
                                    "FELNOTT_SZAM": "1",
                                    "GYERMEK_SZAM": "1"
                                },
                                {
                                    "FOGLALAS_PK": "1082",
                                    "UGYFEL_FK": "MARKH",
                                    "SZOBA_FK": "27",
                                    "METTOL": "2016-09-26",
                                    "MEDDIG": "2016-10-01",
                                    "FELNOTT_SZAM": "1",
                                    "GYERMEK_SZAM": "3"
                                },
                                {
                                    "FOGLALAS_PK": "1083",
                                    "UGYFEL_FK": "emese",
                                    "SZOBA_FK": "109",
                                    "METTOL": "2016-09-27",
                                    "MEDDIG": "2016-09-28",
                                    "FELNOTT_SZAM": "2",
                                    "GYERMEK_SZAM": "1"
                                },
                                {
                                    "FOGLALAS_PK": "1084",
                                    "UGYFEL_FK": "arpad2",
                                    "SZOBA_FK": "59",
                                    "METTOL": "2016-09-28",
                                    "MEDDIG": "2016-09-30",
                                    "FELNOTT_SZAM": "2",
                                    "GYERMEK_SZAM": "0"
                                },
                                {
                                    "FOGLALAS_PK": "1085",
                                    "UGYFEL_FK": "anita",
                                    "SZOBA_FK": "113",
                                    "METTOL": "2016-09-28",
                                    "MEDDIG": "2016-10-02",
                                    "FELNOTT_SZAM": "3",
                                    "GYERMEK_SZAM": "1"
                                },
                                {
                                    "FOGLALAS_PK": "1086",
                                    "UGYFEL_FK": "zsuzsa3",
                                    "SZOBA_FK": "55",
                                    "METTOL": "2016-09-28",
                                    "MEDDIG": "2016-10-03",
                                    "FELNOTT_SZAM": "1",
                                    "GYERMEK_SZAM": "1"
                                },
                                {
                                    "FOGLALAS_PK": "1087",
                                    "UGYFEL_FK": "ISTVANV",
                                    "SZOBA_FK": "144",
                                    "METTOL": "2016-09-29",
                                    "MEDDIG": "2016-10-01",
                                    "FELNOTT_SZAM": "3",
                                    "GYERMEK_SZAM": "0"
                                },
                                {
                                    "FOGLALAS_PK": "1088",
                                    "UGYFEL_FK": "fruzsina4",
                                    "SZOBA_FK": "43",
                                    "METTOL": "2016-09-29",
                                    "MEDDIG": "2016-10-01",
                                    "FELNOTT_SZAM": "3",
                                    "GYERMEK_SZAM": "0"
                                },
                                {
                                    "FOGLALAS_PK": "1089",
                                    "UGYFEL_FK": "reka4",
                                    "SZOBA_FK": "120",
                                    "METTOL": "2016-09-30",
                                    "MEDDIG": "2016-10-06",
                                    "FELNOTT_SZAM": "1",
                                    "GYERMEK_SZAM": "1"
                                },
                                {
                                    "FOGLALAS_PK": "1090",
                                    "UGYFEL_FK": "attila",
                                    "SZOBA_FK": "132",
                                    "METTOL": "2016-09-30",
                                    "MEDDIG": "2016-10-07",
                                    "FELNOTT_SZAM": "1",
                                    "GYERMEK_SZAM": "2"
                                },
                                {
                                    "FOGLALAS_PK": "1091",
                                    "UGYFEL_FK": "zoltan4",
                                    "SZOBA_FK": "197",
                                    "METTOL": "2016-09-30",
                                    "MEDDIG": "2016-10-07",
                                    "FELNOTT_SZAM": "3",
                                    "GYERMEK_SZAM": "0"
                                },
                                {
                                    "FOGLALAS_PK": "1092",
                                    "UGYFEL_FK": "andras2",
                                    "SZOBA_FK": "70",
                                    "METTOL": "2016-09-30",
                                    "MEDDIG": "2016-10-03",
                                    "FELNOTT_SZAM": "2",
                                    "GYERMEK_SZAM": "0"
                                },
                                {
                                    "FOGLALAS_PK": "1093",
                                    "UGYFEL_FK": "peter4",
                                    "SZOBA_FK": "74",
                                    "METTOL": "2016-09-30",
                                    "MEDDIG": "2016-10-06",
                                    "FELNOTT_SZAM": "2",
                                    "GYERMEK_SZAM": "1"
                                },
                                {
                                    "FOGLALAS_PK": "1094",
                                    "UGYFEL_FK": "andras41",
                                    "SZOBA_FK": "175",
                                    "METTOL": "2016-09-30",
                                    "MEDDIG": "2016-10-05",
                                    "FELNOTT_SZAM": "1",
                                    "GYERMEK_SZAM": "1"
                                },
                                {
                                    "FOGLALAS_PK": "1095",
                                    "UGYFEL_FK": "kriszti",
                                    "SZOBA_FK": "194",
                                    "METTOL": "2016-09-30",
                                    "MEDDIG": "2016-10-05",
                                    "FELNOTT_SZAM": "2",
                                    "GYERMEK_SZAM": "1"
                                },
                                {
                                    "FOGLALAS_PK": "1096",
                                    "UGYFEL_FK": "kristof4",
                                    "SZOBA_FK": "54",
                                    "METTOL": "2016-09-30",
                                    "MEDDIG": "2016-10-04",
                                    "FELNOTT_SZAM": "2",
                                    "GYERMEK_SZAM": "0"
                                },
                                {
                                    "FOGLALAS_PK": "1097",
                                    "UGYFEL_FK": "eszter2",
                                    "SZOBA_FK": "95",
                                    "METTOL": "2016-10-01",
                                    "MEDDIG": "2016-10-05",
                                    "FELNOTT_SZAM": "1",
                                    "GYERMEK_SZAM": "2"
                                },
                                {
                                    "FOGLALAS_PK": "1098",
                                    "UGYFEL_FK": "BEATRIXS",
                                    "SZOBA_FK": "140",
                                    "METTOL": "2016-10-01",
                                    "MEDDIG": "2016-10-03",
                                    "FELNOTT_SZAM": "2",
                                    "GYERMEK_SZAM": "1"
                                },
                                {
                                    "FOGLALAS_PK": "1099",
                                    "UGYFEL_FK": "BEATRIXS",
                                    "SZOBA_FK": "6",
                                    "METTOL": "2016-10-01",
                                    "MEDDIG": "2016-10-05",
                                    "FELNOTT_SZAM": "1",
                                    "GYERMEK_SZAM": "2"
                                },
                                {
                                    "FOGLALAS_PK": "1100",
                                    "UGYFEL_FK": "ZSOLTJ",
                                    "SZOBA_FK": "150",
                                    "METTOL": "2016-10-01",
                                    "MEDDIG": "2016-10-06",
                                    "FELNOTT_SZAM": "2",
                                    "GYERMEK_SZAM": "0"
                                },
                                {
                                    "FOGLALAS_PK": "1101",
                                    "UGYFEL_FK": "andras21",
                                    "SZOBA_FK": "89",
                                    "METTOL": "2016-10-01",
                                    "MEDDIG": "2016-10-06",
                                    "FELNOTT_SZAM": "3",
                                    "GYERMEK_SZAM": "0"
                                },
                                {
                                    "FOGLALAS_PK": "1102",
                                    "UGYFEL_FK": "dani",
                                    "SZOBA_FK": "108",
                                    "METTOL": "2016-10-01",
                                    "MEDDIG": "2016-10-02",
                                    "FELNOTT_SZAM": "1",
                                    "GYERMEK_SZAM": "0"
                                },
                                {
                                    "FOGLALAS_PK": "1103",
                                    "UGYFEL_FK": "vivien3",
                                    "SZOBA_FK": "87",
                                    "METTOL": "2016-10-01",
                                    "MEDDIG": "2016-10-04",
                                    "FELNOTT_SZAM": "1",
                                    "GYERMEK_SZAM": "0"
                                },
                                {
                                    "FOGLALAS_PK": "1104",
                                    "UGYFEL_FK": "david1",
                                    "SZOBA_FK": "77",
                                    "METTOL": "2016-10-01",
                                    "MEDDIG": "2016-10-02",
                                    "FELNOTT_SZAM": "2",
                                    "GYERMEK_SZAM": "0"
                                },
                                {
                                    "FOGLALAS_PK": "1105",
                                    "UGYFEL_FK": "kriszti",
                                    "SZOBA_FK": "150",
                                    "METTOL": "2016-10-01",
                                    "MEDDIG": "2016-10-02",
                                    "FELNOTT_SZAM": "2",
                                    "GYERMEK_SZAM": "1"
                                },
                                {
                                    "FOGLALAS_PK": "1106",
                                    "UGYFEL_FK": "gusztav",
                                    "SZOBA_FK": "20",
                                    "METTOL": "2016-10-01",
                                    "MEDDIG": "2016-10-03",
                                    "FELNOTT_SZAM": "2",
                                    "GYERMEK_SZAM": "1"
                                },
                                {
                                    "FOGLALAS_PK": "1107",
                                    "UGYFEL_FK": "MATEK",
                                    "SZOBA_FK": "163",
                                    "METTOL": "2016-10-01",
                                    "MEDDIG": "2016-10-04",
                                    "FELNOTT_SZAM": "1",
                                    "GYERMEK_SZAM": "1"
                                },
                                {
                                    "FOGLALAS_PK": "1108",
                                    "UGYFEL_FK": "klaudia2",
                                    "SZOBA_FK": "86",
                                    "METTOL": "2016-10-01",
                                    "MEDDIG": "2016-10-02",
                                    "FELNOTT_SZAM": "2",
                                    "GYERMEK_SZAM": "0"
                                },
                                {
                                    "FOGLALAS_PK": "1109",
                                    "UGYFEL_FK": "eszter2",
                                    "SZOBA_FK": "110",
                                    "METTOL": "2016-10-01",
                                    "MEDDIG": "2016-10-06",
                                    "FELNOTT_SZAM": "1",
                                    "GYERMEK_SZAM": "0"
                                },
                                {
                                    "FOGLALAS_PK": "1110",
                                    "UGYFEL_FK": "SZILARDS",
                                    "SZOBA_FK": "3",
                                    "METTOL": "2016-10-01",
                                    "MEDDIG": "2016-10-08",
                                    "FELNOTT_SZAM": "1",
                                    "GYERMEK_SZAM": "2"
                                },
                                {
                                    "FOGLALAS_PK": "1111",
                                    "UGYFEL_FK": "LASZLON",
                                    "SZOBA_FK": "132",
                                    "METTOL": "2016-10-01",
                                    "MEDDIG": "2016-10-04",
                                    "FELNOTT_SZAM": "2",
                                    "GYERMEK_SZAM": "1"
                                },
                                {
                                    "FOGLALAS_PK": "1112",
                                    "UGYFEL_FK": "beata4",
                                    "SZOBA_FK": "155",
                                    "METTOL": "2016-10-01",
                                    "MEDDIG": "2016-10-05",
                                    "FELNOTT_SZAM": "1",
                                    "GYERMEK_SZAM": "0"
                                },
                                {
                                    "FOGLALAS_PK": "1113",
                                    "UGYFEL_FK": "anita",
                                    "SZOBA_FK": "58",
                                    "METTOL": "2016-10-01",
                                    "MEDDIG": "2016-10-04",
                                    "FELNOTT_SZAM": "2",
                                    "GYERMEK_SZAM": "0"
                                },
                                {
                                    "FOGLALAS_PK": "1114",
                                    "UGYFEL_FK": "gabriella10",
                                    "SZOBA_FK": "20",
                                    "METTOL": "2016-10-01",
                                    "MEDDIG": "2016-10-06",
                                    "FELNOTT_SZAM": "2",
                                    "GYERMEK_SZAM": "1"
                                },
                                {
                                    "FOGLALAS_PK": "1115",
                                    "UGYFEL_FK": "klaudia2",
                                    "SZOBA_FK": "151",
                                    "METTOL": "2016-10-02",
                                    "MEDDIG": "2016-10-05",
                                    "FELNOTT_SZAM": "1",
                                    "GYERMEK_SZAM": "1"
                                },
                                {
                                    "FOGLALAS_PK": "1116",
                                    "UGYFEL_FK": "rajmond4",
                                    "SZOBA_FK": "198",
                                    "METTOL": "2016-10-03",
                                    "MEDDIG": "2016-10-04",
                                    "FELNOTT_SZAM": "3",
                                    "GYERMEK_SZAM": "0"
                                },
                                {
                                    "FOGLALAS_PK": "1117",
                                    "UGYFEL_FK": "beata4",
                                    "SZOBA_FK": "158",
                                    "METTOL": "2016-10-03",
                                    "MEDDIG": "2016-10-06",
                                    "FELNOTT_SZAM": "2",
                                    "GYERMEK_SZAM": "1"
                                },
                                {
                                    "FOGLALAS_PK": "1118",
                                    "UGYFEL_FK": "janos3",
                                    "SZOBA_FK": "40",
                                    "METTOL": "2016-10-03",
                                    "MEDDIG": "2016-10-08",
                                    "FELNOTT_SZAM": "2",
                                    "GYERMEK_SZAM": "1"
                                },
                                {
                                    "FOGLALAS_PK": "1119",
                                    "UGYFEL_FK": "eszter",
                                    "SZOBA_FK": "83",
                                    "METTOL": "2016-10-04",
                                    "MEDDIG": "2016-10-10",
                                    "FELNOTT_SZAM": "1",
                                    "GYERMEK_SZAM": "2"
                                },
                                {
                                    "FOGLALAS_PK": "1120",
                                    "UGYFEL_FK": "BERNADETTO",
                                    "SZOBA_FK": "145",
                                    "METTOL": "2016-10-04",
                                    "MEDDIG": "2016-10-05",
                                    "FELNOTT_SZAM": "1",
                                    "GYERMEK_SZAM": "1"
                                },
                                {
                                    "FOGLALAS_PK": "1121",
                                    "UGYFEL_FK": "andras21",
                                    "SZOBA_FK": "115",
                                    "METTOL": "2016-10-04",
                                    "MEDDIG": "2016-10-11",
                                    "FELNOTT_SZAM": "1",
                                    "GYERMEK_SZAM": "2"
                                },
                                {
                                    "FOGLALAS_PK": "1122",
                                    "UGYFEL_FK": "akos",
                                    "SZOBA_FK": "64",
                                    "METTOL": "2016-10-05",
                                    "MEDDIG": "2016-10-09",
                                    "FELNOTT_SZAM": "2",
                                    "GYERMEK_SZAM": "0"
                                },
                                {
                                    "FOGLALAS_PK": "1123",
                                    "UGYFEL_FK": "norbert4",
                                    "SZOBA_FK": "11",
                                    "METTOL": "2016-10-05",
                                    "MEDDIG": "2016-10-10",
                                    "FELNOTT_SZAM": "2",
                                    "GYERMEK_SZAM": "1"
                                },
                                {
                                    "FOGLALAS_PK": "1124",
                                    "UGYFEL_FK": "sara",
                                    "SZOBA_FK": "112",
                                    "METTOL": "2016-10-06",
                                    "MEDDIG": "2016-10-12",
                                    "FELNOTT_SZAM": "1",
                                    "GYERMEK_SZAM": "2"
                                },
                                {
                                    "FOGLALAS_PK": "1125",
                                    "UGYFEL_FK": "eva",
                                    "SZOBA_FK": "185",
                                    "METTOL": "2016-10-06",
                                    "MEDDIG": "2016-10-09",
                                    "FELNOTT_SZAM": "3",
                                    "GYERMEK_SZAM": "0"
                                },
                                {
                                    "FOGLALAS_PK": "1126",
                                    "UGYFEL_FK": "andras2",
                                    "SZOBA_FK": "70",
                                    "METTOL": "2016-10-07",
                                    "MEDDIG": "2016-10-10",
                                    "FELNOTT_SZAM": "1",
                                    "GYERMEK_SZAM": "2"
                                },
                                {
                                    "FOGLALAS_PK": "1127",
                                    "UGYFEL_FK": "istvan",
                                    "SZOBA_FK": "4",
                                    "METTOL": "2016-10-07",
                                    "MEDDIG": "2016-10-10",
                                    "FELNOTT_SZAM": "2",
                                    "GYERMEK_SZAM": "0"
                                },
                                {
                                    "FOGLALAS_PK": "1128",
                                    "UGYFEL_FK": "ANDREAT",
                                    "SZOBA_FK": "121",
                                    "METTOL": "2016-10-08",
                                    "MEDDIG": "2016-10-12",
                                    "FELNOTT_SZAM": "1",
                                    "GYERMEK_SZAM": "2"
                                },
                                {
                                    "FOGLALAS_PK": "1129",
                                    "UGYFEL_FK": "ROBERTI",
                                    "SZOBA_FK": "15",
                                    "METTOL": "2016-10-08",
                                    "MEDDIG": "2016-10-12",
                                    "FELNOTT_SZAM": "1",
                                    "GYERMEK_SZAM": "2"
                                },
                                {
                                    "FOGLALAS_PK": "1130",
                                    "UGYFEL_FK": "bernadett1",
                                    "SZOBA_FK": "22",
                                    "METTOL": "2016-10-08",
                                    "MEDDIG": "2016-10-09",
                                    "FELNOTT_SZAM": "3",
                                    "GYERMEK_SZAM": "1"
                                },
                                {
                                    "FOGLALAS_PK": "1131",
                                    "UGYFEL_FK": "ferenc1",
                                    "SZOBA_FK": "7",
                                    "METTOL": "2016-10-08",
                                    "MEDDIG": "2016-10-09",
                                    "FELNOTT_SZAM": "2",
                                    "GYERMEK_SZAM": "0"
                                },
                                {
                                    "FOGLALAS_PK": "1132",
                                    "UGYFEL_FK": "ANIKOS",
                                    "SZOBA_FK": "4",
                                    "METTOL": "2016-10-08",
                                    "MEDDIG": "2016-10-14",
                                    "FELNOTT_SZAM": "1",
                                    "GYERMEK_SZAM": "1"
                                },
                                {
                                    "FOGLALAS_PK": "1133",
                                    "UGYFEL_FK": "jozsef",
                                    "SZOBA_FK": "175",
                                    "METTOL": "2016-10-08",
                                    "MEDDIG": "2016-10-10",
                                    "FELNOTT_SZAM": "1",
                                    "GYERMEK_SZAM": "1"
                                },
                                {
                                    "FOGLALAS_PK": "1134",
                                    "UGYFEL_FK": "miklos2",
                                    "SZOBA_FK": "126",
                                    "METTOL": "2016-10-08",
                                    "MEDDIG": "2016-10-09",
                                    "FELNOTT_SZAM": "1",
                                    "GYERMEK_SZAM": "0"
                                },
                                {
                                    "FOGLALAS_PK": "1135",
                                    "UGYFEL_FK": "attila1",
                                    "SZOBA_FK": "45",
                                    "METTOL": "2016-10-09",
                                    "MEDDIG": "2016-10-12",
                                    "FELNOTT_SZAM": "2",
                                    "GYERMEK_SZAM": "0"
                                },
                                {
                                    "FOGLALAS_PK": "1136",
                                    "UGYFEL_FK": "LASZLON",
                                    "SZOBA_FK": "30",
                                    "METTOL": "2016-10-09",
                                    "MEDDIG": "2016-10-14",
                                    "FELNOTT_SZAM": "1",
                                    "GYERMEK_SZAM": "0"
                                },
                                {
                                    "FOGLALAS_PK": "1137",
                                    "UGYFEL_FK": "balint",
                                    "SZOBA_FK": "1",
                                    "METTOL": "2016-10-09",
                                    "MEDDIG": "2016-10-11",
                                    "FELNOTT_SZAM": "1",
                                    "GYERMEK_SZAM": "1"
                                },
                                {
                                    "FOGLALAS_PK": "1138",
                                    "UGYFEL_FK": "sandor3",
                                    "SZOBA_FK": "198",
                                    "METTOL": "2016-10-09",
                                    "MEDDIG": "2016-10-14",
                                    "FELNOTT_SZAM": "2",
                                    "GYERMEK_SZAM": "0"
                                },
                                {
                                    "FOGLALAS_PK": "1139",
                                    "UGYFEL_FK": "peter4",
                                    "SZOBA_FK": "19",
                                    "METTOL": "2016-10-09",
                                    "MEDDIG": "2016-10-16",
                                    "FELNOTT_SZAM": "1",
                                    "GYERMEK_SZAM": "2"
                                },
                                {
                                    "FOGLALAS_PK": "1140",
                                    "UGYFEL_FK": "dora3",
                                    "SZOBA_FK": "12",
                                    "METTOL": "2016-10-09",
                                    "MEDDIG": "2016-10-12",
                                    "FELNOTT_SZAM": "2",
                                    "GYERMEK_SZAM": "1"
                                },
                                {
                                    "FOGLALAS_PK": "1141",
                                    "UGYFEL_FK": "ROBERTI",
                                    "SZOBA_FK": "165",
                                    "METTOL": "2016-10-09",
                                    "MEDDIG": "2016-10-10",
                                    "FELNOTT_SZAM": "2",
                                    "GYERMEK_SZAM": "0"
                                },
                                {
                                    "FOGLALAS_PK": "1142",
                                    "UGYFEL_FK": "andras41",
                                    "SZOBA_FK": "172",
                                    "METTOL": "2016-10-09",
                                    "MEDDIG": "2016-10-13",
                                    "FELNOTT_SZAM": "2",
                                    "GYERMEK_SZAM": "0"
                                },
                                {
                                    "FOGLALAS_PK": "1143",
                                    "UGYFEL_FK": "MATYASS",
                                    "SZOBA_FK": "176",
                                    "METTOL": "2016-10-09",
                                    "MEDDIG": "2016-10-15",
                                    "FELNOTT_SZAM": "2",
                                    "GYERMEK_SZAM": "1"
                                },
                                {
                                    "FOGLALAS_PK": "1144",
                                    "UGYFEL_FK": "szilvia1",
                                    "SZOBA_FK": "41",
                                    "METTOL": "2016-10-09",
                                    "MEDDIG": "2016-10-10",
                                    "FELNOTT_SZAM": "3",
                                    "GYERMEK_SZAM": "0"
                                },
                                {
                                    "FOGLALAS_PK": "1145",
                                    "UGYFEL_FK": "tibor",
                                    "SZOBA_FK": "145",
                                    "METTOL": "2016-10-09",
                                    "MEDDIG": "2016-10-13",
                                    "FELNOTT_SZAM": "1",
                                    "GYERMEK_SZAM": "1"
                                },
                                {
                                    "FOGLALAS_PK": "1146",
                                    "UGYFEL_FK": "peter2",
                                    "SZOBA_FK": "149",
                                    "METTOL": "2016-10-10",
                                    "MEDDIG": "2016-10-16",
                                    "FELNOTT_SZAM": "2",
                                    "GYERMEK_SZAM": "0"
                                },
                                {
                                    "FOGLALAS_PK": "1147",
                                    "UGYFEL_FK": "brigitta3",
                                    "SZOBA_FK": "183",
                                    "METTOL": "2016-10-10",
                                    "MEDDIG": "2016-10-14",
                                    "FELNOTT_SZAM": "1",
                                    "GYERMEK_SZAM": "1"
                                },
                                {
                                    "FOGLALAS_PK": "1148",
                                    "UGYFEL_FK": "sara",
                                    "SZOBA_FK": "61",
                                    "METTOL": "2016-10-11",
                                    "MEDDIG": "2016-10-14",
                                    "FELNOTT_SZAM": "2",
                                    "GYERMEK_SZAM": "1"
                                },
                                {
                                    "FOGLALAS_PK": "1149",
                                    "UGYFEL_FK": "anett3",
                                    "SZOBA_FK": "133",
                                    "METTOL": "2016-10-12",
                                    "MEDDIG": "2016-10-19",
                                    "FELNOTT_SZAM": "3",
                                    "GYERMEK_SZAM": "0"
                                },
                                {
                                    "FOGLALAS_PK": "1150",
                                    "UGYFEL_FK": "arpad2",
                                    "SZOBA_FK": "28",
                                    "METTOL": "2016-10-13",
                                    "MEDDIG": "2016-10-19",
                                    "FELNOTT_SZAM": "2",
                                    "GYERMEK_SZAM": "1"
                                },
                                {
                                    "FOGLALAS_PK": "1151",
                                    "UGYFEL_FK": "VIKTORIAU",
                                    "SZOBA_FK": "3",
                                    "METTOL": "2016-10-14",
                                    "MEDDIG": "2016-10-15",
                                    "FELNOTT_SZAM": "1",
                                    "GYERMEK_SZAM": "2"
                                },
                                {
                                    "FOGLALAS_PK": "1152",
                                    "UGYFEL_FK": "attila1",
                                    "SZOBA_FK": "1",
                                    "METTOL": "2016-10-15",
                                    "MEDDIG": "2016-10-16",
                                    "FELNOTT_SZAM": "3",
                                    "GYERMEK_SZAM": "0"
                                },
                                {
                                    "FOGLALAS_PK": "1153",
                                    "UGYFEL_FK": "andras41",
                                    "SZOBA_FK": "186",
                                    "METTOL": "2016-10-15",
                                    "MEDDIG": "2016-10-18",
                                    "FELNOTT_SZAM": "1",
                                    "GYERMEK_SZAM": "2"
                                },
                                {
                                    "FOGLALAS_PK": "1154",
                                    "UGYFEL_FK": "attila",
                                    "SZOBA_FK": "115",
                                    "METTOL": "2016-10-15",
                                    "MEDDIG": "2016-10-19",
                                    "FELNOTT_SZAM": "1",
                                    "GYERMEK_SZAM": "0"
                                },
                                {
                                    "FOGLALAS_PK": "1155",
                                    "UGYFEL_FK": "bernadett1",
                                    "SZOBA_FK": "143",
                                    "METTOL": "2016-10-15",
                                    "MEDDIG": "2016-10-22",
                                    "FELNOTT_SZAM": "2",
                                    "GYERMEK_SZAM": "1"
                                },
                                {
                                    "FOGLALAS_PK": "1156",
                                    "UGYFEL_FK": "sandor4",
                                    "SZOBA_FK": "140",
                                    "METTOL": "2016-10-15",
                                    "MEDDIG": "2016-10-18",
                                    "FELNOTT_SZAM": "1",
                                    "GYERMEK_SZAM": "0"
                                },
                                {
                                    "FOGLALAS_PK": "1157",
                                    "UGYFEL_FK": "EVAV",
                                    "SZOBA_FK": "9",
                                    "METTOL": "2016-10-15",
                                    "MEDDIG": "2016-10-21",
                                    "FELNOTT_SZAM": "3",
                                    "GYERMEK_SZAM": "0"
                                },
                                {
                                    "FOGLALAS_PK": "1158",
                                    "UGYFEL_FK": "aniko4",
                                    "SZOBA_FK": "26",
                                    "METTOL": "2016-10-16",
                                    "MEDDIG": "2016-10-18",
                                    "FELNOTT_SZAM": "1",
                                    "GYERMEK_SZAM": "2"
                                },
                                {
                                    "FOGLALAS_PK": "1159",
                                    "UGYFEL_FK": "anett3",
                                    "SZOBA_FK": "73",
                                    "METTOL": "2016-10-16",
                                    "MEDDIG": "2016-10-21",
                                    "FELNOTT_SZAM": "1",
                                    "GYERMEK_SZAM": "0"
                                },
                                {
                                    "FOGLALAS_PK": "1160",
                                    "UGYFEL_FK": "EVAV",
                                    "SZOBA_FK": "152",
                                    "METTOL": "2016-10-16",
                                    "MEDDIG": "2016-10-23",
                                    "FELNOTT_SZAM": "1",
                                    "GYERMEK_SZAM": "1"
                                },
                                {
                                    "FOGLALAS_PK": "1161",
                                    "UGYFEL_FK": "krisztian4",
                                    "SZOBA_FK": "198",
                                    "METTOL": "2016-10-17",
                                    "MEDDIG": "2016-10-22",
                                    "FELNOTT_SZAM": "3",
                                    "GYERMEK_SZAM": "0"
                                },
                                {
                                    "FOGLALAS_PK": "1162",
                                    "UGYFEL_FK": "AGNESK",
                                    "SZOBA_FK": "110",
                                    "METTOL": "2016-10-17",
                                    "MEDDIG": "2016-10-19",
                                    "FELNOTT_SZAM": "1",
                                    "GYERMEK_SZAM": "1"
                                },
                                {
                                    "FOGLALAS_PK": "1163",
                                    "UGYFEL_FK": "SZABOLCSM",
                                    "SZOBA_FK": "55",
                                    "METTOL": "2016-10-17",
                                    "MEDDIG": "2016-10-19",
                                    "FELNOTT_SZAM": "2",
                                    "GYERMEK_SZAM": "0"
                                },
                                {
                                    "FOGLALAS_PK": "1164",
                                    "UGYFEL_FK": "akos",
                                    "SZOBA_FK": "12",
                                    "METTOL": "2016-10-18",
                                    "MEDDIG": "2016-10-23",
                                    "FELNOTT_SZAM": "2",
                                    "GYERMEK_SZAM": "0"
                                },
                                {
                                    "FOGLALAS_PK": "1165",
                                    "UGYFEL_FK": "adam1",
                                    "SZOBA_FK": "51",
                                    "METTOL": "2016-10-19",
                                    "MEDDIG": "2016-10-24",
                                    "FELNOTT_SZAM": "2",
                                    "GYERMEK_SZAM": "0"
                                },
                                {
                                    "FOGLALAS_PK": "1166",
                                    "UGYFEL_FK": "tihamer",
                                    "SZOBA_FK": "122",
                                    "METTOL": "2016-10-19",
                                    "MEDDIG": "2016-10-23",
                                    "FELNOTT_SZAM": "1",
                                    "GYERMEK_SZAM": "1"
                                },
                                {
                                    "FOGLALAS_PK": "1167",
                                    "UGYFEL_FK": "PETERB",
                                    "SZOBA_FK": "24",
                                    "METTOL": "2016-10-19",
                                    "MEDDIG": "2016-10-20",
                                    "FELNOTT_SZAM": "3",
                                    "GYERMEK_SZAM": "1"
                                },
                                {
                                    "FOGLALAS_PK": "1168",
                                    "UGYFEL_FK": "ZOLTANP",
                                    "SZOBA_FK": "154",
                                    "METTOL": "2016-10-19",
                                    "MEDDIG": "2016-10-25",
                                    "FELNOTT_SZAM": "2",
                                    "GYERMEK_SZAM": "0"
                                },
                                {
                                    "FOGLALAS_PK": "1169",
                                    "UGYFEL_FK": "gabor1",
                                    "SZOBA_FK": "93",
                                    "METTOL": "2016-10-20",
                                    "MEDDIG": "2016-10-24",
                                    "FELNOTT_SZAM": "1",
                                    "GYERMEK_SZAM": "0"
                                },
                                {
                                    "FOGLALAS_PK": "1170",
                                    "UGYFEL_FK": "tibor2",
                                    "SZOBA_FK": "59",
                                    "METTOL": "2016-10-20",
                                    "MEDDIG": "2016-10-25",
                                    "FELNOTT_SZAM": "2",
                                    "GYERMEK_SZAM": "0"
                                },
                                {
                                    "FOGLALAS_PK": "1171",
                                    "UGYFEL_FK": "eszter2",
                                    "SZOBA_FK": "172",
                                    "METTOL": "2016-10-20",
                                    "MEDDIG": "2016-10-25",
                                    "FELNOTT_SZAM": "1",
                                    "GYERMEK_SZAM": "0"
                                },
                                {
                                    "FOGLALAS_PK": "1172",
                                    "UGYFEL_FK": "mark",
                                    "SZOBA_FK": "197",
                                    "METTOL": "2016-10-20",
                                    "MEDDIG": "2016-10-27",
                                    "FELNOTT_SZAM": "1",
                                    "GYERMEK_SZAM": "0"
                                },
                                {
                                    "FOGLALAS_PK": "1173",
                                    "UGYFEL_FK": "andrea",
                                    "SZOBA_FK": "18",
                                    "METTOL": "2016-10-21",
                                    "MEDDIG": "2016-10-27",
                                    "FELNOTT_SZAM": "2",
                                    "GYERMEK_SZAM": "2"
                                },
                                {
                                    "FOGLALAS_PK": "1174",
                                    "UGYFEL_FK": "brigitta",
                                    "SZOBA_FK": "90",
                                    "METTOL": "2016-10-21",
                                    "MEDDIG": "2016-10-28",
                                    "FELNOTT_SZAM": "3",
                                    "GYERMEK_SZAM": "0"
                                },
                                {
                                    "FOGLALAS_PK": "1175",
                                    "UGYFEL_FK": "alexandra",
                                    "SZOBA_FK": "7",
                                    "METTOL": "2016-10-21",
                                    "MEDDIG": "2016-10-25",
                                    "FELNOTT_SZAM": "2",
                                    "GYERMEK_SZAM": "0"
                                },
                                {
                                    "FOGLALAS_PK": "1176",
                                    "UGYFEL_FK": "zoltan4",
                                    "SZOBA_FK": "177",
                                    "METTOL": "2016-10-21",
                                    "MEDDIG": "2016-10-24",
                                    "FELNOTT_SZAM": "1",
                                    "GYERMEK_SZAM": "4"
                                },
                                {
                                    "FOGLALAS_PK": "1177",
                                    "UGYFEL_FK": "janos3",
                                    "SZOBA_FK": "150",
                                    "METTOL": "2016-10-22",
                                    "MEDDIG": "2016-10-23",
                                    "FELNOTT_SZAM": "1",
                                    "GYERMEK_SZAM": "0"
                                },
                                {
                                    "FOGLALAS_PK": "1178",
                                    "UGYFEL_FK": "nikolett3",
                                    "SZOBA_FK": "134",
                                    "METTOL": "2016-10-22",
                                    "MEDDIG": "2016-10-29",
                                    "FELNOTT_SZAM": "3",
                                    "GYERMEK_SZAM": "0"
                                },
                                {
                                    "FOGLALAS_PK": "1179",
                                    "UGYFEL_FK": "BENCEB",
                                    "SZOBA_FK": "74",
                                    "METTOL": "2016-10-22",
                                    "MEDDIG": "2016-10-29",
                                    "FELNOTT_SZAM": "2",
                                    "GYERMEK_SZAM": "1"
                                },
                                {
                                    "FOGLALAS_PK": "1180",
                                    "UGYFEL_FK": "agnes3",
                                    "SZOBA_FK": "104",
                                    "METTOL": "2016-10-22",
                                    "MEDDIG": "2016-10-23",
                                    "FELNOTT_SZAM": "2",
                                    "GYERMEK_SZAM": "1"
                                },
                                {
                                    "FOGLALAS_PK": "1181",
                                    "UGYFEL_FK": "sandor3",
                                    "SZOBA_FK": "171",
                                    "METTOL": "2016-10-23",
                                    "MEDDIG": "2016-10-29",
                                    "FELNOTT_SZAM": "2",
                                    "GYERMEK_SZAM": "1"
                                },
                                {
                                    "FOGLALAS_PK": "1182",
                                    "UGYFEL_FK": "aron2",
                                    "SZOBA_FK": "7",
                                    "METTOL": "2016-10-23",
                                    "MEDDIG": "2016-10-27",
                                    "FELNOTT_SZAM": "2",
                                    "GYERMEK_SZAM": "0"
                                },
                                {
                                    "FOGLALAS_PK": "1183",
                                    "UGYFEL_FK": "robert2",
                                    "SZOBA_FK": "185",
                                    "METTOL": "2016-10-23",
                                    "MEDDIG": "2016-10-28",
                                    "FELNOTT_SZAM": "1",
                                    "GYERMEK_SZAM": "2"
                                },
                                {
                                    "FOGLALAS_PK": "1184",
                                    "UGYFEL_FK": "IBOLYAA",
                                    "SZOBA_FK": "195",
                                    "METTOL": "2016-10-23",
                                    "MEDDIG": "2016-10-28",
                                    "FELNOTT_SZAM": "2",
                                    "GYERMEK_SZAM": "0"
                                },
                                {
                                    "FOGLALAS_PK": "1185",
                                    "UGYFEL_FK": "BEATRIXK",
                                    "SZOBA_FK": "29",
                                    "METTOL": "2016-10-23",
                                    "MEDDIG": "2016-10-28",
                                    "FELNOTT_SZAM": "1",
                                    "GYERMEK_SZAM": "1"
                                },
                                {
                                    "FOGLALAS_PK": "1186",
                                    "UGYFEL_FK": "ROBERTI",
                                    "SZOBA_FK": "58",
                                    "METTOL": "2016-10-23",
                                    "MEDDIG": "2016-10-29",
                                    "FELNOTT_SZAM": "1",
                                    "GYERMEK_SZAM": "0"
                                },
                                {
                                    "FOGLALAS_PK": "1187",
                                    "UGYFEL_FK": "eszter2",
                                    "SZOBA_FK": "46",
                                    "METTOL": "2016-10-23",
                                    "MEDDIG": "2016-10-30",
                                    "FELNOTT_SZAM": "1",
                                    "GYERMEK_SZAM": "0"
                                },
                                {
                                    "FOGLALAS_PK": "1188",
                                    "UGYFEL_FK": "peter4",
                                    "SZOBA_FK": "182",
                                    "METTOL": "2016-10-24",
                                    "MEDDIG": "2016-10-25",
                                    "FELNOTT_SZAM": "2",
                                    "GYERMEK_SZAM": "0"
                                },
                                {
                                    "FOGLALAS_PK": "1189",
                                    "UGYFEL_FK": "tunde",
                                    "SZOBA_FK": "89",
                                    "METTOL": "2016-10-24",
                                    "MEDDIG": "2016-10-30",
                                    "FELNOTT_SZAM": "3",
                                    "GYERMEK_SZAM": "0"
                                },
                                {
                                    "FOGLALAS_PK": "1190",
                                    "UGYFEL_FK": "MATYASS",
                                    "SZOBA_FK": "161",
                                    "METTOL": "2016-10-24",
                                    "MEDDIG": "2016-10-31",
                                    "FELNOTT_SZAM": "1",
                                    "GYERMEK_SZAM": "0"
                                },
                                {
                                    "FOGLALAS_PK": "1191",
                                    "UGYFEL_FK": "szilvia1",
                                    "SZOBA_FK": "59",
                                    "METTOL": "2016-10-25",
                                    "MEDDIG": "2016-10-31",
                                    "FELNOTT_SZAM": "2",
                                    "GYERMEK_SZAM": "1"
                                },
                                {
                                    "FOGLALAS_PK": "1192",
                                    "UGYFEL_FK": "kati",
                                    "SZOBA_FK": "117",
                                    "METTOL": "2016-10-26",
                                    "MEDDIG": "2016-10-28",
                                    "FELNOTT_SZAM": "2",
                                    "GYERMEK_SZAM": "0"
                                },
                                {
                                    "FOGLALAS_PK": "1193",
                                    "UGYFEL_FK": "eszter",
                                    "SZOBA_FK": "143",
                                    "METTOL": "2016-10-26",
                                    "MEDDIG": "2016-11-01",
                                    "FELNOTT_SZAM": "2",
                                    "GYERMEK_SZAM": "1"
                                },
                                {
                                    "FOGLALAS_PK": "1194",
                                    "UGYFEL_FK": "zoltan4",
                                    "SZOBA_FK": "170",
                                    "METTOL": "2016-10-26",
                                    "MEDDIG": "2016-10-30",
                                    "FELNOTT_SZAM": "1",
                                    "GYERMEK_SZAM": "1"
                                },
                                {
                                    "FOGLALAS_PK": "1195",
                                    "UGYFEL_FK": "sebestyen",
                                    "SZOBA_FK": "22",
                                    "METTOL": "2016-10-26",
                                    "MEDDIG": "2016-11-01",
                                    "FELNOTT_SZAM": "1",
                                    "GYERMEK_SZAM": "4"
                                },
                                {
                                    "FOGLALAS_PK": "1196",
                                    "UGYFEL_FK": "timea2",
                                    "SZOBA_FK": "88",
                                    "METTOL": "2016-10-26",
                                    "MEDDIG": "2016-10-29",
                                    "FELNOTT_SZAM": "3",
                                    "GYERMEK_SZAM": "0"
                                },
                                {
                                    "FOGLALAS_PK": "1197",
                                    "UGYFEL_FK": "ROBERTI",
                                    "SZOBA_FK": "152",
                                    "METTOL": "2016-10-26",
                                    "MEDDIG": "2016-11-01",
                                    "FELNOTT_SZAM": "2",
                                    "GYERMEK_SZAM": "0"
                                },
                                {
                                    "FOGLALAS_PK": "1198",
                                    "UGYFEL_FK": "katalin",
                                    "SZOBA_FK": "18",
                                    "METTOL": "2016-10-26",
                                    "MEDDIG": "2016-10-30",
                                    "FELNOTT_SZAM": "1",
                                    "GYERMEK_SZAM": "1"
                                },
                                {
                                    "FOGLALAS_PK": "1199",
                                    "UGYFEL_FK": "VIKTORIAU",
                                    "SZOBA_FK": "144",
                                    "METTOL": "2016-10-26",
                                    "MEDDIG": "2016-11-02",
                                    "FELNOTT_SZAM": "2",
                                    "GYERMEK_SZAM": "2"
                                },
                                {
                                    "FOGLALAS_PK": "1200",
                                    "UGYFEL_FK": "bernadett1",
                                    "SZOBA_FK": "49",
                                    "METTOL": "2016-10-26",
                                    "MEDDIG": "2016-11-02",
                                    "FELNOTT_SZAM": "3",
                                    "GYERMEK_SZAM": "0"
                                },
                                {
                                    "FOGLALAS_PK": "1201",
                                    "UGYFEL_FK": "peter1",
                                    "SZOBA_FK": "137",
                                    "METTOL": "2016-10-26",
                                    "MEDDIG": "2016-11-01",
                                    "FELNOTT_SZAM": "1",
                                    "GYERMEK_SZAM": "2"
                                },
                                {
                                    "FOGLALAS_PK": "1202",
                                    "UGYFEL_FK": "ZSUZSAV",
                                    "SZOBA_FK": "52",
                                    "METTOL": "2016-10-26",
                                    "MEDDIG": "2016-10-28",
                                    "FELNOTT_SZAM": "1",
                                    "GYERMEK_SZAM": "0"
                                },
                                {
                                    "FOGLALAS_PK": "1203",
                                    "UGYFEL_FK": "valentin",
                                    "SZOBA_FK": "150",
                                    "METTOL": "2016-10-26",
                                    "MEDDIG": "2016-10-30",
                                    "FELNOTT_SZAM": "2",
                                    "GYERMEK_SZAM": "1"
                                },
                                {
                                    "FOGLALAS_PK": "1204",
                                    "UGYFEL_FK": "RENATAK",
                                    "SZOBA_FK": "189",
                                    "METTOL": "2016-10-27",
                                    "MEDDIG": "2016-10-29",
                                    "FELNOTT_SZAM": "2",
                                    "GYERMEK_SZAM": "2"
                                },
                                {
                                    "FOGLALAS_PK": "1205",
                                    "UGYFEL_FK": "adam4",
                                    "SZOBA_FK": "162",
                                    "METTOL": "2016-10-27",
                                    "MEDDIG": "2016-11-02",
                                    "FELNOTT_SZAM": "3",
                                    "GYERMEK_SZAM": "0"
                                },
                                {
                                    "FOGLALAS_PK": "1206",
                                    "UGYFEL_FK": "zsuzsa3",
                                    "SZOBA_FK": "22",
                                    "METTOL": "2016-10-27",
                                    "MEDDIG": "2016-11-03",
                                    "FELNOTT_SZAM": "1",
                                    "GYERMEK_SZAM": "3"
                                },
                                {
                                    "FOGLALAS_PK": "1207",
                                    "UGYFEL_FK": "szilvia1",
                                    "SZOBA_FK": "43",
                                    "METTOL": "2016-10-27",
                                    "MEDDIG": "2016-10-28",
                                    "FELNOTT_SZAM": "1",
                                    "GYERMEK_SZAM": "1"
                                },
                                {
                                    "FOGLALAS_PK": "1208",
                                    "UGYFEL_FK": "SZABOLCSM",
                                    "SZOBA_FK": "58",
                                    "METTOL": "2016-10-28",
                                    "MEDDIG": "2016-11-03",
                                    "FELNOTT_SZAM": "2",
                                    "GYERMEK_SZAM": "1"
                                },
                                {
                                    "FOGLALAS_PK": "1209",
                                    "UGYFEL_FK": "imre",
                                    "SZOBA_FK": "122",
                                    "METTOL": "2016-10-28",
                                    "MEDDIG": "2016-10-29",
                                    "FELNOTT_SZAM": "3",
                                    "GYERMEK_SZAM": "1"
                                },
                                {
                                    "FOGLALAS_PK": "1210",
                                    "UGYFEL_FK": "bernadett1",
                                    "SZOBA_FK": "124",
                                    "METTOL": "2016-10-28",
                                    "MEDDIG": "2016-11-01",
                                    "FELNOTT_SZAM": "3",
                                    "GYERMEK_SZAM": "0"
                                },
                                {
                                    "FOGLALAS_PK": "1211",
                                    "UGYFEL_FK": "norbert4",
                                    "SZOBA_FK": "178",
                                    "METTOL": "2016-10-28",
                                    "MEDDIG": "2016-10-31",
                                    "FELNOTT_SZAM": "2",
                                    "GYERMEK_SZAM": "1"
                                },
                                {
                                    "FOGLALAS_PK": "1212",
                                    "UGYFEL_FK": "sara",
                                    "SZOBA_FK": "21",
                                    "METTOL": "2016-10-28",
                                    "MEDDIG": "2016-11-03",
                                    "FELNOTT_SZAM": "2",
                                    "GYERMEK_SZAM": "0"
                                },
                                {
                                    "FOGLALAS_PK": "1213",
                                    "UGYFEL_FK": "GYORGYO",
                                    "SZOBA_FK": "91",
                                    "METTOL": "2016-10-28",
                                    "MEDDIG": "2016-10-31",
                                    "FELNOTT_SZAM": "1",
                                    "GYERMEK_SZAM": "0"
                                },
                                {
                                    "FOGLALAS_PK": "1214",
                                    "UGYFEL_FK": "debora",
                                    "SZOBA_FK": "39",
                                    "METTOL": "2016-10-29",
                                    "MEDDIG": "2016-11-03",
                                    "FELNOTT_SZAM": "1",
                                    "GYERMEK_SZAM": "1"
                                },
                                {
                                    "FOGLALAS_PK": "1215",
                                    "UGYFEL_FK": "dora3",
                                    "SZOBA_FK": "121",
                                    "METTOL": "2016-10-29",
                                    "MEDDIG": "2016-11-02",
                                    "FELNOTT_SZAM": "2",
                                    "GYERMEK_SZAM": "1"
                                },
                                {
                                    "FOGLALAS_PK": "1216",
                                    "UGYFEL_FK": "ANIKOS",
                                    "SZOBA_FK": "198",
                                    "METTOL": "2016-10-29",
                                    "MEDDIG": "2016-11-05",
                                    "FELNOTT_SZAM": "1",
                                    "GYERMEK_SZAM": "2"
                                },
                                {
                                    "FOGLALAS_PK": "1217",
                                    "UGYFEL_FK": "krisztina1",
                                    "SZOBA_FK": "93",
                                    "METTOL": "2016-10-29",
                                    "MEDDIG": "2016-10-30",
                                    "FELNOTT_SZAM": "2",
                                    "GYERMEK_SZAM": "2"
                                },
                                {
                                    "FOGLALAS_PK": "1218",
                                    "UGYFEL_FK": "julianna4",
                                    "SZOBA_FK": "61",
                                    "METTOL": "2016-10-29",
                                    "MEDDIG": "2016-10-31",
                                    "FELNOTT_SZAM": "3",
                                    "GYERMEK_SZAM": "0"
                                },
                                {
                                    "FOGLALAS_PK": "1219",
                                    "UGYFEL_FK": "attila1",
                                    "SZOBA_FK": "134",
                                    "METTOL": "2016-10-30",
                                    "MEDDIG": "2016-11-05",
                                    "FELNOTT_SZAM": "1",
                                    "GYERMEK_SZAM": "1"
                                },
                                {
                                    "FOGLALAS_PK": "1220",
                                    "UGYFEL_FK": "bence",
                                    "SZOBA_FK": "9",
                                    "METTOL": "2016-10-30",
                                    "MEDDIG": "2016-11-02",
                                    "FELNOTT_SZAM": "2",
                                    "GYERMEK_SZAM": "2"
                                },
                                {
                                    "FOGLALAS_PK": "1221",
                                    "UGYFEL_FK": "kati",
                                    "SZOBA_FK": "49",
                                    "METTOL": "2016-10-30",
                                    "MEDDIG": "2016-11-01",
                                    "FELNOTT_SZAM": "3",
                                    "GYERMEK_SZAM": "0"
                                },
                                {
                                    "FOGLALAS_PK": "1222",
                                    "UGYFEL_FK": "peter4",
                                    "SZOBA_FK": "143",
                                    "METTOL": "2016-10-30",
                                    "MEDDIG": "2016-11-01",
                                    "FELNOTT_SZAM": "3",
                                    "GYERMEK_SZAM": "0"
                                },
                                {
                                    "FOGLALAS_PK": "1223",
                                    "UGYFEL_FK": "lala",
                                    "SZOBA_FK": "123",
                                    "METTOL": "2016-10-30",
                                    "MEDDIG": "2016-10-31",
                                    "FELNOTT_SZAM": "3",
                                    "GYERMEK_SZAM": "0"
                                },
                                {
                                    "FOGLALAS_PK": "1224",
                                    "UGYFEL_FK": "RENATAK",
                                    "SZOBA_FK": "50",
                                    "METTOL": "2016-10-30",
                                    "MEDDIG": "2016-10-31",
                                    "FELNOTT_SZAM": "1",
                                    "GYERMEK_SZAM": "0"
                                },
                                {
                                    "FOGLALAS_PK": "1225",
                                    "UGYFEL_FK": "AGNESH",
                                    "SZOBA_FK": "69",
                                    "METTOL": "2016-10-30",
                                    "MEDDIG": "2016-11-04",
                                    "FELNOTT_SZAM": "1",
                                    "GYERMEK_SZAM": "0"
                                },
                                {
                                    "FOGLALAS_PK": "1226",
                                    "UGYFEL_FK": "MATYASS",
                                    "SZOBA_FK": "127",
                                    "METTOL": "2016-10-30",
                                    "MEDDIG": "2016-11-04",
                                    "FELNOTT_SZAM": "1",
                                    "GYERMEK_SZAM": "2"
                                },
                                {
                                    "FOGLALAS_PK": "1227",
                                    "UGYFEL_FK": "david",
                                    "SZOBA_FK": "43",
                                    "METTOL": "2016-10-30",
                                    "MEDDIG": "2016-11-04",
                                    "FELNOTT_SZAM": "2",
                                    "GYERMEK_SZAM": "0"
                                },
                                {
                                    "FOGLALAS_PK": "1228",
                                    "UGYFEL_FK": "peter3",
                                    "SZOBA_FK": "106",
                                    "METTOL": "2016-10-30",
                                    "MEDDIG": "2016-11-06",
                                    "FELNOTT_SZAM": "2",
                                    "GYERMEK_SZAM": "0"
                                },
                                {
                                    "FOGLALAS_PK": "1229",
                                    "UGYFEL_FK": "bernadett2",
                                    "SZOBA_FK": "79",
                                    "METTOL": "2016-10-30",
                                    "MEDDIG": "2016-11-06",
                                    "FELNOTT_SZAM": "3",
                                    "GYERMEK_SZAM": "0"
                                },
                                {
                                    "FOGLALAS_PK": "1230",
                                    "UGYFEL_FK": "zoltan4",
                                    "SZOBA_FK": "182",
                                    "METTOL": "2016-10-30",
                                    "MEDDIG": "2016-11-06",
                                    "FELNOTT_SZAM": "1",
                                    "GYERMEK_SZAM": "0"
                                },
                                {
                                    "FOGLALAS_PK": "1231",
                                    "UGYFEL_FK": "ATTILAO",
                                    "SZOBA_FK": "182",
                                    "METTOL": "2016-10-30",
                                    "MEDDIG": "2016-11-03",
                                    "FELNOTT_SZAM": "2",
                                    "GYERMEK_SZAM": "0"
                                },
                                {
                                    "FOGLALAS_PK": "1232",
                                    "UGYFEL_FK": "andrea4",
                                    "SZOBA_FK": "55",
                                    "METTOL": "2016-10-30",
                                    "MEDDIG": "2016-11-06",
                                    "FELNOTT_SZAM": "1",
                                    "GYERMEK_SZAM": "2"
                                },
                                {
                                    "FOGLALAS_PK": "1233",
                                    "UGYFEL_FK": "norbert2",
                                    "SZOBA_FK": "64",
                                    "METTOL": "2016-10-31",
                                    "MEDDIG": "2016-11-07",
                                    "FELNOTT_SZAM": "1",
                                    "GYERMEK_SZAM": "1"
                                },
                                {
                                    "FOGLALAS_PK": "1234",
                                    "UGYFEL_FK": "MIHALYJ",
                                    "SZOBA_FK": "66",
                                    "METTOL": "2016-11-01",
                                    "MEDDIG": "2016-11-04",
                                    "FELNOTT_SZAM": "1",
                                    "GYERMEK_SZAM": "2"
                                },
                                {
                                    "FOGLALAS_PK": "1235",
                                    "UGYFEL_FK": "ESZTERE",
                                    "SZOBA_FK": "29",
                                    "METTOL": "2016-11-01",
                                    "MEDDIG": "2016-11-08",
                                    "FELNOTT_SZAM": "1",
                                    "GYERMEK_SZAM": "1"
                                },
                                {
                                    "FOGLALAS_PK": "1236",
                                    "UGYFEL_FK": "peter2",
                                    "SZOBA_FK": "11",
                                    "METTOL": "2016-11-01",
                                    "MEDDIG": "2016-11-02",
                                    "FELNOTT_SZAM": "2",
                                    "GYERMEK_SZAM": "0"
                                },
                                {
                                    "FOGLALAS_PK": "1237",
                                    "UGYFEL_FK": "krisztian4",
                                    "SZOBA_FK": "19",
                                    "METTOL": "2016-11-02",
                                    "MEDDIG": "2016-11-03",
                                    "FELNOTT_SZAM": "2",
                                    "GYERMEK_SZAM": "0"
                                },
                                {
                                    "FOGLALAS_PK": "1238",
                                    "UGYFEL_FK": "BELAF",
                                    "SZOBA_FK": "193",
                                    "METTOL": "2016-11-03",
                                    "MEDDIG": "2016-11-09",
                                    "FELNOTT_SZAM": "1",
                                    "GYERMEK_SZAM": "3"
                                },
                                {
                                    "FOGLALAS_PK": "1239",
                                    "UGYFEL_FK": "balazs2",
                                    "SZOBA_FK": "59",
                                    "METTOL": "2016-11-03",
                                    "MEDDIG": "2016-11-05",
                                    "FELNOTT_SZAM": "1",
                                    "GYERMEK_SZAM": "2"
                                },
                                {
                                    "FOGLALAS_PK": "1240",
                                    "UGYFEL_FK": "ARONK",
                                    "SZOBA_FK": "157",
                                    "METTOL": "2016-11-03",
                                    "MEDDIG": "2016-11-10",
                                    "FELNOTT_SZAM": "1",
                                    "GYERMEK_SZAM": "1"
                                },
                                {
                                    "FOGLALAS_PK": "1241",
                                    "UGYFEL_FK": "bertalan",
                                    "SZOBA_FK": "94",
                                    "METTOL": "2016-11-03",
                                    "MEDDIG": "2016-11-10",
                                    "FELNOTT_SZAM": "1",
                                    "GYERMEK_SZAM": "1"
                                },
                                {
                                    "FOGLALAS_PK": "1242",
                                    "UGYFEL_FK": "NANDORF",
                                    "SZOBA_FK": "178",
                                    "METTOL": "2016-11-03",
                                    "MEDDIG": "2016-11-04",
                                    "FELNOTT_SZAM": "1",
                                    "GYERMEK_SZAM": "2"
                                },
                                {
                                    "FOGLALAS_PK": "1243",
                                    "UGYFEL_FK": "brigitta3",
                                    "SZOBA_FK": "48",
                                    "METTOL": "2016-11-03",
                                    "MEDDIG": "2016-11-09",
                                    "FELNOTT_SZAM": "3",
                                    "GYERMEK_SZAM": "0"
                                },
                                {
                                    "FOGLALAS_PK": "1244",
                                    "UGYFEL_FK": "julianna4",
                                    "SZOBA_FK": "15",
                                    "METTOL": "2016-11-03",
                                    "MEDDIG": "2016-11-04",
                                    "FELNOTT_SZAM": "2",
                                    "GYERMEK_SZAM": "0"
                                },
                                {
                                    "FOGLALAS_PK": "1245",
                                    "UGYFEL_FK": "ilona3",
                                    "SZOBA_FK": "122",
                                    "METTOL": "2016-11-04",
                                    "MEDDIG": "2016-11-06",
                                    "FELNOTT_SZAM": "2",
                                    "GYERMEK_SZAM": "2"
                                },
                                {
                                    "FOGLALAS_PK": "1246",
                                    "UGYFEL_FK": "eszter2",
                                    "SZOBA_FK": "69",
                                    "METTOL": "2016-11-05",
                                    "MEDDIG": "2016-11-12",
                                    "FELNOTT_SZAM": "2",
                                    "GYERMEK_SZAM": "2"
                                },
                                {
                                    "FOGLALAS_PK": "1247",
                                    "UGYFEL_FK": "katka",
                                    "SZOBA_FK": "117",
                                    "METTOL": "2016-11-05",
                                    "MEDDIG": "2016-11-08",
                                    "FELNOTT_SZAM": "2",
                                    "GYERMEK_SZAM": "1"
                                },
                                {
                                    "FOGLALAS_PK": "1248",
                                    "UGYFEL_FK": "ARONK",
                                    "SZOBA_FK": "186",
                                    "METTOL": "2016-11-05",
                                    "MEDDIG": "2016-11-07",
                                    "FELNOTT_SZAM": "1",
                                    "GYERMEK_SZAM": "1"
                                },
                                {
                                    "FOGLALAS_PK": "1249",
                                    "UGYFEL_FK": "aron2",
                                    "SZOBA_FK": "168",
                                    "METTOL": "2016-11-05",
                                    "MEDDIG": "2016-11-09",
                                    "FELNOTT_SZAM": "1",
                                    "GYERMEK_SZAM": "1"
                                },
                                {
                                    "FOGLALAS_PK": "1250",
                                    "UGYFEL_FK": "emese",
                                    "SZOBA_FK": "107",
                                    "METTOL": "2016-11-05",
                                    "MEDDIG": "2016-11-09",
                                    "FELNOTT_SZAM": "1",
                                    "GYERMEK_SZAM": "0"
                                },
                                {
                                    "FOGLALAS_PK": "1251",
                                    "UGYFEL_FK": "tibor",
                                    "SZOBA_FK": "184",
                                    "METTOL": "2016-11-05",
                                    "MEDDIG": "2016-11-09",
                                    "FELNOTT_SZAM": "1",
                                    "GYERMEK_SZAM": "0"
                                },
                                {
                                    "FOGLALAS_PK": "1252",
                                    "UGYFEL_FK": "norbert5",
                                    "SZOBA_FK": "7",
                                    "METTOL": "2016-11-05",
                                    "MEDDIG": "2016-11-07",
                                    "FELNOTT_SZAM": "1",
                                    "GYERMEK_SZAM": "0"
                                },
                                {
                                    "FOGLALAS_PK": "1253",
                                    "UGYFEL_FK": "roland1",
                                    "SZOBA_FK": "89",
                                    "METTOL": "2016-11-05",
                                    "MEDDIG": "2016-11-07",
                                    "FELNOTT_SZAM": "2",
                                    "GYERMEK_SZAM": "1"
                                },
                                {
                                    "FOGLALAS_PK": "1254",
                                    "UGYFEL_FK": "denes",
                                    "SZOBA_FK": "141",
                                    "METTOL": "2016-11-06",
                                    "MEDDIG": "2016-11-10",
                                    "FELNOTT_SZAM": "1",
                                    "GYERMEK_SZAM": "1"
                                },
                                {
                                    "FOGLALAS_PK": "1255",
                                    "UGYFEL_FK": "eva2",
                                    "SZOBA_FK": "58",
                                    "METTOL": "2016-11-06",
                                    "MEDDIG": "2016-11-13",
                                    "FELNOTT_SZAM": "2",
                                    "GYERMEK_SZAM": "0"
                                },
                                {
                                    "FOGLALAS_PK": "1256",
                                    "UGYFEL_FK": "arpad2",
                                    "SZOBA_FK": "138",
                                    "METTOL": "2016-11-06",
                                    "MEDDIG": "2016-11-10",
                                    "FELNOTT_SZAM": "2",
                                    "GYERMEK_SZAM": "0"
                                },
                                {
                                    "FOGLALAS_PK": "1257",
                                    "UGYFEL_FK": "balint1",
                                    "SZOBA_FK": "5",
                                    "METTOL": "2016-11-07",
                                    "MEDDIG": "2016-11-10",
                                    "FELNOTT_SZAM": "1",
                                    "GYERMEK_SZAM": "1"
                                },
                                {
                                    "FOGLALAS_PK": "1258",
                                    "UGYFEL_FK": "julia4",
                                    "SZOBA_FK": "52",
                                    "METTOL": "2016-11-07",
                                    "MEDDIG": "2016-11-12",
                                    "FELNOTT_SZAM": "1",
                                    "GYERMEK_SZAM": "0"
                                },
                                {
                                    "FOGLALAS_PK": "1259",
                                    "UGYFEL_FK": "JANOSG",
                                    "SZOBA_FK": "140",
                                    "METTOL": "2016-11-07",
                                    "MEDDIG": "2016-11-14",
                                    "FELNOTT_SZAM": "1",
                                    "GYERMEK_SZAM": "2"
                                },
                                {
                                    "FOGLALAS_PK": "1260",
                                    "UGYFEL_FK": "gabor4",
                                    "SZOBA_FK": "9",
                                    "METTOL": "2016-11-07",
                                    "MEDDIG": "2016-11-13",
                                    "FELNOTT_SZAM": "3",
                                    "GYERMEK_SZAM": "1"
                                },
                                {
                                    "FOGLALAS_PK": "1261",
                                    "UGYFEL_FK": "agnes",
                                    "SZOBA_FK": "58",
                                    "METTOL": "2016-11-07",
                                    "MEDDIG": "2016-11-13",
                                    "FELNOTT_SZAM": "1",
                                    "GYERMEK_SZAM": "1"
                                },
                                {
                                    "FOGLALAS_PK": "1262",
                                    "UGYFEL_FK": "ferenc1",
                                    "SZOBA_FK": "154",
                                    "METTOL": "2016-11-07",
                                    "MEDDIG": "2016-11-08",
                                    "FELNOTT_SZAM": "1",
                                    "GYERMEK_SZAM": "2"
                                },
                                {
                                    "FOGLALAS_PK": "1263",
                                    "UGYFEL_FK": "rajmond4",
                                    "SZOBA_FK": "113",
                                    "METTOL": "2016-11-08",
                                    "MEDDIG": "2016-11-09",
                                    "FELNOTT_SZAM": "2",
                                    "GYERMEK_SZAM": "2"
                                },
                                {
                                    "FOGLALAS_PK": "1264",
                                    "UGYFEL_FK": "maria1",
                                    "SZOBA_FK": "66",
                                    "METTOL": "2016-11-08",
                                    "MEDDIG": "2016-11-12",
                                    "FELNOTT_SZAM": "2",
                                    "GYERMEK_SZAM": "1"
                                },
                                {
                                    "FOGLALAS_PK": "1265",
                                    "UGYFEL_FK": "GYONGYIK",
                                    "SZOBA_FK": "163",
                                    "METTOL": "2016-11-08",
                                    "MEDDIG": "2016-11-13",
                                    "FELNOTT_SZAM": "2",
                                    "GYERMEK_SZAM": "0"
                                },
                                {
                                    "FOGLALAS_PK": "1266",
                                    "UGYFEL_FK": "krisztina",
                                    "SZOBA_FK": "168",
                                    "METTOL": "2016-11-08",
                                    "MEDDIG": "2016-11-12",
                                    "FELNOTT_SZAM": "2",
                                    "GYERMEK_SZAM": "0"
                                },
                                {
                                    "FOGLALAS_PK": "1267",
                                    "UGYFEL_FK": "MONIKAM",
                                    "SZOBA_FK": "170",
                                    "METTOL": "2016-11-09",
                                    "MEDDIG": "2016-11-16",
                                    "FELNOTT_SZAM": "1",
                                    "GYERMEK_SZAM": "1"
                                },
                                {
                                    "FOGLALAS_PK": "1268",
                                    "UGYFEL_FK": "ARPADM",
                                    "SZOBA_FK": "78",
                                    "METTOL": "2016-11-09",
                                    "MEDDIG": "2016-11-11",
                                    "FELNOTT_SZAM": "1",
                                    "GYERMEK_SZAM": "1"
                                },
                                {
                                    "FOGLALAS_PK": "1269",
                                    "UGYFEL_FK": "daniel1",
                                    "SZOBA_FK": "89",
                                    "METTOL": "2016-11-09",
                                    "MEDDIG": "2016-11-11",
                                    "FELNOTT_SZAM": "2",
                                    "GYERMEK_SZAM": "0"
                                },
                                {
                                    "FOGLALAS_PK": "1270",
                                    "UGYFEL_FK": "attila1",
                                    "SZOBA_FK": "43",
                                    "METTOL": "2016-11-10",
                                    "MEDDIG": "2016-11-14",
                                    "FELNOTT_SZAM": "1",
                                    "GYERMEK_SZAM": "1"
                                },
                                {
                                    "FOGLALAS_PK": "1271",
                                    "UGYFEL_FK": "ANIKOS",
                                    "SZOBA_FK": "106",
                                    "METTOL": "2016-11-10",
                                    "MEDDIG": "2016-11-15",
                                    "FELNOTT_SZAM": "1",
                                    "GYERMEK_SZAM": "1"
                                },
                                {
                                    "FOGLALAS_PK": "1272",
                                    "UGYFEL_FK": "sandor3",
                                    "SZOBA_FK": "50",
                                    "METTOL": "2016-11-10",
                                    "MEDDIG": "2016-11-11",
                                    "FELNOTT_SZAM": "1",
                                    "GYERMEK_SZAM": "1"
                                },
                                {
                                    "FOGLALAS_PK": "1273",
                                    "UGYFEL_FK": "peter4",
                                    "SZOBA_FK": "88",
                                    "METTOL": "2016-11-10",
                                    "MEDDIG": "2016-11-17",
                                    "FELNOTT_SZAM": "2",
                                    "GYERMEK_SZAM": "1"
                                },
                                {
                                    "FOGLALAS_PK": "1274",
                                    "UGYFEL_FK": "ANNAMARIAR",
                                    "SZOBA_FK": "1",
                                    "METTOL": "2016-11-11",
                                    "MEDDIG": "2016-11-12",
                                    "FELNOTT_SZAM": "3",
                                    "GYERMEK_SZAM": "0"
                                },
                                {
                                    "FOGLALAS_PK": "1275",
                                    "UGYFEL_FK": "valentin",
                                    "SZOBA_FK": "27",
                                    "METTOL": "2016-11-11",
                                    "MEDDIG": "2016-11-17",
                                    "FELNOTT_SZAM": "2",
                                    "GYERMEK_SZAM": "1"
                                },
                                {
                                    "FOGLALAS_PK": "1276",
                                    "UGYFEL_FK": "SZABOLCSM",
                                    "SZOBA_FK": "174",
                                    "METTOL": "2016-11-12",
                                    "MEDDIG": "2016-11-13",
                                    "FELNOTT_SZAM": "2",
                                    "GYERMEK_SZAM": "0"
                                },
                                {
                                    "FOGLALAS_PK": "1277",
                                    "UGYFEL_FK": "csongor3",
                                    "SZOBA_FK": "82",
                                    "METTOL": "2016-11-12",
                                    "MEDDIG": "2016-11-17",
                                    "FELNOTT_SZAM": "2",
                                    "GYERMEK_SZAM": "1"
                                },
                                {
                                    "FOGLALAS_PK": "1278",
                                    "UGYFEL_FK": "daniel",
                                    "SZOBA_FK": "176",
                                    "METTOL": "2016-11-13",
                                    "MEDDIG": "2016-11-19",
                                    "FELNOTT_SZAM": "2",
                                    "GYERMEK_SZAM": "1"
                                },
                                {
                                    "FOGLALAS_PK": "1279",
                                    "UGYFEL_FK": "BEATRIXK",
                                    "SZOBA_FK": "80",
                                    "METTOL": "2016-11-14",
                                    "MEDDIG": "2016-11-19",
                                    "FELNOTT_SZAM": "1",
                                    "GYERMEK_SZAM": "1"
                                },
                                {
                                    "FOGLALAS_PK": "1280",
                                    "UGYFEL_FK": "tamara2",
                                    "SZOBA_FK": "137",
                                    "METTOL": "2016-11-15",
                                    "MEDDIG": "2016-11-18",
                                    "FELNOTT_SZAM": "1",
                                    "GYERMEK_SZAM": "1"
                                },
                                {
                                    "FOGLALAS_PK": "1281",
                                    "UGYFEL_FK": "adam4",
                                    "SZOBA_FK": "78",
                                    "METTOL": "2016-11-15",
                                    "MEDDIG": "2016-11-18",
                                    "FELNOTT_SZAM": "2",
                                    "GYERMEK_SZAM": "0"
                                },
                                {
                                    "FOGLALAS_PK": "1282",
                                    "UGYFEL_FK": "peter2",
                                    "SZOBA_FK": "123",
                                    "METTOL": "2016-11-15",
                                    "MEDDIG": "2016-11-21",
                                    "FELNOTT_SZAM": "3",
                                    "GYERMEK_SZAM": "0"
                                },
                                {
                                    "FOGLALAS_PK": "1283",
                                    "UGYFEL_FK": "miklos2",
                                    "SZOBA_FK": "138",
                                    "METTOL": "2016-11-16",
                                    "MEDDIG": "2016-11-18",
                                    "FELNOTT_SZAM": "3",
                                    "GYERMEK_SZAM": "0"
                                },
                                {
                                    "FOGLALAS_PK": "1284",
                                    "UGYFEL_FK": "rajmond4",
                                    "SZOBA_FK": "164",
                                    "METTOL": "2016-11-16",
                                    "MEDDIG": "2016-11-20",
                                    "FELNOTT_SZAM": "2",
                                    "GYERMEK_SZAM": "0"
                                },
                                {
                                    "FOGLALAS_PK": "1285",
                                    "UGYFEL_FK": "norbert",
                                    "SZOBA_FK": "58",
                                    "METTOL": "2016-11-16",
                                    "MEDDIG": "2016-11-23",
                                    "FELNOTT_SZAM": "2",
                                    "GYERMEK_SZAM": "1"
                                },
                                {
                                    "FOGLALAS_PK": "1286",
                                    "UGYFEL_FK": "andi",
                                    "SZOBA_FK": "127",
                                    "METTOL": "2016-11-16",
                                    "MEDDIG": "2016-11-17",
                                    "FELNOTT_SZAM": "2",
                                    "GYERMEK_SZAM": "1"
                                },
                                {
                                    "FOGLALAS_PK": "1287",
                                    "UGYFEL_FK": "PETERB",
                                    "SZOBA_FK": "22",
                                    "METTOL": "2016-11-17",
                                    "MEDDIG": "2016-11-20",
                                    "FELNOTT_SZAM": "1",
                                    "GYERMEK_SZAM": "1"
                                },
                                {
                                    "FOGLALAS_PK": "1288",
                                    "UGYFEL_FK": "vivien3",
                                    "SZOBA_FK": "59",
                                    "METTOL": "2016-11-17",
                                    "MEDDIG": "2016-11-20",
                                    "FELNOTT_SZAM": "1",
                                    "GYERMEK_SZAM": "1"
                                },
                                {
                                    "FOGLALAS_PK": "1289",
                                    "UGYFEL_FK": "sara",
                                    "SZOBA_FK": "135",
                                    "METTOL": "2016-11-18",
                                    "MEDDIG": "2016-11-21",
                                    "FELNOTT_SZAM": "3",
                                    "GYERMEK_SZAM": "0"
                                },
                                {
                                    "FOGLALAS_PK": "1290",
                                    "UGYFEL_FK": "tunde",
                                    "SZOBA_FK": "128",
                                    "METTOL": "2016-11-19",
                                    "MEDDIG": "2016-11-20",
                                    "FELNOTT_SZAM": "1",
                                    "GYERMEK_SZAM": "2"
                                },
                                {
                                    "FOGLALAS_PK": "1291",
                                    "UGYFEL_FK": "gabor1",
                                    "SZOBA_FK": "46",
                                    "METTOL": "2016-11-19",
                                    "MEDDIG": "2016-11-22",
                                    "FELNOTT_SZAM": "2",
                                    "GYERMEK_SZAM": "0"
                                },
                                {
                                    "FOGLALAS_PK": "1292",
                                    "UGYFEL_FK": "zoltan4",
                                    "SZOBA_FK": "164",
                                    "METTOL": "2016-11-19",
                                    "MEDDIG": "2016-11-21",
                                    "FELNOTT_SZAM": "2",
                                    "GYERMEK_SZAM": "0"
                                },
                                {
                                    "FOGLALAS_PK": "1293",
                                    "UGYFEL_FK": "mark",
                                    "SZOBA_FK": "58",
                                    "METTOL": "2016-11-19",
                                    "MEDDIG": "2016-11-22",
                                    "FELNOTT_SZAM": "2",
                                    "GYERMEK_SZAM": "0"
                                },
                                {
                                    "FOGLALAS_PK": "1294",
                                    "UGYFEL_FK": "roland",
                                    "SZOBA_FK": "138",
                                    "METTOL": "2016-11-19",
                                    "MEDDIG": "2016-11-24",
                                    "FELNOTT_SZAM": "1",
                                    "GYERMEK_SZAM": "1"
                                },
                                {
                                    "FOGLALAS_PK": "1295",
                                    "UGYFEL_FK": "andrea3",
                                    "SZOBA_FK": "44",
                                    "METTOL": "2016-11-19",
                                    "MEDDIG": "2016-11-21",
                                    "FELNOTT_SZAM": "3",
                                    "GYERMEK_SZAM": "0"
                                },
                                {
                                    "FOGLALAS_PK": "1296",
                                    "UGYFEL_FK": "david1",
                                    "SZOBA_FK": "111",
                                    "METTOL": "2016-11-19",
                                    "MEDDIG": "2016-11-22",
                                    "FELNOTT_SZAM": "1",
                                    "GYERMEK_SZAM": "1"
                                },
                                {
                                    "FOGLALAS_PK": "1297",
                                    "UGYFEL_FK": "ANDRASE",
                                    "SZOBA_FK": "144",
                                    "METTOL": "2016-11-19",
                                    "MEDDIG": "2016-11-20",
                                    "FELNOTT_SZAM": "2",
                                    "GYERMEK_SZAM": "2"
                                },
                                {
                                    "FOGLALAS_PK": "1298",
                                    "UGYFEL_FK": "andras41",
                                    "SZOBA_FK": "109",
                                    "METTOL": "2016-11-20",
                                    "MEDDIG": "2016-11-24",
                                    "FELNOTT_SZAM": "1",
                                    "GYERMEK_SZAM": "2"
                                },
                                {
                                    "FOGLALAS_PK": "1299",
                                    "UGYFEL_FK": "akos",
                                    "SZOBA_FK": "90",
                                    "METTOL": "2016-11-21",
                                    "MEDDIG": "2016-11-27",
                                    "FELNOTT_SZAM": "2",
                                    "GYERMEK_SZAM": "0"
                                },
                                {
                                    "FOGLALAS_PK": "1300",
                                    "UGYFEL_FK": "ZSUZSAV",
                                    "SZOBA_FK": "88",
                                    "METTOL": "2016-11-21",
                                    "MEDDIG": "2016-11-24",
                                    "FELNOTT_SZAM": "1",
                                    "GYERMEK_SZAM": "2"
                                },
                                {
                                    "FOGLALAS_PK": "1301",
                                    "UGYFEL_FK": "istvan",
                                    "SZOBA_FK": "132",
                                    "METTOL": "2016-11-22",
                                    "MEDDIG": "2016-11-24",
                                    "FELNOTT_SZAM": "3",
                                    "GYERMEK_SZAM": "0"
                                },
                                {
                                    "FOGLALAS_PK": "1302",
                                    "UGYFEL_FK": "aladar",
                                    "SZOBA_FK": "191",
                                    "METTOL": "2016-11-22",
                                    "MEDDIG": "2016-11-23",
                                    "FELNOTT_SZAM": "1",
                                    "GYERMEK_SZAM": "1"
                                },
                                {
                                    "FOGLALAS_PK": "1303",
                                    "UGYFEL_FK": "dani",
                                    "SZOBA_FK": "45",
                                    "METTOL": "2016-11-22",
                                    "MEDDIG": "2016-11-24",
                                    "FELNOTT_SZAM": "2",
                                    "GYERMEK_SZAM": "0"
                                },
                                {
                                    "FOGLALAS_PK": "1304",
                                    "UGYFEL_FK": "dora3",
                                    "SZOBA_FK": "197",
                                    "METTOL": "2016-11-22",
                                    "MEDDIG": "2016-11-29",
                                    "FELNOTT_SZAM": "3",
                                    "GYERMEK_SZAM": "0"
                                },
                                {
                                    "FOGLALAS_PK": "1305",
                                    "UGYFEL_FK": "fruzsina4",
                                    "SZOBA_FK": "94",
                                    "METTOL": "2016-11-22",
                                    "MEDDIG": "2016-11-24",
                                    "FELNOTT_SZAM": "1",
                                    "GYERMEK_SZAM": "1"
                                },
                                {
                                    "FOGLALAS_PK": "1306",
                                    "UGYFEL_FK": "krisztina",
                                    "SZOBA_FK": "133",
                                    "METTOL": "2016-11-22",
                                    "MEDDIG": "2016-11-25",
                                    "FELNOTT_SZAM": "1",
                                    "GYERMEK_SZAM": "0"
                                },
                                {
                                    "FOGLALAS_PK": "1307",
                                    "UGYFEL_FK": "jozsef2",
                                    "SZOBA_FK": "58",
                                    "METTOL": "2016-11-23",
                                    "MEDDIG": "2016-11-29",
                                    "FELNOTT_SZAM": "1",
                                    "GYERMEK_SZAM": "2"
                                },
                                {
                                    "FOGLALAS_PK": "1308",
                                    "UGYFEL_FK": "andras41",
                                    "SZOBA_FK": "182",
                                    "METTOL": "2016-11-23",
                                    "MEDDIG": "2016-11-24",
                                    "FELNOTT_SZAM": "1",
                                    "GYERMEK_SZAM": "0"
                                },
                                {
                                    "FOGLALAS_PK": "1309",
                                    "UGYFEL_FK": "daniel1",
                                    "SZOBA_FK": "42",
                                    "METTOL": "2016-11-23",
                                    "MEDDIG": "2016-11-25",
                                    "FELNOTT_SZAM": "2",
                                    "GYERMEK_SZAM": "0"
                                },
                                {
                                    "FOGLALAS_PK": "1310",
                                    "UGYFEL_FK": "andras21",
                                    "SZOBA_FK": "155",
                                    "METTOL": "2016-11-23",
                                    "MEDDIG": "2016-11-24",
                                    "FELNOTT_SZAM": "1",
                                    "GYERMEK_SZAM": "3"
                                },
                                {
                                    "FOGLALAS_PK": "1311",
                                    "UGYFEL_FK": "sara",
                                    "SZOBA_FK": "2",
                                    "METTOL": "2016-11-23",
                                    "MEDDIG": "2016-11-30",
                                    "FELNOTT_SZAM": "1",
                                    "GYERMEK_SZAM": "3"
                                },
                                {
                                    "FOGLALAS_PK": "1312",
                                    "UGYFEL_FK": "RENATAK",
                                    "SZOBA_FK": "94",
                                    "METTOL": "2016-11-23",
                                    "MEDDIG": "2016-11-26",
                                    "FELNOTT_SZAM": "1",
                                    "GYERMEK_SZAM": "0"
                                },
                                {
                                    "FOGLALAS_PK": "1313",
                                    "UGYFEL_FK": "emese",
                                    "SZOBA_FK": "143",
                                    "METTOL": "2016-11-23",
                                    "MEDDIG": "2016-11-27",
                                    "FELNOTT_SZAM": "1",
                                    "GYERMEK_SZAM": "3"
                                },
                                {
                                    "FOGLALAS_PK": "1314",
                                    "UGYFEL_FK": "JANOSP",
                                    "SZOBA_FK": "196",
                                    "METTOL": "2016-11-23",
                                    "MEDDIG": "2016-11-28",
                                    "FELNOTT_SZAM": "2",
                                    "GYERMEK_SZAM": "0"
                                },
                                {
                                    "FOGLALAS_PK": "1315",
                                    "UGYFEL_FK": "balint",
                                    "SZOBA_FK": "100",
                                    "METTOL": "2016-11-24",
                                    "MEDDIG": "2016-11-29",
                                    "FELNOTT_SZAM": "1",
                                    "GYERMEK_SZAM": "2"
                                },
                                {
                                    "FOGLALAS_PK": "1316",
                                    "UGYFEL_FK": "peter4",
                                    "SZOBA_FK": "17",
                                    "METTOL": "2016-11-25",
                                    "MEDDIG": "2016-11-30",
                                    "FELNOTT_SZAM": "3",
                                    "GYERMEK_SZAM": "0"
                                },
                                {
                                    "FOGLALAS_PK": "1317",
                                    "UGYFEL_FK": "andras4",
                                    "SZOBA_FK": "182",
                                    "METTOL": "2016-11-25",
                                    "MEDDIG": "2016-11-28",
                                    "FELNOTT_SZAM": "2",
                                    "GYERMEK_SZAM": "0"
                                },
                                {
                                    "FOGLALAS_PK": "1318",
                                    "UGYFEL_FK": "JANOSP",
                                    "SZOBA_FK": "72",
                                    "METTOL": "2016-11-25",
                                    "MEDDIG": "2016-11-27",
                                    "FELNOTT_SZAM": "1",
                                    "GYERMEK_SZAM": "1"
                                },
                                {
                                    "FOGLALAS_PK": "1319",
                                    "UGYFEL_FK": "ANDRASN",
                                    "SZOBA_FK": "10",
                                    "METTOL": "2016-11-25",
                                    "MEDDIG": "2016-12-01",
                                    "FELNOTT_SZAM": "2",
                                    "GYERMEK_SZAM": "0"
                                },
                                {
                                    "FOGLALAS_PK": "1320",
                                    "UGYFEL_FK": "laszlo2",
                                    "SZOBA_FK": "85",
                                    "METTOL": "2016-11-25",
                                    "MEDDIG": "2016-11-26",
                                    "FELNOTT_SZAM": "2",
                                    "GYERMEK_SZAM": "1"
                                },
                                {
                                    "FOGLALAS_PK": "1321",
                                    "UGYFEL_FK": "jozsef2",
                                    "SZOBA_FK": "33",
                                    "METTOL": "2016-11-25",
                                    "MEDDIG": "2016-11-29",
                                    "FELNOTT_SZAM": "2",
                                    "GYERMEK_SZAM": "1"
                                },
                                {
                                    "FOGLALAS_PK": "1322",
                                    "UGYFEL_FK": "bertalan",
                                    "SZOBA_FK": "58",
                                    "METTOL": "2016-11-26",
                                    "MEDDIG": "2016-11-29",
                                    "FELNOTT_SZAM": "1",
                                    "GYERMEK_SZAM": "2"
                                },
                                {
                                    "FOGLALAS_PK": "1323",
                                    "UGYFEL_FK": "julianna4",
                                    "SZOBA_FK": "191",
                                    "METTOL": "2016-11-27",
                                    "MEDDIG": "2016-12-04",
                                    "FELNOTT_SZAM": "2",
                                    "GYERMEK_SZAM": "1"
                                },
                                {
                                    "FOGLALAS_PK": "1324",
                                    "UGYFEL_FK": "timea2",
                                    "SZOBA_FK": "68",
                                    "METTOL": "2016-11-27",
                                    "MEDDIG": "2016-12-01",
                                    "FELNOTT_SZAM": "2",
                                    "GYERMEK_SZAM": "2"
                                },
                                {
                                    "FOGLALAS_PK": "1325",
                                    "UGYFEL_FK": "katalin4",
                                    "SZOBA_FK": "70",
                                    "METTOL": "2016-11-27",
                                    "MEDDIG": "2016-12-04",
                                    "FELNOTT_SZAM": "2",
                                    "GYERMEK_SZAM": "1"
                                },
                                {
                                    "FOGLALAS_PK": "1326",
                                    "UGYFEL_FK": "BENCEB",
                                    "SZOBA_FK": "182",
                                    "METTOL": "2016-11-28",
                                    "MEDDIG": "2016-12-02",
                                    "FELNOTT_SZAM": "2",
                                    "GYERMEK_SZAM": "0"
                                },
                                {
                                    "FOGLALAS_PK": "1327",
                                    "UGYFEL_FK": "zsuzsa",
                                    "SZOBA_FK": "55",
                                    "METTOL": "2016-11-28",
                                    "MEDDIG": "2016-12-04",
                                    "FELNOTT_SZAM": "1",
                                    "GYERMEK_SZAM": "2"
                                },
                                {
                                    "FOGLALAS_PK": "1328",
                                    "UGYFEL_FK": "andras3",
                                    "SZOBA_FK": "54",
                                    "METTOL": "2016-11-28",
                                    "MEDDIG": "2016-12-02",
                                    "FELNOTT_SZAM": "2",
                                    "GYERMEK_SZAM": "0"
                                },
                                {
                                    "FOGLALAS_PK": "1329",
                                    "UGYFEL_FK": "LASZLON",
                                    "SZOBA_FK": "171",
                                    "METTOL": "2016-11-29",
                                    "MEDDIG": "2016-12-04",
                                    "FELNOTT_SZAM": "1",
                                    "GYERMEK_SZAM": "0"
                                },
                                {
                                    "FOGLALAS_PK": "1330",
                                    "UGYFEL_FK": "ANDRASE",
                                    "SZOBA_FK": "124",
                                    "METTOL": "2016-11-29",
                                    "MEDDIG": "2016-12-06",
                                    "FELNOTT_SZAM": "1",
                                    "GYERMEK_SZAM": "2"
                                },
                                {
                                    "FOGLALAS_PK": "1331",
                                    "UGYFEL_FK": "sandor4",
                                    "SZOBA_FK": "73",
                                    "METTOL": "2016-11-29",
                                    "MEDDIG": "2016-12-03",
                                    "FELNOTT_SZAM": "2",
                                    "GYERMEK_SZAM": "0"
                                },
                                {
                                    "FOGLALAS_PK": "1332",
                                    "UGYFEL_FK": "alexandra",
                                    "SZOBA_FK": "101",
                                    "METTOL": "2016-11-29",
                                    "MEDDIG": "2016-12-05",
                                    "FELNOTT_SZAM": "1",
                                    "GYERMEK_SZAM": "1"
                                },
                                {
                                    "FOGLALAS_PK": "1333",
                                    "UGYFEL_FK": "norbert4",
                                    "SZOBA_FK": "70",
                                    "METTOL": "2016-11-30",
                                    "MEDDIG": "2016-12-06",
                                    "FELNOTT_SZAM": "2",
                                    "GYERMEK_SZAM": "1"
                                },
                                {
                                    "FOGLALAS_PK": "1334",
                                    "UGYFEL_FK": "valentin",
                                    "SZOBA_FK": "1",
                                    "METTOL": "2016-12-01",
                                    "MEDDIG": "2016-12-05",
                                    "FELNOTT_SZAM": "3",
                                    "GYERMEK_SZAM": "0"
                                },
                                {
                                    "FOGLALAS_PK": "1335",
                                    "UGYFEL_FK": "GYONGYIK",
                                    "SZOBA_FK": "37",
                                    "METTOL": "2016-12-01",
                                    "MEDDIG": "2016-12-08",
                                    "FELNOTT_SZAM": "1",
                                    "GYERMEK_SZAM": "1"
                                },
                                {
                                    "FOGLALAS_PK": "1336",
                                    "UGYFEL_FK": "eszter2",
                                    "SZOBA_FK": "172",
                                    "METTOL": "2016-12-02",
                                    "MEDDIG": "2016-12-07",
                                    "FELNOTT_SZAM": "1",
                                    "GYERMEK_SZAM": "0"
                                },
                                {
                                    "FOGLALAS_PK": "1337",
                                    "UGYFEL_FK": "BELAF",
                                    "SZOBA_FK": "122",
                                    "METTOL": "2016-12-02",
                                    "MEDDIG": "2016-12-04",
                                    "FELNOTT_SZAM": "1",
                                    "GYERMEK_SZAM": "2"
                                },
                                {
                                    "FOGLALAS_PK": "1338",
                                    "UGYFEL_FK": "TAMASF",
                                    "SZOBA_FK": "145",
                                    "METTOL": "2016-12-02",
                                    "MEDDIG": "2016-12-04",
                                    "FELNOTT_SZAM": "1",
                                    "GYERMEK_SZAM": "0"
                                },
                                {
                                    "FOGLALAS_PK": "1339",
                                    "UGYFEL_FK": "sandor4",
                                    "SZOBA_FK": "120",
                                    "METTOL": "2016-12-03",
                                    "MEDDIG": "2016-12-09",
                                    "FELNOTT_SZAM": "1",
                                    "GYERMEK_SZAM": "0"
                                },
                                {
                                    "FOGLALAS_PK": "1340",
                                    "UGYFEL_FK": "katalin4",
                                    "SZOBA_FK": "196",
                                    "METTOL": "2016-12-04",
                                    "MEDDIG": "2016-12-09",
                                    "FELNOTT_SZAM": "1",
                                    "GYERMEK_SZAM": "2"
                                },
                                {
                                    "FOGLALAS_PK": "1341",
                                    "UGYFEL_FK": "balint2",
                                    "SZOBA_FK": "82",
                                    "METTOL": "2016-12-04",
                                    "MEDDIG": "2016-12-06",
                                    "FELNOTT_SZAM": "1",
                                    "GYERMEK_SZAM": "2"
                                },
                                {
                                    "FOGLALAS_PK": "1342",
                                    "UGYFEL_FK": "ARPADH",
                                    "SZOBA_FK": "170",
                                    "METTOL": "2016-12-04",
                                    "MEDDIG": "2016-12-10",
                                    "FELNOTT_SZAM": "1",
                                    "GYERMEK_SZAM": "0"
                                },
                                {
                                    "FOGLALAS_PK": "1343",
                                    "UGYFEL_FK": "szabolcs",
                                    "SZOBA_FK": "102",
                                    "METTOL": "2016-12-05",
                                    "MEDDIG": "2016-12-07",
                                    "FELNOTT_SZAM": "1",
                                    "GYERMEK_SZAM": "1"
                                },
                                {
                                    "FOGLALAS_PK": "1344",
                                    "UGYFEL_FK": "MIKLOSB",
                                    "SZOBA_FK": "33",
                                    "METTOL": "2016-12-05",
                                    "MEDDIG": "2016-12-10",
                                    "FELNOTT_SZAM": "1",
                                    "GYERMEK_SZAM": "1"
                                },
                                {
                                    "FOGLALAS_PK": "1345",
                                    "UGYFEL_FK": "eszter2",
                                    "SZOBA_FK": "79",
                                    "METTOL": "2016-12-05",
                                    "MEDDIG": "2016-12-08",
                                    "FELNOTT_SZAM": "2",
                                    "GYERMEK_SZAM": "0"
                                },
                                {
                                    "FOGLALAS_PK": "1346",
                                    "UGYFEL_FK": "balazs3",
                                    "SZOBA_FK": "181",
                                    "METTOL": "2016-12-05",
                                    "MEDDIG": "2016-12-11",
                                    "FELNOTT_SZAM": "2",
                                    "GYERMEK_SZAM": "1"
                                },
                                {
                                    "FOGLALAS_PK": "1347",
                                    "UGYFEL_FK": "adam4",
                                    "SZOBA_FK": "13",
                                    "METTOL": "2016-12-06",
                                    "MEDDIG": "2016-12-09",
                                    "FELNOTT_SZAM": "3",
                                    "GYERMEK_SZAM": "0"
                                },
                                {
                                    "FOGLALAS_PK": "1348",
                                    "UGYFEL_FK": "jozsef",
                                    "SZOBA_FK": "57",
                                    "METTOL": "2016-12-06",
                                    "MEDDIG": "2016-12-07",
                                    "FELNOTT_SZAM": "2",
                                    "GYERMEK_SZAM": "0"
                                },
                                {
                                    "FOGLALAS_PK": "1349",
                                    "UGYFEL_FK": "eva2",
                                    "SZOBA_FK": "87",
                                    "METTOL": "2016-12-06",
                                    "MEDDIG": "2016-12-11",
                                    "FELNOTT_SZAM": "2",
                                    "GYERMEK_SZAM": "0"
                                },
                                {
                                    "FOGLALAS_PK": "1350",
                                    "UGYFEL_FK": "BELAF",
                                    "SZOBA_FK": "173",
                                    "METTOL": "2016-12-06",
                                    "MEDDIG": "2016-12-09",
                                    "FELNOTT_SZAM": "1",
                                    "GYERMEK_SZAM": "0"
                                },
                                {
                                    "FOGLALAS_PK": "1351",
                                    "UGYFEL_FK": "sara",
                                    "SZOBA_FK": "38",
                                    "METTOL": "2016-12-06",
                                    "MEDDIG": "2016-12-10",
                                    "FELNOTT_SZAM": "1",
                                    "GYERMEK_SZAM": "0"
                                },
                                {
                                    "FOGLALAS_PK": "1352",
                                    "UGYFEL_FK": "ZOLTANP",
                                    "SZOBA_FK": "115",
                                    "METTOL": "2016-12-07",
                                    "MEDDIG": "2016-12-10",
                                    "FELNOTT_SZAM": "2",
                                    "GYERMEK_SZAM": "1"
                                },
                                {
                                    "FOGLALAS_PK": "1353",
                                    "UGYFEL_FK": "ARONK",
                                    "SZOBA_FK": "111",
                                    "METTOL": "2016-12-07",
                                    "MEDDIG": "2016-12-12",
                                    "FELNOTT_SZAM": "1",
                                    "GYERMEK_SZAM": "2"
                                },
                                {
                                    "FOGLALAS_PK": "1354",
                                    "UGYFEL_FK": "emese",
                                    "SZOBA_FK": "107",
                                    "METTOL": "2016-12-07",
                                    "MEDDIG": "2016-12-08",
                                    "FELNOTT_SZAM": "2",
                                    "GYERMEK_SZAM": "1"
                                },
                                {
                                    "FOGLALAS_PK": "1355",
                                    "UGYFEL_FK": "nikoletta4",
                                    "SZOBA_FK": "93",
                                    "METTOL": "2016-12-08",
                                    "MEDDIG": "2016-12-10",
                                    "FELNOTT_SZAM": "3",
                                    "GYERMEK_SZAM": "2"
                                },
                                {
                                    "FOGLALAS_PK": "1356",
                                    "UGYFEL_FK": "matyas2",
                                    "SZOBA_FK": "169",
                                    "METTOL": "2016-12-09",
                                    "MEDDIG": "2016-12-13",
                                    "FELNOTT_SZAM": "2",
                                    "GYERMEK_SZAM": "1"
                                },
                                {
                                    "FOGLALAS_PK": "1357",
                                    "UGYFEL_FK": "TAMASF",
                                    "SZOBA_FK": "140",
                                    "METTOL": "2016-12-10",
                                    "MEDDIG": "2016-12-14",
                                    "FELNOTT_SZAM": "2",
                                    "GYERMEK_SZAM": "1"
                                },
                                {
                                    "FOGLALAS_PK": "1358",
                                    "UGYFEL_FK": "krisztian4",
                                    "SZOBA_FK": "138",
                                    "METTOL": "2016-12-11",
                                    "MEDDIG": "2016-12-18",
                                    "FELNOTT_SZAM": "1",
                                    "GYERMEK_SZAM": "1"
                                },
                                {
                                    "FOGLALAS_PK": "1359",
                                    "UGYFEL_FK": "BEATRIXK",
                                    "SZOBA_FK": "88",
                                    "METTOL": "2016-12-12",
                                    "MEDDIG": "2016-12-14",
                                    "FELNOTT_SZAM": "2",
                                    "GYERMEK_SZAM": "1"
                                },
                                {
                                    "FOGLALAS_PK": "1360",
                                    "UGYFEL_FK": "katalin",
                                    "SZOBA_FK": "129",
                                    "METTOL": "2016-12-13",
                                    "MEDDIG": "2016-12-19",
                                    "FELNOTT_SZAM": "1",
                                    "GYERMEK_SZAM": "1"
                                },
                                {
                                    "FOGLALAS_PK": "1361",
                                    "UGYFEL_FK": "ARPADM",
                                    "SZOBA_FK": "140",
                                    "METTOL": "2016-12-14",
                                    "MEDDIG": "2016-12-17",
                                    "FELNOTT_SZAM": "1",
                                    "GYERMEK_SZAM": "2"
                                },
                                {
                                    "FOGLALAS_PK": "1362",
                                    "UGYFEL_FK": "timea2",
                                    "SZOBA_FK": "25",
                                    "METTOL": "2016-12-14",
                                    "MEDDIG": "2016-12-16",
                                    "FELNOTT_SZAM": "3",
                                    "GYERMEK_SZAM": "1"
                                },
                                {
                                    "FOGLALAS_PK": "1363",
                                    "UGYFEL_FK": "tunde",
                                    "SZOBA_FK": "133",
                                    "METTOL": "2016-12-15",
                                    "MEDDIG": "2016-12-20",
                                    "FELNOTT_SZAM": "3",
                                    "GYERMEK_SZAM": "0"
                                },
                                {
                                    "FOGLALAS_PK": "1364",
                                    "UGYFEL_FK": "akos",
                                    "SZOBA_FK": "126",
                                    "METTOL": "2016-12-15",
                                    "MEDDIG": "2016-12-21",
                                    "FELNOTT_SZAM": "1",
                                    "GYERMEK_SZAM": "1"
                                },
                                {
                                    "FOGLALAS_PK": "1365",
                                    "UGYFEL_FK": "norbert",
                                    "SZOBA_FK": "70",
                                    "METTOL": "2016-12-15",
                                    "MEDDIG": "2016-12-18",
                                    "FELNOTT_SZAM": "1",
                                    "GYERMEK_SZAM": "1"
                                },
                                {
                                    "FOGLALAS_PK": "1366",
                                    "UGYFEL_FK": "fruzsina4",
                                    "SZOBA_FK": "81",
                                    "METTOL": "2016-12-16",
                                    "MEDDIG": "2016-12-21",
                                    "FELNOTT_SZAM": "1",
                                    "GYERMEK_SZAM": "0"
                                },
                                {
                                    "FOGLALAS_PK": "1367",
                                    "UGYFEL_FK": "bernadett2",
                                    "SZOBA_FK": "80",
                                    "METTOL": "2016-12-17",
                                    "MEDDIG": "2016-12-20",
                                    "FELNOTT_SZAM": "1",
                                    "GYERMEK_SZAM": "0"
                                },
                                {
                                    "FOGLALAS_PK": "1368",
                                    "UGYFEL_FK": "bence",
                                    "SZOBA_FK": "94",
                                    "METTOL": "2016-12-17",
                                    "MEDDIG": "2016-12-18",
                                    "FELNOTT_SZAM": "2",
                                    "GYERMEK_SZAM": "0"
                                },
                                {
                                    "FOGLALAS_PK": "1369",
                                    "UGYFEL_FK": "pal",
                                    "SZOBA_FK": "142",
                                    "METTOL": "2016-12-17",
                                    "MEDDIG": "2016-12-23",
                                    "FELNOTT_SZAM": "3",
                                    "GYERMEK_SZAM": "0"
                                },
                                {
                                    "FOGLALAS_PK": "1370",
                                    "UGYFEL_FK": "BEATRIXK",
                                    "SZOBA_FK": "138",
                                    "METTOL": "2016-12-17",
                                    "MEDDIG": "2016-12-22",
                                    "FELNOTT_SZAM": "3",
                                    "GYERMEK_SZAM": "1"
                                },
                                {
                                    "FOGLALAS_PK": "1371",
                                    "UGYFEL_FK": "AGNESK",
                                    "SZOBA_FK": "140",
                                    "METTOL": "2016-12-17",
                                    "MEDDIG": "2016-12-18",
                                    "FELNOTT_SZAM": "1",
                                    "GYERMEK_SZAM": "1"
                                },
                                {
                                    "FOGLALAS_PK": "1372",
                                    "UGYFEL_FK": "katalin",
                                    "SZOBA_FK": "106",
                                    "METTOL": "2016-12-17",
                                    "MEDDIG": "2016-12-24",
                                    "FELNOTT_SZAM": "1",
                                    "GYERMEK_SZAM": "0"
                                },
                                {
                                    "FOGLALAS_PK": "1373",
                                    "UGYFEL_FK": "brigitta",
                                    "SZOBA_FK": "121",
                                    "METTOL": "2016-12-17",
                                    "MEDDIG": "2016-12-22",
                                    "FELNOTT_SZAM": "2",
                                    "GYERMEK_SZAM": "0"
                                },
                                {
                                    "FOGLALAS_PK": "1374",
                                    "UGYFEL_FK": "robert2",
                                    "SZOBA_FK": "118",
                                    "METTOL": "2016-12-17",
                                    "MEDDIG": "2016-12-22",
                                    "FELNOTT_SZAM": "1",
                                    "GYERMEK_SZAM": "0"
                                },
                                {
                                    "FOGLALAS_PK": "1375",
                                    "UGYFEL_FK": "vivien3",
                                    "SZOBA_FK": "165",
                                    "METTOL": "2016-12-17",
                                    "MEDDIG": "2016-12-21",
                                    "FELNOTT_SZAM": "1",
                                    "GYERMEK_SZAM": "1"
                                },
                                {
                                    "FOGLALAS_PK": "1376",
                                    "UGYFEL_FK": "balint1",
                                    "SZOBA_FK": "84",
                                    "METTOL": "2016-12-17",
                                    "MEDDIG": "2016-12-22",
                                    "FELNOTT_SZAM": "3",
                                    "GYERMEK_SZAM": "0"
                                },
                                {
                                    "FOGLALAS_PK": "1377",
                                    "UGYFEL_FK": "ARPADH",
                                    "SZOBA_FK": "27",
                                    "METTOL": "2016-12-18",
                                    "MEDDIG": "2016-12-19",
                                    "FELNOTT_SZAM": "2",
                                    "GYERMEK_SZAM": "1"
                                },
                                {
                                    "FOGLALAS_PK": "1378",
                                    "UGYFEL_FK": "JANOSP",
                                    "SZOBA_FK": "96",
                                    "METTOL": "2016-12-18",
                                    "MEDDIG": "2016-12-21",
                                    "FELNOTT_SZAM": "1",
                                    "GYERMEK_SZAM": "1"
                                },
                                {
                                    "FOGLALAS_PK": "1379",
                                    "UGYFEL_FK": "JUDITH",
                                    "SZOBA_FK": "83",
                                    "METTOL": "2016-12-19",
                                    "MEDDIG": "2016-12-26",
                                    "FELNOTT_SZAM": "1",
                                    "GYERMEK_SZAM": "0"
                                },
                                {
                                    "FOGLALAS_PK": "1380",
                                    "UGYFEL_FK": "MATYASS",
                                    "SZOBA_FK": "39",
                                    "METTOL": "2016-12-20",
                                    "MEDDIG": "2016-12-25",
                                    "FELNOTT_SZAM": "2",
                                    "GYERMEK_SZAM": "0"
                                },
                                {
                                    "FOGLALAS_PK": "1381",
                                    "UGYFEL_FK": "BEATRIXS",
                                    "SZOBA_FK": "33",
                                    "METTOL": "2016-12-21",
                                    "MEDDIG": "2016-12-27",
                                    "FELNOTT_SZAM": "2",
                                    "GYERMEK_SZAM": "0"
                                },
                                {
                                    "FOGLALAS_PK": "1382",
                                    "UGYFEL_FK": "balu",
                                    "SZOBA_FK": "67",
                                    "METTOL": "2016-12-22",
                                    "MEDDIG": "2016-12-23",
                                    "FELNOTT_SZAM": "1",
                                    "GYERMEK_SZAM": "1"
                                },
                                {
                                    "FOGLALAS_PK": "1383",
                                    "UGYFEL_FK": "attila",
                                    "SZOBA_FK": "176",
                                    "METTOL": "2016-12-22",
                                    "MEDDIG": "2016-12-26",
                                    "FELNOTT_SZAM": "1",
                                    "GYERMEK_SZAM": "1"
                                },
                                {
                                    "FOGLALAS_PK": "1384",
                                    "UGYFEL_FK": "roland1",
                                    "SZOBA_FK": "84",
                                    "METTOL": "2016-12-22",
                                    "MEDDIG": "2016-12-29",
                                    "FELNOTT_SZAM": "1",
                                    "GYERMEK_SZAM": "0"
                                },
                                {
                                    "FOGLALAS_PK": "1385",
                                    "UGYFEL_FK": "eszter",
                                    "SZOBA_FK": "122",
                                    "METTOL": "2016-12-23",
                                    "MEDDIG": "2016-12-28",
                                    "FELNOTT_SZAM": "1",
                                    "GYERMEK_SZAM": "1"
                                },
                                {
                                    "FOGLALAS_PK": "1386",
                                    "UGYFEL_FK": "vivien3",
                                    "SZOBA_FK": "55",
                                    "METTOL": "2016-12-24",
                                    "MEDDIG": "2016-12-26",
                                    "FELNOTT_SZAM": "2",
                                    "GYERMEK_SZAM": "1"
                                },
                                {
                                    "FOGLALAS_PK": "1387",
                                    "UGYFEL_FK": "arpad2",
                                    "SZOBA_FK": "197",
                                    "METTOL": "2016-12-24",
                                    "MEDDIG": "2016-12-27",
                                    "FELNOTT_SZAM": "2",
                                    "GYERMEK_SZAM": "1"
                                },
                                {
                                    "FOGLALAS_PK": "1388",
                                    "UGYFEL_FK": "katalin",
                                    "SZOBA_FK": "26",
                                    "METTOL": "2016-12-24",
                                    "MEDDIG": "2016-12-27",
                                    "FELNOTT_SZAM": "1",
                                    "GYERMEK_SZAM": "1"
                                },
                                {
                                    "FOGLALAS_PK": "1389",
                                    "UGYFEL_FK": "tihamer",
                                    "SZOBA_FK": "57",
                                    "METTOL": "2016-12-25",
                                    "MEDDIG": "2016-12-26",
                                    "FELNOTT_SZAM": "1",
                                    "GYERMEK_SZAM": "1"
                                },
                                {
                                    "FOGLALAS_PK": "1390",
                                    "UGYFEL_FK": "sara",
                                    "SZOBA_FK": "188",
                                    "METTOL": "2016-12-25",
                                    "MEDDIG": "2016-12-30",
                                    "FELNOTT_SZAM": "1",
                                    "GYERMEK_SZAM": "1"
                                },
                                {
                                    "FOGLALAS_PK": "1391",
                                    "UGYFEL_FK": "szilvia1",
                                    "SZOBA_FK": "93",
                                    "METTOL": "2016-12-25",
                                    "MEDDIG": "2016-12-29",
                                    "FELNOTT_SZAM": "2",
                                    "GYERMEK_SZAM": "3"
                                },
                                {
                                    "FOGLALAS_PK": "1392",
                                    "UGYFEL_FK": "KRISZTIANM",
                                    "SZOBA_FK": "108",
                                    "METTOL": "2016-12-25",
                                    "MEDDIG": "2016-12-31",
                                    "FELNOTT_SZAM": "1",
                                    "GYERMEK_SZAM": "1"
                                },
                                {
                                    "FOGLALAS_PK": "1393",
                                    "UGYFEL_FK": "ilona3",
                                    "SZOBA_FK": "121",
                                    "METTOL": "2016-12-25",
                                    "MEDDIG": "2016-12-31",
                                    "FELNOTT_SZAM": "1",
                                    "GYERMEK_SZAM": "2"
                                },
                                {
                                    "FOGLALAS_PK": "1394",
                                    "UGYFEL_FK": "lajos",
                                    "SZOBA_FK": "143",
                                    "METTOL": "2016-12-25",
                                    "MEDDIG": "2016-12-28",
                                    "FELNOTT_SZAM": "1",
                                    "GYERMEK_SZAM": "3"
                                },
                                {
                                    "FOGLALAS_PK": "1395",
                                    "UGYFEL_FK": "daniel",
                                    "SZOBA_FK": "97",
                                    "METTOL": "2016-12-25",
                                    "MEDDIG": "2016-12-26",
                                    "FELNOTT_SZAM": "3",
                                    "GYERMEK_SZAM": "0"
                                },
                                {
                                    "FOGLALAS_PK": "1396",
                                    "UGYFEL_FK": "peter3",
                                    "SZOBA_FK": "72",
                                    "METTOL": "2016-12-25",
                                    "MEDDIG": "2016-12-28",
                                    "FELNOTT_SZAM": "1",
                                    "GYERMEK_SZAM": "0"
                                },
                                {
                                    "FOGLALAS_PK": "1397",
                                    "UGYFEL_FK": "ZOLTANP",
                                    "SZOBA_FK": "91",
                                    "METTOL": "2016-12-25",
                                    "MEDDIG": "2016-12-29",
                                    "FELNOTT_SZAM": "1",
                                    "GYERMEK_SZAM": "1"
                                },
                                {
                                    "FOGLALAS_PK": "1398",
                                    "UGYFEL_FK": "timea",
                                    "SZOBA_FK": "103",
                                    "METTOL": "2016-12-26",
                                    "MEDDIG": "2016-12-27",
                                    "FELNOTT_SZAM": "1",
                                    "GYERMEK_SZAM": "1"
                                },
                                {
                                    "FOGLALAS_PK": "1399",
                                    "UGYFEL_FK": "balazs1",
                                    "SZOBA_FK": "89",
                                    "METTOL": "2016-12-26",
                                    "MEDDIG": "2016-12-28",
                                    "FELNOTT_SZAM": "3",
                                    "GYERMEK_SZAM": "0"
                                },
                                {
                                    "FOGLALAS_PK": "1400",
                                    "UGYFEL_FK": "bence",
                                    "SZOBA_FK": "162",
                                    "METTOL": "2016-12-26",
                                    "MEDDIG": "2016-12-27",
                                    "FELNOTT_SZAM": "1",
                                    "GYERMEK_SZAM": "1"
                                },
                                {
                                    "FOGLALAS_PK": "1401",
                                    "UGYFEL_FK": "szilvia1",
                                    "SZOBA_FK": "141",
                                    "METTOL": "2016-12-27",
                                    "MEDDIG": "2017-01-02",
                                    "FELNOTT_SZAM": "2",
                                    "GYERMEK_SZAM": "0"
                                },
                                {
                                    "FOGLALAS_PK": "1402",
                                    "UGYFEL_FK": "JANOSG",
                                    "SZOBA_FK": "98",
                                    "METTOL": "2016-12-28",
                                    "MEDDIG": "2016-12-30",
                                    "FELNOTT_SZAM": "2",
                                    "GYERMEK_SZAM": "0"
                                },
                                {
                                    "FOGLALAS_PK": "1403",
                                    "UGYFEL_FK": "zoltan4",
                                    "SZOBA_FK": "124",
                                    "METTOL": "2016-12-29",
                                    "MEDDIG": "2017-01-04",
                                    "FELNOTT_SZAM": "1",
                                    "GYERMEK_SZAM": "0"
                                },
                                {
                                    "FOGLALAS_PK": "1404",
                                    "UGYFEL_FK": "balint1",
                                    "SZOBA_FK": "187",
                                    "METTOL": "2016-12-29",
                                    "MEDDIG": "2016-12-31",
                                    "FELNOTT_SZAM": "2",
                                    "GYERMEK_SZAM": "1"
                                },
                                {
                                    "FOGLALAS_PK": "1405",
                                    "UGYFEL_FK": "henrik3",
                                    "SZOBA_FK": "90",
                                    "METTOL": "2016-12-29",
                                    "MEDDIG": "2017-01-03",
                                    "FELNOTT_SZAM": "3",
                                    "GYERMEK_SZAM": "0"
                                },
                                {
                                    "FOGLALAS_PK": "1406",
                                    "UGYFEL_FK": "akos",
                                    "SZOBA_FK": "82",
                                    "METTOL": "2016-12-29",
                                    "MEDDIG": "2016-12-30",
                                    "FELNOTT_SZAM": "2",
                                    "GYERMEK_SZAM": "1"
                                },
                                {
                                    "FOGLALAS_PK": "1407",
                                    "UGYFEL_FK": "david1",
                                    "SZOBA_FK": "175",
                                    "METTOL": "2016-12-30",
                                    "MEDDIG": "2017-01-06",
                                    "FELNOTT_SZAM": "2",
                                    "GYERMEK_SZAM": "0"
                                },
                                {
                                    "FOGLALAS_PK": "1408",
                                    "UGYFEL_FK": "attila4",
                                    "SZOBA_FK": "99",
                                    "METTOL": "2016-12-31",
                                    "MEDDIG": "2017-01-01",
                                    "FELNOTT_SZAM": "1",
                                    "GYERMEK_SZAM": "1"
                                },
                                {
                                    "FOGLALAS_PK": "1409",
                                    "UGYFEL_FK": "zoltan4",
                                    "SZOBA_FK": "133",
                                    "METTOL": "2017-01-01",
                                    "MEDDIG": "2017-01-02",
                                    "FELNOTT_SZAM": "3",
                                    "GYERMEK_SZAM": "0"
                                },
                                {
                                    "FOGLALAS_PK": "1410",
                                    "UGYFEL_FK": "balazs1",
                                    "SZOBA_FK": "182",
                                    "METTOL": "2017-01-01",
                                    "MEDDIG": "2017-01-05",
                                    "FELNOTT_SZAM": "2",
                                    "GYERMEK_SZAM": "0"
                                },
                                {
                                    "FOGLALAS_PK": "1411",
                                    "UGYFEL_FK": "BERNADETTO",
                                    "SZOBA_FK": "35",
                                    "METTOL": "2017-01-01",
                                    "MEDDIG": "2017-01-02",
                                    "FELNOTT_SZAM": "2",
                                    "GYERMEK_SZAM": "1"
                                },
                                {
                                    "FOGLALAS_PK": "1412",
                                    "UGYFEL_FK": "ARONK",
                                    "SZOBA_FK": "75",
                                    "METTOL": "2017-01-01",
                                    "MEDDIG": "2017-01-03",
                                    "FELNOTT_SZAM": "1",
                                    "GYERMEK_SZAM": "1"
                                },
                                {
                                    "FOGLALAS_PK": "1413",
                                    "UGYFEL_FK": "istvan",
                                    "SZOBA_FK": "119",
                                    "METTOL": "2017-01-02",
                                    "MEDDIG": "2017-01-05",
                                    "FELNOTT_SZAM": "2",
                                    "GYERMEK_SZAM": "0"
                                },
                                {
                                    "FOGLALAS_PK": "1414",
                                    "UGYFEL_FK": "katka",
                                    "SZOBA_FK": "167",
                                    "METTOL": "2017-01-02",
                                    "MEDDIG": "2017-01-05",
                                    "FELNOTT_SZAM": "3",
                                    "GYERMEK_SZAM": "0"
                                },
                                {
                                    "FOGLALAS_PK": "1415",
                                    "UGYFEL_FK": "tunde",
                                    "SZOBA_FK": "24",
                                    "METTOL": "2017-01-03",
                                    "MEDDIG": "2017-01-06",
                                    "FELNOTT_SZAM": "4",
                                    "GYERMEK_SZAM": "1"
                                },
                                {
                                    "FOGLALAS_PK": "1416",
                                    "UGYFEL_FK": "balint1",
                                    "SZOBA_FK": "38",
                                    "METTOL": "2017-01-03",
                                    "MEDDIG": "2017-01-08",
                                    "FELNOTT_SZAM": "2",
                                    "GYERMEK_SZAM": "0"
                                },
                                {
                                    "FOGLALAS_PK": "1417",
                                    "UGYFEL_FK": "AGNESH",
                                    "SZOBA_FK": "97",
                                    "METTOL": "2017-01-03",
                                    "MEDDIG": "2017-01-10",
                                    "FELNOTT_SZAM": "2",
                                    "GYERMEK_SZAM": "0"
                                },
                                {
                                    "FOGLALAS_PK": "1418",
                                    "UGYFEL_FK": "roland1",
                                    "SZOBA_FK": "15",
                                    "METTOL": "2017-01-04",
                                    "MEDDIG": "2017-01-08",
                                    "FELNOTT_SZAM": "2",
                                    "GYERMEK_SZAM": "1"
                                },
                                {
                                    "FOGLALAS_PK": "1419",
                                    "UGYFEL_FK": "daniel1",
                                    "SZOBA_FK": "124",
                                    "METTOL": "2017-01-05",
                                    "MEDDIG": "2017-01-08",
                                    "FELNOTT_SZAM": "1",
                                    "GYERMEK_SZAM": "2"
                                },
                                {
                                    "FOGLALAS_PK": "1420",
                                    "UGYFEL_FK": "ARPADM",
                                    "SZOBA_FK": "198",
                                    "METTOL": "2017-01-05",
                                    "MEDDIG": "2017-01-10",
                                    "FELNOTT_SZAM": "1",
                                    "GYERMEK_SZAM": "0"
                                },
                                {
                                    "FOGLALAS_PK": "1421",
                                    "UGYFEL_FK": "eszter4",
                                    "SZOBA_FK": "172",
                                    "METTOL": "2017-01-05",
                                    "MEDDIG": "2017-01-10",
                                    "FELNOTT_SZAM": "2",
                                    "GYERMEK_SZAM": "0"
                                },
                                {
                                    "FOGLALAS_PK": "1422",
                                    "UGYFEL_FK": "krisztian4",
                                    "SZOBA_FK": "182",
                                    "METTOL": "2017-01-06",
                                    "MEDDIG": "2017-01-09",
                                    "FELNOTT_SZAM": "1",
                                    "GYERMEK_SZAM": "0"
                                },
                                {
                                    "FOGLALAS_PK": "1423",
                                    "UGYFEL_FK": "eva2",
                                    "SZOBA_FK": "9",
                                    "METTOL": "2017-01-06",
                                    "MEDDIG": "2017-01-09",
                                    "FELNOTT_SZAM": "1",
                                    "GYERMEK_SZAM": "3"
                                },
                                {
                                    "FOGLALAS_PK": "1424",
                                    "UGYFEL_FK": "SZABOLCSM",
                                    "SZOBA_FK": "110",
                                    "METTOL": "2017-01-07",
                                    "MEDDIG": "2017-01-08",
                                    "FELNOTT_SZAM": "2",
                                    "GYERMEK_SZAM": "0"
                                },
                                {
                                    "FOGLALAS_PK": "1425",
                                    "UGYFEL_FK": "lala",
                                    "SZOBA_FK": "44",
                                    "METTOL": "2017-01-08",
                                    "MEDDIG": "2017-01-10",
                                    "FELNOTT_SZAM": "2",
                                    "GYERMEK_SZAM": "1"
                                },
                                {
                                    "FOGLALAS_PK": "1426",
                                    "UGYFEL_FK": "JOZSEFG",
                                    "SZOBA_FK": "62",
                                    "METTOL": "2017-01-09",
                                    "MEDDIG": "2017-01-13",
                                    "FELNOTT_SZAM": "2",
                                    "GYERMEK_SZAM": "0"
                                },
                                {
                                    "FOGLALAS_PK": "1427",
                                    "UGYFEL_FK": "andras4",
                                    "SZOBA_FK": "169",
                                    "METTOL": "2017-01-09",
                                    "MEDDIG": "2017-01-10",
                                    "FELNOTT_SZAM": "1",
                                    "GYERMEK_SZAM": "1"
                                },
                                {
                                    "FOGLALAS_PK": "1428",
                                    "UGYFEL_FK": "zsuzsanna",
                                    "SZOBA_FK": "126",
                                    "METTOL": "2017-01-09",
                                    "MEDDIG": "2017-01-16",
                                    "FELNOTT_SZAM": "1",
                                    "GYERMEK_SZAM": "0"
                                },
                                {
                                    "FOGLALAS_PK": "1429",
                                    "UGYFEL_FK": "MATYASS",
                                    "SZOBA_FK": "173",
                                    "METTOL": "2017-01-09",
                                    "MEDDIG": "2017-01-13",
                                    "FELNOTT_SZAM": "2",
                                    "GYERMEK_SZAM": "0"
                                },
                                {
                                    "FOGLALAS_PK": "1430",
                                    "UGYFEL_FK": "daniel",
                                    "SZOBA_FK": "12",
                                    "METTOL": "2017-01-09",
                                    "MEDDIG": "2017-01-11",
                                    "FELNOTT_SZAM": "1",
                                    "GYERMEK_SZAM": "0"
                                },
                                {
                                    "FOGLALAS_PK": "1431",
                                    "UGYFEL_FK": "JANOSG",
                                    "SZOBA_FK": "52",
                                    "METTOL": "2017-01-10",
                                    "MEDDIG": "2017-01-15",
                                    "FELNOTT_SZAM": "2",
                                    "GYERMEK_SZAM": "0"
                                },
                                {
                                    "FOGLALAS_PK": "1432",
                                    "UGYFEL_FK": "ANNAMARIAR",
                                    "SZOBA_FK": "150",
                                    "METTOL": "2017-01-10",
                                    "MEDDIG": "2017-01-13",
                                    "FELNOTT_SZAM": "2",
                                    "GYERMEK_SZAM": "0"
                                },
                                {
                                    "FOGLALAS_PK": "1433",
                                    "UGYFEL_FK": "roza2",
                                    "SZOBA_FK": "139",
                                    "METTOL": "2017-01-11",
                                    "MEDDIG": "2017-01-17",
                                    "FELNOTT_SZAM": "2",
                                    "GYERMEK_SZAM": "1"
                                },
                                {
                                    "FOGLALAS_PK": "1434",
                                    "UGYFEL_FK": "peter3",
                                    "SZOBA_FK": "3",
                                    "METTOL": "2017-01-12",
                                    "MEDDIG": "2017-01-17",
                                    "FELNOTT_SZAM": "1",
                                    "GYERMEK_SZAM": "0"
                                },
                                {
                                    "FOGLALAS_PK": "1435",
                                    "UGYFEL_FK": "adam4",
                                    "SZOBA_FK": "39",
                                    "METTOL": "2017-01-12",
                                    "MEDDIG": "2017-01-19",
                                    "FELNOTT_SZAM": "2",
                                    "GYERMEK_SZAM": "0"
                                },
                                {
                                    "FOGLALAS_PK": "1436",
                                    "UGYFEL_FK": "alexandra",
                                    "SZOBA_FK": "35",
                                    "METTOL": "2017-01-13",
                                    "MEDDIG": "2017-01-14",
                                    "FELNOTT_SZAM": "1",
                                    "GYERMEK_SZAM": "0"
                                },
                                {
                                    "FOGLALAS_PK": "1437",
                                    "UGYFEL_FK": "andi",
                                    "SZOBA_FK": "183",
                                    "METTOL": "2017-01-13",
                                    "MEDDIG": "2017-01-17",
                                    "FELNOTT_SZAM": "3",
                                    "GYERMEK_SZAM": "0"
                                },
                                {
                                    "FOGLALAS_PK": "1438",
                                    "UGYFEL_FK": "eva",
                                    "SZOBA_FK": "96",
                                    "METTOL": "2017-01-14",
                                    "MEDDIG": "2017-01-16",
                                    "FELNOTT_SZAM": "2",
                                    "GYERMEK_SZAM": "0"
                                },
                                {
                                    "FOGLALAS_PK": "1439",
                                    "UGYFEL_FK": "kata",
                                    "SZOBA_FK": "77",
                                    "METTOL": "2017-01-15",
                                    "MEDDIG": "2017-01-21",
                                    "FELNOTT_SZAM": "1",
                                    "GYERMEK_SZAM": "2"
                                },
                                {
                                    "FOGLALAS_PK": "1440",
                                    "UGYFEL_FK": "edit",
                                    "SZOBA_FK": "122",
                                    "METTOL": "2017-01-15",
                                    "MEDDIG": "2017-01-18",
                                    "FELNOTT_SZAM": "1",
                                    "GYERMEK_SZAM": "3"
                                },
                                {
                                    "FOGLALAS_PK": "1441",
                                    "UGYFEL_FK": "AGNESH",
                                    "SZOBA_FK": "185",
                                    "METTOL": "2017-01-16",
                                    "MEDDIG": "2017-01-23",
                                    "FELNOTT_SZAM": "2",
                                    "GYERMEK_SZAM": "1"
                                },
                                {
                                    "FOGLALAS_PK": "1442",
                                    "UGYFEL_FK": "SZILARDS",
                                    "SZOBA_FK": "15",
                                    "METTOL": "2017-01-16",
                                    "MEDDIG": "2017-01-19",
                                    "FELNOTT_SZAM": "1",
                                    "GYERMEK_SZAM": "2"
                                },
                                {
                                    "FOGLALAS_PK": "1443",
                                    "UGYFEL_FK": "KRISZTIANM",
                                    "SZOBA_FK": "81",
                                    "METTOL": "2017-01-16",
                                    "MEDDIG": "2017-01-23",
                                    "FELNOTT_SZAM": "1",
                                    "GYERMEK_SZAM": "0"
                                },
                                {
                                    "FOGLALAS_PK": "1444",
                                    "UGYFEL_FK": "zsuzsanna",
                                    "SZOBA_FK": "42",
                                    "METTOL": "2017-01-16",
                                    "MEDDIG": "2017-01-22",
                                    "FELNOTT_SZAM": "2",
                                    "GYERMEK_SZAM": "0"
                                },
                                {
                                    "FOGLALAS_PK": "1445",
                                    "UGYFEL_FK": "krisztian4",
                                    "SZOBA_FK": "129",
                                    "METTOL": "2017-01-16",
                                    "MEDDIG": "2017-01-23",
                                    "FELNOTT_SZAM": "2",
                                    "GYERMEK_SZAM": "1"
                                },
                                {
                                    "FOGLALAS_PK": "1446",
                                    "UGYFEL_FK": "MATEK",
                                    "SZOBA_FK": "64",
                                    "METTOL": "2017-01-16",
                                    "MEDDIG": "2017-01-22",
                                    "FELNOTT_SZAM": "2",
                                    "GYERMEK_SZAM": "0"
                                },
                                {
                                    "FOGLALAS_PK": "1447",
                                    "UGYFEL_FK": "ZOLTANT",
                                    "SZOBA_FK": "79",
                                    "METTOL": "2017-01-16",
                                    "MEDDIG": "2017-01-20",
                                    "FELNOTT_SZAM": "1",
                                    "GYERMEK_SZAM": "1"
                                },
                                {
                                    "FOGLALAS_PK": "1448",
                                    "UGYFEL_FK": "roland1",
                                    "SZOBA_FK": "143",
                                    "METTOL": "2017-01-16",
                                    "MEDDIG": "2017-01-22",
                                    "FELNOTT_SZAM": "2",
                                    "GYERMEK_SZAM": "0"
                                },
                                {
                                    "FOGLALAS_PK": "1449",
                                    "UGYFEL_FK": "lala",
                                    "SZOBA_FK": "189",
                                    "METTOL": "2017-01-17",
                                    "MEDDIG": "2017-01-19",
                                    "FELNOTT_SZAM": "1",
                                    "GYERMEK_SZAM": "1"
                                },
                                {
                                    "FOGLALAS_PK": "1450",
                                    "UGYFEL_FK": "MONIKAM",
                                    "SZOBA_FK": "139",
                                    "METTOL": "2017-01-17",
                                    "MEDDIG": "2017-01-24",
                                    "FELNOTT_SZAM": "1",
                                    "GYERMEK_SZAM": "0"
                                },
                                {
                                    "FOGLALAS_PK": "1451",
                                    "UGYFEL_FK": "dani",
                                    "SZOBA_FK": "58",
                                    "METTOL": "2017-01-17",
                                    "MEDDIG": "2017-01-23",
                                    "FELNOTT_SZAM": "2",
                                    "GYERMEK_SZAM": "0"
                                },
                                {
                                    "FOGLALAS_PK": "1452",
                                    "UGYFEL_FK": "IBOLYAA",
                                    "SZOBA_FK": "107",
                                    "METTOL": "2017-01-17",
                                    "MEDDIG": "2017-01-23",
                                    "FELNOTT_SZAM": "1",
                                    "GYERMEK_SZAM": "2"
                                },
                                {
                                    "FOGLALAS_PK": "1453",
                                    "UGYFEL_FK": "aron2",
                                    "SZOBA_FK": "86",
                                    "METTOL": "2017-01-17",
                                    "MEDDIG": "2017-01-18",
                                    "FELNOTT_SZAM": "1",
                                    "GYERMEK_SZAM": "2"
                                },
                                {
                                    "FOGLALAS_PK": "1454",
                                    "UGYFEL_FK": "david",
                                    "SZOBA_FK": "39",
                                    "METTOL": "2017-01-18",
                                    "MEDDIG": "2017-01-19",
                                    "FELNOTT_SZAM": "2",
                                    "GYERMEK_SZAM": "0"
                                },
                                {
                                    "FOGLALAS_PK": "1455",
                                    "UGYFEL_FK": "katalin4",
                                    "SZOBA_FK": "116",
                                    "METTOL": "2017-01-18",
                                    "MEDDIG": "2017-01-20",
                                    "FELNOTT_SZAM": "1",
                                    "GYERMEK_SZAM": "1"
                                },
                                {
                                    "FOGLALAS_PK": "1456",
                                    "UGYFEL_FK": "veronika4",
                                    "SZOBA_FK": "87",
                                    "METTOL": "2017-01-19",
                                    "MEDDIG": "2017-01-24",
                                    "FELNOTT_SZAM": "3",
                                    "GYERMEK_SZAM": "0"
                                },
                                {
                                    "FOGLALAS_PK": "1457",
                                    "UGYFEL_FK": "alexandra",
                                    "SZOBA_FK": "70",
                                    "METTOL": "2017-01-19",
                                    "MEDDIG": "2017-01-26",
                                    "FELNOTT_SZAM": "2",
                                    "GYERMEK_SZAM": "0"
                                },
                                {
                                    "FOGLALAS_PK": "1458",
                                    "UGYFEL_FK": "katka",
                                    "SZOBA_FK": "75",
                                    "METTOL": "2017-01-19",
                                    "MEDDIG": "2017-01-20",
                                    "FELNOTT_SZAM": "2",
                                    "GYERMEK_SZAM": "1"
                                },
                                {
                                    "FOGLALAS_PK": "1459",
                                    "UGYFEL_FK": "balazs3",
                                    "SZOBA_FK": "28",
                                    "METTOL": "2017-01-20",
                                    "MEDDIG": "2017-01-22",
                                    "FELNOTT_SZAM": "2",
                                    "GYERMEK_SZAM": "0"
                                },
                                {
                                    "FOGLALAS_PK": "1460",
                                    "UGYFEL_FK": "krisztina1",
                                    "SZOBA_FK": "153",
                                    "METTOL": "2017-01-21",
                                    "MEDDIG": "2017-01-24",
                                    "FELNOTT_SZAM": "1",
                                    "GYERMEK_SZAM": "1"
                                },
                                {
                                    "FOGLALAS_PK": "1461",
                                    "UGYFEL_FK": "JOZSEFG",
                                    "SZOBA_FK": "77",
                                    "METTOL": "2017-01-22",
                                    "MEDDIG": "2017-01-26",
                                    "FELNOTT_SZAM": "1",
                                    "GYERMEK_SZAM": "0"
                                },
                                {
                                    "FOGLALAS_PK": "1462",
                                    "UGYFEL_FK": "MARKH",
                                    "SZOBA_FK": "156",
                                    "METTOL": "2017-01-22",
                                    "MEDDIG": "2017-01-29",
                                    "FELNOTT_SZAM": "1",
                                    "GYERMEK_SZAM": "3"
                                },
                                {
                                    "FOGLALAS_PK": "1463",
                                    "UGYFEL_FK": "GYONGYIK",
                                    "SZOBA_FK": "185",
                                    "METTOL": "2017-01-22",
                                    "MEDDIG": "2017-01-29",
                                    "FELNOTT_SZAM": "3",
                                    "GYERMEK_SZAM": "0"
                                },
                                {
                                    "FOGLALAS_PK": "1464",
                                    "UGYFEL_FK": "andrea4",
                                    "SZOBA_FK": "81",
                                    "METTOL": "2017-01-22",
                                    "MEDDIG": "2017-01-29",
                                    "FELNOTT_SZAM": "2",
                                    "GYERMEK_SZAM": "0"
                                },
                                {
                                    "FOGLALAS_PK": "1465",
                                    "UGYFEL_FK": "sandor4",
                                    "SZOBA_FK": "64",
                                    "METTOL": "2017-01-22",
                                    "MEDDIG": "2017-01-26",
                                    "FELNOTT_SZAM": "2",
                                    "GYERMEK_SZAM": "0"
                                },
                                {
                                    "FOGLALAS_PK": "1466",
                                    "UGYFEL_FK": "dani",
                                    "SZOBA_FK": "57",
                                    "METTOL": "2017-01-22",
                                    "MEDDIG": "2017-01-29",
                                    "FELNOTT_SZAM": "1",
                                    "GYERMEK_SZAM": "0"
                                },
                                {
                                    "FOGLALAS_PK": "1467",
                                    "UGYFEL_FK": "fruzsina4",
                                    "SZOBA_FK": "186",
                                    "METTOL": "2017-01-22",
                                    "MEDDIG": "2017-01-25",
                                    "FELNOTT_SZAM": "2",
                                    "GYERMEK_SZAM": "2"
                                },
                                {
                                    "FOGLALAS_PK": "1468",
                                    "UGYFEL_FK": "attila1",
                                    "SZOBA_FK": "117",
                                    "METTOL": "2017-01-23",
                                    "MEDDIG": "2017-01-30",
                                    "FELNOTT_SZAM": "1",
                                    "GYERMEK_SZAM": "3"
                                },
                                {
                                    "FOGLALAS_PK": "1469",
                                    "UGYFEL_FK": "brigitta",
                                    "SZOBA_FK": "13",
                                    "METTOL": "2017-01-23",
                                    "MEDDIG": "2017-01-25",
                                    "FELNOTT_SZAM": "1",
                                    "GYERMEK_SZAM": "0"
                                },
                                {
                                    "FOGLALAS_PK": "1470",
                                    "UGYFEL_FK": "debora",
                                    "SZOBA_FK": "153",
                                    "METTOL": "2017-01-23",
                                    "MEDDIG": "2017-01-28",
                                    "FELNOTT_SZAM": "3",
                                    "GYERMEK_SZAM": "0"
                                },
                                {
                                    "FOGLALAS_PK": "1471",
                                    "UGYFEL_FK": "RENATAK",
                                    "SZOBA_FK": "145",
                                    "METTOL": "2017-01-23",
                                    "MEDDIG": "2017-01-24",
                                    "FELNOTT_SZAM": "2",
                                    "GYERMEK_SZAM": "1"
                                },
                                {
                                    "FOGLALAS_PK": "1472",
                                    "UGYFEL_FK": "bernadett2",
                                    "SZOBA_FK": "118",
                                    "METTOL": "2017-01-24",
                                    "MEDDIG": "2017-01-30",
                                    "FELNOTT_SZAM": "1",
                                    "GYERMEK_SZAM": "2"
                                },
                                {
                                    "FOGLALAS_PK": "1473",
                                    "UGYFEL_FK": "katalin4",
                                    "SZOBA_FK": "195",
                                    "METTOL": "2017-01-24",
                                    "MEDDIG": "2017-01-31",
                                    "FELNOTT_SZAM": "2",
                                    "GYERMEK_SZAM": "0"
                                },
                                {
                                    "FOGLALAS_PK": "1474",
                                    "UGYFEL_FK": "KRISZTINAG",
                                    "SZOBA_FK": "131",
                                    "METTOL": "2017-01-25",
                                    "MEDDIG": "2017-01-30",
                                    "FELNOTT_SZAM": "2",
                                    "GYERMEK_SZAM": "0"
                                },
                                {
                                    "FOGLALAS_PK": "1475",
                                    "UGYFEL_FK": "eszter4",
                                    "SZOBA_FK": "130",
                                    "METTOL": "2017-01-26",
                                    "MEDDIG": "2017-02-02",
                                    "FELNOTT_SZAM": "2",
                                    "GYERMEK_SZAM": "0"
                                },
                                {
                                    "FOGLALAS_PK": "1476",
                                    "UGYFEL_FK": "henrik3",
                                    "SZOBA_FK": "27",
                                    "METTOL": "2017-01-27",
                                    "MEDDIG": "2017-01-28",
                                    "FELNOTT_SZAM": "2",
                                    "GYERMEK_SZAM": "1"
                                },
                                {
                                    "FOGLALAS_PK": "1477",
                                    "UGYFEL_FK": "BERNADETTO",
                                    "SZOBA_FK": "51",
                                    "METTOL": "2017-01-28",
                                    "MEDDIG": "2017-02-03",
                                    "FELNOTT_SZAM": "1",
                                    "GYERMEK_SZAM": "1"
                                },
                                {
                                    "FOGLALAS_PK": "1478",
                                    "UGYFEL_FK": "andras21",
                                    "SZOBA_FK": "38",
                                    "METTOL": "2017-01-28",
                                    "MEDDIG": "2017-02-01",
                                    "FELNOTT_SZAM": "2",
                                    "GYERMEK_SZAM": "0"
                                },
                                {
                                    "FOGLALAS_PK": "1479",
                                    "UGYFEL_FK": "szilvia1",
                                    "SZOBA_FK": "146",
                                    "METTOL": "2017-01-28",
                                    "MEDDIG": "2017-02-03",
                                    "FELNOTT_SZAM": "1",
                                    "GYERMEK_SZAM": "1"
                                },
                                {
                                    "FOGLALAS_PK": "1480",
                                    "UGYFEL_FK": "eszter2",
                                    "SZOBA_FK": "35",
                                    "METTOL": "2016-12-29",
                                    "MEDDIG": "2017-02-04",
                                    "FELNOTT_SZAM": "1",
                                    "GYERMEK_SZAM": "0"
                                },
                                {
                                    "FOGLALAS_PK": "1481",
                                    "UGYFEL_FK": "polla",
                                    "SZOBA_FK": "118",
                                    "METTOL": "2017-01-29",
                                    "MEDDIG": "2017-02-01",
                                    "FELNOTT_SZAM": "1",
                                    "GYERMEK_SZAM": "1"
                                },
                                {
                                    "FOGLALAS_PK": "1482",
                                    "UGYFEL_FK": "norbert2",
                                    "SZOBA_FK": "100",
                                    "METTOL": "2017-01-29",
                                    "MEDDIG": "2017-02-05",
                                    "FELNOTT_SZAM": "1",
                                    "GYERMEK_SZAM": "2"
                                },
                                {
                                    "FOGLALAS_PK": "1483",
                                    "UGYFEL_FK": "annamaria1",
                                    "SZOBA_FK": "120",
                                    "METTOL": "2017-01-30",
                                    "MEDDIG": "2017-01-31",
                                    "FELNOTT_SZAM": "3",
                                    "GYERMEK_SZAM": "1"
                                },
                                {
                                    "FOGLALAS_PK": "1484",
                                    "UGYFEL_FK": "emese",
                                    "SZOBA_FK": "195",
                                    "METTOL": "2017-01-30",
                                    "MEDDIG": "2017-01-31",
                                    "FELNOTT_SZAM": "1",
                                    "GYERMEK_SZAM": "1"
                                },
                                {
                                    "FOGLALAS_PK": "1485",
                                    "UGYFEL_FK": "ARONK",
                                    "SZOBA_FK": "103",
                                    "METTOL": "2017-01-30",
                                    "MEDDIG": "2017-02-03",
                                    "FELNOTT_SZAM": "1",
                                    "GYERMEK_SZAM": "1"
                                },
                                {
                                    "FOGLALAS_PK": "1486",
                                    "UGYFEL_FK": "JANOSG",
                                    "SZOBA_FK": "99",
                                    "METTOL": "2017-01-31",
                                    "MEDDIG": "2017-02-05",
                                    "FELNOTT_SZAM": "2",
                                    "GYERMEK_SZAM": "0"
                                },
                                {
                                    "FOGLALAS_PK": "1487",
                                    "UGYFEL_FK": "imre1",
                                    "SZOBA_FK": "163",
                                    "METTOL": "2017-02-01",
                                    "MEDDIG": "2017-02-04",
                                    "FELNOTT_SZAM": "1",
                                    "GYERMEK_SZAM": "1"
                                },
                                {
                                    "FOGLALAS_PK": "1488",
                                    "UGYFEL_FK": "nikoletta4",
                                    "SZOBA_FK": "119",
                                    "METTOL": "2017-02-01",
                                    "MEDDIG": "2017-02-04",
                                    "FELNOTT_SZAM": "2",
                                    "GYERMEK_SZAM": "0"
                                },
                                {
                                    "FOGLALAS_PK": "1489",
                                    "UGYFEL_FK": "andras3",
                                    "SZOBA_FK": "110",
                                    "METTOL": "2017-02-02",
                                    "MEDDIG": "2017-02-08",
                                    "FELNOTT_SZAM": "2",
                                    "GYERMEK_SZAM": "0"
                                },
                                {
                                    "FOGLALAS_PK": "1490",
                                    "UGYFEL_FK": "BEATRIXS",
                                    "SZOBA_FK": "156",
                                    "METTOL": "2017-02-03",
                                    "MEDDIG": "2017-02-04",
                                    "FELNOTT_SZAM": "2",
                                    "GYERMEK_SZAM": "0"
                                },
                                {
                                    "FOGLALAS_PK": "1491",
                                    "UGYFEL_FK": "veronika4",
                                    "SZOBA_FK": "172",
                                    "METTOL": "2017-02-03",
                                    "MEDDIG": "2017-02-05",
                                    "FELNOTT_SZAM": "1",
                                    "GYERMEK_SZAM": "1"
                                },
                                {
                                    "FOGLALAS_PK": "1492",
                                    "UGYFEL_FK": "gusztav",
                                    "SZOBA_FK": "4",
                                    "METTOL": "2017-02-03",
                                    "MEDDIG": "2017-02-09",
                                    "FELNOTT_SZAM": "2",
                                    "GYERMEK_SZAM": "0"
                                },
                                {
                                    "FOGLALAS_PK": "1493",
                                    "UGYFEL_FK": "julia4",
                                    "SZOBA_FK": "120",
                                    "METTOL": "2017-02-04",
                                    "MEDDIG": "2017-02-11",
                                    "FELNOTT_SZAM": "1",
                                    "GYERMEK_SZAM": "3"
                                },
                                {
                                    "FOGLALAS_PK": "1494",
                                    "UGYFEL_FK": "debora",
                                    "SZOBA_FK": "107",
                                    "METTOL": "2017-02-04",
                                    "MEDDIG": "2017-02-06",
                                    "FELNOTT_SZAM": "2",
                                    "GYERMEK_SZAM": "1"
                                },
                                {
                                    "FOGLALAS_PK": "1495",
                                    "UGYFEL_FK": "EVAV",
                                    "SZOBA_FK": "113",
                                    "METTOL": "2017-02-04",
                                    "MEDDIG": "2017-02-11",
                                    "FELNOTT_SZAM": "1",
                                    "GYERMEK_SZAM": "4"
                                },
                                {
                                    "FOGLALAS_PK": "1496",
                                    "UGYFEL_FK": "gabriella1",
                                    "SZOBA_FK": "61",
                                    "METTOL": "2017-02-04",
                                    "MEDDIG": "2017-02-11",
                                    "FELNOTT_SZAM": "1",
                                    "GYERMEK_SZAM": "2"
                                },
                                {
                                    "FOGLALAS_PK": "1497",
                                    "UGYFEL_FK": "SZABOLCSM",
                                    "SZOBA_FK": "179",
                                    "METTOL": "2017-02-04",
                                    "MEDDIG": "2017-02-05",
                                    "FELNOTT_SZAM": "2",
                                    "GYERMEK_SZAM": "1"
                                },
                                {
                                    "FOGLALAS_PK": "1498",
                                    "UGYFEL_FK": "kriszti",
                                    "SZOBA_FK": "16",
                                    "METTOL": "2017-02-04",
                                    "MEDDIG": "2017-02-11",
                                    "FELNOTT_SZAM": "3",
                                    "GYERMEK_SZAM": "0"
                                },
                                {
                                    "FOGLALAS_PK": "1499",
                                    "UGYFEL_FK": "imre1",
                                    "SZOBA_FK": "113",
                                    "METTOL": "2017-02-05",
                                    "MEDDIG": "2017-02-07",
                                    "FELNOTT_SZAM": "3",
                                    "GYERMEK_SZAM": "1"
                                },
                                {
                                    "FOGLALAS_PK": "1500",
                                    "UGYFEL_FK": "peter4",
                                    "SZOBA_FK": "126",
                                    "METTOL": "2017-02-05",
                                    "MEDDIG": "2017-02-09",
                                    "FELNOTT_SZAM": "1",
                                    "GYERMEK_SZAM": "2"
                                },
                                {
                                    "FOGLALAS_PK": "1501",
                                    "UGYFEL_FK": "bence",
                                    "SZOBA_FK": "116",
                                    "METTOL": "2017-02-05",
                                    "MEDDIG": "2017-02-09",
                                    "FELNOTT_SZAM": "1",
                                    "GYERMEK_SZAM": "2"
                                },
                                {
                                    "FOGLALAS_PK": "1502",
                                    "UGYFEL_FK": "krisztina",
                                    "SZOBA_FK": "191",
                                    "METTOL": "2017-02-05",
                                    "MEDDIG": "2017-02-07",
                                    "FELNOTT_SZAM": "2",
                                    "GYERMEK_SZAM": "0"
                                },
                                {
                                    "FOGLALAS_PK": "1503",
                                    "UGYFEL_FK": "NANDORF",
                                    "SZOBA_FK": "177",
                                    "METTOL": "2017-02-05",
                                    "MEDDIG": "2017-02-08",
                                    "FELNOTT_SZAM": "1",
                                    "GYERMEK_SZAM": "2"
                                },
                                {
                                    "FOGLALAS_PK": "1504",
                                    "UGYFEL_FK": "adam3",
                                    "SZOBA_FK": "57",
                                    "METTOL": "2017-02-06",
                                    "MEDDIG": "2017-02-10",
                                    "FELNOTT_SZAM": "1",
                                    "GYERMEK_SZAM": "0"
                                },
                                {
                                    "FOGLALAS_PK": "1505",
                                    "UGYFEL_FK": "MIHALYJ",
                                    "SZOBA_FK": "18",
                                    "METTOL": "2017-02-06",
                                    "MEDDIG": "2017-02-12",
                                    "FELNOTT_SZAM": "2",
                                    "GYERMEK_SZAM": "2"
                                },
                                {
                                    "FOGLALAS_PK": "1506",
                                    "UGYFEL_FK": "MONIKAM",
                                    "SZOBA_FK": "81",
                                    "METTOL": "2017-02-06",
                                    "MEDDIG": "2017-02-09",
                                    "FELNOTT_SZAM": "1",
                                    "GYERMEK_SZAM": "1"
                                },
                                {
                                    "FOGLALAS_PK": "1507",
                                    "UGYFEL_FK": "istvan1",
                                    "SZOBA_FK": "153",
                                    "METTOL": "2017-02-07",
                                    "MEDDIG": "2017-02-10",
                                    "FELNOTT_SZAM": "2",
                                    "GYERMEK_SZAM": "1"
                                },
                                {
                                    "FOGLALAS_PK": "1508",
                                    "UGYFEL_FK": "SZILARDS",
                                    "SZOBA_FK": "191",
                                    "METTOL": "2017-02-08",
                                    "MEDDIG": "2017-02-15",
                                    "FELNOTT_SZAM": "1",
                                    "GYERMEK_SZAM": "0"
                                },
                                {
                                    "FOGLALAS_PK": "1509",
                                    "UGYFEL_FK": "edit",
                                    "SZOBA_FK": "129",
                                    "METTOL": "2017-02-08",
                                    "MEDDIG": "2017-02-14",
                                    "FELNOTT_SZAM": "2",
                                    "GYERMEK_SZAM": "1"
                                },
                                {
                                    "FOGLALAS_PK": "1510",
                                    "UGYFEL_FK": "LASZLOA",
                                    "SZOBA_FK": "106",
                                    "METTOL": "2017-02-08",
                                    "MEDDIG": "2017-02-14",
                                    "FELNOTT_SZAM": "1",
                                    "GYERMEK_SZAM": "1"
                                },
                                {
                                    "FOGLALAS_PK": "1511",
                                    "UGYFEL_FK": "andras2",
                                    "SZOBA_FK": "176",
                                    "METTOL": "2017-02-08",
                                    "MEDDIG": "2017-02-10",
                                    "FELNOTT_SZAM": "2",
                                    "GYERMEK_SZAM": "2"
                                },
                                {
                                    "FOGLALAS_PK": "1512",
                                    "UGYFEL_FK": "BEATRIXK",
                                    "SZOBA_FK": "55",
                                    "METTOL": "2017-02-08",
                                    "MEDDIG": "2017-02-09",
                                    "FELNOTT_SZAM": "1",
                                    "GYERMEK_SZAM": "2"
                                },
                                {
                                    "FOGLALAS_PK": "1513",
                                    "UGYFEL_FK": "brigitta3",
                                    "SZOBA_FK": "85",
                                    "METTOL": "2017-02-09",
                                    "MEDDIG": "2017-02-16",
                                    "FELNOTT_SZAM": "1",
                                    "GYERMEK_SZAM": "1"
                                },
                                {
                                    "FOGLALAS_PK": "1514",
                                    "UGYFEL_FK": "andrea",
                                    "SZOBA_FK": "149",
                                    "METTOL": "2017-02-09",
                                    "MEDDIG": "2017-02-14",
                                    "FELNOTT_SZAM": "2",
                                    "GYERMEK_SZAM": "0"
                                },
                                {
                                    "FOGLALAS_PK": "1515",
                                    "UGYFEL_FK": "balazs1",
                                    "SZOBA_FK": "46",
                                    "METTOL": "2017-02-10",
                                    "MEDDIG": "2017-02-14",
                                    "FELNOTT_SZAM": "1",
                                    "GYERMEK_SZAM": "2"
                                },
                                {
                                    "FOGLALAS_PK": "1516",
                                    "UGYFEL_FK": "ESZTERE",
                                    "SZOBA_FK": "101",
                                    "METTOL": "2017-02-10",
                                    "MEDDIG": "2017-02-14",
                                    "FELNOTT_SZAM": "1",
                                    "GYERMEK_SZAM": "1"
                                },
                                {
                                    "FOGLALAS_PK": "1517",
                                    "UGYFEL_FK": "polla",
                                    "SZOBA_FK": "190",
                                    "METTOL": "2017-02-11",
                                    "MEDDIG": "2017-02-16",
                                    "FELNOTT_SZAM": "2",
                                    "GYERMEK_SZAM": "0"
                                },
                                {
                                    "FOGLALAS_PK": "1518",
                                    "UGYFEL_FK": "balazs1",
                                    "SZOBA_FK": "94",
                                    "METTOL": "2017-02-12",
                                    "MEDDIG": "2017-02-14",
                                    "FELNOTT_SZAM": "2",
                                    "GYERMEK_SZAM": "0"
                                },
                                {
                                    "FOGLALAS_PK": "1519",
                                    "UGYFEL_FK": "aniko",
                                    "SZOBA_FK": "132",
                                    "METTOL": "2017-02-12",
                                    "MEDDIG": "2017-02-14",
                                    "FELNOTT_SZAM": "2",
                                    "GYERMEK_SZAM": "1"
                                },
                                {
                                    "FOGLALAS_PK": "1520",
                                    "UGYFEL_FK": "daniel",
                                    "SZOBA_FK": "55",
                                    "METTOL": "2017-02-12",
                                    "MEDDIG": "2017-02-13",
                                    "FELNOTT_SZAM": "2",
                                    "GYERMEK_SZAM": "1"
                                },
                                {
                                    "FOGLALAS_PK": "1521",
                                    "UGYFEL_FK": "BENCEB",
                                    "SZOBA_FK": "89",
                                    "METTOL": "2017-02-12",
                                    "MEDDIG": "2017-02-19",
                                    "FELNOTT_SZAM": "3",
                                    "GYERMEK_SZAM": "0"
                                },
                                {
                                    "FOGLALAS_PK": "1522",
                                    "UGYFEL_FK": "ARPADM",
                                    "SZOBA_FK": "104",
                                    "METTOL": "2017-02-12",
                                    "MEDDIG": "2017-02-14",
                                    "FELNOTT_SZAM": "1",
                                    "GYERMEK_SZAM": "2"
                                },
                                {
                                    "FOGLALAS_PK": "1523",
                                    "UGYFEL_FK": "lajos",
                                    "SZOBA_FK": "11",
                                    "METTOL": "2017-02-12",
                                    "MEDDIG": "2017-02-13",
                                    "FELNOTT_SZAM": "1",
                                    "GYERMEK_SZAM": "0"
                                },
                                {
                                    "FOGLALAS_PK": "1524",
                                    "UGYFEL_FK": "gabriella1",
                                    "SZOBA_FK": "43",
                                    "METTOL": "2017-02-12",
                                    "MEDDIG": "2017-02-13",
                                    "FELNOTT_SZAM": "2",
                                    "GYERMEK_SZAM": "0"
                                },
                                {
                                    "FOGLALAS_PK": "1525",
                                    "UGYFEL_FK": "TAMASF",
                                    "SZOBA_FK": "105",
                                    "METTOL": "2017-02-12",
                                    "MEDDIG": "2017-02-17",
                                    "FELNOTT_SZAM": "1",
                                    "GYERMEK_SZAM": "1"
                                },
                                {
                                    "FOGLALAS_PK": "1526",
                                    "UGYFEL_FK": "janos3",
                                    "SZOBA_FK": "166",
                                    "METTOL": "2017-02-12",
                                    "MEDDIG": "2017-02-14",
                                    "FELNOTT_SZAM": "2",
                                    "GYERMEK_SZAM": "1"
                                },
                                {
                                    "FOGLALAS_PK": "1527",
                                    "UGYFEL_FK": "GYORGYO",
                                    "SZOBA_FK": "92",
                                    "METTOL": "2017-02-13",
                                    "MEDDIG": "2017-02-15",
                                    "FELNOTT_SZAM": "1",
                                    "GYERMEK_SZAM": "1"
                                },
                                {
                                    "FOGLALAS_PK": "1528",
                                    "UGYFEL_FK": "norbert",
                                    "SZOBA_FK": "97",
                                    "METTOL": "2017-02-13",
                                    "MEDDIG": "2017-02-15",
                                    "FELNOTT_SZAM": "2",
                                    "GYERMEK_SZAM": "1"
                                },
                                {
                                    "FOGLALAS_PK": "1529",
                                    "UGYFEL_FK": "RENATAS",
                                    "SZOBA_FK": "35",
                                    "METTOL": "2017-02-13",
                                    "MEDDIG": "2017-02-17",
                                    "FELNOTT_SZAM": "1",
                                    "GYERMEK_SZAM": "0"
                                },
                                {
                                    "FOGLALAS_PK": "1530",
                                    "UGYFEL_FK": "pal",
                                    "SZOBA_FK": "112",
                                    "METTOL": "2017-02-13",
                                    "MEDDIG": "2017-02-19",
                                    "FELNOTT_SZAM": "2",
                                    "GYERMEK_SZAM": "1"
                                },
                                {
                                    "FOGLALAS_PK": "1531",
                                    "UGYFEL_FK": "csongor3",
                                    "SZOBA_FK": "124",
                                    "METTOL": "2017-02-13",
                                    "MEDDIG": "2017-02-19",
                                    "FELNOTT_SZAM": "3",
                                    "GYERMEK_SZAM": "0"
                                },
                                {
                                    "FOGLALAS_PK": "1532",
                                    "UGYFEL_FK": "RENATAS",
                                    "SZOBA_FK": "104",
                                    "METTOL": "2017-02-14",
                                    "MEDDIG": "2017-02-17",
                                    "FELNOTT_SZAM": "2",
                                    "GYERMEK_SZAM": "0"
                                },
                                {
                                    "FOGLALAS_PK": "1533",
                                    "UGYFEL_FK": "bernadett1",
                                    "SZOBA_FK": "19",
                                    "METTOL": "2017-02-14",
                                    "MEDDIG": "2017-02-15",
                                    "FELNOTT_SZAM": "1",
                                    "GYERMEK_SZAM": "2"
                                },
                                {
                                    "FOGLALAS_PK": "1534",
                                    "UGYFEL_FK": "tamas",
                                    "SZOBA_FK": "52",
                                    "METTOL": "2017-02-14",
                                    "MEDDIG": "2017-02-19",
                                    "FELNOTT_SZAM": "2",
                                    "GYERMEK_SZAM": "1"
                                },
                                {
                                    "FOGLALAS_PK": "1535",
                                    "UGYFEL_FK": "attila4",
                                    "SZOBA_FK": "134",
                                    "METTOL": "2017-02-15",
                                    "MEDDIG": "2017-02-22",
                                    "FELNOTT_SZAM": "2",
                                    "GYERMEK_SZAM": "0"
                                },
                                {
                                    "FOGLALAS_PK": "1536",
                                    "UGYFEL_FK": "bertalan",
                                    "SZOBA_FK": "49",
                                    "METTOL": "2017-02-16",
                                    "MEDDIG": "2017-02-22",
                                    "FELNOTT_SZAM": "2",
                                    "GYERMEK_SZAM": "0"
                                },
                                {
                                    "FOGLALAS_PK": "1537",
                                    "UGYFEL_FK": "TAMASF",
                                    "SZOBA_FK": "9",
                                    "METTOL": "2017-02-16",
                                    "MEDDIG": "2017-02-19",
                                    "FELNOTT_SZAM": "3",
                                    "GYERMEK_SZAM": "1"
                                },
                                {
                                    "FOGLALAS_PK": "1538",
                                    "UGYFEL_FK": "ARPADH",
                                    "SZOBA_FK": "39",
                                    "METTOL": "2017-02-16",
                                    "MEDDIG": "2017-02-18",
                                    "FELNOTT_SZAM": "1",
                                    "GYERMEK_SZAM": "1"
                                },
                                {
                                    "FOGLALAS_PK": "1539",
                                    "UGYFEL_FK": "ANNAMARIAR",
                                    "SZOBA_FK": "154",
                                    "METTOL": "2017-02-16",
                                    "MEDDIG": "2017-02-18",
                                    "FELNOTT_SZAM": "2",
                                    "GYERMEK_SZAM": "0"
                                },
                                {
                                    "FOGLALAS_PK": "1540",
                                    "UGYFEL_FK": "david4",
                                    "SZOBA_FK": "114",
                                    "METTOL": "2017-02-16",
                                    "MEDDIG": "2017-02-19",
                                    "FELNOTT_SZAM": "2",
                                    "GYERMEK_SZAM": "1"
                                },
                                {
                                    "FOGLALAS_PK": "1541",
                                    "UGYFEL_FK": "norbert4",
                                    "SZOBA_FK": "155",
                                    "METTOL": "2017-02-16",
                                    "MEDDIG": "2017-02-17",
                                    "FELNOTT_SZAM": "1",
                                    "GYERMEK_SZAM": "0"
                                },
                                {
                                    "FOGLALAS_PK": "1542",
                                    "UGYFEL_FK": "krisztina",
                                    "SZOBA_FK": "14",
                                    "METTOL": "2017-02-16",
                                    "MEDDIG": "2017-02-20",
                                    "FELNOTT_SZAM": "3",
                                    "GYERMEK_SZAM": "1"
                                },
                                {
                                    "FOGLALAS_PK": "1543",
                                    "UGYFEL_FK": "RENATAK",
                                    "SZOBA_FK": "95",
                                    "METTOL": "2017-02-16",
                                    "MEDDIG": "2017-02-23",
                                    "FELNOTT_SZAM": "1",
                                    "GYERMEK_SZAM": "0"
                                },
                                {
                                    "FOGLALAS_PK": "1544",
                                    "UGYFEL_FK": "agnes3",
                                    "SZOBA_FK": "3",
                                    "METTOL": "2017-02-16",
                                    "MEDDIG": "2017-02-21",
                                    "FELNOTT_SZAM": "3",
                                    "GYERMEK_SZAM": "0"
                                },
                                {
                                    "FOGLALAS_PK": "1545",
                                    "UGYFEL_FK": "ROBERTI",
                                    "SZOBA_FK": "142",
                                    "METTOL": "2017-02-17",
                                    "MEDDIG": "2017-02-20",
                                    "FELNOTT_SZAM": "1",
                                    "GYERMEK_SZAM": "1"
                                },
                                {
                                    "FOGLALAS_PK": "1546",
                                    "UGYFEL_FK": "david1",
                                    "SZOBA_FK": "48",
                                    "METTOL": "2017-02-17",
                                    "MEDDIG": "2017-02-20",
                                    "FELNOTT_SZAM": "1",
                                    "GYERMEK_SZAM": "2"
                                },
                                {
                                    "FOGLALAS_PK": "1547",
                                    "UGYFEL_FK": "zsofi1",
                                    "SZOBA_FK": "48",
                                    "METTOL": "2017-02-18",
                                    "MEDDIG": "2017-02-19",
                                    "FELNOTT_SZAM": "1",
                                    "GYERMEK_SZAM": "2"
                                },
                                {
                                    "FOGLALAS_PK": "1548",
                                    "UGYFEL_FK": "LASZLON",
                                    "SZOBA_FK": "88",
                                    "METTOL": "2017-02-18",
                                    "MEDDIG": "2017-02-25",
                                    "FELNOTT_SZAM": "2",
                                    "GYERMEK_SZAM": "1"
                                },
                                {
                                    "FOGLALAS_PK": "1549",
                                    "UGYFEL_FK": "roza2",
                                    "SZOBA_FK": "17",
                                    "METTOL": "2017-02-18",
                                    "MEDDIG": "2017-02-21",
                                    "FELNOTT_SZAM": "1",
                                    "GYERMEK_SZAM": "2"
                                },
                                {
                                    "FOGLALAS_PK": "1550",
                                    "UGYFEL_FK": "arpad2",
                                    "SZOBA_FK": "51",
                                    "METTOL": "2017-02-18",
                                    "MEDDIG": "2017-02-19",
                                    "FELNOTT_SZAM": "3",
                                    "GYERMEK_SZAM": "1"
                                },
                                {
                                    "FOGLALAS_PK": "1551",
                                    "UGYFEL_FK": "anita",
                                    "SZOBA_FK": "157",
                                    "METTOL": "2017-02-19",
                                    "MEDDIG": "2017-02-22",
                                    "FELNOTT_SZAM": "1",
                                    "GYERMEK_SZAM": "1"
                                },
                                {
                                    "FOGLALAS_PK": "1552",
                                    "UGYFEL_FK": "pal",
                                    "SZOBA_FK": "44",
                                    "METTOL": "2017-02-20",
                                    "MEDDIG": "2017-02-22",
                                    "FELNOTT_SZAM": "3",
                                    "GYERMEK_SZAM": "0"
                                },
                                {
                                    "FOGLALAS_PK": "1553",
                                    "UGYFEL_FK": "anita",
                                    "SZOBA_FK": "43",
                                    "METTOL": "2017-02-20",
                                    "MEDDIG": "2017-02-25",
                                    "FELNOTT_SZAM": "1",
                                    "GYERMEK_SZAM": "1"
                                },
                                {
                                    "FOGLALAS_PK": "1554",
                                    "UGYFEL_FK": "daniel",
                                    "SZOBA_FK": "115",
                                    "METTOL": "2017-02-20",
                                    "MEDDIG": "2017-02-23",
                                    "FELNOTT_SZAM": "1",
                                    "GYERMEK_SZAM": "2"
                                },
                                {
                                    "FOGLALAS_PK": "1555",
                                    "UGYFEL_FK": "bertalan",
                                    "SZOBA_FK": "92",
                                    "METTOL": "2017-02-20",
                                    "MEDDIG": "2017-02-24",
                                    "FELNOTT_SZAM": "3",
                                    "GYERMEK_SZAM": "1"
                                },
                                {
                                    "FOGLALAS_PK": "1556",
                                    "UGYFEL_FK": "gabriella1",
                                    "SZOBA_FK": "38",
                                    "METTOL": "2017-02-21",
                                    "MEDDIG": "2017-02-27",
                                    "FELNOTT_SZAM": "2",
                                    "GYERMEK_SZAM": "1"
                                },
                                {
                                    "FOGLALAS_PK": "1557",
                                    "UGYFEL_FK": "peter3",
                                    "SZOBA_FK": "76",
                                    "METTOL": "2017-02-21",
                                    "MEDDIG": "2017-02-24",
                                    "FELNOTT_SZAM": "2",
                                    "GYERMEK_SZAM": "0"
                                },
                                {
                                    "FOGLALAS_PK": "1558",
                                    "UGYFEL_FK": "ARONK",
                                    "SZOBA_FK": "152",
                                    "METTOL": "2017-02-21",
                                    "MEDDIG": "2017-02-23",
                                    "FELNOTT_SZAM": "2",
                                    "GYERMEK_SZAM": "0"
                                },
                                {
                                    "FOGLALAS_PK": "1559",
                                    "UGYFEL_FK": "ATTILAO",
                                    "SZOBA_FK": "180",
                                    "METTOL": "2017-02-22",
                                    "MEDDIG": "2017-02-25",
                                    "FELNOTT_SZAM": "2",
                                    "GYERMEK_SZAM": "1"
                                },
                                {
                                    "FOGLALAS_PK": "1560",
                                    "UGYFEL_FK": "aniko",
                                    "SZOBA_FK": "109",
                                    "METTOL": "2017-02-23",
                                    "MEDDIG": "2017-02-24",
                                    "FELNOTT_SZAM": "2",
                                    "GYERMEK_SZAM": "0"
                                },
                                {
                                    "FOGLALAS_PK": "1561",
                                    "UGYFEL_FK": "adam4",
                                    "SZOBA_FK": "156",
                                    "METTOL": "2017-02-23",
                                    "MEDDIG": "2017-02-27",
                                    "FELNOTT_SZAM": "1",
                                    "GYERMEK_SZAM": "2"
                                },
                                {
                                    "FOGLALAS_PK": "1562",
                                    "UGYFEL_FK": "MONIKAM",
                                    "SZOBA_FK": "81",
                                    "METTOL": "2017-02-23",
                                    "MEDDIG": "2017-02-26",
                                    "FELNOTT_SZAM": "1",
                                    "GYERMEK_SZAM": "1"
                                },
                                {
                                    "FOGLALAS_PK": "1563",
                                    "UGYFEL_FK": "gusztav",
                                    "SZOBA_FK": "180",
                                    "METTOL": "2017-02-23",
                                    "MEDDIG": "2017-03-01",
                                    "FELNOTT_SZAM": "2",
                                    "GYERMEK_SZAM": "2"
                                },
                                {
                                    "FOGLALAS_PK": "1564",
                                    "UGYFEL_FK": "krisztian4",
                                    "SZOBA_FK": "94",
                                    "METTOL": "2017-02-23",
                                    "MEDDIG": "2017-03-02",
                                    "FELNOTT_SZAM": "1",
                                    "GYERMEK_SZAM": "1"
                                },
                                {
                                    "FOGLALAS_PK": "1565",
                                    "UGYFEL_FK": "peter1",
                                    "SZOBA_FK": "160",
                                    "METTOL": "2017-02-23",
                                    "MEDDIG": "2017-02-26",
                                    "FELNOTT_SZAM": "2",
                                    "GYERMEK_SZAM": "1"
                                },
                                {
                                    "FOGLALAS_PK": "1566",
                                    "UGYFEL_FK": "GYORGYO",
                                    "SZOBA_FK": "115",
                                    "METTOL": "2017-02-24",
                                    "MEDDIG": "2017-02-25",
                                    "FELNOTT_SZAM": "3",
                                    "GYERMEK_SZAM": "0"
                                },
                                {
                                    "FOGLALAS_PK": "1567",
                                    "UGYFEL_FK": "maria1",
                                    "SZOBA_FK": "171",
                                    "METTOL": "2017-02-24",
                                    "MEDDIG": "2017-03-02",
                                    "FELNOTT_SZAM": "2",
                                    "GYERMEK_SZAM": "0"
                                },
                                {
                                    "FOGLALAS_PK": "1568",
                                    "UGYFEL_FK": "bernadett1",
                                    "SZOBA_FK": "29",
                                    "METTOL": "2017-02-24",
                                    "MEDDIG": "2017-03-03",
                                    "FELNOTT_SZAM": "1",
                                    "GYERMEK_SZAM": "0"
                                },
                                {
                                    "FOGLALAS_PK": "1569",
                                    "UGYFEL_FK": "JOZSEFG",
                                    "SZOBA_FK": "96",
                                    "METTOL": "2017-02-24",
                                    "MEDDIG": "2017-03-03",
                                    "FELNOTT_SZAM": "3",
                                    "GYERMEK_SZAM": "0"
                                },
                                {
                                    "FOGLALAS_PK": "1570",
                                    "UGYFEL_FK": "katalin",
                                    "SZOBA_FK": "176",
                                    "METTOL": "2017-02-24",
                                    "MEDDIG": "2017-02-27",
                                    "FELNOTT_SZAM": "1",
                                    "GYERMEK_SZAM": "2"
                                },
                                {
                                    "FOGLALAS_PK": "1571",
                                    "UGYFEL_FK": "dani",
                                    "SZOBA_FK": "161",
                                    "METTOL": "2017-02-25",
                                    "MEDDIG": "2017-03-01",
                                    "FELNOTT_SZAM": "2",
                                    "GYERMEK_SZAM": "1"
                                },
                                {
                                    "FOGLALAS_PK": "1572",
                                    "UGYFEL_FK": "david1",
                                    "SZOBA_FK": "144",
                                    "METTOL": "2017-02-25",
                                    "MEDDIG": "2017-02-27",
                                    "FELNOTT_SZAM": "2",
                                    "GYERMEK_SZAM": "2"
                                },
                                {
                                    "FOGLALAS_PK": "1573",
                                    "UGYFEL_FK": "aron2",
                                    "SZOBA_FK": "59",
                                    "METTOL": "2017-02-26",
                                    "MEDDIG": "2017-02-27",
                                    "FELNOTT_SZAM": "2",
                                    "GYERMEK_SZAM": "1"
                                },
                                {
                                    "FOGLALAS_PK": "1574",
                                    "UGYFEL_FK": "eszter4",
                                    "SZOBA_FK": "128",
                                    "METTOL": "2017-02-26",
                                    "MEDDIG": "2017-02-27",
                                    "FELNOTT_SZAM": "1",
                                    "GYERMEK_SZAM": "2"
                                },
                                {
                                    "FOGLALAS_PK": "1575",
                                    "UGYFEL_FK": "reka4",
                                    "SZOBA_FK": "88",
                                    "METTOL": "2017-02-26",
                                    "MEDDIG": "2017-03-04",
                                    "FELNOTT_SZAM": "1",
                                    "GYERMEK_SZAM": "1"
                                },
                                {
                                    "FOGLALAS_PK": "1576",
                                    "UGYFEL_FK": "norbert",
                                    "SZOBA_FK": "189",
                                    "METTOL": "2017-02-26",
                                    "MEDDIG": "2017-03-01",
                                    "FELNOTT_SZAM": "1",
                                    "GYERMEK_SZAM": "0"
                                },
                                {
                                    "FOGLALAS_PK": "1577",
                                    "UGYFEL_FK": "julia",
                                    "SZOBA_FK": "78",
                                    "METTOL": "2017-02-27",
                                    "MEDDIG": "2017-03-06",
                                    "FELNOTT_SZAM": "2",
                                    "GYERMEK_SZAM": "1"
                                },
                                {
                                    "FOGLALAS_PK": "1578",
                                    "UGYFEL_FK": "balazs2",
                                    "SZOBA_FK": "148",
                                    "METTOL": "2017-02-27",
                                    "MEDDIG": "2017-03-06",
                                    "FELNOTT_SZAM": "1",
                                    "GYERMEK_SZAM": "0"
                                },
                                {
                                    "FOGLALAS_PK": "1579",
                                    "UGYFEL_FK": "peter1",
                                    "SZOBA_FK": "127",
                                    "METTOL": "2017-02-28",
                                    "MEDDIG": "2017-03-05",
                                    "FELNOTT_SZAM": "2",
                                    "GYERMEK_SZAM": "1"
                                },
                                {
                                    "FOGLALAS_PK": "1580",
                                    "UGYFEL_FK": "daniel1",
                                    "SZOBA_FK": "67",
                                    "METTOL": "2017-03-01",
                                    "MEDDIG": "2017-03-06",
                                    "FELNOTT_SZAM": "2",
                                    "GYERMEK_SZAM": "2"
                                },
                                {
                                    "FOGLALAS_PK": "1581",
                                    "UGYFEL_FK": "RENATAK",
                                    "SZOBA_FK": "48",
                                    "METTOL": "2017-03-01",
                                    "MEDDIG": "2017-03-06",
                                    "FELNOTT_SZAM": "1",
                                    "GYERMEK_SZAM": "0"
                                },
                                {
                                    "FOGLALAS_PK": "1582",
                                    "UGYFEL_FK": "marton",
                                    "SZOBA_FK": "64",
                                    "METTOL": "2017-03-02",
                                    "MEDDIG": "2017-03-03",
                                    "FELNOTT_SZAM": "2",
                                    "GYERMEK_SZAM": "0"
                                },
                                {
                                    "FOGLALAS_PK": "1583",
                                    "UGYFEL_FK": "norbert4",
                                    "SZOBA_FK": "128",
                                    "METTOL": "2017-03-03",
                                    "MEDDIG": "2017-03-07",
                                    "FELNOTT_SZAM": "1",
                                    "GYERMEK_SZAM": "1"
                                },
                                {
                                    "FOGLALAS_PK": "1584",
                                    "UGYFEL_FK": "kriszti",
                                    "SZOBA_FK": "67",
                                    "METTOL": "2017-03-03",
                                    "MEDDIG": "2017-03-04",
                                    "FELNOTT_SZAM": "1",
                                    "GYERMEK_SZAM": "2"
                                }
                            ]
                        },
                        "text/html": [
                            "<table>",
                            "<tr><th>FOGLALAS_PK</th><th>UGYFEL_FK</th><th>SZOBA_FK</th><th>METTOL</th><th>MEDDIG</th><th>FELNOTT_SZAM</th><th>GYERMEK_SZAM</th></tr>",
                            "<tr><td>558</td><td>NANDORF</td><td>87</td><td>2016-04-06</td><td>2016-04-10</td><td>2</td><td>1</td></tr>",
                            "<tr><td>559</td><td>ARONK</td><td>131</td><td>2016-04-06</td><td>2016-04-08</td><td>2</td><td>0</td></tr>",
                            "<tr><td>560</td><td>SEBASTIANF</td><td>6</td><td>2016-04-06</td><td>2016-04-12</td><td>2</td><td>0</td></tr>",
                            "<tr><td>561</td><td>laszlo2</td><td>42</td><td>2016-04-06</td><td>2016-04-10</td><td>2</td><td>0</td></tr>",
                            "<tr><td>562</td><td>PETERB</td><td>7</td><td>2016-04-06</td><td>2016-04-10</td><td>1</td><td>0</td></tr>",
                            "<tr><td>563</td><td>sebestyen</td><td>68</td><td>2016-04-07</td><td>2016-04-12</td><td>1</td><td>3</td></tr>",
                            "<tr><td>564</td><td>nikoletta4</td><td>5</td><td>2016-04-08</td><td>2016-04-10</td><td>1</td><td>1</td></tr>",
                            "<tr><td>565</td><td>kristof4</td><td>141</td><td>2016-04-08</td><td>2016-04-14</td><td>2</td><td>0</td></tr>",
                            "<tr><td>566</td><td>KRISZTIANM</td><td>21</td><td>2016-04-09</td><td>2016-04-15</td><td>1</td><td>1</td></tr>",
                            "<tr><td>567</td><td>anett3</td><td>170</td><td>2016-04-10</td><td>2016-04-17</td><td>1</td><td>0</td></tr>",
                            "<tr><td>568</td><td>kata</td><td>78</td><td>2016-04-10</td><td>2016-04-11</td><td>2</td><td>0</td></tr>",
                            "<tr><td>569</td><td>norbert4</td><td>10</td><td>2016-04-10</td><td>2016-04-13</td><td>2</td><td>0</td></tr>",
                            "<tr><td>570</td><td>BERNADETTO</td><td>164</td><td>2016-04-10</td><td>2016-04-17</td><td>2</td><td>0</td></tr>",
                            "<tr><td>571</td><td>AGNESH</td><td>182</td><td>2016-04-10</td><td>2016-04-12</td><td>1</td><td>1</td></tr>",
                            "<tr><td>572</td><td>katalin</td><td>83</td><td>2016-04-10</td><td>2016-04-17</td><td>1</td><td>1</td></tr>",
                            "<tr><td>573</td><td>daniel1</td><td>169</td><td>2016-04-10</td><td>2016-04-15</td><td>1</td><td>1</td></tr>",
                            "<tr><td>574</td><td>katka</td><td>171</td><td>2016-04-10</td><td>2016-04-12</td><td>2</td><td>0</td></tr>",
                            "<tr><td>575</td><td>daniel</td><td>155</td><td>2016-04-10</td><td>2016-04-11</td><td>1</td><td>3</td></tr>",
                            "<tr><td>576</td><td>aron2</td><td>125</td><td>2016-04-11</td><td>2016-04-12</td><td>1</td><td>2</td></tr>",
                            "<tr><td>577</td><td>peter4</td><td>155</td><td>2016-04-12</td><td>2016-04-15</td><td>2</td><td>1</td></tr>",
                            "<tr><td>578</td><td>anett3</td><td>185</td><td>2016-04-13</td><td>2016-04-19</td><td>2</td><td>1</td></tr>",
                            "<tr><td>579</td><td>ZSUZSAV</td><td>139</td><td>2016-04-14</td><td>2016-04-16</td><td>2</td><td>0</td></tr>",
                            "<tr><td>580</td><td>zsolt1</td><td>130</td><td>2016-04-14</td><td>2016-04-17</td><td>2</td><td>0</td></tr>",
                            "<tr><td>581</td><td>anett3</td><td>144</td><td>2016-04-15</td><td>2016-04-19</td><td>2</td><td>1</td></tr>",
                            "<tr><td>582</td><td>balazs2</td><td>137</td><td>2016-04-16</td><td>2016-04-19</td><td>1</td><td>1</td></tr>",
                            "<tr><td>583</td><td>istvan1</td><td>79</td><td>2016-04-16</td><td>2016-04-22</td><td>3</td><td>0</td></tr>",
                            "<tr><td>584</td><td>BERNADETTO</td><td>136</td><td>2016-04-17</td><td>2016-04-19</td><td>1</td><td>1</td></tr>",
                            "<tr><td>585</td><td>polla</td><td>70</td><td>2016-04-17</td><td>2016-04-22</td><td>1</td><td>2</td></tr>",
                            "<tr><td>586</td><td>BEATRIXS</td><td>107</td><td>2016-04-18</td><td>2016-04-24</td><td>1</td><td>0</td></tr>",
                            "<tr><td>587</td><td>norbert2</td><td>123</td><td>2016-04-19</td><td>2016-04-26</td><td>1</td><td>0</td></tr>",
                            "<tr><td>588</td><td>mark</td><td>156</td><td>2016-04-19</td><td>2016-04-26</td><td>2</td><td>2</td></tr>",
                            "<tr><td>589</td><td>miklos2</td><td>44</td><td>2016-04-19</td><td>2016-04-21</td><td>3</td><td>0</td></tr>",
                            "<tr><td>590</td><td>ANIKOS</td><td>42</td><td>2016-04-19</td><td>2016-04-24</td><td>1</td><td>1</td></tr>",
                            "<tr><td>591</td><td>beata4</td><td>149</td><td>2016-04-20</td><td>2016-04-21</td><td>1</td><td>1</td></tr>",
                            "<tr><td>592</td><td>julia</td><td>176</td><td>2016-04-21</td><td>2016-04-26</td><td>1</td><td>1</td></tr>",
                            "<tr><td>593</td><td>gabriella1</td><td>77</td><td>2016-04-21</td><td>2016-04-24</td><td>3</td><td>0</td></tr>",
                            "<tr><td>594</td><td>daniel</td><td>153</td><td>2016-04-22</td><td>2016-04-25</td><td>2</td><td>0</td></tr>",
                            "<tr><td>595</td><td>balint</td><td>74</td><td>2016-04-22</td><td>2016-04-29</td><td>2</td><td>0</td></tr>",
                            "<tr><td>596</td><td>SZILARDS</td><td>115</td><td>2016-04-23</td><td>2016-04-30</td><td>3</td><td>0</td></tr>",
                            "<tr><td>597</td><td>KRISZTINAG</td><td>100</td><td>2016-04-23</td><td>2016-04-24</td><td>2</td><td>0</td></tr>",
                            "<tr><td>598</td><td>ZSOLTJ</td><td>31</td><td>2016-04-24</td><td>2016-04-26</td><td>2</td><td>2</td></tr>",
                            "<tr><td>599</td><td>istvan1</td><td>162</td><td>2016-04-24</td><td>2016-04-28</td><td>3</td><td>0</td></tr>",
                            "<tr><td>600</td><td>ANDRASE</td><td>190</td><td>2016-04-24</td><td>2016-05-01</td><td>1</td><td>0</td></tr>",
                            "<tr><td>601</td><td>kata</td><td>39</td><td>2016-04-25</td><td>2016-05-01</td><td>1</td><td>0</td></tr>",
                            "<tr><td>602</td><td>sebestyen</td><td>17</td><td>2016-04-26</td><td>2016-05-02</td><td>3</td><td>1</td></tr>",
                            "<tr><td>603</td><td>gabor4</td><td>48</td><td>2016-04-26</td><td>2016-04-29</td><td>3</td><td>0</td></tr>",
                            "<tr><td>604</td><td>laszlo2</td><td>30</td><td>2016-04-27</td><td>2016-04-29</td><td>1</td><td>1</td></tr>",
                            "<tr><td>605</td><td>marton</td><td>111</td><td>2016-04-27</td><td>2016-05-04</td><td>2</td><td>1</td></tr>",
                            "<tr><td>606</td><td>AGNESH</td><td>31</td><td>2016-04-27</td><td>2016-04-28</td><td>1</td><td>3</td></tr>",
                            "<tr><td>607</td><td>anett3</td><td>96</td><td>2016-04-28</td><td>2016-05-02</td><td>2</td><td>1</td></tr>",
                            "<tr><td>608</td><td>krisztina1</td><td>184</td><td>2016-04-28</td><td>2016-04-30</td><td>2</td><td>0</td></tr>",
                            "<tr><td>609</td><td>MONIKAM</td><td>9</td><td>2016-04-29</td><td>2016-05-01</td><td>2</td><td>0</td></tr>",
                            "<tr><td>610</td><td>VIKTORIAU</td><td>106</td><td>2016-04-30</td><td>2016-05-03</td><td>1</td><td>0</td></tr>",
                            "<tr><td>611</td><td>andras3</td><td>29</td><td>2016-05-01</td><td>2016-05-06</td><td>1</td><td>1</td></tr>",
                            "<tr><td>612</td><td>bernadett2</td><td>117</td><td>2016-05-01</td><td>2016-05-03</td><td>1</td><td>1</td></tr>",
                            "<tr><td>613</td><td>csongor3</td><td>130</td><td>2016-05-01</td><td>2016-05-04</td><td>2</td><td>0</td></tr>",
                            "<tr><td>614</td><td>EVAV</td><td>109</td><td>2016-05-01</td><td>2016-05-05</td><td>1</td><td>2</td></tr>",
                            "<tr><td>615</td><td>ZOLTANT</td><td>186</td><td>2016-05-01</td><td>2016-05-04</td><td>2</td><td>1</td></tr>",
                            "<tr><td>616</td><td>JOZSEFG</td><td>94</td><td>2016-05-02</td><td>2016-05-06</td><td>2</td><td>0</td></tr>",
                            "<tr><td>617</td><td>vivien3</td><td>117</td><td>2016-05-02</td><td>2016-05-05</td><td>2</td><td>1</td></tr>",
                            "<tr><td>618</td><td>TAMASF</td><td>105</td><td>2016-05-03</td><td>2016-05-04</td><td>1</td><td>1</td></tr>",
                            "<tr><td>619</td><td>RENATAS</td><td>132</td><td>2016-05-04</td><td>2016-05-11</td><td>1</td><td>1</td></tr>",
                            "<tr><td>620</td><td>marton</td><td>1</td><td>2016-05-05</td><td>2016-05-10</td><td>1</td><td>0</td></tr>",
                            "<tr><td>621</td><td>gusztav</td><td>109</td><td>2016-05-06</td><td>2016-05-13</td><td>1</td><td>1</td></tr>",
                            "<tr><td>622</td><td>balazs1</td><td>54</td><td>2016-05-07</td><td>2016-05-14</td><td>1</td><td>1</td></tr>",
                            "<tr><td>623</td><td>csongor3</td><td>96</td><td>2016-05-08</td><td>2016-05-15</td><td>3</td><td>0</td></tr>",
                            "<tr><td>624</td><td>andi</td><td>33</td><td>2016-05-08</td><td>2016-05-14</td><td>1</td><td>3</td></tr>",
                            "<tr><td>625</td><td>ferenc1</td><td>63</td><td>2016-05-08</td><td>2016-05-11</td><td>1</td><td>1</td></tr>",
                            "<tr><td>626</td><td>bence</td><td>18</td><td>2016-05-08</td><td>2016-05-11</td><td>2</td><td>0</td></tr>",
                            "<tr><td>627</td><td>kornel4</td><td>38</td><td>2016-05-08</td><td>2016-05-14</td><td>1</td><td>2</td></tr>",
                            "<tr><td>628</td><td>agnes</td><td>48</td><td>2016-05-09</td><td>2016-05-11</td><td>3</td><td>0</td></tr>",
                            "<tr><td>629</td><td>daniel</td><td>3</td><td>2016-05-09</td><td>2016-05-13</td><td>1</td><td>2</td></tr>",
                            "<tr><td>630</td><td>ZSOLTJ</td><td>163</td><td>2016-05-09</td><td>2016-05-11</td><td>2</td><td>0</td></tr>",
                            "<tr><td>631</td><td>JANOSG</td><td>98</td><td>2016-05-09</td><td>2016-05-15</td><td>1</td><td>0</td></tr>",
                            "<tr><td>632</td><td>norbert2</td><td>99</td><td>2016-05-09</td><td>2016-05-10</td><td>2</td><td>0</td></tr>",
                            "<tr><td>633</td><td>katka</td><td>187</td><td>2016-05-09</td><td>2016-05-15</td><td>2</td><td>1</td></tr>",
                            "<tr><td>634</td><td>nikoletta4</td><td>193</td><td>2016-05-09</td><td>2016-05-15</td><td>1</td><td>1</td></tr>",
                            "<tr><td>635</td><td>daniel1</td><td>97</td><td>2016-05-10</td><td>2016-05-13</td><td>2</td><td>2</td></tr>",
                            "<tr><td>636</td><td>MATYASS</td><td>91</td><td>2016-05-10</td><td>2016-05-16</td><td>2</td><td>0</td></tr>",
                            "<tr><td>637</td><td>RENATAS</td><td>100</td><td>2016-05-11</td><td>2016-05-16</td><td>2</td><td>0</td></tr>",
                            "<tr><td>638</td><td>julia</td><td>67</td><td>2016-05-12</td><td>2016-05-17</td><td>1</td><td>0</td></tr>",
                            "<tr><td>639</td><td>zoltan4</td><td>161</td><td>2016-05-12</td><td>2016-05-16</td><td>1</td><td>2</td></tr>",
                            "<tr><td>640</td><td>sandor3</td><td>165</td><td>2016-05-12</td><td>2016-05-15</td><td>2</td><td>0</td></tr>",
                            "<tr><td>641</td><td>zoltan4</td><td>150</td><td>2016-05-13</td><td>2016-05-16</td><td>2</td><td>1</td></tr>",
                            "<tr><td>642</td><td>maria1</td><td>54</td><td>2016-05-13</td><td>2016-05-18</td><td>2</td><td>0</td></tr>",
                            "<tr><td>643</td><td>andras41</td><td>127</td><td>2016-05-14</td><td>2016-05-16</td><td>1</td><td>1</td></tr>",
                            "<tr><td>644</td><td>szilvia1</td><td>166</td><td>2016-05-14</td><td>2016-05-21</td><td>2</td><td>0</td></tr>",
                            "<tr><td>645</td><td>ARONK</td><td>67</td><td>2016-05-14</td><td>2016-05-20</td><td>2</td><td>2</td></tr>",
                            "<tr><td>646</td><td>BENCEB</td><td>78</td><td>2016-05-14</td><td>2016-05-17</td><td>1</td><td>2</td></tr>",
                            "<tr><td>647</td><td>robert2</td><td>85</td><td>2016-05-15</td><td>2016-05-18</td><td>2</td><td>0</td></tr>",
                            "<tr><td>648</td><td>krisztina1</td><td>157</td><td>2016-05-16</td><td>2016-05-20</td><td>1</td><td>0</td></tr>",
                            "<tr><td>649</td><td>tamas</td><td>137</td><td>2016-05-17</td><td>2016-05-22</td><td>1</td><td>1</td></tr>",
                            "<tr><td>650</td><td>zsuzsanna</td><td>65</td><td>2016-05-17</td><td>2016-05-23</td><td>1</td><td>1</td></tr>",
                            "<tr><td>651</td><td>aladar</td><td>4</td><td>2016-05-17</td><td>2016-05-24</td><td>1</td><td>0</td></tr>",
                            "<tr><td>652</td><td>maria1</td><td>149</td><td>2016-05-18</td><td>2016-05-19</td><td>1</td><td>0</td></tr>",
                            "<tr><td>653</td><td>david</td><td>161</td><td>2016-05-18</td><td>2016-05-25</td><td>2</td><td>0</td></tr>",
                            "<tr><td>654</td><td>bertalan</td><td>109</td><td>2016-05-18</td><td>2016-05-23</td><td>1</td><td>1</td></tr>",
                            "<tr><td>655</td><td>akos</td><td>131</td><td>2016-05-18</td><td>2016-05-19</td><td>1</td><td>1</td></tr>",
                            "<tr><td>656</td><td>kriszti</td><td>95</td><td>2016-05-19</td><td>2016-05-26</td><td>2</td><td>0</td></tr>",
                            "<tr><td>657</td><td>attila1</td><td>137</td><td>2016-05-20</td><td>2016-05-26</td><td>1</td><td>0</td></tr>",
                            "<tr><td>658</td><td>alexandra</td><td>44</td><td>2016-05-21</td><td>2016-05-27</td><td>3</td><td>0</td></tr>",
                            "<tr><td>659</td><td>krisztina</td><td>169</td><td>2016-05-21</td><td>2016-05-27</td><td>2</td><td>0</td></tr>",
                            "<tr><td>660</td><td>ATTILAO</td><td>21</td><td>2016-05-21</td><td>2016-05-26</td><td>1</td><td>2</td></tr>",
                            "<tr><td>661</td><td>katalin</td><td>136</td><td>2016-05-21</td><td>2016-05-26</td><td>1</td><td>0</td></tr>",
                            "<tr><td>662</td><td>andras41</td><td>179</td><td>2016-05-21</td><td>2016-05-23</td><td>2</td><td>2</td></tr>",
                            "<tr><td>663</td><td>NIKOLETTAT</td><td>14</td><td>2016-05-22</td><td>2016-05-23</td><td>3</td><td>1</td></tr>",
                            "<tr><td>664</td><td>matyas2</td><td>146</td><td>2016-07-13</td><td>2016-07-16</td><td>1</td><td>1</td></tr>",
                            "<tr><td>665</td><td>kati</td><td>94</td><td>2016-07-13</td><td>2016-07-20</td><td>2</td><td>0</td></tr>",
                            "<tr><td>666</td><td>agnes</td><td>3</td><td>2016-07-13</td><td>2016-07-19</td><td>2</td><td>1</td></tr>",
                            "<tr><td>667</td><td>fruzsina4</td><td>80</td><td>2016-07-13</td><td>2016-07-19</td><td>2</td><td>1</td></tr>",
                            "<tr><td>668</td><td>ZOLTANT</td><td>54</td><td>2016-07-14</td><td>2016-07-15</td><td>1</td><td>2</td></tr>",
                            "<tr><td>669</td><td>tunde</td><td>173</td><td>2016-07-14</td><td>2016-07-21</td><td>1</td><td>0</td></tr>",
                            "<tr><td>670</td><td>ARPADH</td><td>43</td><td>2016-07-14</td><td>2016-07-18</td><td>2</td><td>0</td></tr>",
                            "<tr><td>671</td><td>peter1</td><td>96</td><td>2016-07-14</td><td>2016-07-18</td><td>3</td><td>0</td></tr>",
                            "<tr><td>672</td><td>edit</td><td>185</td><td>2016-07-14</td><td>2016-07-17</td><td>3</td><td>0</td></tr>",
                            "<tr><td>673</td><td>akos</td><td>196</td><td>2016-07-14</td><td>2016-07-19</td><td>2</td><td>0</td></tr>",
                            "<tr><td>674</td><td>andras3</td><td>83</td><td>2016-07-15</td><td>2016-07-19</td><td>2</td><td>1</td></tr>",
                            "<tr><td>675</td><td>sara</td><td>193</td><td>2016-07-15</td><td>2016-07-17</td><td>3</td><td>0</td></tr>",
                            "<tr><td>676</td><td>akos</td><td>60</td><td>2016-07-16</td><td>2016-07-18</td><td>2</td><td>0</td></tr>",
                            "<tr><td>677</td><td>jozsef2</td><td>181</td><td>2016-07-16</td><td>2016-07-20</td><td>3</td><td>0</td></tr>",
                            "<tr><td>678</td><td>balazs3</td><td>148</td><td>2016-07-17</td><td>2016-07-21</td><td>2</td><td>0</td></tr>",
                            "<tr><td>679</td><td>ANIKOS</td><td>185</td><td>2016-07-17</td><td>2016-07-22</td><td>2</td><td>1</td></tr>",
                            "<tr><td>680</td><td>SEBASTIANF</td><td>192</td><td>2016-07-17</td><td>2016-07-21</td><td>1</td><td>1</td></tr>",
                            "<tr><td>681</td><td>david</td><td>71</td><td>2016-07-18</td><td>2016-07-21</td><td>1</td><td>1</td></tr>",
                            "<tr><td>682</td><td>lajos</td><td>174</td><td>2016-07-18</td><td>2016-07-21</td><td>2</td><td>0</td></tr>",
                            "<tr><td>683</td><td>GYORGYO</td><td>76</td><td>2016-07-18</td><td>2016-07-25</td><td>1</td><td>1</td></tr>",
                            "<tr><td>684</td><td>ANNAMARIAR</td><td>184</td><td>2016-07-18</td><td>2016-07-21</td><td>1</td><td>0</td></tr>",
                            "<tr><td>685</td><td>ZSOLTJ</td><td>110</td><td>2016-07-18</td><td>2016-07-19</td><td>1</td><td>1</td></tr>",
                            "<tr><td>686</td><td>sandor</td><td>35</td><td>2016-07-18</td><td>2016-07-24</td><td>1</td><td>1</td></tr>",
                            "<tr><td>687</td><td>MIKLOSB</td><td>16</td><td>2016-07-18</td><td>2016-07-21</td><td>1</td><td>1</td></tr>",
                            "<tr><td>688</td><td>ESZTERE</td><td>37</td><td>2016-07-19</td><td>2016-07-21</td><td>2</td><td>0</td></tr>",
                            "<tr><td>689</td><td>istvan1</td><td>102</td><td>2016-07-19</td><td>2016-07-24</td><td>1</td><td>0</td></tr>",
                            "<tr><td>690</td><td>denes</td><td>188</td><td>2016-07-19</td><td>2016-07-23</td><td>1</td><td>1</td></tr>",
                            "<tr><td>691</td><td>balazs2</td><td>99</td><td>2016-07-20</td><td>2016-07-25</td><td>2</td><td>0</td></tr>",
                            "<tr><td>692</td><td>julianna4</td><td>156</td><td>2016-07-20</td><td>2016-07-26</td><td>2</td><td>0</td></tr>",
                            "<tr><td>693</td><td>andras2</td><td>185</td><td>2016-07-20</td><td>2016-07-22</td><td>2</td><td>0</td></tr>",
                            "<tr><td>694</td><td>PETERB</td><td>8</td><td>2016-07-20</td><td>2016-07-24</td><td>2</td><td>0</td></tr>",
                            "<tr><td>695</td><td>veronika4</td><td>187</td><td>2016-07-20</td><td>2016-07-26</td><td>1</td><td>2</td></tr>",
                            "<tr><td>696</td><td>lala</td><td>19</td><td>2016-07-20</td><td>2016-07-21</td><td>2</td><td>1</td></tr>",
                            "<tr><td>697</td><td>andras21</td><td>12</td><td>2016-07-20</td><td>2016-07-22</td><td>1</td><td>0</td></tr>",
                            "<tr><td>698</td><td>tihamer</td><td>77</td><td>2016-07-20</td><td>2016-07-24</td><td>1</td><td>2</td></tr>",
                            "<tr><td>699</td><td>julia</td><td>189</td><td>2016-07-20</td><td>2016-07-22</td><td>1</td><td>1</td></tr>",
                            "<tr><td>700</td><td>ZOLTANP</td><td>78</td><td>2016-07-20</td><td>2016-07-25</td><td>1</td><td>2</td></tr>",
                            "<tr><td>701</td><td>andras3</td><td>61</td><td>2016-07-21</td><td>2016-07-23</td><td>2</td><td>0</td></tr>",
                            "<tr><td>702</td><td>balint2</td><td>62</td><td>2016-07-21</td><td>2016-07-26</td><td>1</td><td>0</td></tr>",
                            "<tr><td>703</td><td>balazs1</td><td>145</td><td>2016-07-22</td><td>2016-07-26</td><td>2</td><td>2</td></tr>",
                            "<tr><td>704</td><td>aniko4</td><td>70</td><td>2016-07-22</td><td>2016-07-25</td><td>2</td><td>1</td></tr>",
                            "<tr><td>705</td><td>akos</td><td>37</td><td>2016-07-22</td><td>2016-07-26</td><td>1</td><td>0</td></tr>",
                            "<tr><td>706</td><td>emese</td><td>119</td><td>2016-07-22</td><td>2016-07-24</td><td>2</td><td>0</td></tr>",
                            "<tr><td>707</td><td>MATYASS</td><td>35</td><td>2016-07-23</td><td>2016-07-25</td><td>2</td><td>1</td></tr>",
                            "<tr><td>708</td><td>MONIKAM</td><td>106</td><td>2016-07-23</td><td>2016-07-30</td><td>1</td><td>0</td></tr>",
                            "<tr><td>709</td><td>valentin</td><td>172</td><td>2016-07-24</td><td>2016-07-29</td><td>1</td><td>0</td></tr>",
                            "<tr><td>710</td><td>gabriella1</td><td>188</td><td>2016-07-24</td><td>2016-07-31</td><td>1</td><td>1</td></tr>",
                            "<tr><td>711</td><td>sara</td><td>185</td><td>2016-07-24</td><td>2016-07-27</td><td>3</td><td>0</td></tr>",
                            "<tr><td>712</td><td>zsuzsa</td><td>71</td><td>2016-07-24</td><td>2016-07-25</td><td>2</td><td>1</td></tr>",
                            "<tr><td>713</td><td>bence</td><td>17</td><td>2016-07-24</td><td>2016-07-30</td><td>1</td><td>1</td></tr>",
                            "<tr><td>714</td><td>bence</td><td>73</td><td>2016-07-25</td><td>2016-08-01</td><td>2</td><td>1</td></tr>",
                            "<tr><td>715</td><td>szilvia1</td><td>101</td><td>2016-07-25</td><td>2016-07-28</td><td>2</td><td>0</td></tr>",
                            "<tr><td>716</td><td>lala</td><td>118</td><td>2016-07-26</td><td>2016-07-27</td><td>1</td><td>2</td></tr>",
                            "<tr><td>717</td><td>balint1</td><td>128</td><td>2016-07-26</td><td>2016-07-28</td><td>1</td><td>1</td></tr>",
                            "<tr><td>718</td><td>SZILARDS</td><td>97</td><td>2016-07-27</td><td>2016-08-03</td><td>1</td><td>4</td></tr>",
                            "<tr><td>719</td><td>BELAF</td><td>58</td><td>2016-07-27</td><td>2016-07-30</td><td>2</td><td>1</td></tr>",
                            "<tr><td>720</td><td>NIKOLETTAT</td><td>160</td><td>2016-07-27</td><td>2016-07-29</td><td>1</td><td>3</td></tr>",
                            "<tr><td>721</td><td>reka4</td><td>195</td><td>2016-07-27</td><td>2016-07-31</td><td>2</td><td>0</td></tr>",
                            "<tr><td>722</td><td>andrea</td><td>119</td><td>2016-07-27</td><td>2016-07-28</td><td>1</td><td>1</td></tr>",
                            "<tr><td>723</td><td>kati</td><td>129</td><td>2016-07-27</td><td>2016-08-03</td><td>2</td><td>0</td></tr>",
                            "<tr><td>724</td><td>norbert2</td><td>135</td><td>2016-07-27</td><td>2016-08-02</td><td>2</td><td>0</td></tr>",
                            "<tr><td>725</td><td>ANDREAT</td><td>28</td><td>2016-07-27</td><td>2016-08-01</td><td>2</td><td>0</td></tr>",
                            "<tr><td>726</td><td>peter3</td><td>97</td><td>2016-07-27</td><td>2016-07-31</td><td>3</td><td>1</td></tr>",
                            "<tr><td>727</td><td>alexandra</td><td>94</td><td>2016-07-27</td><td>2016-07-30</td><td>1</td><td>1</td></tr>",
                            "<tr><td>728</td><td>balazs3</td><td>31</td><td>2016-07-27</td><td>2016-07-31</td><td>3</td><td>1</td></tr>",
                            "<tr><td>729</td><td>JUDITH</td><td>90</td><td>2016-07-28</td><td>2016-07-30</td><td>1</td><td>1</td></tr>",
                            "<tr><td>730</td><td>gabor1</td><td>152</td><td>2016-07-28</td><td>2016-07-30</td><td>2</td><td>0</td></tr>",
                            "<tr><td>731</td><td>andras41</td><td>181</td><td>2016-07-28</td><td>2016-08-03</td><td>3</td><td>0</td></tr>",
                            "<tr><td>732</td><td>krisztian4</td><td>91</td><td>2016-07-28</td><td>2016-08-01</td><td>1</td><td>1</td></tr>",
                            "<tr><td>733</td><td>katalin</td><td>140</td><td>2016-07-28</td><td>2016-07-29</td><td>1</td><td>0</td></tr>",
                            "<tr><td>734</td><td>GYORGYO</td><td>55</td><td>2016-07-28</td><td>2016-08-03</td><td>1</td><td>2</td></tr>",
                            "<tr><td>735</td><td>SZABOLCSM</td><td>121</td><td>2016-07-28</td><td>2016-08-03</td><td>2</td><td>0</td></tr>",
                            "<tr><td>736</td><td>AGNESK</td><td>66</td><td>2016-07-29</td><td>2016-08-01</td><td>2</td><td>1</td></tr>",
                            "<tr><td>737</td><td>BELAF</td><td>114</td><td>2016-07-29</td><td>2016-07-31</td><td>1</td><td>1</td></tr>",
                            "<tr><td>738</td><td>agnes</td><td>1</td><td>2016-07-30</td><td>2016-08-06</td><td>3</td><td>0</td></tr>",
                            "<tr><td>739</td><td>ROBERTP</td><td>121</td><td>2016-07-30</td><td>2016-08-05</td><td>2</td><td>0</td></tr>",
                            "<tr><td>740</td><td>zsuzsa3</td><td>182</td><td>2016-07-30</td><td>2016-08-02</td><td>2</td><td>0</td></tr>",
                            "<tr><td>741</td><td>SEBASTIANF</td><td>93</td><td>2016-07-30</td><td>2016-08-06</td><td>3</td><td>1</td></tr>",
                            "<tr><td>742</td><td>ilona3</td><td>164</td><td>2016-07-31</td><td>2016-08-06</td><td>1</td><td>1</td></tr>",
                            "<tr><td>743</td><td>zsolt1</td><td>187</td><td>2016-07-31</td><td>2016-08-02</td><td>2</td><td>0</td></tr>",
                            "<tr><td>744</td><td>andrea</td><td>17</td><td>2016-08-01</td><td>2016-08-02</td><td>1</td><td>1</td></tr>",
                            "<tr><td>745</td><td>BENCEB</td><td>139</td><td>2016-08-01</td><td>2016-08-02</td><td>2</td><td>0</td></tr>",
                            "<tr><td>746</td><td>denes</td><td>169</td><td>2016-08-01</td><td>2016-08-08</td><td>1</td><td>2</td></tr>",
                            "<tr><td>747</td><td>krisztian4</td><td>188</td><td>2016-08-01</td><td>2016-08-04</td><td>1</td><td>2</td></tr>",
                            "<tr><td>748</td><td>reka4</td><td>36</td><td>2016-08-02</td><td>2016-08-04</td><td>3</td><td>1</td></tr>",
                            "<tr><td>749</td><td>KRISZTIANM</td><td>172</td><td>2016-08-02</td><td>2016-08-08</td><td>2</td><td>2</td></tr>",
                            "<tr><td>750</td><td>edit</td><td>36</td><td>2016-08-03</td><td>2016-08-09</td><td>1</td><td>3</td></tr>",
                            "<tr><td>751</td><td>kati</td><td>139</td><td>2016-08-03</td><td>2016-08-07</td><td>2</td><td>0</td></tr>",
                            "<tr><td>752</td><td>balint1</td><td>46</td><td>2016-08-03</td><td>2016-08-08</td><td>2</td><td>0</td></tr>",
                            "<tr><td>753</td><td>VIKTORIAU</td><td>189</td><td>2016-08-03</td><td>2016-08-04</td><td>1</td><td>1</td></tr>",
                            "<tr><td>754</td><td>ilona3</td><td>126</td><td>2016-08-04</td><td>2016-08-08</td><td>2</td><td>1</td></tr>",
                            "<tr><td>755</td><td>agnes3</td><td>20</td><td>2016-08-04</td><td>2016-08-10</td><td>1</td><td>0</td></tr>",
                            "<tr><td>756</td><td>gusztav</td><td>61</td><td>2016-08-05</td><td>2016-08-11</td><td>3</td><td>0</td></tr>",
                            "<tr><td>757</td><td>david</td><td>88</td><td>2016-08-05</td><td>2016-08-12</td><td>1</td><td>0</td></tr>",
                            "<tr><td>758</td><td>ARONK</td><td>27</td><td>2016-08-05</td><td>2016-08-08</td><td>3</td><td>1</td></tr>",
                            "<tr><td>759</td><td>peter4</td><td>7</td><td>2016-08-06</td><td>2016-08-13</td><td>2</td><td>0</td></tr>",
                            "<tr><td>760</td><td>balu</td><td>131</td><td>2016-08-06</td><td>2016-08-10</td><td>2</td><td>0</td></tr>",
                            "<tr><td>761</td><td>dani</td><td>141</td><td>2016-08-06</td><td>2016-08-09</td><td>2</td><td>0</td></tr>",
                            "<tr><td>762</td><td>timea2</td><td>120</td><td>2016-08-07</td><td>2016-08-10</td><td>1</td><td>2</td></tr>",
                            "<tr><td>763</td><td>KRISZTINAG</td><td>13</td><td>2016-08-08</td><td>2016-08-12</td><td>3</td><td>0</td></tr>",
                            "<tr><td>764</td><td>mark</td><td>197</td><td>2016-08-09</td><td>2016-08-16</td><td>2</td><td>1</td></tr>",
                            "<tr><td>765</td><td>emese</td><td>148</td><td>2016-08-09</td><td>2016-08-12</td><td>1</td><td>1</td></tr>",
                            "<tr><td>766</td><td>norbert5</td><td>187</td><td>2016-08-10</td><td>2016-08-11</td><td>2</td><td>0</td></tr>",
                            "<tr><td>767</td><td>maria1</td><td>18</td><td>2016-08-11</td><td>2016-08-14</td><td>2</td><td>1</td></tr>",
                            "<tr><td>768</td><td>BEATRIXK</td><td>138</td><td>2016-08-12</td><td>2016-08-18</td><td>3</td><td>1</td></tr>",
                            "<tr><td>769</td><td>marton</td><td>63</td><td>2016-08-12</td><td>2016-08-17</td><td>2</td><td>0</td></tr>",
                            "<tr><td>770</td><td>tamara2</td><td>42</td><td>2016-08-12</td><td>2016-08-15</td><td>2</td><td>1</td></tr>",
                            "<tr><td>771</td><td>ARPADM</td><td>147</td><td>2016-08-12</td><td>2016-08-16</td><td>2</td><td>0</td></tr>",
                            "<tr><td>772</td><td>eszter</td><td>6</td><td>2016-08-12</td><td>2016-08-18</td><td>3</td><td>0</td></tr>",
                            "<tr><td>773</td><td>edit</td><td>58</td><td>2016-08-12</td><td>2016-08-14</td><td>1</td><td>1</td></tr>",
                            "<tr><td>774</td><td>vivien3</td><td>190</td><td>2016-08-13</td><td>2016-08-18</td><td>2</td><td>0</td></tr>",
                            "<tr><td>775</td><td>nikoletta4</td><td>12</td><td>2016-08-13</td><td>2016-08-17</td><td>2</td><td>1</td></tr>",
                            "<tr><td>776</td><td>pal</td><td>112</td><td>2016-08-14</td><td>2016-08-18</td><td>3</td><td>0</td></tr>",
                            "<tr><td>777</td><td>polla</td><td>34</td><td>2016-08-14</td><td>2016-08-17</td><td>2</td><td>0</td></tr>",
                            "<tr><td>778</td><td>laszlo2</td><td>19</td><td>2016-08-14</td><td>2016-08-15</td><td>2</td><td>1</td></tr>",
                            "<tr><td>779</td><td>zoltan4</td><td>130</td><td>2016-08-15</td><td>2016-08-21</td><td>1</td><td>0</td></tr>",
                            "<tr><td>780</td><td>anett3</td><td>96</td><td>2016-08-15</td><td>2016-08-16</td><td>2</td><td>0</td></tr>",
                            "<tr><td>781</td><td>PETERB</td><td>166</td><td>2016-08-16</td><td>2016-08-23</td><td>1</td><td>0</td></tr>",
                            "<tr><td>782</td><td>norbert2</td><td>163</td><td>2016-08-16</td><td>2016-08-19</td><td>1</td><td>0</td></tr>",
                            "<tr><td>783</td><td>denes</td><td>148</td><td>2016-08-16</td><td>2016-08-23</td><td>2</td><td>0</td></tr>",
                            "<tr><td>784</td><td>zoltan4</td><td>141</td><td>2016-08-16</td><td>2016-08-23</td><td>2</td><td>0</td></tr>",
                            "<tr><td>785</td><td>dora3</td><td>177</td><td>2016-08-16</td><td>2016-08-19</td><td>3</td><td>1</td></tr>",
                            "<tr><td>786</td><td>ANDRASE</td><td>111</td><td>2016-08-16</td><td>2016-08-20</td><td>1</td><td>1</td></tr>",
                            "<tr><td>787</td><td>krisztian4</td><td>50</td><td>2016-08-16</td><td>2016-08-19</td><td>1</td><td>0</td></tr>",
                            "<tr><td>788</td><td>georgij</td><td>3</td><td>2016-08-16</td><td>2016-08-22</td><td>2</td><td>2</td></tr>",
                            "<tr><td>789</td><td>JANOSG</td><td>146</td><td>2016-08-16</td><td>2016-08-23</td><td>3</td><td>0</td></tr>",
                            "<tr><td>790</td><td>veronika4</td><td>10</td><td>2016-08-16</td><td>2016-08-21</td><td>1</td><td>0</td></tr>",
                            "<tr><td>791</td><td>ROBERTI</td><td>15</td><td>2016-08-16</td><td>2016-08-21</td><td>2</td><td>0</td></tr>",
                            "<tr><td>792</td><td>polla</td><td>168</td><td>2016-08-16</td><td>2016-08-19</td><td>1</td><td>3</td></tr>",
                            "<tr><td>793</td><td>anett3</td><td>49</td><td>2016-08-17</td><td>2016-08-23</td><td>3</td><td>0</td></tr>",
                            "<tr><td>794</td><td>MATEK</td><td>168</td><td>2016-08-17</td><td>2016-08-21</td><td>2</td><td>2</td></tr>",
                            "<tr><td>795</td><td>GYONGYIK</td><td>10</td><td>2016-08-17</td><td>2016-08-21</td><td>3</td><td>0</td></tr>",
                            "<tr><td>796</td><td>andras41</td><td>138</td><td>2016-08-17</td><td>2016-08-21</td><td>3</td><td>0</td></tr>",
                            "<tr><td>797</td><td>attila4</td><td>74</td><td>2016-08-18</td><td>2016-08-23</td><td>3</td><td>1</td></tr>",
                            "<tr><td>798</td><td>tihamer</td><td>83</td><td>2016-08-18</td><td>2016-08-22</td><td>1</td><td>2</td></tr>",
                            "<tr><td>799</td><td>andras41</td><td>175</td><td>2016-08-19</td><td>2016-08-23</td><td>1</td><td>0</td></tr>",
                            "<tr><td>800</td><td>sandor</td><td>45</td><td>2016-08-20</td><td>2016-08-25</td><td>2</td><td>0</td></tr>",
                            "<tr><td>801</td><td>david</td><td>112</td><td>2016-08-20</td><td>2016-08-25</td><td>3</td><td>0</td></tr>",
                            "<tr><td>802</td><td>robert2</td><td>45</td><td>2016-08-20</td><td>2016-08-27</td><td>1</td><td>1</td></tr>",
                            "<tr><td>803</td><td>adam1</td><td>1</td><td>2016-08-20</td><td>2016-08-24</td><td>1</td><td>0</td></tr>",
                            "<tr><td>804</td><td>denes</td><td>146</td><td>2016-08-20</td><td>2016-08-27</td><td>1</td><td>2</td></tr>",
                            "<tr><td>805</td><td>balazs2</td><td>21</td><td>2016-08-21</td><td>2016-08-22</td><td>1</td><td>2</td></tr>",
                            "<tr><td>806</td><td>imre1</td><td>126</td><td>2016-08-21</td><td>2016-08-27</td><td>2</td><td>0</td></tr>",
                            "<tr><td>807</td><td>david</td><td>27</td><td>2016-08-22</td><td>2016-08-24</td><td>2</td><td>1</td></tr>",
                            "<tr><td>808</td><td>ROBERTI</td><td>148</td><td>2016-08-23</td><td>2016-08-25</td><td>2</td><td>0</td></tr>",
                            "<tr><td>809</td><td>andrea</td><td>92</td><td>2016-08-23</td><td>2016-08-26</td><td>3</td><td>0</td></tr>",
                            "<tr><td>810</td><td>imre1</td><td>109</td><td>2016-08-23</td><td>2016-08-25</td><td>1</td><td>2</td></tr>",
                            "<tr><td>811</td><td>arpad2</td><td>51</td><td>2016-08-23</td><td>2016-08-25</td><td>1</td><td>1</td></tr>",
                            "<tr><td>812</td><td>bernadett2</td><td>148</td><td>2016-08-23</td><td>2016-08-29</td><td>2</td><td>0</td></tr>",
                            "<tr><td>813</td><td>JOZSEFG</td><td>14</td><td>2016-08-24</td><td>2016-08-27</td><td>2</td><td>1</td></tr>",
                            "<tr><td>814</td><td>kata</td><td>70</td><td>2016-08-24</td><td>2016-08-27</td><td>2</td><td>1</td></tr>",
                            "<tr><td>815</td><td>peter4</td><td>128</td><td>2016-08-24</td><td>2016-08-25</td><td>1</td><td>2</td></tr>",
                            "<tr><td>816</td><td>balazs3</td><td>178</td><td>2016-08-24</td><td>2016-08-28</td><td>1</td><td>2</td></tr>",
                            "<tr><td>817</td><td>tamas</td><td>89</td><td>2016-08-24</td><td>2016-08-27</td><td>3</td><td>0</td></tr>",
                            "<tr><td>818</td><td>henrik3</td><td>8</td><td>2016-08-24</td><td>2016-08-28</td><td>1</td><td>0</td></tr>",
                            "<tr><td>819</td><td>katka</td><td>84</td><td>2016-08-24</td><td>2016-08-26</td><td>1</td><td>1</td></tr>",
                            "<tr><td>820</td><td>janos3</td><td>20</td><td>2016-08-24</td><td>2016-08-25</td><td>3</td><td>0</td></tr>",
                            "<tr><td>821</td><td>kriszti</td><td>34</td><td>2016-08-24</td><td>2016-08-25</td><td>2</td><td>1</td></tr>",
                            "<tr><td>822</td><td>zoltan</td><td>52</td><td>2016-08-24</td><td>2016-08-31</td><td>2</td><td>0</td></tr>",
                            "<tr><td>823</td><td>beata4</td><td>44</td><td>2016-08-25</td><td>2016-08-27</td><td>3</td><td>0</td></tr>",
                            "<tr><td>824</td><td>bernadett2</td><td>48</td><td>2016-08-25</td><td>2016-08-27</td><td>1</td><td>2</td></tr>",
                            "<tr><td>825</td><td>dora3</td><td>158</td><td>2016-08-25</td><td>2016-08-29</td><td>2</td><td>1</td></tr>",
                            "<tr><td>826</td><td>andrea</td><td>49</td><td>2016-08-26</td><td>2016-08-30</td><td>1</td><td>1</td></tr>",
                            "<tr><td>827</td><td>ANIKOS</td><td>114</td><td>2016-08-26</td><td>2016-09-02</td><td>1</td><td>1</td></tr>",
                            "<tr><td>828</td><td>fruzsina4</td><td>2</td><td>2016-08-27</td><td>2016-08-30</td><td>1</td><td>3</td></tr>",
                            "<tr><td>829</td><td>adam4</td><td>35</td><td>2016-08-28</td><td>2016-08-30</td><td>3</td><td>0</td></tr>",
                            "<tr><td>830</td><td>SZILARDS</td><td>74</td><td>2016-08-28</td><td>2016-08-29</td><td>2</td><td>2</td></tr>",
                            "<tr><td>831</td><td>georgij</td><td>177</td><td>2016-08-28</td><td>2016-09-04</td><td>1</td><td>1</td></tr>",
                            "<tr><td>832</td><td>brigitta</td><td>8</td><td>2016-08-28</td><td>2016-09-01</td><td>2</td><td>1</td></tr>",
                            "<tr><td>833</td><td>zsuzsa</td><td>149</td><td>2016-08-28</td><td>2016-08-30</td><td>1</td><td>1</td></tr>",
                            "<tr><td>834</td><td>krisztian4</td><td>149</td><td>2016-08-29</td><td>2016-09-03</td><td>1</td><td>0</td></tr>",
                            "<tr><td>835</td><td>IBOLYAA</td><td>193</td><td>2016-08-29</td><td>2016-08-31</td><td>2</td><td>3</td></tr>",
                            "<tr><td>836</td><td>imre1</td><td>97</td><td>2016-08-29</td><td>2016-08-31</td><td>2</td><td>0</td></tr>",
                            "<tr><td>837</td><td>andras3</td><td>104</td><td>2016-08-29</td><td>2016-09-02</td><td>3</td><td>0</td></tr>",
                            "<tr><td>838</td><td>BELAF</td><td>56</td><td>2016-08-29</td><td>2016-08-31</td><td>1</td><td>1</td></tr>",
                            "<tr><td>839</td><td>MIHALYJ</td><td>172</td><td>2016-08-29</td><td>2016-09-03</td><td>1</td><td>0</td></tr>",
                            "<tr><td>840</td><td>JANOSG</td><td>158</td><td>2016-08-30</td><td>2016-09-03</td><td>2</td><td>1</td></tr>",
                            "<tr><td>841</td><td>gabor4</td><td>92</td><td>2016-08-31</td><td>2016-09-06</td><td>3</td><td>1</td></tr>",
                            "<tr><td>842</td><td>EVAV</td><td>195</td><td>2016-08-31</td><td>2016-09-04</td><td>2</td><td>0</td></tr>",
                            "<tr><td>843</td><td>vivien3</td><td>149</td><td>2016-09-01</td><td>2016-09-05</td><td>2</td><td>0</td></tr>",
                            "<tr><td>844</td><td>gabor1</td><td>87</td><td>2016-09-02</td><td>2016-09-03</td><td>3</td><td>0</td></tr>",
                            "<tr><td>845</td><td>eva2</td><td>63</td><td>2016-09-02</td><td>2016-09-03</td><td>1</td><td>0</td></tr>",
                            "<tr><td>846</td><td>maria1</td><td>45</td><td>2016-09-02</td><td>2016-09-05</td><td>1</td><td>0</td></tr>",
                            "<tr><td>847</td><td>bence</td><td>74</td><td>2016-09-03</td><td>2016-09-06</td><td>2</td><td>1</td></tr>",
                            "<tr><td>848</td><td>roland</td><td>23</td><td>2016-09-04</td><td>2016-09-05</td><td>2</td><td>0</td></tr>",
                            "<tr><td>849</td><td>tunde</td><td>135</td><td>2016-09-05</td><td>2016-09-12</td><td>2</td><td>0</td></tr>",
                            "<tr><td>850</td><td>rajmond4</td><td>6</td><td>2016-09-05</td><td>2016-09-07</td><td>3</td><td>0</td></tr>",
                            "<tr><td>851</td><td>balazs2</td><td>42</td><td>2016-05-22</td><td>2016-05-29</td><td>2</td><td>1</td></tr>",
                            "<tr><td>852</td><td>JOZSEFG</td><td>24</td><td>2016-05-23</td><td>2016-05-25</td><td>1</td><td>0</td></tr>",
                            "<tr><td>853</td><td>nikolett3</td><td>127</td><td>2016-05-24</td><td>2016-05-29</td><td>2</td><td>0</td></tr>",
                            "<tr><td>854</td><td>KRISZTINAG</td><td>167</td><td>2016-05-24</td><td>2016-05-31</td><td>1</td><td>0</td></tr>",
                            "<tr><td>855</td><td>ANIKOS</td><td>53</td><td>2016-05-24</td><td>2016-05-25</td><td>1</td><td>2</td></tr>",
                            "<tr><td>856</td><td>valentin</td><td>16</td><td>2016-05-24</td><td>2016-05-30</td><td>2</td><td>2</td></tr>",
                            "<tr><td>857</td><td>agnes</td><td>165</td><td>2016-05-25</td><td>2016-05-30</td><td>1</td><td>0</td></tr>",
                            "<tr><td>858</td><td>sandor3</td><td>121</td><td>2016-05-25</td><td>2016-05-30</td><td>1</td><td>0</td></tr>",
                            "<tr><td>859</td><td>daniel1</td><td>86</td><td>2016-05-26</td><td>2016-05-27</td><td>2</td><td>1</td></tr>",
                            "<tr><td>860</td><td>andrea4</td><td>70</td><td>2016-05-27</td><td>2016-05-29</td><td>1</td><td>0</td></tr>",
                            "<tr><td>861</td><td>GYORGYO</td><td>124</td><td>2016-05-27</td><td>2016-05-28</td><td>2</td><td>1</td></tr>",
                            "<tr><td>862</td><td>denes</td><td>82</td><td>2016-05-27</td><td>2016-05-31</td><td>2</td><td>1</td></tr>",
                            "<tr><td>863</td><td>balazs2</td><td>185</td><td>2016-05-28</td><td>2016-06-01</td><td>2</td><td>1</td></tr>",
                            "<tr><td>864</td><td>maria1</td><td>118</td><td>2016-05-28</td><td>2016-06-03</td><td>2</td><td>0</td></tr>",
                            "<tr><td>865</td><td>polla</td><td>51</td><td>2016-05-28</td><td>2016-06-04</td><td>2</td><td>0</td></tr>",
                            "<tr><td>866</td><td>sara</td><td>88</td><td>2016-05-28</td><td>2016-05-30</td><td>1</td><td>1</td></tr>",
                            "<tr><td>867</td><td>ZSOLTJ</td><td>175</td><td>2016-05-28</td><td>2016-06-03</td><td>1</td><td>0</td></tr>",
                            "<tr><td>868</td><td>ZSUZSAV</td><td>187</td><td>2016-05-28</td><td>2016-06-01</td><td>3</td><td>1</td></tr>",
                            "<tr><td>869</td><td>adam1</td><td>83</td><td>2016-05-28</td><td>2016-06-03</td><td>3</td><td>0</td></tr>",
                            "<tr><td>870</td><td>szilvia1</td><td>34</td><td>2016-05-28</td><td>2016-06-03</td><td>1</td><td>1</td></tr>",
                            "<tr><td>871</td><td>norbert4</td><td>82</td><td>2016-05-29</td><td>2016-06-03</td><td>3</td><td>0</td></tr>",
                            "<tr><td>872</td><td>bence</td><td>28</td><td>2016-05-29</td><td>2016-06-03</td><td>1</td><td>0</td></tr>",
                            "<tr><td>873</td><td>ARPADM</td><td>6</td><td>2016-05-29</td><td>2016-06-01</td><td>2</td><td>0</td></tr>",
                            "<tr><td>874</td><td>ESZTERE</td><td>67</td><td>2016-05-30</td><td>2016-06-05</td><td>2</td><td>0</td></tr>",
                            "<tr><td>875</td><td>MIHALYJ</td><td>64</td><td>2016-05-30</td><td>2016-06-01</td><td>2</td><td>0</td></tr>",
                            "<tr><td>876</td><td>brigitta</td><td>12</td><td>2016-05-30</td><td>2016-06-06</td><td>1</td><td>2</td></tr>",
                            "<tr><td>877</td><td>nikoletta4</td><td>74</td><td>2016-05-30</td><td>2016-06-03</td><td>3</td><td>0</td></tr>",
                            "<tr><td>878</td><td>gabor4</td><td>83</td><td>2016-05-30</td><td>2016-06-05</td><td>1</td><td>0</td></tr>",
                            "<tr><td>879</td><td>VIKTORK</td><td>127</td><td>2016-05-30</td><td>2016-06-01</td><td>2</td><td>0</td></tr>",
                            "<tr><td>880</td><td>andras3</td><td>184</td><td>2016-05-30</td><td>2016-06-03</td><td>1</td><td>0</td></tr>",
                            "<tr><td>881</td><td>tihamer</td><td>131</td><td>2016-05-30</td><td>2016-06-05</td><td>1</td><td>0</td></tr>",
                            "<tr><td>882</td><td>sara</td><td>8</td><td>2016-05-30</td><td>2016-05-31</td><td>2</td><td>0</td></tr>",
                            "<tr><td>883</td><td>veronika4</td><td>58</td><td>2016-05-30</td><td>2016-06-04</td><td>1</td><td>1</td></tr>",
                            "<tr><td>884</td><td>andras2</td><td>98</td><td>2016-05-30</td><td>2016-06-04</td><td>1</td><td>0</td></tr>",
                            "<tr><td>885</td><td>kata</td><td>69</td><td>2016-05-31</td><td>2016-06-01</td><td>3</td><td>0</td></tr>",
                            "<tr><td>886</td><td>brigitta3</td><td>28</td><td>2016-06-01</td><td>2016-06-05</td><td>1</td><td>1</td></tr>",
                            "<tr><td>887</td><td>GYORGYO</td><td>80</td><td>2016-06-01</td><td>2016-06-07</td><td>2</td><td>0</td></tr>",
                            "<tr><td>888</td><td>kornel4</td><td>49</td><td>2016-06-02</td><td>2016-06-09</td><td>1</td><td>2</td></tr>",
                            "<tr><td>889</td><td>fruzsina4</td><td>54</td><td>2016-06-02</td><td>2016-06-04</td><td>2</td><td>0</td></tr>",
                            "<tr><td>890</td><td>GYONGYIK</td><td>146</td><td>2016-06-02</td><td>2016-06-05</td><td>2</td><td>1</td></tr>",
                            "<tr><td>891</td><td>MATYASS</td><td>63</td><td>2016-06-02</td><td>2016-06-08</td><td>1</td><td>0</td></tr>",
                            "<tr><td>892</td><td>LASZLON</td><td>165</td><td>2016-06-03</td><td>2016-06-06</td><td>1</td><td>0</td></tr>",
                            "<tr><td>893</td><td>zoltan4</td><td>151</td><td>2016-06-03</td><td>2016-06-06</td><td>1</td><td>0</td></tr>",
                            "<tr><td>894</td><td>krisztian4</td><td>29</td><td>2016-06-03</td><td>2016-06-04</td><td>2</td><td>0</td></tr>",
                            "<tr><td>895</td><td>tihamer</td><td>36</td><td>2016-06-03</td><td>2016-06-08</td><td>3</td><td>2</td></tr>",
                            "<tr><td>896</td><td>beata4</td><td>16</td><td>2016-06-03</td><td>2016-06-04</td><td>1</td><td>1</td></tr>",
                            "<tr><td>897</td><td>nikolett3</td><td>165</td><td>2016-06-03</td><td>2016-06-09</td><td>1</td><td>0</td></tr>",
                            "<tr><td>898</td><td>tunde</td><td>185</td><td>2016-06-03</td><td>2016-06-07</td><td>1</td><td>2</td></tr>",
                            "<tr><td>899</td><td>LASZLOA</td><td>39</td><td>2016-06-03</td><td>2016-06-09</td><td>1</td><td>1</td></tr>",
                            "<tr><td>900</td><td>BENCEB</td><td>165</td><td>2016-06-03</td><td>2016-06-09</td><td>1</td><td>1</td></tr>",
                            "<tr><td>901</td><td>KRISZTIANM</td><td>28</td><td>2016-06-04</td><td>2016-06-08</td><td>2</td><td>0</td></tr>",
                            "<tr><td>902</td><td>ARONK</td><td>72</td><td>2016-06-04</td><td>2016-06-09</td><td>1</td><td>1</td></tr>",
                            "<tr><td>903</td><td>ATTILAO</td><td>192</td><td>2016-06-04</td><td>2016-06-11</td><td>2</td><td>1</td></tr>",
                            "<tr><td>904</td><td>janos3</td><td>34</td><td>2016-06-04</td><td>2016-06-06</td><td>1</td><td>0</td></tr>",
                            "<tr><td>905</td><td>JOZSEFG</td><td>180</td><td>2016-06-04</td><td>2016-06-09</td><td>2</td><td>2</td></tr>",
                            "<tr><td>906</td><td>csongor3</td><td>22</td><td>2016-06-04</td><td>2016-06-05</td><td>1</td><td>1</td></tr>",
                            "<tr><td>907</td><td>ZOLTANP</td><td>156</td><td>2016-06-05</td><td>2016-06-08</td><td>1</td><td>1</td></tr>",
                            "<tr><td>908</td><td>arpad2</td><td>141</td><td>2016-06-05</td><td>2016-06-07</td><td>1</td><td>1</td></tr>",
                            "<tr><td>909</td><td>dani</td><td>133</td><td>2016-06-06</td><td>2016-06-10</td><td>1</td><td>2</td></tr>",
                            "<tr><td>910</td><td>sara</td><td>130</td><td>2016-06-06</td><td>2016-06-08</td><td>2</td><td>0</td></tr>",
                            "<tr><td>911</td><td>kati</td><td>161</td><td>2016-06-06</td><td>2016-06-10</td><td>1</td><td>1</td></tr>",
                            "<tr><td>912</td><td>ARPADH</td><td>188</td><td>2016-06-06</td><td>2016-06-07</td><td>3</td><td>0</td></tr>",
                            "<tr><td>913</td><td>timea2</td><td>173</td><td>2016-06-06</td><td>2016-06-07</td><td>1</td><td>1</td></tr>",
                            "<tr><td>914</td><td>kati</td><td>48</td><td>2016-06-06</td><td>2016-06-11</td><td>3</td><td>0</td></tr>",
                            "<tr><td>915</td><td>ZOLTANP</td><td>140</td><td>2016-06-06</td><td>2016-06-08</td><td>2</td><td>0</td></tr>",
                            "<tr><td>916</td><td>marton</td><td>17</td><td>2016-06-06</td><td>2016-06-08</td><td>1</td><td>2</td></tr>",
                            "<tr><td>917</td><td>zsolt1</td><td>174</td><td>2016-06-06</td><td>2016-06-08</td><td>2</td><td>0</td></tr>",
                            "<tr><td>918</td><td>tunde</td><td>11</td><td>2016-06-06</td><td>2016-06-12</td><td>2</td><td>1</td></tr>",
                            "<tr><td>919</td><td>VIKTORK</td><td>36</td><td>2016-06-06</td><td>2016-06-07</td><td>3</td><td>1</td></tr>",
                            "<tr><td>920</td><td>JUDITH</td><td>32</td><td>2016-06-06</td><td>2016-06-10</td><td>2</td><td>0</td></tr>",
                            "<tr><td>921</td><td>annamaria1</td><td>112</td><td>2016-06-06</td><td>2016-06-07</td><td>2</td><td>1</td></tr>",
                            "<tr><td>922</td><td>klaudia2</td><td>160</td><td>2016-06-06</td><td>2016-06-08</td><td>1</td><td>3</td></tr>",
                            "<tr><td>923</td><td>LASZLOA</td><td>123</td><td>2016-06-07</td><td>2016-06-11</td><td>1</td><td>0</td></tr>",
                            "<tr><td>924</td><td>balint1</td><td>40</td><td>2016-06-07</td><td>2016-06-12</td><td>2</td><td>1</td></tr>",
                            "<tr><td>925</td><td>BERNADETTO</td><td>185</td><td>2016-06-07</td><td>2016-06-13</td><td>2</td><td>1</td></tr>",
                            "<tr><td>926</td><td>julia</td><td>193</td><td>2016-06-07</td><td>2016-06-08</td><td>2</td><td>3</td></tr>",
                            "<tr><td>927</td><td>andras41</td><td>160</td><td>2016-06-07</td><td>2016-06-11</td><td>1</td><td>2</td></tr>",
                            "<tr><td>928</td><td>NIKOLETTAT</td><td>182</td><td>2016-06-07</td><td>2016-06-09</td><td>2</td><td>0</td></tr>",
                            "<tr><td>929</td><td>krisztian4</td><td>80</td><td>2016-06-07</td><td>2016-06-09</td><td>2</td><td>0</td></tr>",
                            "<tr><td>930</td><td>zsolt1</td><td>168</td><td>2016-06-07</td><td>2016-06-10</td><td>2</td><td>2</td></tr>",
                            "<tr><td>931</td><td>kata</td><td>110</td><td>2016-06-07</td><td>2016-06-12</td><td>2</td><td>0</td></tr>",
                            "<tr><td>932</td><td>ARONK</td><td>40</td><td>2016-06-07</td><td>2016-06-13</td><td>1</td><td>2</td></tr>",
                            "<tr><td>933</td><td>balint1</td><td>160</td><td>2016-06-07</td><td>2016-06-11</td><td>2</td><td>1</td></tr>",
                            "<tr><td>934</td><td>LASZLON</td><td>23</td><td>2016-06-08</td><td>2016-06-09</td><td>2</td><td>0</td></tr>",
                            "<tr><td>935</td><td>KRISZTINAG</td><td>56</td><td>2016-06-08</td><td>2016-06-12</td><td>1</td><td>0</td></tr>",
                            "<tr><td>936</td><td>ANNAMARIAR</td><td>62</td><td>2016-06-08</td><td>2016-06-11</td><td>2</td><td>0</td></tr>",
                            "<tr><td>937</td><td>alexandra</td><td>181</td><td>2016-06-08</td><td>2016-06-11</td><td>1</td><td>2</td></tr>",
                            "<tr><td>938</td><td>david</td><td>62</td><td>2016-06-09</td><td>2016-06-10</td><td>1</td><td>1</td></tr>",
                            "<tr><td>939</td><td>roland</td><td>183</td><td>2016-06-09</td><td>2016-06-13</td><td>3</td><td>0</td></tr>",
                            "<tr><td>940</td><td>sebestyen</td><td>74</td><td>2016-06-09</td><td>2016-06-14</td><td>3</td><td>1</td></tr>",
                            "<tr><td>941</td><td>BEATRIXK</td><td>163</td><td>2016-06-10</td><td>2016-06-11</td><td>2</td><td>0</td></tr>",
                            "<tr><td>942</td><td>BERNADETTO</td><td>92</td><td>2016-06-10</td><td>2016-06-16</td><td>3</td><td>1</td></tr>",
                            "<tr><td>943</td><td>csongor3</td><td>115</td><td>2016-06-10</td><td>2016-06-17</td><td>3</td><td>0</td></tr>",
                            "<tr><td>944</td><td>BEATRIXK</td><td>170</td><td>2016-06-10</td><td>2016-06-14</td><td>2</td><td>0</td></tr>",
                            "<tr><td>945</td><td>GYONGYIK</td><td>23</td><td>2016-06-10</td><td>2016-06-17</td><td>1</td><td>0</td></tr>",
                            "<tr><td>946</td><td>GYORGYO</td><td>4</td><td>2016-06-10</td><td>2016-06-15</td><td>2</td><td>0</td></tr>",
                            "<tr><td>947</td><td>LASZLOA</td><td>8</td><td>2016-06-10</td><td>2016-06-13</td><td>3</td><td>0</td></tr>",
                            "<tr><td>948</td><td>balint1</td><td>19</td><td>2016-06-10</td><td>2016-06-12</td><td>1</td><td>0</td></tr>",
                            "<tr><td>949</td><td>andras3</td><td>1</td><td>2016-06-10</td><td>2016-06-11</td><td>1</td><td>0</td></tr>",
                            "<tr><td>950</td><td>TAMASF</td><td>66</td><td>2016-06-10</td><td>2016-06-13</td><td>3</td><td>0</td></tr>",
                            "<tr><td>951</td><td>csongor3</td><td>12</td><td>2016-06-11</td><td>2016-06-14</td><td>2</td><td>0</td></tr>",
                            "<tr><td>952</td><td>BEATRIXS</td><td>196</td><td>2016-06-11</td><td>2016-06-14</td><td>1</td><td>2</td></tr>",
                            "<tr><td>953</td><td>bernadett1</td><td>117</td><td>2016-06-12</td><td>2016-06-17</td><td>2</td><td>1</td></tr>",
                            "<tr><td>954</td><td>katka</td><td>84</td><td>2016-06-13</td><td>2016-06-18</td><td>1</td><td>0</td></tr>",
                            "<tr><td>955</td><td>andi</td><td>47</td><td>2016-06-13</td><td>2016-06-14</td><td>1</td><td>0</td></tr>",
                            "<tr><td>956</td><td>katka</td><td>156</td><td>2016-06-13</td><td>2016-06-19</td><td>2</td><td>2</td></tr>",
                            "<tr><td>957</td><td>brigitta3</td><td>187</td><td>2016-06-13</td><td>2016-06-17</td><td>3</td><td>0</td></tr>",
                            "<tr><td>958</td><td>mark</td><td>181</td><td>2016-06-13</td><td>2016-06-18</td><td>2</td><td>1</td></tr>",
                            "<tr><td>959</td><td>tamas</td><td>111</td><td>2016-06-14</td><td>2016-06-21</td><td>1</td><td>1</td></tr>",
                            "<tr><td>960</td><td>ZSUZSAV</td><td>41</td><td>2016-06-15</td><td>2016-06-21</td><td>1</td><td>2</td></tr>",
                            "<tr><td>961</td><td>lala</td><td>72</td><td>2016-06-16</td><td>2016-06-22</td><td>2</td><td>0</td></tr>",
                            "<tr><td>962</td><td>georgij</td><td>117</td><td>2016-06-16</td><td>2016-06-20</td><td>1</td><td>2</td></tr>",
                            "<tr><td>963</td><td>norbert4</td><td>74</td><td>2016-06-16</td><td>2016-06-17</td><td>3</td><td>1</td></tr>",
                            "<tr><td>964</td><td>krisztina1</td><td>110</td><td>2016-06-16</td><td>2016-06-22</td><td>2</td><td>0</td></tr>",
                            "<tr><td>965</td><td>ANIKOS</td><td>5</td><td>2016-06-16</td><td>2016-06-23</td><td>1</td><td>0</td></tr>",
                            "<tr><td>966</td><td>ferenc1</td><td>114</td><td>2016-06-16</td><td>2016-06-22</td><td>1</td><td>1</td></tr>",
                            "<tr><td>967</td><td>norbert4</td><td>123</td><td>2016-06-16</td><td>2016-06-21</td><td>3</td><td>0</td></tr>",
                            "<tr><td>968</td><td>zsofi1</td><td>154</td><td>2016-06-16</td><td>2016-06-17</td><td>2</td><td>0</td></tr>",
                            "<tr><td>969</td><td>bernadett2</td><td>153</td><td>2016-06-17</td><td>2016-06-23</td><td>3</td><td>0</td></tr>",
                            "<tr><td>970</td><td>ZSOLTJ</td><td>12</td><td>2016-06-17</td><td>2016-06-19</td><td>1</td><td>1</td></tr>",
                            "<tr><td>971</td><td>SZABOLCSM</td><td>35</td><td>2016-06-18</td><td>2016-06-21</td><td>1</td><td>2</td></tr>",
                            "<tr><td>972</td><td>BEATRIXK</td><td>103</td><td>2016-06-19</td><td>2016-06-21</td><td>1</td><td>2</td></tr>",
                            "<tr><td>973</td><td>gabor1</td><td>16</td><td>2016-06-20</td><td>2016-06-21</td><td>1</td><td>3</td></tr>",
                            "<tr><td>974</td><td>bertalan</td><td>169</td><td>2016-06-20</td><td>2016-06-21</td><td>1</td><td>0</td></tr>",
                            "<tr><td>975</td><td>andras21</td><td>94</td><td>2016-06-21</td><td>2016-06-26</td><td>2</td><td>0</td></tr>",
                            "<tr><td>976</td><td>nikolett3</td><td>76</td><td>2016-06-22</td><td>2016-06-24</td><td>1</td><td>0</td></tr>",
                            "<tr><td>977</td><td>debora</td><td>193</td><td>2016-06-22</td><td>2016-06-24</td><td>3</td><td>2</td></tr>",
                            "<tr><td>978</td><td>roland</td><td>198</td><td>2016-06-22</td><td>2016-06-23</td><td>3</td><td>0</td></tr>",
                            "<tr><td>979</td><td>marton</td><td>35</td><td>2016-06-22</td><td>2016-06-29</td><td>1</td><td>1</td></tr>",
                            "<tr><td>980</td><td>AGNESH</td><td>143</td><td>2016-06-23</td><td>2016-06-26</td><td>1</td><td>0</td></tr>",
                            "<tr><td>981</td><td>maria1</td><td>171</td><td>2016-06-23</td><td>2016-06-27</td><td>1</td><td>0</td></tr>",
                            "<tr><td>982</td><td>imre1</td><td>77</td><td>2016-06-23</td><td>2016-06-26</td><td>2</td><td>2</td></tr>",
                            "<tr><td>983</td><td>andras41</td><td>80</td><td>2016-06-23</td><td>2016-06-29</td><td>2</td><td>0</td></tr>",
                            "<tr><td>984</td><td>norbert5</td><td>172</td><td>2016-06-24</td><td>2016-06-28</td><td>1</td><td>1</td></tr>",
                            "<tr><td>985</td><td>RENATAS</td><td>36</td><td>2016-06-24</td><td>2016-06-30</td><td>2</td><td>3</td></tr>",
                            "<tr><td>986</td><td>aniko</td><td>48</td><td>2016-06-25</td><td>2016-06-30</td><td>2</td><td>1</td></tr>",
                            "<tr><td>987</td><td>MIKLOSB</td><td>53</td><td>2016-06-26</td><td>2016-06-30</td><td>1</td><td>1</td></tr>",
                            "<tr><td>988</td><td>ANIKOS</td><td>133</td><td>2016-06-27</td><td>2016-06-30</td><td>1</td><td>1</td></tr>",
                            "<tr><td>989</td><td>imre1</td><td>190</td><td>2016-06-27</td><td>2016-06-28</td><td>2</td><td>0</td></tr>",
                            "<tr><td>990</td><td>MIHALYJ</td><td>6</td><td>2016-06-27</td><td>2016-07-01</td><td>1</td><td>0</td></tr>",
                            "<tr><td>991</td><td>TAMASF</td><td>178</td><td>2016-06-28</td><td>2016-07-05</td><td>1</td><td>2</td></tr>",
                            "<tr><td>992</td><td>nikoletta4</td><td>103</td><td>2016-06-29</td><td>2016-07-06</td><td>2</td><td>0</td></tr>",
                            "<tr><td>993</td><td>eszter2</td><td>197</td><td>2016-06-30</td><td>2016-07-07</td><td>3</td><td>0</td></tr>",
                            "<tr><td>994</td><td>david</td><td>118</td><td>2016-06-30</td><td>2016-07-07</td><td>1</td><td>1</td></tr>",
                            "<tr><td>995</td><td>peter3</td><td>83</td><td>2016-06-30</td><td>2016-07-05</td><td>3</td><td>0</td></tr>",
                            "<tr><td>996</td><td>fruzsina4</td><td>118</td><td>2016-07-01</td><td>2016-07-04</td><td>1</td><td>2</td></tr>",
                            "<tr><td>997</td><td>katalin4</td><td>82</td><td>2016-07-01</td><td>2016-07-07</td><td>1</td><td>0</td></tr>",
                            "<tr><td>998</td><td>ISTVANV</td><td>120</td><td>2016-07-01</td><td>2016-07-04</td><td>1</td><td>3</td></tr>",
                            "<tr><td>999</td><td>kata</td><td>132</td><td>2016-07-01</td><td>2016-07-07</td><td>2</td><td>0</td></tr>",
                            "<tr><td>1000</td><td>GYONGYIK</td><td>73</td><td>2016-07-01</td><td>2016-07-05</td><td>2</td><td>0</td></tr>",
                            "<tr><td>1001</td><td>aniko4</td><td>4</td><td>2016-07-02</td><td>2016-07-09</td><td>1</td><td>0</td></tr>",
                            "<tr><td>1002</td><td>katalin4</td><td>117</td><td>2016-07-03</td><td>2016-07-04</td><td>2</td><td>2</td></tr>",
                            "<tr><td>1003</td><td>ARONK</td><td>36</td><td>2016-07-03</td><td>2016-07-07</td><td>2</td><td>0</td></tr>",
                            "<tr><td>1004</td><td>peter2</td><td>134</td><td>2016-07-03</td><td>2016-07-08</td><td>1</td><td>1</td></tr>",
                            "<tr><td>1005</td><td>beata4</td><td>22</td><td>2016-07-03</td><td>2016-07-06</td><td>1</td><td>0</td></tr>",
                            "<tr><td>1006</td><td>kata</td><td>70</td><td>2016-07-03</td><td>2016-07-06</td><td>1</td><td>0</td></tr>",
                            "<tr><td>1007</td><td>aron2</td><td>122</td><td>2016-07-04</td><td>2016-07-06</td><td>2</td><td>1</td></tr>",
                            "<tr><td>1008</td><td>TAMASF</td><td>182</td><td>2016-07-04</td><td>2016-07-10</td><td>2</td><td>0</td></tr>",
                            "<tr><td>1009</td><td>andras21</td><td>71</td><td>2016-07-04</td><td>2016-07-05</td><td>2</td><td>1</td></tr>",
                            "<tr><td>1010</td><td>sandor</td><td>164</td><td>2016-07-04</td><td>2016-07-06</td><td>2</td><td>0</td></tr>",
                            "<tr><td>1011</td><td>JANOSP</td><td>198</td><td>2016-07-04</td><td>2016-07-11</td><td>3</td><td>0</td></tr>",
                            "<tr><td>1012</td><td>krisztina</td><td>33</td><td>2016-07-05</td><td>2016-07-12</td><td>2</td><td>1</td></tr>",
                            "<tr><td>1013</td><td>jozsef2</td><td>75</td><td>2016-07-06</td><td>2016-07-11</td><td>2</td><td>0</td></tr>",
                            "<tr><td>1014</td><td>ANDRASE</td><td>137</td><td>2016-07-06</td><td>2016-07-07</td><td>2</td><td>0</td></tr>",
                            "<tr><td>1015</td><td>katalin</td><td>174</td><td>2016-07-06</td><td>2016-07-11</td><td>1</td><td>0</td></tr>",
                            "<tr><td>1016</td><td>kata</td><td>92</td><td>2016-07-07</td><td>2016-07-09</td><td>3</td><td>0</td></tr>",
                            "<tr><td>1017</td><td>eszter2</td><td>190</td><td>2016-07-08</td><td>2016-07-09</td><td>1</td><td>0</td></tr>",
                            "<tr><td>1018</td><td>norbert</td><td>40</td><td>2016-07-08</td><td>2016-07-13</td><td>1</td><td>0</td></tr>",
                            "<tr><td>1019</td><td>balazs2</td><td>43</td><td>2016-07-08</td><td>2016-07-12</td><td>1</td><td>2</td></tr>",
                            "<tr><td>1020</td><td>KRISZTIANM</td><td>12</td><td>2016-07-09</td><td>2016-07-14</td><td>2</td><td>1</td></tr>",
                            "<tr><td>1021</td><td>csongor3</td><td>179</td><td>2016-07-09</td><td>2016-07-10</td><td>3</td><td>1</td></tr>",
                            "<tr><td>1022</td><td>gabriella1</td><td>181</td><td>2016-07-10</td><td>2016-07-11</td><td>3</td><td>0</td></tr>",
                            "<tr><td>1023</td><td>balazs2</td><td>30</td><td>2016-07-10</td><td>2016-07-17</td><td>3</td><td>0</td></tr>",
                            "<tr><td>1024</td><td>dani</td><td>134</td><td>2016-07-11</td><td>2016-07-12</td><td>2</td><td>1</td></tr>",
                            "<tr><td>1025</td><td>zsuzsanna</td><td>157</td><td>2016-07-12</td><td>2016-07-15</td><td>1</td><td>1</td></tr>",
                            "<tr><td>1026</td><td>gabor1</td><td>119</td><td>2016-07-12</td><td>2016-07-15</td><td>1</td><td>0</td></tr>",
                            "<tr><td>1027</td><td>ROBERTI</td><td>68</td><td>2016-07-12</td><td>2016-07-19</td><td>2</td><td>2</td></tr>",
                            "<tr><td>1028</td><td>norbert2</td><td>15</td><td>2016-07-13</td><td>2016-07-15</td><td>2</td><td>1</td></tr>",
                            "<tr><td>1029</td><td>katka</td><td>113</td><td>2016-09-05</td><td>2016-09-10</td><td>2</td><td>2</td></tr>",
                            "<tr><td>1030</td><td>zoltan</td><td>188</td><td>2016-09-05</td><td>2016-09-09</td><td>3</td><td>0</td></tr>",
                            "<tr><td>1031</td><td>aniko4</td><td>27</td><td>2016-09-05</td><td>2016-09-07</td><td>1</td><td>3</td></tr>",
                            "<tr><td>1032</td><td>laszlo2</td><td>146</td><td>2016-09-05</td><td>2016-09-10</td><td>2</td><td>1</td></tr>",
                            "<tr><td>1033</td><td>reka4</td><td>38</td><td>2016-09-05</td><td>2016-09-07</td><td>1</td><td>2</td></tr>",
                            "<tr><td>1034</td><td>akos</td><td>127</td><td>2016-09-06</td><td>2016-09-12</td><td>1</td><td>0</td></tr>",
                            "<tr><td>1035</td><td>bernadett2</td><td>18</td><td>2016-09-07</td><td>2016-09-13</td><td>2</td><td>1</td></tr>",
                            "<tr><td>1036</td><td>daniel</td><td>122</td><td>2016-09-08</td><td>2016-09-10</td><td>3</td><td>1</td></tr>",
                            "<tr><td>1037</td><td>ARONK</td><td>89</td><td>2016-09-08</td><td>2016-09-15</td><td>2</td><td>0</td></tr>",
                            "<tr><td>1038</td><td>ROBERTP</td><td>3</td><td>2016-09-08</td><td>2016-09-11</td><td>1</td><td>3</td></tr>",
                            "<tr><td>1039</td><td>jozsef2</td><td>191</td><td>2016-09-09</td><td>2016-09-15</td><td>1</td><td>1</td></tr>",
                            "<tr><td>1040</td><td>zsuzsa3</td><td>130</td><td>2016-09-09</td><td>2016-09-10</td><td>1</td><td>1</td></tr>",
                            "<tr><td>1041</td><td>roza2</td><td>110</td><td>2016-09-10</td><td>2016-09-13</td><td>1</td><td>1</td></tr>",
                            "<tr><td>1042</td><td>marton</td><td>139</td><td>2016-09-10</td><td>2016-09-12</td><td>1</td><td>1</td></tr>",
                            "<tr><td>1043</td><td>peter4</td><td>193</td><td>2016-09-11</td><td>2016-09-17</td><td>2</td><td>2</td></tr>",
                            "<tr><td>1044</td><td>TAMASF</td><td>13</td><td>2016-09-12</td><td>2016-09-18</td><td>3</td><td>0</td></tr>",
                            "<tr><td>1045</td><td>balazs2</td><td>134</td><td>2016-09-12</td><td>2016-09-14</td><td>2</td><td>1</td></tr>",
                            "<tr><td>1046</td><td>adam3</td><td>136</td><td>2016-09-12</td><td>2016-09-16</td><td>2</td><td>0</td></tr>",
                            "<tr><td>1047</td><td>andrea4</td><td>157</td><td>2016-09-13</td><td>2016-09-17</td><td>2</td><td>0</td></tr>",
                            "<tr><td>1048</td><td>krisztina</td><td>95</td><td>2016-09-13</td><td>2016-09-16</td><td>1</td><td>0</td></tr>",
                            "<tr><td>1049</td><td>andi</td><td>121</td><td>2016-09-13</td><td>2016-09-16</td><td>1</td><td>1</td></tr>",
                            "<tr><td>1050</td><td>jozsef</td><td>98</td><td>2016-09-13</td><td>2016-09-19</td><td>2</td><td>0</td></tr>",
                            "<tr><td>1051</td><td>SEBASTIANF</td><td>2</td><td>2016-09-14</td><td>2016-09-15</td><td>3</td><td>0</td></tr>",
                            "<tr><td>1052</td><td>MARKH</td><td>25</td><td>2016-09-14</td><td>2016-09-17</td><td>1</td><td>2</td></tr>",
                            "<tr><td>1053</td><td>ANDREAT</td><td>33</td><td>2016-09-15</td><td>2016-09-16</td><td>1</td><td>1</td></tr>",
                            "<tr><td>1054</td><td>balazs3</td><td>79</td><td>2016-09-15</td><td>2016-09-16</td><td>3</td><td>0</td></tr>",
                            "<tr><td>1055</td><td>krisztina1</td><td>69</td><td>2016-09-15</td><td>2016-09-20</td><td>1</td><td>2</td></tr>",
                            "<tr><td>1056</td><td>ARPADH</td><td>47</td><td>2016-09-16</td><td>2016-09-23</td><td>1</td><td>0</td></tr>",
                            "<tr><td>1057</td><td>balint1</td><td>86</td><td>2016-09-16</td><td>2016-09-21</td><td>1</td><td>0</td></tr>",
                            "<tr><td>1058</td><td>pal</td><td>151</td><td>2016-09-16</td><td>2016-09-19</td><td>2</td><td>0</td></tr>",
                            "<tr><td>1059</td><td>andras4</td><td>85</td><td>2016-09-17</td><td>2016-09-20</td><td>1</td><td>1</td></tr>",
                            "<tr><td>1060</td><td>imre</td><td>38</td><td>2016-09-17</td><td>2016-09-19</td><td>1</td><td>2</td></tr>",
                            "<tr><td>1061</td><td>edit</td><td>154</td><td>2016-09-17</td><td>2016-09-24</td><td>1</td><td>1</td></tr>",
                            "<tr><td>1062</td><td>SEBASTIANF</td><td>122</td><td>2016-09-17</td><td>2016-09-20</td><td>1</td><td>2</td></tr>",
                            "<tr><td>1063</td><td>ZSUZSAV</td><td>50</td><td>2016-09-18</td><td>2016-09-20</td><td>2</td><td>0</td></tr>",
                            "<tr><td>1064</td><td>georgij</td><td>139</td><td>2016-09-18</td><td>2016-09-24</td><td>2</td><td>1</td></tr>",
                            "<tr><td>1065</td><td>edit</td><td>198</td><td>2016-09-18</td><td>2016-09-21</td><td>3</td><td>0</td></tr>",
                            "<tr><td>1066</td><td>ARPADH</td><td>49</td><td>2016-09-18</td><td>2016-09-25</td><td>1</td><td>0</td></tr>",
                            "<tr><td>1067</td><td>krisztina</td><td>183</td><td>2016-09-19</td><td>2016-09-26</td><td>2</td><td>0</td></tr>",
                            "<tr><td>1068</td><td>dani</td><td>161</td><td>2016-09-19</td><td>2016-09-25</td><td>1</td><td>3</td></tr>",
                            "<tr><td>1069</td><td>sandor</td><td>2</td><td>2016-09-19</td><td>2016-09-26</td><td>3</td><td>1</td></tr>",
                            "<tr><td>1070</td><td>kata</td><td>20</td><td>2016-09-19</td><td>2016-09-20</td><td>3</td><td>0</td></tr>",
                            "<tr><td>1071</td><td>SZILARDS</td><td>80</td><td>2016-09-20</td><td>2016-09-24</td><td>1</td><td>2</td></tr>",
                            "<tr><td>1072</td><td>david1</td><td>99</td><td>2016-09-20</td><td>2016-09-21</td><td>2</td><td>0</td></tr>",
                            "<tr><td>1073</td><td>NIKOLETTAT</td><td>5</td><td>2016-09-21</td><td>2016-09-26</td><td>2</td><td>0</td></tr>",
                            "<tr><td>1074</td><td>andras41</td><td>195</td><td>2016-09-22</td><td>2016-09-29</td><td>1</td><td>0</td></tr>",
                            "<tr><td>1075</td><td>ANNAMARIAR</td><td>163</td><td>2016-09-23</td><td>2016-09-27</td><td>2</td><td>0</td></tr>",
                            "<tr><td>1076</td><td>MARKH</td><td>29</td><td>2016-09-23</td><td>2016-09-30</td><td>2</td><td>0</td></tr>",
                            "<tr><td>1077</td><td>kornel4</td><td>145</td><td>2016-09-23</td><td>2016-09-24</td><td>1</td><td>2</td></tr>",
                            "<tr><td>1078</td><td>laszlo1</td><td>38</td><td>2016-09-23</td><td>2016-09-30</td><td>2</td><td>1</td></tr>",
                            "<tr><td>1079</td><td>aladar</td><td>86</td><td>2016-09-24</td><td>2016-09-28</td><td>1</td><td>0</td></tr>",
                            "<tr><td>1080</td><td>peter4</td><td>59</td><td>2016-09-25</td><td>2016-09-26</td><td>1</td><td>2</td></tr>",
                            "<tr><td>1081</td><td>veronika4</td><td>62</td><td>2016-09-26</td><td>2016-10-03</td><td>1</td><td>1</td></tr>",
                            "<tr><td>1082</td><td>MARKH</td><td>27</td><td>2016-09-26</td><td>2016-10-01</td><td>1</td><td>3</td></tr>",
                            "<tr><td>1083</td><td>emese</td><td>109</td><td>2016-09-27</td><td>2016-09-28</td><td>2</td><td>1</td></tr>",
                            "<tr><td>1084</td><td>arpad2</td><td>59</td><td>2016-09-28</td><td>2016-09-30</td><td>2</td><td>0</td></tr>",
                            "<tr><td>1085</td><td>anita</td><td>113</td><td>2016-09-28</td><td>2016-10-02</td><td>3</td><td>1</td></tr>",
                            "<tr><td>1086</td><td>zsuzsa3</td><td>55</td><td>2016-09-28</td><td>2016-10-03</td><td>1</td><td>1</td></tr>",
                            "<tr><td>1087</td><td>ISTVANV</td><td>144</td><td>2016-09-29</td><td>2016-10-01</td><td>3</td><td>0</td></tr>",
                            "<tr><td>1088</td><td>fruzsina4</td><td>43</td><td>2016-09-29</td><td>2016-10-01</td><td>3</td><td>0</td></tr>",
                            "<tr><td>1089</td><td>reka4</td><td>120</td><td>2016-09-30</td><td>2016-10-06</td><td>1</td><td>1</td></tr>",
                            "<tr><td>1090</td><td>attila</td><td>132</td><td>2016-09-30</td><td>2016-10-07</td><td>1</td><td>2</td></tr>",
                            "<tr><td>1091</td><td>zoltan4</td><td>197</td><td>2016-09-30</td><td>2016-10-07</td><td>3</td><td>0</td></tr>",
                            "<tr><td>1092</td><td>andras2</td><td>70</td><td>2016-09-30</td><td>2016-10-03</td><td>2</td><td>0</td></tr>",
                            "<tr><td>1093</td><td>peter4</td><td>74</td><td>2016-09-30</td><td>2016-10-06</td><td>2</td><td>1</td></tr>",
                            "<tr><td>1094</td><td>andras41</td><td>175</td><td>2016-09-30</td><td>2016-10-05</td><td>1</td><td>1</td></tr>",
                            "<tr><td>1095</td><td>kriszti</td><td>194</td><td>2016-09-30</td><td>2016-10-05</td><td>2</td><td>1</td></tr>",
                            "<tr><td>1096</td><td>kristof4</td><td>54</td><td>2016-09-30</td><td>2016-10-04</td><td>2</td><td>0</td></tr>",
                            "<tr><td>1097</td><td>eszter2</td><td>95</td><td>2016-10-01</td><td>2016-10-05</td><td>1</td><td>2</td></tr>",
                            "<tr><td>1098</td><td>BEATRIXS</td><td>140</td><td>2016-10-01</td><td>2016-10-03</td><td>2</td><td>1</td></tr>",
                            "<tr><td>1099</td><td>BEATRIXS</td><td>6</td><td>2016-10-01</td><td>2016-10-05</td><td>1</td><td>2</td></tr>",
                            "<tr><td>1100</td><td>ZSOLTJ</td><td>150</td><td>2016-10-01</td><td>2016-10-06</td><td>2</td><td>0</td></tr>",
                            "<tr><td>1101</td><td>andras21</td><td>89</td><td>2016-10-01</td><td>2016-10-06</td><td>3</td><td>0</td></tr>",
                            "<tr><td>1102</td><td>dani</td><td>108</td><td>2016-10-01</td><td>2016-10-02</td><td>1</td><td>0</td></tr>",
                            "<tr><td>1103</td><td>vivien3</td><td>87</td><td>2016-10-01</td><td>2016-10-04</td><td>1</td><td>0</td></tr>",
                            "<tr><td>1104</td><td>david1</td><td>77</td><td>2016-10-01</td><td>2016-10-02</td><td>2</td><td>0</td></tr>",
                            "<tr><td>1105</td><td>kriszti</td><td>150</td><td>2016-10-01</td><td>2016-10-02</td><td>2</td><td>1</td></tr>",
                            "<tr><td>1106</td><td>gusztav</td><td>20</td><td>2016-10-01</td><td>2016-10-03</td><td>2</td><td>1</td></tr>",
                            "<tr><td>1107</td><td>MATEK</td><td>163</td><td>2016-10-01</td><td>2016-10-04</td><td>1</td><td>1</td></tr>",
                            "<tr><td>1108</td><td>klaudia2</td><td>86</td><td>2016-10-01</td><td>2016-10-02</td><td>2</td><td>0</td></tr>",
                            "<tr><td>1109</td><td>eszter2</td><td>110</td><td>2016-10-01</td><td>2016-10-06</td><td>1</td><td>0</td></tr>",
                            "<tr><td>1110</td><td>SZILARDS</td><td>3</td><td>2016-10-01</td><td>2016-10-08</td><td>1</td><td>2</td></tr>",
                            "<tr><td>1111</td><td>LASZLON</td><td>132</td><td>2016-10-01</td><td>2016-10-04</td><td>2</td><td>1</td></tr>",
                            "<tr><td>1112</td><td>beata4</td><td>155</td><td>2016-10-01</td><td>2016-10-05</td><td>1</td><td>0</td></tr>",
                            "<tr><td>1113</td><td>anita</td><td>58</td><td>2016-10-01</td><td>2016-10-04</td><td>2</td><td>0</td></tr>",
                            "<tr><td>1114</td><td>gabriella10</td><td>20</td><td>2016-10-01</td><td>2016-10-06</td><td>2</td><td>1</td></tr>",
                            "<tr><td>1115</td><td>klaudia2</td><td>151</td><td>2016-10-02</td><td>2016-10-05</td><td>1</td><td>1</td></tr>",
                            "<tr><td>1116</td><td>rajmond4</td><td>198</td><td>2016-10-03</td><td>2016-10-04</td><td>3</td><td>0</td></tr>",
                            "<tr><td>1117</td><td>beata4</td><td>158</td><td>2016-10-03</td><td>2016-10-06</td><td>2</td><td>1</td></tr>",
                            "<tr><td>1118</td><td>janos3</td><td>40</td><td>2016-10-03</td><td>2016-10-08</td><td>2</td><td>1</td></tr>",
                            "<tr><td>1119</td><td>eszter</td><td>83</td><td>2016-10-04</td><td>2016-10-10</td><td>1</td><td>2</td></tr>",
                            "<tr><td>1120</td><td>BERNADETTO</td><td>145</td><td>2016-10-04</td><td>2016-10-05</td><td>1</td><td>1</td></tr>",
                            "<tr><td>1121</td><td>andras21</td><td>115</td><td>2016-10-04</td><td>2016-10-11</td><td>1</td><td>2</td></tr>",
                            "<tr><td>1122</td><td>akos</td><td>64</td><td>2016-10-05</td><td>2016-10-09</td><td>2</td><td>0</td></tr>",
                            "<tr><td>1123</td><td>norbert4</td><td>11</td><td>2016-10-05</td><td>2016-10-10</td><td>2</td><td>1</td></tr>",
                            "<tr><td>1124</td><td>sara</td><td>112</td><td>2016-10-06</td><td>2016-10-12</td><td>1</td><td>2</td></tr>",
                            "<tr><td>1125</td><td>eva</td><td>185</td><td>2016-10-06</td><td>2016-10-09</td><td>3</td><td>0</td></tr>",
                            "<tr><td>1126</td><td>andras2</td><td>70</td><td>2016-10-07</td><td>2016-10-10</td><td>1</td><td>2</td></tr>",
                            "<tr><td>1127</td><td>istvan</td><td>4</td><td>2016-10-07</td><td>2016-10-10</td><td>2</td><td>0</td></tr>",
                            "<tr><td>1128</td><td>ANDREAT</td><td>121</td><td>2016-10-08</td><td>2016-10-12</td><td>1</td><td>2</td></tr>",
                            "<tr><td>1129</td><td>ROBERTI</td><td>15</td><td>2016-10-08</td><td>2016-10-12</td><td>1</td><td>2</td></tr>",
                            "<tr><td>1130</td><td>bernadett1</td><td>22</td><td>2016-10-08</td><td>2016-10-09</td><td>3</td><td>1</td></tr>",
                            "<tr><td>1131</td><td>ferenc1</td><td>7</td><td>2016-10-08</td><td>2016-10-09</td><td>2</td><td>0</td></tr>",
                            "<tr><td>1132</td><td>ANIKOS</td><td>4</td><td>2016-10-08</td><td>2016-10-14</td><td>1</td><td>1</td></tr>",
                            "<tr><td>1133</td><td>jozsef</td><td>175</td><td>2016-10-08</td><td>2016-10-10</td><td>1</td><td>1</td></tr>",
                            "<tr><td>1134</td><td>miklos2</td><td>126</td><td>2016-10-08</td><td>2016-10-09</td><td>1</td><td>0</td></tr>",
                            "<tr><td>1135</td><td>attila1</td><td>45</td><td>2016-10-09</td><td>2016-10-12</td><td>2</td><td>0</td></tr>",
                            "<tr><td>1136</td><td>LASZLON</td><td>30</td><td>2016-10-09</td><td>2016-10-14</td><td>1</td><td>0</td></tr>",
                            "<tr><td>1137</td><td>balint</td><td>1</td><td>2016-10-09</td><td>2016-10-11</td><td>1</td><td>1</td></tr>",
                            "<tr><td>1138</td><td>sandor3</td><td>198</td><td>2016-10-09</td><td>2016-10-14</td><td>2</td><td>0</td></tr>",
                            "<tr><td>1139</td><td>peter4</td><td>19</td><td>2016-10-09</td><td>2016-10-16</td><td>1</td><td>2</td></tr>",
                            "<tr><td>1140</td><td>dora3</td><td>12</td><td>2016-10-09</td><td>2016-10-12</td><td>2</td><td>1</td></tr>",
                            "<tr><td>1141</td><td>ROBERTI</td><td>165</td><td>2016-10-09</td><td>2016-10-10</td><td>2</td><td>0</td></tr>",
                            "<tr><td>1142</td><td>andras41</td><td>172</td><td>2016-10-09</td><td>2016-10-13</td><td>2</td><td>0</td></tr>",
                            "<tr><td>1143</td><td>MATYASS</td><td>176</td><td>2016-10-09</td><td>2016-10-15</td><td>2</td><td>1</td></tr>",
                            "<tr><td>1144</td><td>szilvia1</td><td>41</td><td>2016-10-09</td><td>2016-10-10</td><td>3</td><td>0</td></tr>",
                            "<tr><td>1145</td><td>tibor</td><td>145</td><td>2016-10-09</td><td>2016-10-13</td><td>1</td><td>1</td></tr>",
                            "<tr><td>1146</td><td>peter2</td><td>149</td><td>2016-10-10</td><td>2016-10-16</td><td>2</td><td>0</td></tr>",
                            "<tr><td>1147</td><td>brigitta3</td><td>183</td><td>2016-10-10</td><td>2016-10-14</td><td>1</td><td>1</td></tr>",
                            "<tr><td>1148</td><td>sara</td><td>61</td><td>2016-10-11</td><td>2016-10-14</td><td>2</td><td>1</td></tr>",
                            "<tr><td>1149</td><td>anett3</td><td>133</td><td>2016-10-12</td><td>2016-10-19</td><td>3</td><td>0</td></tr>",
                            "<tr><td>1150</td><td>arpad2</td><td>28</td><td>2016-10-13</td><td>2016-10-19</td><td>2</td><td>1</td></tr>",
                            "<tr><td>1151</td><td>VIKTORIAU</td><td>3</td><td>2016-10-14</td><td>2016-10-15</td><td>1</td><td>2</td></tr>",
                            "<tr><td>1152</td><td>attila1</td><td>1</td><td>2016-10-15</td><td>2016-10-16</td><td>3</td><td>0</td></tr>",
                            "<tr><td>1153</td><td>andras41</td><td>186</td><td>2016-10-15</td><td>2016-10-18</td><td>1</td><td>2</td></tr>",
                            "<tr><td>1154</td><td>attila</td><td>115</td><td>2016-10-15</td><td>2016-10-19</td><td>1</td><td>0</td></tr>",
                            "<tr><td>1155</td><td>bernadett1</td><td>143</td><td>2016-10-15</td><td>2016-10-22</td><td>2</td><td>1</td></tr>",
                            "<tr><td>1156</td><td>sandor4</td><td>140</td><td>2016-10-15</td><td>2016-10-18</td><td>1</td><td>0</td></tr>",
                            "<tr><td>1157</td><td>EVAV</td><td>9</td><td>2016-10-15</td><td>2016-10-21</td><td>3</td><td>0</td></tr>",
                            "<tr><td>1158</td><td>aniko4</td><td>26</td><td>2016-10-16</td><td>2016-10-18</td><td>1</td><td>2</td></tr>",
                            "<tr><td>1159</td><td>anett3</td><td>73</td><td>2016-10-16</td><td>2016-10-21</td><td>1</td><td>0</td></tr>",
                            "<tr><td>1160</td><td>EVAV</td><td>152</td><td>2016-10-16</td><td>2016-10-23</td><td>1</td><td>1</td></tr>",
                            "<tr><td>1161</td><td>krisztian4</td><td>198</td><td>2016-10-17</td><td>2016-10-22</td><td>3</td><td>0</td></tr>",
                            "<tr><td>1162</td><td>AGNESK</td><td>110</td><td>2016-10-17</td><td>2016-10-19</td><td>1</td><td>1</td></tr>",
                            "<tr><td>1163</td><td>SZABOLCSM</td><td>55</td><td>2016-10-17</td><td>2016-10-19</td><td>2</td><td>0</td></tr>",
                            "<tr><td>1164</td><td>akos</td><td>12</td><td>2016-10-18</td><td>2016-10-23</td><td>2</td><td>0</td></tr>",
                            "<tr><td>1165</td><td>adam1</td><td>51</td><td>2016-10-19</td><td>2016-10-24</td><td>2</td><td>0</td></tr>",
                            "<tr><td>1166</td><td>tihamer</td><td>122</td><td>2016-10-19</td><td>2016-10-23</td><td>1</td><td>1</td></tr>",
                            "<tr><td>1167</td><td>PETERB</td><td>24</td><td>2016-10-19</td><td>2016-10-20</td><td>3</td><td>1</td></tr>",
                            "<tr><td>1168</td><td>ZOLTANP</td><td>154</td><td>2016-10-19</td><td>2016-10-25</td><td>2</td><td>0</td></tr>",
                            "<tr><td>1169</td><td>gabor1</td><td>93</td><td>2016-10-20</td><td>2016-10-24</td><td>1</td><td>0</td></tr>",
                            "<tr><td>1170</td><td>tibor2</td><td>59</td><td>2016-10-20</td><td>2016-10-25</td><td>2</td><td>0</td></tr>",
                            "<tr><td>1171</td><td>eszter2</td><td>172</td><td>2016-10-20</td><td>2016-10-25</td><td>1</td><td>0</td></tr>",
                            "<tr><td>1172</td><td>mark</td><td>197</td><td>2016-10-20</td><td>2016-10-27</td><td>1</td><td>0</td></tr>",
                            "<tr><td>1173</td><td>andrea</td><td>18</td><td>2016-10-21</td><td>2016-10-27</td><td>2</td><td>2</td></tr>",
                            "<tr><td>1174</td><td>brigitta</td><td>90</td><td>2016-10-21</td><td>2016-10-28</td><td>3</td><td>0</td></tr>",
                            "<tr><td>1175</td><td>alexandra</td><td>7</td><td>2016-10-21</td><td>2016-10-25</td><td>2</td><td>0</td></tr>",
                            "<tr><td>1176</td><td>zoltan4</td><td>177</td><td>2016-10-21</td><td>2016-10-24</td><td>1</td><td>4</td></tr>",
                            "<tr><td>1177</td><td>janos3</td><td>150</td><td>2016-10-22</td><td>2016-10-23</td><td>1</td><td>0</td></tr>",
                            "<tr><td>1178</td><td>nikolett3</td><td>134</td><td>2016-10-22</td><td>2016-10-29</td><td>3</td><td>0</td></tr>",
                            "<tr><td>1179</td><td>BENCEB</td><td>74</td><td>2016-10-22</td><td>2016-10-29</td><td>2</td><td>1</td></tr>",
                            "<tr><td>1180</td><td>agnes3</td><td>104</td><td>2016-10-22</td><td>2016-10-23</td><td>2</td><td>1</td></tr>",
                            "<tr><td>1181</td><td>sandor3</td><td>171</td><td>2016-10-23</td><td>2016-10-29</td><td>2</td><td>1</td></tr>",
                            "<tr><td>1182</td><td>aron2</td><td>7</td><td>2016-10-23</td><td>2016-10-27</td><td>2</td><td>0</td></tr>",
                            "<tr><td>1183</td><td>robert2</td><td>185</td><td>2016-10-23</td><td>2016-10-28</td><td>1</td><td>2</td></tr>",
                            "<tr><td>1184</td><td>IBOLYAA</td><td>195</td><td>2016-10-23</td><td>2016-10-28</td><td>2</td><td>0</td></tr>",
                            "<tr><td>1185</td><td>BEATRIXK</td><td>29</td><td>2016-10-23</td><td>2016-10-28</td><td>1</td><td>1</td></tr>",
                            "<tr><td>1186</td><td>ROBERTI</td><td>58</td><td>2016-10-23</td><td>2016-10-29</td><td>1</td><td>0</td></tr>",
                            "<tr><td>1187</td><td>eszter2</td><td>46</td><td>2016-10-23</td><td>2016-10-30</td><td>1</td><td>0</td></tr>",
                            "<tr><td>1188</td><td>peter4</td><td>182</td><td>2016-10-24</td><td>2016-10-25</td><td>2</td><td>0</td></tr>",
                            "<tr><td>1189</td><td>tunde</td><td>89</td><td>2016-10-24</td><td>2016-10-30</td><td>3</td><td>0</td></tr>",
                            "<tr><td>1190</td><td>MATYASS</td><td>161</td><td>2016-10-24</td><td>2016-10-31</td><td>1</td><td>0</td></tr>",
                            "<tr><td>1191</td><td>szilvia1</td><td>59</td><td>2016-10-25</td><td>2016-10-31</td><td>2</td><td>1</td></tr>",
                            "<tr><td>1192</td><td>kati</td><td>117</td><td>2016-10-26</td><td>2016-10-28</td><td>2</td><td>0</td></tr>",
                            "<tr><td>1193</td><td>eszter</td><td>143</td><td>2016-10-26</td><td>2016-11-01</td><td>2</td><td>1</td></tr>",
                            "<tr><td>1194</td><td>zoltan4</td><td>170</td><td>2016-10-26</td><td>2016-10-30</td><td>1</td><td>1</td></tr>",
                            "<tr><td>1195</td><td>sebestyen</td><td>22</td><td>2016-10-26</td><td>2016-11-01</td><td>1</td><td>4</td></tr>",
                            "<tr><td>1196</td><td>timea2</td><td>88</td><td>2016-10-26</td><td>2016-10-29</td><td>3</td><td>0</td></tr>",
                            "<tr><td>1197</td><td>ROBERTI</td><td>152</td><td>2016-10-26</td><td>2016-11-01</td><td>2</td><td>0</td></tr>",
                            "<tr><td>1198</td><td>katalin</td><td>18</td><td>2016-10-26</td><td>2016-10-30</td><td>1</td><td>1</td></tr>",
                            "<tr><td>1199</td><td>VIKTORIAU</td><td>144</td><td>2016-10-26</td><td>2016-11-02</td><td>2</td><td>2</td></tr>",
                            "<tr><td>1200</td><td>bernadett1</td><td>49</td><td>2016-10-26</td><td>2016-11-02</td><td>3</td><td>0</td></tr>",
                            "<tr><td>1201</td><td>peter1</td><td>137</td><td>2016-10-26</td><td>2016-11-01</td><td>1</td><td>2</td></tr>",
                            "<tr><td>1202</td><td>ZSUZSAV</td><td>52</td><td>2016-10-26</td><td>2016-10-28</td><td>1</td><td>0</td></tr>",
                            "<tr><td>1203</td><td>valentin</td><td>150</td><td>2016-10-26</td><td>2016-10-30</td><td>2</td><td>1</td></tr>",
                            "<tr><td>1204</td><td>RENATAK</td><td>189</td><td>2016-10-27</td><td>2016-10-29</td><td>2</td><td>2</td></tr>",
                            "<tr><td>1205</td><td>adam4</td><td>162</td><td>2016-10-27</td><td>2016-11-02</td><td>3</td><td>0</td></tr>",
                            "<tr><td>1206</td><td>zsuzsa3</td><td>22</td><td>2016-10-27</td><td>2016-11-03</td><td>1</td><td>3</td></tr>",
                            "<tr><td>1207</td><td>szilvia1</td><td>43</td><td>2016-10-27</td><td>2016-10-28</td><td>1</td><td>1</td></tr>",
                            "<tr><td>1208</td><td>SZABOLCSM</td><td>58</td><td>2016-10-28</td><td>2016-11-03</td><td>2</td><td>1</td></tr>",
                            "<tr><td>1209</td><td>imre</td><td>122</td><td>2016-10-28</td><td>2016-10-29</td><td>3</td><td>1</td></tr>",
                            "<tr><td>1210</td><td>bernadett1</td><td>124</td><td>2016-10-28</td><td>2016-11-01</td><td>3</td><td>0</td></tr>",
                            "<tr><td>1211</td><td>norbert4</td><td>178</td><td>2016-10-28</td><td>2016-10-31</td><td>2</td><td>1</td></tr>",
                            "<tr><td>1212</td><td>sara</td><td>21</td><td>2016-10-28</td><td>2016-11-03</td><td>2</td><td>0</td></tr>",
                            "<tr><td>1213</td><td>GYORGYO</td><td>91</td><td>2016-10-28</td><td>2016-10-31</td><td>1</td><td>0</td></tr>",
                            "<tr><td>1214</td><td>debora</td><td>39</td><td>2016-10-29</td><td>2016-11-03</td><td>1</td><td>1</td></tr>",
                            "<tr><td>1215</td><td>dora3</td><td>121</td><td>2016-10-29</td><td>2016-11-02</td><td>2</td><td>1</td></tr>",
                            "<tr><td>1216</td><td>ANIKOS</td><td>198</td><td>2016-10-29</td><td>2016-11-05</td><td>1</td><td>2</td></tr>",
                            "<tr><td>1217</td><td>krisztina1</td><td>93</td><td>2016-10-29</td><td>2016-10-30</td><td>2</td><td>2</td></tr>",
                            "<tr><td>1218</td><td>julianna4</td><td>61</td><td>2016-10-29</td><td>2016-10-31</td><td>3</td><td>0</td></tr>",
                            "<tr><td>1219</td><td>attila1</td><td>134</td><td>2016-10-30</td><td>2016-11-05</td><td>1</td><td>1</td></tr>",
                            "<tr><td>1220</td><td>bence</td><td>9</td><td>2016-10-30</td><td>2016-11-02</td><td>2</td><td>2</td></tr>",
                            "<tr><td>1221</td><td>kati</td><td>49</td><td>2016-10-30</td><td>2016-11-01</td><td>3</td><td>0</td></tr>",
                            "<tr><td>1222</td><td>peter4</td><td>143</td><td>2016-10-30</td><td>2016-11-01</td><td>3</td><td>0</td></tr>",
                            "<tr><td>1223</td><td>lala</td><td>123</td><td>2016-10-30</td><td>2016-10-31</td><td>3</td><td>0</td></tr>",
                            "<tr><td>1224</td><td>RENATAK</td><td>50</td><td>2016-10-30</td><td>2016-10-31</td><td>1</td><td>0</td></tr>",
                            "<tr><td>1225</td><td>AGNESH</td><td>69</td><td>2016-10-30</td><td>2016-11-04</td><td>1</td><td>0</td></tr>",
                            "<tr><td>1226</td><td>MATYASS</td><td>127</td><td>2016-10-30</td><td>2016-11-04</td><td>1</td><td>2</td></tr>",
                            "<tr><td>1227</td><td>david</td><td>43</td><td>2016-10-30</td><td>2016-11-04</td><td>2</td><td>0</td></tr>",
                            "<tr><td>1228</td><td>peter3</td><td>106</td><td>2016-10-30</td><td>2016-11-06</td><td>2</td><td>0</td></tr>",
                            "<tr><td>1229</td><td>bernadett2</td><td>79</td><td>2016-10-30</td><td>2016-11-06</td><td>3</td><td>0</td></tr>",
                            "<tr><td>1230</td><td>zoltan4</td><td>182</td><td>2016-10-30</td><td>2016-11-06</td><td>1</td><td>0</td></tr>",
                            "<tr><td>1231</td><td>ATTILAO</td><td>182</td><td>2016-10-30</td><td>2016-11-03</td><td>2</td><td>0</td></tr>",
                            "<tr><td>1232</td><td>andrea4</td><td>55</td><td>2016-10-30</td><td>2016-11-06</td><td>1</td><td>2</td></tr>",
                            "<tr><td>1233</td><td>norbert2</td><td>64</td><td>2016-10-31</td><td>2016-11-07</td><td>1</td><td>1</td></tr>",
                            "<tr><td>1234</td><td>MIHALYJ</td><td>66</td><td>2016-11-01</td><td>2016-11-04</td><td>1</td><td>2</td></tr>",
                            "<tr><td>1235</td><td>ESZTERE</td><td>29</td><td>2016-11-01</td><td>2016-11-08</td><td>1</td><td>1</td></tr>",
                            "<tr><td>1236</td><td>peter2</td><td>11</td><td>2016-11-01</td><td>2016-11-02</td><td>2</td><td>0</td></tr>",
                            "<tr><td>1237</td><td>krisztian4</td><td>19</td><td>2016-11-02</td><td>2016-11-03</td><td>2</td><td>0</td></tr>",
                            "<tr><td>1238</td><td>BELAF</td><td>193</td><td>2016-11-03</td><td>2016-11-09</td><td>1</td><td>3</td></tr>",
                            "<tr><td>1239</td><td>balazs2</td><td>59</td><td>2016-11-03</td><td>2016-11-05</td><td>1</td><td>2</td></tr>",
                            "<tr><td>1240</td><td>ARONK</td><td>157</td><td>2016-11-03</td><td>2016-11-10</td><td>1</td><td>1</td></tr>",
                            "<tr><td>1241</td><td>bertalan</td><td>94</td><td>2016-11-03</td><td>2016-11-10</td><td>1</td><td>1</td></tr>",
                            "<tr><td>1242</td><td>NANDORF</td><td>178</td><td>2016-11-03</td><td>2016-11-04</td><td>1</td><td>2</td></tr>",
                            "<tr><td>1243</td><td>brigitta3</td><td>48</td><td>2016-11-03</td><td>2016-11-09</td><td>3</td><td>0</td></tr>",
                            "<tr><td>1244</td><td>julianna4</td><td>15</td><td>2016-11-03</td><td>2016-11-04</td><td>2</td><td>0</td></tr>",
                            "<tr><td>1245</td><td>ilona3</td><td>122</td><td>2016-11-04</td><td>2016-11-06</td><td>2</td><td>2</td></tr>",
                            "<tr><td>1246</td><td>eszter2</td><td>69</td><td>2016-11-05</td><td>2016-11-12</td><td>2</td><td>2</td></tr>",
                            "<tr><td>1247</td><td>katka</td><td>117</td><td>2016-11-05</td><td>2016-11-08</td><td>2</td><td>1</td></tr>",
                            "<tr><td>1248</td><td>ARONK</td><td>186</td><td>2016-11-05</td><td>2016-11-07</td><td>1</td><td>1</td></tr>",
                            "<tr><td>1249</td><td>aron2</td><td>168</td><td>2016-11-05</td><td>2016-11-09</td><td>1</td><td>1</td></tr>",
                            "<tr><td>1250</td><td>emese</td><td>107</td><td>2016-11-05</td><td>2016-11-09</td><td>1</td><td>0</td></tr>",
                            "<tr><td>1251</td><td>tibor</td><td>184</td><td>2016-11-05</td><td>2016-11-09</td><td>1</td><td>0</td></tr>",
                            "<tr><td>1252</td><td>norbert5</td><td>7</td><td>2016-11-05</td><td>2016-11-07</td><td>1</td><td>0</td></tr>",
                            "<tr><td>1253</td><td>roland1</td><td>89</td><td>2016-11-05</td><td>2016-11-07</td><td>2</td><td>1</td></tr>",
                            "<tr><td>1254</td><td>denes</td><td>141</td><td>2016-11-06</td><td>2016-11-10</td><td>1</td><td>1</td></tr>",
                            "<tr><td>1255</td><td>eva2</td><td>58</td><td>2016-11-06</td><td>2016-11-13</td><td>2</td><td>0</td></tr>",
                            "<tr><td>1256</td><td>arpad2</td><td>138</td><td>2016-11-06</td><td>2016-11-10</td><td>2</td><td>0</td></tr>",
                            "<tr><td>1257</td><td>balint1</td><td>5</td><td>2016-11-07</td><td>2016-11-10</td><td>1</td><td>1</td></tr>",
                            "<tr><td>1258</td><td>julia4</td><td>52</td><td>2016-11-07</td><td>2016-11-12</td><td>1</td><td>0</td></tr>",
                            "<tr><td>1259</td><td>JANOSG</td><td>140</td><td>2016-11-07</td><td>2016-11-14</td><td>1</td><td>2</td></tr>",
                            "<tr><td>1260</td><td>gabor4</td><td>9</td><td>2016-11-07</td><td>2016-11-13</td><td>3</td><td>1</td></tr>",
                            "<tr><td>1261</td><td>agnes</td><td>58</td><td>2016-11-07</td><td>2016-11-13</td><td>1</td><td>1</td></tr>",
                            "<tr><td>1262</td><td>ferenc1</td><td>154</td><td>2016-11-07</td><td>2016-11-08</td><td>1</td><td>2</td></tr>",
                            "<tr><td>1263</td><td>rajmond4</td><td>113</td><td>2016-11-08</td><td>2016-11-09</td><td>2</td><td>2</td></tr>",
                            "<tr><td>1264</td><td>maria1</td><td>66</td><td>2016-11-08</td><td>2016-11-12</td><td>2</td><td>1</td></tr>",
                            "<tr><td>1265</td><td>GYONGYIK</td><td>163</td><td>2016-11-08</td><td>2016-11-13</td><td>2</td><td>0</td></tr>",
                            "<tr><td>1266</td><td>krisztina</td><td>168</td><td>2016-11-08</td><td>2016-11-12</td><td>2</td><td>0</td></tr>",
                            "<tr><td>1267</td><td>MONIKAM</td><td>170</td><td>2016-11-09</td><td>2016-11-16</td><td>1</td><td>1</td></tr>",
                            "<tr><td>1268</td><td>ARPADM</td><td>78</td><td>2016-11-09</td><td>2016-11-11</td><td>1</td><td>1</td></tr>",
                            "<tr><td>1269</td><td>daniel1</td><td>89</td><td>2016-11-09</td><td>2016-11-11</td><td>2</td><td>0</td></tr>",
                            "<tr><td>1270</td><td>attila1</td><td>43</td><td>2016-11-10</td><td>2016-11-14</td><td>1</td><td>1</td></tr>",
                            "<tr><td>1271</td><td>ANIKOS</td><td>106</td><td>2016-11-10</td><td>2016-11-15</td><td>1</td><td>1</td></tr>",
                            "<tr><td>1272</td><td>sandor3</td><td>50</td><td>2016-11-10</td><td>2016-11-11</td><td>1</td><td>1</td></tr>",
                            "<tr><td>1273</td><td>peter4</td><td>88</td><td>2016-11-10</td><td>2016-11-17</td><td>2</td><td>1</td></tr>",
                            "<tr><td>1274</td><td>ANNAMARIAR</td><td>1</td><td>2016-11-11</td><td>2016-11-12</td><td>3</td><td>0</td></tr>",
                            "<tr><td>1275</td><td>valentin</td><td>27</td><td>2016-11-11</td><td>2016-11-17</td><td>2</td><td>1</td></tr>",
                            "<tr><td>1276</td><td>SZABOLCSM</td><td>174</td><td>2016-11-12</td><td>2016-11-13</td><td>2</td><td>0</td></tr>",
                            "<tr><td>1277</td><td>csongor3</td><td>82</td><td>2016-11-12</td><td>2016-11-17</td><td>2</td><td>1</td></tr>",
                            "<tr><td>1278</td><td>daniel</td><td>176</td><td>2016-11-13</td><td>2016-11-19</td><td>2</td><td>1</td></tr>",
                            "<tr><td>1279</td><td>BEATRIXK</td><td>80</td><td>2016-11-14</td><td>2016-11-19</td><td>1</td><td>1</td></tr>",
                            "<tr><td>1280</td><td>tamara2</td><td>137</td><td>2016-11-15</td><td>2016-11-18</td><td>1</td><td>1</td></tr>",
                            "<tr><td>1281</td><td>adam4</td><td>78</td><td>2016-11-15</td><td>2016-11-18</td><td>2</td><td>0</td></tr>",
                            "<tr><td>1282</td><td>peter2</td><td>123</td><td>2016-11-15</td><td>2016-11-21</td><td>3</td><td>0</td></tr>",
                            "<tr><td>1283</td><td>miklos2</td><td>138</td><td>2016-11-16</td><td>2016-11-18</td><td>3</td><td>0</td></tr>",
                            "<tr><td>1284</td><td>rajmond4</td><td>164</td><td>2016-11-16</td><td>2016-11-20</td><td>2</td><td>0</td></tr>",
                            "<tr><td>1285</td><td>norbert</td><td>58</td><td>2016-11-16</td><td>2016-11-23</td><td>2</td><td>1</td></tr>",
                            "<tr><td>1286</td><td>andi</td><td>127</td><td>2016-11-16</td><td>2016-11-17</td><td>2</td><td>1</td></tr>",
                            "<tr><td>1287</td><td>PETERB</td><td>22</td><td>2016-11-17</td><td>2016-11-20</td><td>1</td><td>1</td></tr>",
                            "<tr><td>1288</td><td>vivien3</td><td>59</td><td>2016-11-17</td><td>2016-11-20</td><td>1</td><td>1</td></tr>",
                            "<tr><td>1289</td><td>sara</td><td>135</td><td>2016-11-18</td><td>2016-11-21</td><td>3</td><td>0</td></tr>",
                            "<tr><td>1290</td><td>tunde</td><td>128</td><td>2016-11-19</td><td>2016-11-20</td><td>1</td><td>2</td></tr>",
                            "<tr><td>1291</td><td>gabor1</td><td>46</td><td>2016-11-19</td><td>2016-11-22</td><td>2</td><td>0</td></tr>",
                            "<tr><td>1292</td><td>zoltan4</td><td>164</td><td>2016-11-19</td><td>2016-11-21</td><td>2</td><td>0</td></tr>",
                            "<tr><td>1293</td><td>mark</td><td>58</td><td>2016-11-19</td><td>2016-11-22</td><td>2</td><td>0</td></tr>",
                            "<tr><td>1294</td><td>roland</td><td>138</td><td>2016-11-19</td><td>2016-11-24</td><td>1</td><td>1</td></tr>",
                            "<tr><td>1295</td><td>andrea3</td><td>44</td><td>2016-11-19</td><td>2016-11-21</td><td>3</td><td>0</td></tr>",
                            "<tr><td>1296</td><td>david1</td><td>111</td><td>2016-11-19</td><td>2016-11-22</td><td>1</td><td>1</td></tr>",
                            "<tr><td>1297</td><td>ANDRASE</td><td>144</td><td>2016-11-19</td><td>2016-11-20</td><td>2</td><td>2</td></tr>",
                            "<tr><td>1298</td><td>andras41</td><td>109</td><td>2016-11-20</td><td>2016-11-24</td><td>1</td><td>2</td></tr>",
                            "<tr><td>1299</td><td>akos</td><td>90</td><td>2016-11-21</td><td>2016-11-27</td><td>2</td><td>0</td></tr>",
                            "<tr><td>1300</td><td>ZSUZSAV</td><td>88</td><td>2016-11-21</td><td>2016-11-24</td><td>1</td><td>2</td></tr>",
                            "<tr><td>1301</td><td>istvan</td><td>132</td><td>2016-11-22</td><td>2016-11-24</td><td>3</td><td>0</td></tr>",
                            "<tr><td>1302</td><td>aladar</td><td>191</td><td>2016-11-22</td><td>2016-11-23</td><td>1</td><td>1</td></tr>",
                            "<tr><td>1303</td><td>dani</td><td>45</td><td>2016-11-22</td><td>2016-11-24</td><td>2</td><td>0</td></tr>",
                            "<tr><td>1304</td><td>dora3</td><td>197</td><td>2016-11-22</td><td>2016-11-29</td><td>3</td><td>0</td></tr>",
                            "<tr><td>1305</td><td>fruzsina4</td><td>94</td><td>2016-11-22</td><td>2016-11-24</td><td>1</td><td>1</td></tr>",
                            "<tr><td>1306</td><td>krisztina</td><td>133</td><td>2016-11-22</td><td>2016-11-25</td><td>1</td><td>0</td></tr>",
                            "<tr><td>1307</td><td>jozsef2</td><td>58</td><td>2016-11-23</td><td>2016-11-29</td><td>1</td><td>2</td></tr>",
                            "<tr><td>1308</td><td>andras41</td><td>182</td><td>2016-11-23</td><td>2016-11-24</td><td>1</td><td>0</td></tr>",
                            "<tr><td>1309</td><td>daniel1</td><td>42</td><td>2016-11-23</td><td>2016-11-25</td><td>2</td><td>0</td></tr>",
                            "<tr><td>1310</td><td>andras21</td><td>155</td><td>2016-11-23</td><td>2016-11-24</td><td>1</td><td>3</td></tr>",
                            "<tr><td>1311</td><td>sara</td><td>2</td><td>2016-11-23</td><td>2016-11-30</td><td>1</td><td>3</td></tr>",
                            "<tr><td>1312</td><td>RENATAK</td><td>94</td><td>2016-11-23</td><td>2016-11-26</td><td>1</td><td>0</td></tr>",
                            "<tr><td>1313</td><td>emese</td><td>143</td><td>2016-11-23</td><td>2016-11-27</td><td>1</td><td>3</td></tr>",
                            "<tr><td>1314</td><td>JANOSP</td><td>196</td><td>2016-11-23</td><td>2016-11-28</td><td>2</td><td>0</td></tr>",
                            "<tr><td>1315</td><td>balint</td><td>100</td><td>2016-11-24</td><td>2016-11-29</td><td>1</td><td>2</td></tr>",
                            "<tr><td>1316</td><td>peter4</td><td>17</td><td>2016-11-25</td><td>2016-11-30</td><td>3</td><td>0</td></tr>",
                            "<tr><td>1317</td><td>andras4</td><td>182</td><td>2016-11-25</td><td>2016-11-28</td><td>2</td><td>0</td></tr>",
                            "<tr><td>1318</td><td>JANOSP</td><td>72</td><td>2016-11-25</td><td>2016-11-27</td><td>1</td><td>1</td></tr>",
                            "<tr><td>1319</td><td>ANDRASN</td><td>10</td><td>2016-11-25</td><td>2016-12-01</td><td>2</td><td>0</td></tr>",
                            "<tr><td>1320</td><td>laszlo2</td><td>85</td><td>2016-11-25</td><td>2016-11-26</td><td>2</td><td>1</td></tr>",
                            "<tr><td>1321</td><td>jozsef2</td><td>33</td><td>2016-11-25</td><td>2016-11-29</td><td>2</td><td>1</td></tr>",
                            "<tr><td>1322</td><td>bertalan</td><td>58</td><td>2016-11-26</td><td>2016-11-29</td><td>1</td><td>2</td></tr>",
                            "<tr><td>1323</td><td>julianna4</td><td>191</td><td>2016-11-27</td><td>2016-12-04</td><td>2</td><td>1</td></tr>",
                            "<tr><td>1324</td><td>timea2</td><td>68</td><td>2016-11-27</td><td>2016-12-01</td><td>2</td><td>2</td></tr>",
                            "<tr><td>1325</td><td>katalin4</td><td>70</td><td>2016-11-27</td><td>2016-12-04</td><td>2</td><td>1</td></tr>",
                            "<tr><td>1326</td><td>BENCEB</td><td>182</td><td>2016-11-28</td><td>2016-12-02</td><td>2</td><td>0</td></tr>",
                            "<tr><td>1327</td><td>zsuzsa</td><td>55</td><td>2016-11-28</td><td>2016-12-04</td><td>1</td><td>2</td></tr>",
                            "<tr><td>1328</td><td>andras3</td><td>54</td><td>2016-11-28</td><td>2016-12-02</td><td>2</td><td>0</td></tr>",
                            "<tr><td>1329</td><td>LASZLON</td><td>171</td><td>2016-11-29</td><td>2016-12-04</td><td>1</td><td>0</td></tr>",
                            "<tr><td>1330</td><td>ANDRASE</td><td>124</td><td>2016-11-29</td><td>2016-12-06</td><td>1</td><td>2</td></tr>",
                            "<tr><td>1331</td><td>sandor4</td><td>73</td><td>2016-11-29</td><td>2016-12-03</td><td>2</td><td>0</td></tr>",
                            "<tr><td>1332</td><td>alexandra</td><td>101</td><td>2016-11-29</td><td>2016-12-05</td><td>1</td><td>1</td></tr>",
                            "<tr><td>1333</td><td>norbert4</td><td>70</td><td>2016-11-30</td><td>2016-12-06</td><td>2</td><td>1</td></tr>",
                            "<tr><td>1334</td><td>valentin</td><td>1</td><td>2016-12-01</td><td>2016-12-05</td><td>3</td><td>0</td></tr>",
                            "<tr><td>1335</td><td>GYONGYIK</td><td>37</td><td>2016-12-01</td><td>2016-12-08</td><td>1</td><td>1</td></tr>",
                            "<tr><td>1336</td><td>eszter2</td><td>172</td><td>2016-12-02</td><td>2016-12-07</td><td>1</td><td>0</td></tr>",
                            "<tr><td>1337</td><td>BELAF</td><td>122</td><td>2016-12-02</td><td>2016-12-04</td><td>1</td><td>2</td></tr>",
                            "<tr><td>1338</td><td>TAMASF</td><td>145</td><td>2016-12-02</td><td>2016-12-04</td><td>1</td><td>0</td></tr>",
                            "<tr><td>1339</td><td>sandor4</td><td>120</td><td>2016-12-03</td><td>2016-12-09</td><td>1</td><td>0</td></tr>",
                            "<tr><td>1340</td><td>katalin4</td><td>196</td><td>2016-12-04</td><td>2016-12-09</td><td>1</td><td>2</td></tr>",
                            "<tr><td>1341</td><td>balint2</td><td>82</td><td>2016-12-04</td><td>2016-12-06</td><td>1</td><td>2</td></tr>",
                            "<tr><td>1342</td><td>ARPADH</td><td>170</td><td>2016-12-04</td><td>2016-12-10</td><td>1</td><td>0</td></tr>",
                            "<tr><td>1343</td><td>szabolcs</td><td>102</td><td>2016-12-05</td><td>2016-12-07</td><td>1</td><td>1</td></tr>",
                            "<tr><td>1344</td><td>MIKLOSB</td><td>33</td><td>2016-12-05</td><td>2016-12-10</td><td>1</td><td>1</td></tr>",
                            "<tr><td>1345</td><td>eszter2</td><td>79</td><td>2016-12-05</td><td>2016-12-08</td><td>2</td><td>0</td></tr>",
                            "<tr><td>1346</td><td>balazs3</td><td>181</td><td>2016-12-05</td><td>2016-12-11</td><td>2</td><td>1</td></tr>",
                            "<tr><td>1347</td><td>adam4</td><td>13</td><td>2016-12-06</td><td>2016-12-09</td><td>3</td><td>0</td></tr>",
                            "<tr><td>1348</td><td>jozsef</td><td>57</td><td>2016-12-06</td><td>2016-12-07</td><td>2</td><td>0</td></tr>",
                            "<tr><td>1349</td><td>eva2</td><td>87</td><td>2016-12-06</td><td>2016-12-11</td><td>2</td><td>0</td></tr>",
                            "<tr><td>1350</td><td>BELAF</td><td>173</td><td>2016-12-06</td><td>2016-12-09</td><td>1</td><td>0</td></tr>",
                            "<tr><td>1351</td><td>sara</td><td>38</td><td>2016-12-06</td><td>2016-12-10</td><td>1</td><td>0</td></tr>",
                            "<tr><td>1352</td><td>ZOLTANP</td><td>115</td><td>2016-12-07</td><td>2016-12-10</td><td>2</td><td>1</td></tr>",
                            "<tr><td>1353</td><td>ARONK</td><td>111</td><td>2016-12-07</td><td>2016-12-12</td><td>1</td><td>2</td></tr>",
                            "<tr><td>1354</td><td>emese</td><td>107</td><td>2016-12-07</td><td>2016-12-08</td><td>2</td><td>1</td></tr>",
                            "<tr><td>1355</td><td>nikoletta4</td><td>93</td><td>2016-12-08</td><td>2016-12-10</td><td>3</td><td>2</td></tr>",
                            "<tr><td>1356</td><td>matyas2</td><td>169</td><td>2016-12-09</td><td>2016-12-13</td><td>2</td><td>1</td></tr>",
                            "<tr><td>1357</td><td>TAMASF</td><td>140</td><td>2016-12-10</td><td>2016-12-14</td><td>2</td><td>1</td></tr>",
                            "<tr><td>1358</td><td>krisztian4</td><td>138</td><td>2016-12-11</td><td>2016-12-18</td><td>1</td><td>1</td></tr>",
                            "<tr><td>1359</td><td>BEATRIXK</td><td>88</td><td>2016-12-12</td><td>2016-12-14</td><td>2</td><td>1</td></tr>",
                            "<tr><td>1360</td><td>katalin</td><td>129</td><td>2016-12-13</td><td>2016-12-19</td><td>1</td><td>1</td></tr>",
                            "<tr><td>1361</td><td>ARPADM</td><td>140</td><td>2016-12-14</td><td>2016-12-17</td><td>1</td><td>2</td></tr>",
                            "<tr><td>1362</td><td>timea2</td><td>25</td><td>2016-12-14</td><td>2016-12-16</td><td>3</td><td>1</td></tr>",
                            "<tr><td>1363</td><td>tunde</td><td>133</td><td>2016-12-15</td><td>2016-12-20</td><td>3</td><td>0</td></tr>",
                            "<tr><td>1364</td><td>akos</td><td>126</td><td>2016-12-15</td><td>2016-12-21</td><td>1</td><td>1</td></tr>",
                            "<tr><td>1365</td><td>norbert</td><td>70</td><td>2016-12-15</td><td>2016-12-18</td><td>1</td><td>1</td></tr>",
                            "<tr><td>1366</td><td>fruzsina4</td><td>81</td><td>2016-12-16</td><td>2016-12-21</td><td>1</td><td>0</td></tr>",
                            "<tr><td>1367</td><td>bernadett2</td><td>80</td><td>2016-12-17</td><td>2016-12-20</td><td>1</td><td>0</td></tr>",
                            "<tr><td>1368</td><td>bence</td><td>94</td><td>2016-12-17</td><td>2016-12-18</td><td>2</td><td>0</td></tr>",
                            "<tr><td>1369</td><td>pal</td><td>142</td><td>2016-12-17</td><td>2016-12-23</td><td>3</td><td>0</td></tr>",
                            "<tr><td>1370</td><td>BEATRIXK</td><td>138</td><td>2016-12-17</td><td>2016-12-22</td><td>3</td><td>1</td></tr>",
                            "<tr><td>1371</td><td>AGNESK</td><td>140</td><td>2016-12-17</td><td>2016-12-18</td><td>1</td><td>1</td></tr>",
                            "<tr><td>1372</td><td>katalin</td><td>106</td><td>2016-12-17</td><td>2016-12-24</td><td>1</td><td>0</td></tr>",
                            "<tr><td>1373</td><td>brigitta</td><td>121</td><td>2016-12-17</td><td>2016-12-22</td><td>2</td><td>0</td></tr>",
                            "<tr><td>1374</td><td>robert2</td><td>118</td><td>2016-12-17</td><td>2016-12-22</td><td>1</td><td>0</td></tr>",
                            "<tr><td>1375</td><td>vivien3</td><td>165</td><td>2016-12-17</td><td>2016-12-21</td><td>1</td><td>1</td></tr>",
                            "<tr><td>1376</td><td>balint1</td><td>84</td><td>2016-12-17</td><td>2016-12-22</td><td>3</td><td>0</td></tr>",
                            "<tr><td>1377</td><td>ARPADH</td><td>27</td><td>2016-12-18</td><td>2016-12-19</td><td>2</td><td>1</td></tr>",
                            "<tr><td>1378</td><td>JANOSP</td><td>96</td><td>2016-12-18</td><td>2016-12-21</td><td>1</td><td>1</td></tr>",
                            "<tr><td>1379</td><td>JUDITH</td><td>83</td><td>2016-12-19</td><td>2016-12-26</td><td>1</td><td>0</td></tr>",
                            "<tr><td>1380</td><td>MATYASS</td><td>39</td><td>2016-12-20</td><td>2016-12-25</td><td>2</td><td>0</td></tr>",
                            "<tr><td>1381</td><td>BEATRIXS</td><td>33</td><td>2016-12-21</td><td>2016-12-27</td><td>2</td><td>0</td></tr>",
                            "<tr><td>1382</td><td>balu</td><td>67</td><td>2016-12-22</td><td>2016-12-23</td><td>1</td><td>1</td></tr>",
                            "<tr><td>1383</td><td>attila</td><td>176</td><td>2016-12-22</td><td>2016-12-26</td><td>1</td><td>1</td></tr>",
                            "<tr><td>1384</td><td>roland1</td><td>84</td><td>2016-12-22</td><td>2016-12-29</td><td>1</td><td>0</td></tr>",
                            "<tr><td>1385</td><td>eszter</td><td>122</td><td>2016-12-23</td><td>2016-12-28</td><td>1</td><td>1</td></tr>",
                            "<tr><td>1386</td><td>vivien3</td><td>55</td><td>2016-12-24</td><td>2016-12-26</td><td>2</td><td>1</td></tr>",
                            "<tr><td>1387</td><td>arpad2</td><td>197</td><td>2016-12-24</td><td>2016-12-27</td><td>2</td><td>1</td></tr>",
                            "<tr><td>1388</td><td>katalin</td><td>26</td><td>2016-12-24</td><td>2016-12-27</td><td>1</td><td>1</td></tr>",
                            "<tr><td>1389</td><td>tihamer</td><td>57</td><td>2016-12-25</td><td>2016-12-26</td><td>1</td><td>1</td></tr>",
                            "<tr><td>1390</td><td>sara</td><td>188</td><td>2016-12-25</td><td>2016-12-30</td><td>1</td><td>1</td></tr>",
                            "<tr><td>1391</td><td>szilvia1</td><td>93</td><td>2016-12-25</td><td>2016-12-29</td><td>2</td><td>3</td></tr>",
                            "<tr><td>1392</td><td>KRISZTIANM</td><td>108</td><td>2016-12-25</td><td>2016-12-31</td><td>1</td><td>1</td></tr>",
                            "<tr><td>1393</td><td>ilona3</td><td>121</td><td>2016-12-25</td><td>2016-12-31</td><td>1</td><td>2</td></tr>",
                            "<tr><td>1394</td><td>lajos</td><td>143</td><td>2016-12-25</td><td>2016-12-28</td><td>1</td><td>3</td></tr>",
                            "<tr><td>1395</td><td>daniel</td><td>97</td><td>2016-12-25</td><td>2016-12-26</td><td>3</td><td>0</td></tr>",
                            "<tr><td>1396</td><td>peter3</td><td>72</td><td>2016-12-25</td><td>2016-12-28</td><td>1</td><td>0</td></tr>",
                            "<tr><td>1397</td><td>ZOLTANP</td><td>91</td><td>2016-12-25</td><td>2016-12-29</td><td>1</td><td>1</td></tr>",
                            "<tr><td>1398</td><td>timea</td><td>103</td><td>2016-12-26</td><td>2016-12-27</td><td>1</td><td>1</td></tr>",
                            "<tr><td>1399</td><td>balazs1</td><td>89</td><td>2016-12-26</td><td>2016-12-28</td><td>3</td><td>0</td></tr>",
                            "<tr><td>1400</td><td>bence</td><td>162</td><td>2016-12-26</td><td>2016-12-27</td><td>1</td><td>1</td></tr>",
                            "<tr><td>1401</td><td>szilvia1</td><td>141</td><td>2016-12-27</td><td>2017-01-02</td><td>2</td><td>0</td></tr>",
                            "<tr><td>1402</td><td>JANOSG</td><td>98</td><td>2016-12-28</td><td>2016-12-30</td><td>2</td><td>0</td></tr>",
                            "<tr><td>1403</td><td>zoltan4</td><td>124</td><td>2016-12-29</td><td>2017-01-04</td><td>1</td><td>0</td></tr>",
                            "<tr><td>1404</td><td>balint1</td><td>187</td><td>2016-12-29</td><td>2016-12-31</td><td>2</td><td>1</td></tr>",
                            "<tr><td>1405</td><td>henrik3</td><td>90</td><td>2016-12-29</td><td>2017-01-03</td><td>3</td><td>0</td></tr>",
                            "<tr><td>1406</td><td>akos</td><td>82</td><td>2016-12-29</td><td>2016-12-30</td><td>2</td><td>1</td></tr>",
                            "<tr><td>1407</td><td>david1</td><td>175</td><td>2016-12-30</td><td>2017-01-06</td><td>2</td><td>0</td></tr>",
                            "<tr><td>1408</td><td>attila4</td><td>99</td><td>2016-12-31</td><td>2017-01-01</td><td>1</td><td>1</td></tr>",
                            "<tr><td>1409</td><td>zoltan4</td><td>133</td><td>2017-01-01</td><td>2017-01-02</td><td>3</td><td>0</td></tr>",
                            "<tr><td>1410</td><td>balazs1</td><td>182</td><td>2017-01-01</td><td>2017-01-05</td><td>2</td><td>0</td></tr>",
                            "<tr><td>1411</td><td>BERNADETTO</td><td>35</td><td>2017-01-01</td><td>2017-01-02</td><td>2</td><td>1</td></tr>",
                            "<tr><td>1412</td><td>ARONK</td><td>75</td><td>2017-01-01</td><td>2017-01-03</td><td>1</td><td>1</td></tr>",
                            "<tr><td>1413</td><td>istvan</td><td>119</td><td>2017-01-02</td><td>2017-01-05</td><td>2</td><td>0</td></tr>",
                            "<tr><td>1414</td><td>katka</td><td>167</td><td>2017-01-02</td><td>2017-01-05</td><td>3</td><td>0</td></tr>",
                            "<tr><td>1415</td><td>tunde</td><td>24</td><td>2017-01-03</td><td>2017-01-06</td><td>4</td><td>1</td></tr>",
                            "<tr><td>1416</td><td>balint1</td><td>38</td><td>2017-01-03</td><td>2017-01-08</td><td>2</td><td>0</td></tr>",
                            "<tr><td>1417</td><td>AGNESH</td><td>97</td><td>2017-01-03</td><td>2017-01-10</td><td>2</td><td>0</td></tr>",
                            "<tr><td>1418</td><td>roland1</td><td>15</td><td>2017-01-04</td><td>2017-01-08</td><td>2</td><td>1</td></tr>",
                            "<tr><td>1419</td><td>daniel1</td><td>124</td><td>2017-01-05</td><td>2017-01-08</td><td>1</td><td>2</td></tr>",
                            "<tr><td>1420</td><td>ARPADM</td><td>198</td><td>2017-01-05</td><td>2017-01-10</td><td>1</td><td>0</td></tr>",
                            "<tr><td>1421</td><td>eszter4</td><td>172</td><td>2017-01-05</td><td>2017-01-10</td><td>2</td><td>0</td></tr>",
                            "<tr><td>1422</td><td>krisztian4</td><td>182</td><td>2017-01-06</td><td>2017-01-09</td><td>1</td><td>0</td></tr>",
                            "<tr><td>1423</td><td>eva2</td><td>9</td><td>2017-01-06</td><td>2017-01-09</td><td>1</td><td>3</td></tr>",
                            "<tr><td>1424</td><td>SZABOLCSM</td><td>110</td><td>2017-01-07</td><td>2017-01-08</td><td>2</td><td>0</td></tr>",
                            "<tr><td>1425</td><td>lala</td><td>44</td><td>2017-01-08</td><td>2017-01-10</td><td>2</td><td>1</td></tr>",
                            "<tr><td>1426</td><td>JOZSEFG</td><td>62</td><td>2017-01-09</td><td>2017-01-13</td><td>2</td><td>0</td></tr>",
                            "<tr><td>1427</td><td>andras4</td><td>169</td><td>2017-01-09</td><td>2017-01-10</td><td>1</td><td>1</td></tr>",
                            "<tr><td>1428</td><td>zsuzsanna</td><td>126</td><td>2017-01-09</td><td>2017-01-16</td><td>1</td><td>0</td></tr>",
                            "<tr><td>1429</td><td>MATYASS</td><td>173</td><td>2017-01-09</td><td>2017-01-13</td><td>2</td><td>0</td></tr>",
                            "<tr><td>1430</td><td>daniel</td><td>12</td><td>2017-01-09</td><td>2017-01-11</td><td>1</td><td>0</td></tr>",
                            "<tr><td>1431</td><td>JANOSG</td><td>52</td><td>2017-01-10</td><td>2017-01-15</td><td>2</td><td>0</td></tr>",
                            "<tr><td>1432</td><td>ANNAMARIAR</td><td>150</td><td>2017-01-10</td><td>2017-01-13</td><td>2</td><td>0</td></tr>",
                            "<tr><td>1433</td><td>roza2</td><td>139</td><td>2017-01-11</td><td>2017-01-17</td><td>2</td><td>1</td></tr>",
                            "<tr><td>1434</td><td>peter3</td><td>3</td><td>2017-01-12</td><td>2017-01-17</td><td>1</td><td>0</td></tr>",
                            "<tr><td>1435</td><td>adam4</td><td>39</td><td>2017-01-12</td><td>2017-01-19</td><td>2</td><td>0</td></tr>",
                            "<tr><td>1436</td><td>alexandra</td><td>35</td><td>2017-01-13</td><td>2017-01-14</td><td>1</td><td>0</td></tr>",
                            "<tr><td>1437</td><td>andi</td><td>183</td><td>2017-01-13</td><td>2017-01-17</td><td>3</td><td>0</td></tr>",
                            "<tr><td>1438</td><td>eva</td><td>96</td><td>2017-01-14</td><td>2017-01-16</td><td>2</td><td>0</td></tr>",
                            "<tr><td>1439</td><td>kata</td><td>77</td><td>2017-01-15</td><td>2017-01-21</td><td>1</td><td>2</td></tr>",
                            "<tr><td>1440</td><td>edit</td><td>122</td><td>2017-01-15</td><td>2017-01-18</td><td>1</td><td>3</td></tr>",
                            "<tr><td>1441</td><td>AGNESH</td><td>185</td><td>2017-01-16</td><td>2017-01-23</td><td>2</td><td>1</td></tr>",
                            "<tr><td>1442</td><td>SZILARDS</td><td>15</td><td>2017-01-16</td><td>2017-01-19</td><td>1</td><td>2</td></tr>",
                            "<tr><td>1443</td><td>KRISZTIANM</td><td>81</td><td>2017-01-16</td><td>2017-01-23</td><td>1</td><td>0</td></tr>",
                            "<tr><td>1444</td><td>zsuzsanna</td><td>42</td><td>2017-01-16</td><td>2017-01-22</td><td>2</td><td>0</td></tr>",
                            "<tr><td>1445</td><td>krisztian4</td><td>129</td><td>2017-01-16</td><td>2017-01-23</td><td>2</td><td>1</td></tr>",
                            "<tr><td>1446</td><td>MATEK</td><td>64</td><td>2017-01-16</td><td>2017-01-22</td><td>2</td><td>0</td></tr>",
                            "<tr><td>1447</td><td>ZOLTANT</td><td>79</td><td>2017-01-16</td><td>2017-01-20</td><td>1</td><td>1</td></tr>",
                            "<tr><td>1448</td><td>roland1</td><td>143</td><td>2017-01-16</td><td>2017-01-22</td><td>2</td><td>0</td></tr>",
                            "<tr><td>1449</td><td>lala</td><td>189</td><td>2017-01-17</td><td>2017-01-19</td><td>1</td><td>1</td></tr>",
                            "<tr><td>1450</td><td>MONIKAM</td><td>139</td><td>2017-01-17</td><td>2017-01-24</td><td>1</td><td>0</td></tr>",
                            "<tr><td>1451</td><td>dani</td><td>58</td><td>2017-01-17</td><td>2017-01-23</td><td>2</td><td>0</td></tr>",
                            "<tr><td>1452</td><td>IBOLYAA</td><td>107</td><td>2017-01-17</td><td>2017-01-23</td><td>1</td><td>2</td></tr>",
                            "<tr><td>1453</td><td>aron2</td><td>86</td><td>2017-01-17</td><td>2017-01-18</td><td>1</td><td>2</td></tr>",
                            "<tr><td>1454</td><td>david</td><td>39</td><td>2017-01-18</td><td>2017-01-19</td><td>2</td><td>0</td></tr>",
                            "<tr><td>1455</td><td>katalin4</td><td>116</td><td>2017-01-18</td><td>2017-01-20</td><td>1</td><td>1</td></tr>",
                            "<tr><td>1456</td><td>veronika4</td><td>87</td><td>2017-01-19</td><td>2017-01-24</td><td>3</td><td>0</td></tr>",
                            "<tr><td>1457</td><td>alexandra</td><td>70</td><td>2017-01-19</td><td>2017-01-26</td><td>2</td><td>0</td></tr>",
                            "<tr><td>1458</td><td>katka</td><td>75</td><td>2017-01-19</td><td>2017-01-20</td><td>2</td><td>1</td></tr>",
                            "<tr><td>1459</td><td>balazs3</td><td>28</td><td>2017-01-20</td><td>2017-01-22</td><td>2</td><td>0</td></tr>",
                            "<tr><td>1460</td><td>krisztina1</td><td>153</td><td>2017-01-21</td><td>2017-01-24</td><td>1</td><td>1</td></tr>",
                            "<tr><td>1461</td><td>JOZSEFG</td><td>77</td><td>2017-01-22</td><td>2017-01-26</td><td>1</td><td>0</td></tr>",
                            "<tr><td>1462</td><td>MARKH</td><td>156</td><td>2017-01-22</td><td>2017-01-29</td><td>1</td><td>3</td></tr>",
                            "<tr><td>1463</td><td>GYONGYIK</td><td>185</td><td>2017-01-22</td><td>2017-01-29</td><td>3</td><td>0</td></tr>",
                            "<tr><td>1464</td><td>andrea4</td><td>81</td><td>2017-01-22</td><td>2017-01-29</td><td>2</td><td>0</td></tr>",
                            "<tr><td>1465</td><td>sandor4</td><td>64</td><td>2017-01-22</td><td>2017-01-26</td><td>2</td><td>0</td></tr>",
                            "<tr><td>1466</td><td>dani</td><td>57</td><td>2017-01-22</td><td>2017-01-29</td><td>1</td><td>0</td></tr>",
                            "<tr><td>1467</td><td>fruzsina4</td><td>186</td><td>2017-01-22</td><td>2017-01-25</td><td>2</td><td>2</td></tr>",
                            "<tr><td>1468</td><td>attila1</td><td>117</td><td>2017-01-23</td><td>2017-01-30</td><td>1</td><td>3</td></tr>",
                            "<tr><td>1469</td><td>brigitta</td><td>13</td><td>2017-01-23</td><td>2017-01-25</td><td>1</td><td>0</td></tr>",
                            "<tr><td>1470</td><td>debora</td><td>153</td><td>2017-01-23</td><td>2017-01-28</td><td>3</td><td>0</td></tr>",
                            "<tr><td>1471</td><td>RENATAK</td><td>145</td><td>2017-01-23</td><td>2017-01-24</td><td>2</td><td>1</td></tr>",
                            "<tr><td>1472</td><td>bernadett2</td><td>118</td><td>2017-01-24</td><td>2017-01-30</td><td>1</td><td>2</td></tr>",
                            "<tr><td>1473</td><td>katalin4</td><td>195</td><td>2017-01-24</td><td>2017-01-31</td><td>2</td><td>0</td></tr>",
                            "<tr><td>1474</td><td>KRISZTINAG</td><td>131</td><td>2017-01-25</td><td>2017-01-30</td><td>2</td><td>0</td></tr>",
                            "<tr><td>1475</td><td>eszter4</td><td>130</td><td>2017-01-26</td><td>2017-02-02</td><td>2</td><td>0</td></tr>",
                            "<tr><td>1476</td><td>henrik3</td><td>27</td><td>2017-01-27</td><td>2017-01-28</td><td>2</td><td>1</td></tr>",
                            "<tr><td>1477</td><td>BERNADETTO</td><td>51</td><td>2017-01-28</td><td>2017-02-03</td><td>1</td><td>1</td></tr>",
                            "<tr><td>1478</td><td>andras21</td><td>38</td><td>2017-01-28</td><td>2017-02-01</td><td>2</td><td>0</td></tr>",
                            "<tr><td>1479</td><td>szilvia1</td><td>146</td><td>2017-01-28</td><td>2017-02-03</td><td>1</td><td>1</td></tr>",
                            "<tr><td>1480</td><td>eszter2</td><td>35</td><td>2016-12-29</td><td>2017-02-04</td><td>1</td><td>0</td></tr>",
                            "<tr><td>1481</td><td>polla</td><td>118</td><td>2017-01-29</td><td>2017-02-01</td><td>1</td><td>1</td></tr>",
                            "<tr><td>1482</td><td>norbert2</td><td>100</td><td>2017-01-29</td><td>2017-02-05</td><td>1</td><td>2</td></tr>",
                            "<tr><td>1483</td><td>annamaria1</td><td>120</td><td>2017-01-30</td><td>2017-01-31</td><td>3</td><td>1</td></tr>",
                            "<tr><td>1484</td><td>emese</td><td>195</td><td>2017-01-30</td><td>2017-01-31</td><td>1</td><td>1</td></tr>",
                            "<tr><td>1485</td><td>ARONK</td><td>103</td><td>2017-01-30</td><td>2017-02-03</td><td>1</td><td>1</td></tr>",
                            "<tr><td>1486</td><td>JANOSG</td><td>99</td><td>2017-01-31</td><td>2017-02-05</td><td>2</td><td>0</td></tr>",
                            "<tr><td>1487</td><td>imre1</td><td>163</td><td>2017-02-01</td><td>2017-02-04</td><td>1</td><td>1</td></tr>",
                            "<tr><td>1488</td><td>nikoletta4</td><td>119</td><td>2017-02-01</td><td>2017-02-04</td><td>2</td><td>0</td></tr>",
                            "<tr><td>1489</td><td>andras3</td><td>110</td><td>2017-02-02</td><td>2017-02-08</td><td>2</td><td>0</td></tr>",
                            "<tr><td>1490</td><td>BEATRIXS</td><td>156</td><td>2017-02-03</td><td>2017-02-04</td><td>2</td><td>0</td></tr>",
                            "<tr><td>1491</td><td>veronika4</td><td>172</td><td>2017-02-03</td><td>2017-02-05</td><td>1</td><td>1</td></tr>",
                            "<tr><td>1492</td><td>gusztav</td><td>4</td><td>2017-02-03</td><td>2017-02-09</td><td>2</td><td>0</td></tr>",
                            "<tr><td>1493</td><td>julia4</td><td>120</td><td>2017-02-04</td><td>2017-02-11</td><td>1</td><td>3</td></tr>",
                            "<tr><td>1494</td><td>debora</td><td>107</td><td>2017-02-04</td><td>2017-02-06</td><td>2</td><td>1</td></tr>",
                            "<tr><td>1495</td><td>EVAV</td><td>113</td><td>2017-02-04</td><td>2017-02-11</td><td>1</td><td>4</td></tr>",
                            "<tr><td>1496</td><td>gabriella1</td><td>61</td><td>2017-02-04</td><td>2017-02-11</td><td>1</td><td>2</td></tr>",
                            "<tr><td>1497</td><td>SZABOLCSM</td><td>179</td><td>2017-02-04</td><td>2017-02-05</td><td>2</td><td>1</td></tr>",
                            "<tr><td>1498</td><td>kriszti</td><td>16</td><td>2017-02-04</td><td>2017-02-11</td><td>3</td><td>0</td></tr>",
                            "<tr><td>1499</td><td>imre1</td><td>113</td><td>2017-02-05</td><td>2017-02-07</td><td>3</td><td>1</td></tr>",
                            "<tr><td>1500</td><td>peter4</td><td>126</td><td>2017-02-05</td><td>2017-02-09</td><td>1</td><td>2</td></tr>",
                            "<tr><td>1501</td><td>bence</td><td>116</td><td>2017-02-05</td><td>2017-02-09</td><td>1</td><td>2</td></tr>",
                            "<tr><td>1502</td><td>krisztina</td><td>191</td><td>2017-02-05</td><td>2017-02-07</td><td>2</td><td>0</td></tr>",
                            "<tr><td>1503</td><td>NANDORF</td><td>177</td><td>2017-02-05</td><td>2017-02-08</td><td>1</td><td>2</td></tr>",
                            "<tr><td>1504</td><td>adam3</td><td>57</td><td>2017-02-06</td><td>2017-02-10</td><td>1</td><td>0</td></tr>",
                            "<tr><td>1505</td><td>MIHALYJ</td><td>18</td><td>2017-02-06</td><td>2017-02-12</td><td>2</td><td>2</td></tr>",
                            "<tr><td>1506</td><td>MONIKAM</td><td>81</td><td>2017-02-06</td><td>2017-02-09</td><td>1</td><td>1</td></tr>",
                            "<tr><td>1507</td><td>istvan1</td><td>153</td><td>2017-02-07</td><td>2017-02-10</td><td>2</td><td>1</td></tr>",
                            "<tr><td>1508</td><td>SZILARDS</td><td>191</td><td>2017-02-08</td><td>2017-02-15</td><td>1</td><td>0</td></tr>",
                            "<tr><td>1509</td><td>edit</td><td>129</td><td>2017-02-08</td><td>2017-02-14</td><td>2</td><td>1</td></tr>",
                            "<tr><td>1510</td><td>LASZLOA</td><td>106</td><td>2017-02-08</td><td>2017-02-14</td><td>1</td><td>1</td></tr>",
                            "<tr><td>1511</td><td>andras2</td><td>176</td><td>2017-02-08</td><td>2017-02-10</td><td>2</td><td>2</td></tr>",
                            "<tr><td>1512</td><td>BEATRIXK</td><td>55</td><td>2017-02-08</td><td>2017-02-09</td><td>1</td><td>2</td></tr>",
                            "<tr><td>1513</td><td>brigitta3</td><td>85</td><td>2017-02-09</td><td>2017-02-16</td><td>1</td><td>1</td></tr>",
                            "<tr><td>1514</td><td>andrea</td><td>149</td><td>2017-02-09</td><td>2017-02-14</td><td>2</td><td>0</td></tr>",
                            "<tr><td>1515</td><td>balazs1</td><td>46</td><td>2017-02-10</td><td>2017-02-14</td><td>1</td><td>2</td></tr>",
                            "<tr><td>1516</td><td>ESZTERE</td><td>101</td><td>2017-02-10</td><td>2017-02-14</td><td>1</td><td>1</td></tr>",
                            "<tr><td>1517</td><td>polla</td><td>190</td><td>2017-02-11</td><td>2017-02-16</td><td>2</td><td>0</td></tr>",
                            "<tr><td>1518</td><td>balazs1</td><td>94</td><td>2017-02-12</td><td>2017-02-14</td><td>2</td><td>0</td></tr>",
                            "<tr><td>1519</td><td>aniko</td><td>132</td><td>2017-02-12</td><td>2017-02-14</td><td>2</td><td>1</td></tr>",
                            "<tr><td>1520</td><td>daniel</td><td>55</td><td>2017-02-12</td><td>2017-02-13</td><td>2</td><td>1</td></tr>",
                            "<tr><td>1521</td><td>BENCEB</td><td>89</td><td>2017-02-12</td><td>2017-02-19</td><td>3</td><td>0</td></tr>",
                            "<tr><td>1522</td><td>ARPADM</td><td>104</td><td>2017-02-12</td><td>2017-02-14</td><td>1</td><td>2</td></tr>",
                            "<tr><td>1523</td><td>lajos</td><td>11</td><td>2017-02-12</td><td>2017-02-13</td><td>1</td><td>0</td></tr>",
                            "<tr><td>1524</td><td>gabriella1</td><td>43</td><td>2017-02-12</td><td>2017-02-13</td><td>2</td><td>0</td></tr>",
                            "<tr><td>1525</td><td>TAMASF</td><td>105</td><td>2017-02-12</td><td>2017-02-17</td><td>1</td><td>1</td></tr>",
                            "<tr><td>1526</td><td>janos3</td><td>166</td><td>2017-02-12</td><td>2017-02-14</td><td>2</td><td>1</td></tr>",
                            "<tr><td>1527</td><td>GYORGYO</td><td>92</td><td>2017-02-13</td><td>2017-02-15</td><td>1</td><td>1</td></tr>",
                            "<tr><td>1528</td><td>norbert</td><td>97</td><td>2017-02-13</td><td>2017-02-15</td><td>2</td><td>1</td></tr>",
                            "<tr><td>1529</td><td>RENATAS</td><td>35</td><td>2017-02-13</td><td>2017-02-17</td><td>1</td><td>0</td></tr>",
                            "<tr><td>1530</td><td>pal</td><td>112</td><td>2017-02-13</td><td>2017-02-19</td><td>2</td><td>1</td></tr>",
                            "<tr><td>1531</td><td>csongor3</td><td>124</td><td>2017-02-13</td><td>2017-02-19</td><td>3</td><td>0</td></tr>",
                            "<tr><td>1532</td><td>RENATAS</td><td>104</td><td>2017-02-14</td><td>2017-02-17</td><td>2</td><td>0</td></tr>",
                            "<tr><td>1533</td><td>bernadett1</td><td>19</td><td>2017-02-14</td><td>2017-02-15</td><td>1</td><td>2</td></tr>",
                            "<tr><td>1534</td><td>tamas</td><td>52</td><td>2017-02-14</td><td>2017-02-19</td><td>2</td><td>1</td></tr>",
                            "<tr><td>1535</td><td>attila4</td><td>134</td><td>2017-02-15</td><td>2017-02-22</td><td>2</td><td>0</td></tr>",
                            "<tr><td>1536</td><td>bertalan</td><td>49</td><td>2017-02-16</td><td>2017-02-22</td><td>2</td><td>0</td></tr>",
                            "<tr><td>1537</td><td>TAMASF</td><td>9</td><td>2017-02-16</td><td>2017-02-19</td><td>3</td><td>1</td></tr>",
                            "<tr><td>1538</td><td>ARPADH</td><td>39</td><td>2017-02-16</td><td>2017-02-18</td><td>1</td><td>1</td></tr>",
                            "<tr><td>1539</td><td>ANNAMARIAR</td><td>154</td><td>2017-02-16</td><td>2017-02-18</td><td>2</td><td>0</td></tr>",
                            "<tr><td>1540</td><td>david4</td><td>114</td><td>2017-02-16</td><td>2017-02-19</td><td>2</td><td>1</td></tr>",
                            "<tr><td>1541</td><td>norbert4</td><td>155</td><td>2017-02-16</td><td>2017-02-17</td><td>1</td><td>0</td></tr>",
                            "<tr><td>1542</td><td>krisztina</td><td>14</td><td>2017-02-16</td><td>2017-02-20</td><td>3</td><td>1</td></tr>",
                            "<tr><td>1543</td><td>RENATAK</td><td>95</td><td>2017-02-16</td><td>2017-02-23</td><td>1</td><td>0</td></tr>",
                            "<tr><td>1544</td><td>agnes3</td><td>3</td><td>2017-02-16</td><td>2017-02-21</td><td>3</td><td>0</td></tr>",
                            "<tr><td>1545</td><td>ROBERTI</td><td>142</td><td>2017-02-17</td><td>2017-02-20</td><td>1</td><td>1</td></tr>",
                            "<tr><td>1546</td><td>david1</td><td>48</td><td>2017-02-17</td><td>2017-02-20</td><td>1</td><td>2</td></tr>",
                            "<tr><td>1547</td><td>zsofi1</td><td>48</td><td>2017-02-18</td><td>2017-02-19</td><td>1</td><td>2</td></tr>",
                            "<tr><td>1548</td><td>LASZLON</td><td>88</td><td>2017-02-18</td><td>2017-02-25</td><td>2</td><td>1</td></tr>",
                            "<tr><td>1549</td><td>roza2</td><td>17</td><td>2017-02-18</td><td>2017-02-21</td><td>1</td><td>2</td></tr>",
                            "<tr><td>1550</td><td>arpad2</td><td>51</td><td>2017-02-18</td><td>2017-02-19</td><td>3</td><td>1</td></tr>",
                            "<tr><td>1551</td><td>anita</td><td>157</td><td>2017-02-19</td><td>2017-02-22</td><td>1</td><td>1</td></tr>",
                            "<tr><td>1552</td><td>pal</td><td>44</td><td>2017-02-20</td><td>2017-02-22</td><td>3</td><td>0</td></tr>",
                            "<tr><td>1553</td><td>anita</td><td>43</td><td>2017-02-20</td><td>2017-02-25</td><td>1</td><td>1</td></tr>",
                            "<tr><td>1554</td><td>daniel</td><td>115</td><td>2017-02-20</td><td>2017-02-23</td><td>1</td><td>2</td></tr>",
                            "<tr><td>1555</td><td>bertalan</td><td>92</td><td>2017-02-20</td><td>2017-02-24</td><td>3</td><td>1</td></tr>",
                            "<tr><td>1556</td><td>gabriella1</td><td>38</td><td>2017-02-21</td><td>2017-02-27</td><td>2</td><td>1</td></tr>",
                            "<tr><td>1557</td><td>peter3</td><td>76</td><td>2017-02-21</td><td>2017-02-24</td><td>2</td><td>0</td></tr>",
                            "<tr><td>1558</td><td>ARONK</td><td>152</td><td>2017-02-21</td><td>2017-02-23</td><td>2</td><td>0</td></tr>",
                            "<tr><td>1559</td><td>ATTILAO</td><td>180</td><td>2017-02-22</td><td>2017-02-25</td><td>2</td><td>1</td></tr>",
                            "<tr><td>1560</td><td>aniko</td><td>109</td><td>2017-02-23</td><td>2017-02-24</td><td>2</td><td>0</td></tr>",
                            "<tr><td>1561</td><td>adam4</td><td>156</td><td>2017-02-23</td><td>2017-02-27</td><td>1</td><td>2</td></tr>",
                            "<tr><td>1562</td><td>MONIKAM</td><td>81</td><td>2017-02-23</td><td>2017-02-26</td><td>1</td><td>1</td></tr>",
                            "<tr><td>1563</td><td>gusztav</td><td>180</td><td>2017-02-23</td><td>2017-03-01</td><td>2</td><td>2</td></tr>",
                            "<tr><td>1564</td><td>krisztian4</td><td>94</td><td>2017-02-23</td><td>2017-03-02</td><td>1</td><td>1</td></tr>",
                            "<tr><td>1565</td><td>peter1</td><td>160</td><td>2017-02-23</td><td>2017-02-26</td><td>2</td><td>1</td></tr>",
                            "<tr><td>1566</td><td>GYORGYO</td><td>115</td><td>2017-02-24</td><td>2017-02-25</td><td>3</td><td>0</td></tr>",
                            "<tr><td>1567</td><td>maria1</td><td>171</td><td>2017-02-24</td><td>2017-03-02</td><td>2</td><td>0</td></tr>",
                            "<tr><td>1568</td><td>bernadett1</td><td>29</td><td>2017-02-24</td><td>2017-03-03</td><td>1</td><td>0</td></tr>",
                            "<tr><td>1569</td><td>JOZSEFG</td><td>96</td><td>2017-02-24</td><td>2017-03-03</td><td>3</td><td>0</td></tr>",
                            "<tr><td>1570</td><td>katalin</td><td>176</td><td>2017-02-24</td><td>2017-02-27</td><td>1</td><td>2</td></tr>",
                            "<tr><td>1571</td><td>dani</td><td>161</td><td>2017-02-25</td><td>2017-03-01</td><td>2</td><td>1</td></tr>",
                            "<tr><td>1572</td><td>david1</td><td>144</td><td>2017-02-25</td><td>2017-02-27</td><td>2</td><td>2</td></tr>",
                            "<tr><td>1573</td><td>aron2</td><td>59</td><td>2017-02-26</td><td>2017-02-27</td><td>2</td><td>1</td></tr>",
                            "<tr><td>1574</td><td>eszter4</td><td>128</td><td>2017-02-26</td><td>2017-02-27</td><td>1</td><td>2</td></tr>",
                            "<tr><td>1575</td><td>reka4</td><td>88</td><td>2017-02-26</td><td>2017-03-04</td><td>1</td><td>1</td></tr>",
                            "<tr><td>1576</td><td>norbert</td><td>189</td><td>2017-02-26</td><td>2017-03-01</td><td>1</td><td>0</td></tr>",
                            "<tr><td>1577</td><td>julia</td><td>78</td><td>2017-02-27</td><td>2017-03-06</td><td>2</td><td>1</td></tr>",
                            "<tr><td>1578</td><td>balazs2</td><td>148</td><td>2017-02-27</td><td>2017-03-06</td><td>1</td><td>0</td></tr>",
                            "<tr><td>1579</td><td>peter1</td><td>127</td><td>2017-02-28</td><td>2017-03-05</td><td>2</td><td>1</td></tr>",
                            "<tr><td>1580</td><td>daniel1</td><td>67</td><td>2017-03-01</td><td>2017-03-06</td><td>2</td><td>2</td></tr>",
                            "<tr><td>1581</td><td>RENATAK</td><td>48</td><td>2017-03-01</td><td>2017-03-06</td><td>1</td><td>0</td></tr>",
                            "<tr><td>1582</td><td>marton</td><td>64</td><td>2017-03-02</td><td>2017-03-03</td><td>2</td><td>0</td></tr>",
                            "<tr><td>1583</td><td>norbert4</td><td>128</td><td>2017-03-03</td><td>2017-03-07</td><td>1</td><td>1</td></tr>",
                            "<tr><td>1584</td><td>kriszti</td><td>67</td><td>2017-03-03</td><td>2017-03-04</td><td>1</td><td>2</td></tr>",
                            "</table>"
                        ]
                    }
                }
            ],
            "execution_count": 20
        }
    ]
}