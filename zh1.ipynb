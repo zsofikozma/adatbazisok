{
    "metadata": {
        "kernelspec": {
            "name": "SQL",
            "display_name": "SQL",
            "language": "sql"
        },
        "language_info": {
            "name": "sql",
            "version": ""
        }
    },
    "nbformat_minor": 2,
    "nbformat": 4,
    "cells": [
        {
            "cell_type": "markdown",
            "source": [
                "1\\. feladat\n",
                "\n",
                "Hány olyan foglalás történt, amely során a foglalás kezdete és vége azonos évre, de különböző hónapra esett?\n",
                "\n",
                "a. Csak a megfelelő számérték jelenjen meg\n",
                "\n",
                "b. Az oszlopot nevezzük el értelemszerűen!"
            ],
            "metadata": {
                "azdata_cell_guid": "04de8667-e603-4a2f-b9f4-b7066189123a"
            },
            "attachments": {}
        },
        {
            "cell_type": "code",
            "source": [
                "SELECT COUNT(*) AS 'azonos év, nem azonos hónap DB'\r\n",
                "FROM Foglalas\r\n",
                "WHERE YEAR(METTOL) = YEAR(MEDDIG) and MONTH(METTOL) <> MONTH(MEDDIG)"
            ],
            "metadata": {
                "azdata_cell_guid": "94ded50a-00ae-4b16-9ab6-03687d001d79",
                "language": "sql"
            },
            "outputs": [
                {
                    "output_type": "display_data",
                    "data": {
                        "text/html": "(1 row affected)"
                    },
                    "metadata": {}
                },
                {
                    "output_type": "display_data",
                    "data": {
                        "text/html": "Total execution time: 00:00:00.008"
                    },
                    "metadata": {}
                },
                {
                    "output_type": "execute_result",
                    "metadata": {},
                    "execution_count": 7,
                    "data": {
                        "application/vnd.dataresource+json": {
                            "schema": {
                                "fields": [
                                    {
                                        "name": "azonos év, nem azonos hónap DB"
                                    }
                                ]
                            },
                            "data": [
                                {
                                    "azonos év, nem azonos hónap DB": "131"
                                }
                            ]
                        },
                        "text/html": [
                            "<table>",
                            "<tr><th>azonos év, nem azonos hónap DB</th></tr>",
                            "<tr><td>131</td></tr>",
                            "</table>"
                        ]
                    }
                }
            ],
            "execution_count": 7
        },
        {
            "cell_type": "markdown",
            "source": [
                "2\\. feladat\n",
                "\n",
                "Készítsen lekérdezést, amely megjeleníti, hogy szobánként (SZOBA\\_FK) hány olyan foglalás történt, ahol a felnőttek száma nagyobb volt a gyermekek számánál!\n",
                "\n",
                "a. Az eredményt rendezzük sorba a foglalásszám szerint növekvően!\n",
                "\n",
                "b. Hagyjuk ki azokat a csoportokat, ahol az említett foglalásszám 2 alatti!"
            ],
            "metadata": {
                "azdata_cell_guid": "b60b5c9a-3004-414f-8c27-5922df72e4b9"
            },
            "attachments": {}
        },
        {
            "cell_type": "code",
            "source": [
                "SELECT SZOBA_FK,\r\n",
                "       COUNT(SZOBA_FK) AS 'foglalas db'\r\n",
                "FROM Foglalas\r\n",
                "WHERE FELNOTT_SZAM > GYERMEK_SZAM\r\n",
                "GROUP BY SZOBA_FK\r\n",
                "HAVING COUNT(SZOBA_FK)>2\r\n",
                "ORDER BY 2 ASC"
            ],
            "metadata": {
                "azdata_cell_guid": "5f01fae0-fcca-4261-a7a4-3cbcc3217737",
                "language": "sql"
            },
            "outputs": [
                {
                    "output_type": "display_data",
                    "data": {
                        "text/html": "(130 rows affected)"
                    },
                    "metadata": {}
                },
                {
                    "output_type": "display_data",
                    "data": {
                        "text/html": "Total execution time: 00:00:00.013"
                    },
                    "metadata": {}
                },
                {
                    "output_type": "execute_result",
                    "metadata": {},
                    "execution_count": 19,
                    "data": {
                        "application/vnd.dataresource+json": {
                            "schema": {
                                "fields": [
                                    {
                                        "name": "SZOBA_FK"
                                    },
                                    {
                                        "name": "foglalas db"
                                    }
                                ]
                            },
                            "data": [
                                {
                                    "SZOBA_FK": "3",
                                    "foglalas db": "3"
                                },
                                {
                                    "SZOBA_FK": "14",
                                    "foglalas db": "3"
                                },
                                {
                                    "SZOBA_FK": "23",
                                    "foglalas db": "3"
                                },
                                {
                                    "SZOBA_FK": "24",
                                    "foglalas db": "3"
                                },
                                {
                                    "SZOBA_FK": "29",
                                    "foglalas db": "3"
                                },
                                {
                                    "SZOBA_FK": "33",
                                    "foglalas db": "3"
                                },
                                {
                                    "SZOBA_FK": "34",
                                    "foglalas db": "3"
                                },
                                {
                                    "SZOBA_FK": "18",
                                    "foglalas db": "3"
                                },
                                {
                                    "SZOBA_FK": "40",
                                    "foglalas db": "3"
                                },
                                {
                                    "SZOBA_FK": "46",
                                    "foglalas db": "3"
                                },
                                {
                                    "SZOBA_FK": "50",
                                    "foglalas db": "3"
                                },
                                {
                                    "SZOBA_FK": "51",
                                    "foglalas db": "3"
                                },
                                {
                                    "SZOBA_FK": "55",
                                    "foglalas db": "3"
                                },
                                {
                                    "SZOBA_FK": "57",
                                    "foglalas db": "3"
                                },
                                {
                                    "SZOBA_FK": "62",
                                    "foglalas db": "3"
                                },
                                {
                                    "SZOBA_FK": "63",
                                    "foglalas db": "3"
                                },
                                {
                                    "SZOBA_FK": "66",
                                    "foglalas db": "3"
                                },
                                {
                                    "SZOBA_FK": "77",
                                    "foglalas db": "3"
                                },
                                {
                                    "SZOBA_FK": "78",
                                    "foglalas db": "3"
                                },
                                {
                                    "SZOBA_FK": "81",
                                    "foglalas db": "3"
                                },
                                {
                                    "SZOBA_FK": "84",
                                    "foglalas db": "3"
                                },
                                {
                                    "SZOBA_FK": "90",
                                    "foglalas db": "3"
                                },
                                {
                                    "SZOBA_FK": "93",
                                    "foglalas db": "3"
                                },
                                {
                                    "SZOBA_FK": "95",
                                    "foglalas db": "3"
                                },
                                {
                                    "SZOBA_FK": "104",
                                    "foglalas db": "3"
                                },
                                {
                                    "SZOBA_FK": "122",
                                    "foglalas db": "3"
                                },
                                {
                                    "SZOBA_FK": "129",
                                    "foglalas db": "3"
                                },
                                {
                                    "SZOBA_FK": "135",
                                    "foglalas db": "3"
                                },
                                {
                                    "SZOBA_FK": "146",
                                    "foglalas db": "3"
                                },
                                {
                                    "SZOBA_FK": "154",
                                    "foglalas db": "3"
                                },
                                {
                                    "SZOBA_FK": "155",
                                    "foglalas db": "3"
                                },
                                {
                                    "SZOBA_FK": "158",
                                    "foglalas db": "3"
                                },
                                {
                                    "SZOBA_FK": "161",
                                    "foglalas db": "3"
                                },
                                {
                                    "SZOBA_FK": "152",
                                    "foglalas db": "3"
                                },
                                {
                                    "SZOBA_FK": "166",
                                    "foglalas db": "3"
                                },
                                {
                                    "SZOBA_FK": "169",
                                    "foglalas db": "3"
                                },
                                {
                                    "SZOBA_FK": "170",
                                    "foglalas db": "3"
                                },
                                {
                                    "SZOBA_FK": "173",
                                    "foglalas db": "3"
                                },
                                {
                                    "SZOBA_FK": "175",
                                    "foglalas db": "3"
                                },
                                {
                                    "SZOBA_FK": "183",
                                    "foglalas db": "3"
                                },
                                {
                                    "SZOBA_FK": "191",
                                    "foglalas db": "3"
                                },
                                {
                                    "SZOBA_FK": "184",
                                    "foglalas db": "4"
                                },
                                {
                                    "SZOBA_FK": "174",
                                    "foglalas db": "4"
                                },
                                {
                                    "SZOBA_FK": "153",
                                    "foglalas db": "4"
                                },
                                {
                                    "SZOBA_FK": "164",
                                    "foglalas db": "4"
                                },
                                {
                                    "SZOBA_FK": "141",
                                    "foglalas db": "4"
                                },
                                {
                                    "SZOBA_FK": "131",
                                    "foglalas db": "4"
                                },
                                {
                                    "SZOBA_FK": "132",
                                    "foglalas db": "4"
                                },
                                {
                                    "SZOBA_FK": "133",
                                    "foglalas db": "4"
                                },
                                {
                                    "SZOBA_FK": "134",
                                    "foglalas db": "4"
                                },
                                {
                                    "SZOBA_FK": "124",
                                    "foglalas db": "4"
                                },
                                {
                                    "SZOBA_FK": "126",
                                    "foglalas db": "4"
                                },
                                {
                                    "SZOBA_FK": "117",
                                    "foglalas db": "4"
                                },
                                {
                                    "SZOBA_FK": "119",
                                    "foglalas db": "4"
                                },
                                {
                                    "SZOBA_FK": "106",
                                    "foglalas db": "4"
                                },
                                {
                                    "SZOBA_FK": "107",
                                    "foglalas db": "4"
                                },
                                {
                                    "SZOBA_FK": "98",
                                    "foglalas db": "4"
                                },
                                {
                                    "SZOBA_FK": "99",
                                    "foglalas db": "4"
                                },
                                {
                                    "SZOBA_FK": "112",
                                    "foglalas db": "4"
                                },
                                {
                                    "SZOBA_FK": "54",
                                    "foglalas db": "4"
                                },
                                {
                                    "SZOBA_FK": "86",
                                    "foglalas db": "4"
                                },
                                {
                                    "SZOBA_FK": "73",
                                    "foglalas db": "4"
                                },
                                {
                                    "SZOBA_FK": "79",
                                    "foglalas db": "4"
                                },
                                {
                                    "SZOBA_FK": "59",
                                    "foglalas db": "4"
                                },
                                {
                                    "SZOBA_FK": "61",
                                    "foglalas db": "4"
                                },
                                {
                                    "SZOBA_FK": "45",
                                    "foglalas db": "4"
                                },
                                {
                                    "SZOBA_FK": "43",
                                    "foglalas db": "4"
                                },
                                {
                                    "SZOBA_FK": "13",
                                    "foglalas db": "4"
                                },
                                {
                                    "SZOBA_FK": "39",
                                    "foglalas db": "4"
                                },
                                {
                                    "SZOBA_FK": "19",
                                    "foglalas db": "4"
                                },
                                {
                                    "SZOBA_FK": "36",
                                    "foglalas db": "4"
                                },
                                {
                                    "SZOBA_FK": "15",
                                    "foglalas db": "4"
                                },
                                {
                                    "SZOBA_FK": "9",
                                    "foglalas db": "4"
                                },
                                {
                                    "SZOBA_FK": "10",
                                    "foglalas db": "4"
                                },
                                {
                                    "SZOBA_FK": "11",
                                    "foglalas db": "4"
                                },
                                {
                                    "SZOBA_FK": "4",
                                    "foglalas db": "5"
                                },
                                {
                                    "SZOBA_FK": "6",
                                    "foglalas db": "5"
                                },
                                {
                                    "SZOBA_FK": "8",
                                    "foglalas db": "5"
                                },
                                {
                                    "SZOBA_FK": "27",
                                    "foglalas db": "5"
                                },
                                {
                                    "SZOBA_FK": "28",
                                    "foglalas db": "5"
                                },
                                {
                                    "SZOBA_FK": "38",
                                    "foglalas db": "5"
                                },
                                {
                                    "SZOBA_FK": "20",
                                    "foglalas db": "5"
                                },
                                {
                                    "SZOBA_FK": "42",
                                    "foglalas db": "5"
                                },
                                {
                                    "SZOBA_FK": "49",
                                    "foglalas db": "5"
                                },
                                {
                                    "SZOBA_FK": "52",
                                    "foglalas db": "5"
                                },
                                {
                                    "SZOBA_FK": "80",
                                    "foglalas db": "5"
                                },
                                {
                                    "SZOBA_FK": "64",
                                    "foglalas db": "5"
                                },
                                {
                                    "SZOBA_FK": "82",
                                    "foglalas db": "5"
                                },
                                {
                                    "SZOBA_FK": "83",
                                    "foglalas db": "5"
                                },
                                {
                                    "SZOBA_FK": "87",
                                    "foglalas db": "5"
                                },
                                {
                                    "SZOBA_FK": "88",
                                    "foglalas db": "5"
                                },
                                {
                                    "SZOBA_FK": "97",
                                    "foglalas db": "5"
                                },
                                {
                                    "SZOBA_FK": "92",
                                    "foglalas db": "5"
                                },
                                {
                                    "SZOBA_FK": "115",
                                    "foglalas db": "5"
                                },
                                {
                                    "SZOBA_FK": "110",
                                    "foglalas db": "5"
                                },
                                {
                                    "SZOBA_FK": "121",
                                    "foglalas db": "5"
                                },
                                {
                                    "SZOBA_FK": "123",
                                    "foglalas db": "5"
                                },
                                {
                                    "SZOBA_FK": "127",
                                    "foglalas db": "5"
                                },
                                {
                                    "SZOBA_FK": "130",
                                    "foglalas db": "5"
                                },
                                {
                                    "SZOBA_FK": "143",
                                    "foglalas db": "5"
                                },
                                {
                                    "SZOBA_FK": "138",
                                    "foglalas db": "5"
                                },
                                {
                                    "SZOBA_FK": "163",
                                    "foglalas db": "5"
                                },
                                {
                                    "SZOBA_FK": "148",
                                    "foglalas db": "5"
                                },
                                {
                                    "SZOBA_FK": "149",
                                    "foglalas db": "5"
                                },
                                {
                                    "SZOBA_FK": "165",
                                    "foglalas db": "5"
                                },
                                {
                                    "SZOBA_FK": "171",
                                    "foglalas db": "5"
                                },
                                {
                                    "SZOBA_FK": "181",
                                    "foglalas db": "5"
                                },
                                {
                                    "SZOBA_FK": "140",
                                    "foglalas db": "5"
                                },
                                {
                                    "SZOBA_FK": "195",
                                    "foglalas db": "5"
                                },
                                {
                                    "SZOBA_FK": "190",
                                    "foglalas db": "5"
                                },
                                {
                                    "SZOBA_FK": "197",
                                    "foglalas db": "6"
                                },
                                {
                                    "SZOBA_FK": "187",
                                    "foglalas db": "6"
                                },
                                {
                                    "SZOBA_FK": "172",
                                    "foglalas db": "6"
                                },
                                {
                                    "SZOBA_FK": "150",
                                    "foglalas db": "6"
                                },
                                {
                                    "SZOBA_FK": "139",
                                    "foglalas db": "6"
                                },
                                {
                                    "SZOBA_FK": "94",
                                    "foglalas db": "6"
                                },
                                {
                                    "SZOBA_FK": "96",
                                    "foglalas db": "6"
                                },
                                {
                                    "SZOBA_FK": "44",
                                    "foglalas db": "6"
                                },
                                {
                                    "SZOBA_FK": "48",
                                    "foglalas db": "6"
                                },
                                {
                                    "SZOBA_FK": "35",
                                    "foglalas db": "6"
                                },
                                {
                                    "SZOBA_FK": "7",
                                    "foglalas db": "6"
                                },
                                {
                                    "SZOBA_FK": "12",
                                    "foglalas db": "7"
                                },
                                {
                                    "SZOBA_FK": "1",
                                    "foglalas db": "7"
                                },
                                {
                                    "SZOBA_FK": "198",
                                    "foglalas db": "7"
                                },
                                {
                                    "SZOBA_FK": "89",
                                    "foglalas db": "8"
                                },
                                {
                                    "SZOBA_FK": "74",
                                    "foglalas db": "8"
                                },
                                {
                                    "SZOBA_FK": "70",
                                    "foglalas db": "8"
                                },
                                {
                                    "SZOBA_FK": "58",
                                    "foglalas db": "8"
                                },
                                {
                                    "SZOBA_FK": "185",
                                    "foglalas db": "10"
                                },
                                {
                                    "SZOBA_FK": "182",
                                    "foglalas db": "11"
                                }
                            ]
                        },
                        "text/html": [
                            "<table>",
                            "<tr><th>SZOBA_FK</th><th>foglalas db</th></tr>",
                            "<tr><td>3</td><td>3</td></tr>",
                            "<tr><td>14</td><td>3</td></tr>",
                            "<tr><td>23</td><td>3</td></tr>",
                            "<tr><td>24</td><td>3</td></tr>",
                            "<tr><td>29</td><td>3</td></tr>",
                            "<tr><td>33</td><td>3</td></tr>",
                            "<tr><td>34</td><td>3</td></tr>",
                            "<tr><td>18</td><td>3</td></tr>",
                            "<tr><td>40</td><td>3</td></tr>",
                            "<tr><td>46</td><td>3</td></tr>",
                            "<tr><td>50</td><td>3</td></tr>",
                            "<tr><td>51</td><td>3</td></tr>",
                            "<tr><td>55</td><td>3</td></tr>",
                            "<tr><td>57</td><td>3</td></tr>",
                            "<tr><td>62</td><td>3</td></tr>",
                            "<tr><td>63</td><td>3</td></tr>",
                            "<tr><td>66</td><td>3</td></tr>",
                            "<tr><td>77</td><td>3</td></tr>",
                            "<tr><td>78</td><td>3</td></tr>",
                            "<tr><td>81</td><td>3</td></tr>",
                            "<tr><td>84</td><td>3</td></tr>",
                            "<tr><td>90</td><td>3</td></tr>",
                            "<tr><td>93</td><td>3</td></tr>",
                            "<tr><td>95</td><td>3</td></tr>",
                            "<tr><td>104</td><td>3</td></tr>",
                            "<tr><td>122</td><td>3</td></tr>",
                            "<tr><td>129</td><td>3</td></tr>",
                            "<tr><td>135</td><td>3</td></tr>",
                            "<tr><td>146</td><td>3</td></tr>",
                            "<tr><td>154</td><td>3</td></tr>",
                            "<tr><td>155</td><td>3</td></tr>",
                            "<tr><td>158</td><td>3</td></tr>",
                            "<tr><td>161</td><td>3</td></tr>",
                            "<tr><td>152</td><td>3</td></tr>",
                            "<tr><td>166</td><td>3</td></tr>",
                            "<tr><td>169</td><td>3</td></tr>",
                            "<tr><td>170</td><td>3</td></tr>",
                            "<tr><td>173</td><td>3</td></tr>",
                            "<tr><td>175</td><td>3</td></tr>",
                            "<tr><td>183</td><td>3</td></tr>",
                            "<tr><td>191</td><td>3</td></tr>",
                            "<tr><td>184</td><td>4</td></tr>",
                            "<tr><td>174</td><td>4</td></tr>",
                            "<tr><td>153</td><td>4</td></tr>",
                            "<tr><td>164</td><td>4</td></tr>",
                            "<tr><td>141</td><td>4</td></tr>",
                            "<tr><td>131</td><td>4</td></tr>",
                            "<tr><td>132</td><td>4</td></tr>",
                            "<tr><td>133</td><td>4</td></tr>",
                            "<tr><td>134</td><td>4</td></tr>",
                            "<tr><td>124</td><td>4</td></tr>",
                            "<tr><td>126</td><td>4</td></tr>",
                            "<tr><td>117</td><td>4</td></tr>",
                            "<tr><td>119</td><td>4</td></tr>",
                            "<tr><td>106</td><td>4</td></tr>",
                            "<tr><td>107</td><td>4</td></tr>",
                            "<tr><td>98</td><td>4</td></tr>",
                            "<tr><td>99</td><td>4</td></tr>",
                            "<tr><td>112</td><td>4</td></tr>",
                            "<tr><td>54</td><td>4</td></tr>",
                            "<tr><td>86</td><td>4</td></tr>",
                            "<tr><td>73</td><td>4</td></tr>",
                            "<tr><td>79</td><td>4</td></tr>",
                            "<tr><td>59</td><td>4</td></tr>",
                            "<tr><td>61</td><td>4</td></tr>",
                            "<tr><td>45</td><td>4</td></tr>",
                            "<tr><td>43</td><td>4</td></tr>",
                            "<tr><td>13</td><td>4</td></tr>",
                            "<tr><td>39</td><td>4</td></tr>",
                            "<tr><td>19</td><td>4</td></tr>",
                            "<tr><td>36</td><td>4</td></tr>",
                            "<tr><td>15</td><td>4</td></tr>",
                            "<tr><td>9</td><td>4</td></tr>",
                            "<tr><td>10</td><td>4</td></tr>",
                            "<tr><td>11</td><td>4</td></tr>",
                            "<tr><td>4</td><td>5</td></tr>",
                            "<tr><td>6</td><td>5</td></tr>",
                            "<tr><td>8</td><td>5</td></tr>",
                            "<tr><td>27</td><td>5</td></tr>",
                            "<tr><td>28</td><td>5</td></tr>",
                            "<tr><td>38</td><td>5</td></tr>",
                            "<tr><td>20</td><td>5</td></tr>",
                            "<tr><td>42</td><td>5</td></tr>",
                            "<tr><td>49</td><td>5</td></tr>",
                            "<tr><td>52</td><td>5</td></tr>",
                            "<tr><td>80</td><td>5</td></tr>",
                            "<tr><td>64</td><td>5</td></tr>",
                            "<tr><td>82</td><td>5</td></tr>",
                            "<tr><td>83</td><td>5</td></tr>",
                            "<tr><td>87</td><td>5</td></tr>",
                            "<tr><td>88</td><td>5</td></tr>",
                            "<tr><td>97</td><td>5</td></tr>",
                            "<tr><td>92</td><td>5</td></tr>",
                            "<tr><td>115</td><td>5</td></tr>",
                            "<tr><td>110</td><td>5</td></tr>",
                            "<tr><td>121</td><td>5</td></tr>",
                            "<tr><td>123</td><td>5</td></tr>",
                            "<tr><td>127</td><td>5</td></tr>",
                            "<tr><td>130</td><td>5</td></tr>",
                            "<tr><td>143</td><td>5</td></tr>",
                            "<tr><td>138</td><td>5</td></tr>",
                            "<tr><td>163</td><td>5</td></tr>",
                            "<tr><td>148</td><td>5</td></tr>",
                            "<tr><td>149</td><td>5</td></tr>",
                            "<tr><td>165</td><td>5</td></tr>",
                            "<tr><td>171</td><td>5</td></tr>",
                            "<tr><td>181</td><td>5</td></tr>",
                            "<tr><td>140</td><td>5</td></tr>",
                            "<tr><td>195</td><td>5</td></tr>",
                            "<tr><td>190</td><td>5</td></tr>",
                            "<tr><td>197</td><td>6</td></tr>",
                            "<tr><td>187</td><td>6</td></tr>",
                            "<tr><td>172</td><td>6</td></tr>",
                            "<tr><td>150</td><td>6</td></tr>",
                            "<tr><td>139</td><td>6</td></tr>",
                            "<tr><td>94</td><td>6</td></tr>",
                            "<tr><td>96</td><td>6</td></tr>",
                            "<tr><td>44</td><td>6</td></tr>",
                            "<tr><td>48</td><td>6</td></tr>",
                            "<tr><td>35</td><td>6</td></tr>",
                            "<tr><td>7</td><td>6</td></tr>",
                            "<tr><td>12</td><td>7</td></tr>",
                            "<tr><td>1</td><td>7</td></tr>",
                            "<tr><td>198</td><td>7</td></tr>",
                            "<tr><td>89</td><td>8</td></tr>",
                            "<tr><td>74</td><td>8</td></tr>",
                            "<tr><td>70</td><td>8</td></tr>",
                            "<tr><td>58</td><td>8</td></tr>",
                            "<tr><td>185</td><td>10</td></tr>",
                            "<tr><td>182</td><td>11</td></tr>",
                            "</table>"
                        ]
                    }
                }
            ],
            "execution_count": 19
        },
        {
            "cell_type": "markdown",
            "source": [
                "3\\. feladat\n",
                "\n",
                "Készítsünk lekérdezést, amely megmutatja, hogy melyik szobát évente hányszor foglalták le!\n",
                "\n",
                "a. Jelenítsük meg a szobák azonosítóját, az évszámot és a foglalások számát!\n",
                "\n",
                "b. A listát szűrjük a 10 db foglalás feletti tételekre\n",
                "\n",
                "c. A listából hagyjuk ki a páros szobaszámú szobákat"
            ],
            "metadata": {
                "azdata_cell_guid": "ef09ba8d-67eb-4171-b623-c78e1b1a10aa"
            },
            "attachments": {}
        },
        {
            "cell_type": "code",
            "source": [
                "SELECT SZOBA_FK,\r\n",
                "       COUNT(SZOBA_FK)\r\n",
                "FROM Foglalas\r\n",
                "WHERE YEAR(METTOL) = 2016\r\n",
                "GROUP BY SZOBA_FK\r\n",
                "HAVING COUNT(SZOBA_FK) > 10\r\n",
                "\r\n",
                "UNION\r\n",
                "\r\n",
                "SELECT SZOBA_FK,\r\n",
                "       COUNT(SZOBA_FK)\r\n",
                "FROM Foglalas\r\n",
                "WHERE YEAR(METTOL) = 2017\r\n",
                "GROUP BY SZOBA_FK\r\n",
                "HAVING COUNT(SZOBA_FK) > 10"
            ],
            "metadata": {
                "azdata_cell_guid": "c083b64d-de9f-4350-8695-1559e29b1a7d",
                "language": "sql"
            },
            "outputs": [
                {
                    "output_type": "display_data",
                    "data": {
                        "text/html": "(1 row affected)"
                    },
                    "metadata": {}
                },
                {
                    "output_type": "display_data",
                    "data": {
                        "text/html": "Total execution time: 00:00:00.014"
                    },
                    "metadata": {}
                },
                {
                    "output_type": "execute_result",
                    "metadata": {},
                    "execution_count": 59,
                    "data": {
                        "application/vnd.dataresource+json": {
                            "schema": {
                                "fields": [
                                    {
                                        "name": "SZOBA_FK"
                                    },
                                    {
                                        "name": "(No column name)"
                                    }
                                ]
                            },
                            "data": [
                                {
                                    "SZOBA_FK": "58",
                                    "(No column name)": "12"
                                }
                            ]
                        },
                        "text/html": [
                            "<table>",
                            "<tr><th>SZOBA_FK</th><th>(No column name)</th></tr>",
                            "<tr><td>58</td><td>12</td></tr>",
                            "</table>"
                        ]
                    }
                }
            ],
            "execution_count": 59
        }
    ]
}