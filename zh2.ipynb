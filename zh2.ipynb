{
    "metadata": {
        "kernelspec": {
            "name": "SQL",
            "display_name": "SQL",
            "language": "sql"
        },
        "language_info": {
            "name": "sql",
            "version": ""
        }
    },
    "nbformat_minor": 2,
    "nbformat": 4,
    "cells": [
        {
            "cell_type": "markdown",
            "source": [
                "1\\. Készítsünk listát az egyes szálláshelyek átlagos csillagszámáról típus, illetve hely szerint csoportosítva (külön-külön)!\n",
                "\n",
                "- Az átlag 2 tizedesre kerekítve jelenjen meg\n",
                "- Hagyjuk ki azokat a szálláshelyeket, amelyek nevében kötőjel (-) van!"
            ],
            "metadata": {
                "azdata_cell_guid": "28bda761-859f-47bc-9de5-300818eecb28"
            },
            "attachments": {}
        },
        {
            "cell_type": "code",
            "source": [
                "SELECT  TIPUS,\r\n",
                "        HELY,\r\n",
                "        ROUND(AVG(CSILLAGOK_SZAMA), 3) AS 'Átlagos csillagszám'\r\n",
                "FROM szallashely \r\n",
                "WHERE TIPUS IS NOT NULL AND SZALLAS_NEV <> '-'\r\n",
                "GROUP BY TIPUS, HELY"
            ],
            "metadata": {
                "azdata_cell_guid": "05c79bb4-b765-46e5-990e-2a93772b1ddc",
                "language": "sql"
            },
            "outputs": [
                {
                    "output_type": "display_data",
                    "data": {
                        "text/html": "(16 rows affected)"
                    },
                    "metadata": {}
                },
                {
                    "output_type": "display_data",
                    "data": {
                        "text/html": "Total execution time: 00:00:00.008"
                    },
                    "metadata": {}
                },
                {
                    "output_type": "execute_result",
                    "metadata": {},
                    "execution_count": 2,
                    "data": {
                        "application/vnd.dataresource+json": {
                            "schema": {
                                "fields": [
                                    {
                                        "name": "TIPUS"
                                    },
                                    {
                                        "name": "HELY"
                                    },
                                    {
                                        "name": "Átlagos csillagszám"
                                    }
                                ]
                            },
                            "data": [
                                {
                                    "TIPUS": "Apartman",
                                    "HELY": "Balaton-dél",
                                    "Átlagos csillagszám": "0"
                                },
                                {
                                    "TIPUS": "Hotel",
                                    "HELY": "Balaton-dél",
                                    "Átlagos csillagszám": "3"
                                },
                                {
                                    "TIPUS": "panzió",
                                    "HELY": "Balaton-dél",
                                    "Átlagos csillagszám": "3"
                                },
                                {
                                    "TIPUS": "vendégház",
                                    "HELY": "Balaton-dél",
                                    "Átlagos csillagszám": "0"
                                },
                                {
                                    "TIPUS": "vendégház",
                                    "HELY": "Balaton-észak",
                                    "Átlagos csillagszám": "0"
                                },
                                {
                                    "TIPUS": "panzió",
                                    "HELY": "Békés megye",
                                    "Átlagos csillagszám": "3"
                                },
                                {
                                    "TIPUS": "Diákszálló",
                                    "HELY": "Budapest",
                                    "Átlagos csillagszám": "0"
                                },
                                {
                                    "TIPUS": "Hotel",
                                    "HELY": "Budapest",
                                    "Átlagos csillagszám": "3"
                                },
                                {
                                    "TIPUS": "panzió",
                                    "HELY": "Budapest",
                                    "Átlagos csillagszám": "3"
                                },
                                {
                                    "TIPUS": "panzió",
                                    "HELY": "Csongrád megye",
                                    "Átlagos csillagszám": "3"
                                },
                                {
                                    "TIPUS": "vendégház",
                                    "HELY": "Csongrád megye",
                                    "Átlagos csillagszám": "0"
                                },
                                {
                                    "TIPUS": "Apartman",
                                    "HELY": "Dél-Somogy",
                                    "Átlagos csillagszám": "0"
                                },
                                {
                                    "TIPUS": "vendégház",
                                    "HELY": "Dél-Somogy",
                                    "Átlagos csillagszám": "0"
                                },
                                {
                                    "TIPUS": "Apartman",
                                    "HELY": "Hajdúbihar megye",
                                    "Átlagos csillagszám": "0"
                                },
                                {
                                    "TIPUS": "Hotel",
                                    "HELY": "Pest megye",
                                    "Átlagos csillagszám": "3"
                                },
                                {
                                    "TIPUS": "Hotel",
                                    "HELY": "Tolna megye",
                                    "Átlagos csillagszám": "4"
                                }
                            ]
                        },
                        "text/html": [
                            "<table>",
                            "<tr><th>TIPUS</th><th>HELY</th><th>Átlagos csillagszám</th></tr>",
                            "<tr><td>Apartman</td><td>Balaton-dél</td><td>0</td></tr>",
                            "<tr><td>Hotel</td><td>Balaton-dél</td><td>3</td></tr>",
                            "<tr><td>panzió</td><td>Balaton-dél</td><td>3</td></tr>",
                            "<tr><td>vendégház</td><td>Balaton-dél</td><td>0</td></tr>",
                            "<tr><td>vendégház</td><td>Balaton-észak</td><td>0</td></tr>",
                            "<tr><td>panzió</td><td>Békés megye</td><td>3</td></tr>",
                            "<tr><td>Diákszálló</td><td>Budapest</td><td>0</td></tr>",
                            "<tr><td>Hotel</td><td>Budapest</td><td>3</td></tr>",
                            "<tr><td>panzió</td><td>Budapest</td><td>3</td></tr>",
                            "<tr><td>panzió</td><td>Csongrád megye</td><td>3</td></tr>",
                            "<tr><td>vendégház</td><td>Csongrád megye</td><td>0</td></tr>",
                            "<tr><td>Apartman</td><td>Dél-Somogy</td><td>0</td></tr>",
                            "<tr><td>vendégház</td><td>Dél-Somogy</td><td>0</td></tr>",
                            "<tr><td>Apartman</td><td>Hajdúbihar megye</td><td>0</td></tr>",
                            "<tr><td>Hotel</td><td>Pest megye</td><td>3</td></tr>",
                            "<tr><td>Hotel</td><td>Tolna megye</td><td>4</td></tr>",
                            "</table>"
                        ]
                    }
                }
            ],
            "execution_count": 2
        },
        {
            "cell_type": "markdown",
            "source": [
                "2\\. Rangsoroljuk az egyes szobákat a foglalások száma, azon belül férőhely szerint!\n",
                "\n",
                "- Holtverseny esetén a sorszámok sűrűn kövessék egymást\n",
                "- Az 1-es számot a legtöbbet foglalt, azon belül legkevesebb férőhelyű szoba kapja\n",
                "- Csak a szoba azonosítója, a férőhely és a helyezés jelenjen meg"
            ],
            "metadata": {
                "azdata_cell_guid": "1047736d-3137-4e8a-8b3a-cef8268a0032"
            },
            "attachments": {}
        },
        {
            "cell_type": "code",
            "source": [
                "SELECT sz.SZOBA_ID, \r\n",
                "       sz.ferohely,\r\n",
                "       ROW_NUMBER() OVER (PARTITION BY COUNT(f.FOGLALAS_PK) ORDER BY sz.ferohely DESC)\r\n",
                "From Vendeg v LEFT JOIN Foglalas f ON v.USERNEV = f.UGYFEL_FK\r\n",
                "    LEFT JOIN Szoba sz ON f.SZOBA_FK = sz.SZOBA_ID\r\n",
                "    LEFT JOIN Szallashely szh ON sz.SZALLAS_FK = szh.SZALLAS_ID\r\n",
                "GROUP BY f.FOGLALAS_PK, sz.FEROHELY, sz.SZOBA_ID"
            ],
            "metadata": {
                "azdata_cell_guid": "1902562c-8744-4db9-a9f6-0c5422acafac",
                "language": "sql"
            },
            "outputs": [
                {
                    "output_type": "display_data",
                    "data": {
                        "text/html": "Warning: Null value is eliminated by an aggregate or other SET operation."
                    },
                    "metadata": {}
                },
                {
                    "output_type": "display_data",
                    "data": {
                        "text/html": "(1028 rows affected)"
                    },
                    "metadata": {}
                },
                {
                    "output_type": "display_data",
                    "data": {
                        "text/html": "Total execution time: 00:00:00.063"
                    },
                    "metadata": {}
                },
                {
                    "output_type": "execute_result",
                    "metadata": {},
                    "execution_count": 7,
                    "data": {
                        "application/vnd.dataresource+json": {
                            "schema": {
                                "fields": [
                                    {
                                        "name": "SZOBA_ID"
                                    },
                                    {
                                        "name": "ferohely"
                                    },
                                    {
                                        "name": "(No column name)"
                                    }
                                ]
                            },
                            "data": [
                                {
                                    "SZOBA_ID": "NULL",
                                    "ferohely": "NULL",
                                    "(No column name)": "1"
                                },
                                {
                                    "SZOBA_ID": "24",
                                    "ferohely": "4",
                                    "(No column name)": "1"
                                },
                                {
                                    "SZOBA_ID": "24",
                                    "ferohely": "4",
                                    "(No column name)": "2"
                                },
                                {
                                    "SZOBA_ID": "24",
                                    "ferohely": "4",
                                    "(No column name)": "3"
                                },
                                {
                                    "SZOBA_ID": "25",
                                    "ferohely": "3",
                                    "(No column name)": "4"
                                },
                                {
                                    "SZOBA_ID": "25",
                                    "ferohely": "3",
                                    "(No column name)": "5"
                                },
                                {
                                    "SZOBA_ID": "46",
                                    "ferohely": "3",
                                    "(No column name)": "6"
                                },
                                {
                                    "SZOBA_ID": "46",
                                    "ferohely": "3",
                                    "(No column name)": "7"
                                },
                                {
                                    "SZOBA_ID": "46",
                                    "ferohely": "3",
                                    "(No column name)": "8"
                                },
                                {
                                    "SZOBA_ID": "46",
                                    "ferohely": "3",
                                    "(No column name)": "9"
                                },
                                {
                                    "SZOBA_ID": "51",
                                    "ferohely": "3",
                                    "(No column name)": "10"
                                },
                                {
                                    "SZOBA_ID": "51",
                                    "ferohely": "3",
                                    "(No column name)": "11"
                                },
                                {
                                    "SZOBA_ID": "51",
                                    "ferohely": "3",
                                    "(No column name)": "12"
                                },
                                {
                                    "SZOBA_ID": "51",
                                    "ferohely": "3",
                                    "(No column name)": "13"
                                },
                                {
                                    "SZOBA_ID": "51",
                                    "ferohely": "3",
                                    "(No column name)": "14"
                                },
                                {
                                    "SZOBA_ID": "48",
                                    "ferohely": "3",
                                    "(No column name)": "15"
                                },
                                {
                                    "SZOBA_ID": "48",
                                    "ferohely": "3",
                                    "(No column name)": "16"
                                },
                                {
                                    "SZOBA_ID": "48",
                                    "ferohely": "3",
                                    "(No column name)": "17"
                                },
                                {
                                    "SZOBA_ID": "48",
                                    "ferohely": "3",
                                    "(No column name)": "18"
                                },
                                {
                                    "SZOBA_ID": "48",
                                    "ferohely": "3",
                                    "(No column name)": "19"
                                },
                                {
                                    "SZOBA_ID": "48",
                                    "ferohely": "3",
                                    "(No column name)": "20"
                                },
                                {
                                    "SZOBA_ID": "48",
                                    "ferohely": "3",
                                    "(No column name)": "21"
                                },
                                {
                                    "SZOBA_ID": "48",
                                    "ferohely": "3",
                                    "(No column name)": "22"
                                },
                                {
                                    "SZOBA_ID": "48",
                                    "ferohely": "3",
                                    "(No column name)": "23"
                                },
                                {
                                    "SZOBA_ID": "49",
                                    "ferohely": "3",
                                    "(No column name)": "24"
                                },
                                {
                                    "SZOBA_ID": "49",
                                    "ferohely": "3",
                                    "(No column name)": "25"
                                },
                                {
                                    "SZOBA_ID": "49",
                                    "ferohely": "3",
                                    "(No column name)": "26"
                                },
                                {
                                    "SZOBA_ID": "49",
                                    "ferohely": "3",
                                    "(No column name)": "27"
                                },
                                {
                                    "SZOBA_ID": "49",
                                    "ferohely": "3",
                                    "(No column name)": "28"
                                },
                                {
                                    "SZOBA_ID": "49",
                                    "ferohely": "3",
                                    "(No column name)": "29"
                                },
                                {
                                    "SZOBA_ID": "49",
                                    "ferohely": "3",
                                    "(No column name)": "30"
                                },
                                {
                                    "SZOBA_ID": "30",
                                    "ferohely": "3",
                                    "(No column name)": "31"
                                },
                                {
                                    "SZOBA_ID": "30",
                                    "ferohely": "3",
                                    "(No column name)": "32"
                                },
                                {
                                    "SZOBA_ID": "30",
                                    "ferohely": "3",
                                    "(No column name)": "33"
                                },
                                {
                                    "SZOBA_ID": "31",
                                    "ferohely": "3",
                                    "(No column name)": "34"
                                },
                                {
                                    "SZOBA_ID": "31",
                                    "ferohely": "3",
                                    "(No column name)": "35"
                                },
                                {
                                    "SZOBA_ID": "31",
                                    "ferohely": "3",
                                    "(No column name)": "36"
                                },
                                {
                                    "SZOBA_ID": "40",
                                    "ferohely": "3",
                                    "(No column name)": "37"
                                },
                                {
                                    "SZOBA_ID": "40",
                                    "ferohely": "3",
                                    "(No column name)": "38"
                                },
                                {
                                    "SZOBA_ID": "40",
                                    "ferohely": "3",
                                    "(No column name)": "39"
                                },
                                {
                                    "SZOBA_ID": "40",
                                    "ferohely": "3",
                                    "(No column name)": "40"
                                },
                                {
                                    "SZOBA_ID": "41",
                                    "ferohely": "3",
                                    "(No column name)": "41"
                                },
                                {
                                    "SZOBA_ID": "41",
                                    "ferohely": "3",
                                    "(No column name)": "42"
                                },
                                {
                                    "SZOBA_ID": "43",
                                    "ferohely": "3",
                                    "(No column name)": "43"
                                },
                                {
                                    "SZOBA_ID": "43",
                                    "ferohely": "3",
                                    "(No column name)": "44"
                                },
                                {
                                    "SZOBA_ID": "43",
                                    "ferohely": "3",
                                    "(No column name)": "45"
                                },
                                {
                                    "SZOBA_ID": "43",
                                    "ferohely": "3",
                                    "(No column name)": "46"
                                },
                                {
                                    "SZOBA_ID": "43",
                                    "ferohely": "3",
                                    "(No column name)": "47"
                                },
                                {
                                    "SZOBA_ID": "43",
                                    "ferohely": "3",
                                    "(No column name)": "48"
                                },
                                {
                                    "SZOBA_ID": "43",
                                    "ferohely": "3",
                                    "(No column name)": "49"
                                },
                                {
                                    "SZOBA_ID": "43",
                                    "ferohely": "3",
                                    "(No column name)": "50"
                                },
                                {
                                    "SZOBA_ID": "44",
                                    "ferohely": "3",
                                    "(No column name)": "51"
                                },
                                {
                                    "SZOBA_ID": "44",
                                    "ferohely": "3",
                                    "(No column name)": "52"
                                },
                                {
                                    "SZOBA_ID": "44",
                                    "ferohely": "3",
                                    "(No column name)": "53"
                                },
                                {
                                    "SZOBA_ID": "44",
                                    "ferohely": "3",
                                    "(No column name)": "54"
                                },
                                {
                                    "SZOBA_ID": "44",
                                    "ferohely": "3",
                                    "(No column name)": "55"
                                },
                                {
                                    "SZOBA_ID": "44",
                                    "ferohely": "3",
                                    "(No column name)": "56"
                                },
                                {
                                    "SZOBA_ID": "54",
                                    "ferohely": "3",
                                    "(No column name)": "57"
                                },
                                {
                                    "SZOBA_ID": "54",
                                    "ferohely": "3",
                                    "(No column name)": "58"
                                },
                                {
                                    "SZOBA_ID": "54",
                                    "ferohely": "3",
                                    "(No column name)": "59"
                                },
                                {
                                    "SZOBA_ID": "54",
                                    "ferohely": "3",
                                    "(No column name)": "60"
                                },
                                {
                                    "SZOBA_ID": "54",
                                    "ferohely": "3",
                                    "(No column name)": "61"
                                },
                                {
                                    "SZOBA_ID": "54",
                                    "ferohely": "3",
                                    "(No column name)": "62"
                                },
                                {
                                    "SZOBA_ID": "60",
                                    "ferohely": "3",
                                    "(No column name)": "63"
                                },
                                {
                                    "SZOBA_ID": "61",
                                    "ferohely": "3",
                                    "(No column name)": "64"
                                },
                                {
                                    "SZOBA_ID": "61",
                                    "ferohely": "3",
                                    "(No column name)": "65"
                                },
                                {
                                    "SZOBA_ID": "61",
                                    "ferohely": "3",
                                    "(No column name)": "66"
                                },
                                {
                                    "SZOBA_ID": "61",
                                    "ferohely": "3",
                                    "(No column name)": "67"
                                },
                                {
                                    "SZOBA_ID": "61",
                                    "ferohely": "3",
                                    "(No column name)": "68"
                                },
                                {
                                    "SZOBA_ID": "66",
                                    "ferohely": "3",
                                    "(No column name)": "69"
                                },
                                {
                                    "SZOBA_ID": "66",
                                    "ferohely": "3",
                                    "(No column name)": "70"
                                },
                                {
                                    "SZOBA_ID": "66",
                                    "ferohely": "3",
                                    "(No column name)": "71"
                                },
                                {
                                    "SZOBA_ID": "66",
                                    "ferohely": "3",
                                    "(No column name)": "72"
                                },
                                {
                                    "SZOBA_ID": "69",
                                    "ferohely": "3",
                                    "(No column name)": "73"
                                },
                                {
                                    "SZOBA_ID": "69",
                                    "ferohely": "3",
                                    "(No column name)": "74"
                                },
                                {
                                    "SZOBA_ID": "69",
                                    "ferohely": "3",
                                    "(No column name)": "75"
                                },
                                {
                                    "SZOBA_ID": "69",
                                    "ferohely": "3",
                                    "(No column name)": "76"
                                },
                                {
                                    "SZOBA_ID": "1",
                                    "ferohely": "3",
                                    "(No column name)": "77"
                                },
                                {
                                    "SZOBA_ID": "1",
                                    "ferohely": "3",
                                    "(No column name)": "78"
                                },
                                {
                                    "SZOBA_ID": "1",
                                    "ferohely": "3",
                                    "(No column name)": "79"
                                },
                                {
                                    "SZOBA_ID": "1",
                                    "ferohely": "3",
                                    "(No column name)": "80"
                                },
                                {
                                    "SZOBA_ID": "1",
                                    "ferohely": "3",
                                    "(No column name)": "81"
                                },
                                {
                                    "SZOBA_ID": "1",
                                    "ferohely": "3",
                                    "(No column name)": "82"
                                },
                                {
                                    "SZOBA_ID": "1",
                                    "ferohely": "3",
                                    "(No column name)": "83"
                                },
                                {
                                    "SZOBA_ID": "1",
                                    "ferohely": "3",
                                    "(No column name)": "84"
                                },
                                {
                                    "SZOBA_ID": "2",
                                    "ferohely": "3",
                                    "(No column name)": "85"
                                },
                                {
                                    "SZOBA_ID": "2",
                                    "ferohely": "3",
                                    "(No column name)": "86"
                                },
                                {
                                    "SZOBA_ID": "2",
                                    "ferohely": "3",
                                    "(No column name)": "87"
                                },
                                {
                                    "SZOBA_ID": "2",
                                    "ferohely": "3",
                                    "(No column name)": "88"
                                },
                                {
                                    "SZOBA_ID": "3",
                                    "ferohely": "3",
                                    "(No column name)": "89"
                                },
                                {
                                    "SZOBA_ID": "3",
                                    "ferohely": "3",
                                    "(No column name)": "90"
                                },
                                {
                                    "SZOBA_ID": "3",
                                    "ferohely": "3",
                                    "(No column name)": "91"
                                },
                                {
                                    "SZOBA_ID": "3",
                                    "ferohely": "3",
                                    "(No column name)": "92"
                                },
                                {
                                    "SZOBA_ID": "3",
                                    "ferohely": "3",
                                    "(No column name)": "93"
                                },
                                {
                                    "SZOBA_ID": "3",
                                    "ferohely": "3",
                                    "(No column name)": "94"
                                },
                                {
                                    "SZOBA_ID": "3",
                                    "ferohely": "3",
                                    "(No column name)": "95"
                                },
                                {
                                    "SZOBA_ID": "3",
                                    "ferohely": "3",
                                    "(No column name)": "96"
                                },
                                {
                                    "SZOBA_ID": "8",
                                    "ferohely": "3",
                                    "(No column name)": "97"
                                },
                                {
                                    "SZOBA_ID": "8",
                                    "ferohely": "3",
                                    "(No column name)": "98"
                                },
                                {
                                    "SZOBA_ID": "8",
                                    "ferohely": "3",
                                    "(No column name)": "99"
                                },
                                {
                                    "SZOBA_ID": "8",
                                    "ferohely": "3",
                                    "(No column name)": "100"
                                },
                                {
                                    "SZOBA_ID": "8",
                                    "ferohely": "3",
                                    "(No column name)": "101"
                                },
                                {
                                    "SZOBA_ID": "9",
                                    "ferohely": "3",
                                    "(No column name)": "102"
                                },
                                {
                                    "SZOBA_ID": "9",
                                    "ferohely": "3",
                                    "(No column name)": "103"
                                },
                                {
                                    "SZOBA_ID": "9",
                                    "ferohely": "3",
                                    "(No column name)": "104"
                                },
                                {
                                    "SZOBA_ID": "9",
                                    "ferohely": "3",
                                    "(No column name)": "105"
                                },
                                {
                                    "SZOBA_ID": "9",
                                    "ferohely": "3",
                                    "(No column name)": "106"
                                },
                                {
                                    "SZOBA_ID": "9",
                                    "ferohely": "3",
                                    "(No column name)": "107"
                                },
                                {
                                    "SZOBA_ID": "10",
                                    "ferohely": "3",
                                    "(No column name)": "108"
                                },
                                {
                                    "SZOBA_ID": "10",
                                    "ferohely": "3",
                                    "(No column name)": "109"
                                },
                                {
                                    "SZOBA_ID": "10",
                                    "ferohely": "3",
                                    "(No column name)": "110"
                                },
                                {
                                    "SZOBA_ID": "10",
                                    "ferohely": "3",
                                    "(No column name)": "111"
                                },
                                {
                                    "SZOBA_ID": "6",
                                    "ferohely": "3",
                                    "(No column name)": "112"
                                },
                                {
                                    "SZOBA_ID": "6",
                                    "ferohely": "3",
                                    "(No column name)": "113"
                                },
                                {
                                    "SZOBA_ID": "6",
                                    "ferohely": "3",
                                    "(No column name)": "114"
                                },
                                {
                                    "SZOBA_ID": "6",
                                    "ferohely": "3",
                                    "(No column name)": "115"
                                },
                                {
                                    "SZOBA_ID": "6",
                                    "ferohely": "3",
                                    "(No column name)": "116"
                                },
                                {
                                    "SZOBA_ID": "6",
                                    "ferohely": "3",
                                    "(No column name)": "117"
                                },
                                {
                                    "SZOBA_ID": "13",
                                    "ferohely": "3",
                                    "(No column name)": "118"
                                },
                                {
                                    "SZOBA_ID": "13",
                                    "ferohely": "3",
                                    "(No column name)": "119"
                                },
                                {
                                    "SZOBA_ID": "13",
                                    "ferohely": "3",
                                    "(No column name)": "120"
                                },
                                {
                                    "SZOBA_ID": "13",
                                    "ferohely": "3",
                                    "(No column name)": "121"
                                },
                                {
                                    "SZOBA_ID": "14",
                                    "ferohely": "3",
                                    "(No column name)": "122"
                                },
                                {
                                    "SZOBA_ID": "14",
                                    "ferohely": "3",
                                    "(No column name)": "123"
                                },
                                {
                                    "SZOBA_ID": "14",
                                    "ferohely": "3",
                                    "(No column name)": "124"
                                },
                                {
                                    "SZOBA_ID": "16",
                                    "ferohely": "3",
                                    "(No column name)": "125"
                                },
                                {
                                    "SZOBA_ID": "16",
                                    "ferohely": "3",
                                    "(No column name)": "126"
                                },
                                {
                                    "SZOBA_ID": "16",
                                    "ferohely": "3",
                                    "(No column name)": "127"
                                },
                                {
                                    "SZOBA_ID": "16",
                                    "ferohely": "3",
                                    "(No column name)": "128"
                                },
                                {
                                    "SZOBA_ID": "16",
                                    "ferohely": "3",
                                    "(No column name)": "129"
                                },
                                {
                                    "SZOBA_ID": "17",
                                    "ferohely": "3",
                                    "(No column name)": "130"
                                },
                                {
                                    "SZOBA_ID": "17",
                                    "ferohely": "3",
                                    "(No column name)": "131"
                                },
                                {
                                    "SZOBA_ID": "17",
                                    "ferohely": "3",
                                    "(No column name)": "132"
                                },
                                {
                                    "SZOBA_ID": "17",
                                    "ferohely": "3",
                                    "(No column name)": "133"
                                },
                                {
                                    "SZOBA_ID": "17",
                                    "ferohely": "3",
                                    "(No column name)": "134"
                                },
                                {
                                    "SZOBA_ID": "17",
                                    "ferohely": "3",
                                    "(No column name)": "135"
                                },
                                {
                                    "SZOBA_ID": "18",
                                    "ferohely": "3",
                                    "(No column name)": "136"
                                },
                                {
                                    "SZOBA_ID": "18",
                                    "ferohely": "3",
                                    "(No column name)": "137"
                                },
                                {
                                    "SZOBA_ID": "18",
                                    "ferohely": "3",
                                    "(No column name)": "138"
                                },
                                {
                                    "SZOBA_ID": "18",
                                    "ferohely": "3",
                                    "(No column name)": "139"
                                },
                                {
                                    "SZOBA_ID": "18",
                                    "ferohely": "3",
                                    "(No column name)": "140"
                                },
                                {
                                    "SZOBA_ID": "18",
                                    "ferohely": "3",
                                    "(No column name)": "141"
                                },
                                {
                                    "SZOBA_ID": "20",
                                    "ferohely": "3",
                                    "(No column name)": "142"
                                },
                                {
                                    "SZOBA_ID": "20",
                                    "ferohely": "3",
                                    "(No column name)": "143"
                                },
                                {
                                    "SZOBA_ID": "20",
                                    "ferohely": "3",
                                    "(No column name)": "144"
                                },
                                {
                                    "SZOBA_ID": "20",
                                    "ferohely": "3",
                                    "(No column name)": "145"
                                },
                                {
                                    "SZOBA_ID": "20",
                                    "ferohely": "3",
                                    "(No column name)": "146"
                                },
                                {
                                    "SZOBA_ID": "22",
                                    "ferohely": "3",
                                    "(No column name)": "147"
                                },
                                {
                                    "SZOBA_ID": "22",
                                    "ferohely": "3",
                                    "(No column name)": "148"
                                },
                                {
                                    "SZOBA_ID": "22",
                                    "ferohely": "3",
                                    "(No column name)": "149"
                                },
                                {
                                    "SZOBA_ID": "22",
                                    "ferohely": "3",
                                    "(No column name)": "150"
                                },
                                {
                                    "SZOBA_ID": "22",
                                    "ferohely": "3",
                                    "(No column name)": "151"
                                },
                                {
                                    "SZOBA_ID": "22",
                                    "ferohely": "3",
                                    "(No column name)": "152"
                                },
                                {
                                    "SZOBA_ID": "27",
                                    "ferohely": "3",
                                    "(No column name)": "153"
                                },
                                {
                                    "SZOBA_ID": "27",
                                    "ferohely": "3",
                                    "(No column name)": "154"
                                },
                                {
                                    "SZOBA_ID": "27",
                                    "ferohely": "3",
                                    "(No column name)": "155"
                                },
                                {
                                    "SZOBA_ID": "27",
                                    "ferohely": "3",
                                    "(No column name)": "156"
                                },
                                {
                                    "SZOBA_ID": "27",
                                    "ferohely": "3",
                                    "(No column name)": "157"
                                },
                                {
                                    "SZOBA_ID": "27",
                                    "ferohely": "3",
                                    "(No column name)": "158"
                                },
                                {
                                    "SZOBA_ID": "27",
                                    "ferohely": "3",
                                    "(No column name)": "159"
                                },
                                {
                                    "SZOBA_ID": "34",
                                    "ferohely": "3",
                                    "(No column name)": "160"
                                },
                                {
                                    "SZOBA_ID": "34",
                                    "ferohely": "3",
                                    "(No column name)": "161"
                                },
                                {
                                    "SZOBA_ID": "34",
                                    "ferohely": "3",
                                    "(No column name)": "162"
                                },
                                {
                                    "SZOBA_ID": "34",
                                    "ferohely": "3",
                                    "(No column name)": "163"
                                },
                                {
                                    "SZOBA_ID": "35",
                                    "ferohely": "3",
                                    "(No column name)": "164"
                                },
                                {
                                    "SZOBA_ID": "35",
                                    "ferohely": "3",
                                    "(No column name)": "165"
                                },
                                {
                                    "SZOBA_ID": "35",
                                    "ferohely": "3",
                                    "(No column name)": "166"
                                },
                                {
                                    "SZOBA_ID": "35",
                                    "ferohely": "3",
                                    "(No column name)": "167"
                                },
                                {
                                    "SZOBA_ID": "35",
                                    "ferohely": "3",
                                    "(No column name)": "168"
                                },
                                {
                                    "SZOBA_ID": "35",
                                    "ferohely": "3",
                                    "(No column name)": "169"
                                },
                                {
                                    "SZOBA_ID": "35",
                                    "ferohely": "3",
                                    "(No column name)": "170"
                                },
                                {
                                    "SZOBA_ID": "35",
                                    "ferohely": "3",
                                    "(No column name)": "171"
                                },
                                {
                                    "SZOBA_ID": "35",
                                    "ferohely": "3",
                                    "(No column name)": "172"
                                },
                                {
                                    "SZOBA_ID": "36",
                                    "ferohely": "3",
                                    "(No column name)": "173"
                                },
                                {
                                    "SZOBA_ID": "36",
                                    "ferohely": "3",
                                    "(No column name)": "174"
                                },
                                {
                                    "SZOBA_ID": "36",
                                    "ferohely": "3",
                                    "(No column name)": "175"
                                },
                                {
                                    "SZOBA_ID": "36",
                                    "ferohely": "3",
                                    "(No column name)": "176"
                                },
                                {
                                    "SZOBA_ID": "36",
                                    "ferohely": "3",
                                    "(No column name)": "177"
                                },
                                {
                                    "SZOBA_ID": "36",
                                    "ferohely": "3",
                                    "(No column name)": "178"
                                },
                                {
                                    "SZOBA_ID": "71",
                                    "ferohely": "3",
                                    "(No column name)": "179"
                                },
                                {
                                    "SZOBA_ID": "71",
                                    "ferohely": "3",
                                    "(No column name)": "180"
                                },
                                {
                                    "SZOBA_ID": "71",
                                    "ferohely": "3",
                                    "(No column name)": "181"
                                },
                                {
                                    "SZOBA_ID": "74",
                                    "ferohely": "3",
                                    "(No column name)": "182"
                                },
                                {
                                    "SZOBA_ID": "74",
                                    "ferohely": "3",
                                    "(No column name)": "183"
                                },
                                {
                                    "SZOBA_ID": "74",
                                    "ferohely": "3",
                                    "(No column name)": "184"
                                },
                                {
                                    "SZOBA_ID": "74",
                                    "ferohely": "3",
                                    "(No column name)": "185"
                                },
                                {
                                    "SZOBA_ID": "74",
                                    "ferohely": "3",
                                    "(No column name)": "186"
                                },
                                {
                                    "SZOBA_ID": "74",
                                    "ferohely": "3",
                                    "(No column name)": "187"
                                },
                                {
                                    "SZOBA_ID": "74",
                                    "ferohely": "3",
                                    "(No column name)": "188"
                                },
                                {
                                    "SZOBA_ID": "74",
                                    "ferohely": "3",
                                    "(No column name)": "189"
                                },
                                {
                                    "SZOBA_ID": "74",
                                    "ferohely": "3",
                                    "(No column name)": "190"
                                },
                                {
                                    "SZOBA_ID": "79",
                                    "ferohely": "3",
                                    "(No column name)": "191"
                                },
                                {
                                    "SZOBA_ID": "79",
                                    "ferohely": "3",
                                    "(No column name)": "192"
                                },
                                {
                                    "SZOBA_ID": "79",
                                    "ferohely": "3",
                                    "(No column name)": "193"
                                },
                                {
                                    "SZOBA_ID": "79",
                                    "ferohely": "3",
                                    "(No column name)": "194"
                                },
                                {
                                    "SZOBA_ID": "79",
                                    "ferohely": "3",
                                    "(No column name)": "195"
                                },
                                {
                                    "SZOBA_ID": "82",
                                    "ferohely": "3",
                                    "(No column name)": "196"
                                },
                                {
                                    "SZOBA_ID": "82",
                                    "ferohely": "3",
                                    "(No column name)": "197"
                                },
                                {
                                    "SZOBA_ID": "82",
                                    "ferohely": "3",
                                    "(No column name)": "198"
                                },
                                {
                                    "SZOBA_ID": "82",
                                    "ferohely": "3",
                                    "(No column name)": "199"
                                },
                                {
                                    "SZOBA_ID": "82",
                                    "ferohely": "3",
                                    "(No column name)": "200"
                                },
                                {
                                    "SZOBA_ID": "82",
                                    "ferohely": "3",
                                    "(No column name)": "201"
                                },
                                {
                                    "SZOBA_ID": "83",
                                    "ferohely": "3",
                                    "(No column name)": "202"
                                },
                                {
                                    "SZOBA_ID": "83",
                                    "ferohely": "3",
                                    "(No column name)": "203"
                                },
                                {
                                    "SZOBA_ID": "83",
                                    "ferohely": "3",
                                    "(No column name)": "204"
                                },
                                {
                                    "SZOBA_ID": "83",
                                    "ferohely": "3",
                                    "(No column name)": "205"
                                },
                                {
                                    "SZOBA_ID": "83",
                                    "ferohely": "3",
                                    "(No column name)": "206"
                                },
                                {
                                    "SZOBA_ID": "83",
                                    "ferohely": "3",
                                    "(No column name)": "207"
                                },
                                {
                                    "SZOBA_ID": "83",
                                    "ferohely": "3",
                                    "(No column name)": "208"
                                },
                                {
                                    "SZOBA_ID": "83",
                                    "ferohely": "3",
                                    "(No column name)": "209"
                                },
                                {
                                    "SZOBA_ID": "84",
                                    "ferohely": "3",
                                    "(No column name)": "210"
                                },
                                {
                                    "SZOBA_ID": "84",
                                    "ferohely": "3",
                                    "(No column name)": "211"
                                },
                                {
                                    "SZOBA_ID": "84",
                                    "ferohely": "3",
                                    "(No column name)": "212"
                                },
                                {
                                    "SZOBA_ID": "84",
                                    "ferohely": "3",
                                    "(No column name)": "213"
                                },
                                {
                                    "SZOBA_ID": "87",
                                    "ferohely": "3",
                                    "(No column name)": "214"
                                },
                                {
                                    "SZOBA_ID": "87",
                                    "ferohely": "3",
                                    "(No column name)": "215"
                                },
                                {
                                    "SZOBA_ID": "87",
                                    "ferohely": "3",
                                    "(No column name)": "216"
                                },
                                {
                                    "SZOBA_ID": "87",
                                    "ferohely": "3",
                                    "(No column name)": "217"
                                },
                                {
                                    "SZOBA_ID": "87",
                                    "ferohely": "3",
                                    "(No column name)": "218"
                                },
                                {
                                    "SZOBA_ID": "88",
                                    "ferohely": "3",
                                    "(No column name)": "219"
                                },
                                {
                                    "SZOBA_ID": "88",
                                    "ferohely": "3",
                                    "(No column name)": "220"
                                },
                                {
                                    "SZOBA_ID": "88",
                                    "ferohely": "3",
                                    "(No column name)": "221"
                                },
                                {
                                    "SZOBA_ID": "88",
                                    "ferohely": "3",
                                    "(No column name)": "222"
                                },
                                {
                                    "SZOBA_ID": "88",
                                    "ferohely": "3",
                                    "(No column name)": "223"
                                },
                                {
                                    "SZOBA_ID": "88",
                                    "ferohely": "3",
                                    "(No column name)": "224"
                                },
                                {
                                    "SZOBA_ID": "88",
                                    "ferohely": "3",
                                    "(No column name)": "225"
                                },
                                {
                                    "SZOBA_ID": "88",
                                    "ferohely": "3",
                                    "(No column name)": "226"
                                },
                                {
                                    "SZOBA_ID": "89",
                                    "ferohely": "3",
                                    "(No column name)": "227"
                                },
                                {
                                    "SZOBA_ID": "89",
                                    "ferohely": "3",
                                    "(No column name)": "228"
                                },
                                {
                                    "SZOBA_ID": "89",
                                    "ferohely": "3",
                                    "(No column name)": "229"
                                },
                                {
                                    "SZOBA_ID": "89",
                                    "ferohely": "3",
                                    "(No column name)": "230"
                                },
                                {
                                    "SZOBA_ID": "89",
                                    "ferohely": "3",
                                    "(No column name)": "231"
                                },
                                {
                                    "SZOBA_ID": "89",
                                    "ferohely": "3",
                                    "(No column name)": "232"
                                },
                                {
                                    "SZOBA_ID": "89",
                                    "ferohely": "3",
                                    "(No column name)": "233"
                                },
                                {
                                    "SZOBA_ID": "89",
                                    "ferohely": "3",
                                    "(No column name)": "234"
                                },
                                {
                                    "SZOBA_ID": "90",
                                    "ferohely": "3",
                                    "(No column name)": "235"
                                },
                                {
                                    "SZOBA_ID": "90",
                                    "ferohely": "3",
                                    "(No column name)": "236"
                                },
                                {
                                    "SZOBA_ID": "90",
                                    "ferohely": "3",
                                    "(No column name)": "237"
                                },
                                {
                                    "SZOBA_ID": "90",
                                    "ferohely": "3",
                                    "(No column name)": "238"
                                },
                                {
                                    "SZOBA_ID": "95",
                                    "ferohely": "3",
                                    "(No column name)": "239"
                                },
                                {
                                    "SZOBA_ID": "95",
                                    "ferohely": "3",
                                    "(No column name)": "240"
                                },
                                {
                                    "SZOBA_ID": "95",
                                    "ferohely": "3",
                                    "(No column name)": "241"
                                },
                                {
                                    "SZOBA_ID": "95",
                                    "ferohely": "3",
                                    "(No column name)": "242"
                                },
                                {
                                    "SZOBA_ID": "96",
                                    "ferohely": "3",
                                    "(No column name)": "243"
                                },
                                {
                                    "SZOBA_ID": "96",
                                    "ferohely": "3",
                                    "(No column name)": "244"
                                },
                                {
                                    "SZOBA_ID": "96",
                                    "ferohely": "3",
                                    "(No column name)": "245"
                                },
                                {
                                    "SZOBA_ID": "96",
                                    "ferohely": "3",
                                    "(No column name)": "246"
                                },
                                {
                                    "SZOBA_ID": "96",
                                    "ferohely": "3",
                                    "(No column name)": "247"
                                },
                                {
                                    "SZOBA_ID": "96",
                                    "ferohely": "3",
                                    "(No column name)": "248"
                                },
                                {
                                    "SZOBA_ID": "96",
                                    "ferohely": "3",
                                    "(No column name)": "249"
                                },
                                {
                                    "SZOBA_ID": "97",
                                    "ferohely": "3",
                                    "(No column name)": "250"
                                },
                                {
                                    "SZOBA_ID": "97",
                                    "ferohely": "3",
                                    "(No column name)": "251"
                                },
                                {
                                    "SZOBA_ID": "97",
                                    "ferohely": "3",
                                    "(No column name)": "252"
                                },
                                {
                                    "SZOBA_ID": "97",
                                    "ferohely": "3",
                                    "(No column name)": "253"
                                },
                                {
                                    "SZOBA_ID": "97",
                                    "ferohely": "3",
                                    "(No column name)": "254"
                                },
                                {
                                    "SZOBA_ID": "97",
                                    "ferohely": "3",
                                    "(No column name)": "255"
                                },
                                {
                                    "SZOBA_ID": "97",
                                    "ferohely": "3",
                                    "(No column name)": "256"
                                },
                                {
                                    "SZOBA_ID": "104",
                                    "ferohely": "3",
                                    "(No column name)": "257"
                                },
                                {
                                    "SZOBA_ID": "104",
                                    "ferohely": "3",
                                    "(No column name)": "258"
                                },
                                {
                                    "SZOBA_ID": "104",
                                    "ferohely": "3",
                                    "(No column name)": "259"
                                },
                                {
                                    "SZOBA_ID": "104",
                                    "ferohely": "3",
                                    "(No column name)": "260"
                                },
                                {
                                    "SZOBA_ID": "92",
                                    "ferohely": "3",
                                    "(No column name)": "261"
                                },
                                {
                                    "SZOBA_ID": "92",
                                    "ferohely": "3",
                                    "(No column name)": "262"
                                },
                                {
                                    "SZOBA_ID": "92",
                                    "ferohely": "3",
                                    "(No column name)": "263"
                                },
                                {
                                    "SZOBA_ID": "92",
                                    "ferohely": "3",
                                    "(No column name)": "264"
                                },
                                {
                                    "SZOBA_ID": "92",
                                    "ferohely": "3",
                                    "(No column name)": "265"
                                },
                                {
                                    "SZOBA_ID": "92",
                                    "ferohely": "3",
                                    "(No column name)": "266"
                                },
                                {
                                    "SZOBA_ID": "93",
                                    "ferohely": "3",
                                    "(No column name)": "267"
                                },
                                {
                                    "SZOBA_ID": "93",
                                    "ferohely": "3",
                                    "(No column name)": "268"
                                },
                                {
                                    "SZOBA_ID": "93",
                                    "ferohely": "3",
                                    "(No column name)": "269"
                                },
                                {
                                    "SZOBA_ID": "93",
                                    "ferohely": "3",
                                    "(No column name)": "270"
                                },
                                {
                                    "SZOBA_ID": "93",
                                    "ferohely": "3",
                                    "(No column name)": "271"
                                },
                                {
                                    "SZOBA_ID": "77",
                                    "ferohely": "3",
                                    "(No column name)": "272"
                                },
                                {
                                    "SZOBA_ID": "77",
                                    "ferohely": "3",
                                    "(No column name)": "273"
                                },
                                {
                                    "SZOBA_ID": "77",
                                    "ferohely": "3",
                                    "(No column name)": "274"
                                },
                                {
                                    "SZOBA_ID": "77",
                                    "ferohely": "3",
                                    "(No column name)": "275"
                                },
                                {
                                    "SZOBA_ID": "77",
                                    "ferohely": "3",
                                    "(No column name)": "276"
                                },
                                {
                                    "SZOBA_ID": "77",
                                    "ferohely": "3",
                                    "(No column name)": "277"
                                },
                                {
                                    "SZOBA_ID": "112",
                                    "ferohely": "3",
                                    "(No column name)": "278"
                                },
                                {
                                    "SZOBA_ID": "112",
                                    "ferohely": "3",
                                    "(No column name)": "279"
                                },
                                {
                                    "SZOBA_ID": "112",
                                    "ferohely": "3",
                                    "(No column name)": "280"
                                },
                                {
                                    "SZOBA_ID": "112",
                                    "ferohely": "3",
                                    "(No column name)": "281"
                                },
                                {
                                    "SZOBA_ID": "112",
                                    "ferohely": "3",
                                    "(No column name)": "282"
                                },
                                {
                                    "SZOBA_ID": "113",
                                    "ferohely": "3",
                                    "(No column name)": "283"
                                },
                                {
                                    "SZOBA_ID": "113",
                                    "ferohely": "3",
                                    "(No column name)": "284"
                                },
                                {
                                    "SZOBA_ID": "113",
                                    "ferohely": "3",
                                    "(No column name)": "285"
                                },
                                {
                                    "SZOBA_ID": "113",
                                    "ferohely": "3",
                                    "(No column name)": "286"
                                },
                                {
                                    "SZOBA_ID": "113",
                                    "ferohely": "3",
                                    "(No column name)": "287"
                                },
                                {
                                    "SZOBA_ID": "122",
                                    "ferohely": "3",
                                    "(No column name)": "288"
                                },
                                {
                                    "SZOBA_ID": "122",
                                    "ferohely": "3",
                                    "(No column name)": "289"
                                },
                                {
                                    "SZOBA_ID": "122",
                                    "ferohely": "3",
                                    "(No column name)": "290"
                                },
                                {
                                    "SZOBA_ID": "122",
                                    "ferohely": "3",
                                    "(No column name)": "291"
                                },
                                {
                                    "SZOBA_ID": "122",
                                    "ferohely": "3",
                                    "(No column name)": "292"
                                },
                                {
                                    "SZOBA_ID": "122",
                                    "ferohely": "3",
                                    "(No column name)": "293"
                                },
                                {
                                    "SZOBA_ID": "122",
                                    "ferohely": "3",
                                    "(No column name)": "294"
                                },
                                {
                                    "SZOBA_ID": "122",
                                    "ferohely": "3",
                                    "(No column name)": "295"
                                },
                                {
                                    "SZOBA_ID": "122",
                                    "ferohely": "3",
                                    "(No column name)": "296"
                                },
                                {
                                    "SZOBA_ID": "123",
                                    "ferohely": "3",
                                    "(No column name)": "297"
                                },
                                {
                                    "SZOBA_ID": "123",
                                    "ferohely": "3",
                                    "(No column name)": "298"
                                },
                                {
                                    "SZOBA_ID": "123",
                                    "ferohely": "3",
                                    "(No column name)": "299"
                                },
                                {
                                    "SZOBA_ID": "123",
                                    "ferohely": "3",
                                    "(No column name)": "300"
                                },
                                {
                                    "SZOBA_ID": "123",
                                    "ferohely": "3",
                                    "(No column name)": "301"
                                },
                                {
                                    "SZOBA_ID": "124",
                                    "ferohely": "3",
                                    "(No column name)": "302"
                                },
                                {
                                    "SZOBA_ID": "124",
                                    "ferohely": "3",
                                    "(No column name)": "303"
                                },
                                {
                                    "SZOBA_ID": "124",
                                    "ferohely": "3",
                                    "(No column name)": "304"
                                },
                                {
                                    "SZOBA_ID": "124",
                                    "ferohely": "3",
                                    "(No column name)": "305"
                                },
                                {
                                    "SZOBA_ID": "124",
                                    "ferohely": "3",
                                    "(No column name)": "306"
                                },
                                {
                                    "SZOBA_ID": "124",
                                    "ferohely": "3",
                                    "(No column name)": "307"
                                },
                                {
                                    "SZOBA_ID": "115",
                                    "ferohely": "3",
                                    "(No column name)": "308"
                                },
                                {
                                    "SZOBA_ID": "115",
                                    "ferohely": "3",
                                    "(No column name)": "309"
                                },
                                {
                                    "SZOBA_ID": "115",
                                    "ferohely": "3",
                                    "(No column name)": "310"
                                },
                                {
                                    "SZOBA_ID": "115",
                                    "ferohely": "3",
                                    "(No column name)": "311"
                                },
                                {
                                    "SZOBA_ID": "115",
                                    "ferohely": "3",
                                    "(No column name)": "312"
                                },
                                {
                                    "SZOBA_ID": "115",
                                    "ferohely": "3",
                                    "(No column name)": "313"
                                },
                                {
                                    "SZOBA_ID": "115",
                                    "ferohely": "3",
                                    "(No column name)": "314"
                                },
                                {
                                    "SZOBA_ID": "116",
                                    "ferohely": "3",
                                    "(No column name)": "315"
                                },
                                {
                                    "SZOBA_ID": "116",
                                    "ferohely": "3",
                                    "(No column name)": "316"
                                },
                                {
                                    "SZOBA_ID": "117",
                                    "ferohely": "3",
                                    "(No column name)": "317"
                                },
                                {
                                    "SZOBA_ID": "117",
                                    "ferohely": "3",
                                    "(No column name)": "318"
                                },
                                {
                                    "SZOBA_ID": "117",
                                    "ferohely": "3",
                                    "(No column name)": "319"
                                },
                                {
                                    "SZOBA_ID": "117",
                                    "ferohely": "3",
                                    "(No column name)": "320"
                                },
                                {
                                    "SZOBA_ID": "117",
                                    "ferohely": "3",
                                    "(No column name)": "321"
                                },
                                {
                                    "SZOBA_ID": "117",
                                    "ferohely": "3",
                                    "(No column name)": "322"
                                },
                                {
                                    "SZOBA_ID": "117",
                                    "ferohely": "3",
                                    "(No column name)": "323"
                                },
                                {
                                    "SZOBA_ID": "117",
                                    "ferohely": "3",
                                    "(No column name)": "324"
                                },
                                {
                                    "SZOBA_ID": "132",
                                    "ferohely": "3",
                                    "(No column name)": "325"
                                },
                                {
                                    "SZOBA_ID": "132",
                                    "ferohely": "3",
                                    "(No column name)": "326"
                                },
                                {
                                    "SZOBA_ID": "132",
                                    "ferohely": "3",
                                    "(No column name)": "327"
                                },
                                {
                                    "SZOBA_ID": "132",
                                    "ferohely": "3",
                                    "(No column name)": "328"
                                },
                                {
                                    "SZOBA_ID": "132",
                                    "ferohely": "3",
                                    "(No column name)": "329"
                                },
                                {
                                    "SZOBA_ID": "132",
                                    "ferohely": "3",
                                    "(No column name)": "330"
                                },
                                {
                                    "SZOBA_ID": "133",
                                    "ferohely": "3",
                                    "(No column name)": "331"
                                },
                                {
                                    "SZOBA_ID": "133",
                                    "ferohely": "3",
                                    "(No column name)": "332"
                                },
                                {
                                    "SZOBA_ID": "133",
                                    "ferohely": "3",
                                    "(No column name)": "333"
                                },
                                {
                                    "SZOBA_ID": "133",
                                    "ferohely": "3",
                                    "(No column name)": "334"
                                },
                                {
                                    "SZOBA_ID": "133",
                                    "ferohely": "3",
                                    "(No column name)": "335"
                                },
                                {
                                    "SZOBA_ID": "133",
                                    "ferohely": "3",
                                    "(No column name)": "336"
                                },
                                {
                                    "SZOBA_ID": "134",
                                    "ferohely": "3",
                                    "(No column name)": "337"
                                },
                                {
                                    "SZOBA_ID": "134",
                                    "ferohely": "3",
                                    "(No column name)": "338"
                                },
                                {
                                    "SZOBA_ID": "134",
                                    "ferohely": "3",
                                    "(No column name)": "339"
                                },
                                {
                                    "SZOBA_ID": "134",
                                    "ferohely": "3",
                                    "(No column name)": "340"
                                },
                                {
                                    "SZOBA_ID": "134",
                                    "ferohely": "3",
                                    "(No column name)": "341"
                                },
                                {
                                    "SZOBA_ID": "134",
                                    "ferohely": "3",
                                    "(No column name)": "342"
                                },
                                {
                                    "SZOBA_ID": "135",
                                    "ferohely": "3",
                                    "(No column name)": "343"
                                },
                                {
                                    "SZOBA_ID": "135",
                                    "ferohely": "3",
                                    "(No column name)": "344"
                                },
                                {
                                    "SZOBA_ID": "135",
                                    "ferohely": "3",
                                    "(No column name)": "345"
                                },
                                {
                                    "SZOBA_ID": "138",
                                    "ferohely": "3",
                                    "(No column name)": "346"
                                },
                                {
                                    "SZOBA_ID": "138",
                                    "ferohely": "3",
                                    "(No column name)": "347"
                                },
                                {
                                    "SZOBA_ID": "138",
                                    "ferohely": "3",
                                    "(No column name)": "348"
                                },
                                {
                                    "SZOBA_ID": "138",
                                    "ferohely": "3",
                                    "(No column name)": "349"
                                },
                                {
                                    "SZOBA_ID": "138",
                                    "ferohely": "3",
                                    "(No column name)": "350"
                                },
                                {
                                    "SZOBA_ID": "138",
                                    "ferohely": "3",
                                    "(No column name)": "351"
                                },
                                {
                                    "SZOBA_ID": "138",
                                    "ferohely": "3",
                                    "(No column name)": "352"
                                },
                                {
                                    "SZOBA_ID": "142",
                                    "ferohely": "3",
                                    "(No column name)": "353"
                                },
                                {
                                    "SZOBA_ID": "142",
                                    "ferohely": "3",
                                    "(No column name)": "354"
                                },
                                {
                                    "SZOBA_ID": "143",
                                    "ferohely": "3",
                                    "(No column name)": "355"
                                },
                                {
                                    "SZOBA_ID": "143",
                                    "ferohely": "3",
                                    "(No column name)": "356"
                                },
                                {
                                    "SZOBA_ID": "143",
                                    "ferohely": "3",
                                    "(No column name)": "357"
                                },
                                {
                                    "SZOBA_ID": "143",
                                    "ferohely": "3",
                                    "(No column name)": "358"
                                },
                                {
                                    "SZOBA_ID": "143",
                                    "ferohely": "3",
                                    "(No column name)": "359"
                                },
                                {
                                    "SZOBA_ID": "143",
                                    "ferohely": "3",
                                    "(No column name)": "360"
                                },
                                {
                                    "SZOBA_ID": "143",
                                    "ferohely": "3",
                                    "(No column name)": "361"
                                },
                                {
                                    "SZOBA_ID": "144",
                                    "ferohely": "3",
                                    "(No column name)": "362"
                                },
                                {
                                    "SZOBA_ID": "144",
                                    "ferohely": "3",
                                    "(No column name)": "363"
                                },
                                {
                                    "SZOBA_ID": "144",
                                    "ferohely": "3",
                                    "(No column name)": "364"
                                },
                                {
                                    "SZOBA_ID": "144",
                                    "ferohely": "3",
                                    "(No column name)": "365"
                                },
                                {
                                    "SZOBA_ID": "144",
                                    "ferohely": "3",
                                    "(No column name)": "366"
                                },
                                {
                                    "SZOBA_ID": "146",
                                    "ferohely": "3",
                                    "(No column name)": "367"
                                },
                                {
                                    "SZOBA_ID": "146",
                                    "ferohely": "3",
                                    "(No column name)": "368"
                                },
                                {
                                    "SZOBA_ID": "146",
                                    "ferohely": "3",
                                    "(No column name)": "369"
                                },
                                {
                                    "SZOBA_ID": "146",
                                    "ferohely": "3",
                                    "(No column name)": "370"
                                },
                                {
                                    "SZOBA_ID": "146",
                                    "ferohely": "3",
                                    "(No column name)": "371"
                                },
                                {
                                    "SZOBA_ID": "146",
                                    "ferohely": "3",
                                    "(No column name)": "372"
                                },
                                {
                                    "SZOBA_ID": "120",
                                    "ferohely": "3",
                                    "(No column name)": "373"
                                },
                                {
                                    "SZOBA_ID": "120",
                                    "ferohely": "3",
                                    "(No column name)": "374"
                                },
                                {
                                    "SZOBA_ID": "120",
                                    "ferohely": "3",
                                    "(No column name)": "375"
                                },
                                {
                                    "SZOBA_ID": "120",
                                    "ferohely": "3",
                                    "(No column name)": "376"
                                },
                                {
                                    "SZOBA_ID": "120",
                                    "ferohely": "3",
                                    "(No column name)": "377"
                                },
                                {
                                    "SZOBA_ID": "120",
                                    "ferohely": "3",
                                    "(No column name)": "378"
                                },
                                {
                                    "SZOBA_ID": "153",
                                    "ferohely": "3",
                                    "(No column name)": "379"
                                },
                                {
                                    "SZOBA_ID": "153",
                                    "ferohely": "3",
                                    "(No column name)": "380"
                                },
                                {
                                    "SZOBA_ID": "153",
                                    "ferohely": "3",
                                    "(No column name)": "381"
                                },
                                {
                                    "SZOBA_ID": "153",
                                    "ferohely": "3",
                                    "(No column name)": "382"
                                },
                                {
                                    "SZOBA_ID": "153",
                                    "ferohely": "3",
                                    "(No column name)": "383"
                                },
                                {
                                    "SZOBA_ID": "155",
                                    "ferohely": "3",
                                    "(No column name)": "384"
                                },
                                {
                                    "SZOBA_ID": "155",
                                    "ferohely": "3",
                                    "(No column name)": "385"
                                },
                                {
                                    "SZOBA_ID": "155",
                                    "ferohely": "3",
                                    "(No column name)": "386"
                                },
                                {
                                    "SZOBA_ID": "155",
                                    "ferohely": "3",
                                    "(No column name)": "387"
                                },
                                {
                                    "SZOBA_ID": "155",
                                    "ferohely": "3",
                                    "(No column name)": "388"
                                },
                                {
                                    "SZOBA_ID": "167",
                                    "ferohely": "3",
                                    "(No column name)": "389"
                                },
                                {
                                    "SZOBA_ID": "167",
                                    "ferohely": "3",
                                    "(No column name)": "390"
                                },
                                {
                                    "SZOBA_ID": "162",
                                    "ferohely": "3",
                                    "(No column name)": "391"
                                },
                                {
                                    "SZOBA_ID": "162",
                                    "ferohely": "3",
                                    "(No column name)": "392"
                                },
                                {
                                    "SZOBA_ID": "162",
                                    "ferohely": "3",
                                    "(No column name)": "393"
                                },
                                {
                                    "SZOBA_ID": "176",
                                    "ferohely": "3",
                                    "(No column name)": "394"
                                },
                                {
                                    "SZOBA_ID": "176",
                                    "ferohely": "3",
                                    "(No column name)": "395"
                                },
                                {
                                    "SZOBA_ID": "176",
                                    "ferohely": "3",
                                    "(No column name)": "396"
                                },
                                {
                                    "SZOBA_ID": "176",
                                    "ferohely": "3",
                                    "(No column name)": "397"
                                },
                                {
                                    "SZOBA_ID": "176",
                                    "ferohely": "3",
                                    "(No column name)": "398"
                                },
                                {
                                    "SZOBA_ID": "176",
                                    "ferohely": "3",
                                    "(No column name)": "399"
                                },
                                {
                                    "SZOBA_ID": "177",
                                    "ferohely": "3",
                                    "(No column name)": "400"
                                },
                                {
                                    "SZOBA_ID": "177",
                                    "ferohely": "3",
                                    "(No column name)": "401"
                                },
                                {
                                    "SZOBA_ID": "177",
                                    "ferohely": "3",
                                    "(No column name)": "402"
                                },
                                {
                                    "SZOBA_ID": "177",
                                    "ferohely": "3",
                                    "(No column name)": "403"
                                },
                                {
                                    "SZOBA_ID": "178",
                                    "ferohely": "3",
                                    "(No column name)": "404"
                                },
                                {
                                    "SZOBA_ID": "178",
                                    "ferohely": "3",
                                    "(No column name)": "405"
                                },
                                {
                                    "SZOBA_ID": "178",
                                    "ferohely": "3",
                                    "(No column name)": "406"
                                },
                                {
                                    "SZOBA_ID": "178",
                                    "ferohely": "3",
                                    "(No column name)": "407"
                                },
                                {
                                    "SZOBA_ID": "179",
                                    "ferohely": "3",
                                    "(No column name)": "408"
                                },
                                {
                                    "SZOBA_ID": "179",
                                    "ferohely": "3",
                                    "(No column name)": "409"
                                },
                                {
                                    "SZOBA_ID": "179",
                                    "ferohely": "3",
                                    "(No column name)": "410"
                                },
                                {
                                    "SZOBA_ID": "181",
                                    "ferohely": "3",
                                    "(No column name)": "411"
                                },
                                {
                                    "SZOBA_ID": "181",
                                    "ferohely": "3",
                                    "(No column name)": "412"
                                },
                                {
                                    "SZOBA_ID": "181",
                                    "ferohely": "3",
                                    "(No column name)": "413"
                                },
                                {
                                    "SZOBA_ID": "181",
                                    "ferohely": "3",
                                    "(No column name)": "414"
                                },
                                {
                                    "SZOBA_ID": "181",
                                    "ferohely": "3",
                                    "(No column name)": "415"
                                },
                                {
                                    "SZOBA_ID": "181",
                                    "ferohely": "3",
                                    "(No column name)": "416"
                                },
                                {
                                    "SZOBA_ID": "160",
                                    "ferohely": "3",
                                    "(No column name)": "417"
                                },
                                {
                                    "SZOBA_ID": "160",
                                    "ferohely": "3",
                                    "(No column name)": "418"
                                },
                                {
                                    "SZOBA_ID": "160",
                                    "ferohely": "3",
                                    "(No column name)": "419"
                                },
                                {
                                    "SZOBA_ID": "160",
                                    "ferohely": "3",
                                    "(No column name)": "420"
                                },
                                {
                                    "SZOBA_ID": "160",
                                    "ferohely": "3",
                                    "(No column name)": "421"
                                },
                                {
                                    "SZOBA_ID": "183",
                                    "ferohely": "3",
                                    "(No column name)": "422"
                                },
                                {
                                    "SZOBA_ID": "183",
                                    "ferohely": "3",
                                    "(No column name)": "423"
                                },
                                {
                                    "SZOBA_ID": "183",
                                    "ferohely": "3",
                                    "(No column name)": "424"
                                },
                                {
                                    "SZOBA_ID": "183",
                                    "ferohely": "3",
                                    "(No column name)": "425"
                                },
                                {
                                    "SZOBA_ID": "185",
                                    "ferohely": "3",
                                    "(No column name)": "426"
                                },
                                {
                                    "SZOBA_ID": "185",
                                    "ferohely": "3",
                                    "(No column name)": "427"
                                },
                                {
                                    "SZOBA_ID": "185",
                                    "ferohely": "3",
                                    "(No column name)": "428"
                                },
                                {
                                    "SZOBA_ID": "185",
                                    "ferohely": "3",
                                    "(No column name)": "429"
                                },
                                {
                                    "SZOBA_ID": "185",
                                    "ferohely": "3",
                                    "(No column name)": "430"
                                },
                                {
                                    "SZOBA_ID": "185",
                                    "ferohely": "3",
                                    "(No column name)": "431"
                                },
                                {
                                    "SZOBA_ID": "185",
                                    "ferohely": "3",
                                    "(No column name)": "432"
                                },
                                {
                                    "SZOBA_ID": "185",
                                    "ferohely": "3",
                                    "(No column name)": "433"
                                },
                                {
                                    "SZOBA_ID": "185",
                                    "ferohely": "3",
                                    "(No column name)": "434"
                                },
                                {
                                    "SZOBA_ID": "185",
                                    "ferohely": "3",
                                    "(No column name)": "435"
                                },
                                {
                                    "SZOBA_ID": "185",
                                    "ferohely": "3",
                                    "(No column name)": "436"
                                },
                                {
                                    "SZOBA_ID": "185",
                                    "ferohely": "3",
                                    "(No column name)": "437"
                                },
                                {
                                    "SZOBA_ID": "187",
                                    "ferohely": "3",
                                    "(No column name)": "438"
                                },
                                {
                                    "SZOBA_ID": "187",
                                    "ferohely": "3",
                                    "(No column name)": "439"
                                },
                                {
                                    "SZOBA_ID": "187",
                                    "ferohely": "3",
                                    "(No column name)": "440"
                                },
                                {
                                    "SZOBA_ID": "187",
                                    "ferohely": "3",
                                    "(No column name)": "441"
                                },
                                {
                                    "SZOBA_ID": "187",
                                    "ferohely": "3",
                                    "(No column name)": "442"
                                },
                                {
                                    "SZOBA_ID": "187",
                                    "ferohely": "3",
                                    "(No column name)": "443"
                                },
                                {
                                    "SZOBA_ID": "187",
                                    "ferohely": "3",
                                    "(No column name)": "444"
                                },
                                {
                                    "SZOBA_ID": "188",
                                    "ferohely": "3",
                                    "(No column name)": "445"
                                },
                                {
                                    "SZOBA_ID": "188",
                                    "ferohely": "3",
                                    "(No column name)": "446"
                                },
                                {
                                    "SZOBA_ID": "188",
                                    "ferohely": "3",
                                    "(No column name)": "447"
                                },
                                {
                                    "SZOBA_ID": "188",
                                    "ferohely": "3",
                                    "(No column name)": "448"
                                },
                                {
                                    "SZOBA_ID": "188",
                                    "ferohely": "3",
                                    "(No column name)": "449"
                                },
                                {
                                    "SZOBA_ID": "188",
                                    "ferohely": "3",
                                    "(No column name)": "450"
                                },
                                {
                                    "SZOBA_ID": "193",
                                    "ferohely": "3",
                                    "(No column name)": "451"
                                },
                                {
                                    "SZOBA_ID": "193",
                                    "ferohely": "3",
                                    "(No column name)": "452"
                                },
                                {
                                    "SZOBA_ID": "193",
                                    "ferohely": "3",
                                    "(No column name)": "453"
                                },
                                {
                                    "SZOBA_ID": "193",
                                    "ferohely": "3",
                                    "(No column name)": "454"
                                },
                                {
                                    "SZOBA_ID": "193",
                                    "ferohely": "3",
                                    "(No column name)": "455"
                                },
                                {
                                    "SZOBA_ID": "193",
                                    "ferohely": "3",
                                    "(No column name)": "456"
                                },
                                {
                                    "SZOBA_ID": "193",
                                    "ferohely": "3",
                                    "(No column name)": "457"
                                },
                                {
                                    "SZOBA_ID": "197",
                                    "ferohely": "3",
                                    "(No column name)": "458"
                                },
                                {
                                    "SZOBA_ID": "197",
                                    "ferohely": "3",
                                    "(No column name)": "459"
                                },
                                {
                                    "SZOBA_ID": "197",
                                    "ferohely": "3",
                                    "(No column name)": "460"
                                },
                                {
                                    "SZOBA_ID": "197",
                                    "ferohely": "3",
                                    "(No column name)": "461"
                                },
                                {
                                    "SZOBA_ID": "197",
                                    "ferohely": "3",
                                    "(No column name)": "462"
                                },
                                {
                                    "SZOBA_ID": "197",
                                    "ferohely": "3",
                                    "(No column name)": "463"
                                },
                                {
                                    "SZOBA_ID": "198",
                                    "ferohely": "3",
                                    "(No column name)": "464"
                                },
                                {
                                    "SZOBA_ID": "198",
                                    "ferohely": "3",
                                    "(No column name)": "465"
                                },
                                {
                                    "SZOBA_ID": "198",
                                    "ferohely": "3",
                                    "(No column name)": "466"
                                },
                                {
                                    "SZOBA_ID": "198",
                                    "ferohely": "3",
                                    "(No column name)": "467"
                                },
                                {
                                    "SZOBA_ID": "198",
                                    "ferohely": "3",
                                    "(No column name)": "468"
                                },
                                {
                                    "SZOBA_ID": "198",
                                    "ferohely": "3",
                                    "(No column name)": "469"
                                },
                                {
                                    "SZOBA_ID": "198",
                                    "ferohely": "3",
                                    "(No column name)": "470"
                                },
                                {
                                    "SZOBA_ID": "198",
                                    "ferohely": "3",
                                    "(No column name)": "471"
                                },
                                {
                                    "SZOBA_ID": "194",
                                    "ferohely": "2",
                                    "(No column name)": "472"
                                },
                                {
                                    "SZOBA_ID": "195",
                                    "ferohely": "2",
                                    "(No column name)": "473"
                                },
                                {
                                    "SZOBA_ID": "195",
                                    "ferohely": "2",
                                    "(No column name)": "474"
                                },
                                {
                                    "SZOBA_ID": "195",
                                    "ferohely": "2",
                                    "(No column name)": "475"
                                },
                                {
                                    "SZOBA_ID": "195",
                                    "ferohely": "2",
                                    "(No column name)": "476"
                                },
                                {
                                    "SZOBA_ID": "195",
                                    "ferohely": "2",
                                    "(No column name)": "477"
                                },
                                {
                                    "SZOBA_ID": "195",
                                    "ferohely": "2",
                                    "(No column name)": "478"
                                },
                                {
                                    "SZOBA_ID": "196",
                                    "ferohely": "2",
                                    "(No column name)": "479"
                                },
                                {
                                    "SZOBA_ID": "196",
                                    "ferohely": "2",
                                    "(No column name)": "480"
                                },
                                {
                                    "SZOBA_ID": "196",
                                    "ferohely": "2",
                                    "(No column name)": "481"
                                },
                                {
                                    "SZOBA_ID": "196",
                                    "ferohely": "2",
                                    "(No column name)": "482"
                                },
                                {
                                    "SZOBA_ID": "189",
                                    "ferohely": "2",
                                    "(No column name)": "483"
                                },
                                {
                                    "SZOBA_ID": "189",
                                    "ferohely": "2",
                                    "(No column name)": "484"
                                },
                                {
                                    "SZOBA_ID": "189",
                                    "ferohely": "2",
                                    "(No column name)": "485"
                                },
                                {
                                    "SZOBA_ID": "189",
                                    "ferohely": "2",
                                    "(No column name)": "486"
                                },
                                {
                                    "SZOBA_ID": "189",
                                    "ferohely": "2",
                                    "(No column name)": "487"
                                },
                                {
                                    "SZOBA_ID": "190",
                                    "ferohely": "2",
                                    "(No column name)": "488"
                                },
                                {
                                    "SZOBA_ID": "190",
                                    "ferohely": "2",
                                    "(No column name)": "489"
                                },
                                {
                                    "SZOBA_ID": "190",
                                    "ferohely": "2",
                                    "(No column name)": "490"
                                },
                                {
                                    "SZOBA_ID": "190",
                                    "ferohely": "2",
                                    "(No column name)": "491"
                                },
                                {
                                    "SZOBA_ID": "190",
                                    "ferohely": "2",
                                    "(No column name)": "492"
                                },
                                {
                                    "SZOBA_ID": "191",
                                    "ferohely": "2",
                                    "(No column name)": "493"
                                },
                                {
                                    "SZOBA_ID": "191",
                                    "ferohely": "2",
                                    "(No column name)": "494"
                                },
                                {
                                    "SZOBA_ID": "191",
                                    "ferohely": "2",
                                    "(No column name)": "495"
                                },
                                {
                                    "SZOBA_ID": "191",
                                    "ferohely": "2",
                                    "(No column name)": "496"
                                },
                                {
                                    "SZOBA_ID": "191",
                                    "ferohely": "2",
                                    "(No column name)": "497"
                                },
                                {
                                    "SZOBA_ID": "192",
                                    "ferohely": "2",
                                    "(No column name)": "498"
                                },
                                {
                                    "SZOBA_ID": "192",
                                    "ferohely": "2",
                                    "(No column name)": "499"
                                },
                                {
                                    "SZOBA_ID": "186",
                                    "ferohely": "2",
                                    "(No column name)": "500"
                                },
                                {
                                    "SZOBA_ID": "186",
                                    "ferohely": "2",
                                    "(No column name)": "501"
                                },
                                {
                                    "SZOBA_ID": "186",
                                    "ferohely": "2",
                                    "(No column name)": "502"
                                },
                                {
                                    "SZOBA_ID": "186",
                                    "ferohely": "2",
                                    "(No column name)": "503"
                                },
                                {
                                    "SZOBA_ID": "184",
                                    "ferohely": "2",
                                    "(No column name)": "504"
                                },
                                {
                                    "SZOBA_ID": "184",
                                    "ferohely": "2",
                                    "(No column name)": "505"
                                },
                                {
                                    "SZOBA_ID": "184",
                                    "ferohely": "2",
                                    "(No column name)": "506"
                                },
                                {
                                    "SZOBA_ID": "184",
                                    "ferohely": "2",
                                    "(No column name)": "507"
                                },
                                {
                                    "SZOBA_ID": "161",
                                    "ferohely": "2",
                                    "(No column name)": "508"
                                },
                                {
                                    "SZOBA_ID": "161",
                                    "ferohely": "2",
                                    "(No column name)": "509"
                                },
                                {
                                    "SZOBA_ID": "161",
                                    "ferohely": "2",
                                    "(No column name)": "510"
                                },
                                {
                                    "SZOBA_ID": "161",
                                    "ferohely": "2",
                                    "(No column name)": "511"
                                },
                                {
                                    "SZOBA_ID": "161",
                                    "ferohely": "2",
                                    "(No column name)": "512"
                                },
                                {
                                    "SZOBA_ID": "161",
                                    "ferohely": "2",
                                    "(No column name)": "513"
                                },
                                {
                                    "SZOBA_ID": "182",
                                    "ferohely": "2",
                                    "(No column name)": "514"
                                },
                                {
                                    "SZOBA_ID": "182",
                                    "ferohely": "2",
                                    "(No column name)": "515"
                                },
                                {
                                    "SZOBA_ID": "182",
                                    "ferohely": "2",
                                    "(No column name)": "516"
                                },
                                {
                                    "SZOBA_ID": "182",
                                    "ferohely": "2",
                                    "(No column name)": "517"
                                },
                                {
                                    "SZOBA_ID": "182",
                                    "ferohely": "2",
                                    "(No column name)": "518"
                                },
                                {
                                    "SZOBA_ID": "182",
                                    "ferohely": "2",
                                    "(No column name)": "519"
                                },
                                {
                                    "SZOBA_ID": "182",
                                    "ferohely": "2",
                                    "(No column name)": "520"
                                },
                                {
                                    "SZOBA_ID": "182",
                                    "ferohely": "2",
                                    "(No column name)": "521"
                                },
                                {
                                    "SZOBA_ID": "182",
                                    "ferohely": "2",
                                    "(No column name)": "522"
                                },
                                {
                                    "SZOBA_ID": "182",
                                    "ferohely": "2",
                                    "(No column name)": "523"
                                },
                                {
                                    "SZOBA_ID": "182",
                                    "ferohely": "2",
                                    "(No column name)": "524"
                                },
                                {
                                    "SZOBA_ID": "182",
                                    "ferohely": "2",
                                    "(No column name)": "525"
                                },
                                {
                                    "SZOBA_ID": "180",
                                    "ferohely": "2",
                                    "(No column name)": "526"
                                },
                                {
                                    "SZOBA_ID": "180",
                                    "ferohely": "2",
                                    "(No column name)": "527"
                                },
                                {
                                    "SZOBA_ID": "180",
                                    "ferohely": "2",
                                    "(No column name)": "528"
                                },
                                {
                                    "SZOBA_ID": "163",
                                    "ferohely": "2",
                                    "(No column name)": "529"
                                },
                                {
                                    "SZOBA_ID": "163",
                                    "ferohely": "2",
                                    "(No column name)": "530"
                                },
                                {
                                    "SZOBA_ID": "163",
                                    "ferohely": "2",
                                    "(No column name)": "531"
                                },
                                {
                                    "SZOBA_ID": "163",
                                    "ferohely": "2",
                                    "(No column name)": "532"
                                },
                                {
                                    "SZOBA_ID": "163",
                                    "ferohely": "2",
                                    "(No column name)": "533"
                                },
                                {
                                    "SZOBA_ID": "163",
                                    "ferohely": "2",
                                    "(No column name)": "534"
                                },
                                {
                                    "SZOBA_ID": "163",
                                    "ferohely": "2",
                                    "(No column name)": "535"
                                },
                                {
                                    "SZOBA_ID": "164",
                                    "ferohely": "2",
                                    "(No column name)": "536"
                                },
                                {
                                    "SZOBA_ID": "164",
                                    "ferohely": "2",
                                    "(No column name)": "537"
                                },
                                {
                                    "SZOBA_ID": "164",
                                    "ferohely": "2",
                                    "(No column name)": "538"
                                },
                                {
                                    "SZOBA_ID": "164",
                                    "ferohely": "2",
                                    "(No column name)": "539"
                                },
                                {
                                    "SZOBA_ID": "164",
                                    "ferohely": "2",
                                    "(No column name)": "540"
                                },
                                {
                                    "SZOBA_ID": "165",
                                    "ferohely": "2",
                                    "(No column name)": "541"
                                },
                                {
                                    "SZOBA_ID": "165",
                                    "ferohely": "2",
                                    "(No column name)": "542"
                                },
                                {
                                    "SZOBA_ID": "165",
                                    "ferohely": "2",
                                    "(No column name)": "543"
                                },
                                {
                                    "SZOBA_ID": "165",
                                    "ferohely": "2",
                                    "(No column name)": "544"
                                },
                                {
                                    "SZOBA_ID": "165",
                                    "ferohely": "2",
                                    "(No column name)": "545"
                                },
                                {
                                    "SZOBA_ID": "165",
                                    "ferohely": "2",
                                    "(No column name)": "546"
                                },
                                {
                                    "SZOBA_ID": "165",
                                    "ferohely": "2",
                                    "(No column name)": "547"
                                },
                                {
                                    "SZOBA_ID": "166",
                                    "ferohely": "2",
                                    "(No column name)": "548"
                                },
                                {
                                    "SZOBA_ID": "166",
                                    "ferohely": "2",
                                    "(No column name)": "549"
                                },
                                {
                                    "SZOBA_ID": "166",
                                    "ferohely": "2",
                                    "(No column name)": "550"
                                },
                                {
                                    "SZOBA_ID": "168",
                                    "ferohely": "2",
                                    "(No column name)": "551"
                                },
                                {
                                    "SZOBA_ID": "168",
                                    "ferohely": "2",
                                    "(No column name)": "552"
                                },
                                {
                                    "SZOBA_ID": "168",
                                    "ferohely": "2",
                                    "(No column name)": "553"
                                },
                                {
                                    "SZOBA_ID": "168",
                                    "ferohely": "2",
                                    "(No column name)": "554"
                                },
                                {
                                    "SZOBA_ID": "168",
                                    "ferohely": "2",
                                    "(No column name)": "555"
                                },
                                {
                                    "SZOBA_ID": "169",
                                    "ferohely": "2",
                                    "(No column name)": "556"
                                },
                                {
                                    "SZOBA_ID": "169",
                                    "ferohely": "2",
                                    "(No column name)": "557"
                                },
                                {
                                    "SZOBA_ID": "169",
                                    "ferohely": "2",
                                    "(No column name)": "558"
                                },
                                {
                                    "SZOBA_ID": "169",
                                    "ferohely": "2",
                                    "(No column name)": "559"
                                },
                                {
                                    "SZOBA_ID": "169",
                                    "ferohely": "2",
                                    "(No column name)": "560"
                                },
                                {
                                    "SZOBA_ID": "169",
                                    "ferohely": "2",
                                    "(No column name)": "561"
                                },
                                {
                                    "SZOBA_ID": "170",
                                    "ferohely": "2",
                                    "(No column name)": "562"
                                },
                                {
                                    "SZOBA_ID": "170",
                                    "ferohely": "2",
                                    "(No column name)": "563"
                                },
                                {
                                    "SZOBA_ID": "170",
                                    "ferohely": "2",
                                    "(No column name)": "564"
                                },
                                {
                                    "SZOBA_ID": "170",
                                    "ferohely": "2",
                                    "(No column name)": "565"
                                },
                                {
                                    "SZOBA_ID": "170",
                                    "ferohely": "2",
                                    "(No column name)": "566"
                                },
                                {
                                    "SZOBA_ID": "171",
                                    "ferohely": "2",
                                    "(No column name)": "567"
                                },
                                {
                                    "SZOBA_ID": "171",
                                    "ferohely": "2",
                                    "(No column name)": "568"
                                },
                                {
                                    "SZOBA_ID": "171",
                                    "ferohely": "2",
                                    "(No column name)": "569"
                                },
                                {
                                    "SZOBA_ID": "171",
                                    "ferohely": "2",
                                    "(No column name)": "570"
                                },
                                {
                                    "SZOBA_ID": "171",
                                    "ferohely": "2",
                                    "(No column name)": "571"
                                },
                                {
                                    "SZOBA_ID": "172",
                                    "ferohely": "2",
                                    "(No column name)": "572"
                                },
                                {
                                    "SZOBA_ID": "172",
                                    "ferohely": "2",
                                    "(No column name)": "573"
                                },
                                {
                                    "SZOBA_ID": "172",
                                    "ferohely": "2",
                                    "(No column name)": "574"
                                },
                                {
                                    "SZOBA_ID": "172",
                                    "ferohely": "2",
                                    "(No column name)": "575"
                                },
                                {
                                    "SZOBA_ID": "172",
                                    "ferohely": "2",
                                    "(No column name)": "576"
                                },
                                {
                                    "SZOBA_ID": "172",
                                    "ferohely": "2",
                                    "(No column name)": "577"
                                },
                                {
                                    "SZOBA_ID": "172",
                                    "ferohely": "2",
                                    "(No column name)": "578"
                                },
                                {
                                    "SZOBA_ID": "172",
                                    "ferohely": "2",
                                    "(No column name)": "579"
                                },
                                {
                                    "SZOBA_ID": "172",
                                    "ferohely": "2",
                                    "(No column name)": "580"
                                },
                                {
                                    "SZOBA_ID": "173",
                                    "ferohely": "2",
                                    "(No column name)": "581"
                                },
                                {
                                    "SZOBA_ID": "173",
                                    "ferohely": "2",
                                    "(No column name)": "582"
                                },
                                {
                                    "SZOBA_ID": "173",
                                    "ferohely": "2",
                                    "(No column name)": "583"
                                },
                                {
                                    "SZOBA_ID": "173",
                                    "ferohely": "2",
                                    "(No column name)": "584"
                                },
                                {
                                    "SZOBA_ID": "174",
                                    "ferohely": "2",
                                    "(No column name)": "585"
                                },
                                {
                                    "SZOBA_ID": "174",
                                    "ferohely": "2",
                                    "(No column name)": "586"
                                },
                                {
                                    "SZOBA_ID": "174",
                                    "ferohely": "2",
                                    "(No column name)": "587"
                                },
                                {
                                    "SZOBA_ID": "174",
                                    "ferohely": "2",
                                    "(No column name)": "588"
                                },
                                {
                                    "SZOBA_ID": "175",
                                    "ferohely": "2",
                                    "(No column name)": "589"
                                },
                                {
                                    "SZOBA_ID": "175",
                                    "ferohely": "2",
                                    "(No column name)": "590"
                                },
                                {
                                    "SZOBA_ID": "175",
                                    "ferohely": "2",
                                    "(No column name)": "591"
                                },
                                {
                                    "SZOBA_ID": "175",
                                    "ferohely": "2",
                                    "(No column name)": "592"
                                },
                                {
                                    "SZOBA_ID": "175",
                                    "ferohely": "2",
                                    "(No column name)": "593"
                                },
                                {
                                    "SZOBA_ID": "156",
                                    "ferohely": "2",
                                    "(No column name)": "594"
                                },
                                {
                                    "SZOBA_ID": "156",
                                    "ferohely": "2",
                                    "(No column name)": "595"
                                },
                                {
                                    "SZOBA_ID": "156",
                                    "ferohely": "2",
                                    "(No column name)": "596"
                                },
                                {
                                    "SZOBA_ID": "156",
                                    "ferohely": "2",
                                    "(No column name)": "597"
                                },
                                {
                                    "SZOBA_ID": "156",
                                    "ferohely": "2",
                                    "(No column name)": "598"
                                },
                                {
                                    "SZOBA_ID": "156",
                                    "ferohely": "2",
                                    "(No column name)": "599"
                                },
                                {
                                    "SZOBA_ID": "156",
                                    "ferohely": "2",
                                    "(No column name)": "600"
                                },
                                {
                                    "SZOBA_ID": "157",
                                    "ferohely": "2",
                                    "(No column name)": "601"
                                },
                                {
                                    "SZOBA_ID": "157",
                                    "ferohely": "2",
                                    "(No column name)": "602"
                                },
                                {
                                    "SZOBA_ID": "157",
                                    "ferohely": "2",
                                    "(No column name)": "603"
                                },
                                {
                                    "SZOBA_ID": "157",
                                    "ferohely": "2",
                                    "(No column name)": "604"
                                },
                                {
                                    "SZOBA_ID": "157",
                                    "ferohely": "2",
                                    "(No column name)": "605"
                                },
                                {
                                    "SZOBA_ID": "158",
                                    "ferohely": "2",
                                    "(No column name)": "606"
                                },
                                {
                                    "SZOBA_ID": "158",
                                    "ferohely": "2",
                                    "(No column name)": "607"
                                },
                                {
                                    "SZOBA_ID": "158",
                                    "ferohely": "2",
                                    "(No column name)": "608"
                                },
                                {
                                    "SZOBA_ID": "154",
                                    "ferohely": "2",
                                    "(No column name)": "609"
                                },
                                {
                                    "SZOBA_ID": "154",
                                    "ferohely": "2",
                                    "(No column name)": "610"
                                },
                                {
                                    "SZOBA_ID": "154",
                                    "ferohely": "2",
                                    "(No column name)": "611"
                                },
                                {
                                    "SZOBA_ID": "154",
                                    "ferohely": "2",
                                    "(No column name)": "612"
                                },
                                {
                                    "SZOBA_ID": "154",
                                    "ferohely": "2",
                                    "(No column name)": "613"
                                },
                                {
                                    "SZOBA_ID": "121",
                                    "ferohely": "2",
                                    "(No column name)": "614"
                                },
                                {
                                    "SZOBA_ID": "121",
                                    "ferohely": "2",
                                    "(No column name)": "615"
                                },
                                {
                                    "SZOBA_ID": "121",
                                    "ferohely": "2",
                                    "(No column name)": "616"
                                },
                                {
                                    "SZOBA_ID": "121",
                                    "ferohely": "2",
                                    "(No column name)": "617"
                                },
                                {
                                    "SZOBA_ID": "121",
                                    "ferohely": "2",
                                    "(No column name)": "618"
                                },
                                {
                                    "SZOBA_ID": "121",
                                    "ferohely": "2",
                                    "(No column name)": "619"
                                },
                                {
                                    "SZOBA_ID": "121",
                                    "ferohely": "2",
                                    "(No column name)": "620"
                                },
                                {
                                    "SZOBA_ID": "121",
                                    "ferohely": "2",
                                    "(No column name)": "621"
                                },
                                {
                                    "SZOBA_ID": "147",
                                    "ferohely": "2",
                                    "(No column name)": "622"
                                },
                                {
                                    "SZOBA_ID": "148",
                                    "ferohely": "2",
                                    "(No column name)": "623"
                                },
                                {
                                    "SZOBA_ID": "148",
                                    "ferohely": "2",
                                    "(No column name)": "624"
                                },
                                {
                                    "SZOBA_ID": "148",
                                    "ferohely": "2",
                                    "(No column name)": "625"
                                },
                                {
                                    "SZOBA_ID": "148",
                                    "ferohely": "2",
                                    "(No column name)": "626"
                                },
                                {
                                    "SZOBA_ID": "148",
                                    "ferohely": "2",
                                    "(No column name)": "627"
                                },
                                {
                                    "SZOBA_ID": "148",
                                    "ferohely": "2",
                                    "(No column name)": "628"
                                },
                                {
                                    "SZOBA_ID": "149",
                                    "ferohely": "2",
                                    "(No column name)": "629"
                                },
                                {
                                    "SZOBA_ID": "149",
                                    "ferohely": "2",
                                    "(No column name)": "630"
                                },
                                {
                                    "SZOBA_ID": "149",
                                    "ferohely": "2",
                                    "(No column name)": "631"
                                },
                                {
                                    "SZOBA_ID": "149",
                                    "ferohely": "2",
                                    "(No column name)": "632"
                                },
                                {
                                    "SZOBA_ID": "149",
                                    "ferohely": "2",
                                    "(No column name)": "633"
                                },
                                {
                                    "SZOBA_ID": "149",
                                    "ferohely": "2",
                                    "(No column name)": "634"
                                },
                                {
                                    "SZOBA_ID": "149",
                                    "ferohely": "2",
                                    "(No column name)": "635"
                                },
                                {
                                    "SZOBA_ID": "150",
                                    "ferohely": "2",
                                    "(No column name)": "636"
                                },
                                {
                                    "SZOBA_ID": "150",
                                    "ferohely": "2",
                                    "(No column name)": "637"
                                },
                                {
                                    "SZOBA_ID": "150",
                                    "ferohely": "2",
                                    "(No column name)": "638"
                                },
                                {
                                    "SZOBA_ID": "150",
                                    "ferohely": "2",
                                    "(No column name)": "639"
                                },
                                {
                                    "SZOBA_ID": "150",
                                    "ferohely": "2",
                                    "(No column name)": "640"
                                },
                                {
                                    "SZOBA_ID": "150",
                                    "ferohely": "2",
                                    "(No column name)": "641"
                                },
                                {
                                    "SZOBA_ID": "151",
                                    "ferohely": "2",
                                    "(No column name)": "642"
                                },
                                {
                                    "SZOBA_ID": "151",
                                    "ferohely": "2",
                                    "(No column name)": "643"
                                },
                                {
                                    "SZOBA_ID": "151",
                                    "ferohely": "2",
                                    "(No column name)": "644"
                                },
                                {
                                    "SZOBA_ID": "152",
                                    "ferohely": "2",
                                    "(No column name)": "645"
                                },
                                {
                                    "SZOBA_ID": "152",
                                    "ferohely": "2",
                                    "(No column name)": "646"
                                },
                                {
                                    "SZOBA_ID": "152",
                                    "ferohely": "2",
                                    "(No column name)": "647"
                                },
                                {
                                    "SZOBA_ID": "152",
                                    "ferohely": "2",
                                    "(No column name)": "648"
                                },
                                {
                                    "SZOBA_ID": "145",
                                    "ferohely": "2",
                                    "(No column name)": "649"
                                },
                                {
                                    "SZOBA_ID": "145",
                                    "ferohely": "2",
                                    "(No column name)": "650"
                                },
                                {
                                    "SZOBA_ID": "145",
                                    "ferohely": "2",
                                    "(No column name)": "651"
                                },
                                {
                                    "SZOBA_ID": "145",
                                    "ferohely": "2",
                                    "(No column name)": "652"
                                },
                                {
                                    "SZOBA_ID": "145",
                                    "ferohely": "2",
                                    "(No column name)": "653"
                                },
                                {
                                    "SZOBA_ID": "145",
                                    "ferohely": "2",
                                    "(No column name)": "654"
                                },
                                {
                                    "SZOBA_ID": "139",
                                    "ferohely": "2",
                                    "(No column name)": "655"
                                },
                                {
                                    "SZOBA_ID": "139",
                                    "ferohely": "2",
                                    "(No column name)": "656"
                                },
                                {
                                    "SZOBA_ID": "139",
                                    "ferohely": "2",
                                    "(No column name)": "657"
                                },
                                {
                                    "SZOBA_ID": "139",
                                    "ferohely": "2",
                                    "(No column name)": "658"
                                },
                                {
                                    "SZOBA_ID": "139",
                                    "ferohely": "2",
                                    "(No column name)": "659"
                                },
                                {
                                    "SZOBA_ID": "139",
                                    "ferohely": "2",
                                    "(No column name)": "660"
                                },
                                {
                                    "SZOBA_ID": "139",
                                    "ferohely": "2",
                                    "(No column name)": "661"
                                },
                                {
                                    "SZOBA_ID": "140",
                                    "ferohely": "2",
                                    "(No column name)": "662"
                                },
                                {
                                    "SZOBA_ID": "140",
                                    "ferohely": "2",
                                    "(No column name)": "663"
                                },
                                {
                                    "SZOBA_ID": "140",
                                    "ferohely": "2",
                                    "(No column name)": "664"
                                },
                                {
                                    "SZOBA_ID": "140",
                                    "ferohely": "2",
                                    "(No column name)": "665"
                                },
                                {
                                    "SZOBA_ID": "140",
                                    "ferohely": "2",
                                    "(No column name)": "666"
                                },
                                {
                                    "SZOBA_ID": "140",
                                    "ferohely": "2",
                                    "(No column name)": "667"
                                },
                                {
                                    "SZOBA_ID": "140",
                                    "ferohely": "2",
                                    "(No column name)": "668"
                                },
                                {
                                    "SZOBA_ID": "140",
                                    "ferohely": "2",
                                    "(No column name)": "669"
                                },
                                {
                                    "SZOBA_ID": "141",
                                    "ferohely": "2",
                                    "(No column name)": "670"
                                },
                                {
                                    "SZOBA_ID": "141",
                                    "ferohely": "2",
                                    "(No column name)": "671"
                                },
                                {
                                    "SZOBA_ID": "141",
                                    "ferohely": "2",
                                    "(No column name)": "672"
                                },
                                {
                                    "SZOBA_ID": "141",
                                    "ferohely": "2",
                                    "(No column name)": "673"
                                },
                                {
                                    "SZOBA_ID": "141",
                                    "ferohely": "2",
                                    "(No column name)": "674"
                                },
                                {
                                    "SZOBA_ID": "141",
                                    "ferohely": "2",
                                    "(No column name)": "675"
                                },
                                {
                                    "SZOBA_ID": "136",
                                    "ferohely": "2",
                                    "(No column name)": "676"
                                },
                                {
                                    "SZOBA_ID": "136",
                                    "ferohely": "2",
                                    "(No column name)": "677"
                                },
                                {
                                    "SZOBA_ID": "136",
                                    "ferohely": "2",
                                    "(No column name)": "678"
                                },
                                {
                                    "SZOBA_ID": "137",
                                    "ferohely": "2",
                                    "(No column name)": "679"
                                },
                                {
                                    "SZOBA_ID": "137",
                                    "ferohely": "2",
                                    "(No column name)": "680"
                                },
                                {
                                    "SZOBA_ID": "137",
                                    "ferohely": "2",
                                    "(No column name)": "681"
                                },
                                {
                                    "SZOBA_ID": "137",
                                    "ferohely": "2",
                                    "(No column name)": "682"
                                },
                                {
                                    "SZOBA_ID": "137",
                                    "ferohely": "2",
                                    "(No column name)": "683"
                                },
                                {
                                    "SZOBA_ID": "137",
                                    "ferohely": "2",
                                    "(No column name)": "684"
                                },
                                {
                                    "SZOBA_ID": "118",
                                    "ferohely": "2",
                                    "(No column name)": "685"
                                },
                                {
                                    "SZOBA_ID": "118",
                                    "ferohely": "2",
                                    "(No column name)": "686"
                                },
                                {
                                    "SZOBA_ID": "118",
                                    "ferohely": "2",
                                    "(No column name)": "687"
                                },
                                {
                                    "SZOBA_ID": "118",
                                    "ferohely": "2",
                                    "(No column name)": "688"
                                },
                                {
                                    "SZOBA_ID": "118",
                                    "ferohely": "2",
                                    "(No column name)": "689"
                                },
                                {
                                    "SZOBA_ID": "118",
                                    "ferohely": "2",
                                    "(No column name)": "690"
                                },
                                {
                                    "SZOBA_ID": "118",
                                    "ferohely": "2",
                                    "(No column name)": "691"
                                },
                                {
                                    "SZOBA_ID": "119",
                                    "ferohely": "2",
                                    "(No column name)": "692"
                                },
                                {
                                    "SZOBA_ID": "119",
                                    "ferohely": "2",
                                    "(No column name)": "693"
                                },
                                {
                                    "SZOBA_ID": "119",
                                    "ferohely": "2",
                                    "(No column name)": "694"
                                },
                                {
                                    "SZOBA_ID": "119",
                                    "ferohely": "2",
                                    "(No column name)": "695"
                                },
                                {
                                    "SZOBA_ID": "119",
                                    "ferohely": "2",
                                    "(No column name)": "696"
                                },
                                {
                                    "SZOBA_ID": "125",
                                    "ferohely": "2",
                                    "(No column name)": "697"
                                },
                                {
                                    "SZOBA_ID": "126",
                                    "ferohely": "2",
                                    "(No column name)": "698"
                                },
                                {
                                    "SZOBA_ID": "126",
                                    "ferohely": "2",
                                    "(No column name)": "699"
                                },
                                {
                                    "SZOBA_ID": "126",
                                    "ferohely": "2",
                                    "(No column name)": "700"
                                },
                                {
                                    "SZOBA_ID": "126",
                                    "ferohely": "2",
                                    "(No column name)": "701"
                                },
                                {
                                    "SZOBA_ID": "126",
                                    "ferohely": "2",
                                    "(No column name)": "702"
                                },
                                {
                                    "SZOBA_ID": "126",
                                    "ferohely": "2",
                                    "(No column name)": "703"
                                },
                                {
                                    "SZOBA_ID": "127",
                                    "ferohely": "2",
                                    "(No column name)": "704"
                                },
                                {
                                    "SZOBA_ID": "127",
                                    "ferohely": "2",
                                    "(No column name)": "705"
                                },
                                {
                                    "SZOBA_ID": "127",
                                    "ferohely": "2",
                                    "(No column name)": "706"
                                },
                                {
                                    "SZOBA_ID": "127",
                                    "ferohely": "2",
                                    "(No column name)": "707"
                                },
                                {
                                    "SZOBA_ID": "127",
                                    "ferohely": "2",
                                    "(No column name)": "708"
                                },
                                {
                                    "SZOBA_ID": "127",
                                    "ferohely": "2",
                                    "(No column name)": "709"
                                },
                                {
                                    "SZOBA_ID": "127",
                                    "ferohely": "2",
                                    "(No column name)": "710"
                                },
                                {
                                    "SZOBA_ID": "128",
                                    "ferohely": "2",
                                    "(No column name)": "711"
                                },
                                {
                                    "SZOBA_ID": "128",
                                    "ferohely": "2",
                                    "(No column name)": "712"
                                },
                                {
                                    "SZOBA_ID": "128",
                                    "ferohely": "2",
                                    "(No column name)": "713"
                                },
                                {
                                    "SZOBA_ID": "128",
                                    "ferohely": "2",
                                    "(No column name)": "714"
                                },
                                {
                                    "SZOBA_ID": "128",
                                    "ferohely": "2",
                                    "(No column name)": "715"
                                },
                                {
                                    "SZOBA_ID": "129",
                                    "ferohely": "2",
                                    "(No column name)": "716"
                                },
                                {
                                    "SZOBA_ID": "129",
                                    "ferohely": "2",
                                    "(No column name)": "717"
                                },
                                {
                                    "SZOBA_ID": "129",
                                    "ferohely": "2",
                                    "(No column name)": "718"
                                },
                                {
                                    "SZOBA_ID": "129",
                                    "ferohely": "2",
                                    "(No column name)": "719"
                                },
                                {
                                    "SZOBA_ID": "130",
                                    "ferohely": "2",
                                    "(No column name)": "720"
                                },
                                {
                                    "SZOBA_ID": "130",
                                    "ferohely": "2",
                                    "(No column name)": "721"
                                },
                                {
                                    "SZOBA_ID": "130",
                                    "ferohely": "2",
                                    "(No column name)": "722"
                                },
                                {
                                    "SZOBA_ID": "130",
                                    "ferohely": "2",
                                    "(No column name)": "723"
                                },
                                {
                                    "SZOBA_ID": "130",
                                    "ferohely": "2",
                                    "(No column name)": "724"
                                },
                                {
                                    "SZOBA_ID": "130",
                                    "ferohely": "2",
                                    "(No column name)": "725"
                                },
                                {
                                    "SZOBA_ID": "131",
                                    "ferohely": "2",
                                    "(No column name)": "726"
                                },
                                {
                                    "SZOBA_ID": "131",
                                    "ferohely": "2",
                                    "(No column name)": "727"
                                },
                                {
                                    "SZOBA_ID": "131",
                                    "ferohely": "2",
                                    "(No column name)": "728"
                                },
                                {
                                    "SZOBA_ID": "131",
                                    "ferohely": "2",
                                    "(No column name)": "729"
                                },
                                {
                                    "SZOBA_ID": "131",
                                    "ferohely": "2",
                                    "(No column name)": "730"
                                },
                                {
                                    "SZOBA_ID": "114",
                                    "ferohely": "2",
                                    "(No column name)": "731"
                                },
                                {
                                    "SZOBA_ID": "114",
                                    "ferohely": "2",
                                    "(No column name)": "732"
                                },
                                {
                                    "SZOBA_ID": "114",
                                    "ferohely": "2",
                                    "(No column name)": "733"
                                },
                                {
                                    "SZOBA_ID": "114",
                                    "ferohely": "2",
                                    "(No column name)": "734"
                                },
                                {
                                    "SZOBA_ID": "78",
                                    "ferohely": "2",
                                    "(No column name)": "735"
                                },
                                {
                                    "SZOBA_ID": "78",
                                    "ferohely": "2",
                                    "(No column name)": "736"
                                },
                                {
                                    "SZOBA_ID": "78",
                                    "ferohely": "2",
                                    "(No column name)": "737"
                                },
                                {
                                    "SZOBA_ID": "78",
                                    "ferohely": "2",
                                    "(No column name)": "738"
                                },
                                {
                                    "SZOBA_ID": "78",
                                    "ferohely": "2",
                                    "(No column name)": "739"
                                },
                                {
                                    "SZOBA_ID": "78",
                                    "ferohely": "2",
                                    "(No column name)": "740"
                                },
                                {
                                    "SZOBA_ID": "94",
                                    "ferohely": "2",
                                    "(No column name)": "741"
                                },
                                {
                                    "SZOBA_ID": "94",
                                    "ferohely": "2",
                                    "(No column name)": "742"
                                },
                                {
                                    "SZOBA_ID": "94",
                                    "ferohely": "2",
                                    "(No column name)": "743"
                                },
                                {
                                    "SZOBA_ID": "94",
                                    "ferohely": "2",
                                    "(No column name)": "744"
                                },
                                {
                                    "SZOBA_ID": "94",
                                    "ferohely": "2",
                                    "(No column name)": "745"
                                },
                                {
                                    "SZOBA_ID": "94",
                                    "ferohely": "2",
                                    "(No column name)": "746"
                                },
                                {
                                    "SZOBA_ID": "94",
                                    "ferohely": "2",
                                    "(No column name)": "747"
                                },
                                {
                                    "SZOBA_ID": "94",
                                    "ferohely": "2",
                                    "(No column name)": "748"
                                },
                                {
                                    "SZOBA_ID": "94",
                                    "ferohely": "2",
                                    "(No column name)": "749"
                                },
                                {
                                    "SZOBA_ID": "94",
                                    "ferohely": "2",
                                    "(No column name)": "750"
                                },
                                {
                                    "SZOBA_ID": "105",
                                    "ferohely": "2",
                                    "(No column name)": "751"
                                },
                                {
                                    "SZOBA_ID": "105",
                                    "ferohely": "2",
                                    "(No column name)": "752"
                                },
                                {
                                    "SZOBA_ID": "106",
                                    "ferohely": "2",
                                    "(No column name)": "753"
                                },
                                {
                                    "SZOBA_ID": "106",
                                    "ferohely": "2",
                                    "(No column name)": "754"
                                },
                                {
                                    "SZOBA_ID": "106",
                                    "ferohely": "2",
                                    "(No column name)": "755"
                                },
                                {
                                    "SZOBA_ID": "106",
                                    "ferohely": "2",
                                    "(No column name)": "756"
                                },
                                {
                                    "SZOBA_ID": "106",
                                    "ferohely": "2",
                                    "(No column name)": "757"
                                },
                                {
                                    "SZOBA_ID": "106",
                                    "ferohely": "2",
                                    "(No column name)": "758"
                                },
                                {
                                    "SZOBA_ID": "107",
                                    "ferohely": "2",
                                    "(No column name)": "759"
                                },
                                {
                                    "SZOBA_ID": "107",
                                    "ferohely": "2",
                                    "(No column name)": "760"
                                },
                                {
                                    "SZOBA_ID": "107",
                                    "ferohely": "2",
                                    "(No column name)": "761"
                                },
                                {
                                    "SZOBA_ID": "107",
                                    "ferohely": "2",
                                    "(No column name)": "762"
                                },
                                {
                                    "SZOBA_ID": "107",
                                    "ferohely": "2",
                                    "(No column name)": "763"
                                },
                                {
                                    "SZOBA_ID": "108",
                                    "ferohely": "2",
                                    "(No column name)": "764"
                                },
                                {
                                    "SZOBA_ID": "108",
                                    "ferohely": "2",
                                    "(No column name)": "765"
                                },
                                {
                                    "SZOBA_ID": "109",
                                    "ferohely": "2",
                                    "(No column name)": "766"
                                },
                                {
                                    "SZOBA_ID": "109",
                                    "ferohely": "2",
                                    "(No column name)": "767"
                                },
                                {
                                    "SZOBA_ID": "109",
                                    "ferohely": "2",
                                    "(No column name)": "768"
                                },
                                {
                                    "SZOBA_ID": "109",
                                    "ferohely": "2",
                                    "(No column name)": "769"
                                },
                                {
                                    "SZOBA_ID": "109",
                                    "ferohely": "2",
                                    "(No column name)": "770"
                                },
                                {
                                    "SZOBA_ID": "109",
                                    "ferohely": "2",
                                    "(No column name)": "771"
                                },
                                {
                                    "SZOBA_ID": "109",
                                    "ferohely": "2",
                                    "(No column name)": "772"
                                },
                                {
                                    "SZOBA_ID": "110",
                                    "ferohely": "2",
                                    "(No column name)": "773"
                                },
                                {
                                    "SZOBA_ID": "110",
                                    "ferohely": "2",
                                    "(No column name)": "774"
                                },
                                {
                                    "SZOBA_ID": "110",
                                    "ferohely": "2",
                                    "(No column name)": "775"
                                },
                                {
                                    "SZOBA_ID": "110",
                                    "ferohely": "2",
                                    "(No column name)": "776"
                                },
                                {
                                    "SZOBA_ID": "110",
                                    "ferohely": "2",
                                    "(No column name)": "777"
                                },
                                {
                                    "SZOBA_ID": "110",
                                    "ferohely": "2",
                                    "(No column name)": "778"
                                },
                                {
                                    "SZOBA_ID": "110",
                                    "ferohely": "2",
                                    "(No column name)": "779"
                                },
                                {
                                    "SZOBA_ID": "110",
                                    "ferohely": "2",
                                    "(No column name)": "780"
                                },
                                {
                                    "SZOBA_ID": "111",
                                    "ferohely": "2",
                                    "(No column name)": "781"
                                },
                                {
                                    "SZOBA_ID": "111",
                                    "ferohely": "2",
                                    "(No column name)": "782"
                                },
                                {
                                    "SZOBA_ID": "111",
                                    "ferohely": "2",
                                    "(No column name)": "783"
                                },
                                {
                                    "SZOBA_ID": "111",
                                    "ferohely": "2",
                                    "(No column name)": "784"
                                },
                                {
                                    "SZOBA_ID": "111",
                                    "ferohely": "2",
                                    "(No column name)": "785"
                                },
                                {
                                    "SZOBA_ID": "98",
                                    "ferohely": "2",
                                    "(No column name)": "786"
                                },
                                {
                                    "SZOBA_ID": "98",
                                    "ferohely": "2",
                                    "(No column name)": "787"
                                },
                                {
                                    "SZOBA_ID": "98",
                                    "ferohely": "2",
                                    "(No column name)": "788"
                                },
                                {
                                    "SZOBA_ID": "98",
                                    "ferohely": "2",
                                    "(No column name)": "789"
                                },
                                {
                                    "SZOBA_ID": "99",
                                    "ferohely": "2",
                                    "(No column name)": "790"
                                },
                                {
                                    "SZOBA_ID": "99",
                                    "ferohely": "2",
                                    "(No column name)": "791"
                                },
                                {
                                    "SZOBA_ID": "99",
                                    "ferohely": "2",
                                    "(No column name)": "792"
                                },
                                {
                                    "SZOBA_ID": "99",
                                    "ferohely": "2",
                                    "(No column name)": "793"
                                },
                                {
                                    "SZOBA_ID": "99",
                                    "ferohely": "2",
                                    "(No column name)": "794"
                                },
                                {
                                    "SZOBA_ID": "100",
                                    "ferohely": "2",
                                    "(No column name)": "795"
                                },
                                {
                                    "SZOBA_ID": "100",
                                    "ferohely": "2",
                                    "(No column name)": "796"
                                },
                                {
                                    "SZOBA_ID": "100",
                                    "ferohely": "2",
                                    "(No column name)": "797"
                                },
                                {
                                    "SZOBA_ID": "100",
                                    "ferohely": "2",
                                    "(No column name)": "798"
                                },
                                {
                                    "SZOBA_ID": "101",
                                    "ferohely": "2",
                                    "(No column name)": "799"
                                },
                                {
                                    "SZOBA_ID": "101",
                                    "ferohely": "2",
                                    "(No column name)": "800"
                                },
                                {
                                    "SZOBA_ID": "101",
                                    "ferohely": "2",
                                    "(No column name)": "801"
                                },
                                {
                                    "SZOBA_ID": "102",
                                    "ferohely": "2",
                                    "(No column name)": "802"
                                },
                                {
                                    "SZOBA_ID": "102",
                                    "ferohely": "2",
                                    "(No column name)": "803"
                                },
                                {
                                    "SZOBA_ID": "103",
                                    "ferohely": "2",
                                    "(No column name)": "804"
                                },
                                {
                                    "SZOBA_ID": "103",
                                    "ferohely": "2",
                                    "(No column name)": "805"
                                },
                                {
                                    "SZOBA_ID": "103",
                                    "ferohely": "2",
                                    "(No column name)": "806"
                                },
                                {
                                    "SZOBA_ID": "103",
                                    "ferohely": "2",
                                    "(No column name)": "807"
                                },
                                {
                                    "SZOBA_ID": "91",
                                    "ferohely": "2",
                                    "(No column name)": "808"
                                },
                                {
                                    "SZOBA_ID": "91",
                                    "ferohely": "2",
                                    "(No column name)": "809"
                                },
                                {
                                    "SZOBA_ID": "91",
                                    "ferohely": "2",
                                    "(No column name)": "810"
                                },
                                {
                                    "SZOBA_ID": "91",
                                    "ferohely": "2",
                                    "(No column name)": "811"
                                },
                                {
                                    "SZOBA_ID": "85",
                                    "ferohely": "2",
                                    "(No column name)": "812"
                                },
                                {
                                    "SZOBA_ID": "85",
                                    "ferohely": "2",
                                    "(No column name)": "813"
                                },
                                {
                                    "SZOBA_ID": "85",
                                    "ferohely": "2",
                                    "(No column name)": "814"
                                },
                                {
                                    "SZOBA_ID": "85",
                                    "ferohely": "2",
                                    "(No column name)": "815"
                                },
                                {
                                    "SZOBA_ID": "86",
                                    "ferohely": "2",
                                    "(No column name)": "816"
                                },
                                {
                                    "SZOBA_ID": "86",
                                    "ferohely": "2",
                                    "(No column name)": "817"
                                },
                                {
                                    "SZOBA_ID": "86",
                                    "ferohely": "2",
                                    "(No column name)": "818"
                                },
                                {
                                    "SZOBA_ID": "86",
                                    "ferohely": "2",
                                    "(No column name)": "819"
                                },
                                {
                                    "SZOBA_ID": "86",
                                    "ferohely": "2",
                                    "(No column name)": "820"
                                },
                                {
                                    "SZOBA_ID": "80",
                                    "ferohely": "2",
                                    "(No column name)": "821"
                                },
                                {
                                    "SZOBA_ID": "80",
                                    "ferohely": "2",
                                    "(No column name)": "822"
                                },
                                {
                                    "SZOBA_ID": "80",
                                    "ferohely": "2",
                                    "(No column name)": "823"
                                },
                                {
                                    "SZOBA_ID": "80",
                                    "ferohely": "2",
                                    "(No column name)": "824"
                                },
                                {
                                    "SZOBA_ID": "80",
                                    "ferohely": "2",
                                    "(No column name)": "825"
                                },
                                {
                                    "SZOBA_ID": "80",
                                    "ferohely": "2",
                                    "(No column name)": "826"
                                },
                                {
                                    "SZOBA_ID": "80",
                                    "ferohely": "2",
                                    "(No column name)": "827"
                                },
                                {
                                    "SZOBA_ID": "81",
                                    "ferohely": "2",
                                    "(No column name)": "828"
                                },
                                {
                                    "SZOBA_ID": "81",
                                    "ferohely": "2",
                                    "(No column name)": "829"
                                },
                                {
                                    "SZOBA_ID": "81",
                                    "ferohely": "2",
                                    "(No column name)": "830"
                                },
                                {
                                    "SZOBA_ID": "81",
                                    "ferohely": "2",
                                    "(No column name)": "831"
                                },
                                {
                                    "SZOBA_ID": "81",
                                    "ferohely": "2",
                                    "(No column name)": "832"
                                },
                                {
                                    "SZOBA_ID": "75",
                                    "ferohely": "2",
                                    "(No column name)": "833"
                                },
                                {
                                    "SZOBA_ID": "75",
                                    "ferohely": "2",
                                    "(No column name)": "834"
                                },
                                {
                                    "SZOBA_ID": "75",
                                    "ferohely": "2",
                                    "(No column name)": "835"
                                },
                                {
                                    "SZOBA_ID": "76",
                                    "ferohely": "2",
                                    "(No column name)": "836"
                                },
                                {
                                    "SZOBA_ID": "76",
                                    "ferohely": "2",
                                    "(No column name)": "837"
                                },
                                {
                                    "SZOBA_ID": "76",
                                    "ferohely": "2",
                                    "(No column name)": "838"
                                },
                                {
                                    "SZOBA_ID": "72",
                                    "ferohely": "2",
                                    "(No column name)": "839"
                                },
                                {
                                    "SZOBA_ID": "72",
                                    "ferohely": "2",
                                    "(No column name)": "840"
                                },
                                {
                                    "SZOBA_ID": "72",
                                    "ferohely": "2",
                                    "(No column name)": "841"
                                },
                                {
                                    "SZOBA_ID": "72",
                                    "ferohely": "2",
                                    "(No column name)": "842"
                                },
                                {
                                    "SZOBA_ID": "73",
                                    "ferohely": "2",
                                    "(No column name)": "843"
                                },
                                {
                                    "SZOBA_ID": "73",
                                    "ferohely": "2",
                                    "(No column name)": "844"
                                },
                                {
                                    "SZOBA_ID": "73",
                                    "ferohely": "2",
                                    "(No column name)": "845"
                                },
                                {
                                    "SZOBA_ID": "73",
                                    "ferohely": "2",
                                    "(No column name)": "846"
                                },
                                {
                                    "SZOBA_ID": "37",
                                    "ferohely": "2",
                                    "(No column name)": "847"
                                },
                                {
                                    "SZOBA_ID": "37",
                                    "ferohely": "2",
                                    "(No column name)": "848"
                                },
                                {
                                    "SZOBA_ID": "37",
                                    "ferohely": "2",
                                    "(No column name)": "849"
                                },
                                {
                                    "SZOBA_ID": "38",
                                    "ferohely": "2",
                                    "(No column name)": "850"
                                },
                                {
                                    "SZOBA_ID": "38",
                                    "ferohely": "2",
                                    "(No column name)": "851"
                                },
                                {
                                    "SZOBA_ID": "38",
                                    "ferohely": "2",
                                    "(No column name)": "852"
                                },
                                {
                                    "SZOBA_ID": "38",
                                    "ferohely": "2",
                                    "(No column name)": "853"
                                },
                                {
                                    "SZOBA_ID": "38",
                                    "ferohely": "2",
                                    "(No column name)": "854"
                                },
                                {
                                    "SZOBA_ID": "38",
                                    "ferohely": "2",
                                    "(No column name)": "855"
                                },
                                {
                                    "SZOBA_ID": "38",
                                    "ferohely": "2",
                                    "(No column name)": "856"
                                },
                                {
                                    "SZOBA_ID": "38",
                                    "ferohely": "2",
                                    "(No column name)": "857"
                                },
                                {
                                    "SZOBA_ID": "39",
                                    "ferohely": "2",
                                    "(No column name)": "858"
                                },
                                {
                                    "SZOBA_ID": "39",
                                    "ferohely": "2",
                                    "(No column name)": "859"
                                },
                                {
                                    "SZOBA_ID": "39",
                                    "ferohely": "2",
                                    "(No column name)": "860"
                                },
                                {
                                    "SZOBA_ID": "39",
                                    "ferohely": "2",
                                    "(No column name)": "861"
                                },
                                {
                                    "SZOBA_ID": "39",
                                    "ferohely": "2",
                                    "(No column name)": "862"
                                },
                                {
                                    "SZOBA_ID": "39",
                                    "ferohely": "2",
                                    "(No column name)": "863"
                                },
                                {
                                    "SZOBA_ID": "39",
                                    "ferohely": "2",
                                    "(No column name)": "864"
                                },
                                {
                                    "SZOBA_ID": "28",
                                    "ferohely": "2",
                                    "(No column name)": "865"
                                },
                                {
                                    "SZOBA_ID": "28",
                                    "ferohely": "2",
                                    "(No column name)": "866"
                                },
                                {
                                    "SZOBA_ID": "28",
                                    "ferohely": "2",
                                    "(No column name)": "867"
                                },
                                {
                                    "SZOBA_ID": "28",
                                    "ferohely": "2",
                                    "(No column name)": "868"
                                },
                                {
                                    "SZOBA_ID": "28",
                                    "ferohely": "2",
                                    "(No column name)": "869"
                                },
                                {
                                    "SZOBA_ID": "28",
                                    "ferohely": "2",
                                    "(No column name)": "870"
                                },
                                {
                                    "SZOBA_ID": "29",
                                    "ferohely": "2",
                                    "(No column name)": "871"
                                },
                                {
                                    "SZOBA_ID": "29",
                                    "ferohely": "2",
                                    "(No column name)": "872"
                                },
                                {
                                    "SZOBA_ID": "29",
                                    "ferohely": "2",
                                    "(No column name)": "873"
                                },
                                {
                                    "SZOBA_ID": "29",
                                    "ferohely": "2",
                                    "(No column name)": "874"
                                },
                                {
                                    "SZOBA_ID": "29",
                                    "ferohely": "2",
                                    "(No column name)": "875"
                                },
                                {
                                    "SZOBA_ID": "29",
                                    "ferohely": "2",
                                    "(No column name)": "876"
                                },
                                {
                                    "SZOBA_ID": "23",
                                    "ferohely": "2",
                                    "(No column name)": "877"
                                },
                                {
                                    "SZOBA_ID": "23",
                                    "ferohely": "2",
                                    "(No column name)": "878"
                                },
                                {
                                    "SZOBA_ID": "23",
                                    "ferohely": "2",
                                    "(No column name)": "879"
                                },
                                {
                                    "SZOBA_ID": "21",
                                    "ferohely": "2",
                                    "(No column name)": "880"
                                },
                                {
                                    "SZOBA_ID": "21",
                                    "ferohely": "2",
                                    "(No column name)": "881"
                                },
                                {
                                    "SZOBA_ID": "21",
                                    "ferohely": "2",
                                    "(No column name)": "882"
                                },
                                {
                                    "SZOBA_ID": "21",
                                    "ferohely": "2",
                                    "(No column name)": "883"
                                },
                                {
                                    "SZOBA_ID": "19",
                                    "ferohely": "2",
                                    "(No column name)": "884"
                                },
                                {
                                    "SZOBA_ID": "19",
                                    "ferohely": "2",
                                    "(No column name)": "885"
                                },
                                {
                                    "SZOBA_ID": "19",
                                    "ferohely": "2",
                                    "(No column name)": "886"
                                },
                                {
                                    "SZOBA_ID": "19",
                                    "ferohely": "2",
                                    "(No column name)": "887"
                                },
                                {
                                    "SZOBA_ID": "19",
                                    "ferohely": "2",
                                    "(No column name)": "888"
                                },
                                {
                                    "SZOBA_ID": "19",
                                    "ferohely": "2",
                                    "(No column name)": "889"
                                },
                                {
                                    "SZOBA_ID": "15",
                                    "ferohely": "2",
                                    "(No column name)": "890"
                                },
                                {
                                    "SZOBA_ID": "15",
                                    "ferohely": "2",
                                    "(No column name)": "891"
                                },
                                {
                                    "SZOBA_ID": "15",
                                    "ferohely": "2",
                                    "(No column name)": "892"
                                },
                                {
                                    "SZOBA_ID": "15",
                                    "ferohely": "2",
                                    "(No column name)": "893"
                                },
                                {
                                    "SZOBA_ID": "15",
                                    "ferohely": "2",
                                    "(No column name)": "894"
                                },
                                {
                                    "SZOBA_ID": "15",
                                    "ferohely": "2",
                                    "(No column name)": "895"
                                },
                                {
                                    "SZOBA_ID": "7",
                                    "ferohely": "2",
                                    "(No column name)": "896"
                                },
                                {
                                    "SZOBA_ID": "7",
                                    "ferohely": "2",
                                    "(No column name)": "897"
                                },
                                {
                                    "SZOBA_ID": "7",
                                    "ferohely": "2",
                                    "(No column name)": "898"
                                },
                                {
                                    "SZOBA_ID": "7",
                                    "ferohely": "2",
                                    "(No column name)": "899"
                                },
                                {
                                    "SZOBA_ID": "7",
                                    "ferohely": "2",
                                    "(No column name)": "900"
                                },
                                {
                                    "SZOBA_ID": "7",
                                    "ferohely": "2",
                                    "(No column name)": "901"
                                },
                                {
                                    "SZOBA_ID": "11",
                                    "ferohely": "2",
                                    "(No column name)": "902"
                                },
                                {
                                    "SZOBA_ID": "11",
                                    "ferohely": "2",
                                    "(No column name)": "903"
                                },
                                {
                                    "SZOBA_ID": "11",
                                    "ferohely": "2",
                                    "(No column name)": "904"
                                },
                                {
                                    "SZOBA_ID": "11",
                                    "ferohely": "2",
                                    "(No column name)": "905"
                                },
                                {
                                    "SZOBA_ID": "12",
                                    "ferohely": "2",
                                    "(No column name)": "906"
                                },
                                {
                                    "SZOBA_ID": "12",
                                    "ferohely": "2",
                                    "(No column name)": "907"
                                },
                                {
                                    "SZOBA_ID": "12",
                                    "ferohely": "2",
                                    "(No column name)": "908"
                                },
                                {
                                    "SZOBA_ID": "12",
                                    "ferohely": "2",
                                    "(No column name)": "909"
                                },
                                {
                                    "SZOBA_ID": "12",
                                    "ferohely": "2",
                                    "(No column name)": "910"
                                },
                                {
                                    "SZOBA_ID": "12",
                                    "ferohely": "2",
                                    "(No column name)": "911"
                                },
                                {
                                    "SZOBA_ID": "12",
                                    "ferohely": "2",
                                    "(No column name)": "912"
                                },
                                {
                                    "SZOBA_ID": "12",
                                    "ferohely": "2",
                                    "(No column name)": "913"
                                },
                                {
                                    "SZOBA_ID": "12",
                                    "ferohely": "2",
                                    "(No column name)": "914"
                                },
                                {
                                    "SZOBA_ID": "4",
                                    "ferohely": "2",
                                    "(No column name)": "915"
                                },
                                {
                                    "SZOBA_ID": "4",
                                    "ferohely": "2",
                                    "(No column name)": "916"
                                },
                                {
                                    "SZOBA_ID": "4",
                                    "ferohely": "2",
                                    "(No column name)": "917"
                                },
                                {
                                    "SZOBA_ID": "4",
                                    "ferohely": "2",
                                    "(No column name)": "918"
                                },
                                {
                                    "SZOBA_ID": "4",
                                    "ferohely": "2",
                                    "(No column name)": "919"
                                },
                                {
                                    "SZOBA_ID": "4",
                                    "ferohely": "2",
                                    "(No column name)": "920"
                                },
                                {
                                    "SZOBA_ID": "5",
                                    "ferohely": "2",
                                    "(No column name)": "921"
                                },
                                {
                                    "SZOBA_ID": "5",
                                    "ferohely": "2",
                                    "(No column name)": "922"
                                },
                                {
                                    "SZOBA_ID": "5",
                                    "ferohely": "2",
                                    "(No column name)": "923"
                                },
                                {
                                    "SZOBA_ID": "5",
                                    "ferohely": "2",
                                    "(No column name)": "924"
                                },
                                {
                                    "SZOBA_ID": "70",
                                    "ferohely": "2",
                                    "(No column name)": "925"
                                },
                                {
                                    "SZOBA_ID": "70",
                                    "ferohely": "2",
                                    "(No column name)": "926"
                                },
                                {
                                    "SZOBA_ID": "70",
                                    "ferohely": "2",
                                    "(No column name)": "927"
                                },
                                {
                                    "SZOBA_ID": "70",
                                    "ferohely": "2",
                                    "(No column name)": "928"
                                },
                                {
                                    "SZOBA_ID": "70",
                                    "ferohely": "2",
                                    "(No column name)": "929"
                                },
                                {
                                    "SZOBA_ID": "70",
                                    "ferohely": "2",
                                    "(No column name)": "930"
                                },
                                {
                                    "SZOBA_ID": "70",
                                    "ferohely": "2",
                                    "(No column name)": "931"
                                },
                                {
                                    "SZOBA_ID": "70",
                                    "ferohely": "2",
                                    "(No column name)": "932"
                                },
                                {
                                    "SZOBA_ID": "70",
                                    "ferohely": "2",
                                    "(No column name)": "933"
                                },
                                {
                                    "SZOBA_ID": "70",
                                    "ferohely": "2",
                                    "(No column name)": "934"
                                },
                                {
                                    "SZOBA_ID": "70",
                                    "ferohely": "2",
                                    "(No column name)": "935"
                                },
                                {
                                    "SZOBA_ID": "67",
                                    "ferohely": "2",
                                    "(No column name)": "936"
                                },
                                {
                                    "SZOBA_ID": "67",
                                    "ferohely": "2",
                                    "(No column name)": "937"
                                },
                                {
                                    "SZOBA_ID": "67",
                                    "ferohely": "2",
                                    "(No column name)": "938"
                                },
                                {
                                    "SZOBA_ID": "67",
                                    "ferohely": "2",
                                    "(No column name)": "939"
                                },
                                {
                                    "SZOBA_ID": "67",
                                    "ferohely": "2",
                                    "(No column name)": "940"
                                },
                                {
                                    "SZOBA_ID": "67",
                                    "ferohely": "2",
                                    "(No column name)": "941"
                                },
                                {
                                    "SZOBA_ID": "68",
                                    "ferohely": "2",
                                    "(No column name)": "942"
                                },
                                {
                                    "SZOBA_ID": "68",
                                    "ferohely": "2",
                                    "(No column name)": "943"
                                },
                                {
                                    "SZOBA_ID": "68",
                                    "ferohely": "2",
                                    "(No column name)": "944"
                                },
                                {
                                    "SZOBA_ID": "62",
                                    "ferohely": "2",
                                    "(No column name)": "945"
                                },
                                {
                                    "SZOBA_ID": "62",
                                    "ferohely": "2",
                                    "(No column name)": "946"
                                },
                                {
                                    "SZOBA_ID": "62",
                                    "ferohely": "2",
                                    "(No column name)": "947"
                                },
                                {
                                    "SZOBA_ID": "62",
                                    "ferohely": "2",
                                    "(No column name)": "948"
                                },
                                {
                                    "SZOBA_ID": "62",
                                    "ferohely": "2",
                                    "(No column name)": "949"
                                },
                                {
                                    "SZOBA_ID": "63",
                                    "ferohely": "2",
                                    "(No column name)": "950"
                                },
                                {
                                    "SZOBA_ID": "63",
                                    "ferohely": "2",
                                    "(No column name)": "951"
                                },
                                {
                                    "SZOBA_ID": "63",
                                    "ferohely": "2",
                                    "(No column name)": "952"
                                },
                                {
                                    "SZOBA_ID": "63",
                                    "ferohely": "2",
                                    "(No column name)": "953"
                                },
                                {
                                    "SZOBA_ID": "64",
                                    "ferohely": "2",
                                    "(No column name)": "954"
                                },
                                {
                                    "SZOBA_ID": "64",
                                    "ferohely": "2",
                                    "(No column name)": "955"
                                },
                                {
                                    "SZOBA_ID": "64",
                                    "ferohely": "2",
                                    "(No column name)": "956"
                                },
                                {
                                    "SZOBA_ID": "64",
                                    "ferohely": "2",
                                    "(No column name)": "957"
                                },
                                {
                                    "SZOBA_ID": "64",
                                    "ferohely": "2",
                                    "(No column name)": "958"
                                },
                                {
                                    "SZOBA_ID": "64",
                                    "ferohely": "2",
                                    "(No column name)": "959"
                                },
                                {
                                    "SZOBA_ID": "65",
                                    "ferohely": "2",
                                    "(No column name)": "960"
                                },
                                {
                                    "SZOBA_ID": "55",
                                    "ferohely": "2",
                                    "(No column name)": "961"
                                },
                                {
                                    "SZOBA_ID": "55",
                                    "ferohely": "2",
                                    "(No column name)": "962"
                                },
                                {
                                    "SZOBA_ID": "55",
                                    "ferohely": "2",
                                    "(No column name)": "963"
                                },
                                {
                                    "SZOBA_ID": "55",
                                    "ferohely": "2",
                                    "(No column name)": "964"
                                },
                                {
                                    "SZOBA_ID": "55",
                                    "ferohely": "2",
                                    "(No column name)": "965"
                                },
                                {
                                    "SZOBA_ID": "55",
                                    "ferohely": "2",
                                    "(No column name)": "966"
                                },
                                {
                                    "SZOBA_ID": "55",
                                    "ferohely": "2",
                                    "(No column name)": "967"
                                },
                                {
                                    "SZOBA_ID": "55",
                                    "ferohely": "2",
                                    "(No column name)": "968"
                                },
                                {
                                    "SZOBA_ID": "56",
                                    "ferohely": "2",
                                    "(No column name)": "969"
                                },
                                {
                                    "SZOBA_ID": "56",
                                    "ferohely": "2",
                                    "(No column name)": "970"
                                },
                                {
                                    "SZOBA_ID": "57",
                                    "ferohely": "2",
                                    "(No column name)": "971"
                                },
                                {
                                    "SZOBA_ID": "57",
                                    "ferohely": "2",
                                    "(No column name)": "972"
                                },
                                {
                                    "SZOBA_ID": "57",
                                    "ferohely": "2",
                                    "(No column name)": "973"
                                },
                                {
                                    "SZOBA_ID": "57",
                                    "ferohely": "2",
                                    "(No column name)": "974"
                                },
                                {
                                    "SZOBA_ID": "58",
                                    "ferohely": "2",
                                    "(No column name)": "975"
                                },
                                {
                                    "SZOBA_ID": "58",
                                    "ferohely": "2",
                                    "(No column name)": "976"
                                },
                                {
                                    "SZOBA_ID": "58",
                                    "ferohely": "2",
                                    "(No column name)": "977"
                                },
                                {
                                    "SZOBA_ID": "58",
                                    "ferohely": "2",
                                    "(No column name)": "978"
                                },
                                {
                                    "SZOBA_ID": "58",
                                    "ferohely": "2",
                                    "(No column name)": "979"
                                },
                                {
                                    "SZOBA_ID": "58",
                                    "ferohely": "2",
                                    "(No column name)": "980"
                                },
                                {
                                    "SZOBA_ID": "58",
                                    "ferohely": "2",
                                    "(No column name)": "981"
                                },
                                {
                                    "SZOBA_ID": "58",
                                    "ferohely": "2",
                                    "(No column name)": "982"
                                },
                                {
                                    "SZOBA_ID": "58",
                                    "ferohely": "2",
                                    "(No column name)": "983"
                                },
                                {
                                    "SZOBA_ID": "58",
                                    "ferohely": "2",
                                    "(No column name)": "984"
                                },
                                {
                                    "SZOBA_ID": "58",
                                    "ferohely": "2",
                                    "(No column name)": "985"
                                },
                                {
                                    "SZOBA_ID": "58",
                                    "ferohely": "2",
                                    "(No column name)": "986"
                                },
                                {
                                    "SZOBA_ID": "58",
                                    "ferohely": "2",
                                    "(No column name)": "987"
                                },
                                {
                                    "SZOBA_ID": "59",
                                    "ferohely": "2",
                                    "(No column name)": "988"
                                },
                                {
                                    "SZOBA_ID": "59",
                                    "ferohely": "2",
                                    "(No column name)": "989"
                                },
                                {
                                    "SZOBA_ID": "59",
                                    "ferohely": "2",
                                    "(No column name)": "990"
                                },
                                {
                                    "SZOBA_ID": "59",
                                    "ferohely": "2",
                                    "(No column name)": "991"
                                },
                                {
                                    "SZOBA_ID": "59",
                                    "ferohely": "2",
                                    "(No column name)": "992"
                                },
                                {
                                    "SZOBA_ID": "59",
                                    "ferohely": "2",
                                    "(No column name)": "993"
                                },
                                {
                                    "SZOBA_ID": "59",
                                    "ferohely": "2",
                                    "(No column name)": "994"
                                },
                                {
                                    "SZOBA_ID": "45",
                                    "ferohely": "2",
                                    "(No column name)": "995"
                                },
                                {
                                    "SZOBA_ID": "45",
                                    "ferohely": "2",
                                    "(No column name)": "996"
                                },
                                {
                                    "SZOBA_ID": "45",
                                    "ferohely": "2",
                                    "(No column name)": "997"
                                },
                                {
                                    "SZOBA_ID": "45",
                                    "ferohely": "2",
                                    "(No column name)": "998"
                                },
                                {
                                    "SZOBA_ID": "45",
                                    "ferohely": "2",
                                    "(No column name)": "999"
                                },
                                {
                                    "SZOBA_ID": "42",
                                    "ferohely": "2",
                                    "(No column name)": "1000"
                                },
                                {
                                    "SZOBA_ID": "42",
                                    "ferohely": "2",
                                    "(No column name)": "1001"
                                },
                                {
                                    "SZOBA_ID": "42",
                                    "ferohely": "2",
                                    "(No column name)": "1002"
                                },
                                {
                                    "SZOBA_ID": "42",
                                    "ferohely": "2",
                                    "(No column name)": "1003"
                                },
                                {
                                    "SZOBA_ID": "42",
                                    "ferohely": "2",
                                    "(No column name)": "1004"
                                },
                                {
                                    "SZOBA_ID": "42",
                                    "ferohely": "2",
                                    "(No column name)": "1005"
                                },
                                {
                                    "SZOBA_ID": "32",
                                    "ferohely": "2",
                                    "(No column name)": "1006"
                                },
                                {
                                    "SZOBA_ID": "33",
                                    "ferohely": "2",
                                    "(No column name)": "1007"
                                },
                                {
                                    "SZOBA_ID": "33",
                                    "ferohely": "2",
                                    "(No column name)": "1008"
                                },
                                {
                                    "SZOBA_ID": "33",
                                    "ferohely": "2",
                                    "(No column name)": "1009"
                                },
                                {
                                    "SZOBA_ID": "33",
                                    "ferohely": "2",
                                    "(No column name)": "1010"
                                },
                                {
                                    "SZOBA_ID": "33",
                                    "ferohely": "2",
                                    "(No column name)": "1011"
                                },
                                {
                                    "SZOBA_ID": "33",
                                    "ferohely": "2",
                                    "(No column name)": "1012"
                                },
                                {
                                    "SZOBA_ID": "50",
                                    "ferohely": "2",
                                    "(No column name)": "1013"
                                },
                                {
                                    "SZOBA_ID": "50",
                                    "ferohely": "2",
                                    "(No column name)": "1014"
                                },
                                {
                                    "SZOBA_ID": "50",
                                    "ferohely": "2",
                                    "(No column name)": "1015"
                                },
                                {
                                    "SZOBA_ID": "50",
                                    "ferohely": "2",
                                    "(No column name)": "1016"
                                },
                                {
                                    "SZOBA_ID": "52",
                                    "ferohely": "2",
                                    "(No column name)": "1017"
                                },
                                {
                                    "SZOBA_ID": "52",
                                    "ferohely": "2",
                                    "(No column name)": "1018"
                                },
                                {
                                    "SZOBA_ID": "52",
                                    "ferohely": "2",
                                    "(No column name)": "1019"
                                },
                                {
                                    "SZOBA_ID": "52",
                                    "ferohely": "2",
                                    "(No column name)": "1020"
                                },
                                {
                                    "SZOBA_ID": "52",
                                    "ferohely": "2",
                                    "(No column name)": "1021"
                                },
                                {
                                    "SZOBA_ID": "53",
                                    "ferohely": "2",
                                    "(No column name)": "1022"
                                },
                                {
                                    "SZOBA_ID": "53",
                                    "ferohely": "2",
                                    "(No column name)": "1023"
                                },
                                {
                                    "SZOBA_ID": "47",
                                    "ferohely": "2",
                                    "(No column name)": "1024"
                                },
                                {
                                    "SZOBA_ID": "47",
                                    "ferohely": "2",
                                    "(No column name)": "1025"
                                },
                                {
                                    "SZOBA_ID": "26",
                                    "ferohely": "2",
                                    "(No column name)": "1026"
                                },
                                {
                                    "SZOBA_ID": "26",
                                    "ferohely": "2",
                                    "(No column name)": "1027"
                                }
                            ]
                        },
                        "text/html": [
                            "<table>",
                            "<tr><th>SZOBA_ID</th><th>ferohely</th><th>(No column name)</th></tr>",
                            "<tr><td>NULL</td><td>NULL</td><td>1</td></tr>",
                            "<tr><td>24</td><td>4</td><td>1</td></tr>",
                            "<tr><td>24</td><td>4</td><td>2</td></tr>",
                            "<tr><td>24</td><td>4</td><td>3</td></tr>",
                            "<tr><td>25</td><td>3</td><td>4</td></tr>",
                            "<tr><td>25</td><td>3</td><td>5</td></tr>",
                            "<tr><td>46</td><td>3</td><td>6</td></tr>",
                            "<tr><td>46</td><td>3</td><td>7</td></tr>",
                            "<tr><td>46</td><td>3</td><td>8</td></tr>",
                            "<tr><td>46</td><td>3</td><td>9</td></tr>",
                            "<tr><td>51</td><td>3</td><td>10</td></tr>",
                            "<tr><td>51</td><td>3</td><td>11</td></tr>",
                            "<tr><td>51</td><td>3</td><td>12</td></tr>",
                            "<tr><td>51</td><td>3</td><td>13</td></tr>",
                            "<tr><td>51</td><td>3</td><td>14</td></tr>",
                            "<tr><td>48</td><td>3</td><td>15</td></tr>",
                            "<tr><td>48</td><td>3</td><td>16</td></tr>",
                            "<tr><td>48</td><td>3</td><td>17</td></tr>",
                            "<tr><td>48</td><td>3</td><td>18</td></tr>",
                            "<tr><td>48</td><td>3</td><td>19</td></tr>",
                            "<tr><td>48</td><td>3</td><td>20</td></tr>",
                            "<tr><td>48</td><td>3</td><td>21</td></tr>",
                            "<tr><td>48</td><td>3</td><td>22</td></tr>",
                            "<tr><td>48</td><td>3</td><td>23</td></tr>",
                            "<tr><td>49</td><td>3</td><td>24</td></tr>",
                            "<tr><td>49</td><td>3</td><td>25</td></tr>",
                            "<tr><td>49</td><td>3</td><td>26</td></tr>",
                            "<tr><td>49</td><td>3</td><td>27</td></tr>",
                            "<tr><td>49</td><td>3</td><td>28</td></tr>",
                            "<tr><td>49</td><td>3</td><td>29</td></tr>",
                            "<tr><td>49</td><td>3</td><td>30</td></tr>",
                            "<tr><td>30</td><td>3</td><td>31</td></tr>",
                            "<tr><td>30</td><td>3</td><td>32</td></tr>",
                            "<tr><td>30</td><td>3</td><td>33</td></tr>",
                            "<tr><td>31</td><td>3</td><td>34</td></tr>",
                            "<tr><td>31</td><td>3</td><td>35</td></tr>",
                            "<tr><td>31</td><td>3</td><td>36</td></tr>",
                            "<tr><td>40</td><td>3</td><td>37</td></tr>",
                            "<tr><td>40</td><td>3</td><td>38</td></tr>",
                            "<tr><td>40</td><td>3</td><td>39</td></tr>",
                            "<tr><td>40</td><td>3</td><td>40</td></tr>",
                            "<tr><td>41</td><td>3</td><td>41</td></tr>",
                            "<tr><td>41</td><td>3</td><td>42</td></tr>",
                            "<tr><td>43</td><td>3</td><td>43</td></tr>",
                            "<tr><td>43</td><td>3</td><td>44</td></tr>",
                            "<tr><td>43</td><td>3</td><td>45</td></tr>",
                            "<tr><td>43</td><td>3</td><td>46</td></tr>",
                            "<tr><td>43</td><td>3</td><td>47</td></tr>",
                            "<tr><td>43</td><td>3</td><td>48</td></tr>",
                            "<tr><td>43</td><td>3</td><td>49</td></tr>",
                            "<tr><td>43</td><td>3</td><td>50</td></tr>",
                            "<tr><td>44</td><td>3</td><td>51</td></tr>",
                            "<tr><td>44</td><td>3</td><td>52</td></tr>",
                            "<tr><td>44</td><td>3</td><td>53</td></tr>",
                            "<tr><td>44</td><td>3</td><td>54</td></tr>",
                            "<tr><td>44</td><td>3</td><td>55</td></tr>",
                            "<tr><td>44</td><td>3</td><td>56</td></tr>",
                            "<tr><td>54</td><td>3</td><td>57</td></tr>",
                            "<tr><td>54</td><td>3</td><td>58</td></tr>",
                            "<tr><td>54</td><td>3</td><td>59</td></tr>",
                            "<tr><td>54</td><td>3</td><td>60</td></tr>",
                            "<tr><td>54</td><td>3</td><td>61</td></tr>",
                            "<tr><td>54</td><td>3</td><td>62</td></tr>",
                            "<tr><td>60</td><td>3</td><td>63</td></tr>",
                            "<tr><td>61</td><td>3</td><td>64</td></tr>",
                            "<tr><td>61</td><td>3</td><td>65</td></tr>",
                            "<tr><td>61</td><td>3</td><td>66</td></tr>",
                            "<tr><td>61</td><td>3</td><td>67</td></tr>",
                            "<tr><td>61</td><td>3</td><td>68</td></tr>",
                            "<tr><td>66</td><td>3</td><td>69</td></tr>",
                            "<tr><td>66</td><td>3</td><td>70</td></tr>",
                            "<tr><td>66</td><td>3</td><td>71</td></tr>",
                            "<tr><td>66</td><td>3</td><td>72</td></tr>",
                            "<tr><td>69</td><td>3</td><td>73</td></tr>",
                            "<tr><td>69</td><td>3</td><td>74</td></tr>",
                            "<tr><td>69</td><td>3</td><td>75</td></tr>",
                            "<tr><td>69</td><td>3</td><td>76</td></tr>",
                            "<tr><td>1</td><td>3</td><td>77</td></tr>",
                            "<tr><td>1</td><td>3</td><td>78</td></tr>",
                            "<tr><td>1</td><td>3</td><td>79</td></tr>",
                            "<tr><td>1</td><td>3</td><td>80</td></tr>",
                            "<tr><td>1</td><td>3</td><td>81</td></tr>",
                            "<tr><td>1</td><td>3</td><td>82</td></tr>",
                            "<tr><td>1</td><td>3</td><td>83</td></tr>",
                            "<tr><td>1</td><td>3</td><td>84</td></tr>",
                            "<tr><td>2</td><td>3</td><td>85</td></tr>",
                            "<tr><td>2</td><td>3</td><td>86</td></tr>",
                            "<tr><td>2</td><td>3</td><td>87</td></tr>",
                            "<tr><td>2</td><td>3</td><td>88</td></tr>",
                            "<tr><td>3</td><td>3</td><td>89</td></tr>",
                            "<tr><td>3</td><td>3</td><td>90</td></tr>",
                            "<tr><td>3</td><td>3</td><td>91</td></tr>",
                            "<tr><td>3</td><td>3</td><td>92</td></tr>",
                            "<tr><td>3</td><td>3</td><td>93</td></tr>",
                            "<tr><td>3</td><td>3</td><td>94</td></tr>",
                            "<tr><td>3</td><td>3</td><td>95</td></tr>",
                            "<tr><td>3</td><td>3</td><td>96</td></tr>",
                            "<tr><td>8</td><td>3</td><td>97</td></tr>",
                            "<tr><td>8</td><td>3</td><td>98</td></tr>",
                            "<tr><td>8</td><td>3</td><td>99</td></tr>",
                            "<tr><td>8</td><td>3</td><td>100</td></tr>",
                            "<tr><td>8</td><td>3</td><td>101</td></tr>",
                            "<tr><td>9</td><td>3</td><td>102</td></tr>",
                            "<tr><td>9</td><td>3</td><td>103</td></tr>",
                            "<tr><td>9</td><td>3</td><td>104</td></tr>",
                            "<tr><td>9</td><td>3</td><td>105</td></tr>",
                            "<tr><td>9</td><td>3</td><td>106</td></tr>",
                            "<tr><td>9</td><td>3</td><td>107</td></tr>",
                            "<tr><td>10</td><td>3</td><td>108</td></tr>",
                            "<tr><td>10</td><td>3</td><td>109</td></tr>",
                            "<tr><td>10</td><td>3</td><td>110</td></tr>",
                            "<tr><td>10</td><td>3</td><td>111</td></tr>",
                            "<tr><td>6</td><td>3</td><td>112</td></tr>",
                            "<tr><td>6</td><td>3</td><td>113</td></tr>",
                            "<tr><td>6</td><td>3</td><td>114</td></tr>",
                            "<tr><td>6</td><td>3</td><td>115</td></tr>",
                            "<tr><td>6</td><td>3</td><td>116</td></tr>",
                            "<tr><td>6</td><td>3</td><td>117</td></tr>",
                            "<tr><td>13</td><td>3</td><td>118</td></tr>",
                            "<tr><td>13</td><td>3</td><td>119</td></tr>",
                            "<tr><td>13</td><td>3</td><td>120</td></tr>",
                            "<tr><td>13</td><td>3</td><td>121</td></tr>",
                            "<tr><td>14</td><td>3</td><td>122</td></tr>",
                            "<tr><td>14</td><td>3</td><td>123</td></tr>",
                            "<tr><td>14</td><td>3</td><td>124</td></tr>",
                            "<tr><td>16</td><td>3</td><td>125</td></tr>",
                            "<tr><td>16</td><td>3</td><td>126</td></tr>",
                            "<tr><td>16</td><td>3</td><td>127</td></tr>",
                            "<tr><td>16</td><td>3</td><td>128</td></tr>",
                            "<tr><td>16</td><td>3</td><td>129</td></tr>",
                            "<tr><td>17</td><td>3</td><td>130</td></tr>",
                            "<tr><td>17</td><td>3</td><td>131</td></tr>",
                            "<tr><td>17</td><td>3</td><td>132</td></tr>",
                            "<tr><td>17</td><td>3</td><td>133</td></tr>",
                            "<tr><td>17</td><td>3</td><td>134</td></tr>",
                            "<tr><td>17</td><td>3</td><td>135</td></tr>",
                            "<tr><td>18</td><td>3</td><td>136</td></tr>",
                            "<tr><td>18</td><td>3</td><td>137</td></tr>",
                            "<tr><td>18</td><td>3</td><td>138</td></tr>",
                            "<tr><td>18</td><td>3</td><td>139</td></tr>",
                            "<tr><td>18</td><td>3</td><td>140</td></tr>",
                            "<tr><td>18</td><td>3</td><td>141</td></tr>",
                            "<tr><td>20</td><td>3</td><td>142</td></tr>",
                            "<tr><td>20</td><td>3</td><td>143</td></tr>",
                            "<tr><td>20</td><td>3</td><td>144</td></tr>",
                            "<tr><td>20</td><td>3</td><td>145</td></tr>",
                            "<tr><td>20</td><td>3</td><td>146</td></tr>",
                            "<tr><td>22</td><td>3</td><td>147</td></tr>",
                            "<tr><td>22</td><td>3</td><td>148</td></tr>",
                            "<tr><td>22</td><td>3</td><td>149</td></tr>",
                            "<tr><td>22</td><td>3</td><td>150</td></tr>",
                            "<tr><td>22</td><td>3</td><td>151</td></tr>",
                            "<tr><td>22</td><td>3</td><td>152</td></tr>",
                            "<tr><td>27</td><td>3</td><td>153</td></tr>",
                            "<tr><td>27</td><td>3</td><td>154</td></tr>",
                            "<tr><td>27</td><td>3</td><td>155</td></tr>",
                            "<tr><td>27</td><td>3</td><td>156</td></tr>",
                            "<tr><td>27</td><td>3</td><td>157</td></tr>",
                            "<tr><td>27</td><td>3</td><td>158</td></tr>",
                            "<tr><td>27</td><td>3</td><td>159</td></tr>",
                            "<tr><td>34</td><td>3</td><td>160</td></tr>",
                            "<tr><td>34</td><td>3</td><td>161</td></tr>",
                            "<tr><td>34</td><td>3</td><td>162</td></tr>",
                            "<tr><td>34</td><td>3</td><td>163</td></tr>",
                            "<tr><td>35</td><td>3</td><td>164</td></tr>",
                            "<tr><td>35</td><td>3</td><td>165</td></tr>",
                            "<tr><td>35</td><td>3</td><td>166</td></tr>",
                            "<tr><td>35</td><td>3</td><td>167</td></tr>",
                            "<tr><td>35</td><td>3</td><td>168</td></tr>",
                            "<tr><td>35</td><td>3</td><td>169</td></tr>",
                            "<tr><td>35</td><td>3</td><td>170</td></tr>",
                            "<tr><td>35</td><td>3</td><td>171</td></tr>",
                            "<tr><td>35</td><td>3</td><td>172</td></tr>",
                            "<tr><td>36</td><td>3</td><td>173</td></tr>",
                            "<tr><td>36</td><td>3</td><td>174</td></tr>",
                            "<tr><td>36</td><td>3</td><td>175</td></tr>",
                            "<tr><td>36</td><td>3</td><td>176</td></tr>",
                            "<tr><td>36</td><td>3</td><td>177</td></tr>",
                            "<tr><td>36</td><td>3</td><td>178</td></tr>",
                            "<tr><td>71</td><td>3</td><td>179</td></tr>",
                            "<tr><td>71</td><td>3</td><td>180</td></tr>",
                            "<tr><td>71</td><td>3</td><td>181</td></tr>",
                            "<tr><td>74</td><td>3</td><td>182</td></tr>",
                            "<tr><td>74</td><td>3</td><td>183</td></tr>",
                            "<tr><td>74</td><td>3</td><td>184</td></tr>",
                            "<tr><td>74</td><td>3</td><td>185</td></tr>",
                            "<tr><td>74</td><td>3</td><td>186</td></tr>",
                            "<tr><td>74</td><td>3</td><td>187</td></tr>",
                            "<tr><td>74</td><td>3</td><td>188</td></tr>",
                            "<tr><td>74</td><td>3</td><td>189</td></tr>",
                            "<tr><td>74</td><td>3</td><td>190</td></tr>",
                            "<tr><td>79</td><td>3</td><td>191</td></tr>",
                            "<tr><td>79</td><td>3</td><td>192</td></tr>",
                            "<tr><td>79</td><td>3</td><td>193</td></tr>",
                            "<tr><td>79</td><td>3</td><td>194</td></tr>",
                            "<tr><td>79</td><td>3</td><td>195</td></tr>",
                            "<tr><td>82</td><td>3</td><td>196</td></tr>",
                            "<tr><td>82</td><td>3</td><td>197</td></tr>",
                            "<tr><td>82</td><td>3</td><td>198</td></tr>",
                            "<tr><td>82</td><td>3</td><td>199</td></tr>",
                            "<tr><td>82</td><td>3</td><td>200</td></tr>",
                            "<tr><td>82</td><td>3</td><td>201</td></tr>",
                            "<tr><td>83</td><td>3</td><td>202</td></tr>",
                            "<tr><td>83</td><td>3</td><td>203</td></tr>",
                            "<tr><td>83</td><td>3</td><td>204</td></tr>",
                            "<tr><td>83</td><td>3</td><td>205</td></tr>",
                            "<tr><td>83</td><td>3</td><td>206</td></tr>",
                            "<tr><td>83</td><td>3</td><td>207</td></tr>",
                            "<tr><td>83</td><td>3</td><td>208</td></tr>",
                            "<tr><td>83</td><td>3</td><td>209</td></tr>",
                            "<tr><td>84</td><td>3</td><td>210</td></tr>",
                            "<tr><td>84</td><td>3</td><td>211</td></tr>",
                            "<tr><td>84</td><td>3</td><td>212</td></tr>",
                            "<tr><td>84</td><td>3</td><td>213</td></tr>",
                            "<tr><td>87</td><td>3</td><td>214</td></tr>",
                            "<tr><td>87</td><td>3</td><td>215</td></tr>",
                            "<tr><td>87</td><td>3</td><td>216</td></tr>",
                            "<tr><td>87</td><td>3</td><td>217</td></tr>",
                            "<tr><td>87</td><td>3</td><td>218</td></tr>",
                            "<tr><td>88</td><td>3</td><td>219</td></tr>",
                            "<tr><td>88</td><td>3</td><td>220</td></tr>",
                            "<tr><td>88</td><td>3</td><td>221</td></tr>",
                            "<tr><td>88</td><td>3</td><td>222</td></tr>",
                            "<tr><td>88</td><td>3</td><td>223</td></tr>",
                            "<tr><td>88</td><td>3</td><td>224</td></tr>",
                            "<tr><td>88</td><td>3</td><td>225</td></tr>",
                            "<tr><td>88</td><td>3</td><td>226</td></tr>",
                            "<tr><td>89</td><td>3</td><td>227</td></tr>",
                            "<tr><td>89</td><td>3</td><td>228</td></tr>",
                            "<tr><td>89</td><td>3</td><td>229</td></tr>",
                            "<tr><td>89</td><td>3</td><td>230</td></tr>",
                            "<tr><td>89</td><td>3</td><td>231</td></tr>",
                            "<tr><td>89</td><td>3</td><td>232</td></tr>",
                            "<tr><td>89</td><td>3</td><td>233</td></tr>",
                            "<tr><td>89</td><td>3</td><td>234</td></tr>",
                            "<tr><td>90</td><td>3</td><td>235</td></tr>",
                            "<tr><td>90</td><td>3</td><td>236</td></tr>",
                            "<tr><td>90</td><td>3</td><td>237</td></tr>",
                            "<tr><td>90</td><td>3</td><td>238</td></tr>",
                            "<tr><td>95</td><td>3</td><td>239</td></tr>",
                            "<tr><td>95</td><td>3</td><td>240</td></tr>",
                            "<tr><td>95</td><td>3</td><td>241</td></tr>",
                            "<tr><td>95</td><td>3</td><td>242</td></tr>",
                            "<tr><td>96</td><td>3</td><td>243</td></tr>",
                            "<tr><td>96</td><td>3</td><td>244</td></tr>",
                            "<tr><td>96</td><td>3</td><td>245</td></tr>",
                            "<tr><td>96</td><td>3</td><td>246</td></tr>",
                            "<tr><td>96</td><td>3</td><td>247</td></tr>",
                            "<tr><td>96</td><td>3</td><td>248</td></tr>",
                            "<tr><td>96</td><td>3</td><td>249</td></tr>",
                            "<tr><td>97</td><td>3</td><td>250</td></tr>",
                            "<tr><td>97</td><td>3</td><td>251</td></tr>",
                            "<tr><td>97</td><td>3</td><td>252</td></tr>",
                            "<tr><td>97</td><td>3</td><td>253</td></tr>",
                            "<tr><td>97</td><td>3</td><td>254</td></tr>",
                            "<tr><td>97</td><td>3</td><td>255</td></tr>",
                            "<tr><td>97</td><td>3</td><td>256</td></tr>",
                            "<tr><td>104</td><td>3</td><td>257</td></tr>",
                            "<tr><td>104</td><td>3</td><td>258</td></tr>",
                            "<tr><td>104</td><td>3</td><td>259</td></tr>",
                            "<tr><td>104</td><td>3</td><td>260</td></tr>",
                            "<tr><td>92</td><td>3</td><td>261</td></tr>",
                            "<tr><td>92</td><td>3</td><td>262</td></tr>",
                            "<tr><td>92</td><td>3</td><td>263</td></tr>",
                            "<tr><td>92</td><td>3</td><td>264</td></tr>",
                            "<tr><td>92</td><td>3</td><td>265</td></tr>",
                            "<tr><td>92</td><td>3</td><td>266</td></tr>",
                            "<tr><td>93</td><td>3</td><td>267</td></tr>",
                            "<tr><td>93</td><td>3</td><td>268</td></tr>",
                            "<tr><td>93</td><td>3</td><td>269</td></tr>",
                            "<tr><td>93</td><td>3</td><td>270</td></tr>",
                            "<tr><td>93</td><td>3</td><td>271</td></tr>",
                            "<tr><td>77</td><td>3</td><td>272</td></tr>",
                            "<tr><td>77</td><td>3</td><td>273</td></tr>",
                            "<tr><td>77</td><td>3</td><td>274</td></tr>",
                            "<tr><td>77</td><td>3</td><td>275</td></tr>",
                            "<tr><td>77</td><td>3</td><td>276</td></tr>",
                            "<tr><td>77</td><td>3</td><td>277</td></tr>",
                            "<tr><td>112</td><td>3</td><td>278</td></tr>",
                            "<tr><td>112</td><td>3</td><td>279</td></tr>",
                            "<tr><td>112</td><td>3</td><td>280</td></tr>",
                            "<tr><td>112</td><td>3</td><td>281</td></tr>",
                            "<tr><td>112</td><td>3</td><td>282</td></tr>",
                            "<tr><td>113</td><td>3</td><td>283</td></tr>",
                            "<tr><td>113</td><td>3</td><td>284</td></tr>",
                            "<tr><td>113</td><td>3</td><td>285</td></tr>",
                            "<tr><td>113</td><td>3</td><td>286</td></tr>",
                            "<tr><td>113</td><td>3</td><td>287</td></tr>",
                            "<tr><td>122</td><td>3</td><td>288</td></tr>",
                            "<tr><td>122</td><td>3</td><td>289</td></tr>",
                            "<tr><td>122</td><td>3</td><td>290</td></tr>",
                            "<tr><td>122</td><td>3</td><td>291</td></tr>",
                            "<tr><td>122</td><td>3</td><td>292</td></tr>",
                            "<tr><td>122</td><td>3</td><td>293</td></tr>",
                            "<tr><td>122</td><td>3</td><td>294</td></tr>",
                            "<tr><td>122</td><td>3</td><td>295</td></tr>",
                            "<tr><td>122</td><td>3</td><td>296</td></tr>",
                            "<tr><td>123</td><td>3</td><td>297</td></tr>",
                            "<tr><td>123</td><td>3</td><td>298</td></tr>",
                            "<tr><td>123</td><td>3</td><td>299</td></tr>",
                            "<tr><td>123</td><td>3</td><td>300</td></tr>",
                            "<tr><td>123</td><td>3</td><td>301</td></tr>",
                            "<tr><td>124</td><td>3</td><td>302</td></tr>",
                            "<tr><td>124</td><td>3</td><td>303</td></tr>",
                            "<tr><td>124</td><td>3</td><td>304</td></tr>",
                            "<tr><td>124</td><td>3</td><td>305</td></tr>",
                            "<tr><td>124</td><td>3</td><td>306</td></tr>",
                            "<tr><td>124</td><td>3</td><td>307</td></tr>",
                            "<tr><td>115</td><td>3</td><td>308</td></tr>",
                            "<tr><td>115</td><td>3</td><td>309</td></tr>",
                            "<tr><td>115</td><td>3</td><td>310</td></tr>",
                            "<tr><td>115</td><td>3</td><td>311</td></tr>",
                            "<tr><td>115</td><td>3</td><td>312</td></tr>",
                            "<tr><td>115</td><td>3</td><td>313</td></tr>",
                            "<tr><td>115</td><td>3</td><td>314</td></tr>",
                            "<tr><td>116</td><td>3</td><td>315</td></tr>",
                            "<tr><td>116</td><td>3</td><td>316</td></tr>",
                            "<tr><td>117</td><td>3</td><td>317</td></tr>",
                            "<tr><td>117</td><td>3</td><td>318</td></tr>",
                            "<tr><td>117</td><td>3</td><td>319</td></tr>",
                            "<tr><td>117</td><td>3</td><td>320</td></tr>",
                            "<tr><td>117</td><td>3</td><td>321</td></tr>",
                            "<tr><td>117</td><td>3</td><td>322</td></tr>",
                            "<tr><td>117</td><td>3</td><td>323</td></tr>",
                            "<tr><td>117</td><td>3</td><td>324</td></tr>",
                            "<tr><td>132</td><td>3</td><td>325</td></tr>",
                            "<tr><td>132</td><td>3</td><td>326</td></tr>",
                            "<tr><td>132</td><td>3</td><td>327</td></tr>",
                            "<tr><td>132</td><td>3</td><td>328</td></tr>",
                            "<tr><td>132</td><td>3</td><td>329</td></tr>",
                            "<tr><td>132</td><td>3</td><td>330</td></tr>",
                            "<tr><td>133</td><td>3</td><td>331</td></tr>",
                            "<tr><td>133</td><td>3</td><td>332</td></tr>",
                            "<tr><td>133</td><td>3</td><td>333</td></tr>",
                            "<tr><td>133</td><td>3</td><td>334</td></tr>",
                            "<tr><td>133</td><td>3</td><td>335</td></tr>",
                            "<tr><td>133</td><td>3</td><td>336</td></tr>",
                            "<tr><td>134</td><td>3</td><td>337</td></tr>",
                            "<tr><td>134</td><td>3</td><td>338</td></tr>",
                            "<tr><td>134</td><td>3</td><td>339</td></tr>",
                            "<tr><td>134</td><td>3</td><td>340</td></tr>",
                            "<tr><td>134</td><td>3</td><td>341</td></tr>",
                            "<tr><td>134</td><td>3</td><td>342</td></tr>",
                            "<tr><td>135</td><td>3</td><td>343</td></tr>",
                            "<tr><td>135</td><td>3</td><td>344</td></tr>",
                            "<tr><td>135</td><td>3</td><td>345</td></tr>",
                            "<tr><td>138</td><td>3</td><td>346</td></tr>",
                            "<tr><td>138</td><td>3</td><td>347</td></tr>",
                            "<tr><td>138</td><td>3</td><td>348</td></tr>",
                            "<tr><td>138</td><td>3</td><td>349</td></tr>",
                            "<tr><td>138</td><td>3</td><td>350</td></tr>",
                            "<tr><td>138</td><td>3</td><td>351</td></tr>",
                            "<tr><td>138</td><td>3</td><td>352</td></tr>",
                            "<tr><td>142</td><td>3</td><td>353</td></tr>",
                            "<tr><td>142</td><td>3</td><td>354</td></tr>",
                            "<tr><td>143</td><td>3</td><td>355</td></tr>",
                            "<tr><td>143</td><td>3</td><td>356</td></tr>",
                            "<tr><td>143</td><td>3</td><td>357</td></tr>",
                            "<tr><td>143</td><td>3</td><td>358</td></tr>",
                            "<tr><td>143</td><td>3</td><td>359</td></tr>",
                            "<tr><td>143</td><td>3</td><td>360</td></tr>",
                            "<tr><td>143</td><td>3</td><td>361</td></tr>",
                            "<tr><td>144</td><td>3</td><td>362</td></tr>",
                            "<tr><td>144</td><td>3</td><td>363</td></tr>",
                            "<tr><td>144</td><td>3</td><td>364</td></tr>",
                            "<tr><td>144</td><td>3</td><td>365</td></tr>",
                            "<tr><td>144</td><td>3</td><td>366</td></tr>",
                            "<tr><td>146</td><td>3</td><td>367</td></tr>",
                            "<tr><td>146</td><td>3</td><td>368</td></tr>",
                            "<tr><td>146</td><td>3</td><td>369</td></tr>",
                            "<tr><td>146</td><td>3</td><td>370</td></tr>",
                            "<tr><td>146</td><td>3</td><td>371</td></tr>",
                            "<tr><td>146</td><td>3</td><td>372</td></tr>",
                            "<tr><td>120</td><td>3</td><td>373</td></tr>",
                            "<tr><td>120</td><td>3</td><td>374</td></tr>",
                            "<tr><td>120</td><td>3</td><td>375</td></tr>",
                            "<tr><td>120</td><td>3</td><td>376</td></tr>",
                            "<tr><td>120</td><td>3</td><td>377</td></tr>",
                            "<tr><td>120</td><td>3</td><td>378</td></tr>",
                            "<tr><td>153</td><td>3</td><td>379</td></tr>",
                            "<tr><td>153</td><td>3</td><td>380</td></tr>",
                            "<tr><td>153</td><td>3</td><td>381</td></tr>",
                            "<tr><td>153</td><td>3</td><td>382</td></tr>",
                            "<tr><td>153</td><td>3</td><td>383</td></tr>",
                            "<tr><td>155</td><td>3</td><td>384</td></tr>",
                            "<tr><td>155</td><td>3</td><td>385</td></tr>",
                            "<tr><td>155</td><td>3</td><td>386</td></tr>",
                            "<tr><td>155</td><td>3</td><td>387</td></tr>",
                            "<tr><td>155</td><td>3</td><td>388</td></tr>",
                            "<tr><td>167</td><td>3</td><td>389</td></tr>",
                            "<tr><td>167</td><td>3</td><td>390</td></tr>",
                            "<tr><td>162</td><td>3</td><td>391</td></tr>",
                            "<tr><td>162</td><td>3</td><td>392</td></tr>",
                            "<tr><td>162</td><td>3</td><td>393</td></tr>",
                            "<tr><td>176</td><td>3</td><td>394</td></tr>",
                            "<tr><td>176</td><td>3</td><td>395</td></tr>",
                            "<tr><td>176</td><td>3</td><td>396</td></tr>",
                            "<tr><td>176</td><td>3</td><td>397</td></tr>",
                            "<tr><td>176</td><td>3</td><td>398</td></tr>",
                            "<tr><td>176</td><td>3</td><td>399</td></tr>",
                            "<tr><td>177</td><td>3</td><td>400</td></tr>",
                            "<tr><td>177</td><td>3</td><td>401</td></tr>",
                            "<tr><td>177</td><td>3</td><td>402</td></tr>",
                            "<tr><td>177</td><td>3</td><td>403</td></tr>",
                            "<tr><td>178</td><td>3</td><td>404</td></tr>",
                            "<tr><td>178</td><td>3</td><td>405</td></tr>",
                            "<tr><td>178</td><td>3</td><td>406</td></tr>",
                            "<tr><td>178</td><td>3</td><td>407</td></tr>",
                            "<tr><td>179</td><td>3</td><td>408</td></tr>",
                            "<tr><td>179</td><td>3</td><td>409</td></tr>",
                            "<tr><td>179</td><td>3</td><td>410</td></tr>",
                            "<tr><td>181</td><td>3</td><td>411</td></tr>",
                            "<tr><td>181</td><td>3</td><td>412</td></tr>",
                            "<tr><td>181</td><td>3</td><td>413</td></tr>",
                            "<tr><td>181</td><td>3</td><td>414</td></tr>",
                            "<tr><td>181</td><td>3</td><td>415</td></tr>",
                            "<tr><td>181</td><td>3</td><td>416</td></tr>",
                            "<tr><td>160</td><td>3</td><td>417</td></tr>",
                            "<tr><td>160</td><td>3</td><td>418</td></tr>",
                            "<tr><td>160</td><td>3</td><td>419</td></tr>",
                            "<tr><td>160</td><td>3</td><td>420</td></tr>",
                            "<tr><td>160</td><td>3</td><td>421</td></tr>",
                            "<tr><td>183</td><td>3</td><td>422</td></tr>",
                            "<tr><td>183</td><td>3</td><td>423</td></tr>",
                            "<tr><td>183</td><td>3</td><td>424</td></tr>",
                            "<tr><td>183</td><td>3</td><td>425</td></tr>",
                            "<tr><td>185</td><td>3</td><td>426</td></tr>",
                            "<tr><td>185</td><td>3</td><td>427</td></tr>",
                            "<tr><td>185</td><td>3</td><td>428</td></tr>",
                            "<tr><td>185</td><td>3</td><td>429</td></tr>",
                            "<tr><td>185</td><td>3</td><td>430</td></tr>",
                            "<tr><td>185</td><td>3</td><td>431</td></tr>",
                            "<tr><td>185</td><td>3</td><td>432</td></tr>",
                            "<tr><td>185</td><td>3</td><td>433</td></tr>",
                            "<tr><td>185</td><td>3</td><td>434</td></tr>",
                            "<tr><td>185</td><td>3</td><td>435</td></tr>",
                            "<tr><td>185</td><td>3</td><td>436</td></tr>",
                            "<tr><td>185</td><td>3</td><td>437</td></tr>",
                            "<tr><td>187</td><td>3</td><td>438</td></tr>",
                            "<tr><td>187</td><td>3</td><td>439</td></tr>",
                            "<tr><td>187</td><td>3</td><td>440</td></tr>",
                            "<tr><td>187</td><td>3</td><td>441</td></tr>",
                            "<tr><td>187</td><td>3</td><td>442</td></tr>",
                            "<tr><td>187</td><td>3</td><td>443</td></tr>",
                            "<tr><td>187</td><td>3</td><td>444</td></tr>",
                            "<tr><td>188</td><td>3</td><td>445</td></tr>",
                            "<tr><td>188</td><td>3</td><td>446</td></tr>",
                            "<tr><td>188</td><td>3</td><td>447</td></tr>",
                            "<tr><td>188</td><td>3</td><td>448</td></tr>",
                            "<tr><td>188</td><td>3</td><td>449</td></tr>",
                            "<tr><td>188</td><td>3</td><td>450</td></tr>",
                            "<tr><td>193</td><td>3</td><td>451</td></tr>",
                            "<tr><td>193</td><td>3</td><td>452</td></tr>",
                            "<tr><td>193</td><td>3</td><td>453</td></tr>",
                            "<tr><td>193</td><td>3</td><td>454</td></tr>",
                            "<tr><td>193</td><td>3</td><td>455</td></tr>",
                            "<tr><td>193</td><td>3</td><td>456</td></tr>",
                            "<tr><td>193</td><td>3</td><td>457</td></tr>",
                            "<tr><td>197</td><td>3</td><td>458</td></tr>",
                            "<tr><td>197</td><td>3</td><td>459</td></tr>",
                            "<tr><td>197</td><td>3</td><td>460</td></tr>",
                            "<tr><td>197</td><td>3</td><td>461</td></tr>",
                            "<tr><td>197</td><td>3</td><td>462</td></tr>",
                            "<tr><td>197</td><td>3</td><td>463</td></tr>",
                            "<tr><td>198</td><td>3</td><td>464</td></tr>",
                            "<tr><td>198</td><td>3</td><td>465</td></tr>",
                            "<tr><td>198</td><td>3</td><td>466</td></tr>",
                            "<tr><td>198</td><td>3</td><td>467</td></tr>",
                            "<tr><td>198</td><td>3</td><td>468</td></tr>",
                            "<tr><td>198</td><td>3</td><td>469</td></tr>",
                            "<tr><td>198</td><td>3</td><td>470</td></tr>",
                            "<tr><td>198</td><td>3</td><td>471</td></tr>",
                            "<tr><td>194</td><td>2</td><td>472</td></tr>",
                            "<tr><td>195</td><td>2</td><td>473</td></tr>",
                            "<tr><td>195</td><td>2</td><td>474</td></tr>",
                            "<tr><td>195</td><td>2</td><td>475</td></tr>",
                            "<tr><td>195</td><td>2</td><td>476</td></tr>",
                            "<tr><td>195</td><td>2</td><td>477</td></tr>",
                            "<tr><td>195</td><td>2</td><td>478</td></tr>",
                            "<tr><td>196</td><td>2</td><td>479</td></tr>",
                            "<tr><td>196</td><td>2</td><td>480</td></tr>",
                            "<tr><td>196</td><td>2</td><td>481</td></tr>",
                            "<tr><td>196</td><td>2</td><td>482</td></tr>",
                            "<tr><td>189</td><td>2</td><td>483</td></tr>",
                            "<tr><td>189</td><td>2</td><td>484</td></tr>",
                            "<tr><td>189</td><td>2</td><td>485</td></tr>",
                            "<tr><td>189</td><td>2</td><td>486</td></tr>",
                            "<tr><td>189</td><td>2</td><td>487</td></tr>",
                            "<tr><td>190</td><td>2</td><td>488</td></tr>",
                            "<tr><td>190</td><td>2</td><td>489</td></tr>",
                            "<tr><td>190</td><td>2</td><td>490</td></tr>",
                            "<tr><td>190</td><td>2</td><td>491</td></tr>",
                            "<tr><td>190</td><td>2</td><td>492</td></tr>",
                            "<tr><td>191</td><td>2</td><td>493</td></tr>",
                            "<tr><td>191</td><td>2</td><td>494</td></tr>",
                            "<tr><td>191</td><td>2</td><td>495</td></tr>",
                            "<tr><td>191</td><td>2</td><td>496</td></tr>",
                            "<tr><td>191</td><td>2</td><td>497</td></tr>",
                            "<tr><td>192</td><td>2</td><td>498</td></tr>",
                            "<tr><td>192</td><td>2</td><td>499</td></tr>",
                            "<tr><td>186</td><td>2</td><td>500</td></tr>",
                            "<tr><td>186</td><td>2</td><td>501</td></tr>",
                            "<tr><td>186</td><td>2</td><td>502</td></tr>",
                            "<tr><td>186</td><td>2</td><td>503</td></tr>",
                            "<tr><td>184</td><td>2</td><td>504</td></tr>",
                            "<tr><td>184</td><td>2</td><td>505</td></tr>",
                            "<tr><td>184</td><td>2</td><td>506</td></tr>",
                            "<tr><td>184</td><td>2</td><td>507</td></tr>",
                            "<tr><td>161</td><td>2</td><td>508</td></tr>",
                            "<tr><td>161</td><td>2</td><td>509</td></tr>",
                            "<tr><td>161</td><td>2</td><td>510</td></tr>",
                            "<tr><td>161</td><td>2</td><td>511</td></tr>",
                            "<tr><td>161</td><td>2</td><td>512</td></tr>",
                            "<tr><td>161</td><td>2</td><td>513</td></tr>",
                            "<tr><td>182</td><td>2</td><td>514</td></tr>",
                            "<tr><td>182</td><td>2</td><td>515</td></tr>",
                            "<tr><td>182</td><td>2</td><td>516</td></tr>",
                            "<tr><td>182</td><td>2</td><td>517</td></tr>",
                            "<tr><td>182</td><td>2</td><td>518</td></tr>",
                            "<tr><td>182</td><td>2</td><td>519</td></tr>",
                            "<tr><td>182</td><td>2</td><td>520</td></tr>",
                            "<tr><td>182</td><td>2</td><td>521</td></tr>",
                            "<tr><td>182</td><td>2</td><td>522</td></tr>",
                            "<tr><td>182</td><td>2</td><td>523</td></tr>",
                            "<tr><td>182</td><td>2</td><td>524</td></tr>",
                            "<tr><td>182</td><td>2</td><td>525</td></tr>",
                            "<tr><td>180</td><td>2</td><td>526</td></tr>",
                            "<tr><td>180</td><td>2</td><td>527</td></tr>",
                            "<tr><td>180</td><td>2</td><td>528</td></tr>",
                            "<tr><td>163</td><td>2</td><td>529</td></tr>",
                            "<tr><td>163</td><td>2</td><td>530</td></tr>",
                            "<tr><td>163</td><td>2</td><td>531</td></tr>",
                            "<tr><td>163</td><td>2</td><td>532</td></tr>",
                            "<tr><td>163</td><td>2</td><td>533</td></tr>",
                            "<tr><td>163</td><td>2</td><td>534</td></tr>",
                            "<tr><td>163</td><td>2</td><td>535</td></tr>",
                            "<tr><td>164</td><td>2</td><td>536</td></tr>",
                            "<tr><td>164</td><td>2</td><td>537</td></tr>",
                            "<tr><td>164</td><td>2</td><td>538</td></tr>",
                            "<tr><td>164</td><td>2</td><td>539</td></tr>",
                            "<tr><td>164</td><td>2</td><td>540</td></tr>",
                            "<tr><td>165</td><td>2</td><td>541</td></tr>",
                            "<tr><td>165</td><td>2</td><td>542</td></tr>",
                            "<tr><td>165</td><td>2</td><td>543</td></tr>",
                            "<tr><td>165</td><td>2</td><td>544</td></tr>",
                            "<tr><td>165</td><td>2</td><td>545</td></tr>",
                            "<tr><td>165</td><td>2</td><td>546</td></tr>",
                            "<tr><td>165</td><td>2</td><td>547</td></tr>",
                            "<tr><td>166</td><td>2</td><td>548</td></tr>",
                            "<tr><td>166</td><td>2</td><td>549</td></tr>",
                            "<tr><td>166</td><td>2</td><td>550</td></tr>",
                            "<tr><td>168</td><td>2</td><td>551</td></tr>",
                            "<tr><td>168</td><td>2</td><td>552</td></tr>",
                            "<tr><td>168</td><td>2</td><td>553</td></tr>",
                            "<tr><td>168</td><td>2</td><td>554</td></tr>",
                            "<tr><td>168</td><td>2</td><td>555</td></tr>",
                            "<tr><td>169</td><td>2</td><td>556</td></tr>",
                            "<tr><td>169</td><td>2</td><td>557</td></tr>",
                            "<tr><td>169</td><td>2</td><td>558</td></tr>",
                            "<tr><td>169</td><td>2</td><td>559</td></tr>",
                            "<tr><td>169</td><td>2</td><td>560</td></tr>",
                            "<tr><td>169</td><td>2</td><td>561</td></tr>",
                            "<tr><td>170</td><td>2</td><td>562</td></tr>",
                            "<tr><td>170</td><td>2</td><td>563</td></tr>",
                            "<tr><td>170</td><td>2</td><td>564</td></tr>",
                            "<tr><td>170</td><td>2</td><td>565</td></tr>",
                            "<tr><td>170</td><td>2</td><td>566</td></tr>",
                            "<tr><td>171</td><td>2</td><td>567</td></tr>",
                            "<tr><td>171</td><td>2</td><td>568</td></tr>",
                            "<tr><td>171</td><td>2</td><td>569</td></tr>",
                            "<tr><td>171</td><td>2</td><td>570</td></tr>",
                            "<tr><td>171</td><td>2</td><td>571</td></tr>",
                            "<tr><td>172</td><td>2</td><td>572</td></tr>",
                            "<tr><td>172</td><td>2</td><td>573</td></tr>",
                            "<tr><td>172</td><td>2</td><td>574</td></tr>",
                            "<tr><td>172</td><td>2</td><td>575</td></tr>",
                            "<tr><td>172</td><td>2</td><td>576</td></tr>",
                            "<tr><td>172</td><td>2</td><td>577</td></tr>",
                            "<tr><td>172</td><td>2</td><td>578</td></tr>",
                            "<tr><td>172</td><td>2</td><td>579</td></tr>",
                            "<tr><td>172</td><td>2</td><td>580</td></tr>",
                            "<tr><td>173</td><td>2</td><td>581</td></tr>",
                            "<tr><td>173</td><td>2</td><td>582</td></tr>",
                            "<tr><td>173</td><td>2</td><td>583</td></tr>",
                            "<tr><td>173</td><td>2</td><td>584</td></tr>",
                            "<tr><td>174</td><td>2</td><td>585</td></tr>",
                            "<tr><td>174</td><td>2</td><td>586</td></tr>",
                            "<tr><td>174</td><td>2</td><td>587</td></tr>",
                            "<tr><td>174</td><td>2</td><td>588</td></tr>",
                            "<tr><td>175</td><td>2</td><td>589</td></tr>",
                            "<tr><td>175</td><td>2</td><td>590</td></tr>",
                            "<tr><td>175</td><td>2</td><td>591</td></tr>",
                            "<tr><td>175</td><td>2</td><td>592</td></tr>",
                            "<tr><td>175</td><td>2</td><td>593</td></tr>",
                            "<tr><td>156</td><td>2</td><td>594</td></tr>",
                            "<tr><td>156</td><td>2</td><td>595</td></tr>",
                            "<tr><td>156</td><td>2</td><td>596</td></tr>",
                            "<tr><td>156</td><td>2</td><td>597</td></tr>",
                            "<tr><td>156</td><td>2</td><td>598</td></tr>",
                            "<tr><td>156</td><td>2</td><td>599</td></tr>",
                            "<tr><td>156</td><td>2</td><td>600</td></tr>",
                            "<tr><td>157</td><td>2</td><td>601</td></tr>",
                            "<tr><td>157</td><td>2</td><td>602</td></tr>",
                            "<tr><td>157</td><td>2</td><td>603</td></tr>",
                            "<tr><td>157</td><td>2</td><td>604</td></tr>",
                            "<tr><td>157</td><td>2</td><td>605</td></tr>",
                            "<tr><td>158</td><td>2</td><td>606</td></tr>",
                            "<tr><td>158</td><td>2</td><td>607</td></tr>",
                            "<tr><td>158</td><td>2</td><td>608</td></tr>",
                            "<tr><td>154</td><td>2</td><td>609</td></tr>",
                            "<tr><td>154</td><td>2</td><td>610</td></tr>",
                            "<tr><td>154</td><td>2</td><td>611</td></tr>",
                            "<tr><td>154</td><td>2</td><td>612</td></tr>",
                            "<tr><td>154</td><td>2</td><td>613</td></tr>",
                            "<tr><td>121</td><td>2</td><td>614</td></tr>",
                            "<tr><td>121</td><td>2</td><td>615</td></tr>",
                            "<tr><td>121</td><td>2</td><td>616</td></tr>",
                            "<tr><td>121</td><td>2</td><td>617</td></tr>",
                            "<tr><td>121</td><td>2</td><td>618</td></tr>",
                            "<tr><td>121</td><td>2</td><td>619</td></tr>",
                            "<tr><td>121</td><td>2</td><td>620</td></tr>",
                            "<tr><td>121</td><td>2</td><td>621</td></tr>",
                            "<tr><td>147</td><td>2</td><td>622</td></tr>",
                            "<tr><td>148</td><td>2</td><td>623</td></tr>",
                            "<tr><td>148</td><td>2</td><td>624</td></tr>",
                            "<tr><td>148</td><td>2</td><td>625</td></tr>",
                            "<tr><td>148</td><td>2</td><td>626</td></tr>",
                            "<tr><td>148</td><td>2</td><td>627</td></tr>",
                            "<tr><td>148</td><td>2</td><td>628</td></tr>",
                            "<tr><td>149</td><td>2</td><td>629</td></tr>",
                            "<tr><td>149</td><td>2</td><td>630</td></tr>",
                            "<tr><td>149</td><td>2</td><td>631</td></tr>",
                            "<tr><td>149</td><td>2</td><td>632</td></tr>",
                            "<tr><td>149</td><td>2</td><td>633</td></tr>",
                            "<tr><td>149</td><td>2</td><td>634</td></tr>",
                            "<tr><td>149</td><td>2</td><td>635</td></tr>",
                            "<tr><td>150</td><td>2</td><td>636</td></tr>",
                            "<tr><td>150</td><td>2</td><td>637</td></tr>",
                            "<tr><td>150</td><td>2</td><td>638</td></tr>",
                            "<tr><td>150</td><td>2</td><td>639</td></tr>",
                            "<tr><td>150</td><td>2</td><td>640</td></tr>",
                            "<tr><td>150</td><td>2</td><td>641</td></tr>",
                            "<tr><td>151</td><td>2</td><td>642</td></tr>",
                            "<tr><td>151</td><td>2</td><td>643</td></tr>",
                            "<tr><td>151</td><td>2</td><td>644</td></tr>",
                            "<tr><td>152</td><td>2</td><td>645</td></tr>",
                            "<tr><td>152</td><td>2</td><td>646</td></tr>",
                            "<tr><td>152</td><td>2</td><td>647</td></tr>",
                            "<tr><td>152</td><td>2</td><td>648</td></tr>",
                            "<tr><td>145</td><td>2</td><td>649</td></tr>",
                            "<tr><td>145</td><td>2</td><td>650</td></tr>",
                            "<tr><td>145</td><td>2</td><td>651</td></tr>",
                            "<tr><td>145</td><td>2</td><td>652</td></tr>",
                            "<tr><td>145</td><td>2</td><td>653</td></tr>",
                            "<tr><td>145</td><td>2</td><td>654</td></tr>",
                            "<tr><td>139</td><td>2</td><td>655</td></tr>",
                            "<tr><td>139</td><td>2</td><td>656</td></tr>",
                            "<tr><td>139</td><td>2</td><td>657</td></tr>",
                            "<tr><td>139</td><td>2</td><td>658</td></tr>",
                            "<tr><td>139</td><td>2</td><td>659</td></tr>",
                            "<tr><td>139</td><td>2</td><td>660</td></tr>",
                            "<tr><td>139</td><td>2</td><td>661</td></tr>",
                            "<tr><td>140</td><td>2</td><td>662</td></tr>",
                            "<tr><td>140</td><td>2</td><td>663</td></tr>",
                            "<tr><td>140</td><td>2</td><td>664</td></tr>",
                            "<tr><td>140</td><td>2</td><td>665</td></tr>",
                            "<tr><td>140</td><td>2</td><td>666</td></tr>",
                            "<tr><td>140</td><td>2</td><td>667</td></tr>",
                            "<tr><td>140</td><td>2</td><td>668</td></tr>",
                            "<tr><td>140</td><td>2</td><td>669</td></tr>",
                            "<tr><td>141</td><td>2</td><td>670</td></tr>",
                            "<tr><td>141</td><td>2</td><td>671</td></tr>",
                            "<tr><td>141</td><td>2</td><td>672</td></tr>",
                            "<tr><td>141</td><td>2</td><td>673</td></tr>",
                            "<tr><td>141</td><td>2</td><td>674</td></tr>",
                            "<tr><td>141</td><td>2</td><td>675</td></tr>",
                            "<tr><td>136</td><td>2</td><td>676</td></tr>",
                            "<tr><td>136</td><td>2</td><td>677</td></tr>",
                            "<tr><td>136</td><td>2</td><td>678</td></tr>",
                            "<tr><td>137</td><td>2</td><td>679</td></tr>",
                            "<tr><td>137</td><td>2</td><td>680</td></tr>",
                            "<tr><td>137</td><td>2</td><td>681</td></tr>",
                            "<tr><td>137</td><td>2</td><td>682</td></tr>",
                            "<tr><td>137</td><td>2</td><td>683</td></tr>",
                            "<tr><td>137</td><td>2</td><td>684</td></tr>",
                            "<tr><td>118</td><td>2</td><td>685</td></tr>",
                            "<tr><td>118</td><td>2</td><td>686</td></tr>",
                            "<tr><td>118</td><td>2</td><td>687</td></tr>",
                            "<tr><td>118</td><td>2</td><td>688</td></tr>",
                            "<tr><td>118</td><td>2</td><td>689</td></tr>",
                            "<tr><td>118</td><td>2</td><td>690</td></tr>",
                            "<tr><td>118</td><td>2</td><td>691</td></tr>",
                            "<tr><td>119</td><td>2</td><td>692</td></tr>",
                            "<tr><td>119</td><td>2</td><td>693</td></tr>",
                            "<tr><td>119</td><td>2</td><td>694</td></tr>",
                            "<tr><td>119</td><td>2</td><td>695</td></tr>",
                            "<tr><td>119</td><td>2</td><td>696</td></tr>",
                            "<tr><td>125</td><td>2</td><td>697</td></tr>",
                            "<tr><td>126</td><td>2</td><td>698</td></tr>",
                            "<tr><td>126</td><td>2</td><td>699</td></tr>",
                            "<tr><td>126</td><td>2</td><td>700</td></tr>",
                            "<tr><td>126</td><td>2</td><td>701</td></tr>",
                            "<tr><td>126</td><td>2</td><td>702</td></tr>",
                            "<tr><td>126</td><td>2</td><td>703</td></tr>",
                            "<tr><td>127</td><td>2</td><td>704</td></tr>",
                            "<tr><td>127</td><td>2</td><td>705</td></tr>",
                            "<tr><td>127</td><td>2</td><td>706</td></tr>",
                            "<tr><td>127</td><td>2</td><td>707</td></tr>",
                            "<tr><td>127</td><td>2</td><td>708</td></tr>",
                            "<tr><td>127</td><td>2</td><td>709</td></tr>",
                            "<tr><td>127</td><td>2</td><td>710</td></tr>",
                            "<tr><td>128</td><td>2</td><td>711</td></tr>",
                            "<tr><td>128</td><td>2</td><td>712</td></tr>",
                            "<tr><td>128</td><td>2</td><td>713</td></tr>",
                            "<tr><td>128</td><td>2</td><td>714</td></tr>",
                            "<tr><td>128</td><td>2</td><td>715</td></tr>",
                            "<tr><td>129</td><td>2</td><td>716</td></tr>",
                            "<tr><td>129</td><td>2</td><td>717</td></tr>",
                            "<tr><td>129</td><td>2</td><td>718</td></tr>",
                            "<tr><td>129</td><td>2</td><td>719</td></tr>",
                            "<tr><td>130</td><td>2</td><td>720</td></tr>",
                            "<tr><td>130</td><td>2</td><td>721</td></tr>",
                            "<tr><td>130</td><td>2</td><td>722</td></tr>",
                            "<tr><td>130</td><td>2</td><td>723</td></tr>",
                            "<tr><td>130</td><td>2</td><td>724</td></tr>",
                            "<tr><td>130</td><td>2</td><td>725</td></tr>",
                            "<tr><td>131</td><td>2</td><td>726</td></tr>",
                            "<tr><td>131</td><td>2</td><td>727</td></tr>",
                            "<tr><td>131</td><td>2</td><td>728</td></tr>",
                            "<tr><td>131</td><td>2</td><td>729</td></tr>",
                            "<tr><td>131</td><td>2</td><td>730</td></tr>",
                            "<tr><td>114</td><td>2</td><td>731</td></tr>",
                            "<tr><td>114</td><td>2</td><td>732</td></tr>",
                            "<tr><td>114</td><td>2</td><td>733</td></tr>",
                            "<tr><td>114</td><td>2</td><td>734</td></tr>",
                            "<tr><td>78</td><td>2</td><td>735</td></tr>",
                            "<tr><td>78</td><td>2</td><td>736</td></tr>",
                            "<tr><td>78</td><td>2</td><td>737</td></tr>",
                            "<tr><td>78</td><td>2</td><td>738</td></tr>",
                            "<tr><td>78</td><td>2</td><td>739</td></tr>",
                            "<tr><td>78</td><td>2</td><td>740</td></tr>",
                            "<tr><td>94</td><td>2</td><td>741</td></tr>",
                            "<tr><td>94</td><td>2</td><td>742</td></tr>",
                            "<tr><td>94</td><td>2</td><td>743</td></tr>",
                            "<tr><td>94</td><td>2</td><td>744</td></tr>",
                            "<tr><td>94</td><td>2</td><td>745</td></tr>",
                            "<tr><td>94</td><td>2</td><td>746</td></tr>",
                            "<tr><td>94</td><td>2</td><td>747</td></tr>",
                            "<tr><td>94</td><td>2</td><td>748</td></tr>",
                            "<tr><td>94</td><td>2</td><td>749</td></tr>",
                            "<tr><td>94</td><td>2</td><td>750</td></tr>",
                            "<tr><td>105</td><td>2</td><td>751</td></tr>",
                            "<tr><td>105</td><td>2</td><td>752</td></tr>",
                            "<tr><td>106</td><td>2</td><td>753</td></tr>",
                            "<tr><td>106</td><td>2</td><td>754</td></tr>",
                            "<tr><td>106</td><td>2</td><td>755</td></tr>",
                            "<tr><td>106</td><td>2</td><td>756</td></tr>",
                            "<tr><td>106</td><td>2</td><td>757</td></tr>",
                            "<tr><td>106</td><td>2</td><td>758</td></tr>",
                            "<tr><td>107</td><td>2</td><td>759</td></tr>",
                            "<tr><td>107</td><td>2</td><td>760</td></tr>",
                            "<tr><td>107</td><td>2</td><td>761</td></tr>",
                            "<tr><td>107</td><td>2</td><td>762</td></tr>",
                            "<tr><td>107</td><td>2</td><td>763</td></tr>",
                            "<tr><td>108</td><td>2</td><td>764</td></tr>",
                            "<tr><td>108</td><td>2</td><td>765</td></tr>",
                            "<tr><td>109</td><td>2</td><td>766</td></tr>",
                            "<tr><td>109</td><td>2</td><td>767</td></tr>",
                            "<tr><td>109</td><td>2</td><td>768</td></tr>",
                            "<tr><td>109</td><td>2</td><td>769</td></tr>",
                            "<tr><td>109</td><td>2</td><td>770</td></tr>",
                            "<tr><td>109</td><td>2</td><td>771</td></tr>",
                            "<tr><td>109</td><td>2</td><td>772</td></tr>",
                            "<tr><td>110</td><td>2</td><td>773</td></tr>",
                            "<tr><td>110</td><td>2</td><td>774</td></tr>",
                            "<tr><td>110</td><td>2</td><td>775</td></tr>",
                            "<tr><td>110</td><td>2</td><td>776</td></tr>",
                            "<tr><td>110</td><td>2</td><td>777</td></tr>",
                            "<tr><td>110</td><td>2</td><td>778</td></tr>",
                            "<tr><td>110</td><td>2</td><td>779</td></tr>",
                            "<tr><td>110</td><td>2</td><td>780</td></tr>",
                            "<tr><td>111</td><td>2</td><td>781</td></tr>",
                            "<tr><td>111</td><td>2</td><td>782</td></tr>",
                            "<tr><td>111</td><td>2</td><td>783</td></tr>",
                            "<tr><td>111</td><td>2</td><td>784</td></tr>",
                            "<tr><td>111</td><td>2</td><td>785</td></tr>",
                            "<tr><td>98</td><td>2</td><td>786</td></tr>",
                            "<tr><td>98</td><td>2</td><td>787</td></tr>",
                            "<tr><td>98</td><td>2</td><td>788</td></tr>",
                            "<tr><td>98</td><td>2</td><td>789</td></tr>",
                            "<tr><td>99</td><td>2</td><td>790</td></tr>",
                            "<tr><td>99</td><td>2</td><td>791</td></tr>",
                            "<tr><td>99</td><td>2</td><td>792</td></tr>",
                            "<tr><td>99</td><td>2</td><td>793</td></tr>",
                            "<tr><td>99</td><td>2</td><td>794</td></tr>",
                            "<tr><td>100</td><td>2</td><td>795</td></tr>",
                            "<tr><td>100</td><td>2</td><td>796</td></tr>",
                            "<tr><td>100</td><td>2</td><td>797</td></tr>",
                            "<tr><td>100</td><td>2</td><td>798</td></tr>",
                            "<tr><td>101</td><td>2</td><td>799</td></tr>",
                            "<tr><td>101</td><td>2</td><td>800</td></tr>",
                            "<tr><td>101</td><td>2</td><td>801</td></tr>",
                            "<tr><td>102</td><td>2</td><td>802</td></tr>",
                            "<tr><td>102</td><td>2</td><td>803</td></tr>",
                            "<tr><td>103</td><td>2</td><td>804</td></tr>",
                            "<tr><td>103</td><td>2</td><td>805</td></tr>",
                            "<tr><td>103</td><td>2</td><td>806</td></tr>",
                            "<tr><td>103</td><td>2</td><td>807</td></tr>",
                            "<tr><td>91</td><td>2</td><td>808</td></tr>",
                            "<tr><td>91</td><td>2</td><td>809</td></tr>",
                            "<tr><td>91</td><td>2</td><td>810</td></tr>",
                            "<tr><td>91</td><td>2</td><td>811</td></tr>",
                            "<tr><td>85</td><td>2</td><td>812</td></tr>",
                            "<tr><td>85</td><td>2</td><td>813</td></tr>",
                            "<tr><td>85</td><td>2</td><td>814</td></tr>",
                            "<tr><td>85</td><td>2</td><td>815</td></tr>",
                            "<tr><td>86</td><td>2</td><td>816</td></tr>",
                            "<tr><td>86</td><td>2</td><td>817</td></tr>",
                            "<tr><td>86</td><td>2</td><td>818</td></tr>",
                            "<tr><td>86</td><td>2</td><td>819</td></tr>",
                            "<tr><td>86</td><td>2</td><td>820</td></tr>",
                            "<tr><td>80</td><td>2</td><td>821</td></tr>",
                            "<tr><td>80</td><td>2</td><td>822</td></tr>",
                            "<tr><td>80</td><td>2</td><td>823</td></tr>",
                            "<tr><td>80</td><td>2</td><td>824</td></tr>",
                            "<tr><td>80</td><td>2</td><td>825</td></tr>",
                            "<tr><td>80</td><td>2</td><td>826</td></tr>",
                            "<tr><td>80</td><td>2</td><td>827</td></tr>",
                            "<tr><td>81</td><td>2</td><td>828</td></tr>",
                            "<tr><td>81</td><td>2</td><td>829</td></tr>",
                            "<tr><td>81</td><td>2</td><td>830</td></tr>",
                            "<tr><td>81</td><td>2</td><td>831</td></tr>",
                            "<tr><td>81</td><td>2</td><td>832</td></tr>",
                            "<tr><td>75</td><td>2</td><td>833</td></tr>",
                            "<tr><td>75</td><td>2</td><td>834</td></tr>",
                            "<tr><td>75</td><td>2</td><td>835</td></tr>",
                            "<tr><td>76</td><td>2</td><td>836</td></tr>",
                            "<tr><td>76</td><td>2</td><td>837</td></tr>",
                            "<tr><td>76</td><td>2</td><td>838</td></tr>",
                            "<tr><td>72</td><td>2</td><td>839</td></tr>",
                            "<tr><td>72</td><td>2</td><td>840</td></tr>",
                            "<tr><td>72</td><td>2</td><td>841</td></tr>",
                            "<tr><td>72</td><td>2</td><td>842</td></tr>",
                            "<tr><td>73</td><td>2</td><td>843</td></tr>",
                            "<tr><td>73</td><td>2</td><td>844</td></tr>",
                            "<tr><td>73</td><td>2</td><td>845</td></tr>",
                            "<tr><td>73</td><td>2</td><td>846</td></tr>",
                            "<tr><td>37</td><td>2</td><td>847</td></tr>",
                            "<tr><td>37</td><td>2</td><td>848</td></tr>",
                            "<tr><td>37</td><td>2</td><td>849</td></tr>",
                            "<tr><td>38</td><td>2</td><td>850</td></tr>",
                            "<tr><td>38</td><td>2</td><td>851</td></tr>",
                            "<tr><td>38</td><td>2</td><td>852</td></tr>",
                            "<tr><td>38</td><td>2</td><td>853</td></tr>",
                            "<tr><td>38</td><td>2</td><td>854</td></tr>",
                            "<tr><td>38</td><td>2</td><td>855</td></tr>",
                            "<tr><td>38</td><td>2</td><td>856</td></tr>",
                            "<tr><td>38</td><td>2</td><td>857</td></tr>",
                            "<tr><td>39</td><td>2</td><td>858</td></tr>",
                            "<tr><td>39</td><td>2</td><td>859</td></tr>",
                            "<tr><td>39</td><td>2</td><td>860</td></tr>",
                            "<tr><td>39</td><td>2</td><td>861</td></tr>",
                            "<tr><td>39</td><td>2</td><td>862</td></tr>",
                            "<tr><td>39</td><td>2</td><td>863</td></tr>",
                            "<tr><td>39</td><td>2</td><td>864</td></tr>",
                            "<tr><td>28</td><td>2</td><td>865</td></tr>",
                            "<tr><td>28</td><td>2</td><td>866</td></tr>",
                            "<tr><td>28</td><td>2</td><td>867</td></tr>",
                            "<tr><td>28</td><td>2</td><td>868</td></tr>",
                            "<tr><td>28</td><td>2</td><td>869</td></tr>",
                            "<tr><td>28</td><td>2</td><td>870</td></tr>",
                            "<tr><td>29</td><td>2</td><td>871</td></tr>",
                            "<tr><td>29</td><td>2</td><td>872</td></tr>",
                            "<tr><td>29</td><td>2</td><td>873</td></tr>",
                            "<tr><td>29</td><td>2</td><td>874</td></tr>",
                            "<tr><td>29</td><td>2</td><td>875</td></tr>",
                            "<tr><td>29</td><td>2</td><td>876</td></tr>",
                            "<tr><td>23</td><td>2</td><td>877</td></tr>",
                            "<tr><td>23</td><td>2</td><td>878</td></tr>",
                            "<tr><td>23</td><td>2</td><td>879</td></tr>",
                            "<tr><td>21</td><td>2</td><td>880</td></tr>",
                            "<tr><td>21</td><td>2</td><td>881</td></tr>",
                            "<tr><td>21</td><td>2</td><td>882</td></tr>",
                            "<tr><td>21</td><td>2</td><td>883</td></tr>",
                            "<tr><td>19</td><td>2</td><td>884</td></tr>",
                            "<tr><td>19</td><td>2</td><td>885</td></tr>",
                            "<tr><td>19</td><td>2</td><td>886</td></tr>",
                            "<tr><td>19</td><td>2</td><td>887</td></tr>",
                            "<tr><td>19</td><td>2</td><td>888</td></tr>",
                            "<tr><td>19</td><td>2</td><td>889</td></tr>",
                            "<tr><td>15</td><td>2</td><td>890</td></tr>",
                            "<tr><td>15</td><td>2</td><td>891</td></tr>",
                            "<tr><td>15</td><td>2</td><td>892</td></tr>",
                            "<tr><td>15</td><td>2</td><td>893</td></tr>",
                            "<tr><td>15</td><td>2</td><td>894</td></tr>",
                            "<tr><td>15</td><td>2</td><td>895</td></tr>",
                            "<tr><td>7</td><td>2</td><td>896</td></tr>",
                            "<tr><td>7</td><td>2</td><td>897</td></tr>",
                            "<tr><td>7</td><td>2</td><td>898</td></tr>",
                            "<tr><td>7</td><td>2</td><td>899</td></tr>",
                            "<tr><td>7</td><td>2</td><td>900</td></tr>",
                            "<tr><td>7</td><td>2</td><td>901</td></tr>",
                            "<tr><td>11</td><td>2</td><td>902</td></tr>",
                            "<tr><td>11</td><td>2</td><td>903</td></tr>",
                            "<tr><td>11</td><td>2</td><td>904</td></tr>",
                            "<tr><td>11</td><td>2</td><td>905</td></tr>",
                            "<tr><td>12</td><td>2</td><td>906</td></tr>",
                            "<tr><td>12</td><td>2</td><td>907</td></tr>",
                            "<tr><td>12</td><td>2</td><td>908</td></tr>",
                            "<tr><td>12</td><td>2</td><td>909</td></tr>",
                            "<tr><td>12</td><td>2</td><td>910</td></tr>",
                            "<tr><td>12</td><td>2</td><td>911</td></tr>",
                            "<tr><td>12</td><td>2</td><td>912</td></tr>",
                            "<tr><td>12</td><td>2</td><td>913</td></tr>",
                            "<tr><td>12</td><td>2</td><td>914</td></tr>",
                            "<tr><td>4</td><td>2</td><td>915</td></tr>",
                            "<tr><td>4</td><td>2</td><td>916</td></tr>",
                            "<tr><td>4</td><td>2</td><td>917</td></tr>",
                            "<tr><td>4</td><td>2</td><td>918</td></tr>",
                            "<tr><td>4</td><td>2</td><td>919</td></tr>",
                            "<tr><td>4</td><td>2</td><td>920</td></tr>",
                            "<tr><td>5</td><td>2</td><td>921</td></tr>",
                            "<tr><td>5</td><td>2</td><td>922</td></tr>",
                            "<tr><td>5</td><td>2</td><td>923</td></tr>",
                            "<tr><td>5</td><td>2</td><td>924</td></tr>",
                            "<tr><td>70</td><td>2</td><td>925</td></tr>",
                            "<tr><td>70</td><td>2</td><td>926</td></tr>",
                            "<tr><td>70</td><td>2</td><td>927</td></tr>",
                            "<tr><td>70</td><td>2</td><td>928</td></tr>",
                            "<tr><td>70</td><td>2</td><td>929</td></tr>",
                            "<tr><td>70</td><td>2</td><td>930</td></tr>",
                            "<tr><td>70</td><td>2</td><td>931</td></tr>",
                            "<tr><td>70</td><td>2</td><td>932</td></tr>",
                            "<tr><td>70</td><td>2</td><td>933</td></tr>",
                            "<tr><td>70</td><td>2</td><td>934</td></tr>",
                            "<tr><td>70</td><td>2</td><td>935</td></tr>",
                            "<tr><td>67</td><td>2</td><td>936</td></tr>",
                            "<tr><td>67</td><td>2</td><td>937</td></tr>",
                            "<tr><td>67</td><td>2</td><td>938</td></tr>",
                            "<tr><td>67</td><td>2</td><td>939</td></tr>",
                            "<tr><td>67</td><td>2</td><td>940</td></tr>",
                            "<tr><td>67</td><td>2</td><td>941</td></tr>",
                            "<tr><td>68</td><td>2</td><td>942</td></tr>",
                            "<tr><td>68</td><td>2</td><td>943</td></tr>",
                            "<tr><td>68</td><td>2</td><td>944</td></tr>",
                            "<tr><td>62</td><td>2</td><td>945</td></tr>",
                            "<tr><td>62</td><td>2</td><td>946</td></tr>",
                            "<tr><td>62</td><td>2</td><td>947</td></tr>",
                            "<tr><td>62</td><td>2</td><td>948</td></tr>",
                            "<tr><td>62</td><td>2</td><td>949</td></tr>",
                            "<tr><td>63</td><td>2</td><td>950</td></tr>",
                            "<tr><td>63</td><td>2</td><td>951</td></tr>",
                            "<tr><td>63</td><td>2</td><td>952</td></tr>",
                            "<tr><td>63</td><td>2</td><td>953</td></tr>",
                            "<tr><td>64</td><td>2</td><td>954</td></tr>",
                            "<tr><td>64</td><td>2</td><td>955</td></tr>",
                            "<tr><td>64</td><td>2</td><td>956</td></tr>",
                            "<tr><td>64</td><td>2</td><td>957</td></tr>",
                            "<tr><td>64</td><td>2</td><td>958</td></tr>",
                            "<tr><td>64</td><td>2</td><td>959</td></tr>",
                            "<tr><td>65</td><td>2</td><td>960</td></tr>",
                            "<tr><td>55</td><td>2</td><td>961</td></tr>",
                            "<tr><td>55</td><td>2</td><td>962</td></tr>",
                            "<tr><td>55</td><td>2</td><td>963</td></tr>",
                            "<tr><td>55</td><td>2</td><td>964</td></tr>",
                            "<tr><td>55</td><td>2</td><td>965</td></tr>",
                            "<tr><td>55</td><td>2</td><td>966</td></tr>",
                            "<tr><td>55</td><td>2</td><td>967</td></tr>",
                            "<tr><td>55</td><td>2</td><td>968</td></tr>",
                            "<tr><td>56</td><td>2</td><td>969</td></tr>",
                            "<tr><td>56</td><td>2</td><td>970</td></tr>",
                            "<tr><td>57</td><td>2</td><td>971</td></tr>",
                            "<tr><td>57</td><td>2</td><td>972</td></tr>",
                            "<tr><td>57</td><td>2</td><td>973</td></tr>",
                            "<tr><td>57</td><td>2</td><td>974</td></tr>",
                            "<tr><td>58</td><td>2</td><td>975</td></tr>",
                            "<tr><td>58</td><td>2</td><td>976</td></tr>",
                            "<tr><td>58</td><td>2</td><td>977</td></tr>",
                            "<tr><td>58</td><td>2</td><td>978</td></tr>",
                            "<tr><td>58</td><td>2</td><td>979</td></tr>",
                            "<tr><td>58</td><td>2</td><td>980</td></tr>",
                            "<tr><td>58</td><td>2</td><td>981</td></tr>",
                            "<tr><td>58</td><td>2</td><td>982</td></tr>",
                            "<tr><td>58</td><td>2</td><td>983</td></tr>",
                            "<tr><td>58</td><td>2</td><td>984</td></tr>",
                            "<tr><td>58</td><td>2</td><td>985</td></tr>",
                            "<tr><td>58</td><td>2</td><td>986</td></tr>",
                            "<tr><td>58</td><td>2</td><td>987</td></tr>",
                            "<tr><td>59</td><td>2</td><td>988</td></tr>",
                            "<tr><td>59</td><td>2</td><td>989</td></tr>",
                            "<tr><td>59</td><td>2</td><td>990</td></tr>",
                            "<tr><td>59</td><td>2</td><td>991</td></tr>",
                            "<tr><td>59</td><td>2</td><td>992</td></tr>",
                            "<tr><td>59</td><td>2</td><td>993</td></tr>",
                            "<tr><td>59</td><td>2</td><td>994</td></tr>",
                            "<tr><td>45</td><td>2</td><td>995</td></tr>",
                            "<tr><td>45</td><td>2</td><td>996</td></tr>",
                            "<tr><td>45</td><td>2</td><td>997</td></tr>",
                            "<tr><td>45</td><td>2</td><td>998</td></tr>",
                            "<tr><td>45</td><td>2</td><td>999</td></tr>",
                            "<tr><td>42</td><td>2</td><td>1000</td></tr>",
                            "<tr><td>42</td><td>2</td><td>1001</td></tr>",
                            "<tr><td>42</td><td>2</td><td>1002</td></tr>",
                            "<tr><td>42</td><td>2</td><td>1003</td></tr>",
                            "<tr><td>42</td><td>2</td><td>1004</td></tr>",
                            "<tr><td>42</td><td>2</td><td>1005</td></tr>",
                            "<tr><td>32</td><td>2</td><td>1006</td></tr>",
                            "<tr><td>33</td><td>2</td><td>1007</td></tr>",
                            "<tr><td>33</td><td>2</td><td>1008</td></tr>",
                            "<tr><td>33</td><td>2</td><td>1009</td></tr>",
                            "<tr><td>33</td><td>2</td><td>1010</td></tr>",
                            "<tr><td>33</td><td>2</td><td>1011</td></tr>",
                            "<tr><td>33</td><td>2</td><td>1012</td></tr>",
                            "<tr><td>50</td><td>2</td><td>1013</td></tr>",
                            "<tr><td>50</td><td>2</td><td>1014</td></tr>",
                            "<tr><td>50</td><td>2</td><td>1015</td></tr>",
                            "<tr><td>50</td><td>2</td><td>1016</td></tr>",
                            "<tr><td>52</td><td>2</td><td>1017</td></tr>",
                            "<tr><td>52</td><td>2</td><td>1018</td></tr>",
                            "<tr><td>52</td><td>2</td><td>1019</td></tr>",
                            "<tr><td>52</td><td>2</td><td>1020</td></tr>",
                            "<tr><td>52</td><td>2</td><td>1021</td></tr>",
                            "<tr><td>53</td><td>2</td><td>1022</td></tr>",
                            "<tr><td>53</td><td>2</td><td>1023</td></tr>",
                            "<tr><td>47</td><td>2</td><td>1024</td></tr>",
                            "<tr><td>47</td><td>2</td><td>1025</td></tr>",
                            "<tr><td>26</td><td>2</td><td>1026</td></tr>",
                            "<tr><td>26</td><td>2</td><td>1027</td></tr>",
                            "</table>"
                        ]
                    }
                }
            ],
            "execution_count": 7
        },
        {
            "cell_type": "markdown",
            "source": [
                "3. <span style=\"background-color: rgb(255, 255, 255); color: rgb(0, 0, 0); font-family: &quot;Open Sans&quot;, sans-serif; font-size: 14.44px;\">Kérdezzük le szálláshelyenként, hogy ott összesen hány főre foglaltak (felnőtt + gyermek együttesen)!</span>\n",
                "\n",
                "a. Szűrjük le a legkevesebb foglalással rendelkező szálláshelyet!\n",
                "\n",
                "b. Csak a szálláshely neve és a foglalásszám jelenjen meg!"
            ],
            "metadata": {
                "azdata_cell_guid": "f4e18f58-100e-4502-a0e0-066884cbc7c4"
            },
            "attachments": {}
        },
        {
            "cell_type": "code",
            "source": [
                "SELECT szh.SZALLAS_NEV,\r\n",
                "       SUM(FELNOTT_SZAM + GYERMEK_SZAM) AS 'Gyerek felnőtt egybe'\r\n",
                "FROM Vendeg v \r\n",
                "    LEFT JOIN Foglalas f ON v.USERNEV = f.UGYFEL_FK\r\n",
                "    LEFT JOIN Szoba sz ON f.SZOBA_FK = sz.SZOBA_ID\r\n",
                "    LEFT JOIN Szallashely szh ON sz.SZALLAS_FK = szh.SZALLAS_ID\r\n",
                "GROUP BY szh.SZALLAS_NEV\r\n",
                "ORDER BY 2 DESC"
            ],
            "metadata": {
                "azdata_cell_guid": "73a50336-0396-412a-b50b-b1b223706413",
                "language": "sql"
            },
            "outputs": [
                {
                    "output_type": "display_data",
                    "data": {
                        "text/html": "Warning: Null value is eliminated by an aggregate or other SET operation."
                    },
                    "metadata": {}
                },
                {
                    "output_type": "display_data",
                    "data": {
                        "text/html": "(12 rows affected)"
                    },
                    "metadata": {}
                },
                {
                    "output_type": "display_data",
                    "data": {
                        "text/html": "Total execution time: 00:00:00.014"
                    },
                    "metadata": {}
                },
                {
                    "output_type": "execute_result",
                    "metadata": {},
                    "execution_count": 26,
                    "data": {
                        "application/vnd.dataresource+json": {
                            "schema": {
                                "fields": [
                                    {
                                        "name": "SZALLAS_NEV"
                                    },
                                    {
                                        "name": "Gyerek felnőtt egybe"
                                    }
                                ]
                            },
                            "data": [
                                {
                                    "SZALLAS_NEV": "Hotel Három Hattyú",
                                    "Gyerek felnőtt egybe": "504"
                                },
                                {
                                    "SZALLAS_NEV": "Gold Hotel",
                                    "Gyerek felnőtt egybe": "428"
                                },
                                {
                                    "SZALLAS_NEV": "Kentaur Hotel",
                                    "Gyerek felnőtt egybe": "420"
                                },
                                {
                                    "SZALLAS_NEV": "Fortuna Panzió",
                                    "Gyerek felnőtt egybe": "311"
                                },
                                {
                                    "SZALLAS_NEV": "Lagúna Hotel",
                                    "Gyerek felnőtt egybe": "291"
                                },
                                {
                                    "SZALLAS_NEV": "Sába-Ház",
                                    "Gyerek felnőtt egybe": "166"
                                },
                                {
                                    "SZALLAS_NEV": "Fortuna Apartman",
                                    "Gyerek felnőtt egybe": "106"
                                },
                                {
                                    "SZALLAS_NEV": "Szieszta Apartmanház",
                                    "Gyerek felnőtt egybe": "83"
                                },
                                {
                                    "SZALLAS_NEV": "Jáde panzió",
                                    "Gyerek felnőtt egybe": "66"
                                },
                                {
                                    "SZALLAS_NEV": "Partiszél Vendégház",
                                    "Gyerek felnőtt egybe": "63"
                                },
                                {
                                    "SZALLAS_NEV": "Családi Ház",
                                    "Gyerek felnőtt egybe": "52"
                                },
                                {
                                    "SZALLAS_NEV": "NULL",
                                    "Gyerek felnőtt egybe": "NULL"
                                }
                            ]
                        },
                        "text/html": [
                            "<table>",
                            "<tr><th>SZALLAS_NEV</th><th>Gyerek felnőtt egybe</th></tr>",
                            "<tr><td>Hotel Három Hattyú</td><td>504</td></tr>",
                            "<tr><td>Gold Hotel</td><td>428</td></tr>",
                            "<tr><td>Kentaur Hotel</td><td>420</td></tr>",
                            "<tr><td>Fortuna Panzió</td><td>311</td></tr>",
                            "<tr><td>Lagúna Hotel</td><td>291</td></tr>",
                            "<tr><td>Sába-Ház</td><td>166</td></tr>",
                            "<tr><td>Fortuna Apartman</td><td>106</td></tr>",
                            "<tr><td>Szieszta Apartmanház</td><td>83</td></tr>",
                            "<tr><td>Jáde panzió</td><td>66</td></tr>",
                            "<tr><td>Partiszél Vendégház</td><td>63</td></tr>",
                            "<tr><td>Családi Ház</td><td>52</td></tr>",
                            "<tr><td>NULL</td><td>NULL</td></tr>",
                            "</table>"
                        ]
                    }
                }
            ],
            "execution_count": 26
        }
    ]
}