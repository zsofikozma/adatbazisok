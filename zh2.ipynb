{
    "metadata": {
        "kernelspec": {
            "name": "SQL",
            "display_name": "SQL",
            "language": "sql"
        },
        "language_info": {
            "name": "sql",
            "version": ""
        }
    },
    "nbformat_minor": 2,
    "nbformat": 4,
    "cells": [
        {
            "cell_type": "markdown",
            "source": [
                "1\\. Készítsünk listát az egyes szálláshelyek átlagos csillagszámáról típus, illetve hely szerint csoportosítva (külön-külön)!\n",
                "- Az átlag 2 tizedesre kerekítve jelenjen meg\n",
                "- Hagyjuk ki azokat a szálláshelyeket, amelyek nevében kötőjel (-) van!"
            ],
            "metadata": {
                "azdata_cell_guid": "28bda761-859f-47bc-9de5-300818eecb28"
            },
            "attachments": {}
        },
        {
            "cell_type": "code",
            "source": [
                "SELECT  TIPUS,\r\n",
                "        HELY,\r\n",
                "        ROUND(AVG(CSILLAGOK_SZAMA), 3) AS 'Átlagos csillagszám'\r\n",
                "FROM szallashely \r\n",
                "WHERE TIPUS IS NOT NULL AND SZALLAS_NEV <> '-'\r\n",
                "GROUP BY TIPUS, HELY"
            ],
            "metadata": {
                "azdata_cell_guid": "05c79bb4-b765-46e5-990e-2a93772b1ddc",
                "language": "sql"
            },
            "outputs": [
                {
                    "output_type": "display_data",
                    "data": {
                        "text/html": "(16 rows affected)"
                    },
                    "metadata": {}
                },
                {
                    "output_type": "display_data",
                    "data": {
                        "text/html": "Total execution time: 00:00:00.008"
                    },
                    "metadata": {}
                },
                {
                    "output_type": "execute_result",
                    "metadata": {},
                    "execution_count": 2,
                    "data": {
                        "application/vnd.dataresource+json": {
                            "schema": {
                                "fields": [
                                    {
                                        "name": "TIPUS"
                                    },
                                    {
                                        "name": "HELY"
                                    },
                                    {
                                        "name": "Átlagos csillagszám"
                                    }
                                ]
                            },
                            "data": [
                                {
                                    "TIPUS": "Apartman",
                                    "HELY": "Balaton-dél",
                                    "Átlagos csillagszám": "0"
                                },
                                {
                                    "TIPUS": "Hotel",
                                    "HELY": "Balaton-dél",
                                    "Átlagos csillagszám": "3"
                                },
                                {
                                    "TIPUS": "panzió",
                                    "HELY": "Balaton-dél",
                                    "Átlagos csillagszám": "3"
                                },
                                {
                                    "TIPUS": "vendégház",
                                    "HELY": "Balaton-dél",
                                    "Átlagos csillagszám": "0"
                                },
                                {
                                    "TIPUS": "vendégház",
                                    "HELY": "Balaton-észak",
                                    "Átlagos csillagszám": "0"
                                },
                                {
                                    "TIPUS": "panzió",
                                    "HELY": "Békés megye",
                                    "Átlagos csillagszám": "3"
                                },
                                {
                                    "TIPUS": "Diákszálló",
                                    "HELY": "Budapest",
                                    "Átlagos csillagszám": "0"
                                },
                                {
                                    "TIPUS": "Hotel",
                                    "HELY": "Budapest",
                                    "Átlagos csillagszám": "3"
                                },
                                {
                                    "TIPUS": "panzió",
                                    "HELY": "Budapest",
                                    "Átlagos csillagszám": "3"
                                },
                                {
                                    "TIPUS": "panzió",
                                    "HELY": "Csongrád megye",
                                    "Átlagos csillagszám": "3"
                                },
                                {
                                    "TIPUS": "vendégház",
                                    "HELY": "Csongrád megye",
                                    "Átlagos csillagszám": "0"
                                },
                                {
                                    "TIPUS": "Apartman",
                                    "HELY": "Dél-Somogy",
                                    "Átlagos csillagszám": "0"
                                },
                                {
                                    "TIPUS": "vendégház",
                                    "HELY": "Dél-Somogy",
                                    "Átlagos csillagszám": "0"
                                },
                                {
                                    "TIPUS": "Apartman",
                                    "HELY": "Hajdúbihar megye",
                                    "Átlagos csillagszám": "0"
                                },
                                {
                                    "TIPUS": "Hotel",
                                    "HELY": "Pest megye",
                                    "Átlagos csillagszám": "3"
                                },
                                {
                                    "TIPUS": "Hotel",
                                    "HELY": "Tolna megye",
                                    "Átlagos csillagszám": "4"
                                }
                            ]
                        },
                        "text/html": [
                            "<table>",
                            "<tr><th>TIPUS</th><th>HELY</th><th>Átlagos csillagszám</th></tr>",
                            "<tr><td>Apartman</td><td>Balaton-dél</td><td>0</td></tr>",
                            "<tr><td>Hotel</td><td>Balaton-dél</td><td>3</td></tr>",
                            "<tr><td>panzió</td><td>Balaton-dél</td><td>3</td></tr>",
                            "<tr><td>vendégház</td><td>Balaton-dél</td><td>0</td></tr>",
                            "<tr><td>vendégház</td><td>Balaton-észak</td><td>0</td></tr>",
                            "<tr><td>panzió</td><td>Békés megye</td><td>3</td></tr>",
                            "<tr><td>Diákszálló</td><td>Budapest</td><td>0</td></tr>",
                            "<tr><td>Hotel</td><td>Budapest</td><td>3</td></tr>",
                            "<tr><td>panzió</td><td>Budapest</td><td>3</td></tr>",
                            "<tr><td>panzió</td><td>Csongrád megye</td><td>3</td></tr>",
                            "<tr><td>vendégház</td><td>Csongrád megye</td><td>0</td></tr>",
                            "<tr><td>Apartman</td><td>Dél-Somogy</td><td>0</td></tr>",
                            "<tr><td>vendégház</td><td>Dél-Somogy</td><td>0</td></tr>",
                            "<tr><td>Apartman</td><td>Hajdúbihar megye</td><td>0</td></tr>",
                            "<tr><td>Hotel</td><td>Pest megye</td><td>3</td></tr>",
                            "<tr><td>Hotel</td><td>Tolna megye</td><td>4</td></tr>",
                            "</table>"
                        ]
                    }
                }
            ],
            "execution_count": 2
        }
    ]
}