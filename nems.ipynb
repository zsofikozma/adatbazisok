{
    "metadata": {
        "kernelspec": {
            "name": "SQL",
            "display_name": "SQL",
            "language": "sql"
        },
        "language_info": {
            "name": "sql",
            "version": ""
        }
    },
    "nbformat_minor": 2,
    "nbformat": 4,
    "cells": [
        {
            "cell_type": "markdown",
            "source": [
                "Listázzuk a foglalások számát szobánként, azon belül a foglalás éve szerint csoportosítva!\n",
                "\n",
                "- Az évnél a Mettől oszlopot használjuk\n",
                "- Jelenítsük meg a részösszegeket és a végösszeget is úgy, hogy ne jelenjen meg minden Oszlop/NULL kombináció!\n",
                "- A részösszegeket jelöljük megfelelően, pl. Részösszeg vagy Szoba összesen"
            ],
            "metadata": {
                "azdata_cell_guid": "e2cbc831-7364-4fae-a109-a86e985e53cd"
            },
            "attachments": {}
        },
        {
            "cell_type": "code",
            "source": [
                "SELECT IIF(GROUPING_ID(SZOBA_ID)=1,'Összesen',cast(SZOBA_ID as varchar(10))),\r\n",
                "    case GROUPING_ID(year(METTOL))\r\n",
                "        when 0 then cast(year(METTOL) AS varchar(10))\r\n",
                "        when 1 then 'Részösszeg'\r\n",
                "        when 3 then 'Összesen'\r\n",
                "    END,\r\n",
                "       count(*)\r\n",
                " FROM szoba sz join Szallashely szh on sz.SZALLAS_FK = szh.SZALLAS_ID\r\n",
                "              join Foglalas f on f.SZOBA_FK =sz.SZOBA_ID\r\n",
                "GROUP BY rollup (SZOBA_ID,YEAR(METTOL))"
            ],
            "metadata": {
                "azdata_cell_guid": "d3ad9b44-36fd-4584-bf23-73b65ca95296",
                "language": "sql"
            },
            "outputs": [],
            "execution_count": null
        },
        {
            "cell_type": "markdown",
            "source": [
                ""
            ],
            "metadata": {
                "azdata_cell_guid": "d8989355-945b-461c-8318-1b23eb8d2880"
            }
        },
        {
            "cell_type": "code",
            "source": [
                "SELECT  SZOBA_FK,\r\n",
                "        FOGLALAS_PK,\r\n",
                "        LAG(DATEDIFF(DAY,METTOL,MEDDIG)) OVER(PARTITION BY SZOBA_FK ORDER BY METTOL)\r\n",
                "FROM Foglalas\r\n",
                "WHERE SZOBA_FK IS NOT NULL\r\n",
                "ORDER BY SZOBA_FK"
            ],
            "metadata": {
                "azdata_cell_guid": "df90a3c1-1f8a-4a69-9d5c-98746a8d3b08",
                "language": "sql"
            },
            "outputs": [],
            "execution_count": null
        },
        {
            "cell_type": "code",
            "source": [
                "SELECT szh.SZALLAS_NEV, \r\n",
                "        count(f.SZOBA_FK) \r\n",
                "from Vendeg v LEFT JOIN Foglalas f ON v.USERNEV = f.UGYFEL_FK\r\n",
                "    LEFT JOIN Szoba sz ON f.SZOBA_FK = sz.SZOBA_ID\r\n",
                "    LEFT JOIN Szallashely szh ON sz.SZALLAS_FK = szh.SZALLAS_ID\r\n",
                "WHERE SZALLAS_NEV is not null\r\n",
                "group by SZALLAS_NEV"
            ],
            "metadata": {
                "azdata_cell_guid": "21e13d14-6fe4-4be6-af10-1a70ec2e8ede",
                "language": "sql"
            },
            "outputs": [],
            "execution_count": null
        },
        {
            "cell_type": "markdown",
            "source": [
                "Kérdezzük le az átlagosnál kevesebb főre történt foglalások adatait!\n",
                "\n",
                "a. Egy új oszlopban jelenjen meg az ügyfél neve is!\n",
                "\n",
                "b. Egy másik új oszlop mutassa meg, hogy az ügyfél előző három foglalása átlagosan hány főre történt! Az oszlop neve legyen 'Előző három foglalás átlaga'\n",
                "\n",
                "c. A listában azon vendégek is jelenjenek meg, akik még nem foglaltak!"
            ],
            "metadata": {
                "azdata_cell_guid": "8a2f1af8-3485-4d32-9f3b-574c2459817c"
            },
            "attachments": {}
        },
        {
            "cell_type": "code",
            "source": [
                "SELECT *, v.NEV,\r\n",
                "        AVG((f.FELNOTT_SZAM+f.GYERMEK_SZAM))\r\n",
                "           OVER(ORDER BY (f.FELNOTT_SZAM+f.GYERMEK_SZAM) ROWS BETWEEN 3 PRECEDING AND 0 FOLLOWING) AS 'Előző három foglalás átlaga'\r\n",
                "FROM Vendeg v LEFT JOIN Foglalas f ON f.UGYFEL_FK = v.USERNEV\r\n",
                "WHERE (f.FELNOTT_SZAM+f.GYERMEK_SZAM) <\r\n",
                "(\r\n",
                " SELECT avg(FELNOTT_SZAM+GYERMEK_SZAM)\r\n",
                " FROM Foglalas\r\n",
                ")"
            ],
            "metadata": {
                "azdata_cell_guid": "66b9ff89-c24d-417d-adf1-4110d8bde971",
                "language": "sql",
                "tags": [
                    "hide_input"
                ]
            },
            "outputs": [],
            "execution_count": null
        },
        {
            "cell_type": "markdown",
            "source": [
                "Rangsoroljuk az egyes szobákat a foglalások száma, azon belül férőhely szerint!\n",
                "\n",
                "- Holtverseny esetén a sorszámok sűrűn kövessék egymást\n",
                "- Az 1-es számot a legtöbbet foglalt, azon belül legkevesebb férőhelyű szoba kapja\n",
                "- Csak a szoba azonosítója, a férőhely és a helyezés jelenjen meg"
            ],
            "metadata": {
                "azdata_cell_guid": "0ea4f31a-c12a-4a31-84dd-8699c39aea24"
            },
            "attachments": {}
        },
        {
            "cell_type": "code",
            "source": [
                "SELECT sz.SZOBA_ID, sz.ferohely,\r\n",
                "        RANK()  OVER (PARTITION count(f.FOGLALAS_PK) ORDER BY sz.ferohely DESC)\r\n",
                "FROM Szoba sz JOIN Foglalas f ON sz.SZOBA_ID=f.SZOBA_FK"
            ],
            "metadata": {
                "azdata_cell_guid": "fb8e91d8-a3b7-43a1-9873-6389038c59ff",
                "language": "sql"
            },
            "outputs": [],
            "execution_count": null
        }
    ]
}